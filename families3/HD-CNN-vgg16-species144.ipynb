{
 "cells": [
  {
   "cell_type": "code",
   "execution_count": 1,
   "metadata": {
    "scrolled": true
   },
   "outputs": [],
   "source": [
    "from fastai.vision.all import *"
   ]
  },
  {
   "cell_type": "code",
   "execution_count": 2,
   "metadata": {
    "scrolled": true
   },
   "outputs": [],
   "source": [
    "path = Path('/root/Documents/images')"
   ]
  },
  {
   "cell_type": "code",
   "execution_count": 3,
   "metadata": {
    "scrolled": true
   },
   "outputs": [
    {
     "data": {
      "text/plain": [
       "(#144) [Path('/root/Documents/images/Amblyglyphidodon aureus'),Path('/root/Documents/images/Carassius auratus'),Path('/root/Documents/images/Abudefduf vaigiensis'),Path('/root/Documents/images/Cyprinella lutrensis'),Path('/root/Documents/images/Luxilus cornutus'),Path('/root/Documents/images/Chrysiptera taupou'),Path('/root/Documents/images/Phoxinus phoxinus'),Path('/root/Documents/images/Abudefduf sexfasciatus'),Path('/root/Documents/images/Notropis hudsonius'),Path('/root/Documents/images/Hesperoleucus symmetricus')...]"
      ]
     },
     "execution_count": 3,
     "metadata": {},
     "output_type": "execute_result"
    }
   ],
   "source": [
    "path.ls()"
   ]
  },
  {
   "cell_type": "code",
   "execution_count": 4,
   "metadata": {
    "scrolled": true
   },
   "outputs": [],
   "source": [
    "df_path = Path('/root/Documents/')"
   ]
  },
  {
   "cell_type": "code",
   "execution_count": 5,
   "metadata": {
    "scrolled": true
   },
   "outputs": [],
   "source": [
    "df = pd.read_csv(df_path/'csv/families_3.csv')"
   ]
  },
  {
   "cell_type": "code",
   "execution_count": 6,
   "metadata": {},
   "outputs": [],
   "source": [
    "weights_df = pd.read_csv(df_path/'csv/families3-weights.csv')\n",
    "weights_family_df = pd.read_csv(df_path/'csv/families3-weights-family.csv')"
   ]
  },
  {
   "cell_type": "code",
   "execution_count": 7,
   "metadata": {},
   "outputs": [
    {
     "data": {
      "text/html": [
       "<div>\n",
       "<style scoped>\n",
       "    .dataframe tbody tr th:only-of-type {\n",
       "        vertical-align: middle;\n",
       "    }\n",
       "\n",
       "    .dataframe tbody tr th {\n",
       "        vertical-align: top;\n",
       "    }\n",
       "\n",
       "    .dataframe thead th {\n",
       "        text-align: right;\n",
       "    }\n",
       "</style>\n",
       "<table border=\"1\" class=\"dataframe\">\n",
       "  <thead>\n",
       "    <tr style=\"text-align: right;\">\n",
       "      <th></th>\n",
       "      <th>Specie</th>\n",
       "      <th>Count</th>\n",
       "      <th>Weight</th>\n",
       "    </tr>\n",
       "  </thead>\n",
       "  <tbody>\n",
       "    <tr>\n",
       "      <th>0</th>\n",
       "      <td>Abramis brama</td>\n",
       "      <td>300</td>\n",
       "      <td>1.999722</td>\n",
       "    </tr>\n",
       "    <tr>\n",
       "      <th>1</th>\n",
       "      <td>Abudefduf abdominalis</td>\n",
       "      <td>177</td>\n",
       "      <td>3.389360</td>\n",
       "    </tr>\n",
       "    <tr>\n",
       "      <th>2</th>\n",
       "      <td>Abudefduf bengalensis</td>\n",
       "      <td>299</td>\n",
       "      <td>2.006410</td>\n",
       "    </tr>\n",
       "    <tr>\n",
       "      <th>3</th>\n",
       "      <td>Abudefduf saxatilis</td>\n",
       "      <td>1423</td>\n",
       "      <td>0.421586</td>\n",
       "    </tr>\n",
       "    <tr>\n",
       "      <th>4</th>\n",
       "      <td>Abudefduf septemfasciatus</td>\n",
       "      <td>128</td>\n",
       "      <td>4.686849</td>\n",
       "    </tr>\n",
       "    <tr>\n",
       "      <th>...</th>\n",
       "      <td>...</td>\n",
       "      <td>...</td>\n",
       "      <td>...</td>\n",
       "    </tr>\n",
       "    <tr>\n",
       "      <th>139</th>\n",
       "      <td>Stegastes partitus</td>\n",
       "      <td>174</td>\n",
       "      <td>3.447797</td>\n",
       "    </tr>\n",
       "    <tr>\n",
       "      <th>140</th>\n",
       "      <td>Stegastes planifrons</td>\n",
       "      <td>178</td>\n",
       "      <td>3.370318</td>\n",
       "    </tr>\n",
       "    <tr>\n",
       "      <th>141</th>\n",
       "      <td>Systomus rubripinnis</td>\n",
       "      <td>587</td>\n",
       "      <td>1.022005</td>\n",
       "    </tr>\n",
       "    <tr>\n",
       "      <th>142</th>\n",
       "      <td>Telestes muticellus</td>\n",
       "      <td>144</td>\n",
       "      <td>4.166088</td>\n",
       "    </tr>\n",
       "    <tr>\n",
       "      <th>143</th>\n",
       "      <td>Tinca tinca</td>\n",
       "      <td>246</td>\n",
       "      <td>2.438686</td>\n",
       "    </tr>\n",
       "  </tbody>\n",
       "</table>\n",
       "<p>144 rows × 3 columns</p>\n",
       "</div>"
      ],
      "text/plain": [
       "                        Specie  Count    Weight\n",
       "0                Abramis brama    300  1.999722\n",
       "1        Abudefduf abdominalis    177  3.389360\n",
       "2        Abudefduf bengalensis    299  2.006410\n",
       "3          Abudefduf saxatilis   1423  0.421586\n",
       "4    Abudefduf septemfasciatus    128  4.686849\n",
       "..                         ...    ...       ...\n",
       "139         Stegastes partitus    174  3.447797\n",
       "140       Stegastes planifrons    178  3.370318\n",
       "141       Systomus rubripinnis    587  1.022005\n",
       "142        Telestes muticellus    144  4.166088\n",
       "143                Tinca tinca    246  2.438686\n",
       "\n",
       "[144 rows x 3 columns]"
      ]
     },
     "execution_count": 7,
     "metadata": {},
     "output_type": "execute_result"
    }
   ],
   "source": [
    "weights_df"
   ]
  },
  {
   "cell_type": "markdown",
   "metadata": {},
   "source": [
    "# HD-CNN"
   ]
  },
  {
   "cell_type": "code",
   "execution_count": 8,
   "metadata": {},
   "outputs": [],
   "source": [
    "n_classes = len(set(df['Specie']))"
   ]
  },
  {
   "cell_type": "code",
   "execution_count": 9,
   "metadata": {
    "scrolled": true
   },
   "outputs": [
    {
     "name": "stderr",
     "output_type": "stream",
     "text": [
      "Downloading: \"https://download.pytorch.org/models/vgg16_bn-6c64b313.pth\" to /root/.cache/torch/hub/checkpoints/vgg16_bn-6c64b313.pth\n"
     ]
    },
    {
     "data": {
      "application/vnd.jupyter.widget-view+json": {
       "model_id": "4b006fddac144554b1b52bec82bc9523",
       "version_major": 2,
       "version_minor": 0
      },
      "text/plain": [
       "HBox(children=(FloatProgress(value=0.0, max=553507836.0), HTML(value='')))"
      ]
     },
     "metadata": {},
     "output_type": "display_data"
    },
    {
     "name": "stdout",
     "output_type": "stream",
     "text": [
      "\n"
     ]
    },
    {
     "data": {
      "text/plain": [
       "Sequential(\n",
       "  (0): Sequential(\n",
       "    (0): Conv2d(3, 64, kernel_size=(3, 3), stride=(1, 1), padding=(1, 1))\n",
       "    (1): BatchNorm2d(64, eps=1e-05, momentum=0.1, affine=True, track_running_stats=True)\n",
       "    (2): ReLU(inplace=True)\n",
       "    (3): Conv2d(64, 64, kernel_size=(3, 3), stride=(1, 1), padding=(1, 1))\n",
       "    (4): BatchNorm2d(64, eps=1e-05, momentum=0.1, affine=True, track_running_stats=True)\n",
       "    (5): ReLU(inplace=True)\n",
       "    (6): MaxPool2d(kernel_size=2, stride=2, padding=0, dilation=1, ceil_mode=False)\n",
       "    (7): Conv2d(64, 128, kernel_size=(3, 3), stride=(1, 1), padding=(1, 1))\n",
       "    (8): BatchNorm2d(128, eps=1e-05, momentum=0.1, affine=True, track_running_stats=True)\n",
       "    (9): ReLU(inplace=True)\n",
       "    (10): Conv2d(128, 128, kernel_size=(3, 3), stride=(1, 1), padding=(1, 1))\n",
       "    (11): BatchNorm2d(128, eps=1e-05, momentum=0.1, affine=True, track_running_stats=True)\n",
       "    (12): ReLU(inplace=True)\n",
       "    (13): MaxPool2d(kernel_size=2, stride=2, padding=0, dilation=1, ceil_mode=False)\n",
       "    (14): Conv2d(128, 256, kernel_size=(3, 3), stride=(1, 1), padding=(1, 1))\n",
       "    (15): BatchNorm2d(256, eps=1e-05, momentum=0.1, affine=True, track_running_stats=True)\n",
       "    (16): ReLU(inplace=True)\n",
       "    (17): Conv2d(256, 256, kernel_size=(3, 3), stride=(1, 1), padding=(1, 1))\n",
       "    (18): BatchNorm2d(256, eps=1e-05, momentum=0.1, affine=True, track_running_stats=True)\n",
       "    (19): ReLU(inplace=True)\n",
       "    (20): Conv2d(256, 256, kernel_size=(3, 3), stride=(1, 1), padding=(1, 1))\n",
       "    (21): BatchNorm2d(256, eps=1e-05, momentum=0.1, affine=True, track_running_stats=True)\n",
       "    (22): ReLU(inplace=True)\n",
       "    (23): MaxPool2d(kernel_size=2, stride=2, padding=0, dilation=1, ceil_mode=False)\n",
       "    (24): Conv2d(256, 512, kernel_size=(3, 3), stride=(1, 1), padding=(1, 1))\n",
       "    (25): BatchNorm2d(512, eps=1e-05, momentum=0.1, affine=True, track_running_stats=True)\n",
       "    (26): ReLU(inplace=True)\n",
       "    (27): Conv2d(512, 512, kernel_size=(3, 3), stride=(1, 1), padding=(1, 1))\n",
       "    (28): BatchNorm2d(512, eps=1e-05, momentum=0.1, affine=True, track_running_stats=True)\n",
       "    (29): ReLU(inplace=True)\n",
       "    (30): Conv2d(512, 512, kernel_size=(3, 3), stride=(1, 1), padding=(1, 1))\n",
       "    (31): BatchNorm2d(512, eps=1e-05, momentum=0.1, affine=True, track_running_stats=True)\n",
       "    (32): ReLU(inplace=True)\n",
       "    (33): MaxPool2d(kernel_size=2, stride=2, padding=0, dilation=1, ceil_mode=False)\n",
       "    (34): Conv2d(512, 512, kernel_size=(3, 3), stride=(1, 1), padding=(1, 1))\n",
       "    (35): BatchNorm2d(512, eps=1e-05, momentum=0.1, affine=True, track_running_stats=True)\n",
       "    (36): ReLU(inplace=True)\n",
       "    (37): Conv2d(512, 512, kernel_size=(3, 3), stride=(1, 1), padding=(1, 1))\n",
       "    (38): BatchNorm2d(512, eps=1e-05, momentum=0.1, affine=True, track_running_stats=True)\n",
       "    (39): ReLU(inplace=True)\n",
       "    (40): Conv2d(512, 512, kernel_size=(3, 3), stride=(1, 1), padding=(1, 1))\n",
       "    (41): BatchNorm2d(512, eps=1e-05, momentum=0.1, affine=True, track_running_stats=True)\n",
       "    (42): ReLU(inplace=True)\n",
       "    (43): MaxPool2d(kernel_size=2, stride=2, padding=0, dilation=1, ceil_mode=False)\n",
       "  )\n",
       ")"
      ]
     },
     "execution_count": 9,
     "metadata": {},
     "output_type": "execute_result"
    }
   ],
   "source": [
    "model = vgg16_bn\n",
    "body = create_body(model, cut=-2)\n",
    "body"
   ]
  },
  {
   "cell_type": "code",
   "execution_count": 10,
   "metadata": {
    "scrolled": true
   },
   "outputs": [
    {
     "data": {
      "text/plain": [
       "Sequential(\n",
       "  (0): AdaptiveConcatPool2d(\n",
       "    (ap): AdaptiveAvgPool2d(output_size=1)\n",
       "    (mp): AdaptiveMaxPool2d(output_size=1)\n",
       "  )\n",
       "  (1): Flatten(full=False)\n",
       "  (2): BatchNorm1d(1024, eps=1e-05, momentum=0.1, affine=True, track_running_stats=True)\n",
       "  (3): Dropout(p=0.25, inplace=False)\n",
       "  (4): Linear(in_features=1024, out_features=512, bias=False)\n",
       "  (5): ReLU(inplace=True)\n",
       "  (6): BatchNorm1d(512, eps=1e-05, momentum=0.1, affine=True, track_running_stats=True)\n",
       "  (7): Dropout(p=0.5, inplace=False)\n",
       "  (8): Linear(in_features=512, out_features=144, bias=False)\n",
       ")"
      ]
     },
     "execution_count": 10,
     "metadata": {},
     "output_type": "execute_result"
    }
   ],
   "source": [
    "head = create_head(512*2,n_classes)\n",
    "head"
   ]
  },
  {
   "cell_type": "code",
   "execution_count": 11,
   "metadata": {
    "scrolled": true
   },
   "outputs": [],
   "source": [
    "_body = body[0]\n",
    "block1 = _body[:7]\n",
    "block2 = _body[7:14]\n",
    "block3 = _body[14:24]\n",
    "block4 = _body[24:34]\n",
    "block5 = _body[34:]"
   ]
  },
  {
   "cell_type": "code",
   "execution_count": 12,
   "metadata": {
    "scrolled": true
   },
   "outputs": [],
   "source": [
    "def custom_get_y(o):\n",
    "    fine_label = o['Specie']\n",
    "    coarse1_label = o['Family']\n",
    "    return [coarse1_label, fine_label]"
   ]
  },
  {
   "cell_type": "code",
   "execution_count": 13,
   "metadata": {},
   "outputs": [],
   "source": [
    "def count_classes_per_coarse(labels_df):\n",
    "    result = {}\n",
    "    for c in set(labels_df['coarse']):\n",
    "        classes_with_c = labels_df[labels_df['coarse']==c]\n",
    "        result[c] = len(classes_with_c)\n",
    "    return result"
   ]
  },
  {
   "cell_type": "code",
   "execution_count": 14,
   "metadata": {},
   "outputs": [
    {
     "data": {
      "text/html": [
       "<div>\n",
       "<style scoped>\n",
       "    .dataframe tbody tr th:only-of-type {\n",
       "        vertical-align: middle;\n",
       "    }\n",
       "\n",
       "    .dataframe tbody tr th {\n",
       "        vertical-align: top;\n",
       "    }\n",
       "\n",
       "    .dataframe thead th {\n",
       "        text-align: right;\n",
       "    }\n",
       "</style>\n",
       "<table border=\"1\" class=\"dataframe\">\n",
       "  <thead>\n",
       "    <tr style=\"text-align: right;\">\n",
       "      <th></th>\n",
       "      <th>fine</th>\n",
       "      <th>coarse</th>\n",
       "    </tr>\n",
       "  </thead>\n",
       "  <tbody>\n",
       "    <tr>\n",
       "      <th>0</th>\n",
       "      <td>Hypophthalmichthys molitrix</td>\n",
       "      <td>Cyprinidae</td>\n",
       "    </tr>\n",
       "    <tr>\n",
       "      <th>1</th>\n",
       "      <td>Dascyllus trimaculatus</td>\n",
       "      <td>Pomacentridae</td>\n",
       "    </tr>\n",
       "    <tr>\n",
       "      <th>2</th>\n",
       "      <td>Micropterus dolomieu</td>\n",
       "      <td>Centrarchidae</td>\n",
       "    </tr>\n",
       "    <tr>\n",
       "      <th>3</th>\n",
       "      <td>Cyprinus carpio</td>\n",
       "      <td>Cyprinidae</td>\n",
       "    </tr>\n",
       "    <tr>\n",
       "      <th>4</th>\n",
       "      <td>Abudefduf sordidus</td>\n",
       "      <td>Pomacentridae</td>\n",
       "    </tr>\n",
       "    <tr>\n",
       "      <th>...</th>\n",
       "      <td>...</td>\n",
       "      <td>...</td>\n",
       "    </tr>\n",
       "    <tr>\n",
       "      <th>86383</th>\n",
       "      <td>Pseudorasbora parva</td>\n",
       "      <td>Cyprinidae</td>\n",
       "    </tr>\n",
       "    <tr>\n",
       "      <th>86384</th>\n",
       "      <td>Parazacco spilurus</td>\n",
       "      <td>Cyprinidae</td>\n",
       "    </tr>\n",
       "    <tr>\n",
       "      <th>86385</th>\n",
       "      <td>Micropterus salmoides</td>\n",
       "      <td>Centrarchidae</td>\n",
       "    </tr>\n",
       "    <tr>\n",
       "      <th>86386</th>\n",
       "      <td>Lepomis macrochirus</td>\n",
       "      <td>Centrarchidae</td>\n",
       "    </tr>\n",
       "    <tr>\n",
       "      <th>86387</th>\n",
       "      <td>Abudefduf vaigiensis</td>\n",
       "      <td>Pomacentridae</td>\n",
       "    </tr>\n",
       "  </tbody>\n",
       "</table>\n",
       "<p>86388 rows × 2 columns</p>\n",
       "</div>"
      ],
      "text/plain": [
       "                              fine         coarse\n",
       "0      Hypophthalmichthys molitrix     Cyprinidae\n",
       "1           Dascyllus trimaculatus  Pomacentridae\n",
       "2             Micropterus dolomieu  Centrarchidae\n",
       "3                  Cyprinus carpio     Cyprinidae\n",
       "4               Abudefduf sordidus  Pomacentridae\n",
       "...                            ...            ...\n",
       "86383          Pseudorasbora parva     Cyprinidae\n",
       "86384           Parazacco spilurus     Cyprinidae\n",
       "86385        Micropterus salmoides  Centrarchidae\n",
       "86386          Lepomis macrochirus  Centrarchidae\n",
       "86387         Abudefduf vaigiensis  Pomacentridae\n",
       "\n",
       "[86388 rows x 2 columns]"
      ]
     },
     "execution_count": 14,
     "metadata": {},
     "output_type": "execute_result"
    }
   ],
   "source": [
    "labels_df = pd.DataFrame.from_dict({'fine': df['Specie'].values, 'coarse': df['Family'].values})\n",
    "labels_df"
   ]
  },
  {
   "cell_type": "code",
   "execution_count": 15,
   "metadata": {},
   "outputs": [
    {
     "data": {
      "text/plain": [
       "{'Cyprinidae': 28196, 'Pomacentridae': 19638, 'Centrarchidae': 38554}"
      ]
     },
     "execution_count": 15,
     "metadata": {},
     "output_type": "execute_result"
    }
   ],
   "source": [
    "classes_per_coarse = count_classes_per_coarse(labels_df)\n",
    "classes_per_coarse"
   ]
  },
  {
   "cell_type": "code",
   "execution_count": 16,
   "metadata": {
    "scrolled": true
   },
   "outputs": [],
   "source": [
    "class VGGCustomModel(Module):\n",
    "    def __init__(self, model, classes_per_coarse):\n",
    "        n_coarse_classes = len(classes_per_coarse.keys())\n",
    "        self.shared_layers = create_body(model, cut=-2)[0][:24]\n",
    "        self.coarse_component = create_body(model, cut=-2)[0][24:]\n",
    "        self.coarse_head = create_head(512*2,n_coarse_classes)\n",
    "        self.fine_components = nn.ModuleList([create_body(model, cut=-2)[0][24:] for _ in range(n_coarse_classes)])\n",
    "        self.fine_heads = nn.ModuleList([create_head(512*2, 144) for num_classes in classes_per_coarse.values()])\n",
    "        \n",
    "\n",
    "    def forward(self, x):\n",
    "        x = self.shared_layers(x)\n",
    "        coarse_x = self.coarse_component(x)\n",
    "        coarse1_label = self.coarse_head(coarse_x)\n",
    "        coarse_idx = coarse1_label[0].argmax()\n",
    "        x = self.fine_components[coarse_idx](x)\n",
    "        fine_label = self.fine_heads[coarse_idx](x)\n",
    "        return {\n",
    "            'fine_label': fine_label,\n",
    "            'coarse1_label': coarse1_label\n",
    "        }"
   ]
  },
  {
   "cell_type": "code",
   "execution_count": 17,
   "metadata": {
    "scrolled": true
   },
   "outputs": [],
   "source": [
    "model = VGGCustomModel(vgg16_bn, classes_per_coarse)"
   ]
  },
  {
   "cell_type": "code",
   "execution_count": 18,
   "metadata": {
    "scrolled": true
   },
   "outputs": [],
   "source": [
    "class CustomCategorize(DisplayedTransform):\n",
    "    \"Reversible transform of category string to `vocab` id\"\n",
    "    loss_func,order=CrossEntropyLossFlat(),1\n",
    "    def __init__(self, vocab=None, vocab_coarse1=None, vocab_coarse2=None, sort=True, add_na=False, num_y=1):\n",
    "        store_attr()\n",
    "        self.vocab = None if vocab is None else CategoryMap(vocab, sort=sort, add_na=add_na)\n",
    "        self.vocab_coarse1 = None if vocab_coarse1 is None else CategoryMap(vocab_coarse1, sort=sort, add_na=add_na)\n",
    "\n",
    "    def setups(self, dsets):\n",
    "        fine_dsets = [d[1] for d in dsets]\n",
    "        coarse1_dsets = [d[0] for d in dsets]\n",
    "        if self.vocab is None and dsets is not None: self.vocab = CategoryMap(fine_dsets, sort=self.sort, add_na=self.add_na)\n",
    "        if self.vocab_coarse1 is None and dsets is not None: self.vocab_coarse1 = CategoryMap(coarse1_dsets, sort=self.sort, add_na=self.add_na)\n",
    "        self.c = len(self.vocab)\n",
    "\n",
    "    def encodes(self, o): return {'fine_label': TensorCategory(self.vocab.o2i[o[1]]),\n",
    "                                  'coarse1_label': TensorCategory(self.vocab_coarse1.o2i[o[0]])\n",
    "                                 }\n",
    "    def decodes(self, o): return Category      (self.vocab    [o])"
   ]
  },
  {
   "cell_type": "code",
   "execution_count": 19,
   "metadata": {
    "scrolled": true
   },
   "outputs": [],
   "source": [
    "def CustomCategoryBlock(vocab=None, sort=True, add_na=False, num_y=1):\n",
    "    \"`TransformBlock` for single-label categorical targets\"\n",
    "    return TransformBlock(type_tfms=CustomCategorize(vocab=vocab, sort=sort, add_na=add_na))"
   ]
  },
  {
   "cell_type": "code",
   "execution_count": 20,
   "metadata": {
    "scrolled": true
   },
   "outputs": [],
   "source": [
    "def custom_splitter(model):\n",
    "    return [params(model.shared_layers),\n",
    "            params(model.coarse_component),\n",
    "            params(model.fine_components),\n",
    "            params(model.coarse_head),\n",
    "            params(model.fine_heads)]"
   ]
  },
  {
   "cell_type": "code",
   "execution_count": 21,
   "metadata": {
    "scrolled": true
   },
   "outputs": [],
   "source": [
    "fishes = DataBlock(blocks = (ImageBlock, CustomCategoryBlock),\n",
    "                 splitter=ColSplitter(),\n",
    "                 get_x = ColReader(5, pref=path),\n",
    "                 get_y=custom_get_y,\n",
    "                 item_tfms=RandomResizedCrop(336, min_scale=0.5),\n",
    "                 batch_tfms=aug_transforms())\n",
    "dls = fishes.dataloaders(df)"
   ]
  },
  {
   "cell_type": "code",
   "execution_count": 22,
   "metadata": {
    "scrolled": true
   },
   "outputs": [
    {
     "data": {
      "text/plain": [
       "((#69110) [(PILImage mode=RGB size=768x1024, {'fine_label': TensorCategory(62), 'coarse1_label': TensorCategory(1)}),(PILImage mode=RGB size=1024x768, {'fine_label': TensorCategory(58), 'coarse1_label': TensorCategory(2)}),(PILImage mode=RGB size=768x1024, {'fine_label': TensorCategory(79), 'coarse1_label': TensorCategory(0)}),(PILImage mode=RGB size=1024x768, {'fine_label': TensorCategory(52), 'coarse1_label': TensorCategory(1)}),(PILImage mode=RGB size=768x1024, {'fine_label': TensorCategory(6), 'coarse1_label': TensorCategory(2)}),(PILImage mode=RGB size=1024x768, {'fine_label': TensorCategory(69), 'coarse1_label': TensorCategory(0)}),(PILImage mode=RGB size=1024x715, {'fine_label': TensorCategory(130), 'coarse1_label': TensorCategory(1)}),(PILImage mode=RGB size=1024x768, {'fine_label': TensorCategory(108), 'coarse1_label': TensorCategory(1)}),(PILImage mode=RGB size=1024x768, {'fine_label': TensorCategory(118), 'coarse1_label': TensorCategory(0)}),(PILImage mode=RGB size=1024x768, {'fine_label': TensorCategory(53), 'coarse1_label': TensorCategory(1)})...],\n",
       " (#17278) [(PILImage mode=RGB size=1024x768, {'fine_label': TensorCategory(92), 'coarse1_label': TensorCategory(1)}),(PILImage mode=RGB size=768x1024, {'fine_label': TensorCategory(117), 'coarse1_label': TensorCategory(0)}),(PILImage mode=RGB size=1024x768, {'fine_label': TensorCategory(83), 'coarse1_label': TensorCategory(0)}),(PILImage mode=RGB size=1024x768, {'fine_label': TensorCategory(83), 'coarse1_label': TensorCategory(0)}),(PILImage mode=RGB size=768x1024, {'fine_label': TensorCategory(26), 'coarse1_label': TensorCategory(1)}),(PILImage mode=RGB size=576x1024, {'fine_label': TensorCategory(79), 'coarse1_label': TensorCategory(0)}),(PILImage mode=RGB size=988x742, {'fine_label': TensorCategory(8), 'coarse1_label': TensorCategory(2)}),(PILImage mode=RGB size=768x1024, {'fine_label': TensorCategory(48), 'coarse1_label': TensorCategory(1)}),(PILImage mode=RGB size=1024x768, {'fine_label': TensorCategory(101), 'coarse1_label': TensorCategory(1)}),(PILImage mode=RGB size=1024x761, {'fine_label': TensorCategory(132), 'coarse1_label': TensorCategory(2)})...])"
      ]
     },
     "execution_count": 22,
     "metadata": {},
     "output_type": "execute_result"
    }
   ],
   "source": [
    "dls.train_ds, dls.valid_ds"
   ]
  },
  {
   "cell_type": "code",
   "execution_count": 23,
   "metadata": {},
   "outputs": [],
   "source": [
    "weights = tensor([float(weights_df[weights_df['Specie']==c]['Weight']) for c in dls.vocab]).cuda()\n",
    "weights_family = tensor([float(weights_family_df[weights_family_df['Family']==c]['Weight']) for c in dls.vocab_coarse1]).cuda()"
   ]
  },
  {
   "cell_type": "code",
   "execution_count": 24,
   "metadata": {
    "scrolled": true
   },
   "outputs": [],
   "source": [
    "def loss_func(out, targ):\n",
    "    return nn.CrossEntropyLoss(weight=weights)(out['fine_label'], targ['fine_label']) + \\\n",
    "            nn.CrossEntropyLoss(weight=weights_family)(out['coarse1_label'], targ['coarse1_label'])"
   ]
  },
  {
   "cell_type": "code",
   "execution_count": 25,
   "metadata": {},
   "outputs": [],
   "source": [
    "def custom_accuracy(inp, targ, axis=-1):\n",
    "    pred1,targ1 = flatten_check(inp['fine_label'].argmax(dim=axis), targ['fine_label'])\n",
    "    acc1 = (pred1 == targ1).float().mean()\n",
    "    return acc1"
   ]
  },
  {
   "cell_type": "code",
   "execution_count": 30,
   "metadata": {
    "scrolled": true
   },
   "outputs": [],
   "source": [
    "learn = Learner(dls, model, loss_func=loss_func, metrics=custom_accuracy,\n",
    "                   splitter=custom_splitter).to_fp16()\n",
    "learn.freeze()"
   ]
  },
  {
   "cell_type": "code",
   "execution_count": 31,
   "metadata": {
    "scrolled": true
   },
   "outputs": [
    {
     "data": {
      "text/html": [
       "<table border=\"1\" class=\"dataframe\">\n",
       "  <thead>\n",
       "    <tr style=\"text-align: left;\">\n",
       "      <th>epoch</th>\n",
       "      <th>train_loss</th>\n",
       "      <th>valid_loss</th>\n",
       "      <th>custom_accuracy</th>\n",
       "      <th>time</th>\n",
       "    </tr>\n",
       "  </thead>\n",
       "  <tbody>\n",
       "    <tr>\n",
       "      <td>0</td>\n",
       "      <td>None</td>\n",
       "      <td>None</td>\n",
       "      <td>00:00</td>\n",
       "    </tr>\n",
       "  </tbody>\n",
       "</table>"
      ],
      "text/plain": [
       "<IPython.core.display.HTML object>"
      ]
     },
     "metadata": {},
     "output_type": "display_data"
    },
    {
     "data": {
      "text/plain": [
       "VGGCustomModel (Input shape: ['64 x 3 x 336 x 336'])\n",
       "================================================================\n",
       "Layer (type)         Output Shape         Param #    Trainable \n",
       "================================================================\n",
       "Conv2d               64 x 64 x 336 x 336  1,792      False     \n",
       "________________________________________________________________\n",
       "BatchNorm2d          64 x 64 x 336 x 336  128        True      \n",
       "________________________________________________________________\n",
       "ReLU                 64 x 64 x 336 x 336  0          False     \n",
       "________________________________________________________________\n",
       "Conv2d               64 x 64 x 336 x 336  36,928     False     \n",
       "________________________________________________________________\n",
       "BatchNorm2d          64 x 64 x 336 x 336  128        True      \n",
       "________________________________________________________________\n",
       "ReLU                 64 x 64 x 336 x 336  0          False     \n",
       "________________________________________________________________\n",
       "MaxPool2d            64 x 64 x 168 x 168  0          False     \n",
       "________________________________________________________________\n",
       "Conv2d               64 x 128 x 168 x 16  73,856     False     \n",
       "________________________________________________________________\n",
       "BatchNorm2d          64 x 128 x 168 x 16  256        True      \n",
       "________________________________________________________________\n",
       "ReLU                 64 x 128 x 168 x 16  0          False     \n",
       "________________________________________________________________\n",
       "Conv2d               64 x 128 x 168 x 16  147,584    False     \n",
       "________________________________________________________________\n",
       "BatchNorm2d          64 x 128 x 168 x 16  256        True      \n",
       "________________________________________________________________\n",
       "ReLU                 64 x 128 x 168 x 16  0          False     \n",
       "________________________________________________________________\n",
       "MaxPool2d            64 x 128 x 84 x 84   0          False     \n",
       "________________________________________________________________\n",
       "Conv2d               64 x 256 x 84 x 84   295,168    False     \n",
       "________________________________________________________________\n",
       "BatchNorm2d          64 x 256 x 84 x 84   512        True      \n",
       "________________________________________________________________\n",
       "ReLU                 64 x 256 x 84 x 84   0          False     \n",
       "________________________________________________________________\n",
       "Conv2d               64 x 256 x 84 x 84   590,080    False     \n",
       "________________________________________________________________\n",
       "BatchNorm2d          64 x 256 x 84 x 84   512        True      \n",
       "________________________________________________________________\n",
       "ReLU                 64 x 256 x 84 x 84   0          False     \n",
       "________________________________________________________________\n",
       "Conv2d               64 x 256 x 84 x 84   590,080    False     \n",
       "________________________________________________________________\n",
       "BatchNorm2d          64 x 256 x 84 x 84   512        True      \n",
       "________________________________________________________________\n",
       "ReLU                 64 x 256 x 84 x 84   0          False     \n",
       "________________________________________________________________\n",
       "MaxPool2d            64 x 256 x 42 x 42   0          False     \n",
       "________________________________________________________________\n",
       "Conv2d               64 x 512 x 42 x 42   1,180,160  False     \n",
       "________________________________________________________________\n",
       "BatchNorm2d          64 x 512 x 42 x 42   1,024      True      \n",
       "________________________________________________________________\n",
       "ReLU                 64 x 512 x 42 x 42   0          False     \n",
       "________________________________________________________________\n",
       "Conv2d               64 x 512 x 42 x 42   2,359,808  False     \n",
       "________________________________________________________________\n",
       "BatchNorm2d          64 x 512 x 42 x 42   1,024      True      \n",
       "________________________________________________________________\n",
       "ReLU                 64 x 512 x 42 x 42   0          False     \n",
       "________________________________________________________________\n",
       "Conv2d               64 x 512 x 42 x 42   2,359,808  False     \n",
       "________________________________________________________________\n",
       "BatchNorm2d          64 x 512 x 42 x 42   1,024      True      \n",
       "________________________________________________________________\n",
       "ReLU                 64 x 512 x 42 x 42   0          False     \n",
       "________________________________________________________________\n",
       "MaxPool2d            64 x 512 x 21 x 21   0          False     \n",
       "________________________________________________________________\n",
       "Conv2d               64 x 512 x 21 x 21   2,359,808  False     \n",
       "________________________________________________________________\n",
       "BatchNorm2d          64 x 512 x 21 x 21   1,024      True      \n",
       "________________________________________________________________\n",
       "ReLU                 64 x 512 x 21 x 21   0          False     \n",
       "________________________________________________________________\n",
       "Conv2d               64 x 512 x 21 x 21   2,359,808  False     \n",
       "________________________________________________________________\n",
       "BatchNorm2d          64 x 512 x 21 x 21   1,024      True      \n",
       "________________________________________________________________\n",
       "ReLU                 64 x 512 x 21 x 21   0          False     \n",
       "________________________________________________________________\n",
       "Conv2d               64 x 512 x 21 x 21   2,359,808  False     \n",
       "________________________________________________________________\n",
       "BatchNorm2d          64 x 512 x 21 x 21   1,024      True      \n",
       "________________________________________________________________\n",
       "ReLU                 64 x 512 x 21 x 21   0          False     \n",
       "________________________________________________________________\n",
       "MaxPool2d            64 x 512 x 10 x 10   0          False     \n",
       "________________________________________________________________\n",
       "AdaptiveAvgPool2d    64 x 512 x 1 x 1     0          False     \n",
       "________________________________________________________________\n",
       "AdaptiveMaxPool2d    64 x 512 x 1 x 1     0          False     \n",
       "________________________________________________________________\n",
       "Flatten              64 x 1024            0          False     \n",
       "________________________________________________________________\n",
       "BatchNorm1d          64 x 1024            2,048      True      \n",
       "________________________________________________________________\n",
       "Dropout              64 x 1024            0          False     \n",
       "________________________________________________________________\n",
       "Linear               64 x 512             524,288    False     \n",
       "________________________________________________________________\n",
       "ReLU                 64 x 512             0          False     \n",
       "________________________________________________________________\n",
       "BatchNorm1d          64 x 512             1,024      True      \n",
       "________________________________________________________________\n",
       "Dropout              64 x 512             0          False     \n",
       "________________________________________________________________\n",
       "Linear               64 x 3               1,536      False     \n",
       "________________________________________________________________\n",
       "Conv2d               64 x 512 x 42 x 42   1,180,160  False     \n",
       "________________________________________________________________\n",
       "BatchNorm2d          64 x 512 x 42 x 42   1,024      True      \n",
       "________________________________________________________________\n",
       "ReLU                 64 x 512 x 42 x 42   0          False     \n",
       "________________________________________________________________\n",
       "Conv2d               64 x 512 x 42 x 42   2,359,808  False     \n",
       "________________________________________________________________\n",
       "BatchNorm2d          64 x 512 x 42 x 42   1,024      True      \n",
       "________________________________________________________________\n",
       "ReLU                 64 x 512 x 42 x 42   0          False     \n",
       "________________________________________________________________\n",
       "Conv2d               64 x 512 x 42 x 42   2,359,808  False     \n",
       "________________________________________________________________\n",
       "BatchNorm2d          64 x 512 x 42 x 42   1,024      True      \n",
       "________________________________________________________________\n",
       "ReLU                 64 x 512 x 42 x 42   0          False     \n",
       "________________________________________________________________\n",
       "MaxPool2d            64 x 512 x 21 x 21   0          False     \n",
       "________________________________________________________________\n",
       "Conv2d               64 x 512 x 21 x 21   2,359,808  False     \n",
       "________________________________________________________________\n",
       "BatchNorm2d          64 x 512 x 21 x 21   1,024      True      \n",
       "________________________________________________________________\n",
       "ReLU                 64 x 512 x 21 x 21   0          False     \n",
       "________________________________________________________________\n",
       "Conv2d               64 x 512 x 21 x 21   2,359,808  False     \n",
       "________________________________________________________________\n",
       "BatchNorm2d          64 x 512 x 21 x 21   1,024      True      \n",
       "________________________________________________________________\n",
       "ReLU                 64 x 512 x 21 x 21   0          False     \n",
       "________________________________________________________________\n",
       "Conv2d               64 x 512 x 21 x 21   2,359,808  False     \n",
       "________________________________________________________________\n",
       "BatchNorm2d          64 x 512 x 21 x 21   1,024      True      \n",
       "________________________________________________________________\n",
       "ReLU                 64 x 512 x 21 x 21   0          False     \n",
       "________________________________________________________________\n",
       "MaxPool2d            64 x 512 x 10 x 10   0          False     \n",
       "________________________________________________________________\n",
       "AdaptiveAvgPool2d    64 x 512 x 1 x 1     0          False     \n",
       "________________________________________________________________\n",
       "AdaptiveMaxPool2d    64 x 512 x 1 x 1     0          False     \n",
       "________________________________________________________________\n",
       "Flatten              64 x 1024            0          False     \n",
       "________________________________________________________________\n",
       "BatchNorm1d          64 x 1024            2,048      True      \n",
       "________________________________________________________________\n",
       "Dropout              64 x 1024            0          False     \n",
       "________________________________________________________________\n",
       "Linear               64 x 512             524,288    True      \n",
       "________________________________________________________________\n",
       "ReLU                 64 x 512             0          False     \n",
       "________________________________________________________________\n",
       "BatchNorm1d          64 x 512             1,024      True      \n",
       "________________________________________________________________\n",
       "Dropout              64 x 512             0          False     \n",
       "________________________________________________________________\n",
       "Linear               64 x 144             73,728     True      \n",
       "________________________________________________________________\n",
       "\n",
       "Total params: 28,838,464\n",
       "Total trainable params: 618,752\n",
       "Total non-trainable params: 28,219,712\n",
       "\n",
       "Optimizer used: <function Adam at 0x7f953a511160>\n",
       "Loss function: <function loss_func at 0x7f9516c0cc10>\n",
       "\n",
       "Model frozen up to parameter group #4\n",
       "\n",
       "Callbacks:\n",
       "  - ModelToHalf\n",
       "  - TrainEvalCallback\n",
       "  - Recorder\n",
       "  - ProgressCallback\n",
       "  - MixedPrecision"
      ]
     },
     "execution_count": 31,
     "metadata": {},
     "output_type": "execute_result"
    }
   ],
   "source": [
    "learn.summary()"
   ]
  },
  {
   "cell_type": "code",
   "execution_count": 32,
   "metadata": {
    "scrolled": true
   },
   "outputs": [
    {
     "data": {
      "text/html": [
       "<table border=\"1\" class=\"dataframe\">\n",
       "  <thead>\n",
       "    <tr style=\"text-align: left;\">\n",
       "      <th>epoch</th>\n",
       "      <th>train_loss</th>\n",
       "      <th>valid_loss</th>\n",
       "      <th>custom_accuracy</th>\n",
       "      <th>time</th>\n",
       "    </tr>\n",
       "  </thead>\n",
       "  <tbody>\n",
       "    <tr>\n",
       "      <td>0</td>\n",
       "      <td>3.888104</td>\n",
       "      <td>3.586677</td>\n",
       "      <td>0.239322</td>\n",
       "      <td>10:04</td>\n",
       "    </tr>\n",
       "  </tbody>\n",
       "</table>"
      ],
      "text/plain": [
       "<IPython.core.display.HTML object>"
      ]
     },
     "metadata": {},
     "output_type": "display_data"
    }
   ],
   "source": [
    "learn.fit(1, 3e-3)"
   ]
  },
  {
   "cell_type": "code",
   "execution_count": 33,
   "metadata": {},
   "outputs": [
    {
     "data": {
      "text/plain": [
       "Path('models/species144-hdcnn-vgg16-vgg16-fepochs1-uepochs0.pth')"
      ]
     },
     "execution_count": 33,
     "metadata": {},
     "output_type": "execute_result"
    }
   ],
   "source": [
    "learn.save('species144-hdcnn-vgg16-vgg16-fepochs1-uepochs0')"
   ]
  },
  {
   "cell_type": "code",
   "execution_count": 26,
   "metadata": {},
   "outputs": [],
   "source": [
    "def continue_training(pth_filename):\n",
    "    learn = Learner(dls, model, loss_func=loss_func, metrics=custom_accuracy,\n",
    "                   splitter=custom_splitter).to_fp16()\n",
    "    learn.load(pth_filename)\n",
    "    learn.unfreeze()\n",
    "    return learn"
   ]
  },
  {
   "cell_type": "code",
   "execution_count": 35,
   "metadata": {},
   "outputs": [
    {
     "data": {
      "text/html": [
       "<table border=\"1\" class=\"dataframe\">\n",
       "  <thead>\n",
       "    <tr style=\"text-align: left;\">\n",
       "      <th>epoch</th>\n",
       "      <th>train_loss</th>\n",
       "      <th>valid_loss</th>\n",
       "      <th>custom_accuracy</th>\n",
       "      <th>time</th>\n",
       "    </tr>\n",
       "  </thead>\n",
       "  <tbody>\n",
       "    <tr>\n",
       "      <td>0</td>\n",
       "      <td>3.208007</td>\n",
       "      <td>2.773470</td>\n",
       "      <td>0.363121</td>\n",
       "      <td>12:08</td>\n",
       "    </tr>\n",
       "    <tr>\n",
       "      <td>1</td>\n",
       "      <td>2.912249</td>\n",
       "      <td>2.511503</td>\n",
       "      <td>0.396053</td>\n",
       "      <td>12:05</td>\n",
       "    </tr>\n",
       "    <tr>\n",
       "      <td>2</td>\n",
       "      <td>2.706429</td>\n",
       "      <td>2.359719</td>\n",
       "      <td>0.420708</td>\n",
       "      <td>12:06</td>\n",
       "    </tr>\n",
       "    <tr>\n",
       "      <td>3</td>\n",
       "      <td>2.548780</td>\n",
       "      <td>2.230437</td>\n",
       "      <td>0.438072</td>\n",
       "      <td>12:06</td>\n",
       "    </tr>\n",
       "    <tr>\n",
       "      <td>4</td>\n",
       "      <td>2.370211</td>\n",
       "      <td>2.131509</td>\n",
       "      <td>0.455087</td>\n",
       "      <td>12:05</td>\n",
       "    </tr>\n",
       "    <tr>\n",
       "      <td>5</td>\n",
       "      <td>2.335464</td>\n",
       "      <td>2.030832</td>\n",
       "      <td>0.478933</td>\n",
       "      <td>12:06</td>\n",
       "    </tr>\n",
       "    <tr>\n",
       "      <td>6</td>\n",
       "      <td>2.202054</td>\n",
       "      <td>1.951346</td>\n",
       "      <td>0.489351</td>\n",
       "      <td>12:05</td>\n",
       "    </tr>\n",
       "    <tr>\n",
       "      <td>7</td>\n",
       "      <td>2.139999</td>\n",
       "      <td>1.896795</td>\n",
       "      <td>0.504051</td>\n",
       "      <td>12:05</td>\n",
       "    </tr>\n",
       "    <tr>\n",
       "      <td>8</td>\n",
       "      <td>2.056375</td>\n",
       "      <td>1.840777</td>\n",
       "      <td>0.512559</td>\n",
       "      <td>12:06</td>\n",
       "    </tr>\n",
       "    <tr>\n",
       "      <td>9</td>\n",
       "      <td>1.924729</td>\n",
       "      <td>1.793004</td>\n",
       "      <td>0.521125</td>\n",
       "      <td>12:03</td>\n",
       "    </tr>\n",
       "  </tbody>\n",
       "</table>"
      ],
      "text/plain": [
       "<IPython.core.display.HTML object>"
      ]
     },
     "metadata": {},
     "output_type": "display_data"
    }
   ],
   "source": [
    "learn.unfreeze()\n",
    "learn.fit(10, slice(1e-6,1e-4))"
   ]
  },
  {
   "cell_type": "code",
   "execution_count": 36,
   "metadata": {},
   "outputs": [
    {
     "data": {
      "text/plain": [
       "Path('models/species144-hdcnn-vgg16-vgg16-fepochs1-uepochs10.pth')"
      ]
     },
     "execution_count": 36,
     "metadata": {},
     "output_type": "execute_result"
    }
   ],
   "source": [
    "learn.save('species144-hdcnn-vgg16-fepochs1-uepochs10')"
   ]
  },
  {
   "cell_type": "code",
   "execution_count": 27,
   "metadata": {},
   "outputs": [],
   "source": [
    "learn = continue_training('species144-hdcnn-vgg16-fepochs1-uepochs10')"
   ]
  },
  {
   "cell_type": "code",
   "execution_count": 28,
   "metadata": {},
   "outputs": [
    {
     "data": {
      "text/html": [
       "<table border=\"1\" class=\"dataframe\">\n",
       "  <thead>\n",
       "    <tr style=\"text-align: left;\">\n",
       "      <th>epoch</th>\n",
       "      <th>train_loss</th>\n",
       "      <th>valid_loss</th>\n",
       "      <th>custom_accuracy</th>\n",
       "      <th>time</th>\n",
       "    </tr>\n",
       "  </thead>\n",
       "  <tbody>\n",
       "    <tr>\n",
       "      <td>0</td>\n",
       "      <td>1.925967</td>\n",
       "      <td>1.760417</td>\n",
       "      <td>0.530154</td>\n",
       "      <td>12:05</td>\n",
       "    </tr>\n",
       "    <tr>\n",
       "      <td>1</td>\n",
       "      <td>1.831533</td>\n",
       "      <td>1.715354</td>\n",
       "      <td>0.540456</td>\n",
       "      <td>12:02</td>\n",
       "    </tr>\n",
       "    <tr>\n",
       "      <td>2</td>\n",
       "      <td>1.789760</td>\n",
       "      <td>1.675744</td>\n",
       "      <td>0.547401</td>\n",
       "      <td>12:02</td>\n",
       "    </tr>\n",
       "    <tr>\n",
       "      <td>3</td>\n",
       "      <td>1.751735</td>\n",
       "      <td>1.643864</td>\n",
       "      <td>0.551048</td>\n",
       "      <td>12:02</td>\n",
       "    </tr>\n",
       "    <tr>\n",
       "      <td>4</td>\n",
       "      <td>1.703548</td>\n",
       "      <td>1.604352</td>\n",
       "      <td>0.555504</td>\n",
       "      <td>12:03</td>\n",
       "    </tr>\n",
       "    <tr>\n",
       "      <td>5</td>\n",
       "      <td>1.706680</td>\n",
       "      <td>1.557171</td>\n",
       "      <td>0.563491</td>\n",
       "      <td>12:02</td>\n",
       "    </tr>\n",
       "    <tr>\n",
       "      <td>6</td>\n",
       "      <td>1.544008</td>\n",
       "      <td>1.536182</td>\n",
       "      <td>0.569163</td>\n",
       "      <td>12:03</td>\n",
       "    </tr>\n",
       "    <tr>\n",
       "      <td>7</td>\n",
       "      <td>1.469456</td>\n",
       "      <td>1.511372</td>\n",
       "      <td>0.574661</td>\n",
       "      <td>12:03</td>\n",
       "    </tr>\n",
       "    <tr>\n",
       "      <td>8</td>\n",
       "      <td>1.436826</td>\n",
       "      <td>1.499674</td>\n",
       "      <td>0.581028</td>\n",
       "      <td>12:03</td>\n",
       "    </tr>\n",
       "    <tr>\n",
       "      <td>9</td>\n",
       "      <td>1.469738</td>\n",
       "      <td>1.466440</td>\n",
       "      <td>0.585369</td>\n",
       "      <td>12:03</td>\n",
       "    </tr>\n",
       "  </tbody>\n",
       "</table>"
      ],
      "text/plain": [
       "<IPython.core.display.HTML object>"
      ]
     },
     "metadata": {},
     "output_type": "display_data"
    },
    {
     "data": {
      "text/plain": [
       "Path('models/species144-hdcnn-vgg16-fepochs1-uepochs20.pth')"
      ]
     },
     "execution_count": 28,
     "metadata": {},
     "output_type": "execute_result"
    }
   ],
   "source": [
    "learn.fit(10, slice(1e-6,1e-4))\n",
    "learn.save('species144-hdcnn-vgg16-fepochs1-uepochs20')"
   ]
  },
  {
   "cell_type": "code",
   "execution_count": 27,
   "metadata": {},
   "outputs": [],
   "source": [
    "learn = continue_training('species144-hdcnn-vgg16-fepochs1-uepochs20')"
   ]
  },
  {
   "cell_type": "code",
   "execution_count": 28,
   "metadata": {},
   "outputs": [
    {
     "data": {
      "text/html": [
       "<table border=\"1\" class=\"dataframe\">\n",
       "  <thead>\n",
       "    <tr style=\"text-align: left;\">\n",
       "      <th>epoch</th>\n",
       "      <th>train_loss</th>\n",
       "      <th>valid_loss</th>\n",
       "      <th>custom_accuracy</th>\n",
       "      <th>time</th>\n",
       "    </tr>\n",
       "  </thead>\n",
       "  <tbody>\n",
       "    <tr>\n",
       "      <td>0</td>\n",
       "      <td>1.447829</td>\n",
       "      <td>1.442144</td>\n",
       "      <td>0.597812</td>\n",
       "      <td>11:59</td>\n",
       "    </tr>\n",
       "    <tr>\n",
       "      <td>1</td>\n",
       "      <td>1.439801</td>\n",
       "      <td>1.432475</td>\n",
       "      <td>0.599722</td>\n",
       "      <td>12:00</td>\n",
       "    </tr>\n",
       "    <tr>\n",
       "      <td>2</td>\n",
       "      <td>1.413651</td>\n",
       "      <td>1.421753</td>\n",
       "      <td>0.596828</td>\n",
       "      <td>11:56</td>\n",
       "    </tr>\n",
       "    <tr>\n",
       "      <td>3</td>\n",
       "      <td>1.331459</td>\n",
       "      <td>1.392815</td>\n",
       "      <td>0.604294</td>\n",
       "      <td>11:57</td>\n",
       "    </tr>\n",
       "    <tr>\n",
       "      <td>4</td>\n",
       "      <td>1.302406</td>\n",
       "      <td>1.386604</td>\n",
       "      <td>0.601864</td>\n",
       "      <td>11:58</td>\n",
       "    </tr>\n",
       "    <tr>\n",
       "      <td>5</td>\n",
       "      <td>1.280561</td>\n",
       "      <td>1.361318</td>\n",
       "      <td>0.614944</td>\n",
       "      <td>11:59</td>\n",
       "    </tr>\n",
       "    <tr>\n",
       "      <td>6</td>\n",
       "      <td>1.251222</td>\n",
       "      <td>1.347972</td>\n",
       "      <td>0.614654</td>\n",
       "      <td>12:00</td>\n",
       "    </tr>\n",
       "    <tr>\n",
       "      <td>7</td>\n",
       "      <td>1.230428</td>\n",
       "      <td>1.336396</td>\n",
       "      <td>0.619227</td>\n",
       "      <td>11:59</td>\n",
       "    </tr>\n",
       "    <tr>\n",
       "      <td>8</td>\n",
       "      <td>1.185642</td>\n",
       "      <td>1.333822</td>\n",
       "      <td>0.621252</td>\n",
       "      <td>11:58</td>\n",
       "    </tr>\n",
       "    <tr>\n",
       "      <td>9</td>\n",
       "      <td>1.206094</td>\n",
       "      <td>1.332209</td>\n",
       "      <td>0.625072</td>\n",
       "      <td>11:59</td>\n",
       "    </tr>\n",
       "  </tbody>\n",
       "</table>"
      ],
      "text/plain": [
       "<IPython.core.display.HTML object>"
      ]
     },
     "metadata": {},
     "output_type": "display_data"
    },
    {
     "data": {
      "text/plain": [
       "Path('models/species144-hdcnn-vgg16-fepochs1-uepochs30.pth')"
      ]
     },
     "execution_count": 28,
     "metadata": {},
     "output_type": "execute_result"
    }
   ],
   "source": [
    "learn.fit(10, slice(1e-6,1e-4))\n",
    "learn.save('species144-hdcnn-vgg16-fepochs1-uepochs30')"
   ]
  },
  {
   "cell_type": "code",
   "execution_count": 27,
   "metadata": {},
   "outputs": [],
   "source": [
    "learn = continue_training('species144-hdcnn-vgg16-fepochs1-uepochs30')"
   ]
  },
  {
   "cell_type": "code",
   "execution_count": 28,
   "metadata": {},
   "outputs": [
    {
     "data": {
      "text/html": [
       "<table border=\"1\" class=\"dataframe\">\n",
       "  <thead>\n",
       "    <tr style=\"text-align: left;\">\n",
       "      <th>epoch</th>\n",
       "      <th>train_loss</th>\n",
       "      <th>valid_loss</th>\n",
       "      <th>custom_accuracy</th>\n",
       "      <th>time</th>\n",
       "    </tr>\n",
       "  </thead>\n",
       "  <tbody>\n",
       "    <tr>\n",
       "      <td>0</td>\n",
       "      <td>1.182881</td>\n",
       "      <td>1.333762</td>\n",
       "      <td>0.629760</td>\n",
       "      <td>12:29</td>\n",
       "    </tr>\n",
       "    <tr>\n",
       "      <td>1</td>\n",
       "      <td>1.196474</td>\n",
       "      <td>1.306304</td>\n",
       "      <td>0.631207</td>\n",
       "      <td>12:26</td>\n",
       "    </tr>\n",
       "    <tr>\n",
       "      <td>2</td>\n",
       "      <td>1.092125</td>\n",
       "      <td>1.298122</td>\n",
       "      <td>0.638789</td>\n",
       "      <td>12:28</td>\n",
       "    </tr>\n",
       "    <tr>\n",
       "      <td>3</td>\n",
       "      <td>1.115962</td>\n",
       "      <td>1.287490</td>\n",
       "      <td>0.637632</td>\n",
       "      <td>12:29</td>\n",
       "    </tr>\n",
       "    <tr>\n",
       "      <td>4</td>\n",
       "      <td>1.042941</td>\n",
       "      <td>1.277644</td>\n",
       "      <td>0.647587</td>\n",
       "      <td>12:29</td>\n",
       "    </tr>\n",
       "    <tr>\n",
       "      <td>5</td>\n",
       "      <td>1.030285</td>\n",
       "      <td>1.264100</td>\n",
       "      <td>0.641799</td>\n",
       "      <td>12:30</td>\n",
       "    </tr>\n",
       "    <tr>\n",
       "      <td>6</td>\n",
       "      <td>0.994348</td>\n",
       "      <td>1.253383</td>\n",
       "      <td>0.641278</td>\n",
       "      <td>12:28</td>\n",
       "    </tr>\n",
       "    <tr>\n",
       "      <td>7</td>\n",
       "      <td>0.980368</td>\n",
       "      <td>1.252073</td>\n",
       "      <td>0.653606</td>\n",
       "      <td>12:27</td>\n",
       "    </tr>\n",
       "    <tr>\n",
       "      <td>8</td>\n",
       "      <td>1.019139</td>\n",
       "      <td>1.249696</td>\n",
       "      <td>0.648397</td>\n",
       "      <td>12:29</td>\n",
       "    </tr>\n",
       "    <tr>\n",
       "      <td>9</td>\n",
       "      <td>0.926638</td>\n",
       "      <td>1.242325</td>\n",
       "      <td>0.653259</td>\n",
       "      <td>12:28</td>\n",
       "    </tr>\n",
       "  </tbody>\n",
       "</table>"
      ],
      "text/plain": [
       "<IPython.core.display.HTML object>"
      ]
     },
     "metadata": {},
     "output_type": "display_data"
    },
    {
     "data": {
      "text/plain": [
       "Path('models/species144-hdcnn-vgg16-fepochs1-uepochs40.pth')"
      ]
     },
     "execution_count": 28,
     "metadata": {},
     "output_type": "execute_result"
    }
   ],
   "source": [
    "learn.fit(10, slice(1e-6,1e-4))\n",
    "learn.save('species144-hdcnn-vgg16-fepochs1-uepochs40')"
   ]
  },
  {
   "cell_type": "code",
   "execution_count": 27,
   "metadata": {},
   "outputs": [],
   "source": [
    "learn = continue_training('species144-hdcnn-vgg16-fepochs1-uepochs40')"
   ]
  },
  {
   "cell_type": "code",
   "execution_count": 28,
   "metadata": {},
   "outputs": [
    {
     "data": {
      "text/html": [
       "<table border=\"1\" class=\"dataframe\">\n",
       "  <thead>\n",
       "    <tr style=\"text-align: left;\">\n",
       "      <th>epoch</th>\n",
       "      <th>train_loss</th>\n",
       "      <th>valid_loss</th>\n",
       "      <th>custom_accuracy</th>\n",
       "      <th>time</th>\n",
       "    </tr>\n",
       "  </thead>\n",
       "  <tbody>\n",
       "    <tr>\n",
       "      <td>0</td>\n",
       "      <td>0.993170</td>\n",
       "      <td>1.258228</td>\n",
       "      <td>0.655631</td>\n",
       "      <td>12:15</td>\n",
       "    </tr>\n",
       "    <tr>\n",
       "      <td>1</td>\n",
       "      <td>0.941892</td>\n",
       "      <td>1.254346</td>\n",
       "      <td>0.658062</td>\n",
       "      <td>12:12</td>\n",
       "    </tr>\n",
       "    <tr>\n",
       "      <td>2</td>\n",
       "      <td>0.953662</td>\n",
       "      <td>1.230761</td>\n",
       "      <td>0.655631</td>\n",
       "      <td>12:10</td>\n",
       "    </tr>\n",
       "    <tr>\n",
       "      <td>3</td>\n",
       "      <td>0.887695</td>\n",
       "      <td>1.222708</td>\n",
       "      <td>0.667381</td>\n",
       "      <td>12:09</td>\n",
       "    </tr>\n",
       "    <tr>\n",
       "      <td>4</td>\n",
       "      <td>0.876926</td>\n",
       "      <td>1.219270</td>\n",
       "      <td>0.661593</td>\n",
       "      <td>12:07</td>\n",
       "    </tr>\n",
       "    <tr>\n",
       "      <td>5</td>\n",
       "      <td>0.909806</td>\n",
       "      <td>1.216929</td>\n",
       "      <td>0.665065</td>\n",
       "      <td>12:07</td>\n",
       "    </tr>\n",
       "    <tr>\n",
       "      <td>6</td>\n",
       "      <td>0.836628</td>\n",
       "      <td>1.226028</td>\n",
       "      <td>0.661709</td>\n",
       "      <td>12:09</td>\n",
       "    </tr>\n",
       "    <tr>\n",
       "      <td>7</td>\n",
       "      <td>0.838147</td>\n",
       "      <td>1.219545</td>\n",
       "      <td>0.665586</td>\n",
       "      <td>12:09</td>\n",
       "    </tr>\n",
       "    <tr>\n",
       "      <td>8</td>\n",
       "      <td>0.818376</td>\n",
       "      <td>1.217786</td>\n",
       "      <td>0.665934</td>\n",
       "      <td>12:10</td>\n",
       "    </tr>\n",
       "    <tr>\n",
       "      <td>9</td>\n",
       "      <td>0.833712</td>\n",
       "      <td>1.208763</td>\n",
       "      <td>0.670564</td>\n",
       "      <td>12:09</td>\n",
       "    </tr>\n",
       "  </tbody>\n",
       "</table>"
      ],
      "text/plain": [
       "<IPython.core.display.HTML object>"
      ]
     },
     "metadata": {},
     "output_type": "display_data"
    },
    {
     "data": {
      "text/plain": [
       "Path('models/species144-hdcnn-vgg16-fepochs1-uepochs50.pth')"
      ]
     },
     "execution_count": 28,
     "metadata": {},
     "output_type": "execute_result"
    }
   ],
   "source": [
    "learn.fit(10, slice(1e-6,1e-4))\n",
    "learn.save('species144-hdcnn-vgg16-fepochs1-uepochs50')"
   ]
  },
  {
   "cell_type": "code",
   "execution_count": null,
   "metadata": {},
   "outputs": [],
   "source": [
    "learn.export('species144-hdcnn-vgg16-fepochs1-uepochs50')"
   ]
  }
 ],
 "metadata": {
  "kernelspec": {
   "display_name": "Python 3",
   "language": "python",
   "name": "python3"
  },
  "language_info": {
   "codemirror_mode": {
    "name": "ipython",
    "version": 3
   },
   "file_extension": ".py",
   "mimetype": "text/x-python",
   "name": "python",
   "nbconvert_exporter": "python",
   "pygments_lexer": "ipython3",
   "version": "3.8.5"
  }
 },
 "nbformat": 4,
 "nbformat_minor": 4
}
