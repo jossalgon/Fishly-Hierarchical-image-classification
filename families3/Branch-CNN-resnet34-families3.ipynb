{
 "cells": [
  {
   "cell_type": "code",
   "execution_count": 1,
   "metadata": {
    "scrolled": true
   },
   "outputs": [],
   "source": [
    "from fastai.vision.all import *"
   ]
  },
  {
   "cell_type": "code",
   "execution_count": 2,
   "metadata": {
    "scrolled": true
   },
   "outputs": [],
   "source": [
    "path = Path('/root/Documents/images')"
   ]
  },
  {
   "cell_type": "code",
   "execution_count": 3,
   "metadata": {
    "scrolled": true
   },
   "outputs": [
    {
     "data": {
      "text/plain": [
       "(#144) [Path('/root/Documents/images/Amblyglyphidodon aureus'),Path('/root/Documents/images/Carassius auratus'),Path('/root/Documents/images/Abudefduf vaigiensis'),Path('/root/Documents/images/Cyprinella lutrensis'),Path('/root/Documents/images/Luxilus cornutus'),Path('/root/Documents/images/Chrysiptera taupou'),Path('/root/Documents/images/Phoxinus phoxinus'),Path('/root/Documents/images/Abudefduf sexfasciatus'),Path('/root/Documents/images/Notropis hudsonius'),Path('/root/Documents/images/Hesperoleucus symmetricus')...]"
      ]
     },
     "execution_count": 3,
     "metadata": {},
     "output_type": "execute_result"
    }
   ],
   "source": [
    "path.ls()"
   ]
  },
  {
   "cell_type": "code",
   "execution_count": 4,
   "metadata": {
    "scrolled": true
   },
   "outputs": [],
   "source": [
    "df_path = Path('/root/Documents/')"
   ]
  },
  {
   "cell_type": "code",
   "execution_count": 5,
   "metadata": {
    "scrolled": true
   },
   "outputs": [],
   "source": [
    "df = pd.read_csv(df_path/\"csv/families3-stratified.csv\")"
   ]
  },
  {
   "cell_type": "code",
   "execution_count": 6,
   "metadata": {
    "scrolled": true
   },
   "outputs": [
    {
     "data": {
      "text/html": [
       "<div>\n",
       "<style scoped>\n",
       "    .dataframe tbody tr th:only-of-type {\n",
       "        vertical-align: middle;\n",
       "    }\n",
       "\n",
       "    .dataframe tbody tr th {\n",
       "        vertical-align: top;\n",
       "    }\n",
       "\n",
       "    .dataframe thead th {\n",
       "        text-align: right;\n",
       "    }\n",
       "</style>\n",
       "<table border=\"1\" class=\"dataframe\">\n",
       "  <thead>\n",
       "    <tr style=\"text-align: right;\">\n",
       "      <th></th>\n",
       "      <th>Order</th>\n",
       "      <th>Family</th>\n",
       "      <th>Subfamily</th>\n",
       "      <th>Genus</th>\n",
       "      <th>Specie</th>\n",
       "      <th>fname</th>\n",
       "      <th>is_valid</th>\n",
       "    </tr>\n",
       "  </thead>\n",
       "  <tbody>\n",
       "    <tr>\n",
       "      <th>0</th>\n",
       "      <td>Perciformes</td>\n",
       "      <td>Centrarchidae</td>\n",
       "      <td>NaN</td>\n",
       "      <td>Ambloplites</td>\n",
       "      <td>Ambloplites rupestris</td>\n",
       "      <td>Ambloplites rupestris/25240275.jpg</td>\n",
       "      <td>False</td>\n",
       "    </tr>\n",
       "    <tr>\n",
       "      <th>1</th>\n",
       "      <td>Perciformes</td>\n",
       "      <td>Centrarchidae</td>\n",
       "      <td>NaN</td>\n",
       "      <td>Micropterus</td>\n",
       "      <td>Micropterus salmoides</td>\n",
       "      <td>Micropterus salmoides/65295609.jpg</td>\n",
       "      <td>False</td>\n",
       "    </tr>\n",
       "    <tr>\n",
       "      <th>2</th>\n",
       "      <td>Perciformes</td>\n",
       "      <td>Centrarchidae</td>\n",
       "      <td>NaN</td>\n",
       "      <td>Micropterus</td>\n",
       "      <td>Micropterus salmoides</td>\n",
       "      <td>Micropterus salmoides/47839127.jpg</td>\n",
       "      <td>False</td>\n",
       "    </tr>\n",
       "    <tr>\n",
       "      <th>3</th>\n",
       "      <td>Perciformes</td>\n",
       "      <td>Pomacentridae</td>\n",
       "      <td>Pomacentrinae</td>\n",
       "      <td>Abudefduf</td>\n",
       "      <td>Abudefduf abdominalis</td>\n",
       "      <td>Abudefduf abdominalis/14442685.jpg</td>\n",
       "      <td>False</td>\n",
       "    </tr>\n",
       "    <tr>\n",
       "      <th>4</th>\n",
       "      <td>Perciformes</td>\n",
       "      <td>Pomacentridae</td>\n",
       "      <td>Pomacentrinae</td>\n",
       "      <td>Chromis</td>\n",
       "      <td>Chromis multilineata</td>\n",
       "      <td>Chromis multilineata/49300790.jpg</td>\n",
       "      <td>False</td>\n",
       "    </tr>\n",
       "    <tr>\n",
       "      <th>...</th>\n",
       "      <td>...</td>\n",
       "      <td>...</td>\n",
       "      <td>...</td>\n",
       "      <td>...</td>\n",
       "      <td>...</td>\n",
       "      <td>...</td>\n",
       "      <td>...</td>\n",
       "    </tr>\n",
       "    <tr>\n",
       "      <th>86383</th>\n",
       "      <td>Perciformes</td>\n",
       "      <td>Pomacentridae</td>\n",
       "      <td>Pomacentrinae</td>\n",
       "      <td>Mecaenichthys</td>\n",
       "      <td>Mecaenichthys immaculatus</td>\n",
       "      <td>Mecaenichthys immaculatus/26249475.jpg</td>\n",
       "      <td>True</td>\n",
       "    </tr>\n",
       "    <tr>\n",
       "      <th>86384</th>\n",
       "      <td>Cypriniformes</td>\n",
       "      <td>Cyprinidae</td>\n",
       "      <td>Leuciscinae</td>\n",
       "      <td>Chrosomus</td>\n",
       "      <td>Chrosomus eos</td>\n",
       "      <td>Chrosomus eos/89045981.jpg</td>\n",
       "      <td>True</td>\n",
       "    </tr>\n",
       "    <tr>\n",
       "      <th>86385</th>\n",
       "      <td>Perciformes</td>\n",
       "      <td>Pomacentridae</td>\n",
       "      <td>Pomacentrinae</td>\n",
       "      <td>Pomacentrus</td>\n",
       "      <td>Pomacentrus coelestis</td>\n",
       "      <td>Pomacentrus coelestis/5496001.jpg</td>\n",
       "      <td>True</td>\n",
       "    </tr>\n",
       "    <tr>\n",
       "      <th>86386</th>\n",
       "      <td>Cypriniformes</td>\n",
       "      <td>Cyprinidae</td>\n",
       "      <td>Cyprininae</td>\n",
       "      <td>Cyprinus</td>\n",
       "      <td>Cyprinus carpio</td>\n",
       "      <td>Cyprinus carpio/41270267.jpg</td>\n",
       "      <td>True</td>\n",
       "    </tr>\n",
       "    <tr>\n",
       "      <th>86387</th>\n",
       "      <td>Perciformes</td>\n",
       "      <td>Centrarchidae</td>\n",
       "      <td>NaN</td>\n",
       "      <td>Lepomis</td>\n",
       "      <td>Lepomis cyanellus</td>\n",
       "      <td>Lepomis cyanellus/91535553.jpg</td>\n",
       "      <td>True</td>\n",
       "    </tr>\n",
       "  </tbody>\n",
       "</table>\n",
       "<p>86388 rows × 7 columns</p>\n",
       "</div>"
      ],
      "text/plain": [
       "               Order         Family      Subfamily          Genus  \\\n",
       "0        Perciformes  Centrarchidae            NaN    Ambloplites   \n",
       "1        Perciformes  Centrarchidae            NaN    Micropterus   \n",
       "2        Perciformes  Centrarchidae            NaN    Micropterus   \n",
       "3        Perciformes  Pomacentridae  Pomacentrinae      Abudefduf   \n",
       "4        Perciformes  Pomacentridae  Pomacentrinae        Chromis   \n",
       "...              ...            ...            ...            ...   \n",
       "86383    Perciformes  Pomacentridae  Pomacentrinae  Mecaenichthys   \n",
       "86384  Cypriniformes     Cyprinidae    Leuciscinae      Chrosomus   \n",
       "86385    Perciformes  Pomacentridae  Pomacentrinae    Pomacentrus   \n",
       "86386  Cypriniformes     Cyprinidae     Cyprininae       Cyprinus   \n",
       "86387    Perciformes  Centrarchidae            NaN        Lepomis   \n",
       "\n",
       "                          Specie                                   fname  \\\n",
       "0          Ambloplites rupestris      Ambloplites rupestris/25240275.jpg   \n",
       "1          Micropterus salmoides      Micropterus salmoides/65295609.jpg   \n",
       "2          Micropterus salmoides      Micropterus salmoides/47839127.jpg   \n",
       "3          Abudefduf abdominalis      Abudefduf abdominalis/14442685.jpg   \n",
       "4           Chromis multilineata       Chromis multilineata/49300790.jpg   \n",
       "...                          ...                                     ...   \n",
       "86383  Mecaenichthys immaculatus  Mecaenichthys immaculatus/26249475.jpg   \n",
       "86384              Chrosomus eos              Chrosomus eos/89045981.jpg   \n",
       "86385      Pomacentrus coelestis       Pomacentrus coelestis/5496001.jpg   \n",
       "86386            Cyprinus carpio            Cyprinus carpio/41270267.jpg   \n",
       "86387          Lepomis cyanellus          Lepomis cyanellus/91535553.jpg   \n",
       "\n",
       "       is_valid  \n",
       "0         False  \n",
       "1         False  \n",
       "2         False  \n",
       "3         False  \n",
       "4         False  \n",
       "...         ...  \n",
       "86383      True  \n",
       "86384      True  \n",
       "86385      True  \n",
       "86386      True  \n",
       "86387      True  \n",
       "\n",
       "[86388 rows x 7 columns]"
      ]
     },
     "execution_count": 6,
     "metadata": {},
     "output_type": "execute_result"
    }
   ],
   "source": [
    "df"
   ]
  },
  {
   "cell_type": "code",
   "execution_count": 7,
   "metadata": {},
   "outputs": [],
   "source": [
    "weights_df = pd.read_csv(df_path/'csv/families3-weights.csv')\n",
    "weights_family_df = pd.read_csv(df_path/'csv/families3-weights-family.csv')\n",
    "weights_order_df = pd.read_csv(df_path/'csv/families3-weights-order.csv')\n",
    "weights_genus_df = pd.read_csv(df_path/'csv/families3-weights-genus.csv')"
   ]
  },
  {
   "cell_type": "code",
   "execution_count": 8,
   "metadata": {},
   "outputs": [
    {
     "data": {
      "text/html": [
       "<div>\n",
       "<style scoped>\n",
       "    .dataframe tbody tr th:only-of-type {\n",
       "        vertical-align: middle;\n",
       "    }\n",
       "\n",
       "    .dataframe tbody tr th {\n",
       "        vertical-align: top;\n",
       "    }\n",
       "\n",
       "    .dataframe thead th {\n",
       "        text-align: right;\n",
       "    }\n",
       "</style>\n",
       "<table border=\"1\" class=\"dataframe\">\n",
       "  <thead>\n",
       "    <tr style=\"text-align: right;\">\n",
       "      <th></th>\n",
       "      <th>Specie</th>\n",
       "      <th>Count</th>\n",
       "      <th>Weight</th>\n",
       "    </tr>\n",
       "  </thead>\n",
       "  <tbody>\n",
       "    <tr>\n",
       "      <th>0</th>\n",
       "      <td>Abramis brama</td>\n",
       "      <td>300</td>\n",
       "      <td>1.999722</td>\n",
       "    </tr>\n",
       "    <tr>\n",
       "      <th>1</th>\n",
       "      <td>Abudefduf abdominalis</td>\n",
       "      <td>177</td>\n",
       "      <td>3.389360</td>\n",
       "    </tr>\n",
       "    <tr>\n",
       "      <th>2</th>\n",
       "      <td>Abudefduf bengalensis</td>\n",
       "      <td>299</td>\n",
       "      <td>2.006410</td>\n",
       "    </tr>\n",
       "    <tr>\n",
       "      <th>3</th>\n",
       "      <td>Abudefduf saxatilis</td>\n",
       "      <td>1423</td>\n",
       "      <td>0.421586</td>\n",
       "    </tr>\n",
       "    <tr>\n",
       "      <th>4</th>\n",
       "      <td>Abudefduf septemfasciatus</td>\n",
       "      <td>128</td>\n",
       "      <td>4.686849</td>\n",
       "    </tr>\n",
       "    <tr>\n",
       "      <th>...</th>\n",
       "      <td>...</td>\n",
       "      <td>...</td>\n",
       "      <td>...</td>\n",
       "    </tr>\n",
       "    <tr>\n",
       "      <th>139</th>\n",
       "      <td>Stegastes partitus</td>\n",
       "      <td>174</td>\n",
       "      <td>3.447797</td>\n",
       "    </tr>\n",
       "    <tr>\n",
       "      <th>140</th>\n",
       "      <td>Stegastes planifrons</td>\n",
       "      <td>178</td>\n",
       "      <td>3.370318</td>\n",
       "    </tr>\n",
       "    <tr>\n",
       "      <th>141</th>\n",
       "      <td>Systomus rubripinnis</td>\n",
       "      <td>587</td>\n",
       "      <td>1.022005</td>\n",
       "    </tr>\n",
       "    <tr>\n",
       "      <th>142</th>\n",
       "      <td>Telestes muticellus</td>\n",
       "      <td>144</td>\n",
       "      <td>4.166088</td>\n",
       "    </tr>\n",
       "    <tr>\n",
       "      <th>143</th>\n",
       "      <td>Tinca tinca</td>\n",
       "      <td>246</td>\n",
       "      <td>2.438686</td>\n",
       "    </tr>\n",
       "  </tbody>\n",
       "</table>\n",
       "<p>144 rows × 3 columns</p>\n",
       "</div>"
      ],
      "text/plain": [
       "                        Specie  Count    Weight\n",
       "0                Abramis brama    300  1.999722\n",
       "1        Abudefduf abdominalis    177  3.389360\n",
       "2        Abudefduf bengalensis    299  2.006410\n",
       "3          Abudefduf saxatilis   1423  0.421586\n",
       "4    Abudefduf septemfasciatus    128  4.686849\n",
       "..                         ...    ...       ...\n",
       "139         Stegastes partitus    174  3.447797\n",
       "140       Stegastes planifrons    178  3.370318\n",
       "141       Systomus rubripinnis    587  1.022005\n",
       "142        Telestes muticellus    144  4.166088\n",
       "143                Tinca tinca    246  2.438686\n",
       "\n",
       "[144 rows x 3 columns]"
      ]
     },
     "execution_count": 8,
     "metadata": {},
     "output_type": "execute_result"
    }
   ],
   "source": [
    "weights_df"
   ]
  },
  {
   "cell_type": "markdown",
   "metadata": {},
   "source": [
    "# Experiment 1: No Branch"
   ]
  },
  {
   "cell_type": "code",
   "execution_count": 9,
   "metadata": {
    "scrolled": true
   },
   "outputs": [],
   "source": [
    "fishes = DataBlock(blocks = (ImageBlock, CategoryBlock),\n",
    "                 splitter=ColSplitter(),\n",
    "                 get_x = ColReader(5, pref=path),\n",
    "                 get_y=ColReader(4),\n",
    "                 item_tfms=RandomResizedCrop(336, min_scale=0.5),\n",
    "                 batch_tfms=aug_transforms())\n",
    "dls = fishes.dataloaders(df, bs=64)"
   ]
  },
  {
   "cell_type": "code",
   "execution_count": 10,
   "metadata": {
    "scrolled": false
   },
   "outputs": [
    {
     "data": {
      "text/plain": [
       "((#69110) [(PILImage mode=RGB size=1024x768, TensorCategory(13)),(PILImage mode=RGB size=1024x768, TensorCategory(83)),(PILImage mode=RGB size=768x1024, TensorCategory(83)),(PILImage mode=RGB size=1024x915, TensorCategory(1)),(PILImage mode=RGB size=1024x768, TensorCategory(38)),(PILImage mode=RGB size=1024x683, TensorCategory(128)),(PILImage mode=RGB size=1024x768, TensorCategory(70)),(PILImage mode=RGB size=1024x642, TensorCategory(85)),(PILImage mode=RGB size=1024x683, TensorCategory(83)),(PILImage mode=RGB size=843x1024, TensorCategory(136))...],\n",
       " (#17278) [(PILImage mode=RGB size=768x1024, TensorCategory(83)),(PILImage mode=RGB size=1024x636, TensorCategory(83)),(PILImage mode=RGB size=1024x768, TensorCategory(52)),(PILImage mode=RGB size=1024x768, TensorCategory(42)),(PILImage mode=RGB size=768x1024, TensorCategory(69)),(PILImage mode=RGB size=653x672, TensorCategory(104)),(PILImage mode=RGB size=1024x768, TensorCategory(131)),(PILImage mode=RGB size=1024x1024, TensorCategory(69)),(PILImage mode=RGB size=808x572, TensorCategory(104)),(PILImage mode=RGB size=1024x1024, TensorCategory(75))...])"
      ]
     },
     "execution_count": 10,
     "metadata": {},
     "output_type": "execute_result"
    }
   ],
   "source": [
    "dls.train_ds, dls.valid_ds"
   ]
  },
  {
   "cell_type": "code",
   "execution_count": 11,
   "metadata": {
    "scrolled": true
   },
   "outputs": [
    {
     "data": {
      "image/png": "[encoded data removed]",
      "text/plain": [
       "<Figure size 648x648 with 9 Axes>"
      ]
     },
     "metadata": {
      "needs_background": "light"
     },
     "output_type": "display_data"
    }
   ],
   "source": [
    "dls.show_batch(nrows=3, ncols=3)"
   ]
  },
  {
   "cell_type": "code",
   "execution_count": 12,
   "metadata": {
    "scrolled": true
   },
   "outputs": [],
   "source": [
    "class Resnet34CustomModel(Module):\n",
    "    def __init__(self, encoder, head):\n",
    "        self.encoder = encoder\n",
    "        self.head = head\n",
    "    \n",
    "    def forward(self, x):\n",
    "        x = self.encoder(x)\n",
    "        x = self.head(x)\n",
    "        return x"
   ]
  },
  {
   "cell_type": "code",
   "execution_count": 13,
   "metadata": {
    "scrolled": true
   },
   "outputs": [],
   "source": [
    "def custom_splitter(model):\n",
    "    return [params(model.encoder),\n",
    "            params(model.head)]"
   ]
  },
  {
   "cell_type": "code",
   "execution_count": 14,
   "metadata": {
    "scrolled": true
   },
   "outputs": [
    {
     "name": "stderr",
     "output_type": "stream",
     "text": [
      "Downloading: \"https://download.pytorch.org/models/resnet34-333f7ec4.pth\" to /root/.cache/torch/hub/checkpoints/resnet34-333f7ec4.pth\n"
     ]
    },
    {
     "data": {
      "application/vnd.jupyter.widget-view+json": {
       "model_id": "5db2cdcc6fd244dab2e2bf329feddd1f",
       "version_major": 2,
       "version_minor": 0
      },
      "text/plain": [
       "HBox(children=(FloatProgress(value=0.0, max=87306240.0), HTML(value='')))"
      ]
     },
     "metadata": {},
     "output_type": "display_data"
    },
    {
     "name": "stdout",
     "output_type": "stream",
     "text": [
      "\n"
     ]
    }
   ],
   "source": [
    "model = resnet34\n",
    "body = create_body(model, cut=-2)\n",
    "head = create_head(512*2,dls.c)"
   ]
  },
  {
   "cell_type": "code",
   "execution_count": 15,
   "metadata": {
    "scrolled": true
   },
   "outputs": [],
   "source": [
    "model = Resnet34CustomModel(body, head)"
   ]
  },
  {
   "cell_type": "code",
   "execution_count": 16,
   "metadata": {},
   "outputs": [],
   "source": [
    "weights = tensor([float(weights_df[weights_df['Specie']==c]['Weight']) for c in dls.vocab]).cuda()"
   ]
  },
  {
   "cell_type": "code",
   "execution_count": 17,
   "metadata": {
    "scrolled": true
   },
   "outputs": [],
   "source": [
    "learn = Learner(dls, model, loss_func=nn.CrossEntropyLoss(weight=weights), metrics=accuracy,\n",
    "                   splitter=custom_splitter).to_fp16()\n",
    "learn.freeze()"
   ]
  },
  {
   "cell_type": "code",
   "execution_count": 18,
   "metadata": {
    "scrolled": true
   },
   "outputs": [
    {
     "data": {
      "text/html": [
       "<table border=\"1\" class=\"dataframe\">\n",
       "  <thead>\n",
       "    <tr style=\"text-align: left;\">\n",
       "      <th>epoch</th>\n",
       "      <th>train_loss</th>\n",
       "      <th>valid_loss</th>\n",
       "      <th>accuracy</th>\n",
       "      <th>time</th>\n",
       "    </tr>\n",
       "  </thead>\n",
       "  <tbody>\n",
       "    <tr>\n",
       "      <td>0</td>\n",
       "      <td>None</td>\n",
       "      <td>None</td>\n",
       "      <td>00:00</td>\n",
       "    </tr>\n",
       "  </tbody>\n",
       "</table>"
      ],
      "text/plain": [
       "<IPython.core.display.HTML object>"
      ]
     },
     "metadata": {},
     "output_type": "display_data"
    },
    {
     "data": {
      "text/plain": [
       "Resnet34CustomModel (Input shape: ['64 x 3 x 336 x 336'])\n",
       "================================================================\n",
       "Layer (type)         Output Shape         Param #    Trainable \n",
       "================================================================\n",
       "Conv2d               64 x 64 x 168 x 168  9,408      False     \n",
       "________________________________________________________________\n",
       "BatchNorm2d          64 x 64 x 168 x 168  128        True      \n",
       "________________________________________________________________\n",
       "ReLU                 64 x 64 x 168 x 168  0          False     \n",
       "________________________________________________________________\n",
       "MaxPool2d            64 x 64 x 84 x 84    0          False     \n",
       "________________________________________________________________\n",
       "Conv2d               64 x 64 x 84 x 84    36,864     False     \n",
       "________________________________________________________________\n",
       "BatchNorm2d          64 x 64 x 84 x 84    128        True      \n",
       "________________________________________________________________\n",
       "ReLU                 64 x 64 x 84 x 84    0          False     \n",
       "________________________________________________________________\n",
       "Conv2d               64 x 64 x 84 x 84    36,864     False     \n",
       "________________________________________________________________\n",
       "BatchNorm2d          64 x 64 x 84 x 84    128        True      \n",
       "________________________________________________________________\n",
       "Conv2d               64 x 64 x 84 x 84    36,864     False     \n",
       "________________________________________________________________\n",
       "BatchNorm2d          64 x 64 x 84 x 84    128        True      \n",
       "________________________________________________________________\n",
       "ReLU                 64 x 64 x 84 x 84    0          False     \n",
       "________________________________________________________________\n",
       "Conv2d               64 x 64 x 84 x 84    36,864     False     \n",
       "________________________________________________________________\n",
       "BatchNorm2d          64 x 64 x 84 x 84    128        True      \n",
       "________________________________________________________________\n",
       "Conv2d               64 x 64 x 84 x 84    36,864     False     \n",
       "________________________________________________________________\n",
       "BatchNorm2d          64 x 64 x 84 x 84    128        True      \n",
       "________________________________________________________________\n",
       "ReLU                 64 x 64 x 84 x 84    0          False     \n",
       "________________________________________________________________\n",
       "Conv2d               64 x 64 x 84 x 84    36,864     False     \n",
       "________________________________________________________________\n",
       "BatchNorm2d          64 x 64 x 84 x 84    128        True      \n",
       "________________________________________________________________\n",
       "Conv2d               64 x 128 x 42 x 42   73,728     False     \n",
       "________________________________________________________________\n",
       "BatchNorm2d          64 x 128 x 42 x 42   256        True      \n",
       "________________________________________________________________\n",
       "ReLU                 64 x 128 x 42 x 42   0          False     \n",
       "________________________________________________________________\n",
       "Conv2d               64 x 128 x 42 x 42   147,456    False     \n",
       "________________________________________________________________\n",
       "BatchNorm2d          64 x 128 x 42 x 42   256        True      \n",
       "________________________________________________________________\n",
       "Conv2d               64 x 128 x 42 x 42   8,192      False     \n",
       "________________________________________________________________\n",
       "BatchNorm2d          64 x 128 x 42 x 42   256        True      \n",
       "________________________________________________________________\n",
       "Conv2d               64 x 128 x 42 x 42   147,456    False     \n",
       "________________________________________________________________\n",
       "BatchNorm2d          64 x 128 x 42 x 42   256        True      \n",
       "________________________________________________________________\n",
       "ReLU                 64 x 128 x 42 x 42   0          False     \n",
       "________________________________________________________________\n",
       "Conv2d               64 x 128 x 42 x 42   147,456    False     \n",
       "________________________________________________________________\n",
       "BatchNorm2d          64 x 128 x 42 x 42   256        True      \n",
       "________________________________________________________________\n",
       "Conv2d               64 x 128 x 42 x 42   147,456    False     \n",
       "________________________________________________________________\n",
       "BatchNorm2d          64 x 128 x 42 x 42   256        True      \n",
       "________________________________________________________________\n",
       "ReLU                 64 x 128 x 42 x 42   0          False     \n",
       "________________________________________________________________\n",
       "Conv2d               64 x 128 x 42 x 42   147,456    False     \n",
       "________________________________________________________________\n",
       "BatchNorm2d          64 x 128 x 42 x 42   256        True      \n",
       "________________________________________________________________\n",
       "Conv2d               64 x 128 x 42 x 42   147,456    False     \n",
       "________________________________________________________________\n",
       "BatchNorm2d          64 x 128 x 42 x 42   256        True      \n",
       "________________________________________________________________\n",
       "ReLU                 64 x 128 x 42 x 42   0          False     \n",
       "________________________________________________________________\n",
       "Conv2d               64 x 128 x 42 x 42   147,456    False     \n",
       "________________________________________________________________\n",
       "BatchNorm2d          64 x 128 x 42 x 42   256        True      \n",
       "________________________________________________________________\n",
       "Conv2d               64 x 256 x 21 x 21   294,912    False     \n",
       "________________________________________________________________\n",
       "BatchNorm2d          64 x 256 x 21 x 21   512        True      \n",
       "________________________________________________________________\n",
       "ReLU                 64 x 256 x 21 x 21   0          False     \n",
       "________________________________________________________________\n",
       "Conv2d               64 x 256 x 21 x 21   589,824    False     \n",
       "________________________________________________________________\n",
       "BatchNorm2d          64 x 256 x 21 x 21   512        True      \n",
       "________________________________________________________________\n",
       "Conv2d               64 x 256 x 21 x 21   32,768     False     \n",
       "________________________________________________________________\n",
       "BatchNorm2d          64 x 256 x 21 x 21   512        True      \n",
       "________________________________________________________________\n",
       "Conv2d               64 x 256 x 21 x 21   589,824    False     \n",
       "________________________________________________________________\n",
       "BatchNorm2d          64 x 256 x 21 x 21   512        True      \n",
       "________________________________________________________________\n",
       "ReLU                 64 x 256 x 21 x 21   0          False     \n",
       "________________________________________________________________\n",
       "Conv2d               64 x 256 x 21 x 21   589,824    False     \n",
       "________________________________________________________________\n",
       "BatchNorm2d          64 x 256 x 21 x 21   512        True      \n",
       "________________________________________________________________\n",
       "Conv2d               64 x 256 x 21 x 21   589,824    False     \n",
       "________________________________________________________________\n",
       "BatchNorm2d          64 x 256 x 21 x 21   512        True      \n",
       "________________________________________________________________\n",
       "ReLU                 64 x 256 x 21 x 21   0          False     \n",
       "________________________________________________________________\n",
       "Conv2d               64 x 256 x 21 x 21   589,824    False     \n",
       "________________________________________________________________\n",
       "BatchNorm2d          64 x 256 x 21 x 21   512        True      \n",
       "________________________________________________________________\n",
       "Conv2d               64 x 256 x 21 x 21   589,824    False     \n",
       "________________________________________________________________\n",
       "BatchNorm2d          64 x 256 x 21 x 21   512        True      \n",
       "________________________________________________________________\n",
       "ReLU                 64 x 256 x 21 x 21   0          False     \n",
       "________________________________________________________________\n",
       "Conv2d               64 x 256 x 21 x 21   589,824    False     \n",
       "________________________________________________________________\n",
       "BatchNorm2d          64 x 256 x 21 x 21   512        True      \n",
       "________________________________________________________________\n",
       "Conv2d               64 x 256 x 21 x 21   589,824    False     \n",
       "________________________________________________________________\n",
       "BatchNorm2d          64 x 256 x 21 x 21   512        True      \n",
       "________________________________________________________________\n",
       "ReLU                 64 x 256 x 21 x 21   0          False     \n",
       "________________________________________________________________\n",
       "Conv2d               64 x 256 x 21 x 21   589,824    False     \n",
       "________________________________________________________________\n",
       "BatchNorm2d          64 x 256 x 21 x 21   512        True      \n",
       "________________________________________________________________\n",
       "Conv2d               64 x 256 x 21 x 21   589,824    False     \n",
       "________________________________________________________________\n",
       "BatchNorm2d          64 x 256 x 21 x 21   512        True      \n",
       "________________________________________________________________\n",
       "ReLU                 64 x 256 x 21 x 21   0          False     \n",
       "________________________________________________________________\n",
       "Conv2d               64 x 256 x 21 x 21   589,824    False     \n",
       "________________________________________________________________\n",
       "BatchNorm2d          64 x 256 x 21 x 21   512        True      \n",
       "________________________________________________________________\n",
       "Conv2d               64 x 512 x 11 x 11   1,179,648  False     \n",
       "________________________________________________________________\n",
       "BatchNorm2d          64 x 512 x 11 x 11   1,024      True      \n",
       "________________________________________________________________\n",
       "ReLU                 64 x 512 x 11 x 11   0          False     \n",
       "________________________________________________________________\n",
       "Conv2d               64 x 512 x 11 x 11   2,359,296  False     \n",
       "________________________________________________________________\n",
       "BatchNorm2d          64 x 512 x 11 x 11   1,024      True      \n",
       "________________________________________________________________\n",
       "Conv2d               64 x 512 x 11 x 11   131,072    False     \n",
       "________________________________________________________________\n",
       "BatchNorm2d          64 x 512 x 11 x 11   1,024      True      \n",
       "________________________________________________________________\n",
       "Conv2d               64 x 512 x 11 x 11   2,359,296  False     \n",
       "________________________________________________________________\n",
       "BatchNorm2d          64 x 512 x 11 x 11   1,024      True      \n",
       "________________________________________________________________\n",
       "ReLU                 64 x 512 x 11 x 11   0          False     \n",
       "________________________________________________________________\n",
       "Conv2d               64 x 512 x 11 x 11   2,359,296  False     \n",
       "________________________________________________________________\n",
       "BatchNorm2d          64 x 512 x 11 x 11   1,024      True      \n",
       "________________________________________________________________\n",
       "Conv2d               64 x 512 x 11 x 11   2,359,296  False     \n",
       "________________________________________________________________\n",
       "BatchNorm2d          64 x 512 x 11 x 11   1,024      True      \n",
       "________________________________________________________________\n",
       "ReLU                 64 x 512 x 11 x 11   0          False     \n",
       "________________________________________________________________\n",
       "Conv2d               64 x 512 x 11 x 11   2,359,296  False     \n",
       "________________________________________________________________\n",
       "BatchNorm2d          64 x 512 x 11 x 11   1,024      True      \n",
       "________________________________________________________________\n",
       "AdaptiveAvgPool2d    64 x 512 x 1 x 1     0          False     \n",
       "________________________________________________________________\n",
       "AdaptiveMaxPool2d    64 x 512 x 1 x 1     0          False     \n",
       "________________________________________________________________\n",
       "Flatten              64 x 1024            0          False     \n",
       "________________________________________________________________\n",
       "BatchNorm1d          64 x 1024            2,048      True      \n",
       "________________________________________________________________\n",
       "Dropout              64 x 1024            0          False     \n",
       "________________________________________________________________\n",
       "Linear               64 x 512             524,288    True      \n",
       "________________________________________________________________\n",
       "ReLU                 64 x 512             0          False     \n",
       "________________________________________________________________\n",
       "BatchNorm1d          64 x 512             1,024      True      \n",
       "________________________________________________________________\n",
       "Dropout              64 x 512             0          False     \n",
       "________________________________________________________________\n",
       "Linear               64 x 144             73,728     True      \n",
       "________________________________________________________________\n",
       "\n",
       "Total params: 21,885,760\n",
       "Total trainable params: 618,112\n",
       "Total non-trainable params: 21,267,648\n",
       "\n",
       "Optimizer used: <function Adam at 0x7fc82a51f160>\n",
       "Loss function: CrossEntropyLoss()\n",
       "\n",
       "Model frozen up to parameter group #1\n",
       "\n",
       "Callbacks:\n",
       "  - ModelToHalf\n",
       "  - TrainEvalCallback\n",
       "  - Recorder\n",
       "  - ProgressCallback\n",
       "  - MixedPrecision"
      ]
     },
     "execution_count": 18,
     "metadata": {},
     "output_type": "execute_result"
    }
   ],
   "source": [
    "learn.summary()"
   ]
  },
  {
   "cell_type": "code",
   "execution_count": 19,
   "metadata": {
    "scrolled": true
   },
   "outputs": [
    {
     "data": {
      "text/html": [
       "<table border=\"1\" class=\"dataframe\">\n",
       "  <thead>\n",
       "    <tr style=\"text-align: left;\">\n",
       "      <th>epoch</th>\n",
       "      <th>train_loss</th>\n",
       "      <th>valid_loss</th>\n",
       "      <th>accuracy</th>\n",
       "      <th>time</th>\n",
       "    </tr>\n",
       "  </thead>\n",
       "  <tbody>\n",
       "    <tr>\n",
       "      <td>0</td>\n",
       "      <td>2.742393</td>\n",
       "      <td>2.282099</td>\n",
       "      <td>0.375622</td>\n",
       "      <td>07:39</td>\n",
       "    </tr>\n",
       "  </tbody>\n",
       "</table>"
      ],
      "text/plain": [
       "<IPython.core.display.HTML object>"
      ]
     },
     "metadata": {},
     "output_type": "display_data"
    }
   ],
   "source": [
    "learn.fit(1, 3e-3)"
   ]
  },
  {
   "cell_type": "code",
   "execution_count": 20,
   "metadata": {},
   "outputs": [],
   "source": [
    "learn.unfreeze()"
   ]
  },
  {
   "cell_type": "code",
   "execution_count": 21,
   "metadata": {},
   "outputs": [
    {
     "data": {
      "text/html": [],
      "text/plain": [
       "<IPython.core.display.HTML object>"
      ]
     },
     "metadata": {},
     "output_type": "display_data"
    },
    {
     "data": {
      "text/plain": [
       "SuggestedLRs(lr_min=5.248074739938602e-06, lr_steep=9.12010818865383e-07)"
      ]
     },
     "execution_count": 21,
     "metadata": {},
     "output_type": "execute_result"
    },
    {
     "data": {
      "image/png": "[encoded data removed]",
      "text/plain": [
       "<Figure size 432x288 with 1 Axes>"
      ]
     },
     "metadata": {
      "needs_background": "light"
     },
     "output_type": "display_data"
    }
   ],
   "source": [
    "learn.lr_find()"
   ]
  },
  {
   "cell_type": "code",
   "execution_count": 22,
   "metadata": {
    "scrolled": true
   },
   "outputs": [
    {
     "data": {
      "text/html": [
       "<table border=\"1\" class=\"dataframe\">\n",
       "  <thead>\n",
       "    <tr style=\"text-align: left;\">\n",
       "      <th>epoch</th>\n",
       "      <th>train_loss</th>\n",
       "      <th>valid_loss</th>\n",
       "      <th>accuracy</th>\n",
       "      <th>time</th>\n",
       "    </tr>\n",
       "  </thead>\n",
       "  <tbody>\n",
       "    <tr>\n",
       "      <td>0</td>\n",
       "      <td>2.175799</td>\n",
       "      <td>1.922295</td>\n",
       "      <td>0.449473</td>\n",
       "      <td>07:26</td>\n",
       "    </tr>\n",
       "    <tr>\n",
       "      <td>1</td>\n",
       "      <td>2.007015</td>\n",
       "      <td>1.811669</td>\n",
       "      <td>0.470020</td>\n",
       "      <td>07:21</td>\n",
       "    </tr>\n",
       "    <tr>\n",
       "      <td>2</td>\n",
       "      <td>1.920804</td>\n",
       "      <td>1.747238</td>\n",
       "      <td>0.480669</td>\n",
       "      <td>07:21</td>\n",
       "    </tr>\n",
       "    <tr>\n",
       "      <td>3</td>\n",
       "      <td>1.875747</td>\n",
       "      <td>1.698101</td>\n",
       "      <td>0.491145</td>\n",
       "      <td>07:21</td>\n",
       "    </tr>\n",
       "    <tr>\n",
       "      <td>4</td>\n",
       "      <td>1.876154</td>\n",
       "      <td>1.657188</td>\n",
       "      <td>0.500289</td>\n",
       "      <td>07:22</td>\n",
       "    </tr>\n",
       "    <tr>\n",
       "      <td>5</td>\n",
       "      <td>1.768956</td>\n",
       "      <td>1.618541</td>\n",
       "      <td>0.508103</td>\n",
       "      <td>07:22</td>\n",
       "    </tr>\n",
       "    <tr>\n",
       "      <td>6</td>\n",
       "      <td>1.754207</td>\n",
       "      <td>1.584191</td>\n",
       "      <td>0.516958</td>\n",
       "      <td>07:21</td>\n",
       "    </tr>\n",
       "    <tr>\n",
       "      <td>7</td>\n",
       "      <td>1.660463</td>\n",
       "      <td>1.552040</td>\n",
       "      <td>0.520662</td>\n",
       "      <td>07:20</td>\n",
       "    </tr>\n",
       "    <tr>\n",
       "      <td>8</td>\n",
       "      <td>1.611795</td>\n",
       "      <td>1.523782</td>\n",
       "      <td>0.525234</td>\n",
       "      <td>07:19</td>\n",
       "    </tr>\n",
       "    <tr>\n",
       "      <td>9</td>\n",
       "      <td>1.569016</td>\n",
       "      <td>1.504333</td>\n",
       "      <td>0.531485</td>\n",
       "      <td>07:21</td>\n",
       "    </tr>\n",
       "  </tbody>\n",
       "</table>"
      ],
      "text/plain": [
       "<IPython.core.display.HTML object>"
      ]
     },
     "metadata": {},
     "output_type": "display_data"
    },
    {
     "data": {
      "text/plain": [
       "Path('models/families3-resnet34-exp1-fepochs1-uepochs10.pth')"
      ]
     },
     "execution_count": 22,
     "metadata": {},
     "output_type": "execute_result"
    }
   ],
   "source": [
    "learn.fit(10, slice(1e-6,1e-4))\n",
    "learn.save('families3-resnet34-exp1-fepochs1-uepochs10')"
   ]
  },
  {
   "cell_type": "code",
   "execution_count": 18,
   "metadata": {},
   "outputs": [],
   "source": [
    "def continue_training(pth_filename):\n",
    "    learn = Learner(dls, model, loss_func=nn.CrossEntropyLoss(weight=weights), metrics=accuracy,\n",
    "                       splitter=custom_splitter).to_fp16()\n",
    "    learn.load(pth_filename)\n",
    "    learn.unfreeze()\n",
    "    return learn"
   ]
  },
  {
   "cell_type": "code",
   "execution_count": 19,
   "metadata": {
    "scrolled": true
   },
   "outputs": [],
   "source": [
    "learn = continue_training('families3-resnet34-exp1-fepochs1-uepochs10')"
   ]
  },
  {
   "cell_type": "code",
   "execution_count": 20,
   "metadata": {
    "scrolled": true
   },
   "outputs": [
    {
     "data": {
      "text/html": [
       "<table border=\"1\" class=\"dataframe\">\n",
       "  <thead>\n",
       "    <tr style=\"text-align: left;\">\n",
       "      <th>epoch</th>\n",
       "      <th>train_loss</th>\n",
       "      <th>valid_loss</th>\n",
       "      <th>accuracy</th>\n",
       "      <th>time</th>\n",
       "    </tr>\n",
       "  </thead>\n",
       "  <tbody>\n",
       "    <tr>\n",
       "      <td>0</td>\n",
       "      <td>1.556881</td>\n",
       "      <td>1.486768</td>\n",
       "      <td>0.538025</td>\n",
       "      <td>07:23</td>\n",
       "    </tr>\n",
       "    <tr>\n",
       "      <td>1</td>\n",
       "      <td>1.470244</td>\n",
       "      <td>1.470202</td>\n",
       "      <td>0.543813</td>\n",
       "      <td>07:15</td>\n",
       "    </tr>\n",
       "    <tr>\n",
       "      <td>2</td>\n",
       "      <td>1.493793</td>\n",
       "      <td>1.449919</td>\n",
       "      <td>0.553941</td>\n",
       "      <td>07:14</td>\n",
       "    </tr>\n",
       "    <tr>\n",
       "      <td>3</td>\n",
       "      <td>1.490269</td>\n",
       "      <td>1.434003</td>\n",
       "      <td>0.552668</td>\n",
       "      <td>07:15</td>\n",
       "    </tr>\n",
       "    <tr>\n",
       "      <td>4</td>\n",
       "      <td>1.410971</td>\n",
       "      <td>1.414572</td>\n",
       "      <td>0.555794</td>\n",
       "      <td>07:15</td>\n",
       "    </tr>\n",
       "    <tr>\n",
       "      <td>5</td>\n",
       "      <td>1.476319</td>\n",
       "      <td>1.394028</td>\n",
       "      <td>0.559498</td>\n",
       "      <td>07:15</td>\n",
       "    </tr>\n",
       "    <tr>\n",
       "      <td>6</td>\n",
       "      <td>1.394598</td>\n",
       "      <td>1.387712</td>\n",
       "      <td>0.562044</td>\n",
       "      <td>07:15</td>\n",
       "    </tr>\n",
       "    <tr>\n",
       "      <td>7</td>\n",
       "      <td>1.330849</td>\n",
       "      <td>1.369415</td>\n",
       "      <td>0.567195</td>\n",
       "      <td>07:15</td>\n",
       "    </tr>\n",
       "    <tr>\n",
       "      <td>8</td>\n",
       "      <td>1.329729</td>\n",
       "      <td>1.359537</td>\n",
       "      <td>0.575472</td>\n",
       "      <td>07:16</td>\n",
       "    </tr>\n",
       "    <tr>\n",
       "      <td>9</td>\n",
       "      <td>1.277744</td>\n",
       "      <td>1.348867</td>\n",
       "      <td>0.574372</td>\n",
       "      <td>07:16</td>\n",
       "    </tr>\n",
       "  </tbody>\n",
       "</table>"
      ],
      "text/plain": [
       "<IPython.core.display.HTML object>"
      ]
     },
     "metadata": {},
     "output_type": "display_data"
    },
    {
     "data": {
      "text/plain": [
       "Path('models/families3-resnet34-exp1-fepochs1-uepochs20.pth')"
      ]
     },
     "execution_count": 20,
     "metadata": {},
     "output_type": "execute_result"
    }
   ],
   "source": [
    "learn.fit(10, slice(1e-6,1e-4))\n",
    "learn.save('families3-resnet34-exp1-fepochs1-uepochs20')"
   ]
  },
  {
   "cell_type": "code",
   "execution_count": 18,
   "metadata": {},
   "outputs": [],
   "source": [
    "learn = continue_training('families3-resnet34-exp1-fepochs1-uepochs20')"
   ]
  },
  {
   "cell_type": "code",
   "execution_count": 19,
   "metadata": {},
   "outputs": [
    {
     "data": {
      "text/html": [
       "<table border=\"1\" class=\"dataframe\">\n",
       "  <thead>\n",
       "    <tr style=\"text-align: left;\">\n",
       "      <th>epoch</th>\n",
       "      <th>train_loss</th>\n",
       "      <th>valid_loss</th>\n",
       "      <th>accuracy</th>\n",
       "      <th>time</th>\n",
       "    </tr>\n",
       "  </thead>\n",
       "  <tbody>\n",
       "    <tr>\n",
       "      <td>0</td>\n",
       "      <td>1.331320</td>\n",
       "      <td>1.332410</td>\n",
       "      <td>0.574546</td>\n",
       "      <td>07:30</td>\n",
       "    </tr>\n",
       "    <tr>\n",
       "      <td>1</td>\n",
       "      <td>1.276192</td>\n",
       "      <td>1.325161</td>\n",
       "      <td>0.576050</td>\n",
       "      <td>07:18</td>\n",
       "    </tr>\n",
       "    <tr>\n",
       "      <td>2</td>\n",
       "      <td>1.303143</td>\n",
       "      <td>1.316973</td>\n",
       "      <td>0.582185</td>\n",
       "      <td>07:18</td>\n",
       "    </tr>\n",
       "    <tr>\n",
       "      <td>3</td>\n",
       "      <td>1.227147</td>\n",
       "      <td>1.302216</td>\n",
       "      <td>0.581665</td>\n",
       "      <td>07:21</td>\n",
       "    </tr>\n",
       "    <tr>\n",
       "      <td>4</td>\n",
       "      <td>1.276997</td>\n",
       "      <td>1.293390</td>\n",
       "      <td>0.582012</td>\n",
       "      <td>07:20</td>\n",
       "    </tr>\n",
       "    <tr>\n",
       "      <td>5</td>\n",
       "      <td>1.169853</td>\n",
       "      <td>1.294036</td>\n",
       "      <td>0.584790</td>\n",
       "      <td>07:20</td>\n",
       "    </tr>\n",
       "    <tr>\n",
       "      <td>6</td>\n",
       "      <td>1.188002</td>\n",
       "      <td>1.279111</td>\n",
       "      <td>0.585311</td>\n",
       "      <td>07:20</td>\n",
       "    </tr>\n",
       "    <tr>\n",
       "      <td>7</td>\n",
       "      <td>1.173413</td>\n",
       "      <td>1.270410</td>\n",
       "      <td>0.590809</td>\n",
       "      <td>07:19</td>\n",
       "    </tr>\n",
       "    <tr>\n",
       "      <td>8</td>\n",
       "      <td>1.077395</td>\n",
       "      <td>1.269788</td>\n",
       "      <td>0.596365</td>\n",
       "      <td>07:20</td>\n",
       "    </tr>\n",
       "    <tr>\n",
       "      <td>9</td>\n",
       "      <td>1.210523</td>\n",
       "      <td>1.256027</td>\n",
       "      <td>0.596076</td>\n",
       "      <td>07:19</td>\n",
       "    </tr>\n",
       "  </tbody>\n",
       "</table>"
      ],
      "text/plain": [
       "<IPython.core.display.HTML object>"
      ]
     },
     "metadata": {},
     "output_type": "display_data"
    },
    {
     "data": {
      "text/plain": [
       "Path('models/families3-resnet34-exp1-fepochs1-uepochs30.pth')"
      ]
     },
     "execution_count": 19,
     "metadata": {},
     "output_type": "execute_result"
    }
   ],
   "source": [
    "learn.fit(10, slice(1e-6,1e-4))\n",
    "learn.save('families3-resnet34-exp1-fepochs1-uepochs30')"
   ]
  },
  {
   "cell_type": "code",
   "execution_count": null,
   "metadata": {},
   "outputs": [],
   "source": [
    "learn = continue_training('families3-resnet34-exp1-fepochs1-uepochs30')"
   ]
  },
  {
   "cell_type": "code",
   "execution_count": 20,
   "metadata": {},
   "outputs": [
    {
     "data": {
      "text/html": [
       "<table border=\"1\" class=\"dataframe\">\n",
       "  <thead>\n",
       "    <tr style=\"text-align: left;\">\n",
       "      <th>epoch</th>\n",
       "      <th>train_loss</th>\n",
       "      <th>valid_loss</th>\n",
       "      <th>accuracy</th>\n",
       "      <th>time</th>\n",
       "    </tr>\n",
       "  </thead>\n",
       "  <tbody>\n",
       "    <tr>\n",
       "      <td>0</td>\n",
       "      <td>1.125662</td>\n",
       "      <td>1.249777</td>\n",
       "      <td>0.595960</td>\n",
       "      <td>07:20</td>\n",
       "    </tr>\n",
       "    <tr>\n",
       "      <td>1</td>\n",
       "      <td>1.070667</td>\n",
       "      <td>1.243861</td>\n",
       "      <td>0.595150</td>\n",
       "      <td>07:20</td>\n",
       "    </tr>\n",
       "    <tr>\n",
       "      <td>2</td>\n",
       "      <td>1.067497</td>\n",
       "      <td>1.243339</td>\n",
       "      <td>0.604989</td>\n",
       "      <td>07:21</td>\n",
       "    </tr>\n",
       "    <tr>\n",
       "      <td>3</td>\n",
       "      <td>1.087376</td>\n",
       "      <td>1.233246</td>\n",
       "      <td>0.607073</td>\n",
       "      <td>07:19</td>\n",
       "    </tr>\n",
       "    <tr>\n",
       "      <td>4</td>\n",
       "      <td>1.103500</td>\n",
       "      <td>1.225334</td>\n",
       "      <td>0.607825</td>\n",
       "      <td>07:19</td>\n",
       "    </tr>\n",
       "    <tr>\n",
       "      <td>5</td>\n",
       "      <td>1.068834</td>\n",
       "      <td>1.221560</td>\n",
       "      <td>0.610082</td>\n",
       "      <td>07:20</td>\n",
       "    </tr>\n",
       "    <tr>\n",
       "      <td>6</td>\n",
       "      <td>1.054824</td>\n",
       "      <td>1.217513</td>\n",
       "      <td>0.607304</td>\n",
       "      <td>07:19</td>\n",
       "    </tr>\n",
       "    <tr>\n",
       "      <td>7</td>\n",
       "      <td>1.045401</td>\n",
       "      <td>1.211663</td>\n",
       "      <td>0.610777</td>\n",
       "      <td>07:20</td>\n",
       "    </tr>\n",
       "    <tr>\n",
       "      <td>8</td>\n",
       "      <td>1.016419</td>\n",
       "      <td>1.205195</td>\n",
       "      <td>0.611471</td>\n",
       "      <td>07:21</td>\n",
       "    </tr>\n",
       "    <tr>\n",
       "      <td>9</td>\n",
       "      <td>1.003317</td>\n",
       "      <td>1.200372</td>\n",
       "      <td>0.616217</td>\n",
       "      <td>07:20</td>\n",
       "    </tr>\n",
       "  </tbody>\n",
       "</table>"
      ],
      "text/plain": [
       "<IPython.core.display.HTML object>"
      ]
     },
     "metadata": {},
     "output_type": "display_data"
    },
    {
     "data": {
      "text/plain": [
       "Path('models/families3-resnet34-exp1-fepochs1-uepochs40.pth')"
      ]
     },
     "execution_count": 20,
     "metadata": {},
     "output_type": "execute_result"
    }
   ],
   "source": [
    "learn.fit(10, slice(1e-6,1e-4))\n",
    "learn.save('families3-resnet34-exp1-fepochs1-uepochs40')"
   ]
  },
  {
   "cell_type": "code",
   "execution_count": 19,
   "metadata": {},
   "outputs": [],
   "source": [
    "learn = continue_training('families3-resnet34-exp1-fepochs1-uepochs40')"
   ]
  },
  {
   "cell_type": "code",
   "execution_count": 20,
   "metadata": {},
   "outputs": [
    {
     "data": {
      "text/html": [
       "<table border=\"1\" class=\"dataframe\">\n",
       "  <thead>\n",
       "    <tr style=\"text-align: left;\">\n",
       "      <th>epoch</th>\n",
       "      <th>train_loss</th>\n",
       "      <th>valid_loss</th>\n",
       "      <th>accuracy</th>\n",
       "      <th>time</th>\n",
       "    </tr>\n",
       "  </thead>\n",
       "  <tbody>\n",
       "    <tr>\n",
       "      <td>0</td>\n",
       "      <td>0.993016</td>\n",
       "      <td>1.197132</td>\n",
       "      <td>0.618185</td>\n",
       "      <td>07:23</td>\n",
       "    </tr>\n",
       "    <tr>\n",
       "      <td>1</td>\n",
       "      <td>1.001871</td>\n",
       "      <td>1.200752</td>\n",
       "      <td>0.615175</td>\n",
       "      <td>07:13</td>\n",
       "    </tr>\n",
       "    <tr>\n",
       "      <td>2</td>\n",
       "      <td>0.949435</td>\n",
       "      <td>1.187927</td>\n",
       "      <td>0.623799</td>\n",
       "      <td>07:14</td>\n",
       "    </tr>\n",
       "    <tr>\n",
       "      <td>3</td>\n",
       "      <td>0.967037</td>\n",
       "      <td>1.189989</td>\n",
       "      <td>0.618995</td>\n",
       "      <td>07:12</td>\n",
       "    </tr>\n",
       "    <tr>\n",
       "      <td>4</td>\n",
       "      <td>1.018436</td>\n",
       "      <td>1.182669</td>\n",
       "      <td>0.622873</td>\n",
       "      <td>07:13</td>\n",
       "    </tr>\n",
       "    <tr>\n",
       "      <td>5</td>\n",
       "      <td>0.974418</td>\n",
       "      <td>1.182997</td>\n",
       "      <td>0.625535</td>\n",
       "      <td>07:13</td>\n",
       "    </tr>\n",
       "    <tr>\n",
       "      <td>6</td>\n",
       "      <td>0.926393</td>\n",
       "      <td>1.175126</td>\n",
       "      <td>0.625477</td>\n",
       "      <td>07:14</td>\n",
       "    </tr>\n",
       "    <tr>\n",
       "      <td>7</td>\n",
       "      <td>0.966800</td>\n",
       "      <td>1.176040</td>\n",
       "      <td>0.625883</td>\n",
       "      <td>07:14</td>\n",
       "    </tr>\n",
       "    <tr>\n",
       "      <td>8</td>\n",
       "      <td>0.980903</td>\n",
       "      <td>1.174417</td>\n",
       "      <td>0.627272</td>\n",
       "      <td>07:13</td>\n",
       "    </tr>\n",
       "    <tr>\n",
       "      <td>9</td>\n",
       "      <td>0.946424</td>\n",
       "      <td>1.171026</td>\n",
       "      <td>0.627793</td>\n",
       "      <td>07:13</td>\n",
       "    </tr>\n",
       "  </tbody>\n",
       "</table>"
      ],
      "text/plain": [
       "<IPython.core.display.HTML object>"
      ]
     },
     "metadata": {},
     "output_type": "display_data"
    },
    {
     "data": {
      "text/plain": [
       "Path('models/families3-resnet34-exp1-fepochs1-uepochs50.pth')"
      ]
     },
     "execution_count": 20,
     "metadata": {},
     "output_type": "execute_result"
    }
   ],
   "source": [
    "learn.fit(10, slice(1e-6,1e-4))\n",
    "learn.save('families3-resnet34-exp1-fepochs1-uepochs50')"
   ]
  },
  {
   "cell_type": "code",
   "execution_count": 21,
   "metadata": {
    "scrolled": true
   },
   "outputs": [],
   "source": [
    "learn.export('families3-resnet34-exp1-fepochs1-uepochs50')"
   ]
  },
  {
   "cell_type": "markdown",
   "metadata": {},
   "source": [
    "# Experiment 8: 1-Branch Family after block 2"
   ]
  },
  {
   "cell_type": "code",
   "execution_count": 10,
   "metadata": {
    "scrolled": true
   },
   "outputs": [
    {
     "data": {
      "text/plain": [
       "Sequential(\n",
       "  (0): Conv2d(3, 64, kernel_size=(7, 7), stride=(2, 2), padding=(3, 3), bias=False)\n",
       "  (1): BatchNorm2d(64, eps=1e-05, momentum=0.1, affine=True, track_running_stats=True)\n",
       "  (2): ReLU(inplace=True)\n",
       "  (3): MaxPool2d(kernel_size=3, stride=2, padding=1, dilation=1, ceil_mode=False)\n",
       "  (4): Sequential(\n",
       "    (0): BasicBlock(\n",
       "      (conv1): Conv2d(64, 64, kernel_size=(3, 3), stride=(1, 1), padding=(1, 1), bias=False)\n",
       "      (bn1): BatchNorm2d(64, eps=1e-05, momentum=0.1, affine=True, track_running_stats=True)\n",
       "      (relu): ReLU(inplace=True)\n",
       "      (conv2): Conv2d(64, 64, kernel_size=(3, 3), stride=(1, 1), padding=(1, 1), bias=False)\n",
       "      (bn2): BatchNorm2d(64, eps=1e-05, momentum=0.1, affine=True, track_running_stats=True)\n",
       "    )\n",
       "    (1): BasicBlock(\n",
       "      (conv1): Conv2d(64, 64, kernel_size=(3, 3), stride=(1, 1), padding=(1, 1), bias=False)\n",
       "      (bn1): BatchNorm2d(64, eps=1e-05, momentum=0.1, affine=True, track_running_stats=True)\n",
       "      (relu): ReLU(inplace=True)\n",
       "      (conv2): Conv2d(64, 64, kernel_size=(3, 3), stride=(1, 1), padding=(1, 1), bias=False)\n",
       "      (bn2): BatchNorm2d(64, eps=1e-05, momentum=0.1, affine=True, track_running_stats=True)\n",
       "    )\n",
       "    (2): BasicBlock(\n",
       "      (conv1): Conv2d(64, 64, kernel_size=(3, 3), stride=(1, 1), padding=(1, 1), bias=False)\n",
       "      (bn1): BatchNorm2d(64, eps=1e-05, momentum=0.1, affine=True, track_running_stats=True)\n",
       "      (relu): ReLU(inplace=True)\n",
       "      (conv2): Conv2d(64, 64, kernel_size=(3, 3), stride=(1, 1), padding=(1, 1), bias=False)\n",
       "      (bn2): BatchNorm2d(64, eps=1e-05, momentum=0.1, affine=True, track_running_stats=True)\n",
       "    )\n",
       "  )\n",
       "  (5): Sequential(\n",
       "    (0): BasicBlock(\n",
       "      (conv1): Conv2d(64, 128, kernel_size=(3, 3), stride=(2, 2), padding=(1, 1), bias=False)\n",
       "      (bn1): BatchNorm2d(128, eps=1e-05, momentum=0.1, affine=True, track_running_stats=True)\n",
       "      (relu): ReLU(inplace=True)\n",
       "      (conv2): Conv2d(128, 128, kernel_size=(3, 3), stride=(1, 1), padding=(1, 1), bias=False)\n",
       "      (bn2): BatchNorm2d(128, eps=1e-05, momentum=0.1, affine=True, track_running_stats=True)\n",
       "      (downsample): Sequential(\n",
       "        (0): Conv2d(64, 128, kernel_size=(1, 1), stride=(2, 2), bias=False)\n",
       "        (1): BatchNorm2d(128, eps=1e-05, momentum=0.1, affine=True, track_running_stats=True)\n",
       "      )\n",
       "    )\n",
       "    (1): BasicBlock(\n",
       "      (conv1): Conv2d(128, 128, kernel_size=(3, 3), stride=(1, 1), padding=(1, 1), bias=False)\n",
       "      (bn1): BatchNorm2d(128, eps=1e-05, momentum=0.1, affine=True, track_running_stats=True)\n",
       "      (relu): ReLU(inplace=True)\n",
       "      (conv2): Conv2d(128, 128, kernel_size=(3, 3), stride=(1, 1), padding=(1, 1), bias=False)\n",
       "      (bn2): BatchNorm2d(128, eps=1e-05, momentum=0.1, affine=True, track_running_stats=True)\n",
       "    )\n",
       "    (2): BasicBlock(\n",
       "      (conv1): Conv2d(128, 128, kernel_size=(3, 3), stride=(1, 1), padding=(1, 1), bias=False)\n",
       "      (bn1): BatchNorm2d(128, eps=1e-05, momentum=0.1, affine=True, track_running_stats=True)\n",
       "      (relu): ReLU(inplace=True)\n",
       "      (conv2): Conv2d(128, 128, kernel_size=(3, 3), stride=(1, 1), padding=(1, 1), bias=False)\n",
       "      (bn2): BatchNorm2d(128, eps=1e-05, momentum=0.1, affine=True, track_running_stats=True)\n",
       "    )\n",
       "    (3): BasicBlock(\n",
       "      (conv1): Conv2d(128, 128, kernel_size=(3, 3), stride=(1, 1), padding=(1, 1), bias=False)\n",
       "      (bn1): BatchNorm2d(128, eps=1e-05, momentum=0.1, affine=True, track_running_stats=True)\n",
       "      (relu): ReLU(inplace=True)\n",
       "      (conv2): Conv2d(128, 128, kernel_size=(3, 3), stride=(1, 1), padding=(1, 1), bias=False)\n",
       "      (bn2): BatchNorm2d(128, eps=1e-05, momentum=0.1, affine=True, track_running_stats=True)\n",
       "    )\n",
       "  )\n",
       "  (6): Sequential(\n",
       "    (0): BasicBlock(\n",
       "      (conv1): Conv2d(128, 256, kernel_size=(3, 3), stride=(2, 2), padding=(1, 1), bias=False)\n",
       "      (bn1): BatchNorm2d(256, eps=1e-05, momentum=0.1, affine=True, track_running_stats=True)\n",
       "      (relu): ReLU(inplace=True)\n",
       "      (conv2): Conv2d(256, 256, kernel_size=(3, 3), stride=(1, 1), padding=(1, 1), bias=False)\n",
       "      (bn2): BatchNorm2d(256, eps=1e-05, momentum=0.1, affine=True, track_running_stats=True)\n",
       "      (downsample): Sequential(\n",
       "        (0): Conv2d(128, 256, kernel_size=(1, 1), stride=(2, 2), bias=False)\n",
       "        (1): BatchNorm2d(256, eps=1e-05, momentum=0.1, affine=True, track_running_stats=True)\n",
       "      )\n",
       "    )\n",
       "    (1): BasicBlock(\n",
       "      (conv1): Conv2d(256, 256, kernel_size=(3, 3), stride=(1, 1), padding=(1, 1), bias=False)\n",
       "      (bn1): BatchNorm2d(256, eps=1e-05, momentum=0.1, affine=True, track_running_stats=True)\n",
       "      (relu): ReLU(inplace=True)\n",
       "      (conv2): Conv2d(256, 256, kernel_size=(3, 3), stride=(1, 1), padding=(1, 1), bias=False)\n",
       "      (bn2): BatchNorm2d(256, eps=1e-05, momentum=0.1, affine=True, track_running_stats=True)\n",
       "    )\n",
       "    (2): BasicBlock(\n",
       "      (conv1): Conv2d(256, 256, kernel_size=(3, 3), stride=(1, 1), padding=(1, 1), bias=False)\n",
       "      (bn1): BatchNorm2d(256, eps=1e-05, momentum=0.1, affine=True, track_running_stats=True)\n",
       "      (relu): ReLU(inplace=True)\n",
       "      (conv2): Conv2d(256, 256, kernel_size=(3, 3), stride=(1, 1), padding=(1, 1), bias=False)\n",
       "      (bn2): BatchNorm2d(256, eps=1e-05, momentum=0.1, affine=True, track_running_stats=True)\n",
       "    )\n",
       "    (3): BasicBlock(\n",
       "      (conv1): Conv2d(256, 256, kernel_size=(3, 3), stride=(1, 1), padding=(1, 1), bias=False)\n",
       "      (bn1): BatchNorm2d(256, eps=1e-05, momentum=0.1, affine=True, track_running_stats=True)\n",
       "      (relu): ReLU(inplace=True)\n",
       "      (conv2): Conv2d(256, 256, kernel_size=(3, 3), stride=(1, 1), padding=(1, 1), bias=False)\n",
       "      (bn2): BatchNorm2d(256, eps=1e-05, momentum=0.1, affine=True, track_running_stats=True)\n",
       "    )\n",
       "    (4): BasicBlock(\n",
       "      (conv1): Conv2d(256, 256, kernel_size=(3, 3), stride=(1, 1), padding=(1, 1), bias=False)\n",
       "      (bn1): BatchNorm2d(256, eps=1e-05, momentum=0.1, affine=True, track_running_stats=True)\n",
       "      (relu): ReLU(inplace=True)\n",
       "      (conv2): Conv2d(256, 256, kernel_size=(3, 3), stride=(1, 1), padding=(1, 1), bias=False)\n",
       "      (bn2): BatchNorm2d(256, eps=1e-05, momentum=0.1, affine=True, track_running_stats=True)\n",
       "    )\n",
       "    (5): BasicBlock(\n",
       "      (conv1): Conv2d(256, 256, kernel_size=(3, 3), stride=(1, 1), padding=(1, 1), bias=False)\n",
       "      (bn1): BatchNorm2d(256, eps=1e-05, momentum=0.1, affine=True, track_running_stats=True)\n",
       "      (relu): ReLU(inplace=True)\n",
       "      (conv2): Conv2d(256, 256, kernel_size=(3, 3), stride=(1, 1), padding=(1, 1), bias=False)\n",
       "      (bn2): BatchNorm2d(256, eps=1e-05, momentum=0.1, affine=True, track_running_stats=True)\n",
       "    )\n",
       "  )\n",
       "  (7): Sequential(\n",
       "    (0): BasicBlock(\n",
       "      (conv1): Conv2d(256, 512, kernel_size=(3, 3), stride=(2, 2), padding=(1, 1), bias=False)\n",
       "      (bn1): BatchNorm2d(512, eps=1e-05, momentum=0.1, affine=True, track_running_stats=True)\n",
       "      (relu): ReLU(inplace=True)\n",
       "      (conv2): Conv2d(512, 512, kernel_size=(3, 3), stride=(1, 1), padding=(1, 1), bias=False)\n",
       "      (bn2): BatchNorm2d(512, eps=1e-05, momentum=0.1, affine=True, track_running_stats=True)\n",
       "      (downsample): Sequential(\n",
       "        (0): Conv2d(256, 512, kernel_size=(1, 1), stride=(2, 2), bias=False)\n",
       "        (1): BatchNorm2d(512, eps=1e-05, momentum=0.1, affine=True, track_running_stats=True)\n",
       "      )\n",
       "    )\n",
       "    (1): BasicBlock(\n",
       "      (conv1): Conv2d(512, 512, kernel_size=(3, 3), stride=(1, 1), padding=(1, 1), bias=False)\n",
       "      (bn1): BatchNorm2d(512, eps=1e-05, momentum=0.1, affine=True, track_running_stats=True)\n",
       "      (relu): ReLU(inplace=True)\n",
       "      (conv2): Conv2d(512, 512, kernel_size=(3, 3), stride=(1, 1), padding=(1, 1), bias=False)\n",
       "      (bn2): BatchNorm2d(512, eps=1e-05, momentum=0.1, affine=True, track_running_stats=True)\n",
       "    )\n",
       "    (2): BasicBlock(\n",
       "      (conv1): Conv2d(512, 512, kernel_size=(3, 3), stride=(1, 1), padding=(1, 1), bias=False)\n",
       "      (bn1): BatchNorm2d(512, eps=1e-05, momentum=0.1, affine=True, track_running_stats=True)\n",
       "      (relu): ReLU(inplace=True)\n",
       "      (conv2): Conv2d(512, 512, kernel_size=(3, 3), stride=(1, 1), padding=(1, 1), bias=False)\n",
       "      (bn2): BatchNorm2d(512, eps=1e-05, momentum=0.1, affine=True, track_running_stats=True)\n",
       "    )\n",
       "  )\n",
       ")"
      ]
     },
     "execution_count": 10,
     "metadata": {},
     "output_type": "execute_result"
    }
   ],
   "source": [
    "model = resnet34\n",
    "body = create_body(model, cut=-2)\n",
    "body"
   ]
  },
  {
   "cell_type": "code",
   "execution_count": 11,
   "metadata": {},
   "outputs": [
    {
     "data": {
      "text/plain": [
       "Sequential(\n",
       "  (0): Conv2d(3, 64, kernel_size=(7, 7), stride=(2, 2), padding=(3, 3), bias=False)\n",
       "  (1): BatchNorm2d(64, eps=1e-05, momentum=0.1, affine=True, track_running_stats=True)\n",
       "  (2): ReLU(inplace=True)\n",
       "  (3): MaxPool2d(kernel_size=3, stride=2, padding=1, dilation=1, ceil_mode=False)\n",
       ")"
      ]
     },
     "execution_count": 11,
     "metadata": {},
     "output_type": "execute_result"
    }
   ],
   "source": [
    "stem = body[0:4]\n",
    "stem"
   ]
  },
  {
   "cell_type": "code",
   "execution_count": 12,
   "metadata": {},
   "outputs": [
    {
     "data": {
      "text/plain": [
       "Sequential(\n",
       "  (0): BasicBlock(\n",
       "    (conv1): Conv2d(64, 64, kernel_size=(3, 3), stride=(1, 1), padding=(1, 1), bias=False)\n",
       "    (bn1): BatchNorm2d(64, eps=1e-05, momentum=0.1, affine=True, track_running_stats=True)\n",
       "    (relu): ReLU(inplace=True)\n",
       "    (conv2): Conv2d(64, 64, kernel_size=(3, 3), stride=(1, 1), padding=(1, 1), bias=False)\n",
       "    (bn2): BatchNorm2d(64, eps=1e-05, momentum=0.1, affine=True, track_running_stats=True)\n",
       "  )\n",
       "  (1): BasicBlock(\n",
       "    (conv1): Conv2d(64, 64, kernel_size=(3, 3), stride=(1, 1), padding=(1, 1), bias=False)\n",
       "    (bn1): BatchNorm2d(64, eps=1e-05, momentum=0.1, affine=True, track_running_stats=True)\n",
       "    (relu): ReLU(inplace=True)\n",
       "    (conv2): Conv2d(64, 64, kernel_size=(3, 3), stride=(1, 1), padding=(1, 1), bias=False)\n",
       "    (bn2): BatchNorm2d(64, eps=1e-05, momentum=0.1, affine=True, track_running_stats=True)\n",
       "  )\n",
       "  (2): BasicBlock(\n",
       "    (conv1): Conv2d(64, 64, kernel_size=(3, 3), stride=(1, 1), padding=(1, 1), bias=False)\n",
       "    (bn1): BatchNorm2d(64, eps=1e-05, momentum=0.1, affine=True, track_running_stats=True)\n",
       "    (relu): ReLU(inplace=True)\n",
       "    (conv2): Conv2d(64, 64, kernel_size=(3, 3), stride=(1, 1), padding=(1, 1), bias=False)\n",
       "    (bn2): BatchNorm2d(64, eps=1e-05, momentum=0.1, affine=True, track_running_stats=True)\n",
       "  )\n",
       ")"
      ]
     },
     "execution_count": 12,
     "metadata": {},
     "output_type": "execute_result"
    }
   ],
   "source": [
    "block1, block2, block3, block4 = body[4], body[5], body[6], body[7]\n",
    "block1"
   ]
  },
  {
   "cell_type": "code",
   "execution_count": 13,
   "metadata": {
    "scrolled": true
   },
   "outputs": [
    {
     "data": {
      "text/plain": [
       "Sequential(\n",
       "  (0): AdaptiveConcatPool2d(\n",
       "    (ap): AdaptiveAvgPool2d(output_size=1)\n",
       "    (mp): AdaptiveMaxPool2d(output_size=1)\n",
       "  )\n",
       "  (1): Flatten(full=False)\n",
       "  (2): BatchNorm1d(1024, eps=1e-05, momentum=0.1, affine=True, track_running_stats=True)\n",
       "  (3): Dropout(p=0.25, inplace=False)\n",
       "  (4): Linear(in_features=1024, out_features=512, bias=False)\n",
       "  (5): ReLU(inplace=True)\n",
       "  (6): BatchNorm1d(512, eps=1e-05, momentum=0.1, affine=True, track_running_stats=True)\n",
       "  (7): Dropout(p=0.5, inplace=False)\n",
       "  (8): Linear(in_features=512, out_features=144, bias=False)\n",
       ")"
      ]
     },
     "execution_count": 13,
     "metadata": {},
     "output_type": "execute_result"
    }
   ],
   "source": [
    "head = create_head(512*2,dls.c)\n",
    "head"
   ]
  },
  {
   "cell_type": "code",
   "execution_count": 14,
   "metadata": {
    "scrolled": true
   },
   "outputs": [],
   "source": [
    "def custom_get_y(o):\n",
    "    fine_label = o['Specie']\n",
    "    coarse1_label = o['Family']\n",
    "    return [coarse1_label, fine_label]"
   ]
  },
  {
   "cell_type": "code",
   "execution_count": 15,
   "metadata": {
    "scrolled": true
   },
   "outputs": [],
   "source": [
    "class Resnet34CustomModel(Module):\n",
    "    def __init__(self, encoder, head):\n",
    "        self.encoder = encoder\n",
    "        self.stem = encoder[0:4]\n",
    "        self.block1 = body[4]\n",
    "        self.block2 = body[5]\n",
    "        self.branch1 = create_head(128*2, len(set(df['Family'])))\n",
    "        self.block3 = body[6]\n",
    "        self.block4 = body[7]\n",
    "        self.head = head\n",
    "    \n",
    "    def forward(self, x):\n",
    "        x = self.stem(x)\n",
    "        x = self.block1(x)\n",
    "        x = self.block2(x)\n",
    "        coarse1_label = self.branch1(x)\n",
    "        x = self.block3(x)\n",
    "        x = self.block4(x)\n",
    "        fine_label = self.head(x)\n",
    "        return {\n",
    "                'fine_label': fine_label,\n",
    "                'coarse1_label': coarse1_label\n",
    "               }"
   ]
  },
  {
   "cell_type": "code",
   "execution_count": 16,
   "metadata": {
    "scrolled": true
   },
   "outputs": [],
   "source": [
    "model = Resnet34CustomModel(body, head)"
   ]
  },
  {
   "cell_type": "code",
   "execution_count": 17,
   "metadata": {
    "scrolled": true
   },
   "outputs": [],
   "source": [
    "class CustomCategorize(DisplayedTransform):\n",
    "    \"Reversible transform of category string to `vocab` id\"\n",
    "    loss_func,order=CrossEntropyLossFlat(),1\n",
    "    def __init__(self, vocab=None, vocab_coarse1=None, vocab_coarse2=None, sort=True, add_na=False, num_y=1):\n",
    "        store_attr()\n",
    "        self.vocab = None if vocab is None else CategoryMap(vocab, sort=sort, add_na=add_na)\n",
    "        self.vocab_coarse1 = None if vocab_coarse1 is None else CategoryMap(vocab_coarse1, sort=sort, add_na=add_na)\n",
    "\n",
    "    def setups(self, dsets):\n",
    "        fine_dsets = [d[1] for d in dsets]\n",
    "        coarse1_dsets = [d[0] for d in dsets]\n",
    "        if self.vocab is None and dsets is not None: self.vocab = CategoryMap(fine_dsets, sort=self.sort, add_na=self.add_na)\n",
    "        if self.vocab_coarse1 is None and dsets is not None: self.vocab_coarse1 = CategoryMap(coarse1_dsets, sort=self.sort, add_na=self.add_na)\n",
    "        self.c = len(self.vocab)\n",
    "\n",
    "    def encodes(self, o): return {'fine_label': TensorCategory(self.vocab.o2i[o[1]]),\n",
    "                                  'coarse1_label': TensorCategory(self.vocab_coarse1.o2i[o[0]])\n",
    "                                 }\n",
    "    def decodes(self, o): return Category      (self.vocab    [o])"
   ]
  },
  {
   "cell_type": "code",
   "execution_count": 18,
   "metadata": {
    "scrolled": true
   },
   "outputs": [],
   "source": [
    "def CustomCategoryBlock(vocab=None, sort=True, add_na=False, num_y=1):\n",
    "    \"`TransformBlock` for single-label categorical targets\"\n",
    "    return TransformBlock(type_tfms=CustomCategorize(vocab=vocab, sort=sort, add_na=add_na))"
   ]
  },
  {
   "cell_type": "code",
   "execution_count": 19,
   "metadata": {
    "scrolled": true
   },
   "outputs": [],
   "source": [
    "def custom_splitter(model):\n",
    "    return [params(model.stem),\n",
    "            params(model.block1),\n",
    "            params(model.block2),\n",
    "            params(model.block3),\n",
    "            params(model.block4),\n",
    "            params(model.head)]"
   ]
  },
  {
   "cell_type": "code",
   "execution_count": 20,
   "metadata": {
    "scrolled": true
   },
   "outputs": [],
   "source": [
    "fishes = DataBlock(blocks = (ImageBlock, CustomCategoryBlock),\n",
    "                 splitter=ColSplitter(),\n",
    "                 get_x = ColReader(5, pref=path),\n",
    "                 get_y=custom_get_y,\n",
    "                 item_tfms=RandomResizedCrop(336, min_scale=0.5),\n",
    "                 batch_tfms=aug_transforms())\n",
    "dls = fishes.dataloaders(df)"
   ]
  },
  {
   "cell_type": "code",
   "execution_count": 21,
   "metadata": {
    "scrolled": true
   },
   "outputs": [
    {
     "data": {
      "text/plain": [
       "((#69110) [(PILImage mode=RGB size=1024x768, {'fine_label': TensorCategory(13), 'coarse1_label': TensorCategory(0)}),(PILImage mode=RGB size=1024x768, {'fine_label': TensorCategory(83), 'coarse1_label': TensorCategory(0)}),(PILImage mode=RGB size=768x1024, {'fine_label': TensorCategory(83), 'coarse1_label': TensorCategory(0)}),(PILImage mode=RGB size=1024x915, {'fine_label': TensorCategory(1), 'coarse1_label': TensorCategory(2)}),(PILImage mode=RGB size=1024x768, {'fine_label': TensorCategory(38), 'coarse1_label': TensorCategory(2)}),(PILImage mode=RGB size=1024x683, {'fine_label': TensorCategory(128), 'coarse1_label': TensorCategory(1)}),(PILImage mode=RGB size=1024x768, {'fine_label': TensorCategory(70), 'coarse1_label': TensorCategory(0)}),(PILImage mode=RGB size=1024x642, {'fine_label': TensorCategory(85), 'coarse1_label': TensorCategory(2)}),(PILImage mode=RGB size=1024x683, {'fine_label': TensorCategory(83), 'coarse1_label': TensorCategory(0)}),(PILImage mode=RGB size=843x1024, {'fine_label': TensorCategory(136), 'coarse1_label': TensorCategory(2)})...],\n",
       " (#17278) [(PILImage mode=RGB size=768x1024, {'fine_label': TensorCategory(83), 'coarse1_label': TensorCategory(0)}),(PILImage mode=RGB size=1024x636, {'fine_label': TensorCategory(83), 'coarse1_label': TensorCategory(0)}),(PILImage mode=RGB size=1024x768, {'fine_label': TensorCategory(52), 'coarse1_label': TensorCategory(1)}),(PILImage mode=RGB size=1024x768, {'fine_label': TensorCategory(42), 'coarse1_label': TensorCategory(2)}),(PILImage mode=RGB size=768x1024, {'fine_label': TensorCategory(69), 'coarse1_label': TensorCategory(0)}),(PILImage mode=RGB size=653x672, {'fine_label': TensorCategory(104), 'coarse1_label': TensorCategory(2)}),(PILImage mode=RGB size=1024x768, {'fine_label': TensorCategory(131), 'coarse1_label': TensorCategory(1)}),(PILImage mode=RGB size=1024x1024, {'fine_label': TensorCategory(69), 'coarse1_label': TensorCategory(0)}),(PILImage mode=RGB size=808x572, {'fine_label': TensorCategory(104), 'coarse1_label': TensorCategory(2)}),(PILImage mode=RGB size=1024x1024, {'fine_label': TensorCategory(75), 'coarse1_label': TensorCategory(0)})...])"
      ]
     },
     "execution_count": 21,
     "metadata": {},
     "output_type": "execute_result"
    }
   ],
   "source": [
    "dls.train_ds, dls.valid_ds"
   ]
  },
  {
   "cell_type": "code",
   "execution_count": 22,
   "metadata": {
    "scrolled": false
   },
   "outputs": [
    {
     "data": {
      "text/plain": [
       "(['Abramis brama', 'Abudefduf abdominalis', 'Abudefduf bengalensis', 'Abudefduf saxatilis', 'Abudefduf septemfasciatus', 'Abudefduf sexfasciatus', 'Abudefduf sordidus', 'Abudefduf troschelii', 'Abudefduf vaigiensis', 'Acanthochromis polyacanthus', 'Acrossocheilus paradoxus', 'Alburnus alburnus', 'Alburnus arborella', 'Ambloplites rupestris', 'Amblyglyphidodon aureus', 'Amblyglyphidodon curacao', 'Amblyglyphidodon leucogaster', 'Amphiprion bicinctus', 'Amphiprion chrysopterus', 'Amphiprion clarkii', 'Amphiprion frenatus', 'Amphiprion melanopus', 'Amphiprion ocellaris', 'Amphiprion percula', 'Amphiprion perideraion', 'Amphiprion polymnus', 'Barbus barbus', 'Barbus plebejus', 'Campostoma anomalum', 'Candidia barbata', 'Carassius auratus', 'Carassius gibelio', 'Centrarchus macropterus', 'Chromis atripectoralis', 'Chromis chromis', 'Chromis cyanea', 'Chromis hypsilepis', 'Chromis margaritifer', 'Chromis multilineata', 'Chromis notata', 'Chromis punctipinnis', 'Chromis ternatensis', 'Chromis viridis', 'Chrosomus eos', 'Chrosomus erythrogaster', 'Chrysiptera brownriggii', 'Chrysiptera taupou', 'Clinostomus funduloides', 'Ctenopharyngodon idella', 'Cyprinella lutrensis', 'Cyprinella spiloptera', 'Cyprinella venusta', 'Cyprinus carpio', 'Cyprinus rubrofuscus', 'Dascyllus abudafur', 'Dascyllus albisella', 'Dascyllus aruanus', 'Dascyllus reticulatus', 'Dascyllus trimaculatus', 'Enneacanthus gloriosus', 'Gobio gobio', 'Hesperoleucus symmetricus', 'Hypophthalmichthys molitrix', 'Hypsypops rubicundus', 'Lepomis auritus', 'Lepomis cyanellus', 'Lepomis gibbosus', 'Lepomis gulosus', 'Lepomis humilis', 'Lepomis macrochirus', 'Lepomis marginatus', 'Lepomis megalotis', 'Lepomis microlophus', 'Lepomis miniatus', 'Lepomis peltastes', 'Lepomis punctatus', 'Luxilus chrysocephalus', 'Luxilus cornutus', 'Mecaenichthys immaculatus', 'Micropterus dolomieu', 'Micropterus floridanus', 'Micropterus henshalli', 'Micropterus punctulatus', 'Micropterus salmoides', 'Micropterus treculii', 'Microspathodon chrysurus', 'Microspathodon dorsalis', 'Neoglyphidodon melas', 'Neoglyphidodon nigroris', 'Neopomacentrus bankieri', 'Neopomacentrus cyanomos', 'Nocomis biguttatus', 'Nocomis leptocephalus', 'Nocomis micropogon', 'Notemigonus crysoleucas', 'Notropis atherinoides', 'Notropis hudsonius', 'Notropis rubellus', 'Notropis stramineus', 'Notropis volucellus', 'Opsariichthys pachycephalus', 'Parazacco spilurus', 'Parma microlepis', 'Parma unifasciata', 'Parma victoriae', 'Phoxinus phoxinus', 'Pimephales notatus', 'Pimephales promelas', 'Pimephales vigilax', 'Plectroglyphidodon dickii', 'Plectroglyphidodon lacrymatus', 'Pomacentrus bankanensis', 'Pomacentrus coelestis', 'Pomacentrus moluccensis', 'Pomacentrus pavo', 'Pomacentrus sulfureus', 'Pomacentrus vaiuli', 'Pomoxis annularis', 'Pomoxis nigromaculatus', 'Premnas biaculeatus', 'Pseudorasbora parva', 'Ptychocheilus oregonensis', 'Rhinichthys atratulus', 'Rhinichthys cataractae', 'Rhinichthys obtusus', 'Rhinichthys osculus', 'Rutilus rutilus', 'Scardinius erythrophthalmus', 'Semotilus atromaculatus', 'Semotilus corporalis', 'Squalius cephalus', 'Squalius squalus', 'Stegastes acapulcoensis', 'Stegastes adustus', 'Stegastes arcifrons', 'Stegastes diencaeus', 'Stegastes leucostictus', 'Stegastes marginatus', 'Stegastes nigricans', 'Stegastes partitus', 'Stegastes planifrons', 'Systomus rubripinnis', 'Telestes muticellus', 'Tinca tinca'],\n",
       " ['Centrarchidae', 'Cyprinidae', 'Pomacentridae'])"
      ]
     },
     "execution_count": 22,
     "metadata": {},
     "output_type": "execute_result"
    }
   ],
   "source": [
    "dls.vocab, dls.vocab_coarse1"
   ]
  },
  {
   "cell_type": "code",
   "execution_count": 23,
   "metadata": {},
   "outputs": [],
   "source": [
    "weights = tensor([float(weights_df[weights_df['Specie']==c]['Weight']) for c in dls.vocab]).cuda()\n",
    "weights_family = tensor([float(weights_family_df[weights_family_df['Family']==c]['Weight']) for c in dls.vocab_coarse1]).cuda()"
   ]
  },
  {
   "cell_type": "code",
   "execution_count": 24,
   "metadata": {
    "scrolled": true
   },
   "outputs": [],
   "source": [
    "def loss_func(out, targ):\n",
    "    return nn.CrossEntropyLoss(weight=weights)(out['fine_label'], targ['fine_label']) + \\\n",
    "            nn.CrossEntropyLoss(weight=weights_family)(out['coarse1_label'], targ['coarse1_label'])"
   ]
  },
  {
   "cell_type": "code",
   "execution_count": 25,
   "metadata": {
    "scrolled": true
   },
   "outputs": [],
   "source": [
    "def custom_accuracy(inp, targ, axis=-1):\n",
    "    pred1,targ1 = flatten_check(inp['fine_label'].argmax(dim=axis), targ['fine_label'])\n",
    "    acc1 = (pred1 == targ1).float().mean()\n",
    "    return acc1"
   ]
  },
  {
   "cell_type": "code",
   "execution_count": 38,
   "metadata": {
    "scrolled": true
   },
   "outputs": [],
   "source": [
    "learn = Learner(dls, model, loss_func=loss_func, metrics=custom_accuracy,\n",
    "                   splitter=custom_splitter).to_fp16()\n",
    "learn.freeze()"
   ]
  },
  {
   "cell_type": "code",
   "execution_count": 39,
   "metadata": {
    "scrolled": true
   },
   "outputs": [
    {
     "data": {
      "text/html": [
       "<table border=\"1\" class=\"dataframe\">\n",
       "  <thead>\n",
       "    <tr style=\"text-align: left;\">\n",
       "      <th>epoch</th>\n",
       "      <th>train_loss</th>\n",
       "      <th>valid_loss</th>\n",
       "      <th>custom_accuracy</th>\n",
       "      <th>time</th>\n",
       "    </tr>\n",
       "  </thead>\n",
       "  <tbody>\n",
       "    <tr>\n",
       "      <td>0</td>\n",
       "      <td>None</td>\n",
       "      <td>None</td>\n",
       "      <td>00:00</td>\n",
       "    </tr>\n",
       "  </tbody>\n",
       "</table>"
      ],
      "text/plain": [
       "<IPython.core.display.HTML object>"
      ]
     },
     "metadata": {},
     "output_type": "display_data"
    },
    {
     "data": {
      "text/plain": [
       "Resnet34CustomModel (Input shape: ['64 x 3 x 336 x 336'])\n",
       "================================================================\n",
       "Layer (type)         Output Shape         Param #    Trainable \n",
       "================================================================\n",
       "Conv2d               64 x 64 x 168 x 168  9,408      False     \n",
       "________________________________________________________________\n",
       "BatchNorm2d          64 x 64 x 168 x 168  128        True      \n",
       "________________________________________________________________\n",
       "ReLU                 64 x 64 x 168 x 168  0          False     \n",
       "________________________________________________________________\n",
       "MaxPool2d            64 x 64 x 84 x 84    0          False     \n",
       "________________________________________________________________\n",
       "Conv2d               64 x 64 x 84 x 84    36,864     False     \n",
       "________________________________________________________________\n",
       "BatchNorm2d          64 x 64 x 84 x 84    128        True      \n",
       "________________________________________________________________\n",
       "ReLU                 64 x 64 x 84 x 84    0          False     \n",
       "________________________________________________________________\n",
       "Conv2d               64 x 64 x 84 x 84    36,864     False     \n",
       "________________________________________________________________\n",
       "BatchNorm2d          64 x 64 x 84 x 84    128        True      \n",
       "________________________________________________________________\n",
       "Conv2d               64 x 64 x 84 x 84    36,864     False     \n",
       "________________________________________________________________\n",
       "BatchNorm2d          64 x 64 x 84 x 84    128        True      \n",
       "________________________________________________________________\n",
       "ReLU                 64 x 64 x 84 x 84    0          False     \n",
       "________________________________________________________________\n",
       "Conv2d               64 x 64 x 84 x 84    36,864     False     \n",
       "________________________________________________________________\n",
       "BatchNorm2d          64 x 64 x 84 x 84    128        True      \n",
       "________________________________________________________________\n",
       "Conv2d               64 x 64 x 84 x 84    36,864     False     \n",
       "________________________________________________________________\n",
       "BatchNorm2d          64 x 64 x 84 x 84    128        True      \n",
       "________________________________________________________________\n",
       "ReLU                 64 x 64 x 84 x 84    0          False     \n",
       "________________________________________________________________\n",
       "Conv2d               64 x 64 x 84 x 84    36,864     False     \n",
       "________________________________________________________________\n",
       "BatchNorm2d          64 x 64 x 84 x 84    128        True      \n",
       "________________________________________________________________\n",
       "Conv2d               64 x 128 x 42 x 42   73,728     False     \n",
       "________________________________________________________________\n",
       "BatchNorm2d          64 x 128 x 42 x 42   256        True      \n",
       "________________________________________________________________\n",
       "ReLU                 64 x 128 x 42 x 42   0          False     \n",
       "________________________________________________________________\n",
       "Conv2d               64 x 128 x 42 x 42   147,456    False     \n",
       "________________________________________________________________\n",
       "BatchNorm2d          64 x 128 x 42 x 42   256        True      \n",
       "________________________________________________________________\n",
       "Conv2d               64 x 128 x 42 x 42   8,192      False     \n",
       "________________________________________________________________\n",
       "BatchNorm2d          64 x 128 x 42 x 42   256        True      \n",
       "________________________________________________________________\n",
       "Conv2d               64 x 128 x 42 x 42   147,456    False     \n",
       "________________________________________________________________\n",
       "BatchNorm2d          64 x 128 x 42 x 42   256        True      \n",
       "________________________________________________________________\n",
       "ReLU                 64 x 128 x 42 x 42   0          False     \n",
       "________________________________________________________________\n",
       "Conv2d               64 x 128 x 42 x 42   147,456    False     \n",
       "________________________________________________________________\n",
       "BatchNorm2d          64 x 128 x 42 x 42   256        True      \n",
       "________________________________________________________________\n",
       "Conv2d               64 x 128 x 42 x 42   147,456    False     \n",
       "________________________________________________________________\n",
       "BatchNorm2d          64 x 128 x 42 x 42   256        True      \n",
       "________________________________________________________________\n",
       "ReLU                 64 x 128 x 42 x 42   0          False     \n",
       "________________________________________________________________\n",
       "Conv2d               64 x 128 x 42 x 42   147,456    False     \n",
       "________________________________________________________________\n",
       "BatchNorm2d          64 x 128 x 42 x 42   256        True      \n",
       "________________________________________________________________\n",
       "Conv2d               64 x 128 x 42 x 42   147,456    False     \n",
       "________________________________________________________________\n",
       "BatchNorm2d          64 x 128 x 42 x 42   256        True      \n",
       "________________________________________________________________\n",
       "ReLU                 64 x 128 x 42 x 42   0          False     \n",
       "________________________________________________________________\n",
       "Conv2d               64 x 128 x 42 x 42   147,456    False     \n",
       "________________________________________________________________\n",
       "BatchNorm2d          64 x 128 x 42 x 42   256        True      \n",
       "________________________________________________________________\n",
       "Conv2d               64 x 256 x 21 x 21   294,912    False     \n",
       "________________________________________________________________\n",
       "BatchNorm2d          64 x 256 x 21 x 21   512        True      \n",
       "________________________________________________________________\n",
       "ReLU                 64 x 256 x 21 x 21   0          False     \n",
       "________________________________________________________________\n",
       "Conv2d               64 x 256 x 21 x 21   589,824    False     \n",
       "________________________________________________________________\n",
       "BatchNorm2d          64 x 256 x 21 x 21   512        True      \n",
       "________________________________________________________________\n",
       "Conv2d               64 x 256 x 21 x 21   32,768     False     \n",
       "________________________________________________________________\n",
       "BatchNorm2d          64 x 256 x 21 x 21   512        True      \n",
       "________________________________________________________________\n",
       "Conv2d               64 x 256 x 21 x 21   589,824    False     \n",
       "________________________________________________________________\n",
       "BatchNorm2d          64 x 256 x 21 x 21   512        True      \n",
       "________________________________________________________________\n",
       "ReLU                 64 x 256 x 21 x 21   0          False     \n",
       "________________________________________________________________\n",
       "Conv2d               64 x 256 x 21 x 21   589,824    False     \n",
       "________________________________________________________________\n",
       "BatchNorm2d          64 x 256 x 21 x 21   512        True      \n",
       "________________________________________________________________\n",
       "Conv2d               64 x 256 x 21 x 21   589,824    False     \n",
       "________________________________________________________________\n",
       "BatchNorm2d          64 x 256 x 21 x 21   512        True      \n",
       "________________________________________________________________\n",
       "ReLU                 64 x 256 x 21 x 21   0          False     \n",
       "________________________________________________________________\n",
       "Conv2d               64 x 256 x 21 x 21   589,824    False     \n",
       "________________________________________________________________\n",
       "BatchNorm2d          64 x 256 x 21 x 21   512        True      \n",
       "________________________________________________________________\n",
       "Conv2d               64 x 256 x 21 x 21   589,824    False     \n",
       "________________________________________________________________\n",
       "BatchNorm2d          64 x 256 x 21 x 21   512        True      \n",
       "________________________________________________________________\n",
       "ReLU                 64 x 256 x 21 x 21   0          False     \n",
       "________________________________________________________________\n",
       "Conv2d               64 x 256 x 21 x 21   589,824    False     \n",
       "________________________________________________________________\n",
       "BatchNorm2d          64 x 256 x 21 x 21   512        True      \n",
       "________________________________________________________________\n",
       "Conv2d               64 x 256 x 21 x 21   589,824    False     \n",
       "________________________________________________________________\n",
       "BatchNorm2d          64 x 256 x 21 x 21   512        True      \n",
       "________________________________________________________________\n",
       "ReLU                 64 x 256 x 21 x 21   0          False     \n",
       "________________________________________________________________\n",
       "Conv2d               64 x 256 x 21 x 21   589,824    False     \n",
       "________________________________________________________________\n",
       "BatchNorm2d          64 x 256 x 21 x 21   512        True      \n",
       "________________________________________________________________\n",
       "Conv2d               64 x 256 x 21 x 21   589,824    False     \n",
       "________________________________________________________________\n",
       "BatchNorm2d          64 x 256 x 21 x 21   512        True      \n",
       "________________________________________________________________\n",
       "ReLU                 64 x 256 x 21 x 21   0          False     \n",
       "________________________________________________________________\n",
       "Conv2d               64 x 256 x 21 x 21   589,824    False     \n",
       "________________________________________________________________\n",
       "BatchNorm2d          64 x 256 x 21 x 21   512        True      \n",
       "________________________________________________________________\n",
       "Conv2d               64 x 512 x 11 x 11   1,179,648  False     \n",
       "________________________________________________________________\n",
       "BatchNorm2d          64 x 512 x 11 x 11   1,024      True      \n",
       "________________________________________________________________\n",
       "ReLU                 64 x 512 x 11 x 11   0          False     \n",
       "________________________________________________________________\n",
       "Conv2d               64 x 512 x 11 x 11   2,359,296  False     \n",
       "________________________________________________________________\n",
       "BatchNorm2d          64 x 512 x 11 x 11   1,024      True      \n",
       "________________________________________________________________\n",
       "Conv2d               64 x 512 x 11 x 11   131,072    False     \n",
       "________________________________________________________________\n",
       "BatchNorm2d          64 x 512 x 11 x 11   1,024      True      \n",
       "________________________________________________________________\n",
       "Conv2d               64 x 512 x 11 x 11   2,359,296  False     \n",
       "________________________________________________________________\n",
       "BatchNorm2d          64 x 512 x 11 x 11   1,024      True      \n",
       "________________________________________________________________\n",
       "ReLU                 64 x 512 x 11 x 11   0          False     \n",
       "________________________________________________________________\n",
       "Conv2d               64 x 512 x 11 x 11   2,359,296  False     \n",
       "________________________________________________________________\n",
       "BatchNorm2d          64 x 512 x 11 x 11   1,024      True      \n",
       "________________________________________________________________\n",
       "Conv2d               64 x 512 x 11 x 11   2,359,296  False     \n",
       "________________________________________________________________\n",
       "BatchNorm2d          64 x 512 x 11 x 11   1,024      True      \n",
       "________________________________________________________________\n",
       "ReLU                 64 x 512 x 11 x 11   0          False     \n",
       "________________________________________________________________\n",
       "Conv2d               64 x 512 x 11 x 11   2,359,296  False     \n",
       "________________________________________________________________\n",
       "BatchNorm2d          64 x 512 x 11 x 11   1,024      True      \n",
       "________________________________________________________________\n",
       "Conv2d               64 x 64 x 168 x 168  9,408      False     \n",
       "________________________________________________________________\n",
       "BatchNorm2d          64 x 64 x 168 x 168  128        True      \n",
       "________________________________________________________________\n",
       "ReLU                 64 x 64 x 168 x 168  0          False     \n",
       "________________________________________________________________\n",
       "MaxPool2d            64 x 64 x 84 x 84    0          False     \n",
       "________________________________________________________________\n",
       "Conv2d               64 x 64 x 84 x 84    36,864     False     \n",
       "________________________________________________________________\n",
       "BatchNorm2d          64 x 64 x 84 x 84    128        True      \n",
       "________________________________________________________________\n",
       "ReLU                 64 x 64 x 84 x 84    0          False     \n",
       "________________________________________________________________\n",
       "Conv2d               64 x 64 x 84 x 84    36,864     False     \n",
       "________________________________________________________________\n",
       "BatchNorm2d          64 x 64 x 84 x 84    128        True      \n",
       "________________________________________________________________\n",
       "Conv2d               64 x 64 x 84 x 84    36,864     False     \n",
       "________________________________________________________________\n",
       "BatchNorm2d          64 x 64 x 84 x 84    128        True      \n",
       "________________________________________________________________\n",
       "ReLU                 64 x 64 x 84 x 84    0          False     \n",
       "________________________________________________________________\n",
       "Conv2d               64 x 64 x 84 x 84    36,864     False     \n",
       "________________________________________________________________\n",
       "BatchNorm2d          64 x 64 x 84 x 84    128        True      \n",
       "________________________________________________________________\n",
       "Conv2d               64 x 64 x 84 x 84    36,864     False     \n",
       "________________________________________________________________\n",
       "BatchNorm2d          64 x 64 x 84 x 84    128        True      \n",
       "________________________________________________________________\n",
       "ReLU                 64 x 64 x 84 x 84    0          False     \n",
       "________________________________________________________________\n",
       "Conv2d               64 x 64 x 84 x 84    36,864     False     \n",
       "________________________________________________________________\n",
       "BatchNorm2d          64 x 64 x 84 x 84    128        True      \n",
       "________________________________________________________________\n",
       "Conv2d               64 x 128 x 42 x 42   73,728     False     \n",
       "________________________________________________________________\n",
       "BatchNorm2d          64 x 128 x 42 x 42   256        True      \n",
       "________________________________________________________________\n",
       "ReLU                 64 x 128 x 42 x 42   0          False     \n",
       "________________________________________________________________\n",
       "Conv2d               64 x 128 x 42 x 42   147,456    False     \n",
       "________________________________________________________________\n",
       "BatchNorm2d          64 x 128 x 42 x 42   256        True      \n",
       "________________________________________________________________\n",
       "Conv2d               64 x 128 x 42 x 42   8,192      False     \n",
       "________________________________________________________________\n",
       "BatchNorm2d          64 x 128 x 42 x 42   256        True      \n",
       "________________________________________________________________\n",
       "Conv2d               64 x 128 x 42 x 42   147,456    False     \n",
       "________________________________________________________________\n",
       "BatchNorm2d          64 x 128 x 42 x 42   256        True      \n",
       "________________________________________________________________\n",
       "ReLU                 64 x 128 x 42 x 42   0          False     \n",
       "________________________________________________________________\n",
       "Conv2d               64 x 128 x 42 x 42   147,456    False     \n",
       "________________________________________________________________\n",
       "BatchNorm2d          64 x 128 x 42 x 42   256        True      \n",
       "________________________________________________________________\n",
       "Conv2d               64 x 128 x 42 x 42   147,456    False     \n",
       "________________________________________________________________\n",
       "BatchNorm2d          64 x 128 x 42 x 42   256        True      \n",
       "________________________________________________________________\n",
       "ReLU                 64 x 128 x 42 x 42   0          False     \n",
       "________________________________________________________________\n",
       "Conv2d               64 x 128 x 42 x 42   147,456    False     \n",
       "________________________________________________________________\n",
       "BatchNorm2d          64 x 128 x 42 x 42   256        True      \n",
       "________________________________________________________________\n",
       "Conv2d               64 x 128 x 42 x 42   147,456    False     \n",
       "________________________________________________________________\n",
       "BatchNorm2d          64 x 128 x 42 x 42   256        True      \n",
       "________________________________________________________________\n",
       "ReLU                 64 x 128 x 42 x 42   0          False     \n",
       "________________________________________________________________\n",
       "Conv2d               64 x 128 x 42 x 42   147,456    False     \n",
       "________________________________________________________________\n",
       "BatchNorm2d          64 x 128 x 42 x 42   256        True      \n",
       "________________________________________________________________\n",
       "AdaptiveAvgPool2d    64 x 128 x 1 x 1     0          False     \n",
       "________________________________________________________________\n",
       "AdaptiveMaxPool2d    64 x 128 x 1 x 1     0          False     \n",
       "________________________________________________________________\n",
       "Flatten              64 x 256             0          False     \n",
       "________________________________________________________________\n",
       "BatchNorm1d          64 x 256             512        True      \n",
       "________________________________________________________________\n",
       "Dropout              64 x 256             0          False     \n",
       "________________________________________________________________\n",
       "Linear               64 x 512             131,072    True      \n",
       "________________________________________________________________\n",
       "ReLU                 64 x 512             0          False     \n",
       "________________________________________________________________\n",
       "BatchNorm1d          64 x 512             1,024      True      \n",
       "________________________________________________________________\n",
       "Dropout              64 x 512             0          False     \n",
       "________________________________________________________________\n",
       "Linear               64 x 3               1,536      True      \n",
       "________________________________________________________________\n",
       "Conv2d               64 x 256 x 21 x 21   294,912    False     \n",
       "________________________________________________________________\n",
       "BatchNorm2d          64 x 256 x 21 x 21   512        True      \n",
       "________________________________________________________________\n",
       "ReLU                 64 x 256 x 21 x 21   0          False     \n",
       "________________________________________________________________\n",
       "Conv2d               64 x 256 x 21 x 21   589,824    False     \n",
       "________________________________________________________________\n",
       "BatchNorm2d          64 x 256 x 21 x 21   512        True      \n",
       "________________________________________________________________\n",
       "Conv2d               64 x 256 x 21 x 21   32,768     False     \n",
       "________________________________________________________________\n",
       "BatchNorm2d          64 x 256 x 21 x 21   512        True      \n",
       "________________________________________________________________\n",
       "Conv2d               64 x 256 x 21 x 21   589,824    False     \n",
       "________________________________________________________________\n",
       "BatchNorm2d          64 x 256 x 21 x 21   512        True      \n",
       "________________________________________________________________\n",
       "ReLU                 64 x 256 x 21 x 21   0          False     \n",
       "________________________________________________________________\n",
       "Conv2d               64 x 256 x 21 x 21   589,824    False     \n",
       "________________________________________________________________\n",
       "BatchNorm2d          64 x 256 x 21 x 21   512        True      \n",
       "________________________________________________________________\n",
       "Conv2d               64 x 256 x 21 x 21   589,824    False     \n",
       "________________________________________________________________\n",
       "BatchNorm2d          64 x 256 x 21 x 21   512        True      \n",
       "________________________________________________________________\n",
       "ReLU                 64 x 256 x 21 x 21   0          False     \n",
       "________________________________________________________________\n",
       "Conv2d               64 x 256 x 21 x 21   589,824    False     \n",
       "________________________________________________________________\n",
       "BatchNorm2d          64 x 256 x 21 x 21   512        True      \n",
       "________________________________________________________________\n",
       "Conv2d               64 x 256 x 21 x 21   589,824    False     \n",
       "________________________________________________________________\n",
       "BatchNorm2d          64 x 256 x 21 x 21   512        True      \n",
       "________________________________________________________________\n",
       "ReLU                 64 x 256 x 21 x 21   0          False     \n",
       "________________________________________________________________\n",
       "Conv2d               64 x 256 x 21 x 21   589,824    False     \n",
       "________________________________________________________________\n",
       "BatchNorm2d          64 x 256 x 21 x 21   512        True      \n",
       "________________________________________________________________\n",
       "Conv2d               64 x 256 x 21 x 21   589,824    False     \n",
       "________________________________________________________________\n",
       "BatchNorm2d          64 x 256 x 21 x 21   512        True      \n",
       "________________________________________________________________\n",
       "ReLU                 64 x 256 x 21 x 21   0          False     \n",
       "________________________________________________________________\n",
       "Conv2d               64 x 256 x 21 x 21   589,824    False     \n",
       "________________________________________________________________\n",
       "BatchNorm2d          64 x 256 x 21 x 21   512        True      \n",
       "________________________________________________________________\n",
       "Conv2d               64 x 256 x 21 x 21   589,824    False     \n",
       "________________________________________________________________\n",
       "BatchNorm2d          64 x 256 x 21 x 21   512        True      \n",
       "________________________________________________________________\n",
       "ReLU                 64 x 256 x 21 x 21   0          False     \n",
       "________________________________________________________________\n",
       "Conv2d               64 x 256 x 21 x 21   589,824    False     \n",
       "________________________________________________________________\n",
       "BatchNorm2d          64 x 256 x 21 x 21   512        True      \n",
       "________________________________________________________________\n",
       "Conv2d               64 x 512 x 11 x 11   1,179,648  False     \n",
       "________________________________________________________________\n",
       "BatchNorm2d          64 x 512 x 11 x 11   1,024      True      \n",
       "________________________________________________________________\n",
       "ReLU                 64 x 512 x 11 x 11   0          False     \n",
       "________________________________________________________________\n",
       "Conv2d               64 x 512 x 11 x 11   2,359,296  False     \n",
       "________________________________________________________________\n",
       "BatchNorm2d          64 x 512 x 11 x 11   1,024      True      \n",
       "________________________________________________________________\n",
       "Conv2d               64 x 512 x 11 x 11   131,072    False     \n",
       "________________________________________________________________\n",
       "BatchNorm2d          64 x 512 x 11 x 11   1,024      True      \n",
       "________________________________________________________________\n",
       "Conv2d               64 x 512 x 11 x 11   2,359,296  False     \n",
       "________________________________________________________________\n",
       "BatchNorm2d          64 x 512 x 11 x 11   1,024      True      \n",
       "________________________________________________________________\n",
       "ReLU                 64 x 512 x 11 x 11   0          False     \n",
       "________________________________________________________________\n",
       "Conv2d               64 x 512 x 11 x 11   2,359,296  False     \n",
       "________________________________________________________________\n",
       "BatchNorm2d          64 x 512 x 11 x 11   1,024      True      \n",
       "________________________________________________________________\n",
       "Conv2d               64 x 512 x 11 x 11   2,359,296  False     \n",
       "________________________________________________________________\n",
       "BatchNorm2d          64 x 512 x 11 x 11   1,024      True      \n",
       "________________________________________________________________\n",
       "ReLU                 64 x 512 x 11 x 11   0          False     \n",
       "________________________________________________________________\n",
       "Conv2d               64 x 512 x 11 x 11   2,359,296  False     \n",
       "________________________________________________________________\n",
       "BatchNorm2d          64 x 512 x 11 x 11   1,024      True      \n",
       "________________________________________________________________\n",
       "AdaptiveAvgPool2d    64 x 512 x 1 x 1     0          False     \n",
       "________________________________________________________________\n",
       "AdaptiveMaxPool2d    64 x 512 x 1 x 1     0          False     \n",
       "________________________________________________________________\n",
       "Flatten              64 x 1024            0          False     \n",
       "________________________________________________________________\n",
       "BatchNorm1d          64 x 1024            2,048      True      \n",
       "________________________________________________________________\n",
       "Dropout              64 x 1024            0          False     \n",
       "________________________________________________________________\n",
       "Linear               64 x 512             524,288    True      \n",
       "________________________________________________________________\n",
       "ReLU                 64 x 512             0          False     \n",
       "________________________________________________________________\n",
       "BatchNorm1d          64 x 512             1,024      True      \n",
       "________________________________________________________________\n",
       "Dropout              64 x 512             0          False     \n",
       "________________________________________________________________\n",
       "Linear               64 x 144             73,728     True      \n",
       "________________________________________________________________\n",
       "\n",
       "Total params: 43,304,576\n",
       "Total trainable params: 769,280\n",
       "Total non-trainable params: 42,535,296\n",
       "\n",
       "Optimizer used: <function Adam at 0x7fb912554160>\n",
       "Loss function: <function loss_func at 0x7fb910305c10>\n",
       "\n",
       "Model frozen up to parameter group #5\n",
       "\n",
       "Callbacks:\n",
       "  - ModelToHalf\n",
       "  - TrainEvalCallback\n",
       "  - Recorder\n",
       "  - ProgressCallback\n",
       "  - MixedPrecision"
      ]
     },
     "execution_count": 39,
     "metadata": {},
     "output_type": "execute_result"
    }
   ],
   "source": [
    "learn.summary()"
   ]
  },
  {
   "cell_type": "code",
   "execution_count": 40,
   "metadata": {
    "scrolled": true
   },
   "outputs": [
    {
     "data": {
      "text/html": [
       "<table border=\"1\" class=\"dataframe\">\n",
       "  <thead>\n",
       "    <tr style=\"text-align: left;\">\n",
       "      <th>epoch</th>\n",
       "      <th>train_loss</th>\n",
       "      <th>valid_loss</th>\n",
       "      <th>custom_accuracy</th>\n",
       "      <th>time</th>\n",
       "    </tr>\n",
       "  </thead>\n",
       "  <tbody>\n",
       "    <tr>\n",
       "      <td>0</td>\n",
       "      <td>3.658937</td>\n",
       "      <td>3.182054</td>\n",
       "      <td>0.336034</td>\n",
       "      <td>07:11</td>\n",
       "    </tr>\n",
       "  </tbody>\n",
       "</table>"
      ],
      "text/plain": [
       "<IPython.core.display.HTML object>"
      ]
     },
     "metadata": {},
     "output_type": "display_data"
    },
    {
     "data": {
      "text/plain": [
       "Path('models/families3-resnet34-exp8-fepochs1-uepochs0.pth')"
      ]
     },
     "execution_count": 40,
     "metadata": {},
     "output_type": "execute_result"
    }
   ],
   "source": [
    "learn.fit(1, 3e-3)\n",
    "learn.save('families3-resnet34-exp8-fepochs1-uepochs0')"
   ]
  },
  {
   "cell_type": "code",
   "execution_count": 27,
   "metadata": {},
   "outputs": [],
   "source": [
    "learn = continue_training('families3-resnet34-exp8-fepochs1-uepochs0')"
   ]
  },
  {
   "cell_type": "code",
   "execution_count": 28,
   "metadata": {},
   "outputs": [],
   "source": [
    "learn.unfreeze()"
   ]
  },
  {
   "cell_type": "code",
   "execution_count": 29,
   "metadata": {},
   "outputs": [
    {
     "data": {
      "text/html": [],
      "text/plain": [
       "<IPython.core.display.HTML object>"
      ]
     },
     "metadata": {},
     "output_type": "display_data"
    },
    {
     "data": {
      "text/plain": [
       "SuggestedLRs(lr_min=2.7542287716642023e-05, lr_steep=1.3182567499825382e-06)"
      ]
     },
     "execution_count": 29,
     "metadata": {},
     "output_type": "execute_result"
    },
    {
     "data": {
      "image/png": "[encoded data removed]",
      "text/plain": [
       "<Figure size 432x288 with 1 Axes>"
      ]
     },
     "metadata": {
      "needs_background": "light"
     },
     "output_type": "display_data"
    }
   ],
   "source": [
    "learn.lr_find()"
   ]
  },
  {
   "cell_type": "code",
   "execution_count": 30,
   "metadata": {},
   "outputs": [
    {
     "data": {
      "text/html": [
       "<table border=\"1\" class=\"dataframe\">\n",
       "  <thead>\n",
       "    <tr style=\"text-align: left;\">\n",
       "      <th>epoch</th>\n",
       "      <th>train_loss</th>\n",
       "      <th>valid_loss</th>\n",
       "      <th>custom_accuracy</th>\n",
       "      <th>time</th>\n",
       "    </tr>\n",
       "  </thead>\n",
       "  <tbody>\n",
       "    <tr>\n",
       "      <td>0</td>\n",
       "      <td>2.849152</td>\n",
       "      <td>2.469098</td>\n",
       "      <td>0.462901</td>\n",
       "      <td>07:28</td>\n",
       "    </tr>\n",
       "    <tr>\n",
       "      <td>1</td>\n",
       "      <td>2.569211</td>\n",
       "      <td>2.273663</td>\n",
       "      <td>0.496643</td>\n",
       "      <td>07:19</td>\n",
       "    </tr>\n",
       "    <tr>\n",
       "      <td>2</td>\n",
       "      <td>2.335310</td>\n",
       "      <td>2.134442</td>\n",
       "      <td>0.524887</td>\n",
       "      <td>07:17</td>\n",
       "    </tr>\n",
       "    <tr>\n",
       "      <td>3</td>\n",
       "      <td>2.154217</td>\n",
       "      <td>2.014207</td>\n",
       "      <td>0.540572</td>\n",
       "      <td>07:17</td>\n",
       "    </tr>\n",
       "    <tr>\n",
       "      <td>4</td>\n",
       "      <td>2.035174</td>\n",
       "      <td>1.947443</td>\n",
       "      <td>0.568295</td>\n",
       "      <td>07:20</td>\n",
       "    </tr>\n",
       "    <tr>\n",
       "      <td>5</td>\n",
       "      <td>1.881727</td>\n",
       "      <td>1.894558</td>\n",
       "      <td>0.576340</td>\n",
       "      <td>07:20</td>\n",
       "    </tr>\n",
       "    <tr>\n",
       "      <td>6</td>\n",
       "      <td>1.776320</td>\n",
       "      <td>1.860075</td>\n",
       "      <td>0.599201</td>\n",
       "      <td>07:20</td>\n",
       "    </tr>\n",
       "    <tr>\n",
       "      <td>7</td>\n",
       "      <td>1.727392</td>\n",
       "      <td>1.843714</td>\n",
       "      <td>0.606320</td>\n",
       "      <td>07:17</td>\n",
       "    </tr>\n",
       "    <tr>\n",
       "      <td>8</td>\n",
       "      <td>1.560086</td>\n",
       "      <td>1.772403</td>\n",
       "      <td>0.617027</td>\n",
       "      <td>07:17</td>\n",
       "    </tr>\n",
       "    <tr>\n",
       "      <td>9</td>\n",
       "      <td>1.523207</td>\n",
       "      <td>1.758840</td>\n",
       "      <td>0.628545</td>\n",
       "      <td>07:17</td>\n",
       "    </tr>\n",
       "  </tbody>\n",
       "</table>"
      ],
      "text/plain": [
       "<IPython.core.display.HTML object>"
      ]
     },
     "metadata": {},
     "output_type": "display_data"
    },
    {
     "data": {
      "text/plain": [
       "Path('models/families3-resnet34-exp8-fepochs1-uepochs10.pth')"
      ]
     },
     "execution_count": 30,
     "metadata": {},
     "output_type": "execute_result"
    }
   ],
   "source": [
    "learn.fit(10, slice(1e-6,1e-4))\n",
    "learn.save('families3-resnet34-exp8-fepochs1-uepochs10')"
   ]
  },
  {
   "cell_type": "code",
   "execution_count": 26,
   "metadata": {
    "scrolled": true
   },
   "outputs": [],
   "source": [
    "def continue_training(pth_filename):\n",
    "    learn = Learner(dls, model, loss_func=loss_func, metrics=custom_accuracy,\n",
    "                   splitter=custom_splitter).to_fp16()\n",
    "    learn.load(pth_filename)\n",
    "    learn.unfreeze()\n",
    "    return learn"
   ]
  },
  {
   "cell_type": "code",
   "execution_count": null,
   "metadata": {
    "scrolled": true
   },
   "outputs": [],
   "source": [
    "learn = continue_training('families3-resnet34-exp8-fepochs1-uepochs10')"
   ]
  },
  {
   "cell_type": "code",
   "execution_count": 31,
   "metadata": {
    "scrolled": true
   },
   "outputs": [
    {
     "data": {
      "text/html": [
       "<table border=\"1\" class=\"dataframe\">\n",
       "  <thead>\n",
       "    <tr style=\"text-align: left;\">\n",
       "      <th>epoch</th>\n",
       "      <th>train_loss</th>\n",
       "      <th>valid_loss</th>\n",
       "      <th>custom_accuracy</th>\n",
       "      <th>time</th>\n",
       "    </tr>\n",
       "  </thead>\n",
       "  <tbody>\n",
       "    <tr>\n",
       "      <td>0</td>\n",
       "      <td>1.439977</td>\n",
       "      <td>1.741033</td>\n",
       "      <td>0.641220</td>\n",
       "      <td>07:18</td>\n",
       "    </tr>\n",
       "    <tr>\n",
       "      <td>1</td>\n",
       "      <td>1.385466</td>\n",
       "      <td>1.688913</td>\n",
       "      <td>0.642146</td>\n",
       "      <td>07:22</td>\n",
       "    </tr>\n",
       "    <tr>\n",
       "      <td>2</td>\n",
       "      <td>1.341950</td>\n",
       "      <td>1.723901</td>\n",
       "      <td>0.635259</td>\n",
       "      <td>07:22</td>\n",
       "    </tr>\n",
       "    <tr>\n",
       "      <td>3</td>\n",
       "      <td>1.241160</td>\n",
       "      <td>1.707321</td>\n",
       "      <td>0.657252</td>\n",
       "      <td>07:18</td>\n",
       "    </tr>\n",
       "    <tr>\n",
       "      <td>4</td>\n",
       "      <td>1.258091</td>\n",
       "      <td>1.663868</td>\n",
       "      <td>0.671548</td>\n",
       "      <td>07:17</td>\n",
       "    </tr>\n",
       "    <tr>\n",
       "      <td>5</td>\n",
       "      <td>1.175588</td>\n",
       "      <td>1.673064</td>\n",
       "      <td>0.661361</td>\n",
       "      <td>07:17</td>\n",
       "    </tr>\n",
       "    <tr>\n",
       "      <td>6</td>\n",
       "      <td>1.159777</td>\n",
       "      <td>1.615294</td>\n",
       "      <td>0.673342</td>\n",
       "      <td>07:17</td>\n",
       "    </tr>\n",
       "    <tr>\n",
       "      <td>7</td>\n",
       "      <td>1.084532</td>\n",
       "      <td>1.656368</td>\n",
       "      <td>0.663676</td>\n",
       "      <td>07:17</td>\n",
       "    </tr>\n",
       "    <tr>\n",
       "      <td>8</td>\n",
       "      <td>1.065728</td>\n",
       "      <td>1.631846</td>\n",
       "      <td>0.680982</td>\n",
       "      <td>07:19</td>\n",
       "    </tr>\n",
       "    <tr>\n",
       "      <td>9</td>\n",
       "      <td>1.014233</td>\n",
       "      <td>1.612017</td>\n",
       "      <td>0.688332</td>\n",
       "      <td>07:20</td>\n",
       "    </tr>\n",
       "  </tbody>\n",
       "</table>"
      ],
      "text/plain": [
       "<IPython.core.display.HTML object>"
      ]
     },
     "metadata": {},
     "output_type": "display_data"
    },
    {
     "data": {
      "text/plain": [
       "Path('models/families3-resnet34-exp8-fepochs1-uepochs20.pth')"
      ]
     },
     "execution_count": 31,
     "metadata": {},
     "output_type": "execute_result"
    }
   ],
   "source": [
    "learn.fit(10, slice(1e-6,1e-4))\n",
    "learn.save('families3-resnet34-exp8-fepochs1-uepochs20')"
   ]
  },
  {
   "cell_type": "code",
   "execution_count": 27,
   "metadata": {
    "scrolled": true
   },
   "outputs": [],
   "source": [
    "learn = continue_training('families3-resnet34-exp8-fepochs1-uepochs20')"
   ]
  },
  {
   "cell_type": "code",
   "execution_count": 28,
   "metadata": {
    "scrolled": true
   },
   "outputs": [
    {
     "data": {
      "text/html": [
       "<table border=\"1\" class=\"dataframe\">\n",
       "  <thead>\n",
       "    <tr style=\"text-align: left;\">\n",
       "      <th>epoch</th>\n",
       "      <th>train_loss</th>\n",
       "      <th>valid_loss</th>\n",
       "      <th>custom_accuracy</th>\n",
       "      <th>time</th>\n",
       "    </tr>\n",
       "  </thead>\n",
       "  <tbody>\n",
       "    <tr>\n",
       "      <td>0</td>\n",
       "      <td>0.973343</td>\n",
       "      <td>1.655910</td>\n",
       "      <td>0.686943</td>\n",
       "      <td>07:42</td>\n",
       "    </tr>\n",
       "    <tr>\n",
       "      <td>1</td>\n",
       "      <td>0.962794</td>\n",
       "      <td>1.633759</td>\n",
       "      <td>0.691457</td>\n",
       "      <td>07:28</td>\n",
       "    </tr>\n",
       "    <tr>\n",
       "      <td>2</td>\n",
       "      <td>0.936360</td>\n",
       "      <td>1.661984</td>\n",
       "      <td>0.694756</td>\n",
       "      <td>07:27</td>\n",
       "    </tr>\n",
       "    <tr>\n",
       "      <td>3</td>\n",
       "      <td>0.880626</td>\n",
       "      <td>1.665101</td>\n",
       "      <td>0.705116</td>\n",
       "      <td>07:28</td>\n",
       "    </tr>\n",
       "    <tr>\n",
       "      <td>4</td>\n",
       "      <td>0.886851</td>\n",
       "      <td>1.662573</td>\n",
       "      <td>0.697592</td>\n",
       "      <td>07:27</td>\n",
       "    </tr>\n",
       "    <tr>\n",
       "      <td>5</td>\n",
       "      <td>0.880416</td>\n",
       "      <td>1.688982</td>\n",
       "      <td>0.702222</td>\n",
       "      <td>07:29</td>\n",
       "    </tr>\n",
       "    <tr>\n",
       "      <td>6</td>\n",
       "      <td>0.820929</td>\n",
       "      <td>1.632039</td>\n",
       "      <td>0.706737</td>\n",
       "      <td>07:28</td>\n",
       "    </tr>\n",
       "    <tr>\n",
       "      <td>7</td>\n",
       "      <td>0.811083</td>\n",
       "      <td>1.630146</td>\n",
       "      <td>0.713798</td>\n",
       "      <td>07:27</td>\n",
       "    </tr>\n",
       "    <tr>\n",
       "      <td>8</td>\n",
       "      <td>0.838040</td>\n",
       "      <td>1.681129</td>\n",
       "      <td>0.710209</td>\n",
       "      <td>07:28</td>\n",
       "    </tr>\n",
       "    <tr>\n",
       "      <td>9</td>\n",
       "      <td>0.822845</td>\n",
       "      <td>1.681193</td>\n",
       "      <td>0.716518</td>\n",
       "      <td>07:28</td>\n",
       "    </tr>\n",
       "  </tbody>\n",
       "</table>"
      ],
      "text/plain": [
       "<IPython.core.display.HTML object>"
      ]
     },
     "metadata": {},
     "output_type": "display_data"
    },
    {
     "data": {
      "text/plain": [
       "Path('models/families3-resnet34-exp8-fepochs1-uepochs30.pth')"
      ]
     },
     "execution_count": 28,
     "metadata": {},
     "output_type": "execute_result"
    }
   ],
   "source": [
    "learn.fit(10, slice(1e-6,1e-4))\n",
    "learn.save('families3-resnet34-exp8-fepochs1-uepochs30')"
   ]
  },
  {
   "cell_type": "code",
   "execution_count": null,
   "metadata": {},
   "outputs": [],
   "source": [
    "learn = continue_training('families3-resnet34-exp8-fepochs1-uepochs30')"
   ]
  },
  {
   "cell_type": "code",
   "execution_count": 29,
   "metadata": {},
   "outputs": [
    {
     "data": {
      "text/html": [
       "<table border=\"1\" class=\"dataframe\">\n",
       "  <thead>\n",
       "    <tr style=\"text-align: left;\">\n",
       "      <th>epoch</th>\n",
       "      <th>train_loss</th>\n",
       "      <th>valid_loss</th>\n",
       "      <th>custom_accuracy</th>\n",
       "      <th>time</th>\n",
       "    </tr>\n",
       "  </thead>\n",
       "  <tbody>\n",
       "    <tr>\n",
       "      <td>0</td>\n",
       "      <td>0.786333</td>\n",
       "      <td>1.670933</td>\n",
       "      <td>0.711425</td>\n",
       "      <td>07:27</td>\n",
       "    </tr>\n",
       "    <tr>\n",
       "      <td>1</td>\n",
       "      <td>0.799840</td>\n",
       "      <td>1.708868</td>\n",
       "      <td>0.721553</td>\n",
       "      <td>07:27</td>\n",
       "    </tr>\n",
       "    <tr>\n",
       "      <td>2</td>\n",
       "      <td>0.762963</td>\n",
       "      <td>1.666436</td>\n",
       "      <td>0.717907</td>\n",
       "      <td>07:28</td>\n",
       "    </tr>\n",
       "    <tr>\n",
       "      <td>3</td>\n",
       "      <td>0.741183</td>\n",
       "      <td>1.638258</td>\n",
       "      <td>0.725026</td>\n",
       "      <td>07:30</td>\n",
       "    </tr>\n",
       "    <tr>\n",
       "      <td>4</td>\n",
       "      <td>0.709623</td>\n",
       "      <td>1.671137</td>\n",
       "      <td>0.717039</td>\n",
       "      <td>07:28</td>\n",
       "    </tr>\n",
       "    <tr>\n",
       "      <td>5</td>\n",
       "      <td>0.728511</td>\n",
       "      <td>1.675249</td>\n",
       "      <td>0.729135</td>\n",
       "      <td>07:28</td>\n",
       "    </tr>\n",
       "    <tr>\n",
       "      <td>6</td>\n",
       "      <td>0.705541</td>\n",
       "      <td>1.648949</td>\n",
       "      <td>0.731335</td>\n",
       "      <td>07:25</td>\n",
       "    </tr>\n",
       "    <tr>\n",
       "      <td>7</td>\n",
       "      <td>0.681991</td>\n",
       "      <td>1.691458</td>\n",
       "      <td>0.723868</td>\n",
       "      <td>07:27</td>\n",
       "    </tr>\n",
       "    <tr>\n",
       "      <td>8</td>\n",
       "      <td>0.652016</td>\n",
       "      <td>1.672984</td>\n",
       "      <td>0.731277</td>\n",
       "      <td>07:29</td>\n",
       "    </tr>\n",
       "    <tr>\n",
       "      <td>9</td>\n",
       "      <td>0.660211</td>\n",
       "      <td>1.715249</td>\n",
       "      <td>0.736254</td>\n",
       "      <td>07:28</td>\n",
       "    </tr>\n",
       "  </tbody>\n",
       "</table>"
      ],
      "text/plain": [
       "<IPython.core.display.HTML object>"
      ]
     },
     "metadata": {},
     "output_type": "display_data"
    },
    {
     "data": {
      "text/plain": [
       "Path('models/families3-resnet34-exp8-fepochs1-uepochs40.pth')"
      ]
     },
     "execution_count": 29,
     "metadata": {},
     "output_type": "execute_result"
    }
   ],
   "source": [
    "learn.fit(10, slice(1e-6,1e-4))\n",
    "learn.save('families3-resnet34-exp8-fepochs1-uepochs40')"
   ]
  },
  {
   "cell_type": "code",
   "execution_count": 27,
   "metadata": {},
   "outputs": [],
   "source": [
    "learn = continue_training('families3-resnet34-exp8-fepochs1-uepochs40')"
   ]
  },
  {
   "cell_type": "code",
   "execution_count": 28,
   "metadata": {},
   "outputs": [
    {
     "data": {
      "text/html": [
       "<table border=\"1\" class=\"dataframe\">\n",
       "  <thead>\n",
       "    <tr style=\"text-align: left;\">\n",
       "      <th>epoch</th>\n",
       "      <th>train_loss</th>\n",
       "      <th>valid_loss</th>\n",
       "      <th>custom_accuracy</th>\n",
       "      <th>time</th>\n",
       "    </tr>\n",
       "  </thead>\n",
       "  <tbody>\n",
       "    <tr>\n",
       "      <td>0</td>\n",
       "      <td>0.672321</td>\n",
       "      <td>1.689157</td>\n",
       "      <td>0.737933</td>\n",
       "      <td>07:32</td>\n",
       "    </tr>\n",
       "    <tr>\n",
       "      <td>1</td>\n",
       "      <td>0.628579</td>\n",
       "      <td>1.698227</td>\n",
       "      <td>0.740074</td>\n",
       "      <td>07:18</td>\n",
       "    </tr>\n",
       "    <tr>\n",
       "      <td>2</td>\n",
       "      <td>0.636261</td>\n",
       "      <td>1.709141</td>\n",
       "      <td>0.732608</td>\n",
       "      <td>07:20</td>\n",
       "    </tr>\n",
       "    <tr>\n",
       "      <td>3</td>\n",
       "      <td>0.623765</td>\n",
       "      <td>1.698840</td>\n",
       "      <td>0.736081</td>\n",
       "      <td>07:18</td>\n",
       "    </tr>\n",
       "    <tr>\n",
       "      <td>4</td>\n",
       "      <td>0.622964</td>\n",
       "      <td>1.735457</td>\n",
       "      <td>0.736949</td>\n",
       "      <td>07:19</td>\n",
       "    </tr>\n",
       "    <tr>\n",
       "      <td>5</td>\n",
       "      <td>0.589674</td>\n",
       "      <td>1.736139</td>\n",
       "      <td>0.741810</td>\n",
       "      <td>07:20</td>\n",
       "    </tr>\n",
       "    <tr>\n",
       "      <td>6</td>\n",
       "      <td>0.597167</td>\n",
       "      <td>1.755285</td>\n",
       "      <td>0.731971</td>\n",
       "      <td>07:20</td>\n",
       "    </tr>\n",
       "    <tr>\n",
       "      <td>7</td>\n",
       "      <td>0.596268</td>\n",
       "      <td>1.806348</td>\n",
       "      <td>0.728557</td>\n",
       "      <td>07:19</td>\n",
       "    </tr>\n",
       "    <tr>\n",
       "      <td>8</td>\n",
       "      <td>0.580301</td>\n",
       "      <td>1.706858</td>\n",
       "      <td>0.751881</td>\n",
       "      <td>07:20</td>\n",
       "    </tr>\n",
       "    <tr>\n",
       "      <td>9</td>\n",
       "      <td>0.608334</td>\n",
       "      <td>1.737213</td>\n",
       "      <td>0.735965</td>\n",
       "      <td>07:20</td>\n",
       "    </tr>\n",
       "  </tbody>\n",
       "</table>"
      ],
      "text/plain": [
       "<IPython.core.display.HTML object>"
      ]
     },
     "metadata": {},
     "output_type": "display_data"
    },
    {
     "data": {
      "text/plain": [
       "Path('models/families3-resnet34-exp8-fepochs1-uepochs50.pth')"
      ]
     },
     "execution_count": 28,
     "metadata": {},
     "output_type": "execute_result"
    }
   ],
   "source": [
    "learn.fit(10, slice(1e-6,1e-4))\n",
    "learn.save('families3-resnet34-exp8-fepochs1-uepochs50')"
   ]
  },
  {
   "cell_type": "code",
   "execution_count": 29,
   "metadata": {
    "scrolled": true
   },
   "outputs": [],
   "source": [
    "learn.export('families3-resnet34-exp8-fepochs1-uepochs50')"
   ]
  }
 ],
 "metadata": {
  "kernelspec": {
   "display_name": "Python 3",
   "language": "python",
   "name": "python3"
  },
  "language_info": {
   "codemirror_mode": {
    "name": "ipython",
    "version": 3
   },
   "file_extension": ".py",
   "mimetype": "text/x-python",
   "name": "python",
   "nbconvert_exporter": "python",
   "pygments_lexer": "ipython3",
   "version": "3.8.5"
  }
 },
 "nbformat": 4,
 "nbformat_minor": 4
}
