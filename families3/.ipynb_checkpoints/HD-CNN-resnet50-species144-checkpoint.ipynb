{
 "cells": [
  {
   "cell_type": "markdown",
   "metadata": {},
   "source": [
    "# HD-CNN con modelo base ResNet-50 (Conjunto de datos reducido)"
   ]
  },
  {
   "cell_type": "markdown",
   "metadata": {},
   "source": [
    "En primer lugar, importamos las librerías necesarias para ejecutar este cuaderno."
   ]
  },
  {
   "cell_type": "code",
   "execution_count": 1,
   "metadata": {
    "scrolled": true
   },
   "outputs": [],
   "source": [
    "from fastai.vision.all import *"
   ]
  },
  {
   "cell_type": "markdown",
   "metadata": {},
   "source": [
    "Definimos la ruta que contiene las imágenes del conjunto de datos."
   ]
  },
  {
   "cell_type": "code",
   "execution_count": 2,
   "metadata": {
    "scrolled": true
   },
   "outputs": [],
   "source": [
    "path = Path('/home/user/images')"
   ]
  },
  {
   "cell_type": "markdown",
   "metadata": {},
   "source": [
    "Listamos el directorio establecido para mostrar las carpetas por clase que contienen dicho directorio."
   ]
  },
  {
   "cell_type": "code",
   "execution_count": 3,
   "metadata": {
    "scrolled": true
   },
   "outputs": [
    {
     "data": {
      "text/plain": [
       "(#144) [Path('/home/user/images/Chromis margaritifer'),Path('/home/user/images/Abudefduf sordidus'),Path('/home/user/images/Scardinius erythrophthalmus'),Path('/home/user/images/Chromis ternatensis'),Path('/home/user/images/Stegastes nigricans'),Path('/home/user/images/Lepomis peltastes'),Path('/home/user/images/Rhinichthys osculus'),Path('/home/user/images/Barbus plebejus'),Path('/home/user/images/Ambloplites rupestris'),Path('/home/user/images/Dascyllus albisella')...]"
      ]
     },
     "execution_count": 3,
     "metadata": {},
     "output_type": "execute_result"
    }
   ],
   "source": [
    "path.ls()"
   ]
  },
  {
   "cell_type": "markdown",
   "metadata": {},
   "source": [
    "Definimos la ruta padre del proyecto donde se encuentran los datos."
   ]
  },
  {
   "cell_type": "code",
   "execution_count": 4,
   "metadata": {
    "scrolled": true
   },
   "outputs": [],
   "source": [
    "df_path = Path('/home/user/')"
   ]
  },
  {
   "cell_type": "markdown",
   "metadata": {},
   "source": [
    "Cargamos el archivo CSV en forma de _dataframe_ de Pandas con las clases jerárquicas de cada imagen, la ruta de la imagen y si corresponde o no al conjunto de validación."
   ]
  },
  {
   "cell_type": "code",
   "execution_count": 5,
   "metadata": {
    "scrolled": true
   },
   "outputs": [],
   "source": [
    "df = pd.read_csv(df_path/\"csv/families3-stratified.csv\")"
   ]
  },
  {
   "cell_type": "markdown",
   "metadata": {},
   "source": [
    "Cargamos los pesos en forma de _dataframes_ de las clases para corregir el desbalanceo durante el entrenamiento."
   ]
  },
  {
   "cell_type": "code",
   "execution_count": 6,
   "metadata": {},
   "outputs": [],
   "source": [
    "weights_df = pd.read_csv(df_path/'csv/families3-weights.csv')\n",
    "weights_family_df = pd.read_csv(df_path/'csv/families3-weights-family.csv')"
   ]
  },
  {
   "cell_type": "markdown",
   "metadata": {},
   "source": [
    "Mostramos, como ejemplo, el _dataframe_ de los pesos por clase final."
   ]
  },
  {
   "cell_type": "code",
   "execution_count": 7,
   "metadata": {},
   "outputs": [
    {
     "data": {
      "text/html": [
       "<div>\n",
       "<style scoped>\n",
       "    .dataframe tbody tr th:only-of-type {\n",
       "        vertical-align: middle;\n",
       "    }\n",
       "\n",
       "    .dataframe tbody tr th {\n",
       "        vertical-align: top;\n",
       "    }\n",
       "\n",
       "    .dataframe thead th {\n",
       "        text-align: right;\n",
       "    }\n",
       "</style>\n",
       "<table border=\"1\" class=\"dataframe\">\n",
       "  <thead>\n",
       "    <tr style=\"text-align: right;\">\n",
       "      <th></th>\n",
       "      <th>Specie</th>\n",
       "      <th>Count</th>\n",
       "      <th>Weight</th>\n",
       "    </tr>\n",
       "  </thead>\n",
       "  <tbody>\n",
       "    <tr>\n",
       "      <th>0</th>\n",
       "      <td>Abramis brama</td>\n",
       "      <td>300</td>\n",
       "      <td>1.999722</td>\n",
       "    </tr>\n",
       "    <tr>\n",
       "      <th>1</th>\n",
       "      <td>Abudefduf abdominalis</td>\n",
       "      <td>177</td>\n",
       "      <td>3.389360</td>\n",
       "    </tr>\n",
       "    <tr>\n",
       "      <th>2</th>\n",
       "      <td>Abudefduf bengalensis</td>\n",
       "      <td>299</td>\n",
       "      <td>2.006410</td>\n",
       "    </tr>\n",
       "    <tr>\n",
       "      <th>3</th>\n",
       "      <td>Abudefduf saxatilis</td>\n",
       "      <td>1423</td>\n",
       "      <td>0.421586</td>\n",
       "    </tr>\n",
       "    <tr>\n",
       "      <th>4</th>\n",
       "      <td>Abudefduf septemfasciatus</td>\n",
       "      <td>128</td>\n",
       "      <td>4.686849</td>\n",
       "    </tr>\n",
       "    <tr>\n",
       "      <th>...</th>\n",
       "      <td>...</td>\n",
       "      <td>...</td>\n",
       "      <td>...</td>\n",
       "    </tr>\n",
       "    <tr>\n",
       "      <th>139</th>\n",
       "      <td>Stegastes partitus</td>\n",
       "      <td>174</td>\n",
       "      <td>3.447797</td>\n",
       "    </tr>\n",
       "    <tr>\n",
       "      <th>140</th>\n",
       "      <td>Stegastes planifrons</td>\n",
       "      <td>178</td>\n",
       "      <td>3.370318</td>\n",
       "    </tr>\n",
       "    <tr>\n",
       "      <th>141</th>\n",
       "      <td>Systomus rubripinnis</td>\n",
       "      <td>587</td>\n",
       "      <td>1.022005</td>\n",
       "    </tr>\n",
       "    <tr>\n",
       "      <th>142</th>\n",
       "      <td>Telestes muticellus</td>\n",
       "      <td>144</td>\n",
       "      <td>4.166088</td>\n",
       "    </tr>\n",
       "    <tr>\n",
       "      <th>143</th>\n",
       "      <td>Tinca tinca</td>\n",
       "      <td>246</td>\n",
       "      <td>2.438686</td>\n",
       "    </tr>\n",
       "  </tbody>\n",
       "</table>\n",
       "<p>144 rows × 3 columns</p>\n",
       "</div>"
      ],
      "text/plain": [
       "                        Specie  Count    Weight\n",
       "0                Abramis brama    300  1.999722\n",
       "1        Abudefduf abdominalis    177  3.389360\n",
       "2        Abudefduf bengalensis    299  2.006410\n",
       "3          Abudefduf saxatilis   1423  0.421586\n",
       "4    Abudefduf septemfasciatus    128  4.686849\n",
       "..                         ...    ...       ...\n",
       "139         Stegastes partitus    174  3.447797\n",
       "140       Stegastes planifrons    178  3.370318\n",
       "141       Systomus rubripinnis    587  1.022005\n",
       "142        Telestes muticellus    144  4.166088\n",
       "143                Tinca tinca    246  2.438686\n",
       "\n",
       "[144 rows x 3 columns]"
      ]
     },
     "execution_count": 7,
     "metadata": {},
     "output_type": "execute_result"
    }
   ],
   "source": [
    "weights_df"
   ]
  },
  {
   "cell_type": "code",
   "execution_count": 8,
   "metadata": {},
   "outputs": [],
   "source": [
    "n_classes = len(set(df['Specie']))"
   ]
  },
  {
   "cell_type": "markdown",
   "metadata": {},
   "source": [
    "Creamos el cuerpo y cabeza del modelo tomando como base ResNet-50 con pesos preentrenados."
   ]
  },
  {
   "cell_type": "code",
   "execution_count": 9,
   "metadata": {
    "scrolled": true
   },
   "outputs": [
    {
     "name": "stderr",
     "output_type": "stream",
     "text": [
      "Downloading: \"https://download.pytorch.org/models/resnet50-19c8e357.pth\" to /home/user/.cache/torch/hub/checkpoints/resnet50-19c8e357.pth\n"
     ]
    },
    {
     "data": {
      "application/vnd.jupyter.widget-view+json": {
       "model_id": "b2596df48b2e403fb5818c1727f038c4",
       "version_major": 2,
       "version_minor": 0
      },
      "text/plain": [
       "HBox(children=(FloatProgress(value=0.0, max=102502400.0), HTML(value='')))"
      ]
     },
     "metadata": {},
     "output_type": "display_data"
    },
    {
     "name": "stdout",
     "output_type": "stream",
     "text": [
      "\n"
     ]
    },
    {
     "data": {
      "text/plain": [
       "Sequential(\n",
       "  (0): Conv2d(3, 64, kernel_size=(7, 7), stride=(2, 2), padding=(3, 3), bias=False)\n",
       "  (1): BatchNorm2d(64, eps=1e-05, momentum=0.1, affine=True, track_running_stats=True)\n",
       "  (2): ReLU(inplace=True)\n",
       "  (3): MaxPool2d(kernel_size=3, stride=2, padding=1, dilation=1, ceil_mode=False)\n",
       "  (4): Sequential(\n",
       "    (0): Bottleneck(\n",
       "      (conv1): Conv2d(64, 64, kernel_size=(1, 1), stride=(1, 1), bias=False)\n",
       "      (bn1): BatchNorm2d(64, eps=1e-05, momentum=0.1, affine=True, track_running_stats=True)\n",
       "      (conv2): Conv2d(64, 64, kernel_size=(3, 3), stride=(1, 1), padding=(1, 1), bias=False)\n",
       "      (bn2): BatchNorm2d(64, eps=1e-05, momentum=0.1, affine=True, track_running_stats=True)\n",
       "      (conv3): Conv2d(64, 256, kernel_size=(1, 1), stride=(1, 1), bias=False)\n",
       "      (bn3): BatchNorm2d(256, eps=1e-05, momentum=0.1, affine=True, track_running_stats=True)\n",
       "      (relu): ReLU(inplace=True)\n",
       "      (downsample): Sequential(\n",
       "        (0): Conv2d(64, 256, kernel_size=(1, 1), stride=(1, 1), bias=False)\n",
       "        (1): BatchNorm2d(256, eps=1e-05, momentum=0.1, affine=True, track_running_stats=True)\n",
       "      )\n",
       "    )\n",
       "    (1): Bottleneck(\n",
       "      (conv1): Conv2d(256, 64, kernel_size=(1, 1), stride=(1, 1), bias=False)\n",
       "      (bn1): BatchNorm2d(64, eps=1e-05, momentum=0.1, affine=True, track_running_stats=True)\n",
       "      (conv2): Conv2d(64, 64, kernel_size=(3, 3), stride=(1, 1), padding=(1, 1), bias=False)\n",
       "      (bn2): BatchNorm2d(64, eps=1e-05, momentum=0.1, affine=True, track_running_stats=True)\n",
       "      (conv3): Conv2d(64, 256, kernel_size=(1, 1), stride=(1, 1), bias=False)\n",
       "      (bn3): BatchNorm2d(256, eps=1e-05, momentum=0.1, affine=True, track_running_stats=True)\n",
       "      (relu): ReLU(inplace=True)\n",
       "    )\n",
       "    (2): Bottleneck(\n",
       "      (conv1): Conv2d(256, 64, kernel_size=(1, 1), stride=(1, 1), bias=False)\n",
       "      (bn1): BatchNorm2d(64, eps=1e-05, momentum=0.1, affine=True, track_running_stats=True)\n",
       "      (conv2): Conv2d(64, 64, kernel_size=(3, 3), stride=(1, 1), padding=(1, 1), bias=False)\n",
       "      (bn2): BatchNorm2d(64, eps=1e-05, momentum=0.1, affine=True, track_running_stats=True)\n",
       "      (conv3): Conv2d(64, 256, kernel_size=(1, 1), stride=(1, 1), bias=False)\n",
       "      (bn3): BatchNorm2d(256, eps=1e-05, momentum=0.1, affine=True, track_running_stats=True)\n",
       "      (relu): ReLU(inplace=True)\n",
       "    )\n",
       "  )\n",
       "  (5): Sequential(\n",
       "    (0): Bottleneck(\n",
       "      (conv1): Conv2d(256, 128, kernel_size=(1, 1), stride=(1, 1), bias=False)\n",
       "      (bn1): BatchNorm2d(128, eps=1e-05, momentum=0.1, affine=True, track_running_stats=True)\n",
       "      (conv2): Conv2d(128, 128, kernel_size=(3, 3), stride=(2, 2), padding=(1, 1), bias=False)\n",
       "      (bn2): BatchNorm2d(128, eps=1e-05, momentum=0.1, affine=True, track_running_stats=True)\n",
       "      (conv3): Conv2d(128, 512, kernel_size=(1, 1), stride=(1, 1), bias=False)\n",
       "      (bn3): BatchNorm2d(512, eps=1e-05, momentum=0.1, affine=True, track_running_stats=True)\n",
       "      (relu): ReLU(inplace=True)\n",
       "      (downsample): Sequential(\n",
       "        (0): Conv2d(256, 512, kernel_size=(1, 1), stride=(2, 2), bias=False)\n",
       "        (1): BatchNorm2d(512, eps=1e-05, momentum=0.1, affine=True, track_running_stats=True)\n",
       "      )\n",
       "    )\n",
       "    (1): Bottleneck(\n",
       "      (conv1): Conv2d(512, 128, kernel_size=(1, 1), stride=(1, 1), bias=False)\n",
       "      (bn1): BatchNorm2d(128, eps=1e-05, momentum=0.1, affine=True, track_running_stats=True)\n",
       "      (conv2): Conv2d(128, 128, kernel_size=(3, 3), stride=(1, 1), padding=(1, 1), bias=False)\n",
       "      (bn2): BatchNorm2d(128, eps=1e-05, momentum=0.1, affine=True, track_running_stats=True)\n",
       "      (conv3): Conv2d(128, 512, kernel_size=(1, 1), stride=(1, 1), bias=False)\n",
       "      (bn3): BatchNorm2d(512, eps=1e-05, momentum=0.1, affine=True, track_running_stats=True)\n",
       "      (relu): ReLU(inplace=True)\n",
       "    )\n",
       "    (2): Bottleneck(\n",
       "      (conv1): Conv2d(512, 128, kernel_size=(1, 1), stride=(1, 1), bias=False)\n",
       "      (bn1): BatchNorm2d(128, eps=1e-05, momentum=0.1, affine=True, track_running_stats=True)\n",
       "      (conv2): Conv2d(128, 128, kernel_size=(3, 3), stride=(1, 1), padding=(1, 1), bias=False)\n",
       "      (bn2): BatchNorm2d(128, eps=1e-05, momentum=0.1, affine=True, track_running_stats=True)\n",
       "      (conv3): Conv2d(128, 512, kernel_size=(1, 1), stride=(1, 1), bias=False)\n",
       "      (bn3): BatchNorm2d(512, eps=1e-05, momentum=0.1, affine=True, track_running_stats=True)\n",
       "      (relu): ReLU(inplace=True)\n",
       "    )\n",
       "    (3): Bottleneck(\n",
       "      (conv1): Conv2d(512, 128, kernel_size=(1, 1), stride=(1, 1), bias=False)\n",
       "      (bn1): BatchNorm2d(128, eps=1e-05, momentum=0.1, affine=True, track_running_stats=True)\n",
       "      (conv2): Conv2d(128, 128, kernel_size=(3, 3), stride=(1, 1), padding=(1, 1), bias=False)\n",
       "      (bn2): BatchNorm2d(128, eps=1e-05, momentum=0.1, affine=True, track_running_stats=True)\n",
       "      (conv3): Conv2d(128, 512, kernel_size=(1, 1), stride=(1, 1), bias=False)\n",
       "      (bn3): BatchNorm2d(512, eps=1e-05, momentum=0.1, affine=True, track_running_stats=True)\n",
       "      (relu): ReLU(inplace=True)\n",
       "    )\n",
       "  )\n",
       "  (6): Sequential(\n",
       "    (0): Bottleneck(\n",
       "      (conv1): Conv2d(512, 256, kernel_size=(1, 1), stride=(1, 1), bias=False)\n",
       "      (bn1): BatchNorm2d(256, eps=1e-05, momentum=0.1, affine=True, track_running_stats=True)\n",
       "      (conv2): Conv2d(256, 256, kernel_size=(3, 3), stride=(2, 2), padding=(1, 1), bias=False)\n",
       "      (bn2): BatchNorm2d(256, eps=1e-05, momentum=0.1, affine=True, track_running_stats=True)\n",
       "      (conv3): Conv2d(256, 1024, kernel_size=(1, 1), stride=(1, 1), bias=False)\n",
       "      (bn3): BatchNorm2d(1024, eps=1e-05, momentum=0.1, affine=True, track_running_stats=True)\n",
       "      (relu): ReLU(inplace=True)\n",
       "      (downsample): Sequential(\n",
       "        (0): Conv2d(512, 1024, kernel_size=(1, 1), stride=(2, 2), bias=False)\n",
       "        (1): BatchNorm2d(1024, eps=1e-05, momentum=0.1, affine=True, track_running_stats=True)\n",
       "      )\n",
       "    )\n",
       "    (1): Bottleneck(\n",
       "      (conv1): Conv2d(1024, 256, kernel_size=(1, 1), stride=(1, 1), bias=False)\n",
       "      (bn1): BatchNorm2d(256, eps=1e-05, momentum=0.1, affine=True, track_running_stats=True)\n",
       "      (conv2): Conv2d(256, 256, kernel_size=(3, 3), stride=(1, 1), padding=(1, 1), bias=False)\n",
       "      (bn2): BatchNorm2d(256, eps=1e-05, momentum=0.1, affine=True, track_running_stats=True)\n",
       "      (conv3): Conv2d(256, 1024, kernel_size=(1, 1), stride=(1, 1), bias=False)\n",
       "      (bn3): BatchNorm2d(1024, eps=1e-05, momentum=0.1, affine=True, track_running_stats=True)\n",
       "      (relu): ReLU(inplace=True)\n",
       "    )\n",
       "    (2): Bottleneck(\n",
       "      (conv1): Conv2d(1024, 256, kernel_size=(1, 1), stride=(1, 1), bias=False)\n",
       "      (bn1): BatchNorm2d(256, eps=1e-05, momentum=0.1, affine=True, track_running_stats=True)\n",
       "      (conv2): Conv2d(256, 256, kernel_size=(3, 3), stride=(1, 1), padding=(1, 1), bias=False)\n",
       "      (bn2): BatchNorm2d(256, eps=1e-05, momentum=0.1, affine=True, track_running_stats=True)\n",
       "      (conv3): Conv2d(256, 1024, kernel_size=(1, 1), stride=(1, 1), bias=False)\n",
       "      (bn3): BatchNorm2d(1024, eps=1e-05, momentum=0.1, affine=True, track_running_stats=True)\n",
       "      (relu): ReLU(inplace=True)\n",
       "    )\n",
       "    (3): Bottleneck(\n",
       "      (conv1): Conv2d(1024, 256, kernel_size=(1, 1), stride=(1, 1), bias=False)\n",
       "      (bn1): BatchNorm2d(256, eps=1e-05, momentum=0.1, affine=True, track_running_stats=True)\n",
       "      (conv2): Conv2d(256, 256, kernel_size=(3, 3), stride=(1, 1), padding=(1, 1), bias=False)\n",
       "      (bn2): BatchNorm2d(256, eps=1e-05, momentum=0.1, affine=True, track_running_stats=True)\n",
       "      (conv3): Conv2d(256, 1024, kernel_size=(1, 1), stride=(1, 1), bias=False)\n",
       "      (bn3): BatchNorm2d(1024, eps=1e-05, momentum=0.1, affine=True, track_running_stats=True)\n",
       "      (relu): ReLU(inplace=True)\n",
       "    )\n",
       "    (4): Bottleneck(\n",
       "      (conv1): Conv2d(1024, 256, kernel_size=(1, 1), stride=(1, 1), bias=False)\n",
       "      (bn1): BatchNorm2d(256, eps=1e-05, momentum=0.1, affine=True, track_running_stats=True)\n",
       "      (conv2): Conv2d(256, 256, kernel_size=(3, 3), stride=(1, 1), padding=(1, 1), bias=False)\n",
       "      (bn2): BatchNorm2d(256, eps=1e-05, momentum=0.1, affine=True, track_running_stats=True)\n",
       "      (conv3): Conv2d(256, 1024, kernel_size=(1, 1), stride=(1, 1), bias=False)\n",
       "      (bn3): BatchNorm2d(1024, eps=1e-05, momentum=0.1, affine=True, track_running_stats=True)\n",
       "      (relu): ReLU(inplace=True)\n",
       "    )\n",
       "    (5): Bottleneck(\n",
       "      (conv1): Conv2d(1024, 256, kernel_size=(1, 1), stride=(1, 1), bias=False)\n",
       "      (bn1): BatchNorm2d(256, eps=1e-05, momentum=0.1, affine=True, track_running_stats=True)\n",
       "      (conv2): Conv2d(256, 256, kernel_size=(3, 3), stride=(1, 1), padding=(1, 1), bias=False)\n",
       "      (bn2): BatchNorm2d(256, eps=1e-05, momentum=0.1, affine=True, track_running_stats=True)\n",
       "      (conv3): Conv2d(256, 1024, kernel_size=(1, 1), stride=(1, 1), bias=False)\n",
       "      (bn3): BatchNorm2d(1024, eps=1e-05, momentum=0.1, affine=True, track_running_stats=True)\n",
       "      (relu): ReLU(inplace=True)\n",
       "    )\n",
       "  )\n",
       "  (7): Sequential(\n",
       "    (0): Bottleneck(\n",
       "      (conv1): Conv2d(1024, 512, kernel_size=(1, 1), stride=(1, 1), bias=False)\n",
       "      (bn1): BatchNorm2d(512, eps=1e-05, momentum=0.1, affine=True, track_running_stats=True)\n",
       "      (conv2): Conv2d(512, 512, kernel_size=(3, 3), stride=(2, 2), padding=(1, 1), bias=False)\n",
       "      (bn2): BatchNorm2d(512, eps=1e-05, momentum=0.1, affine=True, track_running_stats=True)\n",
       "      (conv3): Conv2d(512, 2048, kernel_size=(1, 1), stride=(1, 1), bias=False)\n",
       "      (bn3): BatchNorm2d(2048, eps=1e-05, momentum=0.1, affine=True, track_running_stats=True)\n",
       "      (relu): ReLU(inplace=True)\n",
       "      (downsample): Sequential(\n",
       "        (0): Conv2d(1024, 2048, kernel_size=(1, 1), stride=(2, 2), bias=False)\n",
       "        (1): BatchNorm2d(2048, eps=1e-05, momentum=0.1, affine=True, track_running_stats=True)\n",
       "      )\n",
       "    )\n",
       "    (1): Bottleneck(\n",
       "      (conv1): Conv2d(2048, 512, kernel_size=(1, 1), stride=(1, 1), bias=False)\n",
       "      (bn1): BatchNorm2d(512, eps=1e-05, momentum=0.1, affine=True, track_running_stats=True)\n",
       "      (conv2): Conv2d(512, 512, kernel_size=(3, 3), stride=(1, 1), padding=(1, 1), bias=False)\n",
       "      (bn2): BatchNorm2d(512, eps=1e-05, momentum=0.1, affine=True, track_running_stats=True)\n",
       "      (conv3): Conv2d(512, 2048, kernel_size=(1, 1), stride=(1, 1), bias=False)\n",
       "      (bn3): BatchNorm2d(2048, eps=1e-05, momentum=0.1, affine=True, track_running_stats=True)\n",
       "      (relu): ReLU(inplace=True)\n",
       "    )\n",
       "    (2): Bottleneck(\n",
       "      (conv1): Conv2d(2048, 512, kernel_size=(1, 1), stride=(1, 1), bias=False)\n",
       "      (bn1): BatchNorm2d(512, eps=1e-05, momentum=0.1, affine=True, track_running_stats=True)\n",
       "      (conv2): Conv2d(512, 512, kernel_size=(3, 3), stride=(1, 1), padding=(1, 1), bias=False)\n",
       "      (bn2): BatchNorm2d(512, eps=1e-05, momentum=0.1, affine=True, track_running_stats=True)\n",
       "      (conv3): Conv2d(512, 2048, kernel_size=(1, 1), stride=(1, 1), bias=False)\n",
       "      (bn3): BatchNorm2d(2048, eps=1e-05, momentum=0.1, affine=True, track_running_stats=True)\n",
       "      (relu): ReLU(inplace=True)\n",
       "    )\n",
       "  )\n",
       ")"
      ]
     },
     "execution_count": 9,
     "metadata": {},
     "output_type": "execute_result"
    }
   ],
   "source": [
    "model = resnet50\n",
    "body = create_body(model, cut=-2)\n",
    "body"
   ]
  },
  {
   "cell_type": "code",
   "execution_count": 10,
   "metadata": {},
   "outputs": [
    {
     "data": {
      "text/plain": [
       "Sequential(\n",
       "  (0): Conv2d(3, 64, kernel_size=(7, 7), stride=(2, 2), padding=(3, 3), bias=False)\n",
       "  (1): BatchNorm2d(64, eps=1e-05, momentum=0.1, affine=True, track_running_stats=True)\n",
       "  (2): ReLU(inplace=True)\n",
       "  (3): MaxPool2d(kernel_size=3, stride=2, padding=1, dilation=1, ceil_mode=False)\n",
       ")"
      ]
     },
     "execution_count": 10,
     "metadata": {},
     "output_type": "execute_result"
    }
   ],
   "source": [
    "stem = body[0:4]\n",
    "stem"
   ]
  },
  {
   "cell_type": "markdown",
   "metadata": {},
   "source": [
    "Separamos el cuerpo de la arquitectura en los distintos bloques para definir cada uno de ellos y aplicar posteriormente la arquitectura HD-CNN."
   ]
  },
  {
   "cell_type": "code",
   "execution_count": 11,
   "metadata": {},
   "outputs": [
    {
     "data": {
      "text/plain": [
       "Sequential(\n",
       "  (0): Bottleneck(\n",
       "    (conv1): Conv2d(64, 64, kernel_size=(1, 1), stride=(1, 1), bias=False)\n",
       "    (bn1): BatchNorm2d(64, eps=1e-05, momentum=0.1, affine=True, track_running_stats=True)\n",
       "    (conv2): Conv2d(64, 64, kernel_size=(3, 3), stride=(1, 1), padding=(1, 1), bias=False)\n",
       "    (bn2): BatchNorm2d(64, eps=1e-05, momentum=0.1, affine=True, track_running_stats=True)\n",
       "    (conv3): Conv2d(64, 256, kernel_size=(1, 1), stride=(1, 1), bias=False)\n",
       "    (bn3): BatchNorm2d(256, eps=1e-05, momentum=0.1, affine=True, track_running_stats=True)\n",
       "    (relu): ReLU(inplace=True)\n",
       "    (downsample): Sequential(\n",
       "      (0): Conv2d(64, 256, kernel_size=(1, 1), stride=(1, 1), bias=False)\n",
       "      (1): BatchNorm2d(256, eps=1e-05, momentum=0.1, affine=True, track_running_stats=True)\n",
       "    )\n",
       "  )\n",
       "  (1): Bottleneck(\n",
       "    (conv1): Conv2d(256, 64, kernel_size=(1, 1), stride=(1, 1), bias=False)\n",
       "    (bn1): BatchNorm2d(64, eps=1e-05, momentum=0.1, affine=True, track_running_stats=True)\n",
       "    (conv2): Conv2d(64, 64, kernel_size=(3, 3), stride=(1, 1), padding=(1, 1), bias=False)\n",
       "    (bn2): BatchNorm2d(64, eps=1e-05, momentum=0.1, affine=True, track_running_stats=True)\n",
       "    (conv3): Conv2d(64, 256, kernel_size=(1, 1), stride=(1, 1), bias=False)\n",
       "    (bn3): BatchNorm2d(256, eps=1e-05, momentum=0.1, affine=True, track_running_stats=True)\n",
       "    (relu): ReLU(inplace=True)\n",
       "  )\n",
       "  (2): Bottleneck(\n",
       "    (conv1): Conv2d(256, 64, kernel_size=(1, 1), stride=(1, 1), bias=False)\n",
       "    (bn1): BatchNorm2d(64, eps=1e-05, momentum=0.1, affine=True, track_running_stats=True)\n",
       "    (conv2): Conv2d(64, 64, kernel_size=(3, 3), stride=(1, 1), padding=(1, 1), bias=False)\n",
       "    (bn2): BatchNorm2d(64, eps=1e-05, momentum=0.1, affine=True, track_running_stats=True)\n",
       "    (conv3): Conv2d(64, 256, kernel_size=(1, 1), stride=(1, 1), bias=False)\n",
       "    (bn3): BatchNorm2d(256, eps=1e-05, momentum=0.1, affine=True, track_running_stats=True)\n",
       "    (relu): ReLU(inplace=True)\n",
       "  )\n",
       ")"
      ]
     },
     "execution_count": 11,
     "metadata": {},
     "output_type": "execute_result"
    }
   ],
   "source": [
    "block1, block2, block3, block4 = body[4], body[5], body[6], body[7]\n",
    "block1"
   ]
  },
  {
   "cell_type": "code",
   "execution_count": 12,
   "metadata": {
    "scrolled": true
   },
   "outputs": [
    {
     "data": {
      "text/plain": [
       "Sequential(\n",
       "  (0): AdaptiveConcatPool2d(\n",
       "    (ap): AdaptiveAvgPool2d(output_size=1)\n",
       "    (mp): AdaptiveMaxPool2d(output_size=1)\n",
       "  )\n",
       "  (1): Flatten(full=False)\n",
       "  (2): BatchNorm1d(4096, eps=1e-05, momentum=0.1, affine=True, track_running_stats=True)\n",
       "  (3): Dropout(p=0.25, inplace=False)\n",
       "  (4): Linear(in_features=4096, out_features=512, bias=False)\n",
       "  (5): ReLU(inplace=True)\n",
       "  (6): BatchNorm1d(512, eps=1e-05, momentum=0.1, affine=True, track_running_stats=True)\n",
       "  (7): Dropout(p=0.5, inplace=False)\n",
       "  (8): Linear(in_features=512, out_features=144, bias=False)\n",
       ")"
      ]
     },
     "execution_count": 12,
     "metadata": {},
     "output_type": "execute_result"
    }
   ],
   "source": [
    "head = create_head(2048*2,n_classes)\n",
    "head"
   ]
  },
  {
   "cell_type": "markdown",
   "metadata": {},
   "source": [
    "Definimos una función para obtener las etiquetas de cada ejemplo, en este caso: familia y especie."
   ]
  },
  {
   "cell_type": "code",
   "execution_count": 13,
   "metadata": {
    "scrolled": true
   },
   "outputs": [],
   "source": [
    "def custom_get_y(o):\n",
    "    fine_label = o['Specie']\n",
    "    coarse1_label = o['Family']\n",
    "    return [coarse1_label, fine_label]"
   ]
  },
  {
   "cell_type": "markdown",
   "metadata": {},
   "source": [
    "Definimos una función para obtener el número de clases hijas por clase padre, esto nos servirá para definir las dimensiones de nuestros componentes finos."
   ]
  },
  {
   "cell_type": "code",
   "execution_count": 14,
   "metadata": {},
   "outputs": [],
   "source": [
    "def count_classes_per_coarse(labels_df):\n",
    "    result = {}\n",
    "    for c in set(labels_df['coarse']):\n",
    "        classes_with_c = labels_df[labels_df['coarse']==c]\n",
    "        result[c] = len(classes_with_c)\n",
    "    return result"
   ]
  },
  {
   "cell_type": "markdown",
   "metadata": {},
   "source": [
    "Creamos un _dataframe_ con la jerarquía de las etiquetas a predecir para obtener el número de clases hijas con _count_classes_per_coarse_."
   ]
  },
  {
   "cell_type": "code",
   "execution_count": 15,
   "metadata": {},
   "outputs": [
    {
     "data": {
      "text/html": [
       "<div>\n",
       "<style scoped>\n",
       "    .dataframe tbody tr th:only-of-type {\n",
       "        vertical-align: middle;\n",
       "    }\n",
       "\n",
       "    .dataframe tbody tr th {\n",
       "        vertical-align: top;\n",
       "    }\n",
       "\n",
       "    .dataframe thead th {\n",
       "        text-align: right;\n",
       "    }\n",
       "</style>\n",
       "<table border=\"1\" class=\"dataframe\">\n",
       "  <thead>\n",
       "    <tr style=\"text-align: right;\">\n",
       "      <th></th>\n",
       "      <th>fine</th>\n",
       "      <th>coarse</th>\n",
       "    </tr>\n",
       "  </thead>\n",
       "  <tbody>\n",
       "    <tr>\n",
       "      <th>0</th>\n",
       "      <td>Hypophthalmichthys molitrix</td>\n",
       "      <td>Cyprinidae</td>\n",
       "    </tr>\n",
       "    <tr>\n",
       "      <th>1</th>\n",
       "      <td>Dascyllus trimaculatus</td>\n",
       "      <td>Pomacentridae</td>\n",
       "    </tr>\n",
       "    <tr>\n",
       "      <th>2</th>\n",
       "      <td>Micropterus dolomieu</td>\n",
       "      <td>Centrarchidae</td>\n",
       "    </tr>\n",
       "    <tr>\n",
       "      <th>3</th>\n",
       "      <td>Cyprinus carpio</td>\n",
       "      <td>Cyprinidae</td>\n",
       "    </tr>\n",
       "    <tr>\n",
       "      <th>4</th>\n",
       "      <td>Abudefduf sordidus</td>\n",
       "      <td>Pomacentridae</td>\n",
       "    </tr>\n",
       "    <tr>\n",
       "      <th>...</th>\n",
       "      <td>...</td>\n",
       "      <td>...</td>\n",
       "    </tr>\n",
       "    <tr>\n",
       "      <th>86383</th>\n",
       "      <td>Pseudorasbora parva</td>\n",
       "      <td>Cyprinidae</td>\n",
       "    </tr>\n",
       "    <tr>\n",
       "      <th>86384</th>\n",
       "      <td>Parazacco spilurus</td>\n",
       "      <td>Cyprinidae</td>\n",
       "    </tr>\n",
       "    <tr>\n",
       "      <th>86385</th>\n",
       "      <td>Micropterus salmoides</td>\n",
       "      <td>Centrarchidae</td>\n",
       "    </tr>\n",
       "    <tr>\n",
       "      <th>86386</th>\n",
       "      <td>Lepomis macrochirus</td>\n",
       "      <td>Centrarchidae</td>\n",
       "    </tr>\n",
       "    <tr>\n",
       "      <th>86387</th>\n",
       "      <td>Abudefduf vaigiensis</td>\n",
       "      <td>Pomacentridae</td>\n",
       "    </tr>\n",
       "  </tbody>\n",
       "</table>\n",
       "<p>86388 rows × 2 columns</p>\n",
       "</div>"
      ],
      "text/plain": [
       "                              fine         coarse\n",
       "0      Hypophthalmichthys molitrix     Cyprinidae\n",
       "1           Dascyllus trimaculatus  Pomacentridae\n",
       "2             Micropterus dolomieu  Centrarchidae\n",
       "3                  Cyprinus carpio     Cyprinidae\n",
       "4               Abudefduf sordidus  Pomacentridae\n",
       "...                            ...            ...\n",
       "86383          Pseudorasbora parva     Cyprinidae\n",
       "86384           Parazacco spilurus     Cyprinidae\n",
       "86385        Micropterus salmoides  Centrarchidae\n",
       "86386          Lepomis macrochirus  Centrarchidae\n",
       "86387         Abudefduf vaigiensis  Pomacentridae\n",
       "\n",
       "[86388 rows x 2 columns]"
      ]
     },
     "execution_count": 15,
     "metadata": {},
     "output_type": "execute_result"
    }
   ],
   "source": [
    "labels_df = pd.DataFrame.from_dict({'fine': df['Specie'].values, 'coarse': df['Family'].values})\n",
    "labels_df"
   ]
  },
  {
   "cell_type": "code",
   "execution_count": 16,
   "metadata": {},
   "outputs": [
    {
     "data": {
      "text/plain": [
       "{'Pomacentridae': 19638, 'Centrarchidae': 38554, 'Cyprinidae': 28196}"
      ]
     },
     "execution_count": 16,
     "metadata": {},
     "output_type": "execute_result"
    }
   ],
   "source": [
    "classes_per_coarse = count_classes_per_coarse(labels_df)\n",
    "classes_per_coarse"
   ]
  },
  {
   "cell_type": "markdown",
   "metadata": {},
   "source": [
    "Definimos una clase para nuestro modelo que cree la arquitectura HD-CNN, generando las capas compartidas como _shared\\_layers_, el componente jerárquico como _coarse\\_component_ y los componentes finos como _fine\\_components_, así como los _head_ con las dimensiones calculadas anteriormente. En el método _forward_ establecemos la conexión de los distintos componentes para formar la arquitectura HD-CNN."
   ]
  },
  {
   "cell_type": "code",
   "execution_count": 17,
   "metadata": {
    "scrolled": true
   },
   "outputs": [],
   "source": [
    "class Resnet50CustomModel(Module):\n",
    "    def __init__(self, model, classes_per_coarse):\n",
    "        n_coarse_classes = len(classes_per_coarse.keys())\n",
    "        self.shared_layers = create_body(model, cut=-2)[:6]\n",
    "        self.coarse_component = create_body(model, cut=-2)[6:]\n",
    "        self.coarse_head = create_head(2048*2,n_coarse_classes)\n",
    "        self.fine_components = nn.ModuleList([create_body(model, cut=-2)[6:] for _ in range(n_coarse_classes)])\n",
    "        self.fine_heads = nn.ModuleList([create_head(2048*2, 144) for num_classes in classes_per_coarse.values()])\n",
    "        \n",
    "\n",
    "    def forward(self, x):\n",
    "        x = self.shared_layers(x)\n",
    "        coarse_x = self.coarse_component(x)\n",
    "        coarse1_label = self.coarse_head(coarse_x)\n",
    "        coarse_idx = coarse1_label[0].argmax()\n",
    "        x = self.fine_components[coarse_idx](x)\n",
    "        fine_label = self.fine_heads[coarse_idx](x)\n",
    "        return {\n",
    "            'fine_label': fine_label,\n",
    "            'coarse1_label': coarse1_label\n",
    "        }"
   ]
  },
  {
   "cell_type": "markdown",
   "metadata": {},
   "source": [
    "Creamos el modelo con la clase definida pasándole la arquitectura base y la información sobre las dimensiones."
   ]
  },
  {
   "cell_type": "code",
   "execution_count": 18,
   "metadata": {
    "scrolled": true
   },
   "outputs": [],
   "source": [
    "model = Resnet50CustomModel(resnet50, classes_per_coarse)"
   ]
  },
  {
   "cell_type": "markdown",
   "metadata": {},
   "source": [
    "Como hemos modificado el modelo y la obtención de las clases para usar una salida múltiple, tenemos que modificar el tipo de bloque de categoría a uno que soporte estas salidas. Para ello, definimos una función que obtenga la clase y codifique a categoría cada una."
   ]
  },
  {
   "cell_type": "code",
   "execution_count": 19,
   "metadata": {
    "scrolled": true
   },
   "outputs": [],
   "source": [
    "class CustomCategorize(DisplayedTransform):\n",
    "    \"Reversible transform of category string to `vocab` id\"\n",
    "    loss_func,order=CrossEntropyLossFlat(),1\n",
    "    def __init__(self, vocab=None, vocab_coarse1=None, vocab_coarse2=None, sort=True, add_na=False, num_y=1):\n",
    "        store_attr()\n",
    "        self.vocab = None if vocab is None else CategoryMap(vocab, sort=sort, add_na=add_na)\n",
    "        self.vocab_coarse1 = None if vocab_coarse1 is None else CategoryMap(vocab_coarse1, sort=sort, add_na=add_na)\n",
    "\n",
    "    def setups(self, dsets):\n",
    "        fine_dsets = [d[1] for d in dsets]\n",
    "        coarse1_dsets = [d[0] for d in dsets]\n",
    "        if self.vocab is None and dsets is not None: self.vocab = CategoryMap(fine_dsets, sort=self.sort, add_na=self.add_na)\n",
    "        if self.vocab_coarse1 is None and dsets is not None: self.vocab_coarse1 = CategoryMap(coarse1_dsets, sort=self.sort, add_na=self.add_na)\n",
    "        self.c = len(self.vocab)\n",
    "\n",
    "    def encodes(self, o): return {'fine_label': TensorCategory(self.vocab.o2i[o[1]]),\n",
    "                                  'coarse1_label': TensorCategory(self.vocab_coarse1.o2i[o[0]])\n",
    "                                 }\n",
    "    def decodes(self, o): return Category      (self.vocab    [o])"
   ]
  },
  {
   "cell_type": "code",
   "execution_count": 20,
   "metadata": {
    "scrolled": true
   },
   "outputs": [],
   "source": [
    "def CustomCategoryBlock(vocab=None, sort=True, add_na=False, num_y=1):\n",
    "    \"`TransformBlock` for single-label categorical targets\"\n",
    "    return TransformBlock(type_tfms=CustomCategorize(vocab=vocab, sort=sort, add_na=add_na))"
   ]
  },
  {
   "cell_type": "markdown",
   "metadata": {},
   "source": [
    "Creamos un _splitter_ personalizado con los parámetros de cada bloque y del _head_."
   ]
  },
  {
   "cell_type": "code",
   "execution_count": 21,
   "metadata": {
    "scrolled": true
   },
   "outputs": [],
   "source": [
    "def custom_splitter(model):\n",
    "    return [params(model.shared_layers),\n",
    "            params(model.coarse_component),\n",
    "            params(model.fine_components),\n",
    "            params(model.coarse_head),\n",
    "            params(model.fine_heads)]"
   ]
  },
  {
   "cell_type": "markdown",
   "metadata": {},
   "source": [
    "Creamos un _datablock_ con: bloques de tipo imagen y categoría personalizada _CustomCategoryBlock_, un separador por columna, la _x_ con la columna que contienen la ruta de las imágenes, la _y_ con la función personalizada, una transformación para hacer un recorte aleatorio dejando un tamaño común de 336x336, y las transformaciones de aumento de datos por defecto."
   ]
  },
  {
   "cell_type": "code",
   "execution_count": 22,
   "metadata": {
    "scrolled": true
   },
   "outputs": [],
   "source": [
    "fishes = DataBlock(blocks = (ImageBlock, CustomCategoryBlock),\n",
    "                 splitter=ColSplitter(),\n",
    "                 get_x = ColReader(5, pref=path),\n",
    "                 get_y=custom_get_y,\n",
    "                 item_tfms=RandomResizedCrop(336, min_scale=0.5),\n",
    "                 batch_tfms=aug_transforms())\n",
    "dls = fishes.dataloaders(df)"
   ]
  },
  {
   "cell_type": "markdown",
   "metadata": {},
   "source": [
    "Mostramos los _dataloaders_ generados con el _datablock_."
   ]
  },
  {
   "cell_type": "code",
   "execution_count": 23,
   "metadata": {
    "scrolled": true
   },
   "outputs": [
    {
     "data": {
      "text/plain": [
       "((#69110) [(PILImage mode=RGB size=768x1024, {'fine_label': TensorCategory(62), 'coarse1_label': TensorCategory(1)}),(PILImage mode=RGB size=1024x768, {'fine_label': TensorCategory(58), 'coarse1_label': TensorCategory(2)}),(PILImage mode=RGB size=768x1024, {'fine_label': TensorCategory(79), 'coarse1_label': TensorCategory(0)}),(PILImage mode=RGB size=1024x768, {'fine_label': TensorCategory(52), 'coarse1_label': TensorCategory(1)}),(PILImage mode=RGB size=768x1024, {'fine_label': TensorCategory(6), 'coarse1_label': TensorCategory(2)}),(PILImage mode=RGB size=1024x768, {'fine_label': TensorCategory(69), 'coarse1_label': TensorCategory(0)}),(PILImage mode=RGB size=1024x715, {'fine_label': TensorCategory(130), 'coarse1_label': TensorCategory(1)}),(PILImage mode=RGB size=1024x768, {'fine_label': TensorCategory(108), 'coarse1_label': TensorCategory(1)}),(PILImage mode=RGB size=1024x768, {'fine_label': TensorCategory(118), 'coarse1_label': TensorCategory(0)}),(PILImage mode=RGB size=1024x768, {'fine_label': TensorCategory(53), 'coarse1_label': TensorCategory(1)})...],\n",
       " (#17278) [(PILImage mode=RGB size=1024x768, {'fine_label': TensorCategory(92), 'coarse1_label': TensorCategory(1)}),(PILImage mode=RGB size=768x1024, {'fine_label': TensorCategory(117), 'coarse1_label': TensorCategory(0)}),(PILImage mode=RGB size=1024x768, {'fine_label': TensorCategory(83), 'coarse1_label': TensorCategory(0)}),(PILImage mode=RGB size=1024x768, {'fine_label': TensorCategory(83), 'coarse1_label': TensorCategory(0)}),(PILImage mode=RGB size=768x1024, {'fine_label': TensorCategory(26), 'coarse1_label': TensorCategory(1)}),(PILImage mode=RGB size=576x1024, {'fine_label': TensorCategory(79), 'coarse1_label': TensorCategory(0)}),(PILImage mode=RGB size=988x742, {'fine_label': TensorCategory(8), 'coarse1_label': TensorCategory(2)}),(PILImage mode=RGB size=768x1024, {'fine_label': TensorCategory(48), 'coarse1_label': TensorCategory(1)}),(PILImage mode=RGB size=1024x768, {'fine_label': TensorCategory(101), 'coarse1_label': TensorCategory(1)}),(PILImage mode=RGB size=1024x761, {'fine_label': TensorCategory(132), 'coarse1_label': TensorCategory(2)})...])"
      ]
     },
     "execution_count": 23,
     "metadata": {},
     "output_type": "execute_result"
    }
   ],
   "source": [
    "dls.train_ds, dls.valid_ds"
   ]
  },
  {
   "cell_type": "markdown",
   "metadata": {},
   "source": [
    "Creamos el tensor con los pesos por clase y lo pasamos a GPU para poder usarlo durante el entrenamiento."
   ]
  },
  {
   "cell_type": "code",
   "execution_count": 24,
   "metadata": {},
   "outputs": [],
   "source": [
    "weights = tensor([float(weights_df[weights_df['Specie']==c]['Weight']) for c in dls.vocab]).cuda()\n",
    "weights_family = tensor([float(weights_family_df[weights_family_df['Family']==c]['Weight']) for c in dls.vocab_coarse1]).cuda()"
   ]
  },
  {
   "cell_type": "markdown",
   "metadata": {},
   "source": [
    "Defimos nuestra función de pérdida como el sumatorio de la pérdida en entropía cruzada de las dos salidas."
   ]
  },
  {
   "cell_type": "code",
   "execution_count": 25,
   "metadata": {
    "scrolled": true
   },
   "outputs": [],
   "source": [
    "def loss_func(out, targ):\n",
    "    return nn.CrossEntropyLoss(weight=weights)(out['fine_label'], targ['fine_label']) + \\\n",
    "            nn.CrossEntropyLoss(weight=weights_family)(out['coarse1_label'], targ['coarse1_label'])"
   ]
  },
  {
   "cell_type": "markdown",
   "metadata": {},
   "source": [
    "Defimos la función de accuracy con la etiqueta fina, ya que es el resultado final que nos interesa. Además, esta etiqueta fue la que se usó para definir las particiones estratificadas, por lo que es la única que se debería tener en cuenta si queremos resultados más fiables."
   ]
  },
  {
   "cell_type": "code",
   "execution_count": 26,
   "metadata": {},
   "outputs": [],
   "source": [
    "def custom_accuracy(inp, targ, axis=-1):\n",
    "    pred1,targ1 = flatten_check(inp['fine_label'].argmax(dim=axis), targ['fine_label'])\n",
    "    acc1 = (pred1 == targ1).float().mean()\n",
    "    return acc1"
   ]
  },
  {
   "cell_type": "markdown",
   "metadata": {},
   "source": [
    "Creamos nuestro objeto _Learner_ con los _dataloaders_, la función de pérdida _loss_func_ creada, la métrica exactitud y el _splitter_ creado. Además, congelamos nuestro modelo para ajustar primero los pesos preentrenados a nuestras clases."
   ]
  },
  {
   "cell_type": "code",
   "execution_count": 27,
   "metadata": {
    "scrolled": true
   },
   "outputs": [],
   "source": [
    "learn = Learner(dls, model, loss_func=loss_func, metrics=custom_accuracy,\n",
    "                   splitter=custom_splitter).to_fp16()\n",
    "learn.freeze()"
   ]
  },
  {
   "cell_type": "markdown",
   "metadata": {},
   "source": [
    "Mostramos un resumen de nuestro modelo."
   ]
  },
  {
   "cell_type": "code",
   "execution_count": 28,
   "metadata": {
    "scrolled": true
   },
   "outputs": [
    {
     "data": {
      "text/html": [
       "<table border=\"1\" class=\"dataframe\">\n",
       "  <thead>\n",
       "    <tr style=\"text-align: left;\">\n",
       "      <th>epoch</th>\n",
       "      <th>train_loss</th>\n",
       "      <th>valid_loss</th>\n",
       "      <th>custom_accuracy</th>\n",
       "      <th>time</th>\n",
       "    </tr>\n",
       "  </thead>\n",
       "  <tbody>\n",
       "    <tr>\n",
       "      <td>0</td>\n",
       "      <td>None</td>\n",
       "      <td>None</td>\n",
       "      <td>00:00</td>\n",
       "    </tr>\n",
       "  </tbody>\n",
       "</table>"
      ],
      "text/plain": [
       "<IPython.core.display.HTML object>"
      ]
     },
     "metadata": {},
     "output_type": "display_data"
    },
    {
     "data": {
      "text/plain": [
       "Resnet50CustomModel (Input shape: ['64 x 3 x 336 x 336'])\n",
       "================================================================\n",
       "Layer (type)         Output Shape         Param #    Trainable \n",
       "================================================================\n",
       "Conv2d               64 x 64 x 168 x 168  9,408      False     \n",
       "________________________________________________________________\n",
       "BatchNorm2d          64 x 64 x 168 x 168  128        True      \n",
       "________________________________________________________________\n",
       "ReLU                 64 x 64 x 168 x 168  0          False     \n",
       "________________________________________________________________\n",
       "MaxPool2d            64 x 64 x 84 x 84    0          False     \n",
       "________________________________________________________________\n",
       "Conv2d               64 x 64 x 84 x 84    4,096      False     \n",
       "________________________________________________________________\n",
       "BatchNorm2d          64 x 64 x 84 x 84    128        True      \n",
       "________________________________________________________________\n",
       "Conv2d               64 x 64 x 84 x 84    36,864     False     \n",
       "________________________________________________________________\n",
       "BatchNorm2d          64 x 64 x 84 x 84    128        True      \n",
       "________________________________________________________________\n",
       "Conv2d               64 x 256 x 84 x 84   16,384     False     \n",
       "________________________________________________________________\n",
       "BatchNorm2d          64 x 256 x 84 x 84   512        True      \n",
       "________________________________________________________________\n",
       "ReLU                 64 x 256 x 84 x 84   0          False     \n",
       "________________________________________________________________\n",
       "Conv2d               64 x 256 x 84 x 84   16,384     False     \n",
       "________________________________________________________________\n",
       "BatchNorm2d          64 x 256 x 84 x 84   512        True      \n",
       "________________________________________________________________\n",
       "Conv2d               64 x 64 x 84 x 84    16,384     False     \n",
       "________________________________________________________________\n",
       "BatchNorm2d          64 x 64 x 84 x 84    128        True      \n",
       "________________________________________________________________\n",
       "Conv2d               64 x 64 x 84 x 84    36,864     False     \n",
       "________________________________________________________________\n",
       "BatchNorm2d          64 x 64 x 84 x 84    128        True      \n",
       "________________________________________________________________\n",
       "Conv2d               64 x 256 x 84 x 84   16,384     False     \n",
       "________________________________________________________________\n",
       "BatchNorm2d          64 x 256 x 84 x 84   512        True      \n",
       "________________________________________________________________\n",
       "ReLU                 64 x 256 x 84 x 84   0          False     \n",
       "________________________________________________________________\n",
       "Conv2d               64 x 64 x 84 x 84    16,384     False     \n",
       "________________________________________________________________\n",
       "BatchNorm2d          64 x 64 x 84 x 84    128        True      \n",
       "________________________________________________________________\n",
       "Conv2d               64 x 64 x 84 x 84    36,864     False     \n",
       "________________________________________________________________\n",
       "BatchNorm2d          64 x 64 x 84 x 84    128        True      \n",
       "________________________________________________________________\n",
       "Conv2d               64 x 256 x 84 x 84   16,384     False     \n",
       "________________________________________________________________\n",
       "BatchNorm2d          64 x 256 x 84 x 84   512        True      \n",
       "________________________________________________________________\n",
       "ReLU                 64 x 256 x 84 x 84   0          False     \n",
       "________________________________________________________________\n",
       "Conv2d               64 x 128 x 84 x 84   32,768     False     \n",
       "________________________________________________________________\n",
       "BatchNorm2d          64 x 128 x 84 x 84   256        True      \n",
       "________________________________________________________________\n",
       "Conv2d               64 x 128 x 42 x 42   147,456    False     \n",
       "________________________________________________________________\n",
       "BatchNorm2d          64 x 128 x 42 x 42   256        True      \n",
       "________________________________________________________________\n",
       "Conv2d               64 x 512 x 42 x 42   65,536     False     \n",
       "________________________________________________________________\n",
       "BatchNorm2d          64 x 512 x 42 x 42   1,024      True      \n",
       "________________________________________________________________\n",
       "ReLU                 64 x 512 x 42 x 42   0          False     \n",
       "________________________________________________________________\n",
       "Conv2d               64 x 512 x 42 x 42   131,072    False     \n",
       "________________________________________________________________\n",
       "BatchNorm2d          64 x 512 x 42 x 42   1,024      True      \n",
       "________________________________________________________________\n",
       "Conv2d               64 x 128 x 42 x 42   65,536     False     \n",
       "________________________________________________________________\n",
       "BatchNorm2d          64 x 128 x 42 x 42   256        True      \n",
       "________________________________________________________________\n",
       "Conv2d               64 x 128 x 42 x 42   147,456    False     \n",
       "________________________________________________________________\n",
       "BatchNorm2d          64 x 128 x 42 x 42   256        True      \n",
       "________________________________________________________________\n",
       "Conv2d               64 x 512 x 42 x 42   65,536     False     \n",
       "________________________________________________________________\n",
       "BatchNorm2d          64 x 512 x 42 x 42   1,024      True      \n",
       "________________________________________________________________\n",
       "ReLU                 64 x 512 x 42 x 42   0          False     \n",
       "________________________________________________________________\n",
       "Conv2d               64 x 128 x 42 x 42   65,536     False     \n",
       "________________________________________________________________\n",
       "BatchNorm2d          64 x 128 x 42 x 42   256        True      \n",
       "________________________________________________________________\n",
       "Conv2d               64 x 128 x 42 x 42   147,456    False     \n",
       "________________________________________________________________\n",
       "BatchNorm2d          64 x 128 x 42 x 42   256        True      \n",
       "________________________________________________________________\n",
       "Conv2d               64 x 512 x 42 x 42   65,536     False     \n",
       "________________________________________________________________\n",
       "BatchNorm2d          64 x 512 x 42 x 42   1,024      True      \n",
       "________________________________________________________________\n",
       "ReLU                 64 x 512 x 42 x 42   0          False     \n",
       "________________________________________________________________\n",
       "Conv2d               64 x 128 x 42 x 42   65,536     False     \n",
       "________________________________________________________________\n",
       "BatchNorm2d          64 x 128 x 42 x 42   256        True      \n",
       "________________________________________________________________\n",
       "Conv2d               64 x 128 x 42 x 42   147,456    False     \n",
       "________________________________________________________________\n",
       "BatchNorm2d          64 x 128 x 42 x 42   256        True      \n",
       "________________________________________________________________\n",
       "Conv2d               64 x 512 x 42 x 42   65,536     False     \n",
       "________________________________________________________________\n",
       "BatchNorm2d          64 x 512 x 42 x 42   1,024      True      \n",
       "________________________________________________________________\n",
       "ReLU                 64 x 512 x 42 x 42   0          False     \n",
       "________________________________________________________________\n",
       "Conv2d               64 x 256 x 42 x 42   131,072    False     \n",
       "________________________________________________________________\n",
       "BatchNorm2d          64 x 256 x 42 x 42   512        True      \n",
       "________________________________________________________________\n",
       "Conv2d               64 x 256 x 21 x 21   589,824    False     \n",
       "________________________________________________________________\n",
       "BatchNorm2d          64 x 256 x 21 x 21   512        True      \n",
       "________________________________________________________________\n",
       "Conv2d               64 x 1024 x 21 x 21  262,144    False     \n",
       "________________________________________________________________\n",
       "BatchNorm2d          64 x 1024 x 21 x 21  2,048      True      \n",
       "________________________________________________________________\n",
       "ReLU                 64 x 1024 x 21 x 21  0          False     \n",
       "________________________________________________________________\n",
       "Conv2d               64 x 1024 x 21 x 21  524,288    False     \n",
       "________________________________________________________________\n",
       "BatchNorm2d          64 x 1024 x 21 x 21  2,048      True      \n",
       "________________________________________________________________\n",
       "Conv2d               64 x 256 x 21 x 21   262,144    False     \n",
       "________________________________________________________________\n",
       "BatchNorm2d          64 x 256 x 21 x 21   512        True      \n",
       "________________________________________________________________\n",
       "Conv2d               64 x 256 x 21 x 21   589,824    False     \n",
       "________________________________________________________________\n",
       "BatchNorm2d          64 x 256 x 21 x 21   512        True      \n",
       "________________________________________________________________\n",
       "Conv2d               64 x 1024 x 21 x 21  262,144    False     \n",
       "________________________________________________________________\n",
       "BatchNorm2d          64 x 1024 x 21 x 21  2,048      True      \n",
       "________________________________________________________________\n",
       "ReLU                 64 x 1024 x 21 x 21  0          False     \n",
       "________________________________________________________________\n",
       "Conv2d               64 x 256 x 21 x 21   262,144    False     \n",
       "________________________________________________________________\n",
       "BatchNorm2d          64 x 256 x 21 x 21   512        True      \n",
       "________________________________________________________________\n",
       "Conv2d               64 x 256 x 21 x 21   589,824    False     \n",
       "________________________________________________________________\n",
       "BatchNorm2d          64 x 256 x 21 x 21   512        True      \n",
       "________________________________________________________________\n",
       "Conv2d               64 x 1024 x 21 x 21  262,144    False     \n",
       "________________________________________________________________\n",
       "BatchNorm2d          64 x 1024 x 21 x 21  2,048      True      \n",
       "________________________________________________________________\n",
       "ReLU                 64 x 1024 x 21 x 21  0          False     \n",
       "________________________________________________________________\n",
       "Conv2d               64 x 256 x 21 x 21   262,144    False     \n",
       "________________________________________________________________\n",
       "BatchNorm2d          64 x 256 x 21 x 21   512        True      \n",
       "________________________________________________________________\n",
       "Conv2d               64 x 256 x 21 x 21   589,824    False     \n",
       "________________________________________________________________\n",
       "BatchNorm2d          64 x 256 x 21 x 21   512        True      \n",
       "________________________________________________________________\n",
       "Conv2d               64 x 1024 x 21 x 21  262,144    False     \n",
       "________________________________________________________________\n",
       "BatchNorm2d          64 x 1024 x 21 x 21  2,048      True      \n",
       "________________________________________________________________\n",
       "ReLU                 64 x 1024 x 21 x 21  0          False     \n",
       "________________________________________________________________\n",
       "Conv2d               64 x 256 x 21 x 21   262,144    False     \n",
       "________________________________________________________________\n",
       "BatchNorm2d          64 x 256 x 21 x 21   512        True      \n",
       "________________________________________________________________\n",
       "Conv2d               64 x 256 x 21 x 21   589,824    False     \n",
       "________________________________________________________________\n",
       "BatchNorm2d          64 x 256 x 21 x 21   512        True      \n",
       "________________________________________________________________\n",
       "Conv2d               64 x 1024 x 21 x 21  262,144    False     \n",
       "________________________________________________________________\n",
       "BatchNorm2d          64 x 1024 x 21 x 21  2,048      True      \n",
       "________________________________________________________________\n",
       "ReLU                 64 x 1024 x 21 x 21  0          False     \n",
       "________________________________________________________________\n",
       "Conv2d               64 x 256 x 21 x 21   262,144    False     \n",
       "________________________________________________________________\n",
       "BatchNorm2d          64 x 256 x 21 x 21   512        True      \n",
       "________________________________________________________________\n",
       "Conv2d               64 x 256 x 21 x 21   589,824    False     \n",
       "________________________________________________________________\n",
       "BatchNorm2d          64 x 256 x 21 x 21   512        True      \n",
       "________________________________________________________________\n",
       "Conv2d               64 x 1024 x 21 x 21  262,144    False     \n",
       "________________________________________________________________\n",
       "BatchNorm2d          64 x 1024 x 21 x 21  2,048      True      \n",
       "________________________________________________________________\n",
       "ReLU                 64 x 1024 x 21 x 21  0          False     \n",
       "________________________________________________________________\n",
       "Conv2d               64 x 512 x 21 x 21   524,288    False     \n",
       "________________________________________________________________\n",
       "BatchNorm2d          64 x 512 x 21 x 21   1,024      True      \n",
       "________________________________________________________________\n",
       "Conv2d               64 x 512 x 11 x 11   2,359,296  False     \n",
       "________________________________________________________________\n",
       "BatchNorm2d          64 x 512 x 11 x 11   1,024      True      \n",
       "________________________________________________________________\n",
       "Conv2d               64 x 2048 x 11 x 11  1,048,576  False     \n",
       "________________________________________________________________\n",
       "BatchNorm2d          64 x 2048 x 11 x 11  4,096      True      \n",
       "________________________________________________________________\n",
       "ReLU                 64 x 2048 x 11 x 11  0          False     \n",
       "________________________________________________________________\n",
       "Conv2d               64 x 2048 x 11 x 11  2,097,152  False     \n",
       "________________________________________________________________\n",
       "BatchNorm2d          64 x 2048 x 11 x 11  4,096      True      \n",
       "________________________________________________________________\n",
       "Conv2d               64 x 512 x 11 x 11   1,048,576  False     \n",
       "________________________________________________________________\n",
       "BatchNorm2d          64 x 512 x 11 x 11   1,024      True      \n",
       "________________________________________________________________\n",
       "Conv2d               64 x 512 x 11 x 11   2,359,296  False     \n",
       "________________________________________________________________\n",
       "BatchNorm2d          64 x 512 x 11 x 11   1,024      True      \n",
       "________________________________________________________________\n",
       "Conv2d               64 x 2048 x 11 x 11  1,048,576  False     \n",
       "________________________________________________________________\n",
       "BatchNorm2d          64 x 2048 x 11 x 11  4,096      True      \n",
       "________________________________________________________________\n",
       "ReLU                 64 x 2048 x 11 x 11  0          False     \n",
       "________________________________________________________________\n",
       "Conv2d               64 x 512 x 11 x 11   1,048,576  False     \n",
       "________________________________________________________________\n",
       "BatchNorm2d          64 x 512 x 11 x 11   1,024      True      \n",
       "________________________________________________________________\n",
       "Conv2d               64 x 512 x 11 x 11   2,359,296  False     \n",
       "________________________________________________________________\n",
       "BatchNorm2d          64 x 512 x 11 x 11   1,024      True      \n",
       "________________________________________________________________\n",
       "Conv2d               64 x 2048 x 11 x 11  1,048,576  False     \n",
       "________________________________________________________________\n",
       "BatchNorm2d          64 x 2048 x 11 x 11  4,096      True      \n",
       "________________________________________________________________\n",
       "ReLU                 64 x 2048 x 11 x 11  0          False     \n",
       "________________________________________________________________\n",
       "AdaptiveAvgPool2d    64 x 2048 x 1 x 1    0          False     \n",
       "________________________________________________________________\n",
       "AdaptiveMaxPool2d    64 x 2048 x 1 x 1    0          False     \n",
       "________________________________________________________________\n",
       "Flatten              64 x 4096            0          False     \n",
       "________________________________________________________________\n",
       "BatchNorm1d          64 x 4096            8,192      True      \n",
       "________________________________________________________________\n",
       "Dropout              64 x 4096            0          False     \n",
       "________________________________________________________________\n",
       "Linear               64 x 512             2,097,152  False     \n",
       "________________________________________________________________\n",
       "ReLU                 64 x 512             0          False     \n",
       "________________________________________________________________\n",
       "BatchNorm1d          64 x 512             1,024      True      \n",
       "________________________________________________________________\n",
       "Dropout              64 x 512             0          False     \n",
       "________________________________________________________________\n",
       "Linear               64 x 3               1,536      False     \n",
       "________________________________________________________________\n",
       "Conv2d               64 x 256 x 42 x 42   131,072    False     \n",
       "________________________________________________________________\n",
       "BatchNorm2d          64 x 256 x 42 x 42   512        True      \n",
       "________________________________________________________________\n",
       "Conv2d               64 x 256 x 21 x 21   589,824    False     \n",
       "________________________________________________________________\n",
       "BatchNorm2d          64 x 256 x 21 x 21   512        True      \n",
       "________________________________________________________________\n",
       "Conv2d               64 x 1024 x 21 x 21  262,144    False     \n",
       "________________________________________________________________\n",
       "BatchNorm2d          64 x 1024 x 21 x 21  2,048      True      \n",
       "________________________________________________________________\n",
       "ReLU                 64 x 1024 x 21 x 21  0          False     \n",
       "________________________________________________________________\n",
       "Conv2d               64 x 1024 x 21 x 21  524,288    False     \n",
       "________________________________________________________________\n",
       "BatchNorm2d          64 x 1024 x 21 x 21  2,048      True      \n",
       "________________________________________________________________\n",
       "Conv2d               64 x 256 x 21 x 21   262,144    False     \n",
       "________________________________________________________________\n",
       "BatchNorm2d          64 x 256 x 21 x 21   512        True      \n",
       "________________________________________________________________\n",
       "Conv2d               64 x 256 x 21 x 21   589,824    False     \n",
       "________________________________________________________________\n",
       "BatchNorm2d          64 x 256 x 21 x 21   512        True      \n",
       "________________________________________________________________\n",
       "Conv2d               64 x 1024 x 21 x 21  262,144    False     \n",
       "________________________________________________________________\n",
       "BatchNorm2d          64 x 1024 x 21 x 21  2,048      True      \n",
       "________________________________________________________________\n",
       "ReLU                 64 x 1024 x 21 x 21  0          False     \n",
       "________________________________________________________________\n",
       "Conv2d               64 x 256 x 21 x 21   262,144    False     \n",
       "________________________________________________________________\n",
       "BatchNorm2d          64 x 256 x 21 x 21   512        True      \n",
       "________________________________________________________________\n",
       "Conv2d               64 x 256 x 21 x 21   589,824    False     \n",
       "________________________________________________________________\n",
       "BatchNorm2d          64 x 256 x 21 x 21   512        True      \n",
       "________________________________________________________________\n",
       "Conv2d               64 x 1024 x 21 x 21  262,144    False     \n",
       "________________________________________________________________\n",
       "BatchNorm2d          64 x 1024 x 21 x 21  2,048      True      \n",
       "________________________________________________________________\n",
       "ReLU                 64 x 1024 x 21 x 21  0          False     \n",
       "________________________________________________________________\n",
       "Conv2d               64 x 256 x 21 x 21   262,144    False     \n",
       "________________________________________________________________\n",
       "BatchNorm2d          64 x 256 x 21 x 21   512        True      \n",
       "________________________________________________________________\n",
       "Conv2d               64 x 256 x 21 x 21   589,824    False     \n",
       "________________________________________________________________\n",
       "BatchNorm2d          64 x 256 x 21 x 21   512        True      \n",
       "________________________________________________________________\n",
       "Conv2d               64 x 1024 x 21 x 21  262,144    False     \n",
       "________________________________________________________________\n",
       "BatchNorm2d          64 x 1024 x 21 x 21  2,048      True      \n",
       "________________________________________________________________\n",
       "ReLU                 64 x 1024 x 21 x 21  0          False     \n",
       "________________________________________________________________\n",
       "Conv2d               64 x 256 x 21 x 21   262,144    False     \n",
       "________________________________________________________________\n",
       "BatchNorm2d          64 x 256 x 21 x 21   512        True      \n",
       "________________________________________________________________\n",
       "Conv2d               64 x 256 x 21 x 21   589,824    False     \n",
       "________________________________________________________________\n",
       "BatchNorm2d          64 x 256 x 21 x 21   512        True      \n",
       "________________________________________________________________\n",
       "Conv2d               64 x 1024 x 21 x 21  262,144    False     \n",
       "________________________________________________________________\n",
       "BatchNorm2d          64 x 1024 x 21 x 21  2,048      True      \n",
       "________________________________________________________________\n",
       "ReLU                 64 x 1024 x 21 x 21  0          False     \n",
       "________________________________________________________________\n",
       "Conv2d               64 x 256 x 21 x 21   262,144    False     \n",
       "________________________________________________________________\n",
       "BatchNorm2d          64 x 256 x 21 x 21   512        True      \n",
       "________________________________________________________________\n",
       "Conv2d               64 x 256 x 21 x 21   589,824    False     \n",
       "________________________________________________________________\n",
       "BatchNorm2d          64 x 256 x 21 x 21   512        True      \n",
       "________________________________________________________________\n",
       "Conv2d               64 x 1024 x 21 x 21  262,144    False     \n",
       "________________________________________________________________\n",
       "BatchNorm2d          64 x 1024 x 21 x 21  2,048      True      \n",
       "________________________________________________________________\n",
       "ReLU                 64 x 1024 x 21 x 21  0          False     \n",
       "________________________________________________________________\n",
       "Conv2d               64 x 512 x 21 x 21   524,288    False     \n",
       "________________________________________________________________\n",
       "BatchNorm2d          64 x 512 x 21 x 21   1,024      True      \n",
       "________________________________________________________________\n",
       "Conv2d               64 x 512 x 11 x 11   2,359,296  False     \n",
       "________________________________________________________________\n",
       "BatchNorm2d          64 x 512 x 11 x 11   1,024      True      \n",
       "________________________________________________________________\n",
       "Conv2d               64 x 2048 x 11 x 11  1,048,576  False     \n",
       "________________________________________________________________\n",
       "BatchNorm2d          64 x 2048 x 11 x 11  4,096      True      \n",
       "________________________________________________________________\n",
       "ReLU                 64 x 2048 x 11 x 11  0          False     \n",
       "________________________________________________________________\n",
       "Conv2d               64 x 2048 x 11 x 11  2,097,152  False     \n",
       "________________________________________________________________\n",
       "BatchNorm2d          64 x 2048 x 11 x 11  4,096      True      \n",
       "________________________________________________________________\n",
       "Conv2d               64 x 512 x 11 x 11   1,048,576  False     \n",
       "________________________________________________________________\n",
       "BatchNorm2d          64 x 512 x 11 x 11   1,024      True      \n",
       "________________________________________________________________\n",
       "Conv2d               64 x 512 x 11 x 11   2,359,296  False     \n",
       "________________________________________________________________\n",
       "BatchNorm2d          64 x 512 x 11 x 11   1,024      True      \n",
       "________________________________________________________________\n",
       "Conv2d               64 x 2048 x 11 x 11  1,048,576  False     \n",
       "________________________________________________________________\n",
       "BatchNorm2d          64 x 2048 x 11 x 11  4,096      True      \n",
       "________________________________________________________________\n",
       "ReLU                 64 x 2048 x 11 x 11  0          False     \n",
       "________________________________________________________________\n",
       "Conv2d               64 x 512 x 11 x 11   1,048,576  False     \n",
       "________________________________________________________________\n",
       "BatchNorm2d          64 x 512 x 11 x 11   1,024      True      \n",
       "________________________________________________________________\n",
       "Conv2d               64 x 512 x 11 x 11   2,359,296  False     \n",
       "________________________________________________________________\n",
       "BatchNorm2d          64 x 512 x 11 x 11   1,024      True      \n",
       "________________________________________________________________\n",
       "Conv2d               64 x 2048 x 11 x 11  1,048,576  False     \n",
       "________________________________________________________________\n",
       "BatchNorm2d          64 x 2048 x 11 x 11  4,096      True      \n",
       "________________________________________________________________\n",
       "ReLU                 64 x 2048 x 11 x 11  0          False     \n",
       "________________________________________________________________\n",
       "AdaptiveAvgPool2d    64 x 2048 x 1 x 1    0          False     \n",
       "________________________________________________________________\n",
       "AdaptiveMaxPool2d    64 x 2048 x 1 x 1    0          False     \n",
       "________________________________________________________________\n",
       "Flatten              64 x 4096            0          False     \n",
       "________________________________________________________________\n",
       "BatchNorm1d          64 x 4096            8,192      True      \n",
       "________________________________________________________________\n",
       "Dropout              64 x 4096            0          False     \n",
       "________________________________________________________________\n",
       "Linear               64 x 512             2,097,152  True      \n",
       "________________________________________________________________\n",
       "ReLU                 64 x 512             0          False     \n",
       "________________________________________________________________\n",
       "BatchNorm1d          64 x 512             1,024      True      \n",
       "________________________________________________________________\n",
       "Dropout              64 x 512             0          False     \n",
       "________________________________________________________________\n",
       "Linear               64 x 144             73,728     True      \n",
       "________________________________________________________________\n",
       "\n",
       "Total params: 49,859,136\n",
       "Total trainable params: 2,285,440\n",
       "Total non-trainable params: 47,573,696\n",
       "\n",
       "Optimizer used: <function Adam at 0x7fd2e7ffa670>\n",
       "Loss function: <function loss_func at 0x7fd2e1e239d0>\n",
       "\n",
       "Model frozen up to parameter group #4\n",
       "\n",
       "Callbacks:\n",
       "  - ModelToHalf\n",
       "  - TrainEvalCallback\n",
       "  - Recorder\n",
       "  - ProgressCallback\n",
       "  - MixedPrecision"
      ]
     },
     "execution_count": 28,
     "metadata": {},
     "output_type": "execute_result"
    }
   ],
   "source": [
    "learn.summary()"
   ]
  },
  {
   "cell_type": "markdown",
   "metadata": {},
   "source": [
    "Entrenamos el modelo congelado para ajustar los pesos de las últimas capas a nuestras clases, y descongelamos el modelo."
   ]
  },
  {
   "cell_type": "code",
   "execution_count": 29,
   "metadata": {
    "scrolled": true
   },
   "outputs": [
    {
     "data": {
      "text/html": [
       "<table border=\"1\" class=\"dataframe\">\n",
       "  <thead>\n",
       "    <tr style=\"text-align: left;\">\n",
       "      <th>epoch</th>\n",
       "      <th>train_loss</th>\n",
       "      <th>valid_loss</th>\n",
       "      <th>custom_accuracy</th>\n",
       "      <th>time</th>\n",
       "    </tr>\n",
       "  </thead>\n",
       "  <tbody>\n",
       "    <tr>\n",
       "      <td>0</td>\n",
       "      <td>3.796122</td>\n",
       "      <td>3.595421</td>\n",
       "      <td>0.231856</td>\n",
       "      <td>10:48</td>\n",
       "    </tr>\n",
       "  </tbody>\n",
       "</table>"
      ],
      "text/plain": [
       "<IPython.core.display.HTML object>"
      ]
     },
     "metadata": {},
     "output_type": "display_data"
    }
   ],
   "source": [
    "learn.fit(1, 3e-3)"
   ]
  },
  {
   "cell_type": "code",
   "execution_count": 30,
   "metadata": {},
   "outputs": [
    {
     "data": {
      "text/plain": [
       "Path('models/species144-hdcnn-resnet50-fepochs1-uepochs0.pth')"
      ]
     },
     "execution_count": 30,
     "metadata": {},
     "output_type": "execute_result"
    }
   ],
   "source": [
    "learn.save('species144-hdcnn-resnet50-fepochs1-uepochs0')"
   ]
  },
  {
   "cell_type": "markdown",
   "metadata": {},
   "source": [
    "Defimos una función para continuar el aprendizaje con los pesos guardados."
   ]
  },
  {
   "cell_type": "code",
   "execution_count": 27,
   "metadata": {},
   "outputs": [],
   "source": [
    "def continue_training(pth_filename):\n",
    "    learn = Learner(dls, model, loss_func=loss_func, metrics=custom_accuracy,\n",
    "                   splitter=custom_splitter).to_fp16()\n",
    "    learn.load(pth_filename)\n",
    "    learn.unfreeze()\n",
    "    return learn"
   ]
  },
  {
   "cell_type": "code",
   "execution_count": 31,
   "metadata": {},
   "outputs": [],
   "source": [
    "learn.unfreeze()"
   ]
  },
  {
   "cell_type": "markdown",
   "metadata": {},
   "source": [
    "Buscamos el factor de aprendizaje más adecuado con lr_find."
   ]
  },
  {
   "cell_type": "code",
   "execution_count": 32,
   "metadata": {},
   "outputs": [
    {
     "data": {
      "text/html": [],
      "text/plain": [
       "<IPython.core.display.HTML object>"
      ]
     },
     "metadata": {},
     "output_type": "display_data"
    },
    {
     "data": {
      "text/plain": [
       "SuggestedLRs(lr_min=7.585775847473997e-08, lr_steep=6.309573450380412e-07)"
      ]
     },
     "execution_count": 32,
     "metadata": {},
     "output_type": "execute_result"
    },
    {
     "data": {
      "image/png": "[encoded data removed]",
      "text/plain": [
       "<Figure size 432x288 with 1 Axes>"
      ]
     },
     "metadata": {
      "needs_background": "light"
     },
     "output_type": "display_data"
    }
   ],
   "source": [
    "learn.lr_find()"
   ]
  },
  {
   "cell_type": "markdown",
   "metadata": {},
   "source": [
    "Entrenamos durante 10 épocas con el factor de aprendizaje máximo adecuado según la visualización del buscador de factores de aprendizaje."
   ]
  },
  {
   "cell_type": "code",
   "execution_count": 33,
   "metadata": {},
   "outputs": [
    {
     "data": {
      "text/html": [
       "<table border=\"1\" class=\"dataframe\">\n",
       "  <thead>\n",
       "    <tr style=\"text-align: left;\">\n",
       "      <th>epoch</th>\n",
       "      <th>train_loss</th>\n",
       "      <th>valid_loss</th>\n",
       "      <th>custom_accuracy</th>\n",
       "      <th>time</th>\n",
       "    </tr>\n",
       "  </thead>\n",
       "  <tbody>\n",
       "    <tr>\n",
       "      <td>0</td>\n",
       "      <td>2.884595</td>\n",
       "      <td>2.562476</td>\n",
       "      <td>0.363699</td>\n",
       "      <td>09:46</td>\n",
       "    </tr>\n",
       "    <tr>\n",
       "      <td>1</td>\n",
       "      <td>2.569497</td>\n",
       "      <td>2.317070</td>\n",
       "      <td>0.412085</td>\n",
       "      <td>09:46</td>\n",
       "    </tr>\n",
       "    <tr>\n",
       "      <td>2</td>\n",
       "      <td>2.409003</td>\n",
       "      <td>2.143274</td>\n",
       "      <td>0.444380</td>\n",
       "      <td>09:48</td>\n",
       "    </tr>\n",
       "    <tr>\n",
       "      <td>3</td>\n",
       "      <td>2.252832</td>\n",
       "      <td>2.005813</td>\n",
       "      <td>0.472219</td>\n",
       "      <td>09:56</td>\n",
       "    </tr>\n",
       "    <tr>\n",
       "      <td>4</td>\n",
       "      <td>2.127790</td>\n",
       "      <td>1.925118</td>\n",
       "      <td>0.490624</td>\n",
       "      <td>09:51</td>\n",
       "    </tr>\n",
       "    <tr>\n",
       "      <td>5</td>\n",
       "      <td>1.963641</td>\n",
       "      <td>1.828566</td>\n",
       "      <td>0.506482</td>\n",
       "      <td>09:43</td>\n",
       "    </tr>\n",
       "    <tr>\n",
       "      <td>6</td>\n",
       "      <td>1.910445</td>\n",
       "      <td>1.772728</td>\n",
       "      <td>0.514585</td>\n",
       "      <td>09:41</td>\n",
       "    </tr>\n",
       "    <tr>\n",
       "      <td>7</td>\n",
       "      <td>1.813891</td>\n",
       "      <td>1.724164</td>\n",
       "      <td>0.529865</td>\n",
       "      <td>09:48</td>\n",
       "    </tr>\n",
       "    <tr>\n",
       "      <td>8</td>\n",
       "      <td>1.755272</td>\n",
       "      <td>1.651296</td>\n",
       "      <td>0.534379</td>\n",
       "      <td>09:41</td>\n",
       "    </tr>\n",
       "    <tr>\n",
       "      <td>9</td>\n",
       "      <td>1.716195</td>\n",
       "      <td>1.612779</td>\n",
       "      <td>0.553478</td>\n",
       "      <td>09:42</td>\n",
       "    </tr>\n",
       "  </tbody>\n",
       "</table>"
      ],
      "text/plain": [
       "<IPython.core.display.HTML object>"
      ]
     },
     "metadata": {},
     "output_type": "display_data"
    }
   ],
   "source": [
    "learn.fit(10, slice(1e-6,1e-4))"
   ]
  },
  {
   "cell_type": "code",
   "execution_count": 34,
   "metadata": {},
   "outputs": [
    {
     "data": {
      "text/plain": [
       "Path('models/species144-hdcnn-resnet50-fepochs1-uepochs10.pth')"
      ]
     },
     "execution_count": 34,
     "metadata": {},
     "output_type": "execute_result"
    }
   ],
   "source": [
    "learn.save('species144-hdcnn-resnet50-fepochs1-uepochs10')"
   ]
  },
  {
   "cell_type": "code",
   "execution_count": null,
   "metadata": {},
   "outputs": [],
   "source": [
    "learn = continue_training('species144-hdcnn-resnet50-fepochs1-uepochs10')"
   ]
  },
  {
   "cell_type": "markdown",
   "metadata": {},
   "source": [
    "Continuamos entrenando nuestro modelo hasta las 50 épocas, guardando los pesos del entrenamiento en cada 10 épocas."
   ]
  },
  {
   "cell_type": "code",
   "execution_count": 35,
   "metadata": {},
   "outputs": [
    {
     "data": {
      "text/html": [
       "<table border=\"1\" class=\"dataframe\">\n",
       "  <thead>\n",
       "    <tr style=\"text-align: left;\">\n",
       "      <th>epoch</th>\n",
       "      <th>train_loss</th>\n",
       "      <th>valid_loss</th>\n",
       "      <th>custom_accuracy</th>\n",
       "      <th>time</th>\n",
       "    </tr>\n",
       "  </thead>\n",
       "  <tbody>\n",
       "    <tr>\n",
       "      <td>0</td>\n",
       "      <td>1.587296</td>\n",
       "      <td>1.574409</td>\n",
       "      <td>0.558340</td>\n",
       "      <td>09:46</td>\n",
       "    </tr>\n",
       "    <tr>\n",
       "      <td>1</td>\n",
       "      <td>1.586948</td>\n",
       "      <td>1.537217</td>\n",
       "      <td>0.560829</td>\n",
       "      <td>09:45</td>\n",
       "    </tr>\n",
       "    <tr>\n",
       "      <td>2</td>\n",
       "      <td>1.524251</td>\n",
       "      <td>1.516649</td>\n",
       "      <td>0.562276</td>\n",
       "      <td>09:41</td>\n",
       "    </tr>\n",
       "    <tr>\n",
       "      <td>3</td>\n",
       "      <td>1.429146</td>\n",
       "      <td>1.493877</td>\n",
       "      <td>0.576224</td>\n",
       "      <td>09:40</td>\n",
       "    </tr>\n",
       "    <tr>\n",
       "      <td>4</td>\n",
       "      <td>1.380860</td>\n",
       "      <td>1.458199</td>\n",
       "      <td>0.582822</td>\n",
       "      <td>09:40</td>\n",
       "    </tr>\n",
       "    <tr>\n",
       "      <td>5</td>\n",
       "      <td>1.255068</td>\n",
       "      <td>1.440460</td>\n",
       "      <td>0.597986</td>\n",
       "      <td>09:40</td>\n",
       "    </tr>\n",
       "    <tr>\n",
       "      <td>6</td>\n",
       "      <td>1.302148</td>\n",
       "      <td>1.419662</td>\n",
       "      <td>0.598507</td>\n",
       "      <td>09:41</td>\n",
       "    </tr>\n",
       "    <tr>\n",
       "      <td>7</td>\n",
       "      <td>1.309875</td>\n",
       "      <td>1.405963</td>\n",
       "      <td>0.608519</td>\n",
       "      <td>09:40</td>\n",
       "    </tr>\n",
       "    <tr>\n",
       "      <td>8</td>\n",
       "      <td>1.186651</td>\n",
       "      <td>1.391974</td>\n",
       "      <td>0.606031</td>\n",
       "      <td>09:39</td>\n",
       "    </tr>\n",
       "    <tr>\n",
       "      <td>9</td>\n",
       "      <td>1.160499</td>\n",
       "      <td>1.374128</td>\n",
       "      <td>0.609793</td>\n",
       "      <td>09:40</td>\n",
       "    </tr>\n",
       "  </tbody>\n",
       "</table>"
      ],
      "text/plain": [
       "<IPython.core.display.HTML object>"
      ]
     },
     "metadata": {},
     "output_type": "display_data"
    },
    {
     "data": {
      "text/plain": [
       "Path('models/species144-hdcnn-resnet50-fepochs1-uepochs20.pth')"
      ]
     },
     "execution_count": 35,
     "metadata": {},
     "output_type": "execute_result"
    }
   ],
   "source": [
    "learn.fit(10, slice(1e-6,1e-4))\n",
    "learn.save('species144-hdcnn-resnet50-fepochs1-uepochs20')"
   ]
  },
  {
   "cell_type": "code",
   "execution_count": null,
   "metadata": {},
   "outputs": [],
   "source": [
    "learn = continue_training('species144-hdcnn-resnet50-fepochs1-uepochs20')"
   ]
  },
  {
   "cell_type": "code",
   "execution_count": 36,
   "metadata": {},
   "outputs": [
    {
     "data": {
      "text/html": [
       "<table border=\"1\" class=\"dataframe\">\n",
       "  <thead>\n",
       "    <tr style=\"text-align: left;\">\n",
       "      <th>epoch</th>\n",
       "      <th>train_loss</th>\n",
       "      <th>valid_loss</th>\n",
       "      <th>custom_accuracy</th>\n",
       "      <th>time</th>\n",
       "    </tr>\n",
       "  </thead>\n",
       "  <tbody>\n",
       "    <tr>\n",
       "      <td>0</td>\n",
       "      <td>1.080497</td>\n",
       "      <td>1.367114</td>\n",
       "      <td>0.617375</td>\n",
       "      <td>09:42</td>\n",
       "    </tr>\n",
       "    <tr>\n",
       "      <td>1</td>\n",
       "      <td>1.077393</td>\n",
       "      <td>1.342427</td>\n",
       "      <td>0.615291</td>\n",
       "      <td>09:44</td>\n",
       "    </tr>\n",
       "    <tr>\n",
       "      <td>2</td>\n",
       "      <td>1.060327</td>\n",
       "      <td>1.324558</td>\n",
       "      <td>0.626404</td>\n",
       "      <td>09:41</td>\n",
       "    </tr>\n",
       "    <tr>\n",
       "      <td>3</td>\n",
       "      <td>1.035083</td>\n",
       "      <td>1.315914</td>\n",
       "      <td>0.628950</td>\n",
       "      <td>09:40</td>\n",
       "    </tr>\n",
       "    <tr>\n",
       "      <td>4</td>\n",
       "      <td>0.980223</td>\n",
       "      <td>1.321329</td>\n",
       "      <td>0.627793</td>\n",
       "      <td>09:41</td>\n",
       "    </tr>\n",
       "    <tr>\n",
       "      <td>5</td>\n",
       "      <td>0.968344</td>\n",
       "      <td>1.299155</td>\n",
       "      <td>0.634796</td>\n",
       "      <td>09:41</td>\n",
       "    </tr>\n",
       "    <tr>\n",
       "      <td>6</td>\n",
       "      <td>0.993529</td>\n",
       "      <td>1.290067</td>\n",
       "      <td>0.639657</td>\n",
       "      <td>09:39</td>\n",
       "    </tr>\n",
       "    <tr>\n",
       "      <td>7</td>\n",
       "      <td>0.902791</td>\n",
       "      <td>1.299942</td>\n",
       "      <td>0.644056</td>\n",
       "      <td>09:39</td>\n",
       "    </tr>\n",
       "    <tr>\n",
       "      <td>8</td>\n",
       "      <td>0.941798</td>\n",
       "      <td>1.294722</td>\n",
       "      <td>0.643593</td>\n",
       "      <td>09:40</td>\n",
       "    </tr>\n",
       "    <tr>\n",
       "      <td>9</td>\n",
       "      <td>0.873659</td>\n",
       "      <td>1.267891</td>\n",
       "      <td>0.644982</td>\n",
       "      <td>09:39</td>\n",
       "    </tr>\n",
       "  </tbody>\n",
       "</table>"
      ],
      "text/plain": [
       "<IPython.core.display.HTML object>"
      ]
     },
     "metadata": {},
     "output_type": "display_data"
    },
    {
     "data": {
      "text/plain": [
       "Path('models/species144-hdcnn-resnet50-fepochs1-uepochs30.pth')"
      ]
     },
     "execution_count": 36,
     "metadata": {},
     "output_type": "execute_result"
    }
   ],
   "source": [
    "learn.fit(10, slice(1e-6,1e-4))\n",
    "learn.save('species144-hdcnn-resnet50-fepochs1-uepochs30')"
   ]
  },
  {
   "cell_type": "code",
   "execution_count": 28,
   "metadata": {},
   "outputs": [],
   "source": [
    "learn = continue_training('species144-hdcnn-resnet50-fepochs1-uepochs30')"
   ]
  },
  {
   "cell_type": "code",
   "execution_count": 29,
   "metadata": {},
   "outputs": [
    {
     "data": {
      "text/html": [
       "<table border=\"1\" class=\"dataframe\">\n",
       "  <thead>\n",
       "    <tr style=\"text-align: left;\">\n",
       "      <th>epoch</th>\n",
       "      <th>train_loss</th>\n",
       "      <th>valid_loss</th>\n",
       "      <th>custom_accuracy</th>\n",
       "      <th>time</th>\n",
       "    </tr>\n",
       "  </thead>\n",
       "  <tbody>\n",
       "    <tr>\n",
       "      <td>0</td>\n",
       "      <td>0.829550</td>\n",
       "      <td>1.234383</td>\n",
       "      <td>0.648628</td>\n",
       "      <td>10:21</td>\n",
       "    </tr>\n",
       "    <tr>\n",
       "      <td>1</td>\n",
       "      <td>0.803654</td>\n",
       "      <td>1.245188</td>\n",
       "      <td>0.657078</td>\n",
       "      <td>10:07</td>\n",
       "    </tr>\n",
       "    <tr>\n",
       "      <td>2</td>\n",
       "      <td>0.852922</td>\n",
       "      <td>1.245694</td>\n",
       "      <td>0.658815</td>\n",
       "      <td>09:46</td>\n",
       "    </tr>\n",
       "    <tr>\n",
       "      <td>3</td>\n",
       "      <td>0.809487</td>\n",
       "      <td>1.246061</td>\n",
       "      <td>0.664429</td>\n",
       "      <td>09:44</td>\n",
       "    </tr>\n",
       "    <tr>\n",
       "      <td>4</td>\n",
       "      <td>0.784790</td>\n",
       "      <td>1.235339</td>\n",
       "      <td>0.658641</td>\n",
       "      <td>09:44</td>\n",
       "    </tr>\n",
       "    <tr>\n",
       "      <td>5</td>\n",
       "      <td>0.793846</td>\n",
       "      <td>1.248017</td>\n",
       "      <td>0.671085</td>\n",
       "      <td>09:43</td>\n",
       "    </tr>\n",
       "    <tr>\n",
       "      <td>6</td>\n",
       "      <td>0.761106</td>\n",
       "      <td>1.265137</td>\n",
       "      <td>0.672184</td>\n",
       "      <td>09:44</td>\n",
       "    </tr>\n",
       "    <tr>\n",
       "      <td>7</td>\n",
       "      <td>0.734980</td>\n",
       "      <td>1.233598</td>\n",
       "      <td>0.677740</td>\n",
       "      <td>09:43</td>\n",
       "    </tr>\n",
       "    <tr>\n",
       "      <td>8</td>\n",
       "      <td>0.689897</td>\n",
       "      <td>1.247983</td>\n",
       "      <td>0.678030</td>\n",
       "      <td>09:44</td>\n",
       "    </tr>\n",
       "    <tr>\n",
       "      <td>9</td>\n",
       "      <td>0.721047</td>\n",
       "      <td>1.217464</td>\n",
       "      <td>0.679419</td>\n",
       "      <td>09:44</td>\n",
       "    </tr>\n",
       "  </tbody>\n",
       "</table>"
      ],
      "text/plain": [
       "<IPython.core.display.HTML object>"
      ]
     },
     "metadata": {},
     "output_type": "display_data"
    },
    {
     "data": {
      "text/plain": [
       "Path('models/species144-hdcnn-resnet50-fepochs1-uepochs40.pth')"
      ]
     },
     "execution_count": 29,
     "metadata": {},
     "output_type": "execute_result"
    }
   ],
   "source": [
    "learn.fit(10, slice(1e-6,1e-4))\n",
    "learn.save('species144-hdcnn-resnet50-fepochs1-uepochs40')"
   ]
  },
  {
   "cell_type": "code",
   "execution_count": null,
   "metadata": {},
   "outputs": [],
   "source": [
    "learn = continue_training('species144-hdcnn-resnet50-fepochs1-uepochs40')"
   ]
  },
  {
   "cell_type": "code",
   "execution_count": 30,
   "metadata": {},
   "outputs": [
    {
     "data": {
      "text/html": [
       "<table border=\"1\" class=\"dataframe\">\n",
       "  <thead>\n",
       "    <tr style=\"text-align: left;\">\n",
       "      <th>epoch</th>\n",
       "      <th>train_loss</th>\n",
       "      <th>valid_loss</th>\n",
       "      <th>custom_accuracy</th>\n",
       "      <th>time</th>\n",
       "    </tr>\n",
       "  </thead>\n",
       "  <tbody>\n",
       "    <tr>\n",
       "      <td>0</td>\n",
       "      <td>0.668610</td>\n",
       "      <td>1.211318</td>\n",
       "      <td>0.677856</td>\n",
       "      <td>09:46</td>\n",
       "    </tr>\n",
       "    <tr>\n",
       "      <td>1</td>\n",
       "      <td>0.683699</td>\n",
       "      <td>1.213221</td>\n",
       "      <td>0.678030</td>\n",
       "      <td>09:46</td>\n",
       "    </tr>\n",
       "    <tr>\n",
       "      <td>2</td>\n",
       "      <td>0.655360</td>\n",
       "      <td>1.212243</td>\n",
       "      <td>0.683991</td>\n",
       "      <td>09:46</td>\n",
       "    </tr>\n",
       "    <tr>\n",
       "      <td>3</td>\n",
       "      <td>0.651280</td>\n",
       "      <td>1.222264</td>\n",
       "      <td>0.684223</td>\n",
       "      <td>09:45</td>\n",
       "    </tr>\n",
       "    <tr>\n",
       "      <td>4</td>\n",
       "      <td>0.645473</td>\n",
       "      <td>1.201379</td>\n",
       "      <td>0.684396</td>\n",
       "      <td>09:58</td>\n",
       "    </tr>\n",
       "    <tr>\n",
       "      <td>5</td>\n",
       "      <td>0.652412</td>\n",
       "      <td>1.226982</td>\n",
       "      <td>0.685785</td>\n",
       "      <td>09:47</td>\n",
       "    </tr>\n",
       "    <tr>\n",
       "      <td>6</td>\n",
       "      <td>0.621390</td>\n",
       "      <td>1.203854</td>\n",
       "      <td>0.699618</td>\n",
       "      <td>09:50</td>\n",
       "    </tr>\n",
       "    <tr>\n",
       "      <td>7</td>\n",
       "      <td>0.625103</td>\n",
       "      <td>1.200947</td>\n",
       "      <td>0.692094</td>\n",
       "      <td>10:04</td>\n",
       "    </tr>\n",
       "    <tr>\n",
       "      <td>8</td>\n",
       "      <td>0.545649</td>\n",
       "      <td>1.208101</td>\n",
       "      <td>0.699386</td>\n",
       "      <td>10:27</td>\n",
       "    </tr>\n",
       "    <tr>\n",
       "      <td>9</td>\n",
       "      <td>0.573283</td>\n",
       "      <td>1.186072</td>\n",
       "      <td>0.696956</td>\n",
       "      <td>09:48</td>\n",
       "    </tr>\n",
       "  </tbody>\n",
       "</table>"
      ],
      "text/plain": [
       "<IPython.core.display.HTML object>"
      ]
     },
     "metadata": {},
     "output_type": "display_data"
    },
    {
     "data": {
      "text/plain": [
       "Path('models/species144-hdcnn-resnet50-fepochs1-uepochs50.pth')"
      ]
     },
     "execution_count": 30,
     "metadata": {},
     "output_type": "execute_result"
    }
   ],
   "source": [
    "learn.fit(10, slice(1e-6,1e-4))\n",
    "learn.save('species144-hdcnn-resnet50-fepochs1-uepochs50')"
   ]
  },
  {
   "cell_type": "code",
   "execution_count": 31,
   "metadata": {},
   "outputs": [],
   "source": [
    "learn.export('species144-hdcnn-resnet50-fepochs1-uepochs50')"
   ]
  }
 ],
 "metadata": {
  "kernelspec": {
   "display_name": "Python 3",
   "language": "python",
   "name": "python3"
  },
  "language_info": {
   "codemirror_mode": {
    "name": "ipython",
    "version": 3
   },
   "file_extension": ".py",
   "mimetype": "text/x-python",
   "name": "python",
   "nbconvert_exporter": "python",
   "pygments_lexer": "ipython3",
   "version": "3.8.6"
  }
 },
 "nbformat": 4,
 "nbformat_minor": 4
}
