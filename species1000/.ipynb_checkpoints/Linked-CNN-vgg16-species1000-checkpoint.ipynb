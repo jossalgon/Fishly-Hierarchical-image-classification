{
 "cells": [
  {
   "cell_type": "markdown",
   "metadata": {},
   "source": [
    "# Linked-CNN con modelo base VGG-16"
   ]
  },
  {
   "cell_type": "markdown",
   "metadata": {},
   "source": [
    "En primer lugar, importamos las librerías necesarias para ejecutar este cuaderno."
   ]
  },
  {
   "cell_type": "code",
   "execution_count": 1,
   "metadata": {
    "scrolled": true
   },
   "outputs": [],
   "source": [
    "from fastai.vision.all import *"
   ]
  },
  {
   "cell_type": "markdown",
   "metadata": {},
   "source": [
    "Establecemos las variables de entorno necesarias para usar las dos GPUs."
   ]
  },
  {
   "cell_type": "code",
   "execution_count": 2,
   "metadata": {},
   "outputs": [],
   "source": [
    "import os; os.environ['CUDA_VISIBLE_DEVICES']='0,1'"
   ]
  },
  {
   "cell_type": "markdown",
   "metadata": {},
   "source": [
    "Definimos la ruta que contiene las imágenes del conjunto de datos."
   ]
  },
  {
   "cell_type": "code",
   "execution_count": 3,
   "metadata": {
    "scrolled": true
   },
   "outputs": [],
   "source": [
    "path = Path('/home/user/images')"
   ]
  },
  {
   "cell_type": "markdown",
   "metadata": {},
   "source": [
    "Listamos el directorio establecido para mostrar las carpetas por clase que contienen dicho directorio."
   ]
  },
  {
   "cell_type": "code",
   "execution_count": 4,
   "metadata": {
    "scrolled": false
   },
   "outputs": [
    {
     "data": {
      "text/plain": [
       "(#1000) [Path('/home/user/images/Bathygobius krefftii'),Path('/home/user/images/Oncorhynchus gorbuscha'),Path('/home/user/images/Chromis margaritifer'),Path('/home/user/images/Istigobius hoesei'),Path('/home/user/images/Abudefduf sordidus'),Path('/home/user/images/Acanthurus leucopareius'),Path('/home/user/images/Sphoeroides spengleri'),Path('/home/user/images/Orthopristis chrysoptera'),Path('/home/user/images/Etheostoma zonale'),Path('/home/user/images/Morone mississippiensis')...]"
      ]
     },
     "execution_count": 4,
     "metadata": {},
     "output_type": "execute_result"
    }
   ],
   "source": [
    "path.ls()"
   ]
  },
  {
   "cell_type": "markdown",
   "metadata": {},
   "source": [
    "Definimos la ruta padre del proyecto donde se encuentran los datos."
   ]
  },
  {
   "cell_type": "code",
   "execution_count": 5,
   "metadata": {
    "scrolled": true
   },
   "outputs": [],
   "source": [
    "df_path = Path('/home/user/')"
   ]
  },
  {
   "cell_type": "markdown",
   "metadata": {},
   "source": [
    "Cargamos el archivo CSV en forma de _dataframe_ de Pandas con las clases jerárquicas de cada imagen, la ruta de la imagen y si corresponde o no al conjunto de validación."
   ]
  },
  {
   "cell_type": "code",
   "execution_count": 6,
   "metadata": {
    "scrolled": true
   },
   "outputs": [],
   "source": [
    "df = pd.read_csv(df_path/'csv/species1000-stratified.csv')"
   ]
  },
  {
   "cell_type": "markdown",
   "metadata": {},
   "source": [
    "Cargamos los pesos en forma de _dataframes_ de las clases para corregir el desbalanceo durante el entrenamiento."
   ]
  },
  {
   "cell_type": "code",
   "execution_count": 7,
   "metadata": {},
   "outputs": [],
   "source": [
    "weights_df = pd.read_csv(df_path/'csv/species1000-weights.csv')\n",
    "weights_family_df = pd.read_csv(df_path/'csv/species1000-weights-family.csv')"
   ]
  },
  {
   "cell_type": "code",
   "execution_count": 8,
   "metadata": {},
   "outputs": [
    {
     "data": {
      "text/html": [
       "<div>\n",
       "<style scoped>\n",
       "    .dataframe tbody tr th:only-of-type {\n",
       "        vertical-align: middle;\n",
       "    }\n",
       "\n",
       "    .dataframe tbody tr th {\n",
       "        vertical-align: top;\n",
       "    }\n",
       "\n",
       "    .dataframe thead th {\n",
       "        text-align: right;\n",
       "    }\n",
       "</style>\n",
       "<table border=\"1\" class=\"dataframe\">\n",
       "  <thead>\n",
       "    <tr style=\"text-align: right;\">\n",
       "      <th></th>\n",
       "      <th>Specie</th>\n",
       "      <th>Count</th>\n",
       "      <th>Weight</th>\n",
       "    </tr>\n",
       "  </thead>\n",
       "  <tbody>\n",
       "    <tr>\n",
       "      <th>0</th>\n",
       "      <td>Abramis brama</td>\n",
       "      <td>319</td>\n",
       "      <td>1.323439</td>\n",
       "    </tr>\n",
       "    <tr>\n",
       "      <th>1</th>\n",
       "      <td>Abudefduf abdominalis</td>\n",
       "      <td>221</td>\n",
       "      <td>1.910303</td>\n",
       "    </tr>\n",
       "    <tr>\n",
       "      <th>2</th>\n",
       "      <td>Abudefduf bengalensis</td>\n",
       "      <td>323</td>\n",
       "      <td>1.307050</td>\n",
       "    </tr>\n",
       "    <tr>\n",
       "      <th>3</th>\n",
       "      <td>Abudefduf saxatilis</td>\n",
       "      <td>1692</td>\n",
       "      <td>0.249514</td>\n",
       "    </tr>\n",
       "    <tr>\n",
       "      <th>4</th>\n",
       "      <td>Abudefduf septemfasciatus</td>\n",
       "      <td>149</td>\n",
       "      <td>2.833403</td>\n",
       "    </tr>\n",
       "    <tr>\n",
       "      <th>...</th>\n",
       "      <td>...</td>\n",
       "      <td>...</td>\n",
       "      <td>...</td>\n",
       "    </tr>\n",
       "    <tr>\n",
       "      <th>995</th>\n",
       "      <td>Zanclus cornutus</td>\n",
       "      <td>1966</td>\n",
       "      <td>0.214739</td>\n",
       "    </tr>\n",
       "    <tr>\n",
       "      <th>996</th>\n",
       "      <td>Zebrasoma desjardinii</td>\n",
       "      <td>166</td>\n",
       "      <td>2.543235</td>\n",
       "    </tr>\n",
       "    <tr>\n",
       "      <th>997</th>\n",
       "      <td>Zebrasoma flavescens</td>\n",
       "      <td>561</td>\n",
       "      <td>0.752544</td>\n",
       "    </tr>\n",
       "    <tr>\n",
       "      <th>998</th>\n",
       "      <td>Zebrasoma scopas</td>\n",
       "      <td>276</td>\n",
       "      <td>1.529627</td>\n",
       "    </tr>\n",
       "    <tr>\n",
       "      <th>999</th>\n",
       "      <td>Zebrasoma velifer</td>\n",
       "      <td>500</td>\n",
       "      <td>0.844354</td>\n",
       "    </tr>\n",
       "  </tbody>\n",
       "</table>\n",
       "<p>1000 rows × 3 columns</p>\n",
       "</div>"
      ],
      "text/plain": [
       "                        Specie  Count    Weight\n",
       "0                Abramis brama    319  1.323439\n",
       "1        Abudefduf abdominalis    221  1.910303\n",
       "2        Abudefduf bengalensis    323  1.307050\n",
       "3          Abudefduf saxatilis   1692  0.249514\n",
       "4    Abudefduf septemfasciatus    149  2.833403\n",
       "..                         ...    ...       ...\n",
       "995           Zanclus cornutus   1966  0.214739\n",
       "996      Zebrasoma desjardinii    166  2.543235\n",
       "997       Zebrasoma flavescens    561  0.752544\n",
       "998           Zebrasoma scopas    276  1.529627\n",
       "999          Zebrasoma velifer    500  0.844354\n",
       "\n",
       "[1000 rows x 3 columns]"
      ]
     },
     "execution_count": 8,
     "metadata": {},
     "output_type": "execute_result"
    }
   ],
   "source": [
    "weights_df"
   ]
  },
  {
   "cell_type": "code",
   "execution_count": 9,
   "metadata": {},
   "outputs": [],
   "source": [
    "n_classes_f = len(set(df['Specie']))\n",
    "n_classes_c = len(set(df['Family']))"
   ]
  },
  {
   "cell_type": "markdown",
   "metadata": {},
   "source": [
    "Creamos los cuerpos y cabezas del modelo tomando como base VGG-16 con _Batch Normalization_ con pesos preentrenados."
   ]
  },
  {
   "cell_type": "code",
   "execution_count": 10,
   "metadata": {
    "scrolled": true
   },
   "outputs": [
    {
     "name": "stderr",
     "output_type": "stream",
     "text": [
      "Downloading: \"https://download.pytorch.org/models/vgg16_bn-6c64b313.pth\" to /home/user/.cache/torch/hub/checkpoints/vgg16_bn-6c64b313.pth\n"
     ]
    },
    {
     "data": {
      "application/vnd.jupyter.widget-view+json": {
       "model_id": "fc4dfa0dccd54798ba677abc3167976a",
       "version_major": 2,
       "version_minor": 0
      },
      "text/plain": [
       "HBox(children=(FloatProgress(value=0.0, max=553507836.0), HTML(value='')))"
      ]
     },
     "metadata": {},
     "output_type": "display_data"
    },
    {
     "name": "stdout",
     "output_type": "stream",
     "text": [
      "\n"
     ]
    },
    {
     "data": {
      "text/plain": [
       "Sequential(\n",
       "  (0): Sequential(\n",
       "    (0): Conv2d(3, 64, kernel_size=(3, 3), stride=(1, 1), padding=(1, 1))\n",
       "    (1): BatchNorm2d(64, eps=1e-05, momentum=0.1, affine=True, track_running_stats=True)\n",
       "    (2): ReLU(inplace=True)\n",
       "    (3): Conv2d(64, 64, kernel_size=(3, 3), stride=(1, 1), padding=(1, 1))\n",
       "    (4): BatchNorm2d(64, eps=1e-05, momentum=0.1, affine=True, track_running_stats=True)\n",
       "    (5): ReLU(inplace=True)\n",
       "    (6): MaxPool2d(kernel_size=2, stride=2, padding=0, dilation=1, ceil_mode=False)\n",
       "    (7): Conv2d(64, 128, kernel_size=(3, 3), stride=(1, 1), padding=(1, 1))\n",
       "    (8): BatchNorm2d(128, eps=1e-05, momentum=0.1, affine=True, track_running_stats=True)\n",
       "    (9): ReLU(inplace=True)\n",
       "    (10): Conv2d(128, 128, kernel_size=(3, 3), stride=(1, 1), padding=(1, 1))\n",
       "    (11): BatchNorm2d(128, eps=1e-05, momentum=0.1, affine=True, track_running_stats=True)\n",
       "    (12): ReLU(inplace=True)\n",
       "    (13): MaxPool2d(kernel_size=2, stride=2, padding=0, dilation=1, ceil_mode=False)\n",
       "    (14): Conv2d(128, 256, kernel_size=(3, 3), stride=(1, 1), padding=(1, 1))\n",
       "    (15): BatchNorm2d(256, eps=1e-05, momentum=0.1, affine=True, track_running_stats=True)\n",
       "    (16): ReLU(inplace=True)\n",
       "    (17): Conv2d(256, 256, kernel_size=(3, 3), stride=(1, 1), padding=(1, 1))\n",
       "    (18): BatchNorm2d(256, eps=1e-05, momentum=0.1, affine=True, track_running_stats=True)\n",
       "    (19): ReLU(inplace=True)\n",
       "    (20): Conv2d(256, 256, kernel_size=(3, 3), stride=(1, 1), padding=(1, 1))\n",
       "    (21): BatchNorm2d(256, eps=1e-05, momentum=0.1, affine=True, track_running_stats=True)\n",
       "    (22): ReLU(inplace=True)\n",
       "    (23): MaxPool2d(kernel_size=2, stride=2, padding=0, dilation=1, ceil_mode=False)\n",
       "    (24): Conv2d(256, 512, kernel_size=(3, 3), stride=(1, 1), padding=(1, 1))\n",
       "    (25): BatchNorm2d(512, eps=1e-05, momentum=0.1, affine=True, track_running_stats=True)\n",
       "    (26): ReLU(inplace=True)\n",
       "    (27): Conv2d(512, 512, kernel_size=(3, 3), stride=(1, 1), padding=(1, 1))\n",
       "    (28): BatchNorm2d(512, eps=1e-05, momentum=0.1, affine=True, track_running_stats=True)\n",
       "    (29): ReLU(inplace=True)\n",
       "    (30): Conv2d(512, 512, kernel_size=(3, 3), stride=(1, 1), padding=(1, 1))\n",
       "    (31): BatchNorm2d(512, eps=1e-05, momentum=0.1, affine=True, track_running_stats=True)\n",
       "    (32): ReLU(inplace=True)\n",
       "    (33): MaxPool2d(kernel_size=2, stride=2, padding=0, dilation=1, ceil_mode=False)\n",
       "    (34): Conv2d(512, 512, kernel_size=(3, 3), stride=(1, 1), padding=(1, 1))\n",
       "    (35): BatchNorm2d(512, eps=1e-05, momentum=0.1, affine=True, track_running_stats=True)\n",
       "    (36): ReLU(inplace=True)\n",
       "    (37): Conv2d(512, 512, kernel_size=(3, 3), stride=(1, 1), padding=(1, 1))\n",
       "    (38): BatchNorm2d(512, eps=1e-05, momentum=0.1, affine=True, track_running_stats=True)\n",
       "    (39): ReLU(inplace=True)\n",
       "    (40): Conv2d(512, 512, kernel_size=(3, 3), stride=(1, 1), padding=(1, 1))\n",
       "    (41): BatchNorm2d(512, eps=1e-05, momentum=0.1, affine=True, track_running_stats=True)\n",
       "    (42): ReLU(inplace=True)\n",
       "    (43): MaxPool2d(kernel_size=2, stride=2, padding=0, dilation=1, ceil_mode=False)\n",
       "  )\n",
       ")"
      ]
     },
     "execution_count": 10,
     "metadata": {},
     "output_type": "execute_result"
    }
   ],
   "source": [
    "model = vgg16_bn\n",
    "body1 = create_body(model, cut=-2)\n",
    "body2 = create_body(model, cut=-2)\n",
    "body1"
   ]
  },
  {
   "cell_type": "code",
   "execution_count": 11,
   "metadata": {
    "scrolled": true
   },
   "outputs": [
    {
     "data": {
      "text/plain": [
       "Sequential(\n",
       "  (0): AdaptiveConcatPool2d(\n",
       "    (ap): AdaptiveAvgPool2d(output_size=1)\n",
       "    (mp): AdaptiveMaxPool2d(output_size=1)\n",
       "  )\n",
       "  (1): Flatten(full=False)\n",
       "  (2): BatchNorm1d(1024, eps=1e-05, momentum=0.1, affine=True, track_running_stats=True)\n",
       "  (3): Dropout(p=0.25, inplace=False)\n",
       "  (4): Linear(in_features=1024, out_features=512, bias=False)\n",
       "  (5): ReLU(inplace=True)\n",
       "  (6): BatchNorm1d(512, eps=1e-05, momentum=0.1, affine=True, track_running_stats=True)\n",
       "  (7): Dropout(p=0.5, inplace=False)\n",
       "  (8): Linear(in_features=512, out_features=1000, bias=False)\n",
       ")"
      ]
     },
     "execution_count": 11,
     "metadata": {},
     "output_type": "execute_result"
    }
   ],
   "source": [
    "head_c = create_head(512*2,n_classes_c)\n",
    "head_f = create_head(512*2,n_classes_f)\n",
    "head_f"
   ]
  },
  {
   "cell_type": "markdown",
   "metadata": {},
   "source": [
    "Definimos una función para obtener las etiquetas de cada ejemplo, en este caso: familia y especie."
   ]
  },
  {
   "cell_type": "code",
   "execution_count": 12,
   "metadata": {
    "scrolled": true
   },
   "outputs": [],
   "source": [
    "def custom_get_y(o):\n",
    "    fine_label = o['Specie']\n",
    "    coarse1_label = o['Family']\n",
    "    return [coarse1_label, fine_label]"
   ]
  },
  {
   "cell_type": "markdown",
   "metadata": {},
   "source": [
    "Creamos una clase para nuestro modelo que divida los _encoder_ en los distintos bloques. En el método _forward_ establecemos las conexiones entre los bloques para formar la arquitectura propuesta Linked-CNN, y devolver ambas salidas en forma de diccionario."
   ]
  },
  {
   "cell_type": "code",
   "execution_count": 13,
   "metadata": {
    "scrolled": true
   },
   "outputs": [],
   "source": [
    "class VGGCustomModel(Module):\n",
    "    def __init__(self, coarse_encoder, fine_encoder, coarse_head, fine_head):\n",
    "        coarse_encoder = coarse_encoder[0]\n",
    "        self.coarse_block1 = coarse_encoder[:7]\n",
    "        self.coarse_block2 = coarse_encoder[7:14]\n",
    "        self.coarse_block3 = coarse_encoder[14:24]\n",
    "        self.coarse_block4 = coarse_encoder[24:34]\n",
    "        self.coarse_block5 = coarse_encoder[34:]\n",
    "        self.coarse_head = coarse_head\n",
    "        \n",
    "        fine_encoder = fine_encoder[0]\n",
    "        self.fine_block1 = fine_encoder[:7]\n",
    "        self.fine_block2 = fine_encoder[7:14]\n",
    "        self.fine_block3 = fine_encoder[14:24]\n",
    "        self.fine_block4 = fine_encoder[24:34]\n",
    "        self.fine_block5 = fine_encoder[34:]\n",
    "        self.fine_head = fine_head\n",
    "        \n",
    "    \n",
    "    def forward(self, x):\n",
    "        x_c = self.coarse_block1(x)\n",
    "        x_f = self.fine_block1(x)\n",
    "        x_f = x_f + x_c\n",
    "        \n",
    "        x_c = self.coarse_block2(x_c)\n",
    "        x_f = self.fine_block2(x_f)\n",
    "        x_f = x_f + x_c\n",
    "\n",
    "        x_c = self.coarse_block3(x_c)\n",
    "        x_f = self.fine_block3(x_f)\n",
    "        x_f = x_f + x_c\n",
    "\n",
    "        x_c = self.coarse_block4(x_c)\n",
    "        x_f = self.fine_block4(x_f)\n",
    "        x_f = x_f + x_c\n",
    "        \n",
    "        x_c = self.coarse_block5(x_c)\n",
    "        x_f = self.fine_block5(x_f)\n",
    "        x_f = x_f + x_c\n",
    "        \n",
    "        coarse1_label = self.coarse_head(x_c)\n",
    "        fine_label = self.fine_head(x_f)\n",
    "        \n",
    "        return {\n",
    "                'fine_label': fine_label,\n",
    "                'coarse1_label': coarse1_label\n",
    "               }"
   ]
  },
  {
   "cell_type": "markdown",
   "metadata": {},
   "source": [
    "Creamos el modelo con la clase definida pasándole los cuerpos y cabezas de ambos modelos con distintos niveles de especificación."
   ]
  },
  {
   "cell_type": "code",
   "execution_count": 14,
   "metadata": {
    "scrolled": true
   },
   "outputs": [],
   "source": [
    "model = VGGCustomModel(body1, body2, head_c, head_f)"
   ]
  },
  {
   "cell_type": "markdown",
   "metadata": {},
   "source": [
    "Como hemos modificado el modelo y la obtención de las clases para usar una salida múltiple, tenemos que modificar el tipo de bloque de categoría a uno que soporte estas salidas. Para ello, definimos una función que obtenga la clase y codifique a categoría cada una."
   ]
  },
  {
   "cell_type": "code",
   "execution_count": 15,
   "metadata": {
    "scrolled": true
   },
   "outputs": [],
   "source": [
    "class CustomCategorize(DisplayedTransform):\n",
    "    \"Reversible transform of category string to `vocab` id\"\n",
    "    loss_func,order=CrossEntropyLossFlat(),1\n",
    "    def __init__(self, vocab=None, vocab_coarse1=None, vocab_coarse2=None, sort=True, add_na=False, num_y=1):\n",
    "        store_attr()\n",
    "        self.vocab = None if vocab is None else CategoryMap(vocab, sort=sort, add_na=add_na)\n",
    "        self.vocab_coarse1 = None if vocab_coarse1 is None else CategoryMap(vocab_coarse1, sort=sort, add_na=add_na)\n",
    "\n",
    "    def setups(self, dsets):\n",
    "        fine_dsets = [d[1] for d in dsets]\n",
    "        coarse1_dsets = [d[0] for d in dsets]\n",
    "        if self.vocab is None and dsets is not None: self.vocab = CategoryMap(fine_dsets, sort=self.sort, add_na=self.add_na)\n",
    "        if self.vocab_coarse1 is None and dsets is not None: self.vocab_coarse1 = CategoryMap(coarse1_dsets, sort=self.sort, add_na=self.add_na)\n",
    "        self.c = len(self.vocab)\n",
    "\n",
    "    def encodes(self, o): return {'fine_label': TensorCategory(self.vocab.o2i[o[1]]),\n",
    "                                  'coarse1_label': TensorCategory(self.vocab_coarse1.o2i[o[0]])\n",
    "                                 }\n",
    "    def decodes(self, o): return Category      (self.vocab    [o])"
   ]
  },
  {
   "cell_type": "code",
   "execution_count": 16,
   "metadata": {
    "scrolled": true
   },
   "outputs": [],
   "source": [
    "def CustomCategoryBlock(vocab=None, sort=True, add_na=False, num_y=1):\n",
    "    \"`TransformBlock` for single-label categorical targets\"\n",
    "    return TransformBlock(type_tfms=CustomCategorize(vocab=vocab, sort=sort, add_na=add_na))"
   ]
  },
  {
   "cell_type": "markdown",
   "metadata": {},
   "source": [
    "Creamos un _splitter_ personalizado con los parámetros de cada bloque y del _head_."
   ]
  },
  {
   "cell_type": "code",
   "execution_count": 17,
   "metadata": {
    "scrolled": true
   },
   "outputs": [],
   "source": [
    "def custom_splitter(model):\n",
    "    return [params(model.coarse_block1),\n",
    "            params(model.coarse_block2),\n",
    "            params(model.coarse_block3),\n",
    "            params(model.coarse_block4),\n",
    "            params(model.coarse_block5),\n",
    "            params(model.fine_block1),\n",
    "            params(model.fine_block2),\n",
    "            params(model.fine_block3),\n",
    "            params(model.fine_block4),\n",
    "            params(model.fine_block5),\n",
    "            params(model.coarse_head),\n",
    "            params(model.fine_head)]"
   ]
  },
  {
   "cell_type": "markdown",
   "metadata": {},
   "source": [
    "Creamos un _datablock_ con: bloques de tipo imagen y categoría personalizada _CustomCategoryBlock_, un separador por columna, la _x_ con la columna que contienen la ruta de las imágenes, la _y_ con la función personalizada, una transformación para hacer un recorte aleatorio dejando un tamaño común de 336x336, y las transformaciones de aumento de datos por defecto."
   ]
  },
  {
   "cell_type": "code",
   "execution_count": 18,
   "metadata": {
    "scrolled": true
   },
   "outputs": [],
   "source": [
    "fishes = DataBlock(blocks = (ImageBlock, CustomCategoryBlock),\n",
    "                 splitter=ColSplitter(),\n",
    "                 get_x = ColReader(5, pref=path),\n",
    "                 get_y=custom_get_y,\n",
    "                 item_tfms=RandomResizedCrop(336, min_scale=0.5),\n",
    "                 batch_tfms=aug_transforms())\n",
    "dls = fishes.dataloaders(df, bs=40)"
   ]
  },
  {
   "cell_type": "markdown",
   "metadata": {},
   "source": [
    "Mostramos los _dataloaders_ generados con el _datablock_."
   ]
  },
  {
   "cell_type": "code",
   "execution_count": 19,
   "metadata": {
    "scrolled": true
   },
   "outputs": [
    {
     "data": {
      "text/plain": [
       "((#337741) [(PILImage mode=RGB size=768x1024, {'fine_label': TensorCategory(531), 'coarse1_label': TensorCategory(25)}),(PILImage mode=RGB size=1024x738, {'fine_label': TensorCategory(776), 'coarse1_label': TensorCategory(25)}),(PILImage mode=RGB size=768x1024, {'fine_label': TensorCategory(538), 'coarse1_label': TensorCategory(25)}),(PILImage mode=RGB size=768x1024, {'fine_label': TensorCategory(837), 'coarse1_label': TensorCategory(41)}),(PILImage mode=RGB size=1024x786, {'fine_label': TensorCategory(32), 'coarse1_label': TensorCategory(0)}),(PILImage mode=RGB size=1024x683, {'fine_label': TensorCategory(145), 'coarse1_label': TensorCategory(109)}),(PILImage mode=RGB size=768x1024, {'fine_label': TensorCategory(827), 'coarse1_label': TensorCategory(108)}),(PILImage mode=RGB size=1024x697, {'fine_label': TensorCategory(792), 'coarse1_label': TensorCategory(100)}),(PILImage mode=RGB size=1024x768, {'fine_label': TensorCategory(784), 'coarse1_label': TensorCategory(9)}),(PILImage mode=RGB size=1024x768, {'fine_label': TensorCategory(522), 'coarse1_label': TensorCategory(121)})...],\n",
       " (#84436) [(PILImage mode=RGB size=576x1024, {'fine_label': TensorCategory(826), 'coarse1_label': TensorCategory(108)}),(PILImage mode=RGB size=512x320, {'fine_label': TensorCategory(296), 'coarse1_label': TensorCategory(0)}),(PILImage mode=RGB size=1024x768, {'fine_label': TensorCategory(283), 'coarse1_label': TensorCategory(71)}),(PILImage mode=RGB size=1024x683, {'fine_label': TensorCategory(223), 'coarse1_label': TensorCategory(71)}),(PILImage mode=RGB size=1024x683, {'fine_label': TensorCategory(333), 'coarse1_label': TensorCategory(121)}),(PILImage mode=RGB size=1024x768, {'fine_label': TensorCategory(272), 'coarse1_label': TensorCategory(41)}),(PILImage mode=RGB size=1024x576, {'fine_label': TensorCategory(163), 'coarse1_label': TensorCategory(23)}),(PILImage mode=RGB size=1024x768, {'fine_label': TensorCategory(827), 'coarse1_label': TensorCategory(108)}),(PILImage mode=RGB size=1024x768, {'fine_label': TensorCategory(868), 'coarse1_label': TensorCategory(113)}),(PILImage mode=RGB size=768x1024, {'fine_label': TensorCategory(816), 'coarse1_label': TensorCategory(41)})...])"
      ]
     },
     "execution_count": 19,
     "metadata": {},
     "output_type": "execute_result"
    }
   ],
   "source": [
    "dls.train_ds, dls.valid_ds"
   ]
  },
  {
   "cell_type": "markdown",
   "metadata": {},
   "source": [
    "Creamos el tensor con los pesos por clase y lo pasamos a GPU para poder usarlo durante el entrenamiento."
   ]
  },
  {
   "cell_type": "code",
   "execution_count": 20,
   "metadata": {},
   "outputs": [],
   "source": [
    "weights = tensor([float(weights_df[weights_df['Specie']==c]['Weight']) for c in dls.vocab]).cuda()\n",
    "weights_family = tensor([float(weights_family_df[weights_family_df['Family']==c]['Weight']) for c in dls.vocab_coarse1]).cuda()"
   ]
  },
  {
   "cell_type": "markdown",
   "metadata": {},
   "source": [
    "Defimos nuestra función de pérdida como el sumatorio de la pérdida en entropía cruzada de las dos salidas."
   ]
  },
  {
   "cell_type": "code",
   "execution_count": 21,
   "metadata": {
    "scrolled": true
   },
   "outputs": [],
   "source": [
    "def loss_func(out, targ):\n",
    "    return nn.CrossEntropyLoss(weight=weights)(out['fine_label'], targ['fine_label']) + \\\n",
    "            nn.CrossEntropyLoss(weight=weights_family)(out['coarse1_label'], targ['coarse1_label'])"
   ]
  },
  {
   "cell_type": "markdown",
   "metadata": {},
   "source": [
    "Defimos la función de accuracy con la etiqueta fina, ya que es el resultado final que nos interesa. Además, esta etiqueta fue la que se usó para definir las particiones estratificadas, por lo que es la única que se debería tener en cuenta si queremos resultados más fiables."
   ]
  },
  {
   "cell_type": "code",
   "execution_count": 22,
   "metadata": {},
   "outputs": [],
   "source": [
    "def custom_accuracy(inp, targ, axis=-1):\n",
    "    pred1,targ1 = flatten_check(inp['fine_label'].argmax(dim=axis), targ['fine_label'])\n",
    "    acc1 = (pred1 == targ1).float().mean()\n",
    "    return acc1"
   ]
  },
  {
   "cell_type": "markdown",
   "metadata": {},
   "source": [
    "Creamos nuestro objeto _Learner_ con los _dataloaders_, la función de pérdida _loss_func_ creada, la métrica exactitud y el _splitter_ creado. Además, congelamos nuestro modelo para ajustar primero los pesos preentrenados a nuestras clases."
   ]
  },
  {
   "cell_type": "code",
   "execution_count": 23,
   "metadata": {
    "scrolled": true
   },
   "outputs": [],
   "source": [
    "learn = Learner(dls, model, loss_func=loss_func, metrics=custom_accuracy,\n",
    "                   splitter=custom_splitter).to_fp16()\n",
    "learn.freeze()"
   ]
  },
  {
   "cell_type": "markdown",
   "metadata": {},
   "source": [
    "Mostramos un resumen de nuestro modelo."
   ]
  },
  {
   "cell_type": "code",
   "execution_count": 24,
   "metadata": {
    "scrolled": true
   },
   "outputs": [
    {
     "data": {
      "text/html": [
       "<table border=\"1\" class=\"dataframe\">\n",
       "  <thead>\n",
       "    <tr style=\"text-align: left;\">\n",
       "      <th>epoch</th>\n",
       "      <th>train_loss</th>\n",
       "      <th>valid_loss</th>\n",
       "      <th>custom_accuracy</th>\n",
       "      <th>time</th>\n",
       "    </tr>\n",
       "  </thead>\n",
       "  <tbody>\n",
       "    <tr>\n",
       "      <td>0</td>\n",
       "      <td>None</td>\n",
       "      <td>None</td>\n",
       "      <td>00:00</td>\n",
       "    </tr>\n",
       "  </tbody>\n",
       "</table>"
      ],
      "text/plain": [
       "<IPython.core.display.HTML object>"
      ]
     },
     "metadata": {},
     "output_type": "display_data"
    },
    {
     "data": {
      "text/plain": [
       "VGGCustomModel (Input shape: ['40 x 3 x 336 x 336'])\n",
       "================================================================\n",
       "Layer (type)         Output Shape         Param #    Trainable \n",
       "================================================================\n",
       "Conv2d               40 x 64 x 336 x 336  1,792      False     \n",
       "________________________________________________________________\n",
       "BatchNorm2d          40 x 64 x 336 x 336  128        True      \n",
       "________________________________________________________________\n",
       "ReLU                 40 x 64 x 336 x 336  0          False     \n",
       "________________________________________________________________\n",
       "Conv2d               40 x 64 x 336 x 336  36,928     False     \n",
       "________________________________________________________________\n",
       "BatchNorm2d          40 x 64 x 336 x 336  128        True      \n",
       "________________________________________________________________\n",
       "ReLU                 40 x 64 x 336 x 336  0          False     \n",
       "________________________________________________________________\n",
       "MaxPool2d            40 x 64 x 168 x 168  0          False     \n",
       "________________________________________________________________\n",
       "Conv2d               40 x 128 x 168 x 16  73,856     False     \n",
       "________________________________________________________________\n",
       "BatchNorm2d          40 x 128 x 168 x 16  256        True      \n",
       "________________________________________________________________\n",
       "ReLU                 40 x 128 x 168 x 16  0          False     \n",
       "________________________________________________________________\n",
       "Conv2d               40 x 128 x 168 x 16  147,584    False     \n",
       "________________________________________________________________\n",
       "BatchNorm2d          40 x 128 x 168 x 16  256        True      \n",
       "________________________________________________________________\n",
       "ReLU                 40 x 128 x 168 x 16  0          False     \n",
       "________________________________________________________________\n",
       "MaxPool2d            40 x 128 x 84 x 84   0          False     \n",
       "________________________________________________________________\n",
       "Conv2d               40 x 256 x 84 x 84   295,168    False     \n",
       "________________________________________________________________\n",
       "BatchNorm2d          40 x 256 x 84 x 84   512        True      \n",
       "________________________________________________________________\n",
       "ReLU                 40 x 256 x 84 x 84   0          False     \n",
       "________________________________________________________________\n",
       "Conv2d               40 x 256 x 84 x 84   590,080    False     \n",
       "________________________________________________________________\n",
       "BatchNorm2d          40 x 256 x 84 x 84   512        True      \n",
       "________________________________________________________________\n",
       "ReLU                 40 x 256 x 84 x 84   0          False     \n",
       "________________________________________________________________\n",
       "Conv2d               40 x 256 x 84 x 84   590,080    False     \n",
       "________________________________________________________________\n",
       "BatchNorm2d          40 x 256 x 84 x 84   512        True      \n",
       "________________________________________________________________\n",
       "ReLU                 40 x 256 x 84 x 84   0          False     \n",
       "________________________________________________________________\n",
       "MaxPool2d            40 x 256 x 42 x 42   0          False     \n",
       "________________________________________________________________\n",
       "Conv2d               40 x 512 x 42 x 42   1,180,160  False     \n",
       "________________________________________________________________\n",
       "BatchNorm2d          40 x 512 x 42 x 42   1,024      True      \n",
       "________________________________________________________________\n",
       "ReLU                 40 x 512 x 42 x 42   0          False     \n",
       "________________________________________________________________\n",
       "Conv2d               40 x 512 x 42 x 42   2,359,808  False     \n",
       "________________________________________________________________\n",
       "BatchNorm2d          40 x 512 x 42 x 42   1,024      True      \n",
       "________________________________________________________________\n",
       "ReLU                 40 x 512 x 42 x 42   0          False     \n",
       "________________________________________________________________\n",
       "Conv2d               40 x 512 x 42 x 42   2,359,808  False     \n",
       "________________________________________________________________\n",
       "BatchNorm2d          40 x 512 x 42 x 42   1,024      True      \n",
       "________________________________________________________________\n",
       "ReLU                 40 x 512 x 42 x 42   0          False     \n",
       "________________________________________________________________\n",
       "MaxPool2d            40 x 512 x 21 x 21   0          False     \n",
       "________________________________________________________________\n",
       "Conv2d               40 x 512 x 21 x 21   2,359,808  False     \n",
       "________________________________________________________________\n",
       "BatchNorm2d          40 x 512 x 21 x 21   1,024      True      \n",
       "________________________________________________________________\n",
       "ReLU                 40 x 512 x 21 x 21   0          False     \n",
       "________________________________________________________________\n",
       "Conv2d               40 x 512 x 21 x 21   2,359,808  False     \n",
       "________________________________________________________________\n",
       "BatchNorm2d          40 x 512 x 21 x 21   1,024      True      \n",
       "________________________________________________________________\n",
       "ReLU                 40 x 512 x 21 x 21   0          False     \n",
       "________________________________________________________________\n",
       "Conv2d               40 x 512 x 21 x 21   2,359,808  False     \n",
       "________________________________________________________________\n",
       "BatchNorm2d          40 x 512 x 21 x 21   1,024      True      \n",
       "________________________________________________________________\n",
       "ReLU                 40 x 512 x 21 x 21   0          False     \n",
       "________________________________________________________________\n",
       "MaxPool2d            40 x 512 x 10 x 10   0          False     \n",
       "________________________________________________________________\n",
       "AdaptiveAvgPool2d    40 x 512 x 1 x 1     0          False     \n",
       "________________________________________________________________\n",
       "AdaptiveMaxPool2d    40 x 512 x 1 x 1     0          False     \n",
       "________________________________________________________________\n",
       "Flatten              40 x 1024            0          False     \n",
       "________________________________________________________________\n",
       "BatchNorm1d          40 x 1024            2,048      True      \n",
       "________________________________________________________________\n",
       "Dropout              40 x 1024            0          False     \n",
       "________________________________________________________________\n",
       "Linear               40 x 512             524,288    False     \n",
       "________________________________________________________________\n",
       "ReLU                 40 x 512             0          False     \n",
       "________________________________________________________________\n",
       "BatchNorm1d          40 x 512             1,024      True      \n",
       "________________________________________________________________\n",
       "Dropout              40 x 512             0          False     \n",
       "________________________________________________________________\n",
       "Linear               40 x 135             69,120     False     \n",
       "________________________________________________________________\n",
       "Conv2d               40 x 64 x 336 x 336  1,792      False     \n",
       "________________________________________________________________\n",
       "BatchNorm2d          40 x 64 x 336 x 336  128        True      \n",
       "________________________________________________________________\n",
       "ReLU                 40 x 64 x 336 x 336  0          False     \n",
       "________________________________________________________________\n",
       "Conv2d               40 x 64 x 336 x 336  36,928     False     \n",
       "________________________________________________________________\n",
       "BatchNorm2d          40 x 64 x 336 x 336  128        True      \n",
       "________________________________________________________________\n",
       "ReLU                 40 x 64 x 336 x 336  0          False     \n",
       "________________________________________________________________\n",
       "MaxPool2d            40 x 64 x 168 x 168  0          False     \n",
       "________________________________________________________________\n",
       "Conv2d               40 x 128 x 168 x 16  73,856     False     \n",
       "________________________________________________________________\n",
       "BatchNorm2d          40 x 128 x 168 x 16  256        True      \n",
       "________________________________________________________________\n",
       "ReLU                 40 x 128 x 168 x 16  0          False     \n",
       "________________________________________________________________\n",
       "Conv2d               40 x 128 x 168 x 16  147,584    False     \n",
       "________________________________________________________________\n",
       "BatchNorm2d          40 x 128 x 168 x 16  256        True      \n",
       "________________________________________________________________\n",
       "ReLU                 40 x 128 x 168 x 16  0          False     \n",
       "________________________________________________________________\n",
       "MaxPool2d            40 x 128 x 84 x 84   0          False     \n",
       "________________________________________________________________\n",
       "Conv2d               40 x 256 x 84 x 84   295,168    False     \n",
       "________________________________________________________________\n",
       "BatchNorm2d          40 x 256 x 84 x 84   512        True      \n",
       "________________________________________________________________\n",
       "ReLU                 40 x 256 x 84 x 84   0          False     \n",
       "________________________________________________________________\n",
       "Conv2d               40 x 256 x 84 x 84   590,080    False     \n",
       "________________________________________________________________\n",
       "BatchNorm2d          40 x 256 x 84 x 84   512        True      \n",
       "________________________________________________________________\n",
       "ReLU                 40 x 256 x 84 x 84   0          False     \n",
       "________________________________________________________________\n",
       "Conv2d               40 x 256 x 84 x 84   590,080    False     \n",
       "________________________________________________________________\n",
       "BatchNorm2d          40 x 256 x 84 x 84   512        True      \n",
       "________________________________________________________________\n",
       "ReLU                 40 x 256 x 84 x 84   0          False     \n",
       "________________________________________________________________\n",
       "MaxPool2d            40 x 256 x 42 x 42   0          False     \n",
       "________________________________________________________________\n",
       "Conv2d               40 x 512 x 42 x 42   1,180,160  False     \n",
       "________________________________________________________________\n",
       "BatchNorm2d          40 x 512 x 42 x 42   1,024      True      \n",
       "________________________________________________________________\n",
       "ReLU                 40 x 512 x 42 x 42   0          False     \n",
       "________________________________________________________________\n",
       "Conv2d               40 x 512 x 42 x 42   2,359,808  False     \n",
       "________________________________________________________________\n",
       "BatchNorm2d          40 x 512 x 42 x 42   1,024      True      \n",
       "________________________________________________________________\n",
       "ReLU                 40 x 512 x 42 x 42   0          False     \n",
       "________________________________________________________________\n",
       "Conv2d               40 x 512 x 42 x 42   2,359,808  False     \n",
       "________________________________________________________________\n",
       "BatchNorm2d          40 x 512 x 42 x 42   1,024      True      \n",
       "________________________________________________________________\n",
       "ReLU                 40 x 512 x 42 x 42   0          False     \n",
       "________________________________________________________________\n",
       "MaxPool2d            40 x 512 x 21 x 21   0          False     \n",
       "________________________________________________________________\n",
       "Conv2d               40 x 512 x 21 x 21   2,359,808  False     \n",
       "________________________________________________________________\n",
       "BatchNorm2d          40 x 512 x 21 x 21   1,024      True      \n",
       "________________________________________________________________\n",
       "ReLU                 40 x 512 x 21 x 21   0          False     \n",
       "________________________________________________________________\n",
       "Conv2d               40 x 512 x 21 x 21   2,359,808  False     \n",
       "________________________________________________________________\n",
       "BatchNorm2d          40 x 512 x 21 x 21   1,024      True      \n",
       "________________________________________________________________\n",
       "ReLU                 40 x 512 x 21 x 21   0          False     \n",
       "________________________________________________________________\n",
       "Conv2d               40 x 512 x 21 x 21   2,359,808  False     \n",
       "________________________________________________________________\n",
       "BatchNorm2d          40 x 512 x 21 x 21   1,024      True      \n",
       "________________________________________________________________\n",
       "ReLU                 40 x 512 x 21 x 21   0          False     \n",
       "________________________________________________________________\n",
       "MaxPool2d            40 x 512 x 10 x 10   0          False     \n",
       "________________________________________________________________\n",
       "AdaptiveAvgPool2d    40 x 512 x 1 x 1     0          False     \n",
       "________________________________________________________________\n",
       "AdaptiveMaxPool2d    40 x 512 x 1 x 1     0          False     \n",
       "________________________________________________________________\n",
       "Flatten              40 x 1024            0          False     \n",
       "________________________________________________________________\n",
       "BatchNorm1d          40 x 1024            2,048      True      \n",
       "________________________________________________________________\n",
       "Dropout              40 x 1024            0          False     \n",
       "________________________________________________________________\n",
       "Linear               40 x 512             524,288    True      \n",
       "________________________________________________________________\n",
       "ReLU                 40 x 512             0          False     \n",
       "________________________________________________________________\n",
       "BatchNorm1d          40 x 512             1,024      True      \n",
       "________________________________________________________________\n",
       "Dropout              40 x 512             0          False     \n",
       "________________________________________________________________\n",
       "Linear               40 x 1000            512,000    True      \n",
       "________________________________________________________________\n",
       "\n",
       "Total params: 31,082,112\n",
       "Total trainable params: 1,059,328\n",
       "Total non-trainable params: 30,022,784\n",
       "\n",
       "Optimizer used: <function Adam at 0x7f138d173700>\n",
       "Loss function: <function loss_func at 0x7f13812b9670>\n",
       "\n",
       "Model frozen up to parameter group #11\n",
       "\n",
       "Callbacks:\n",
       "  - ModelToHalf\n",
       "  - TrainEvalCallback\n",
       "  - Recorder\n",
       "  - ProgressCallback\n",
       "  - MixedPrecision"
      ]
     },
     "execution_count": 24,
     "metadata": {},
     "output_type": "execute_result"
    }
   ],
   "source": [
    "learn.summary()"
   ]
  },
  {
   "cell_type": "markdown",
   "metadata": {},
   "source": [
    "Entrenamos el modelo congelado para ajustar los pesos de las últimas capas a nuestras clases, y descongelamos el modelo."
   ]
  },
  {
   "cell_type": "code",
   "execution_count": 25,
   "metadata": {
    "scrolled": true
   },
   "outputs": [
    {
     "data": {
      "text/html": [
       "<table border=\"1\" class=\"dataframe\">\n",
       "  <thead>\n",
       "    <tr style=\"text-align: left;\">\n",
       "      <th>epoch</th>\n",
       "      <th>train_loss</th>\n",
       "      <th>valid_loss</th>\n",
       "      <th>custom_accuracy</th>\n",
       "      <th>time</th>\n",
       "    </tr>\n",
       "  </thead>\n",
       "  <tbody>\n",
       "    <tr>\n",
       "      <td>0</td>\n",
       "      <td>8.631928</td>\n",
       "      <td>7.535138</td>\n",
       "      <td>0.372246</td>\n",
       "      <td>1:06:06</td>\n",
       "    </tr>\n",
       "  </tbody>\n",
       "</table>"
      ],
      "text/plain": [
       "<IPython.core.display.HTML object>"
      ]
     },
     "metadata": {},
     "output_type": "display_data"
    }
   ],
   "source": [
    "learn.fit(1, 3e-3)"
   ]
  },
  {
   "cell_type": "code",
   "execution_count": 26,
   "metadata": {},
   "outputs": [
    {
     "data": {
      "text/plain": [
       "Path('models/species1000-linkedcnn-vgg16-fepochs1-uepochs0.pth')"
      ]
     },
     "execution_count": 26,
     "metadata": {},
     "output_type": "execute_result"
    }
   ],
   "source": [
    "learn.save('species1000-linkedcnn-vgg16-fepochs1-uepochs0')"
   ]
  },
  {
   "cell_type": "code",
   "execution_count": 27,
   "metadata": {},
   "outputs": [],
   "source": [
    "learn.unfreeze()"
   ]
  },
  {
   "cell_type": "markdown",
   "metadata": {},
   "source": [
    "Defimos una función para continuar el aprendizaje con los pesos guardados."
   ]
  },
  {
   "cell_type": "code",
   "execution_count": 23,
   "metadata": {},
   "outputs": [],
   "source": [
    "def continue_training(pth_filename):\n",
    "    learn = Learner(dls, model, loss_func=loss_func, metrics=custom_accuracy,\n",
    "                   splitter=custom_splitter).to_fp16()\n",
    "    learn.load(pth_filename)\n",
    "    learn.unfreeze()\n",
    "    return learn"
   ]
  },
  {
   "cell_type": "code",
   "execution_count": 26,
   "metadata": {},
   "outputs": [],
   "source": [
    "learn = continue_training('species1000-linkedcnn-vgg16-fepochs1-uepochs0')"
   ]
  },
  {
   "cell_type": "markdown",
   "metadata": {},
   "source": [
    "Buscamos el factor de aprendizaje más adecuado con lr_find."
   ]
  },
  {
   "cell_type": "code",
   "execution_count": 27,
   "metadata": {},
   "outputs": [
    {
     "data": {
      "text/html": [],
      "text/plain": [
       "<IPython.core.display.HTML object>"
      ]
     },
     "metadata": {},
     "output_type": "display_data"
    },
    {
     "data": {
      "text/plain": [
       "SuggestedLRs(lr_min=6.918309736647643e-07, lr_steep=9.12010818865383e-07)"
      ]
     },
     "execution_count": 27,
     "metadata": {},
     "output_type": "execute_result"
    },
    {
     "data": {
      "image/png": "[encoded data removed]",
      "text/plain": [
       "<Figure size 432x288 with 1 Axes>"
      ]
     },
     "metadata": {
      "needs_background": "light"
     },
     "output_type": "display_data"
    }
   ],
   "source": [
    "learn.lr_find()"
   ]
  },
  {
   "cell_type": "markdown",
   "metadata": {},
   "source": [
    "Entrenamos durante 20 épocas con el factor de aprendizaje máximo adecuado según la visualización del buscador de factores de aprendizaje, guardando los pesos del entrenamiento en cada 5 épocas."
   ]
  },
  {
   "cell_type": "code",
   "execution_count": 28,
   "metadata": {},
   "outputs": [
    {
     "data": {
      "text/html": [
       "<table border=\"1\" class=\"dataframe\">\n",
       "  <thead>\n",
       "    <tr style=\"text-align: left;\">\n",
       "      <th>epoch</th>\n",
       "      <th>train_loss</th>\n",
       "      <th>valid_loss</th>\n",
       "      <th>custom_accuracy</th>\n",
       "      <th>time</th>\n",
       "    </tr>\n",
       "  </thead>\n",
       "  <tbody>\n",
       "    <tr>\n",
       "      <td>0</td>\n",
       "      <td>6.115015</td>\n",
       "      <td>5.151947</td>\n",
       "      <td>0.527938</td>\n",
       "      <td>1:24:15</td>\n",
       "    </tr>\n",
       "    <tr>\n",
       "      <td>1</td>\n",
       "      <td>5.414348</td>\n",
       "      <td>4.393505</td>\n",
       "      <td>0.568265</td>\n",
       "      <td>1:24:23</td>\n",
       "    </tr>\n",
       "    <tr>\n",
       "      <td>2</td>\n",
       "      <td>4.886357</td>\n",
       "      <td>3.939446</td>\n",
       "      <td>0.597008</td>\n",
       "      <td>1:24:17</td>\n",
       "    </tr>\n",
       "    <tr>\n",
       "      <td>3</td>\n",
       "      <td>4.648677</td>\n",
       "      <td>3.638240</td>\n",
       "      <td>0.614868</td>\n",
       "      <td>1:24:24</td>\n",
       "    </tr>\n",
       "    <tr>\n",
       "      <td>4</td>\n",
       "      <td>4.301492</td>\n",
       "      <td>3.448539</td>\n",
       "      <td>0.627197</td>\n",
       "      <td>1:24:18</td>\n",
       "    </tr>\n",
       "  </tbody>\n",
       "</table>"
      ],
      "text/plain": [
       "<IPython.core.display.HTML object>"
      ]
     },
     "metadata": {},
     "output_type": "display_data"
    },
    {
     "data": {
      "text/plain": [
       "Path('models/species1000-linkedcnn-vgg16-fepochs1-uepochs5.pth')"
      ]
     },
     "execution_count": 28,
     "metadata": {},
     "output_type": "execute_result"
    }
   ],
   "source": [
    "learn.fit(5, slice(1e-6,1e-4))\n",
    "learn.save('species1000-linkedcnn-vgg16-fepochs1-uepochs5')"
   ]
  },
  {
   "cell_type": "code",
   "execution_count": 29,
   "metadata": {},
   "outputs": [
    {
     "data": {
      "text/html": [
       "<table border=\"1\" class=\"dataframe\">\n",
       "  <thead>\n",
       "    <tr style=\"text-align: left;\">\n",
       "      <th>epoch</th>\n",
       "      <th>train_loss</th>\n",
       "      <th>valid_loss</th>\n",
       "      <th>custom_accuracy</th>\n",
       "      <th>time</th>\n",
       "    </tr>\n",
       "  </thead>\n",
       "  <tbody>\n",
       "    <tr>\n",
       "      <td>0</td>\n",
       "      <td>3.996391</td>\n",
       "      <td>3.287424</td>\n",
       "      <td>0.636340</td>\n",
       "      <td>1:24:18</td>\n",
       "    </tr>\n",
       "    <tr>\n",
       "      <td>1</td>\n",
       "      <td>3.974492</td>\n",
       "      <td>3.145882</td>\n",
       "      <td>0.642558</td>\n",
       "      <td>1:24:18</td>\n",
       "    </tr>\n",
       "    <tr>\n",
       "      <td>2</td>\n",
       "      <td>3.759506</td>\n",
       "      <td>3.002547</td>\n",
       "      <td>0.656225</td>\n",
       "      <td>1:24:24</td>\n",
       "    </tr>\n",
       "    <tr>\n",
       "      <td>3</td>\n",
       "      <td>3.687779</td>\n",
       "      <td>2.931916</td>\n",
       "      <td>0.665190</td>\n",
       "      <td>1:24:29</td>\n",
       "    </tr>\n",
       "    <tr>\n",
       "      <td>4</td>\n",
       "      <td>3.463709</td>\n",
       "      <td>2.824424</td>\n",
       "      <td>0.671266</td>\n",
       "      <td>1:24:30</td>\n",
       "    </tr>\n",
       "  </tbody>\n",
       "</table>"
      ],
      "text/plain": [
       "<IPython.core.display.HTML object>"
      ]
     },
     "metadata": {},
     "output_type": "display_data"
    },
    {
     "data": {
      "text/plain": [
       "Path('models/species1000-linkedcnn-vgg16-fepochs1-uepochs10.pth')"
      ]
     },
     "execution_count": 29,
     "metadata": {},
     "output_type": "execute_result"
    }
   ],
   "source": [
    "learn.fit(5, slice(1e-6,1e-4))\n",
    "learn.save('species1000-linkedcnn-vgg16-fepochs1-uepochs10')"
   ]
  },
  {
   "cell_type": "code",
   "execution_count": 30,
   "metadata": {},
   "outputs": [
    {
     "data": {
      "text/html": [
       "<table border=\"1\" class=\"dataframe\">\n",
       "  <thead>\n",
       "    <tr style=\"text-align: left;\">\n",
       "      <th>epoch</th>\n",
       "      <th>train_loss</th>\n",
       "      <th>valid_loss</th>\n",
       "      <th>custom_accuracy</th>\n",
       "      <th>time</th>\n",
       "    </tr>\n",
       "  </thead>\n",
       "  <tbody>\n",
       "    <tr>\n",
       "      <td>0</td>\n",
       "      <td>3.367255</td>\n",
       "      <td>2.770597</td>\n",
       "      <td>0.678786</td>\n",
       "      <td>1:24:28</td>\n",
       "    </tr>\n",
       "    <tr>\n",
       "      <td>1</td>\n",
       "      <td>3.316188</td>\n",
       "      <td>2.716864</td>\n",
       "      <td>0.676572</td>\n",
       "      <td>1:24:28</td>\n",
       "    </tr>\n",
       "    <tr>\n",
       "      <td>2</td>\n",
       "      <td>3.169991</td>\n",
       "      <td>2.660324</td>\n",
       "      <td>0.681759</td>\n",
       "      <td>1:24:22</td>\n",
       "    </tr>\n",
       "    <tr>\n",
       "      <td>3</td>\n",
       "      <td>3.179381</td>\n",
       "      <td>2.601261</td>\n",
       "      <td>0.682872</td>\n",
       "      <td>1:24:26</td>\n",
       "    </tr>\n",
       "    <tr>\n",
       "      <td>4</td>\n",
       "      <td>3.068373</td>\n",
       "      <td>2.557855</td>\n",
       "      <td>0.693129</td>\n",
       "      <td>1:24:27</td>\n",
       "    </tr>\n",
       "  </tbody>\n",
       "</table>"
      ],
      "text/plain": [
       "<IPython.core.display.HTML object>"
      ]
     },
     "metadata": {},
     "output_type": "display_data"
    },
    {
     "data": {
      "text/plain": [
       "Path('models/species1000-linkedcnn-vgg16-fepochs1-uepochs15.pth')"
      ]
     },
     "execution_count": 30,
     "metadata": {},
     "output_type": "execute_result"
    }
   ],
   "source": [
    "learn.fit(5, slice(1e-6,1e-4))\n",
    "learn.save('species1000-linkedcnn-vgg16-fepochs1-uepochs15')"
   ]
  },
  {
   "cell_type": "code",
   "execution_count": 31,
   "metadata": {},
   "outputs": [],
   "source": [
    "learn.export('species1000-linkedcnn-vgg16-fepochs1-uepochs15')"
   ]
  },
  {
   "cell_type": "code",
   "execution_count": 24,
   "metadata": {},
   "outputs": [],
   "source": [
    "learn = continue_training('species1000-linkedcnn-vgg16-fepochs1-uepochs15')"
   ]
  },
  {
   "cell_type": "code",
   "execution_count": 25,
   "metadata": {},
   "outputs": [
    {
     "data": {
      "text/html": [
       "<table border=\"1\" class=\"dataframe\">\n",
       "  <thead>\n",
       "    <tr style=\"text-align: left;\">\n",
       "      <th>epoch</th>\n",
       "      <th>train_loss</th>\n",
       "      <th>valid_loss</th>\n",
       "      <th>custom_accuracy</th>\n",
       "      <th>time</th>\n",
       "    </tr>\n",
       "  </thead>\n",
       "  <tbody>\n",
       "    <tr>\n",
       "      <td>0</td>\n",
       "      <td>2.830303</td>\n",
       "      <td>2.540212</td>\n",
       "      <td>0.692039</td>\n",
       "      <td>1:23:41</td>\n",
       "    </tr>\n",
       "    <tr>\n",
       "      <td>1</td>\n",
       "      <td>2.872153</td>\n",
       "      <td>2.526551</td>\n",
       "      <td>0.695320</td>\n",
       "      <td>1:23:38</td>\n",
       "    </tr>\n",
       "    <tr>\n",
       "      <td>2</td>\n",
       "      <td>3.024812</td>\n",
       "      <td>2.503870</td>\n",
       "      <td>0.697274</td>\n",
       "      <td>1:23:33</td>\n",
       "    </tr>\n",
       "    <tr>\n",
       "      <td>3</td>\n",
       "      <td>2.950483</td>\n",
       "      <td>2.432362</td>\n",
       "      <td>0.699927</td>\n",
       "      <td>1:23:51</td>\n",
       "    </tr>\n",
       "    <tr>\n",
       "      <td>4</td>\n",
       "      <td>2.748041</td>\n",
       "      <td>2.420490</td>\n",
       "      <td>0.702591</td>\n",
       "      <td>1:24:03</td>\n",
       "    </tr>\n",
       "  </tbody>\n",
       "</table>"
      ],
      "text/plain": [
       "<IPython.core.display.HTML object>"
      ]
     },
     "metadata": {},
     "output_type": "display_data"
    },
    {
     "data": {
      "text/plain": [
       "Path('models/species1000-linkedcnn-vgg16-fepochs1-uepochs20.pth')"
      ]
     },
     "execution_count": 25,
     "metadata": {},
     "output_type": "execute_result"
    }
   ],
   "source": [
    "learn.fit(5, slice(1e-6,1e-4))\n",
    "learn.save('species1000-linkedcnn-vgg16-fepochs1-uepochs20')"
   ]
  },
  {
   "cell_type": "code",
   "execution_count": 26,
   "metadata": {},
   "outputs": [],
   "source": [
    "learn.export('species1000-linkedcnn-vgg16-fepochs1-uepochs20')"
   ]
  }
 ],
 "metadata": {
  "kernelspec": {
   "display_name": "Python 3",
   "language": "python",
   "name": "python3"
  },
  "language_info": {
   "codemirror_mode": {
    "name": "ipython",
    "version": 3
   },
   "file_extension": ".py",
   "mimetype": "text/x-python",
   "name": "python",
   "nbconvert_exporter": "python",
   "pygments_lexer": "ipython3",
   "version": "3.8.6"
  }
 },
 "nbformat": 4,
 "nbformat_minor": 4
}
