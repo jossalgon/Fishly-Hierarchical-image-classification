{
 "cells": [
  {
   "cell_type": "markdown",
   "metadata": {},
   "source": [
    "# B-CNN con modelo base VGG-16"
   ]
  },
  {
   "cell_type": "markdown",
   "metadata": {},
   "source": [
    "En primer lugar, importamos las librerías necesarias para ejecutar este cuaderno."
   ]
  },
  {
   "cell_type": "code",
   "execution_count": 1,
   "metadata": {
    "scrolled": true
   },
   "outputs": [],
   "source": [
    "from fastai.vision.all import *"
   ]
  },
  {
   "cell_type": "markdown",
   "metadata": {},
   "source": [
    "Establecemos las variables de entorno necesarias para usar las dos GPUs."
   ]
  },
  {
   "cell_type": "code",
   "execution_count": 2,
   "metadata": {},
   "outputs": [],
   "source": [
    "import os; os.environ['CUDA_VISIBLE_DEVICES']='0,1'"
   ]
  },
  {
   "cell_type": "markdown",
   "metadata": {},
   "source": [
    "Definimos la ruta que contiene las imágenes del conjunto de datos."
   ]
  },
  {
   "cell_type": "code",
   "execution_count": 3,
   "metadata": {
    "scrolled": true
   },
   "outputs": [],
   "source": [
    "path = Path('/home/user/images')"
   ]
  },
  {
   "cell_type": "markdown",
   "metadata": {},
   "source": [
    "Listamos el directorio establecido para mostrar las carpetas por clase que contienen dicho directorio."
   ]
  },
  {
   "cell_type": "code",
   "execution_count": 4,
   "metadata": {
    "scrolled": true
   },
   "outputs": [
    {
     "data": {
      "text/plain": [
       "(#1000) [Path('/home/user/images/Bathygobius krefftii'),Path('/home/user/images/Oncorhynchus gorbuscha'),Path('/home/user/images/Chromis margaritifer'),Path('/home/user/images/Istigobius hoesei'),Path('/home/user/images/Abudefduf sordidus'),Path('/home/user/images/Acanthurus leucopareius'),Path('/home/user/images/Sphoeroides spengleri'),Path('/home/user/images/Orthopristis chrysoptera'),Path('/home/user/images/Etheostoma zonale'),Path('/home/user/images/Morone mississippiensis')...]"
      ]
     },
     "execution_count": 4,
     "metadata": {},
     "output_type": "execute_result"
    }
   ],
   "source": [
    "path.ls()"
   ]
  },
  {
   "cell_type": "markdown",
   "metadata": {},
   "source": [
    "Definimos la ruta padre del proyecto donde se encuentran los datos."
   ]
  },
  {
   "cell_type": "code",
   "execution_count": 5,
   "metadata": {
    "scrolled": true
   },
   "outputs": [],
   "source": [
    "df_path = Path('/home/user/')"
   ]
  },
  {
   "cell_type": "markdown",
   "metadata": {},
   "source": [
    "Cargamos el archivo CSV en forma de _dataframe_ de Pandas con las clases jerárquicas de cada imagen, la ruta de la imagen y si corresponde o no al conjunto de validación."
   ]
  },
  {
   "cell_type": "code",
   "execution_count": 6,
   "metadata": {
    "scrolled": true
   },
   "outputs": [],
   "source": [
    "df = pd.read_csv(df_path/'csv/species1000-stratified.csv')"
   ]
  },
  {
   "cell_type": "code",
   "execution_count": 7,
   "metadata": {
    "scrolled": true
   },
   "outputs": [
    {
     "data": {
      "text/html": [
       "<div>\n",
       "<style scoped>\n",
       "    .dataframe tbody tr th:only-of-type {\n",
       "        vertical-align: middle;\n",
       "    }\n",
       "\n",
       "    .dataframe tbody tr th {\n",
       "        vertical-align: top;\n",
       "    }\n",
       "\n",
       "    .dataframe thead th {\n",
       "        text-align: right;\n",
       "    }\n",
       "</style>\n",
       "<table border=\"1\" class=\"dataframe\">\n",
       "  <thead>\n",
       "    <tr style=\"text-align: right;\">\n",
       "      <th></th>\n",
       "      <th>Order</th>\n",
       "      <th>Family</th>\n",
       "      <th>Subfamily</th>\n",
       "      <th>Genus</th>\n",
       "      <th>Specie</th>\n",
       "      <th>fname</th>\n",
       "      <th>is_valid</th>\n",
       "    </tr>\n",
       "  </thead>\n",
       "  <tbody>\n",
       "    <tr>\n",
       "      <th>0</th>\n",
       "      <td>Perciformes</td>\n",
       "      <td>Centrarchidae</td>\n",
       "      <td>NaN</td>\n",
       "      <td>Lepomis</td>\n",
       "      <td>Lepomis gibbosus</td>\n",
       "      <td>Lepomis gibbosus/1879321.jpg</td>\n",
       "      <td>False</td>\n",
       "    </tr>\n",
       "    <tr>\n",
       "      <th>1</th>\n",
       "      <td>Perciformes</td>\n",
       "      <td>Centrarchidae</td>\n",
       "      <td>NaN</td>\n",
       "      <td>Pomoxis</td>\n",
       "      <td>Pomoxis nigromaculatus</td>\n",
       "      <td>Pomoxis nigromaculatus/61056925.jpg</td>\n",
       "      <td>False</td>\n",
       "    </tr>\n",
       "    <tr>\n",
       "      <th>2</th>\n",
       "      <td>Perciformes</td>\n",
       "      <td>Centrarchidae</td>\n",
       "      <td>NaN</td>\n",
       "      <td>Lepomis</td>\n",
       "      <td>Lepomis miniatus</td>\n",
       "      <td>Lepomis miniatus/36578909.jpg</td>\n",
       "      <td>False</td>\n",
       "    </tr>\n",
       "    <tr>\n",
       "      <th>3</th>\n",
       "      <td>Cypriniformes</td>\n",
       "      <td>Cyprinidae</td>\n",
       "      <td>Leuciscinae</td>\n",
       "      <td>Scardinius</td>\n",
       "      <td>Scardinius erythrophthalmus</td>\n",
       "      <td>Scardinius erythrophthalmus/77068790.jpg</td>\n",
       "      <td>False</td>\n",
       "    </tr>\n",
       "    <tr>\n",
       "      <th>4</th>\n",
       "      <td>Perciformes</td>\n",
       "      <td>Acanthuridae</td>\n",
       "      <td>Acanthurinae</td>\n",
       "      <td>Acanthurus</td>\n",
       "      <td>Acanthurus olivaceus</td>\n",
       "      <td>Acanthurus olivaceus/14646458.jpg</td>\n",
       "      <td>False</td>\n",
       "    </tr>\n",
       "    <tr>\n",
       "      <th>...</th>\n",
       "      <td>...</td>\n",
       "      <td>...</td>\n",
       "      <td>...</td>\n",
       "      <td>...</td>\n",
       "      <td>...</td>\n",
       "      <td>...</td>\n",
       "      <td>...</td>\n",
       "    </tr>\n",
       "    <tr>\n",
       "      <th>422172</th>\n",
       "      <td>Perciformes</td>\n",
       "      <td>Acanthuridae</td>\n",
       "      <td>Acanthurinae</td>\n",
       "      <td>Acanthurus</td>\n",
       "      <td>Acanthurus coeruleus</td>\n",
       "      <td>Acanthurus coeruleus/33472582.jpg</td>\n",
       "      <td>True</td>\n",
       "    </tr>\n",
       "    <tr>\n",
       "      <th>422173</th>\n",
       "      <td>Perciformes</td>\n",
       "      <td>Gobiidae</td>\n",
       "      <td>Gobiinae</td>\n",
       "      <td>Amblyeleotris</td>\n",
       "      <td>Amblyeleotris steinitzi</td>\n",
       "      <td>Amblyeleotris steinitzi/3789141.jpg</td>\n",
       "      <td>True</td>\n",
       "    </tr>\n",
       "    <tr>\n",
       "      <th>422174</th>\n",
       "      <td>Perciformes</td>\n",
       "      <td>Percidae</td>\n",
       "      <td>Etheostomatinae</td>\n",
       "      <td>Etheostoma</td>\n",
       "      <td>Etheostoma caeruleum</td>\n",
       "      <td>Etheostoma caeruleum/40879890.jpg</td>\n",
       "      <td>True</td>\n",
       "    </tr>\n",
       "    <tr>\n",
       "      <th>422175</th>\n",
       "      <td>Perciformes</td>\n",
       "      <td>Kyphosidae</td>\n",
       "      <td>Microcanthinae</td>\n",
       "      <td>Tilodon</td>\n",
       "      <td>Tilodon sexfasciatus</td>\n",
       "      <td>Tilodon sexfasciatus/26825770.jpg</td>\n",
       "      <td>True</td>\n",
       "    </tr>\n",
       "    <tr>\n",
       "      <th>422176</th>\n",
       "      <td>Perciformes</td>\n",
       "      <td>Scaridae</td>\n",
       "      <td>Sparisomatinae</td>\n",
       "      <td>Sparisoma</td>\n",
       "      <td>Sparisoma viride</td>\n",
       "      <td>Sparisoma viride/48286026.jpg</td>\n",
       "      <td>True</td>\n",
       "    </tr>\n",
       "  </tbody>\n",
       "</table>\n",
       "<p>422177 rows × 7 columns</p>\n",
       "</div>"
      ],
      "text/plain": [
       "                Order         Family        Subfamily          Genus  \\\n",
       "0         Perciformes  Centrarchidae              NaN        Lepomis   \n",
       "1         Perciformes  Centrarchidae              NaN        Pomoxis   \n",
       "2         Perciformes  Centrarchidae              NaN        Lepomis   \n",
       "3       Cypriniformes     Cyprinidae      Leuciscinae     Scardinius   \n",
       "4         Perciformes   Acanthuridae     Acanthurinae     Acanthurus   \n",
       "...               ...            ...              ...            ...   \n",
       "422172    Perciformes   Acanthuridae     Acanthurinae     Acanthurus   \n",
       "422173    Perciformes       Gobiidae         Gobiinae  Amblyeleotris   \n",
       "422174    Perciformes       Percidae  Etheostomatinae     Etheostoma   \n",
       "422175    Perciformes     Kyphosidae   Microcanthinae        Tilodon   \n",
       "422176    Perciformes       Scaridae   Sparisomatinae      Sparisoma   \n",
       "\n",
       "                             Specie                                     fname  \\\n",
       "0                  Lepomis gibbosus              Lepomis gibbosus/1879321.jpg   \n",
       "1            Pomoxis nigromaculatus       Pomoxis nigromaculatus/61056925.jpg   \n",
       "2                  Lepomis miniatus             Lepomis miniatus/36578909.jpg   \n",
       "3       Scardinius erythrophthalmus  Scardinius erythrophthalmus/77068790.jpg   \n",
       "4              Acanthurus olivaceus         Acanthurus olivaceus/14646458.jpg   \n",
       "...                             ...                                       ...   \n",
       "422172         Acanthurus coeruleus         Acanthurus coeruleus/33472582.jpg   \n",
       "422173      Amblyeleotris steinitzi       Amblyeleotris steinitzi/3789141.jpg   \n",
       "422174         Etheostoma caeruleum         Etheostoma caeruleum/40879890.jpg   \n",
       "422175         Tilodon sexfasciatus         Tilodon sexfasciatus/26825770.jpg   \n",
       "422176             Sparisoma viride             Sparisoma viride/48286026.jpg   \n",
       "\n",
       "        is_valid  \n",
       "0          False  \n",
       "1          False  \n",
       "2          False  \n",
       "3          False  \n",
       "4          False  \n",
       "...          ...  \n",
       "422172      True  \n",
       "422173      True  \n",
       "422174      True  \n",
       "422175      True  \n",
       "422176      True  \n",
       "\n",
       "[422177 rows x 7 columns]"
      ]
     },
     "execution_count": 7,
     "metadata": {},
     "output_type": "execute_result"
    }
   ],
   "source": [
    "df"
   ]
  },
  {
   "cell_type": "markdown",
   "metadata": {},
   "source": [
    "Cargamos los pesos en forma de _dataframes_ de las clases para corregir el desbalanceo durante el entrenamiento."
   ]
  },
  {
   "cell_type": "code",
   "execution_count": 8,
   "metadata": {},
   "outputs": [],
   "source": [
    "weights_df = pd.read_csv(df_path/'csv/species1000-weights.csv')\n",
    "weights_family_df = pd.read_csv(df_path/'csv/species1000-weights-family.csv')\n",
    "weights_genus_df = pd.read_csv(df_path/'csv/species1000-weights-genus.csv')\n",
    "weights_order_df = pd.read_csv(df_path/'csv/species1000-weights-order.csv')"
   ]
  },
  {
   "cell_type": "markdown",
   "metadata": {},
   "source": [
    "Mostramos, como ejemplo, el _dataframe_ de los pesos por clase final."
   ]
  },
  {
   "cell_type": "code",
   "execution_count": 9,
   "metadata": {},
   "outputs": [
    {
     "data": {
      "text/html": [
       "<div>\n",
       "<style scoped>\n",
       "    .dataframe tbody tr th:only-of-type {\n",
       "        vertical-align: middle;\n",
       "    }\n",
       "\n",
       "    .dataframe tbody tr th {\n",
       "        vertical-align: top;\n",
       "    }\n",
       "\n",
       "    .dataframe thead th {\n",
       "        text-align: right;\n",
       "    }\n",
       "</style>\n",
       "<table border=\"1\" class=\"dataframe\">\n",
       "  <thead>\n",
       "    <tr style=\"text-align: right;\">\n",
       "      <th></th>\n",
       "      <th>Specie</th>\n",
       "      <th>Count</th>\n",
       "      <th>Weight</th>\n",
       "    </tr>\n",
       "  </thead>\n",
       "  <tbody>\n",
       "    <tr>\n",
       "      <th>0</th>\n",
       "      <td>Abramis brama</td>\n",
       "      <td>319</td>\n",
       "      <td>1.323439</td>\n",
       "    </tr>\n",
       "    <tr>\n",
       "      <th>1</th>\n",
       "      <td>Abudefduf abdominalis</td>\n",
       "      <td>221</td>\n",
       "      <td>1.910303</td>\n",
       "    </tr>\n",
       "    <tr>\n",
       "      <th>2</th>\n",
       "      <td>Abudefduf bengalensis</td>\n",
       "      <td>323</td>\n",
       "      <td>1.307050</td>\n",
       "    </tr>\n",
       "    <tr>\n",
       "      <th>3</th>\n",
       "      <td>Abudefduf saxatilis</td>\n",
       "      <td>1692</td>\n",
       "      <td>0.249514</td>\n",
       "    </tr>\n",
       "    <tr>\n",
       "      <th>4</th>\n",
       "      <td>Abudefduf septemfasciatus</td>\n",
       "      <td>149</td>\n",
       "      <td>2.833403</td>\n",
       "    </tr>\n",
       "    <tr>\n",
       "      <th>...</th>\n",
       "      <td>...</td>\n",
       "      <td>...</td>\n",
       "      <td>...</td>\n",
       "    </tr>\n",
       "    <tr>\n",
       "      <th>995</th>\n",
       "      <td>Zanclus cornutus</td>\n",
       "      <td>1966</td>\n",
       "      <td>0.214739</td>\n",
       "    </tr>\n",
       "    <tr>\n",
       "      <th>996</th>\n",
       "      <td>Zebrasoma desjardinii</td>\n",
       "      <td>166</td>\n",
       "      <td>2.543235</td>\n",
       "    </tr>\n",
       "    <tr>\n",
       "      <th>997</th>\n",
       "      <td>Zebrasoma flavescens</td>\n",
       "      <td>561</td>\n",
       "      <td>0.752544</td>\n",
       "    </tr>\n",
       "    <tr>\n",
       "      <th>998</th>\n",
       "      <td>Zebrasoma scopas</td>\n",
       "      <td>276</td>\n",
       "      <td>1.529627</td>\n",
       "    </tr>\n",
       "    <tr>\n",
       "      <th>999</th>\n",
       "      <td>Zebrasoma velifer</td>\n",
       "      <td>500</td>\n",
       "      <td>0.844354</td>\n",
       "    </tr>\n",
       "  </tbody>\n",
       "</table>\n",
       "<p>1000 rows × 3 columns</p>\n",
       "</div>"
      ],
      "text/plain": [
       "                        Specie  Count    Weight\n",
       "0                Abramis brama    319  1.323439\n",
       "1        Abudefduf abdominalis    221  1.910303\n",
       "2        Abudefduf bengalensis    323  1.307050\n",
       "3          Abudefduf saxatilis   1692  0.249514\n",
       "4    Abudefduf septemfasciatus    149  2.833403\n",
       "..                         ...    ...       ...\n",
       "995           Zanclus cornutus   1966  0.214739\n",
       "996      Zebrasoma desjardinii    166  2.543235\n",
       "997       Zebrasoma flavescens    561  0.752544\n",
       "998           Zebrasoma scopas    276  1.529627\n",
       "999          Zebrasoma velifer    500  0.844354\n",
       "\n",
       "[1000 rows x 3 columns]"
      ]
     },
     "execution_count": 9,
     "metadata": {},
     "output_type": "execute_result"
    }
   ],
   "source": [
    "weights_df"
   ]
  },
  {
   "cell_type": "markdown",
   "metadata": {},
   "source": [
    "## Experimento 10: Sin ramas"
   ]
  },
  {
   "cell_type": "markdown",
   "metadata": {},
   "source": [
    "Creamos un _datablock_ con: bloques de tipo imagen y categoría, un separador por columna, la _x_ con la columna que contienen la ruta de las imágenes, la _y_ con la columna de especies, una transformación para hacer un recorte aleatorio dejando un tamaño común de 336x336, y las transformaciones de aumento de datos por defecto."
   ]
  },
  {
   "cell_type": "code",
   "execution_count": 10,
   "metadata": {
    "scrolled": true
   },
   "outputs": [],
   "source": [
    "fishes = DataBlock(blocks = (ImageBlock, CategoryBlock),\n",
    "                 splitter=ColSplitter(),\n",
    "                 get_x = ColReader(5, pref=path),\n",
    "                 get_y=ColReader(4),\n",
    "                 item_tfms=RandomResizedCrop(336, min_scale=0.5),\n",
    "                 batch_tfms=aug_transforms())\n",
    "dls = fishes.dataloaders(df, bs=64)"
   ]
  },
  {
   "cell_type": "markdown",
   "metadata": {},
   "source": [
    "Mostramos los _dataloaders_ generados con el _datablock_."
   ]
  },
  {
   "cell_type": "code",
   "execution_count": 11,
   "metadata": {
    "scrolled": false
   },
   "outputs": [
    {
     "data": {
      "text/plain": [
       "((#337741) [(PILImage mode=RGB size=768x1024, TensorCategory(531)),(PILImage mode=RGB size=1024x738, TensorCategory(776)),(PILImage mode=RGB size=768x1024, TensorCategory(538)),(PILImage mode=RGB size=768x1024, TensorCategory(837)),(PILImage mode=RGB size=1024x786, TensorCategory(32)),(PILImage mode=RGB size=1024x683, TensorCategory(145)),(PILImage mode=RGB size=768x1024, TensorCategory(827)),(PILImage mode=RGB size=1024x697, TensorCategory(792)),(PILImage mode=RGB size=1024x768, TensorCategory(784)),(PILImage mode=RGB size=1024x768, TensorCategory(522))...],\n",
       " (#84436) [(PILImage mode=RGB size=576x1024, TensorCategory(826)),(PILImage mode=RGB size=512x320, TensorCategory(296)),(PILImage mode=RGB size=1024x768, TensorCategory(283)),(PILImage mode=RGB size=1024x683, TensorCategory(223)),(PILImage mode=RGB size=1024x683, TensorCategory(333)),(PILImage mode=RGB size=1024x768, TensorCategory(272)),(PILImage mode=RGB size=1024x576, TensorCategory(163)),(PILImage mode=RGB size=1024x768, TensorCategory(827)),(PILImage mode=RGB size=1024x768, TensorCategory(868)),(PILImage mode=RGB size=768x1024, TensorCategory(816))...])"
      ]
     },
     "execution_count": 11,
     "metadata": {},
     "output_type": "execute_result"
    }
   ],
   "source": [
    "dls.train_ds, dls.valid_ds"
   ]
  },
  {
   "cell_type": "markdown",
   "metadata": {},
   "source": [
    "Mostramos algunos ejemplos de los _dataloaders_."
   ]
  },
  {
   "cell_type": "code",
   "execution_count": 12,
   "metadata": {
    "scrolled": true
   },
   "outputs": [
    {
     "data": {
      "image/png": "[encoded data removed]",
      "text/plain": [
       "<Figure size 648x648 with 9 Axes>"
      ]
     },
     "metadata": {
      "needs_background": "light"
     },
     "output_type": "display_data"
    }
   ],
   "source": [
    "dls.show_batch(nrows=3, ncols=3)"
   ]
  },
  {
   "cell_type": "markdown",
   "metadata": {},
   "source": [
    "Creamos una clase para nuestro modelo que enlace un _encoder_ y _head_."
   ]
  },
  {
   "cell_type": "code",
   "execution_count": 13,
   "metadata": {
    "scrolled": true
   },
   "outputs": [],
   "source": [
    "class VGGCustomModel(Module):\n",
    "    def __init__(self, encoder, head):\n",
    "        self.encoder = encoder\n",
    "        self.head = head\n",
    "    \n",
    "    def forward(self, x):\n",
    "        x = self.encoder(x)\n",
    "        x = self.head(x)\n",
    "        return x"
   ]
  },
  {
   "cell_type": "markdown",
   "metadata": {},
   "source": [
    "Creamos un _splitter_ personalizado con los parámetros del _encoder_ y del _head_."
   ]
  },
  {
   "cell_type": "code",
   "execution_count": 14,
   "metadata": {
    "scrolled": true
   },
   "outputs": [],
   "source": [
    "def custom_splitter(model):\n",
    "    return [params(model.encoder),\n",
    "            params(model.head)]"
   ]
  },
  {
   "cell_type": "markdown",
   "metadata": {},
   "source": [
    "Creamos el cuerpo (_encoder_) y cabeza del modelo tomando como base VGG-16 con _Batch Normalization_ y con pesos preentrenados."
   ]
  },
  {
   "cell_type": "code",
   "execution_count": 15,
   "metadata": {
    "scrolled": true
   },
   "outputs": [
    {
     "name": "stderr",
     "output_type": "stream",
     "text": [
      "Downloading: \"https://download.pytorch.org/models/vgg16_bn-6c64b313.pth\" to /home/user/.cache/torch/hub/checkpoints/vgg16_bn-6c64b313.pth\n"
     ]
    },
    {
     "data": {
      "application/vnd.jupyter.widget-view+json": {
       "model_id": "f3f29dcab6d74370ae2c18e0d5102651",
       "version_major": 2,
       "version_minor": 0
      },
      "text/plain": [
       "HBox(children=(FloatProgress(value=0.0, max=553507836.0), HTML(value='')))"
      ]
     },
     "metadata": {},
     "output_type": "display_data"
    },
    {
     "name": "stdout",
     "output_type": "stream",
     "text": [
      "\n"
     ]
    }
   ],
   "source": [
    "model = vgg16_bn\n",
    "body = create_body(model, cut=-2)\n",
    "head = create_head(512*2,dls.c)"
   ]
  },
  {
   "cell_type": "markdown",
   "metadata": {},
   "source": [
    "Creamos el modelo con la clase previamente creada, suministrando el cuerpo y la cabeza del modelo."
   ]
  },
  {
   "cell_type": "code",
   "execution_count": 16,
   "metadata": {
    "scrolled": true
   },
   "outputs": [],
   "source": [
    "model = VGGCustomModel(body, head)"
   ]
  },
  {
   "cell_type": "markdown",
   "metadata": {},
   "source": [
    "Creamos el tensor con los pesos por clase y lo pasamos a GPU para poder usarlo durante el entrenamiento."
   ]
  },
  {
   "cell_type": "code",
   "execution_count": 17,
   "metadata": {},
   "outputs": [],
   "source": [
    "weights = tensor([float(weights_df[weights_df['Specie']==c]['Weight']) for c in dls.vocab]).cuda()"
   ]
  },
  {
   "cell_type": "markdown",
   "metadata": {},
   "source": [
    "Creamos nuestro objeto _Learner_ con los _dataloaders_, la función de pérdida de entropía cruzada con los pesos calculados, la métrica exactitud y el _splitter_ creado. Además, congelamos nuestro modelo para ajustar primero los pesos preentrenados a nuestras clases."
   ]
  },
  {
   "cell_type": "code",
   "execution_count": 18,
   "metadata": {
    "scrolled": true
   },
   "outputs": [],
   "source": [
    "learn = Learner(dls, model, loss_func=nn.CrossEntropyLoss(weight=weights), metrics=accuracy,\n",
    "                   splitter=custom_splitter).to_fp16()\n",
    "learn.freeze()"
   ]
  },
  {
   "cell_type": "markdown",
   "metadata": {},
   "source": [
    "Mostramos un resumen de nuestro modelo."
   ]
  },
  {
   "cell_type": "code",
   "execution_count": 19,
   "metadata": {
    "scrolled": true
   },
   "outputs": [
    {
     "data": {
      "text/html": [
       "<table border=\"1\" class=\"dataframe\">\n",
       "  <thead>\n",
       "    <tr style=\"text-align: left;\">\n",
       "      <th>epoch</th>\n",
       "      <th>train_loss</th>\n",
       "      <th>valid_loss</th>\n",
       "      <th>accuracy</th>\n",
       "      <th>time</th>\n",
       "    </tr>\n",
       "  </thead>\n",
       "  <tbody>\n",
       "    <tr>\n",
       "      <td>0</td>\n",
       "      <td>None</td>\n",
       "      <td>None</td>\n",
       "      <td>00:00</td>\n",
       "    </tr>\n",
       "  </tbody>\n",
       "</table>"
      ],
      "text/plain": [
       "<IPython.core.display.HTML object>"
      ]
     },
     "metadata": {},
     "output_type": "display_data"
    },
    {
     "data": {
      "text/plain": [
       "VGGCustomModel (Input shape: ['64 x 3 x 336 x 336'])\n",
       "================================================================\n",
       "Layer (type)         Output Shape         Param #    Trainable \n",
       "================================================================\n",
       "Conv2d               64 x 64 x 336 x 336  1,792      False     \n",
       "________________________________________________________________\n",
       "BatchNorm2d          64 x 64 x 336 x 336  128        True      \n",
       "________________________________________________________________\n",
       "ReLU                 64 x 64 x 336 x 336  0          False     \n",
       "________________________________________________________________\n",
       "Conv2d               64 x 64 x 336 x 336  36,928     False     \n",
       "________________________________________________________________\n",
       "BatchNorm2d          64 x 64 x 336 x 336  128        True      \n",
       "________________________________________________________________\n",
       "ReLU                 64 x 64 x 336 x 336  0          False     \n",
       "________________________________________________________________\n",
       "MaxPool2d            64 x 64 x 168 x 168  0          False     \n",
       "________________________________________________________________\n",
       "Conv2d               64 x 128 x 168 x 16  73,856     False     \n",
       "________________________________________________________________\n",
       "BatchNorm2d          64 x 128 x 168 x 16  256        True      \n",
       "________________________________________________________________\n",
       "ReLU                 64 x 128 x 168 x 16  0          False     \n",
       "________________________________________________________________\n",
       "Conv2d               64 x 128 x 168 x 16  147,584    False     \n",
       "________________________________________________________________\n",
       "BatchNorm2d          64 x 128 x 168 x 16  256        True      \n",
       "________________________________________________________________\n",
       "ReLU                 64 x 128 x 168 x 16  0          False     \n",
       "________________________________________________________________\n",
       "MaxPool2d            64 x 128 x 84 x 84   0          False     \n",
       "________________________________________________________________\n",
       "Conv2d               64 x 256 x 84 x 84   295,168    False     \n",
       "________________________________________________________________\n",
       "BatchNorm2d          64 x 256 x 84 x 84   512        True      \n",
       "________________________________________________________________\n",
       "ReLU                 64 x 256 x 84 x 84   0          False     \n",
       "________________________________________________________________\n",
       "Conv2d               64 x 256 x 84 x 84   590,080    False     \n",
       "________________________________________________________________\n",
       "BatchNorm2d          64 x 256 x 84 x 84   512        True      \n",
       "________________________________________________________________\n",
       "ReLU                 64 x 256 x 84 x 84   0          False     \n",
       "________________________________________________________________\n",
       "Conv2d               64 x 256 x 84 x 84   590,080    False     \n",
       "________________________________________________________________\n",
       "BatchNorm2d          64 x 256 x 84 x 84   512        True      \n",
       "________________________________________________________________\n",
       "ReLU                 64 x 256 x 84 x 84   0          False     \n",
       "________________________________________________________________\n",
       "MaxPool2d            64 x 256 x 42 x 42   0          False     \n",
       "________________________________________________________________\n",
       "Conv2d               64 x 512 x 42 x 42   1,180,160  False     \n",
       "________________________________________________________________\n",
       "BatchNorm2d          64 x 512 x 42 x 42   1,024      True      \n",
       "________________________________________________________________\n",
       "ReLU                 64 x 512 x 42 x 42   0          False     \n",
       "________________________________________________________________\n",
       "Conv2d               64 x 512 x 42 x 42   2,359,808  False     \n",
       "________________________________________________________________\n",
       "BatchNorm2d          64 x 512 x 42 x 42   1,024      True      \n",
       "________________________________________________________________\n",
       "ReLU                 64 x 512 x 42 x 42   0          False     \n",
       "________________________________________________________________\n",
       "Conv2d               64 x 512 x 42 x 42   2,359,808  False     \n",
       "________________________________________________________________\n",
       "BatchNorm2d          64 x 512 x 42 x 42   1,024      True      \n",
       "________________________________________________________________\n",
       "ReLU                 64 x 512 x 42 x 42   0          False     \n",
       "________________________________________________________________\n",
       "MaxPool2d            64 x 512 x 21 x 21   0          False     \n",
       "________________________________________________________________\n",
       "Conv2d               64 x 512 x 21 x 21   2,359,808  False     \n",
       "________________________________________________________________\n",
       "BatchNorm2d          64 x 512 x 21 x 21   1,024      True      \n",
       "________________________________________________________________\n",
       "ReLU                 64 x 512 x 21 x 21   0          False     \n",
       "________________________________________________________________\n",
       "Conv2d               64 x 512 x 21 x 21   2,359,808  False     \n",
       "________________________________________________________________\n",
       "BatchNorm2d          64 x 512 x 21 x 21   1,024      True      \n",
       "________________________________________________________________\n",
       "ReLU                 64 x 512 x 21 x 21   0          False     \n",
       "________________________________________________________________\n",
       "Conv2d               64 x 512 x 21 x 21   2,359,808  False     \n",
       "________________________________________________________________\n",
       "BatchNorm2d          64 x 512 x 21 x 21   1,024      True      \n",
       "________________________________________________________________\n",
       "ReLU                 64 x 512 x 21 x 21   0          False     \n",
       "________________________________________________________________\n",
       "MaxPool2d            64 x 512 x 10 x 10   0          False     \n",
       "________________________________________________________________\n",
       "AdaptiveAvgPool2d    64 x 512 x 1 x 1     0          False     \n",
       "________________________________________________________________\n",
       "AdaptiveMaxPool2d    64 x 512 x 1 x 1     0          False     \n",
       "________________________________________________________________\n",
       "Flatten              64 x 1024            0          False     \n",
       "________________________________________________________________\n",
       "BatchNorm1d          64 x 1024            2,048      True      \n",
       "________________________________________________________________\n",
       "Dropout              64 x 1024            0          False     \n",
       "________________________________________________________________\n",
       "Linear               64 x 512             524,288    True      \n",
       "________________________________________________________________\n",
       "ReLU                 64 x 512             0          False     \n",
       "________________________________________________________________\n",
       "BatchNorm1d          64 x 512             1,024      True      \n",
       "________________________________________________________________\n",
       "Dropout              64 x 512             0          False     \n",
       "________________________________________________________________\n",
       "Linear               64 x 1000            512,000    True      \n",
       "________________________________________________________________\n",
       "\n",
       "Total params: 15,762,496\n",
       "Total trainable params: 1,047,808\n",
       "Total non-trainable params: 14,714,688\n",
       "\n",
       "Optimizer used: <function Adam at 0x7f5bdcabd670>\n",
       "Loss function: CrossEntropyLoss()\n",
       "\n",
       "Model frozen up to parameter group #1\n",
       "\n",
       "Callbacks:\n",
       "  - ModelToHalf\n",
       "  - TrainEvalCallback\n",
       "  - Recorder\n",
       "  - ProgressCallback\n",
       "  - MixedPrecision"
      ]
     },
     "execution_count": 19,
     "metadata": {},
     "output_type": "execute_result"
    }
   ],
   "source": [
    "learn.summary()"
   ]
  },
  {
   "cell_type": "markdown",
   "metadata": {},
   "source": [
    "Entrenamos el modelo congelado para ajustar los pesos de las últimas capas a nuestras clases, y descongelamos el modelo."
   ]
  },
  {
   "cell_type": "code",
   "execution_count": 20,
   "metadata": {
    "scrolled": true
   },
   "outputs": [
    {
     "data": {
      "text/html": [
       "<table border=\"1\" class=\"dataframe\">\n",
       "  <thead>\n",
       "    <tr style=\"text-align: left;\">\n",
       "      <th>epoch</th>\n",
       "      <th>train_loss</th>\n",
       "      <th>valid_loss</th>\n",
       "      <th>accuracy</th>\n",
       "      <th>time</th>\n",
       "    </tr>\n",
       "  </thead>\n",
       "  <tbody>\n",
       "    <tr>\n",
       "      <td>0</td>\n",
       "      <td>3.659776</td>\n",
       "      <td>2.923297</td>\n",
       "      <td>0.395068</td>\n",
       "      <td>38:54</td>\n",
       "    </tr>\n",
       "  </tbody>\n",
       "</table>"
      ],
      "text/plain": [
       "<IPython.core.display.HTML object>"
      ]
     },
     "metadata": {},
     "output_type": "display_data"
    }
   ],
   "source": [
    "learn.fit(1, 3e-3)"
   ]
  },
  {
   "cell_type": "code",
   "execution_count": 21,
   "metadata": {},
   "outputs": [],
   "source": [
    "learn.unfreeze()"
   ]
  },
  {
   "cell_type": "markdown",
   "metadata": {},
   "source": [
    "Buscamos el factor de aprendizaje más adecuado con lr_find."
   ]
  },
  {
   "cell_type": "code",
   "execution_count": 22,
   "metadata": {},
   "outputs": [
    {
     "data": {
      "text/html": [],
      "text/plain": [
       "<IPython.core.display.HTML object>"
      ]
     },
     "metadata": {},
     "output_type": "display_data"
    },
    {
     "data": {
      "text/plain": [
       "SuggestedLRs(lr_min=3.981071640737355e-05, lr_steep=1.3182567499825382e-06)"
      ]
     },
     "execution_count": 22,
     "metadata": {},
     "output_type": "execute_result"
    },
    {
     "data": {
      "image/png": "[encoded data removed]",
      "text/plain": [
       "<Figure size 432x288 with 1 Axes>"
      ]
     },
     "metadata": {
      "needs_background": "light"
     },
     "output_type": "display_data"
    }
   ],
   "source": [
    "learn.lr_find()"
   ]
  },
  {
   "cell_type": "markdown",
   "metadata": {},
   "source": [
    "Defimos una función para continuar el aprendizaje con los pesos guardados."
   ]
  },
  {
   "cell_type": "code",
   "execution_count": 18,
   "metadata": {},
   "outputs": [],
   "source": [
    "def continue_training(pth_filename):\n",
    "    learn = Learner(dls, model, loss_func=nn.CrossEntropyLoss(weight=weights), metrics=accuracy,\n",
    "                   splitter=custom_splitter).to_fp16()\n",
    "    learn.load(pth_filename)\n",
    "    learn.unfreeze()\n",
    "    return learn"
   ]
  },
  {
   "cell_type": "markdown",
   "metadata": {},
   "source": [
    "Entrenamos durante 20 épocas con el factor de aprendizaje máximo adecuado según la visualización del buscador de factores de aprendizaje, guardando los pesos del entrenamiento en cada 5 épocas."
   ]
  },
  {
   "cell_type": "code",
   "execution_count": 23,
   "metadata": {
    "scrolled": true
   },
   "outputs": [
    {
     "data": {
      "text/html": [
       "<table border=\"1\" class=\"dataframe\">\n",
       "  <thead>\n",
       "    <tr style=\"text-align: left;\">\n",
       "      <th>epoch</th>\n",
       "      <th>train_loss</th>\n",
       "      <th>valid_loss</th>\n",
       "      <th>accuracy</th>\n",
       "      <th>time</th>\n",
       "    </tr>\n",
       "  </thead>\n",
       "  <tbody>\n",
       "    <tr>\n",
       "      <td>0</td>\n",
       "      <td>3.102528</td>\n",
       "      <td>2.468492</td>\n",
       "      <td>0.481394</td>\n",
       "      <td>46:16</td>\n",
       "    </tr>\n",
       "    <tr>\n",
       "      <td>1</td>\n",
       "      <td>2.912167</td>\n",
       "      <td>2.326311</td>\n",
       "      <td>0.502025</td>\n",
       "      <td>46:14</td>\n",
       "    </tr>\n",
       "    <tr>\n",
       "      <td>2</td>\n",
       "      <td>2.857798</td>\n",
       "      <td>2.225966</td>\n",
       "      <td>0.518937</td>\n",
       "      <td>46:17</td>\n",
       "    </tr>\n",
       "    <tr>\n",
       "      <td>3</td>\n",
       "      <td>2.836672</td>\n",
       "      <td>2.149881</td>\n",
       "      <td>0.533434</td>\n",
       "      <td>46:08</td>\n",
       "    </tr>\n",
       "    <tr>\n",
       "      <td>4</td>\n",
       "      <td>2.655583</td>\n",
       "      <td>2.085060</td>\n",
       "      <td>0.542399</td>\n",
       "      <td>45:59</td>\n",
       "    </tr>\n",
       "  </tbody>\n",
       "</table>"
      ],
      "text/plain": [
       "<IPython.core.display.HTML object>"
      ]
     },
     "metadata": {},
     "output_type": "display_data"
    },
    {
     "data": {
      "text/plain": [
       "Path('models/species1000-vgg16-nobranch-fepochs1-uepochs5.pth')"
      ]
     },
     "execution_count": 23,
     "metadata": {},
     "output_type": "execute_result"
    }
   ],
   "source": [
    "learn.fit(5, slice(1e-6,1e-4))\n",
    "learn.save('species1000-vgg16-nobranch-fepochs1-uepochs5')"
   ]
  },
  {
   "cell_type": "code",
   "execution_count": 24,
   "metadata": {
    "scrolled": true
   },
   "outputs": [
    {
     "data": {
      "text/html": [
       "<table border=\"1\" class=\"dataframe\">\n",
       "  <thead>\n",
       "    <tr style=\"text-align: left;\">\n",
       "      <th>epoch</th>\n",
       "      <th>train_loss</th>\n",
       "      <th>valid_loss</th>\n",
       "      <th>accuracy</th>\n",
       "      <th>time</th>\n",
       "    </tr>\n",
       "  </thead>\n",
       "  <tbody>\n",
       "    <tr>\n",
       "      <td>0</td>\n",
       "      <td>2.666815</td>\n",
       "      <td>2.036729</td>\n",
       "      <td>0.551992</td>\n",
       "      <td>46:09</td>\n",
       "    </tr>\n",
       "    <tr>\n",
       "      <td>1</td>\n",
       "      <td>2.718378</td>\n",
       "      <td>1.987994</td>\n",
       "      <td>0.561692</td>\n",
       "      <td>46:11</td>\n",
       "    </tr>\n",
       "    <tr>\n",
       "      <td>2</td>\n",
       "      <td>2.605856</td>\n",
       "      <td>1.954902</td>\n",
       "      <td>0.565742</td>\n",
       "      <td>46:13</td>\n",
       "    </tr>\n",
       "    <tr>\n",
       "      <td>3</td>\n",
       "      <td>2.511580</td>\n",
       "      <td>1.913323</td>\n",
       "      <td>0.574838</td>\n",
       "      <td>46:16</td>\n",
       "    </tr>\n",
       "    <tr>\n",
       "      <td>4</td>\n",
       "      <td>2.621795</td>\n",
       "      <td>1.867491</td>\n",
       "      <td>0.580298</td>\n",
       "      <td>46:08</td>\n",
       "    </tr>\n",
       "  </tbody>\n",
       "</table>"
      ],
      "text/plain": [
       "<IPython.core.display.HTML object>"
      ]
     },
     "metadata": {},
     "output_type": "display_data"
    },
    {
     "data": {
      "text/plain": [
       "Path('models/species1000-vgg16-nobranch-fepochs1-uepochs10.pth')"
      ]
     },
     "execution_count": 24,
     "metadata": {},
     "output_type": "execute_result"
    }
   ],
   "source": [
    "learn.fit(5, slice(1e-6,1e-4))\n",
    "learn.save('species1000-vgg16-nobranch-fepochs1-uepochs10')"
   ]
  },
  {
   "cell_type": "code",
   "execution_count": 25,
   "metadata": {},
   "outputs": [
    {
     "data": {
      "text/html": [
       "<table border=\"1\" class=\"dataframe\">\n",
       "  <thead>\n",
       "    <tr style=\"text-align: left;\">\n",
       "      <th>epoch</th>\n",
       "      <th>train_loss</th>\n",
       "      <th>valid_loss</th>\n",
       "      <th>accuracy</th>\n",
       "      <th>time</th>\n",
       "    </tr>\n",
       "  </thead>\n",
       "  <tbody>\n",
       "    <tr>\n",
       "      <td>0</td>\n",
       "      <td>2.371947</td>\n",
       "      <td>1.843256</td>\n",
       "      <td>0.583803</td>\n",
       "      <td>46:15</td>\n",
       "    </tr>\n",
       "    <tr>\n",
       "      <td>1</td>\n",
       "      <td>2.369555</td>\n",
       "      <td>1.825760</td>\n",
       "      <td>0.589168</td>\n",
       "      <td>46:13</td>\n",
       "    </tr>\n",
       "    <tr>\n",
       "      <td>2</td>\n",
       "      <td>2.349010</td>\n",
       "      <td>1.796251</td>\n",
       "      <td>0.594652</td>\n",
       "      <td>46:16</td>\n",
       "    </tr>\n",
       "    <tr>\n",
       "      <td>3</td>\n",
       "      <td>2.408113</td>\n",
       "      <td>1.762036</td>\n",
       "      <td>0.599247</td>\n",
       "      <td>46:15</td>\n",
       "    </tr>\n",
       "    <tr>\n",
       "      <td>4</td>\n",
       "      <td>2.293036</td>\n",
       "      <td>1.745851</td>\n",
       "      <td>0.603226</td>\n",
       "      <td>46:14</td>\n",
       "    </tr>\n",
       "  </tbody>\n",
       "</table>"
      ],
      "text/plain": [
       "<IPython.core.display.HTML object>"
      ]
     },
     "metadata": {},
     "output_type": "display_data"
    },
    {
     "data": {
      "text/plain": [
       "Path('models/species1000-vgg16-nobranch-fepochs1-uepochs15.pth')"
      ]
     },
     "execution_count": 25,
     "metadata": {},
     "output_type": "execute_result"
    }
   ],
   "source": [
    "learn.fit(5, slice(1e-6,1e-4))\n",
    "learn.save('species1000-vgg16-nobranch-fepochs1-uepochs15')"
   ]
  },
  {
   "cell_type": "code",
   "execution_count": 26,
   "metadata": {
    "scrolled": true
   },
   "outputs": [],
   "source": [
    "learn.export('species1000-vgg16-nobranch-fepochs1-uepochs15')"
   ]
  },
  {
   "cell_type": "code",
   "execution_count": 19,
   "metadata": {},
   "outputs": [],
   "source": [
    "learn = continue_training('species1000-vgg16-nobranch-fepochs1-uepochs15')"
   ]
  },
  {
   "cell_type": "code",
   "execution_count": 20,
   "metadata": {},
   "outputs": [
    {
     "data": {
      "text/html": [
       "<table border=\"1\" class=\"dataframe\">\n",
       "  <thead>\n",
       "    <tr style=\"text-align: left;\">\n",
       "      <th>epoch</th>\n",
       "      <th>train_loss</th>\n",
       "      <th>valid_loss</th>\n",
       "      <th>accuracy</th>\n",
       "      <th>time</th>\n",
       "    </tr>\n",
       "  </thead>\n",
       "  <tbody>\n",
       "    <tr>\n",
       "      <td>0</td>\n",
       "      <td>2.450628</td>\n",
       "      <td>1.735526</td>\n",
       "      <td>0.606554</td>\n",
       "      <td>44:27</td>\n",
       "    </tr>\n",
       "    <tr>\n",
       "      <td>1</td>\n",
       "      <td>2.189469</td>\n",
       "      <td>1.719324</td>\n",
       "      <td>0.610640</td>\n",
       "      <td>44:26</td>\n",
       "    </tr>\n",
       "    <tr>\n",
       "      <td>2</td>\n",
       "      <td>2.239720</td>\n",
       "      <td>1.685604</td>\n",
       "      <td>0.615081</td>\n",
       "      <td>44:29</td>\n",
       "    </tr>\n",
       "    <tr>\n",
       "      <td>3</td>\n",
       "      <td>2.178844</td>\n",
       "      <td>1.682527</td>\n",
       "      <td>0.614548</td>\n",
       "      <td>44:28</td>\n",
       "    </tr>\n",
       "    <tr>\n",
       "      <td>4</td>\n",
       "      <td>2.179331</td>\n",
       "      <td>1.656303</td>\n",
       "      <td>0.616822</td>\n",
       "      <td>44:26</td>\n",
       "    </tr>\n",
       "  </tbody>\n",
       "</table>"
      ],
      "text/plain": [
       "<IPython.core.display.HTML object>"
      ]
     },
     "metadata": {},
     "output_type": "display_data"
    },
    {
     "data": {
      "text/plain": [
       "Path('models/species1000-vgg16-nobranch-fepochs1-uepochs20.pth')"
      ]
     },
     "execution_count": 20,
     "metadata": {},
     "output_type": "execute_result"
    }
   ],
   "source": [
    "learn.fit(5, slice(1e-6,1e-4))\n",
    "learn.save('species1000-vgg16-nobranch-fepochs1-uepochs20')"
   ]
  },
  {
   "cell_type": "code",
   "execution_count": 21,
   "metadata": {},
   "outputs": [],
   "source": [
    "learn.export('species1000-vgg16-nobranch-fepochs1-uepochs20')"
   ]
  },
  {
   "cell_type": "markdown",
   "metadata": {},
   "source": [
    "## Experimento 11: 1 Rama"
   ]
  },
  {
   "cell_type": "markdown",
   "metadata": {},
   "source": [
    "Creamos el cuerpo (_encoder_) y cabeza del modelo tomando como base VGG-16 con _Batch Normalization_ y con pesos preentrenados."
   ]
  },
  {
   "cell_type": "code",
   "execution_count": 22,
   "metadata": {
    "scrolled": true
   },
   "outputs": [
    {
     "data": {
      "text/plain": [
       "Sequential(\n",
       "  (0): Sequential(\n",
       "    (0): Conv2d(3, 64, kernel_size=(3, 3), stride=(1, 1), padding=(1, 1))\n",
       "    (1): BatchNorm2d(64, eps=1e-05, momentum=0.1, affine=True, track_running_stats=True)\n",
       "    (2): ReLU(inplace=True)\n",
       "    (3): Conv2d(64, 64, kernel_size=(3, 3), stride=(1, 1), padding=(1, 1))\n",
       "    (4): BatchNorm2d(64, eps=1e-05, momentum=0.1, affine=True, track_running_stats=True)\n",
       "    (5): ReLU(inplace=True)\n",
       "    (6): MaxPool2d(kernel_size=2, stride=2, padding=0, dilation=1, ceil_mode=False)\n",
       "    (7): Conv2d(64, 128, kernel_size=(3, 3), stride=(1, 1), padding=(1, 1))\n",
       "    (8): BatchNorm2d(128, eps=1e-05, momentum=0.1, affine=True, track_running_stats=True)\n",
       "    (9): ReLU(inplace=True)\n",
       "    (10): Conv2d(128, 128, kernel_size=(3, 3), stride=(1, 1), padding=(1, 1))\n",
       "    (11): BatchNorm2d(128, eps=1e-05, momentum=0.1, affine=True, track_running_stats=True)\n",
       "    (12): ReLU(inplace=True)\n",
       "    (13): MaxPool2d(kernel_size=2, stride=2, padding=0, dilation=1, ceil_mode=False)\n",
       "    (14): Conv2d(128, 256, kernel_size=(3, 3), stride=(1, 1), padding=(1, 1))\n",
       "    (15): BatchNorm2d(256, eps=1e-05, momentum=0.1, affine=True, track_running_stats=True)\n",
       "    (16): ReLU(inplace=True)\n",
       "    (17): Conv2d(256, 256, kernel_size=(3, 3), stride=(1, 1), padding=(1, 1))\n",
       "    (18): BatchNorm2d(256, eps=1e-05, momentum=0.1, affine=True, track_running_stats=True)\n",
       "    (19): ReLU(inplace=True)\n",
       "    (20): Conv2d(256, 256, kernel_size=(3, 3), stride=(1, 1), padding=(1, 1))\n",
       "    (21): BatchNorm2d(256, eps=1e-05, momentum=0.1, affine=True, track_running_stats=True)\n",
       "    (22): ReLU(inplace=True)\n",
       "    (23): MaxPool2d(kernel_size=2, stride=2, padding=0, dilation=1, ceil_mode=False)\n",
       "    (24): Conv2d(256, 512, kernel_size=(3, 3), stride=(1, 1), padding=(1, 1))\n",
       "    (25): BatchNorm2d(512, eps=1e-05, momentum=0.1, affine=True, track_running_stats=True)\n",
       "    (26): ReLU(inplace=True)\n",
       "    (27): Conv2d(512, 512, kernel_size=(3, 3), stride=(1, 1), padding=(1, 1))\n",
       "    (28): BatchNorm2d(512, eps=1e-05, momentum=0.1, affine=True, track_running_stats=True)\n",
       "    (29): ReLU(inplace=True)\n",
       "    (30): Conv2d(512, 512, kernel_size=(3, 3), stride=(1, 1), padding=(1, 1))\n",
       "    (31): BatchNorm2d(512, eps=1e-05, momentum=0.1, affine=True, track_running_stats=True)\n",
       "    (32): ReLU(inplace=True)\n",
       "    (33): MaxPool2d(kernel_size=2, stride=2, padding=0, dilation=1, ceil_mode=False)\n",
       "    (34): Conv2d(512, 512, kernel_size=(3, 3), stride=(1, 1), padding=(1, 1))\n",
       "    (35): BatchNorm2d(512, eps=1e-05, momentum=0.1, affine=True, track_running_stats=True)\n",
       "    (36): ReLU(inplace=True)\n",
       "    (37): Conv2d(512, 512, kernel_size=(3, 3), stride=(1, 1), padding=(1, 1))\n",
       "    (38): BatchNorm2d(512, eps=1e-05, momentum=0.1, affine=True, track_running_stats=True)\n",
       "    (39): ReLU(inplace=True)\n",
       "    (40): Conv2d(512, 512, kernel_size=(3, 3), stride=(1, 1), padding=(1, 1))\n",
       "    (41): BatchNorm2d(512, eps=1e-05, momentum=0.1, affine=True, track_running_stats=True)\n",
       "    (42): ReLU(inplace=True)\n",
       "    (43): MaxPool2d(kernel_size=2, stride=2, padding=0, dilation=1, ceil_mode=False)\n",
       "  )\n",
       ")"
      ]
     },
     "execution_count": 22,
     "metadata": {},
     "output_type": "execute_result"
    }
   ],
   "source": [
    "model = vgg16_bn\n",
    "body = create_body(model, cut=-2)\n",
    "body"
   ]
  },
  {
   "cell_type": "code",
   "execution_count": 23,
   "metadata": {
    "scrolled": true
   },
   "outputs": [
    {
     "data": {
      "text/plain": [
       "Sequential(\n",
       "  (0): AdaptiveConcatPool2d(\n",
       "    (ap): AdaptiveAvgPool2d(output_size=1)\n",
       "    (mp): AdaptiveMaxPool2d(output_size=1)\n",
       "  )\n",
       "  (1): Flatten(full=False)\n",
       "  (2): BatchNorm1d(1024, eps=1e-05, momentum=0.1, affine=True, track_running_stats=True)\n",
       "  (3): Dropout(p=0.25, inplace=False)\n",
       "  (4): Linear(in_features=1024, out_features=512, bias=False)\n",
       "  (5): ReLU(inplace=True)\n",
       "  (6): BatchNorm1d(512, eps=1e-05, momentum=0.1, affine=True, track_running_stats=True)\n",
       "  (7): Dropout(p=0.5, inplace=False)\n",
       "  (8): Linear(in_features=512, out_features=1000, bias=False)\n",
       ")"
      ]
     },
     "execution_count": 23,
     "metadata": {},
     "output_type": "execute_result"
    }
   ],
   "source": [
    "head = create_head(512*2,dls.c)\n",
    "head"
   ]
  },
  {
   "cell_type": "markdown",
   "metadata": {},
   "source": [
    "Separamos el cuerpo de la arquitectura en los distintos bloques para definir cada uno de ellos y aplicar posteriormente una rama después del bloque 2."
   ]
  },
  {
   "cell_type": "code",
   "execution_count": 24,
   "metadata": {
    "scrolled": true
   },
   "outputs": [],
   "source": [
    "_body = body[0]\n",
    "block1 = _body[:7]\n",
    "block2 = _body[7:14]\n",
    "block3 = _body[14:24]\n",
    "block4 = _body[24:34]\n",
    "block5 = _body[34:]"
   ]
  },
  {
   "cell_type": "markdown",
   "metadata": {},
   "source": [
    "Definimos una función para obtener las etiquetas de cada ejemplo, en este caso: el familia y la especie."
   ]
  },
  {
   "cell_type": "code",
   "execution_count": 25,
   "metadata": {
    "scrolled": true
   },
   "outputs": [],
   "source": [
    "def custom_get_y(o):\n",
    "    fine_label = o['Specie']\n",
    "    coarse1_label = o['Family']\n",
    "    return [coarse1_label, fine_label]"
   ]
  },
  {
   "cell_type": "markdown",
   "metadata": {},
   "source": [
    "Creamos una clase para nuestro modelo que divida el _encoder_ en los distintos bloques y añada una cabeza después del bloque 2 como rama con el número de clases de _Family_. En el método _forward_ establecemos la conexión de los distintos bloques, separando la salida de la rama del flujo normal, para así devolver ambas salidas en forma de diccionario."
   ]
  },
  {
   "cell_type": "code",
   "execution_count": 26,
   "metadata": {
    "scrolled": true
   },
   "outputs": [],
   "source": [
    "class VGGCustomModel(Module):\n",
    "    def __init__(self, encoder, head):\n",
    "        self.encoder = encoder\n",
    "        encoder = encoder[0]\n",
    "        self.block1 = encoder[:7]\n",
    "        self.block2 = encoder[7:14]\n",
    "        self.branch1 = create_head(128*2, len(set(df['Family'])))\n",
    "        self.block3 = encoder[14:24]\n",
    "        self.block4 = encoder[24:34]\n",
    "        self.block5 = encoder[34:]\n",
    "        self.head = head\n",
    "    \n",
    "    def forward(self, x):\n",
    "        x = self.block1(x)\n",
    "        x = self.block2(x)\n",
    "        coarse1_label = self.branch1(x)\n",
    "        x = self.block3(x)\n",
    "        x = self.block4(x)\n",
    "        x = self.block5(x)\n",
    "        fine_label = self.head(x)\n",
    "        return {\n",
    "                'fine_label': fine_label,\n",
    "                'coarse1_label': coarse1_label\n",
    "               }"
   ]
  },
  {
   "cell_type": "markdown",
   "metadata": {},
   "source": [
    "Creamos el modelo con la clase definida pasándole el cuerpo y cabeza."
   ]
  },
  {
   "cell_type": "code",
   "execution_count": 27,
   "metadata": {
    "scrolled": true
   },
   "outputs": [],
   "source": [
    "model = VGGCustomModel(body, head)"
   ]
  },
  {
   "cell_type": "markdown",
   "metadata": {},
   "source": [
    "Como hemos modificado el modelo y la obtención de las clases para usar una salida múltiple, tenemos que modificar el tipo de bloque de categoría a uno que soporte estas salidas. Para ello, definimos una función que obtenga la clase y codifique a categoría cada una."
   ]
  },
  {
   "cell_type": "code",
   "execution_count": 28,
   "metadata": {
    "scrolled": true
   },
   "outputs": [],
   "source": [
    "class CustomCategorize(DisplayedTransform):\n",
    "    \"Reversible transform of category string to `vocab` id\"\n",
    "    loss_func,order=CrossEntropyLossFlat(),1\n",
    "    def __init__(self, vocab=None, vocab_coarse1=None, vocab_coarse2=None, sort=True, add_na=False, num_y=1):\n",
    "        store_attr()\n",
    "        self.vocab = None if vocab is None else CategoryMap(vocab, sort=sort, add_na=add_na)\n",
    "        self.vocab_coarse1 = None if vocab_coarse1 is None else CategoryMap(vocab_coarse1, sort=sort, add_na=add_na)\n",
    "\n",
    "    def setups(self, dsets):\n",
    "        fine_dsets = [d[1] for d in dsets]\n",
    "        coarse1_dsets = [d[0] for d in dsets]\n",
    "        if self.vocab is None and dsets is not None: self.vocab = CategoryMap(fine_dsets, sort=self.sort, add_na=self.add_na)\n",
    "        if self.vocab_coarse1 is None and dsets is not None: self.vocab_coarse1 = CategoryMap(coarse1_dsets, sort=self.sort, add_na=self.add_na)\n",
    "        self.c = len(self.vocab)\n",
    "\n",
    "    def encodes(self, o): return {'fine_label': TensorCategory(self.vocab.o2i[o[1]]),\n",
    "                                  'coarse1_label': TensorCategory(self.vocab_coarse1.o2i[o[0]])\n",
    "                                 }\n",
    "    def decodes(self, o): return Category      (self.vocab    [o])"
   ]
  },
  {
   "cell_type": "code",
   "execution_count": 29,
   "metadata": {
    "scrolled": true
   },
   "outputs": [],
   "source": [
    "def CustomCategoryBlock(vocab=None, sort=True, add_na=False, num_y=1):\n",
    "    \"`TransformBlock` for single-label categorical targets\"\n",
    "    return TransformBlock(type_tfms=CustomCategorize(vocab=vocab, sort=sort, add_na=add_na))"
   ]
  },
  {
   "cell_type": "markdown",
   "metadata": {},
   "source": [
    "Creamos un _splitter_ personalizado con los parámetros de cada bloque y del _head_."
   ]
  },
  {
   "cell_type": "code",
   "execution_count": 30,
   "metadata": {
    "scrolled": true
   },
   "outputs": [],
   "source": [
    "def custom_splitter(model):\n",
    "    return [params(model.block1),\n",
    "            params(model.block2),\n",
    "            params(model.block3),\n",
    "            params(model.block4),\n",
    "            params(model.block5),\n",
    "            params(model.head)]"
   ]
  },
  {
   "cell_type": "markdown",
   "metadata": {},
   "source": [
    "Creamos un _datablock_ con: bloques de tipo imagen y categoría personalizada _CustomCategoryBlock_, un separador por columna, la _x_ con la columna que contienen la ruta de las imágenes, la _y_ con la función personalizada, una transformación para hacer un recorte aleatorio dejando un tamaño común de 336x336, y las transformaciones de aumento de datos por defecto."
   ]
  },
  {
   "cell_type": "code",
   "execution_count": 31,
   "metadata": {
    "scrolled": true
   },
   "outputs": [],
   "source": [
    "fishes = DataBlock(blocks = (ImageBlock, CustomCategoryBlock),\n",
    "                 splitter=ColSplitter(),\n",
    "                 get_x = ColReader(5, pref=path),\n",
    "                 get_y=custom_get_y,\n",
    "                 item_tfms=RandomResizedCrop(336, min_scale=0.5),\n",
    "                 batch_tfms=aug_transforms())\n",
    "dls = fishes.dataloaders(df)"
   ]
  },
  {
   "cell_type": "markdown",
   "metadata": {},
   "source": [
    "Mostramos los _dataloaders_ generados con el _datablock_."
   ]
  },
  {
   "cell_type": "code",
   "execution_count": 32,
   "metadata": {
    "scrolled": true
   },
   "outputs": [
    {
     "data": {
      "text/plain": [
       "((#337741) [(PILImage mode=RGB size=768x1024, {'fine_label': TensorCategory(531), 'coarse1_label': TensorCategory(25)}),(PILImage mode=RGB size=1024x738, {'fine_label': TensorCategory(776), 'coarse1_label': TensorCategory(25)}),(PILImage mode=RGB size=768x1024, {'fine_label': TensorCategory(538), 'coarse1_label': TensorCategory(25)}),(PILImage mode=RGB size=768x1024, {'fine_label': TensorCategory(837), 'coarse1_label': TensorCategory(41)}),(PILImage mode=RGB size=1024x786, {'fine_label': TensorCategory(32), 'coarse1_label': TensorCategory(0)}),(PILImage mode=RGB size=1024x683, {'fine_label': TensorCategory(145), 'coarse1_label': TensorCategory(109)}),(PILImage mode=RGB size=768x1024, {'fine_label': TensorCategory(827), 'coarse1_label': TensorCategory(108)}),(PILImage mode=RGB size=1024x697, {'fine_label': TensorCategory(792), 'coarse1_label': TensorCategory(100)}),(PILImage mode=RGB size=1024x768, {'fine_label': TensorCategory(784), 'coarse1_label': TensorCategory(9)}),(PILImage mode=RGB size=1024x768, {'fine_label': TensorCategory(522), 'coarse1_label': TensorCategory(121)})...],\n",
       " (#84436) [(PILImage mode=RGB size=576x1024, {'fine_label': TensorCategory(826), 'coarse1_label': TensorCategory(108)}),(PILImage mode=RGB size=512x320, {'fine_label': TensorCategory(296), 'coarse1_label': TensorCategory(0)}),(PILImage mode=RGB size=1024x768, {'fine_label': TensorCategory(283), 'coarse1_label': TensorCategory(71)}),(PILImage mode=RGB size=1024x683, {'fine_label': TensorCategory(223), 'coarse1_label': TensorCategory(71)}),(PILImage mode=RGB size=1024x683, {'fine_label': TensorCategory(333), 'coarse1_label': TensorCategory(121)}),(PILImage mode=RGB size=1024x768, {'fine_label': TensorCategory(272), 'coarse1_label': TensorCategory(41)}),(PILImage mode=RGB size=1024x576, {'fine_label': TensorCategory(163), 'coarse1_label': TensorCategory(23)}),(PILImage mode=RGB size=1024x768, {'fine_label': TensorCategory(827), 'coarse1_label': TensorCategory(108)}),(PILImage mode=RGB size=1024x768, {'fine_label': TensorCategory(868), 'coarse1_label': TensorCategory(113)}),(PILImage mode=RGB size=768x1024, {'fine_label': TensorCategory(816), 'coarse1_label': TensorCategory(41)})...])"
      ]
     },
     "execution_count": 32,
     "metadata": {},
     "output_type": "execute_result"
    }
   ],
   "source": [
    "dls.train_ds, dls.valid_ds"
   ]
  },
  {
   "cell_type": "markdown",
   "metadata": {},
   "source": [
    "Mostramos las clases finas y las categóricas de nuestros dataloaders."
   ]
  },
  {
   "cell_type": "code",
   "execution_count": 33,
   "metadata": {
    "scrolled": false
   },
   "outputs": [
    {
     "data": {
      "text/plain": [
       "((#1000) ['Abramis brama','Abudefduf abdominalis','Abudefduf bengalensis','Abudefduf saxatilis','Abudefduf septemfasciatus','Abudefduf sexfasciatus','Abudefduf sordidus','Abudefduf troschelii','Abudefduf vaigiensis','Acanthaluteres vittiger'...],\n",
       " (#135) ['Acanthuridae','Achiridae','Acipenseridae','Amiidae','Ammodytidae','Anguillidae','Antennariidae','Aphredoderidae','Aplodactylidae','Apogonidae'...])"
      ]
     },
     "execution_count": 33,
     "metadata": {},
     "output_type": "execute_result"
    }
   ],
   "source": [
    "dls.vocab, dls.vocab_coarse1"
   ]
  },
  {
   "cell_type": "markdown",
   "metadata": {},
   "source": [
    "Creamos el tensor con los pesos por clase y lo pasamos a GPU para poder usarlo durante el entrenamiento."
   ]
  },
  {
   "cell_type": "code",
   "execution_count": 34,
   "metadata": {},
   "outputs": [],
   "source": [
    "weights = tensor([float(weights_df[weights_df['Specie']==c]['Weight']) for c in dls.vocab]).cuda()\n",
    "weights_family = tensor([float(weights_family_df[weights_family_df['Family']==c]['Weight']) for c in dls.vocab_coarse1]).cuda()"
   ]
  },
  {
   "cell_type": "markdown",
   "metadata": {},
   "source": [
    "Defimos nuestra función de pérdida como el sumatorio de la pérdida en entropía cruzada de las dos salidas."
   ]
  },
  {
   "cell_type": "code",
   "execution_count": 35,
   "metadata": {
    "scrolled": true
   },
   "outputs": [],
   "source": [
    "def loss_func(out, targ):\n",
    "    return nn.CrossEntropyLoss(weight=weights)(out['fine_label'], targ['fine_label']) + \\\n",
    "            nn.CrossEntropyLoss(weight=weights_family)(out['coarse1_label'], targ['coarse1_label'])"
   ]
  },
  {
   "cell_type": "markdown",
   "metadata": {},
   "source": [
    "Defimos la función de accuracy con la etiqueta fina, ya que es el resultado final que nos interesa. Además, esta etiqueta fue la que se usó para definir las particiones estratificadas, por lo que es la única que se debería tener en cuenta si queremos resultados más fiables."
   ]
  },
  {
   "cell_type": "code",
   "execution_count": 36,
   "metadata": {
    "scrolled": true
   },
   "outputs": [],
   "source": [
    "def custom_accuracy(inp, targ, axis=-1):\n",
    "    pred1,targ1 = flatten_check(inp['fine_label'].argmax(dim=axis), targ['fine_label'])\n",
    "    acc1 = (pred1 == targ1).float().mean()\n",
    "    return acc1"
   ]
  },
  {
   "cell_type": "markdown",
   "metadata": {},
   "source": [
    "Creamos nuestro objeto _Learner_ con los _dataloaders_, la función de pérdida _loss_func_ creada, la métrica exactitud y el _splitter_ creado. Además, congelamos nuestro modelo para ajustar primero los pesos preentrenados a nuestras clases."
   ]
  },
  {
   "cell_type": "code",
   "execution_count": 27,
   "metadata": {
    "scrolled": true
   },
   "outputs": [],
   "source": [
    "learn = Learner(dls, model, loss_func=loss_func, metrics=custom_accuracy,\n",
    "                   splitter=custom_splitter).to_fp16()\n",
    "learn.freeze()"
   ]
  },
  {
   "cell_type": "markdown",
   "metadata": {},
   "source": [
    "Mostramos un resumen de nuestro modelo."
   ]
  },
  {
   "cell_type": "code",
   "execution_count": 28,
   "metadata": {
    "scrolled": true
   },
   "outputs": [
    {
     "data": {
      "text/html": [
       "<table border=\"1\" class=\"dataframe\">\n",
       "  <thead>\n",
       "    <tr style=\"text-align: left;\">\n",
       "      <th>epoch</th>\n",
       "      <th>train_loss</th>\n",
       "      <th>valid_loss</th>\n",
       "      <th>custom_accuracy</th>\n",
       "      <th>time</th>\n",
       "    </tr>\n",
       "  </thead>\n",
       "  <tbody>\n",
       "    <tr>\n",
       "      <td>0</td>\n",
       "      <td>None</td>\n",
       "      <td>None</td>\n",
       "      <td>00:00</td>\n",
       "    </tr>\n",
       "  </tbody>\n",
       "</table>"
      ],
      "text/plain": [
       "<IPython.core.display.HTML object>"
      ]
     },
     "metadata": {},
     "output_type": "display_data"
    },
    {
     "data": {
      "text/plain": [
       "VGGCustomModel (Input shape: ['64 x 3 x 336 x 336'])\n",
       "================================================================\n",
       "Layer (type)         Output Shape         Param #    Trainable \n",
       "================================================================\n",
       "Conv2d               64 x 64 x 336 x 336  1,792      False     \n",
       "________________________________________________________________\n",
       "BatchNorm2d          64 x 64 x 336 x 336  128        True      \n",
       "________________________________________________________________\n",
       "ReLU                 64 x 64 x 336 x 336  0          False     \n",
       "________________________________________________________________\n",
       "Conv2d               64 x 64 x 336 x 336  36,928     False     \n",
       "________________________________________________________________\n",
       "BatchNorm2d          64 x 64 x 336 x 336  128        True      \n",
       "________________________________________________________________\n",
       "ReLU                 64 x 64 x 336 x 336  0          False     \n",
       "________________________________________________________________\n",
       "MaxPool2d            64 x 64 x 168 x 168  0          False     \n",
       "________________________________________________________________\n",
       "Conv2d               64 x 128 x 168 x 16  73,856     False     \n",
       "________________________________________________________________\n",
       "BatchNorm2d          64 x 128 x 168 x 16  256        True      \n",
       "________________________________________________________________\n",
       "ReLU                 64 x 128 x 168 x 16  0          False     \n",
       "________________________________________________________________\n",
       "Conv2d               64 x 128 x 168 x 16  147,584    False     \n",
       "________________________________________________________________\n",
       "BatchNorm2d          64 x 128 x 168 x 16  256        True      \n",
       "________________________________________________________________\n",
       "ReLU                 64 x 128 x 168 x 16  0          False     \n",
       "________________________________________________________________\n",
       "MaxPool2d            64 x 128 x 84 x 84   0          False     \n",
       "________________________________________________________________\n",
       "Conv2d               64 x 256 x 84 x 84   295,168    False     \n",
       "________________________________________________________________\n",
       "BatchNorm2d          64 x 256 x 84 x 84   512        True      \n",
       "________________________________________________________________\n",
       "ReLU                 64 x 256 x 84 x 84   0          False     \n",
       "________________________________________________________________\n",
       "Conv2d               64 x 256 x 84 x 84   590,080    False     \n",
       "________________________________________________________________\n",
       "BatchNorm2d          64 x 256 x 84 x 84   512        True      \n",
       "________________________________________________________________\n",
       "ReLU                 64 x 256 x 84 x 84   0          False     \n",
       "________________________________________________________________\n",
       "Conv2d               64 x 256 x 84 x 84   590,080    False     \n",
       "________________________________________________________________\n",
       "BatchNorm2d          64 x 256 x 84 x 84   512        True      \n",
       "________________________________________________________________\n",
       "ReLU                 64 x 256 x 84 x 84   0          False     \n",
       "________________________________________________________________\n",
       "MaxPool2d            64 x 256 x 42 x 42   0          False     \n",
       "________________________________________________________________\n",
       "Conv2d               64 x 512 x 42 x 42   1,180,160  False     \n",
       "________________________________________________________________\n",
       "BatchNorm2d          64 x 512 x 42 x 42   1,024      True      \n",
       "________________________________________________________________\n",
       "ReLU                 64 x 512 x 42 x 42   0          False     \n",
       "________________________________________________________________\n",
       "Conv2d               64 x 512 x 42 x 42   2,359,808  False     \n",
       "________________________________________________________________\n",
       "BatchNorm2d          64 x 512 x 42 x 42   1,024      True      \n",
       "________________________________________________________________\n",
       "ReLU                 64 x 512 x 42 x 42   0          False     \n",
       "________________________________________________________________\n",
       "Conv2d               64 x 512 x 42 x 42   2,359,808  False     \n",
       "________________________________________________________________\n",
       "BatchNorm2d          64 x 512 x 42 x 42   1,024      True      \n",
       "________________________________________________________________\n",
       "ReLU                 64 x 512 x 42 x 42   0          False     \n",
       "________________________________________________________________\n",
       "MaxPool2d            64 x 512 x 21 x 21   0          False     \n",
       "________________________________________________________________\n",
       "Conv2d               64 x 512 x 21 x 21   2,359,808  False     \n",
       "________________________________________________________________\n",
       "BatchNorm2d          64 x 512 x 21 x 21   1,024      True      \n",
       "________________________________________________________________\n",
       "ReLU                 64 x 512 x 21 x 21   0          False     \n",
       "________________________________________________________________\n",
       "Conv2d               64 x 512 x 21 x 21   2,359,808  False     \n",
       "________________________________________________________________\n",
       "BatchNorm2d          64 x 512 x 21 x 21   1,024      True      \n",
       "________________________________________________________________\n",
       "ReLU                 64 x 512 x 21 x 21   0          False     \n",
       "________________________________________________________________\n",
       "Conv2d               64 x 512 x 21 x 21   2,359,808  False     \n",
       "________________________________________________________________\n",
       "BatchNorm2d          64 x 512 x 21 x 21   1,024      True      \n",
       "________________________________________________________________\n",
       "ReLU                 64 x 512 x 21 x 21   0          False     \n",
       "________________________________________________________________\n",
       "MaxPool2d            64 x 512 x 10 x 10   0          False     \n",
       "________________________________________________________________\n",
       "Conv2d               64 x 64 x 336 x 336  1,792      False     \n",
       "________________________________________________________________\n",
       "BatchNorm2d          64 x 64 x 336 x 336  128        True      \n",
       "________________________________________________________________\n",
       "ReLU                 64 x 64 x 336 x 336  0          False     \n",
       "________________________________________________________________\n",
       "Conv2d               64 x 64 x 336 x 336  36,928     False     \n",
       "________________________________________________________________\n",
       "BatchNorm2d          64 x 64 x 336 x 336  128        True      \n",
       "________________________________________________________________\n",
       "ReLU                 64 x 64 x 336 x 336  0          False     \n",
       "________________________________________________________________\n",
       "MaxPool2d            64 x 64 x 168 x 168  0          False     \n",
       "________________________________________________________________\n",
       "Conv2d               64 x 128 x 168 x 16  73,856     False     \n",
       "________________________________________________________________\n",
       "BatchNorm2d          64 x 128 x 168 x 16  256        True      \n",
       "________________________________________________________________\n",
       "ReLU                 64 x 128 x 168 x 16  0          False     \n",
       "________________________________________________________________\n",
       "Conv2d               64 x 128 x 168 x 16  147,584    False     \n",
       "________________________________________________________________\n",
       "BatchNorm2d          64 x 128 x 168 x 16  256        True      \n",
       "________________________________________________________________\n",
       "ReLU                 64 x 128 x 168 x 16  0          False     \n",
       "________________________________________________________________\n",
       "MaxPool2d            64 x 128 x 84 x 84   0          False     \n",
       "________________________________________________________________\n",
       "Conv2d               64 x 256 x 84 x 84   295,168    False     \n",
       "________________________________________________________________\n",
       "BatchNorm2d          64 x 256 x 84 x 84   512        True      \n",
       "________________________________________________________________\n",
       "ReLU                 64 x 256 x 84 x 84   0          False     \n",
       "________________________________________________________________\n",
       "Conv2d               64 x 256 x 84 x 84   590,080    False     \n",
       "________________________________________________________________\n",
       "BatchNorm2d          64 x 256 x 84 x 84   512        True      \n",
       "________________________________________________________________\n",
       "ReLU                 64 x 256 x 84 x 84   0          False     \n",
       "________________________________________________________________\n",
       "Conv2d               64 x 256 x 84 x 84   590,080    False     \n",
       "________________________________________________________________\n",
       "BatchNorm2d          64 x 256 x 84 x 84   512        True      \n",
       "________________________________________________________________\n",
       "ReLU                 64 x 256 x 84 x 84   0          False     \n",
       "________________________________________________________________\n",
       "MaxPool2d            64 x 256 x 42 x 42   0          False     \n",
       "________________________________________________________________\n",
       "AdaptiveAvgPool2d    64 x 256 x 1 x 1     0          False     \n",
       "________________________________________________________________\n",
       "AdaptiveMaxPool2d    64 x 256 x 1 x 1     0          False     \n",
       "________________________________________________________________\n",
       "Flatten              64 x 512             0          False     \n",
       "________________________________________________________________\n",
       "BatchNorm1d          64 x 512             1,024      True      \n",
       "________________________________________________________________\n",
       "Dropout              64 x 512             0          False     \n",
       "________________________________________________________________\n",
       "Linear               64 x 512             262,144    True      \n",
       "________________________________________________________________\n",
       "ReLU                 64 x 512             0          False     \n",
       "________________________________________________________________\n",
       "BatchNorm1d          64 x 512             1,024      True      \n",
       "________________________________________________________________\n",
       "Dropout              64 x 512             0          False     \n",
       "________________________________________________________________\n",
       "Linear               64 x 135             69,120     True      \n",
       "________________________________________________________________\n",
       "Conv2d               64 x 512 x 42 x 42   1,180,160  False     \n",
       "________________________________________________________________\n",
       "BatchNorm2d          64 x 512 x 42 x 42   1,024      True      \n",
       "________________________________________________________________\n",
       "ReLU                 64 x 512 x 42 x 42   0          False     \n",
       "________________________________________________________________\n",
       "Conv2d               64 x 512 x 42 x 42   2,359,808  False     \n",
       "________________________________________________________________\n",
       "BatchNorm2d          64 x 512 x 42 x 42   1,024      True      \n",
       "________________________________________________________________\n",
       "ReLU                 64 x 512 x 42 x 42   0          False     \n",
       "________________________________________________________________\n",
       "Conv2d               64 x 512 x 42 x 42   2,359,808  False     \n",
       "________________________________________________________________\n",
       "BatchNorm2d          64 x 512 x 42 x 42   1,024      True      \n",
       "________________________________________________________________\n",
       "ReLU                 64 x 512 x 42 x 42   0          False     \n",
       "________________________________________________________________\n",
       "MaxPool2d            64 x 512 x 21 x 21   0          False     \n",
       "________________________________________________________________\n",
       "Conv2d               64 x 512 x 21 x 21   2,359,808  False     \n",
       "________________________________________________________________\n",
       "BatchNorm2d          64 x 512 x 21 x 21   1,024      True      \n",
       "________________________________________________________________\n",
       "ReLU                 64 x 512 x 21 x 21   0          False     \n",
       "________________________________________________________________\n",
       "Conv2d               64 x 512 x 21 x 21   2,359,808  False     \n",
       "________________________________________________________________\n",
       "BatchNorm2d          64 x 512 x 21 x 21   1,024      True      \n",
       "________________________________________________________________\n",
       "ReLU                 64 x 512 x 21 x 21   0          False     \n",
       "________________________________________________________________\n",
       "Conv2d               64 x 512 x 21 x 21   2,359,808  False     \n",
       "________________________________________________________________\n",
       "BatchNorm2d          64 x 512 x 21 x 21   1,024      True      \n",
       "________________________________________________________________\n",
       "ReLU                 64 x 512 x 21 x 21   0          False     \n",
       "________________________________________________________________\n",
       "MaxPool2d            64 x 512 x 10 x 10   0          False     \n",
       "________________________________________________________________\n",
       "AdaptiveAvgPool2d    64 x 512 x 1 x 1     0          False     \n",
       "________________________________________________________________\n",
       "AdaptiveMaxPool2d    64 x 512 x 1 x 1     0          False     \n",
       "________________________________________________________________\n",
       "Flatten              64 x 1024            0          False     \n",
       "________________________________________________________________\n",
       "BatchNorm1d          64 x 1024            2,048      True      \n",
       "________________________________________________________________\n",
       "Dropout              64 x 1024            0          False     \n",
       "________________________________________________________________\n",
       "Linear               64 x 512             524,288    True      \n",
       "________________________________________________________________\n",
       "ReLU                 64 x 512             0          False     \n",
       "________________________________________________________________\n",
       "BatchNorm1d          64 x 512             1,024      True      \n",
       "________________________________________________________________\n",
       "Dropout              64 x 512             0          False     \n",
       "________________________________________________________________\n",
       "Linear               64 x 1000            512,000    True      \n",
       "________________________________________________________________\n",
       "\n",
       "Total params: 30,818,944\n",
       "Total trainable params: 1,389,568\n",
       "Total non-trainable params: 29,429,376\n",
       "\n",
       "Optimizer used: <function Adam at 0x7fe53602d670>\n",
       "Loss function: <function loss_func at 0x7fe5181fe280>\n",
       "\n",
       "Model frozen up to parameter group #5\n",
       "\n",
       "Callbacks:\n",
       "  - ModelToHalf\n",
       "  - TrainEvalCallback\n",
       "  - Recorder\n",
       "  - ProgressCallback\n",
       "  - MixedPrecision"
      ]
     },
     "execution_count": 28,
     "metadata": {},
     "output_type": "execute_result"
    }
   ],
   "source": [
    "learn.summary()"
   ]
  },
  {
   "cell_type": "markdown",
   "metadata": {},
   "source": [
    "Entrenamos el modelo congelado para ajustar los pesos de las últimas capas a nuestras clases, y descongelamos el modelo."
   ]
  },
  {
   "cell_type": "code",
   "execution_count": 29,
   "metadata": {
    "scrolled": true
   },
   "outputs": [
    {
     "data": {
      "text/html": [
       "<table border=\"1\" class=\"dataframe\">\n",
       "  <thead>\n",
       "    <tr style=\"text-align: left;\">\n",
       "      <th>epoch</th>\n",
       "      <th>train_loss</th>\n",
       "      <th>valid_loss</th>\n",
       "      <th>custom_accuracy</th>\n",
       "      <th>time</th>\n",
       "    </tr>\n",
       "  </thead>\n",
       "  <tbody>\n",
       "    <tr>\n",
       "      <td>0</td>\n",
       "      <td>8.952939</td>\n",
       "      <td>7.935008</td>\n",
       "      <td>0.372341</td>\n",
       "      <td>36:49</td>\n",
       "    </tr>\n",
       "  </tbody>\n",
       "</table>"
      ],
      "text/plain": [
       "<IPython.core.display.HTML object>"
      ]
     },
     "metadata": {},
     "output_type": "display_data"
    },
    {
     "data": {
      "text/plain": [
       "Path('models/species1000-vgg16-branch1-fepochs1-uepochs0.pth')"
      ]
     },
     "execution_count": 29,
     "metadata": {},
     "output_type": "execute_result"
    }
   ],
   "source": [
    "learn.fit(1, 3e-3)\n",
    "learn.save('species1000-vgg16-branch1-fepochs1-uepochs0')"
   ]
  },
  {
   "cell_type": "code",
   "execution_count": 30,
   "metadata": {},
   "outputs": [],
   "source": [
    "learn.unfreeze()"
   ]
  },
  {
   "cell_type": "markdown",
   "metadata": {},
   "source": [
    "Buscamos el factor de aprendizaje más adecuado con lr_find."
   ]
  },
  {
   "cell_type": "code",
   "execution_count": 31,
   "metadata": {},
   "outputs": [
    {
     "data": {
      "text/html": [],
      "text/plain": [
       "<IPython.core.display.HTML object>"
      ]
     },
     "metadata": {},
     "output_type": "display_data"
    },
    {
     "data": {
      "text/plain": [
       "SuggestedLRs(lr_min=1.584893179824576e-05, lr_steep=1.9054607491852948e-06)"
      ]
     },
     "execution_count": 31,
     "metadata": {},
     "output_type": "execute_result"
    },
    {
     "data": {
      "image/png": "[encoded data removed]",
      "text/plain": [
       "<Figure size 432x288 with 1 Axes>"
      ]
     },
     "metadata": {
      "needs_background": "light"
     },
     "output_type": "display_data"
    }
   ],
   "source": [
    "learn.lr_find()"
   ]
  },
  {
   "cell_type": "markdown",
   "metadata": {},
   "source": [
    "Defimos una función para continuar el aprendizaje con los pesos guardados."
   ]
  },
  {
   "cell_type": "code",
   "execution_count": 37,
   "metadata": {},
   "outputs": [],
   "source": [
    "def continue_training(pth_filename):\n",
    "    learn = Learner(dls, model, loss_func=loss_func, metrics=custom_accuracy,\n",
    "                   splitter=custom_splitter).to_fp16()\n",
    "    learn.load(pth_filename)\n",
    "    learn.unfreeze()\n",
    "    return learn"
   ]
  },
  {
   "cell_type": "markdown",
   "metadata": {},
   "source": [
    "Entrenamos durante 20 épocas con el factor de aprendizaje máximo adecuado según la visualización del buscador de factores de aprendizaje, guardando los pesos del entrenamiento en cada 5 épocas."
   ]
  },
  {
   "cell_type": "code",
   "execution_count": 32,
   "metadata": {},
   "outputs": [
    {
     "data": {
      "text/html": [
       "<table border=\"1\" class=\"dataframe\">\n",
       "  <thead>\n",
       "    <tr style=\"text-align: left;\">\n",
       "      <th>epoch</th>\n",
       "      <th>train_loss</th>\n",
       "      <th>valid_loss</th>\n",
       "      <th>custom_accuracy</th>\n",
       "      <th>time</th>\n",
       "    </tr>\n",
       "  </thead>\n",
       "  <tbody>\n",
       "    <tr>\n",
       "      <td>0</td>\n",
       "      <td>7.846222</td>\n",
       "      <td>6.998443</td>\n",
       "      <td>0.520963</td>\n",
       "      <td>43:46</td>\n",
       "    </tr>\n",
       "    <tr>\n",
       "      <td>1</td>\n",
       "      <td>7.522415</td>\n",
       "      <td>6.695027</td>\n",
       "      <td>0.559110</td>\n",
       "      <td>43:48</td>\n",
       "    </tr>\n",
       "    <tr>\n",
       "      <td>2</td>\n",
       "      <td>7.257742</td>\n",
       "      <td>6.503053</td>\n",
       "      <td>0.590459</td>\n",
       "      <td>43:50</td>\n",
       "    </tr>\n",
       "    <tr>\n",
       "      <td>3</td>\n",
       "      <td>7.030668</td>\n",
       "      <td>6.361246</td>\n",
       "      <td>0.602314</td>\n",
       "      <td>43:49</td>\n",
       "    </tr>\n",
       "    <tr>\n",
       "      <td>4</td>\n",
       "      <td>6.884535</td>\n",
       "      <td>6.243983</td>\n",
       "      <td>0.614773</td>\n",
       "      <td>43:49</td>\n",
       "    </tr>\n",
       "  </tbody>\n",
       "</table>"
      ],
      "text/plain": [
       "<IPython.core.display.HTML object>"
      ]
     },
     "metadata": {},
     "output_type": "display_data"
    },
    {
     "data": {
      "text/plain": [
       "Path('models/species1000-vgg16-branch1-fepochs1-uepochs5.pth')"
      ]
     },
     "execution_count": 32,
     "metadata": {},
     "output_type": "execute_result"
    }
   ],
   "source": [
    "learn.fit(5, slice(1e-6,1e-4))\n",
    "learn.save('species1000-vgg16-branch1-fepochs1-uepochs5')"
   ]
  },
  {
   "cell_type": "code",
   "execution_count": 33,
   "metadata": {
    "scrolled": true
   },
   "outputs": [
    {
     "data": {
      "text/html": [
       "<table border=\"1\" class=\"dataframe\">\n",
       "  <thead>\n",
       "    <tr style=\"text-align: left;\">\n",
       "      <th>epoch</th>\n",
       "      <th>train_loss</th>\n",
       "      <th>valid_loss</th>\n",
       "      <th>custom_accuracy</th>\n",
       "      <th>time</th>\n",
       "    </tr>\n",
       "  </thead>\n",
       "  <tbody>\n",
       "    <tr>\n",
       "      <td>0</td>\n",
       "      <td>6.834618</td>\n",
       "      <td>6.154070</td>\n",
       "      <td>0.628831</td>\n",
       "      <td>43:50</td>\n",
       "    </tr>\n",
       "    <tr>\n",
       "      <td>1</td>\n",
       "      <td>6.764784</td>\n",
       "      <td>6.074899</td>\n",
       "      <td>0.639336</td>\n",
       "      <td>43:51</td>\n",
       "    </tr>\n",
       "    <tr>\n",
       "      <td>2</td>\n",
       "      <td>6.686830</td>\n",
       "      <td>6.010394</td>\n",
       "      <td>0.646928</td>\n",
       "      <td>43:50</td>\n",
       "    </tr>\n",
       "    <tr>\n",
       "      <td>3</td>\n",
       "      <td>6.524913</td>\n",
       "      <td>5.953050</td>\n",
       "      <td>0.653904</td>\n",
       "      <td>43:52</td>\n",
       "    </tr>\n",
       "    <tr>\n",
       "      <td>4</td>\n",
       "      <td>6.459052</td>\n",
       "      <td>5.903843</td>\n",
       "      <td>0.656935</td>\n",
       "      <td>43:51</td>\n",
       "    </tr>\n",
       "  </tbody>\n",
       "</table>"
      ],
      "text/plain": [
       "<IPython.core.display.HTML object>"
      ]
     },
     "metadata": {},
     "output_type": "display_data"
    },
    {
     "data": {
      "text/plain": [
       "Path('models/species1000-vgg16-branch1-fepochs1-uepochs10.pth')"
      ]
     },
     "execution_count": 33,
     "metadata": {},
     "output_type": "execute_result"
    }
   ],
   "source": [
    "learn.fit(5, slice(1e-6,1e-4))\n",
    "learn.save('species1000-vgg16-branch1-fepochs1-uepochs10')"
   ]
  },
  {
   "cell_type": "code",
   "execution_count": 34,
   "metadata": {
    "scrolled": true
   },
   "outputs": [
    {
     "data": {
      "text/html": [
       "<table border=\"1\" class=\"dataframe\">\n",
       "  <thead>\n",
       "    <tr style=\"text-align: left;\">\n",
       "      <th>epoch</th>\n",
       "      <th>train_loss</th>\n",
       "      <th>valid_loss</th>\n",
       "      <th>custom_accuracy</th>\n",
       "      <th>time</th>\n",
       "    </tr>\n",
       "  </thead>\n",
       "  <tbody>\n",
       "    <tr>\n",
       "      <td>0</td>\n",
       "      <td>6.362367</td>\n",
       "      <td>5.848131</td>\n",
       "      <td>0.666173</td>\n",
       "      <td>43:51</td>\n",
       "    </tr>\n",
       "    <tr>\n",
       "      <td>1</td>\n",
       "      <td>6.466002</td>\n",
       "      <td>5.808759</td>\n",
       "      <td>0.668613</td>\n",
       "      <td>43:52</td>\n",
       "    </tr>\n",
       "    <tr>\n",
       "      <td>2</td>\n",
       "      <td>6.309824</td>\n",
       "      <td>5.772195</td>\n",
       "      <td>0.674416</td>\n",
       "      <td>43:52</td>\n",
       "    </tr>\n",
       "    <tr>\n",
       "      <td>3</td>\n",
       "      <td>6.213349</td>\n",
       "      <td>5.755435</td>\n",
       "      <td>0.676868</td>\n",
       "      <td>43:53</td>\n",
       "    </tr>\n",
       "    <tr>\n",
       "      <td>4</td>\n",
       "      <td>6.160876</td>\n",
       "      <td>5.711276</td>\n",
       "      <td>0.685430</td>\n",
       "      <td>43:55</td>\n",
       "    </tr>\n",
       "  </tbody>\n",
       "</table>"
      ],
      "text/plain": [
       "<IPython.core.display.HTML object>"
      ]
     },
     "metadata": {},
     "output_type": "display_data"
    },
    {
     "data": {
      "text/plain": [
       "Path('models/species1000-vgg16-branch1-fepochs1-uepochs15.pth')"
      ]
     },
     "execution_count": 34,
     "metadata": {},
     "output_type": "execute_result"
    }
   ],
   "source": [
    "learn.fit(5, slice(1e-6,1e-4))\n",
    "learn.save('species1000-vgg16-branch1-fepochs1-uepochs15')"
   ]
  },
  {
   "cell_type": "code",
   "execution_count": 35,
   "metadata": {
    "scrolled": true
   },
   "outputs": [],
   "source": [
    "learn.export('species1000-vgg16-branch1-fepochs1-uepochs15')"
   ]
  },
  {
   "cell_type": "code",
   "execution_count": 38,
   "metadata": {},
   "outputs": [],
   "source": [
    "learn = continue_training('species1000-vgg16-branch1-fepochs1-uepochs15')"
   ]
  },
  {
   "cell_type": "code",
   "execution_count": 39,
   "metadata": {},
   "outputs": [
    {
     "data": {
      "text/html": [
       "<table border=\"1\" class=\"dataframe\">\n",
       "  <thead>\n",
       "    <tr style=\"text-align: left;\">\n",
       "      <th>epoch</th>\n",
       "      <th>train_loss</th>\n",
       "      <th>valid_loss</th>\n",
       "      <th>custom_accuracy</th>\n",
       "      <th>time</th>\n",
       "    </tr>\n",
       "  </thead>\n",
       "  <tbody>\n",
       "    <tr>\n",
       "      <td>0</td>\n",
       "      <td>6.145529</td>\n",
       "      <td>5.685432</td>\n",
       "      <td>0.688166</td>\n",
       "      <td>44:42</td>\n",
       "    </tr>\n",
       "    <tr>\n",
       "      <td>1</td>\n",
       "      <td>6.018538</td>\n",
       "      <td>5.662272</td>\n",
       "      <td>0.686117</td>\n",
       "      <td>44:41</td>\n",
       "    </tr>\n",
       "    <tr>\n",
       "      <td>2</td>\n",
       "      <td>6.038991</td>\n",
       "      <td>5.634636</td>\n",
       "      <td>0.692169</td>\n",
       "      <td>44:42</td>\n",
       "    </tr>\n",
       "    <tr>\n",
       "      <td>3</td>\n",
       "      <td>5.927639</td>\n",
       "      <td>5.618183</td>\n",
       "      <td>0.689173</td>\n",
       "      <td>44:45</td>\n",
       "    </tr>\n",
       "    <tr>\n",
       "      <td>4</td>\n",
       "      <td>5.975888</td>\n",
       "      <td>5.580644</td>\n",
       "      <td>0.697807</td>\n",
       "      <td>44:52</td>\n",
       "    </tr>\n",
       "  </tbody>\n",
       "</table>"
      ],
      "text/plain": [
       "<IPython.core.display.HTML object>"
      ]
     },
     "metadata": {},
     "output_type": "display_data"
    },
    {
     "data": {
      "text/plain": [
       "Path('models/species1000-vgg16-branch1-fepochs1-uepochs20.pth')"
      ]
     },
     "execution_count": 39,
     "metadata": {},
     "output_type": "execute_result"
    }
   ],
   "source": [
    "learn.fit(5, slice(1e-6,1e-4))\n",
    "learn.save('species1000-vgg16-branch1-fepochs1-uepochs20')"
   ]
  },
  {
   "cell_type": "code",
   "execution_count": 40,
   "metadata": {},
   "outputs": [],
   "source": [
    "learn.export('species1000-vgg16-branch1-fepochs1-uepochs20')"
   ]
  },
  {
   "cell_type": "markdown",
   "metadata": {},
   "source": [
    "## Experimento 12: 2 Ramas (familia y orden)"
   ]
  },
  {
   "cell_type": "markdown",
   "metadata": {},
   "source": [
    "Creamos el cuerpo (_encoder_) y cabeza del modelo tomando como base VGG-16 con _Batch Normalization_ y con pesos preentrenados."
   ]
  },
  {
   "cell_type": "code",
   "execution_count": 11,
   "metadata": {
    "scrolled": true
   },
   "outputs": [],
   "source": [
    "model = vgg16_bn\n",
    "body = create_body(model, cut=-2)\n",
    "head = create_head(512*2,dls.c)"
   ]
  },
  {
   "cell_type": "markdown",
   "metadata": {},
   "source": [
    "Separamos el cuerpo de la arquitectura en los distintos bloques para definir cada uno de ellos y aplicar posteriormente una rama después del bloque 2 y 3."
   ]
  },
  {
   "cell_type": "code",
   "execution_count": 12,
   "metadata": {},
   "outputs": [],
   "source": [
    "_body = body[0]\n",
    "block1 = _body[:7]\n",
    "block2 = _body[7:14]\n",
    "block3 = _body[14:24]\n",
    "block4 = _body[24:34]\n",
    "block5 = _body[34:]"
   ]
  },
  {
   "cell_type": "markdown",
   "metadata": {},
   "source": [
    "Definimos una función para obtener las etiquetas de cada ejemplo, en este caso: el orden, familia y la especie."
   ]
  },
  {
   "cell_type": "code",
   "execution_count": 13,
   "metadata": {
    "scrolled": true
   },
   "outputs": [],
   "source": [
    "def custom_get_y(o):\n",
    "    fine_label = o['Specie']\n",
    "    coarse2_label = o['Family']\n",
    "    coarse1_label = o['Order']\n",
    "    return [coarse1_label, coarse2_label, fine_label]"
   ]
  },
  {
   "cell_type": "markdown",
   "metadata": {},
   "source": [
    "Creamos una clase para nuestro modelo que divida el _encoder_ en los distintos bloques y añada una cabeza después del bloque 2 como rama con el número de clases de _Order_ y otra después del bloque 3 como rama con el número de clases de _Family_. En el método _forward_ establecemos la conexión de los distintos bloques, separando la salida de la rama del flujo normal, para así devolver ambas salidas en forma de diccionario."
   ]
  },
  {
   "cell_type": "code",
   "execution_count": 14,
   "metadata": {
    "scrolled": true
   },
   "outputs": [],
   "source": [
    "class VGGCustomModel(Module):\n",
    "    def __init__(self, encoder, head):\n",
    "        self.encoder = encoder\n",
    "        encoder = encoder[0]\n",
    "        self.block1 = encoder[:7]\n",
    "        self.block2 = encoder[7:14]\n",
    "        self.branch1 = create_head(128*2, len(set(df['Order'])))\n",
    "        self.block3 = encoder[14:24]\n",
    "        self.branch2 = create_head(256*2, len(set(df['Family'])))\n",
    "        self.block4 = encoder[24:34]\n",
    "        self.block5 = encoder[34:]\n",
    "        self.head = head\n",
    "    \n",
    "    def forward(self, x):\n",
    "        x = self.block1(x)\n",
    "        x = self.block2(x)\n",
    "        coarse1_label = self.branch1(x)\n",
    "        x = self.block3(x)\n",
    "        coarse2_label = self.branch2(x)\n",
    "        x = self.block4(x)\n",
    "        x = self.block5(x)\n",
    "        fine_label = self.head(x)\n",
    "        return {\n",
    "                'fine_label': fine_label,\n",
    "                'coarse2_label': coarse2_label,\n",
    "                'coarse1_label': coarse1_label\n",
    "               }"
   ]
  },
  {
   "cell_type": "markdown",
   "metadata": {},
   "source": [
    "Creamos el modelo con la clase definida pasándole el cuerpo y cabeza."
   ]
  },
  {
   "cell_type": "code",
   "execution_count": 15,
   "metadata": {
    "scrolled": true
   },
   "outputs": [],
   "source": [
    "model = VGGCustomModel(body, head)"
   ]
  },
  {
   "cell_type": "markdown",
   "metadata": {},
   "source": [
    "Como hemos modificado el modelo y la obtención de las clases para usar una salida múltiple, tenemos que modificar el tipo de bloque de categoría a uno que soporte estas salidas. Para ello, definimos una función que obtenga la clase y codifique a categoría cada una."
   ]
  },
  {
   "cell_type": "code",
   "execution_count": 16,
   "metadata": {
    "scrolled": true
   },
   "outputs": [],
   "source": [
    "class CustomCategorize(DisplayedTransform):\n",
    "    \"Reversible transform of category string to `vocab` id\"\n",
    "    loss_func,order=CrossEntropyLossFlat(),1\n",
    "    def __init__(self, vocab=None, vocab_coarse1=None, vocab_coarse2=None, sort=True, add_na=False, num_y=1):\n",
    "        store_attr()\n",
    "        self.vocab = None if vocab is None else CategoryMap(vocab, sort=sort, add_na=add_na)\n",
    "        self.vocab_coarse1 = None if vocab_coarse1 is None else CategoryMap(vocab_coarse1, sort=sort, add_na=add_na)\n",
    "        self.vocab_coarse2 = None if vocab_coarse2 is None else CategoryMap(vocab_coarse2, sort=sort, add_na=add_na)\n",
    "\n",
    "    def setups(self, dsets):\n",
    "        fine_dsets = [d[2] for d in dsets]\n",
    "        coarse2_dsets = [d[1] for d in dsets]\n",
    "        coarse1_dsets = [d[0] for d in dsets]\n",
    "        if self.vocab is None and dsets is not None: self.vocab = CategoryMap(fine_dsets, sort=self.sort, add_na=self.add_na)\n",
    "        if self.vocab_coarse1 is None and dsets is not None: self.vocab_coarse1 = CategoryMap(coarse1_dsets, sort=self.sort, add_na=self.add_na)\n",
    "        if self.vocab_coarse2 is None and dsets is not None: self.vocab_coarse2 = CategoryMap(coarse2_dsets, sort=self.sort, add_na=self.add_na)\n",
    "        self.c = len(self.vocab)\n",
    "\n",
    "    def encodes(self, o): return {'fine_label': TensorCategory(self.vocab.o2i[o[2]]),\n",
    "                                  'coarse2_label': TensorCategory(self.vocab_coarse2.o2i[o[1]]),\n",
    "                                  'coarse1_label': TensorCategory(self.vocab_coarse1.o2i[o[0]])\n",
    "                                 }\n",
    "    def decodes(self, o): return Category      (self.vocab    [o])"
   ]
  },
  {
   "cell_type": "code",
   "execution_count": 17,
   "metadata": {
    "scrolled": true
   },
   "outputs": [],
   "source": [
    "def CustomCategoryBlock(vocab=None, sort=True, add_na=False, num_y=1):\n",
    "    \"`TransformBlock` for single-label categorical targets\"\n",
    "    return TransformBlock(type_tfms=CustomCategorize(vocab=vocab, sort=sort, add_na=add_na))"
   ]
  },
  {
   "cell_type": "markdown",
   "metadata": {},
   "source": [
    "Creamos un _splitter_ personalizado con los parámetros de cada bloque y del _head_."
   ]
  },
  {
   "cell_type": "code",
   "execution_count": 18,
   "metadata": {
    "scrolled": true
   },
   "outputs": [],
   "source": [
    "def custom_splitter(model):\n",
    "    return [params(model.block1),\n",
    "            params(model.block2),\n",
    "            params(model.block3),\n",
    "            params(model.block4),\n",
    "            params(model.block5),\n",
    "            params(model.head)]"
   ]
  },
  {
   "cell_type": "markdown",
   "metadata": {},
   "source": [
    "Creamos un _datablock_ con: bloques de tipo imagen y categoría personalizada _CustomCategoryBlock_, un separador por columna, la _x_ con la columna que contienen la ruta de las imágenes, la _y_ con la función personalizada, una transformación para hacer un recorte aleatorio dejando un tamaño común de 336x336, y las transformaciones de aumento de datos por defecto."
   ]
  },
  {
   "cell_type": "code",
   "execution_count": 19,
   "metadata": {
    "scrolled": true
   },
   "outputs": [],
   "source": [
    "fishes = DataBlock(blocks = (ImageBlock, CustomCategoryBlock),\n",
    "                 splitter=ColSplitter(),\n",
    "                 get_x = ColReader(5, pref=path),\n",
    "                 get_y=custom_get_y,\n",
    "                 item_tfms=RandomResizedCrop(336, min_scale=0.5),\n",
    "                 batch_tfms=aug_transforms())\n",
    "dls = fishes.dataloaders(df)"
   ]
  },
  {
   "cell_type": "markdown",
   "metadata": {},
   "source": [
    "Mostramos los _dataloaders_ generados con el _datablock_."
   ]
  },
  {
   "cell_type": "code",
   "execution_count": 20,
   "metadata": {
    "scrolled": true
   },
   "outputs": [
    {
     "data": {
      "text/plain": [
       "((#337741) [(PILImage mode=RGB size=768x1024, {'fine_label': TensorCategory(531), 'coarse2_label': TensorCategory(25), 'coarse1_label': TensorCategory(20)}),(PILImage mode=RGB size=1024x738, {'fine_label': TensorCategory(776), 'coarse2_label': TensorCategory(25), 'coarse1_label': TensorCategory(20)}),(PILImage mode=RGB size=768x1024, {'fine_label': TensorCategory(538), 'coarse2_label': TensorCategory(25), 'coarse1_label': TensorCategory(20)}),(PILImage mode=RGB size=768x1024, {'fine_label': TensorCategory(837), 'coarse2_label': TensorCategory(41), 'coarse1_label': TensorCategory(10)}),(PILImage mode=RGB size=1024x786, {'fine_label': TensorCategory(32), 'coarse2_label': TensorCategory(0), 'coarse1_label': TensorCategory(20)}),(PILImage mode=RGB size=1024x683, {'fine_label': TensorCategory(145), 'coarse2_label': TensorCategory(109), 'coarse1_label': TensorCategory(20)}),(PILImage mode=RGB size=768x1024, {'fine_label': TensorCategory(827), 'coarse2_label': TensorCategory(108), 'coarse1_label': TensorCategory(23)}),(PILImage mode=RGB size=1024x697, {'fine_label': TensorCategory(792), 'coarse2_label': TensorCategory(100), 'coarse1_label': TensorCategory(22)}),(PILImage mode=RGB size=1024x768, {'fine_label': TensorCategory(784), 'coarse2_label': TensorCategory(9), 'coarse1_label': TensorCategory(20)}),(PILImage mode=RGB size=1024x768, {'fine_label': TensorCategory(522), 'coarse2_label': TensorCategory(121), 'coarse1_label': TensorCategory(20)})...],\n",
       " (#84436) [(PILImage mode=RGB size=576x1024, {'fine_label': TensorCategory(826), 'coarse2_label': TensorCategory(108), 'coarse1_label': TensorCategory(23)}),(PILImage mode=RGB size=512x320, {'fine_label': TensorCategory(296), 'coarse2_label': TensorCategory(0), 'coarse1_label': TensorCategory(20)}),(PILImage mode=RGB size=1024x768, {'fine_label': TensorCategory(283), 'coarse2_label': TensorCategory(71), 'coarse1_label': TensorCategory(20)}),(PILImage mode=RGB size=1024x683, {'fine_label': TensorCategory(223), 'coarse2_label': TensorCategory(71), 'coarse1_label': TensorCategory(20)}),(PILImage mode=RGB size=1024x683, {'fine_label': TensorCategory(333), 'coarse2_label': TensorCategory(121), 'coarse1_label': TensorCategory(20)}),(PILImage mode=RGB size=1024x768, {'fine_label': TensorCategory(272), 'coarse2_label': TensorCategory(41), 'coarse1_label': TensorCategory(10)}),(PILImage mode=RGB size=1024x576, {'fine_label': TensorCategory(163), 'coarse2_label': TensorCategory(23), 'coarse1_label': TensorCategory(20)}),(PILImage mode=RGB size=1024x768, {'fine_label': TensorCategory(827), 'coarse2_label': TensorCategory(108), 'coarse1_label': TensorCategory(23)}),(PILImage mode=RGB size=1024x768, {'fine_label': TensorCategory(868), 'coarse2_label': TensorCategory(113), 'coarse1_label': TensorCategory(24)}),(PILImage mode=RGB size=768x1024, {'fine_label': TensorCategory(816), 'coarse2_label': TensorCategory(41), 'coarse1_label': TensorCategory(10)})...])"
      ]
     },
     "execution_count": 20,
     "metadata": {},
     "output_type": "execute_result"
    }
   ],
   "source": [
    "dls.train_ds, dls.valid_ds"
   ]
  },
  {
   "cell_type": "markdown",
   "metadata": {},
   "source": [
    "Mostramos las clases finas y las categóricas de nuestros dataloaders."
   ]
  },
  {
   "cell_type": "code",
   "execution_count": 21,
   "metadata": {
    "scrolled": true
   },
   "outputs": [
    {
     "data": {
      "text/plain": [
       "((#1000) ['Abramis brama','Abudefduf abdominalis','Abudefduf bengalensis','Abudefduf saxatilis','Abudefduf septemfasciatus','Abudefduf sexfasciatus','Abudefduf sordidus','Abudefduf troschelii','Abudefduf vaigiensis','Acanthaluteres vittiger'...],\n",
       " (#135) ['Acanthuridae','Achiridae','Acipenseridae','Amiidae','Ammodytidae','Anguillidae','Antennariidae','Aphredoderidae','Aplodactylidae','Apogonidae'...],\n",
       " (#29) ['Acipenseriformes','Amiiformes','Anguilliformes','Atheriniformes','Aulopiformes','Batrachoidiformes','Beloniformes','Beryciformes','Characiformes','Clupeiformes'...])"
      ]
     },
     "execution_count": 21,
     "metadata": {},
     "output_type": "execute_result"
    }
   ],
   "source": [
    "dls.vocab, dls.vocab_coarse2, dls.vocab_coarse1"
   ]
  },
  {
   "cell_type": "markdown",
   "metadata": {},
   "source": [
    "Creamos el tensor con los pesos por clase y lo pasamos a GPU para poder usarlo durante el entrenamiento."
   ]
  },
  {
   "cell_type": "code",
   "execution_count": 22,
   "metadata": {},
   "outputs": [],
   "source": [
    "weights = tensor([float(weights_df[weights_df['Specie']==c]['Weight']) for c in dls.vocab]).cuda()\n",
    "weights_order = tensor([float(weights_order_df[weights_order_df['Order']==c]['Weight']) for c in dls.vocab_coarse1]).cuda()\n",
    "weights_family = tensor([float(weights_family_df[weights_family_df['Family']==c]['Weight']) for c in dls.vocab_coarse2]).cuda()"
   ]
  },
  {
   "cell_type": "markdown",
   "metadata": {},
   "source": [
    "Defimos nuestra función de pérdida como el sumatorio de la pérdida en entropía cruzada de las dos salidas."
   ]
  },
  {
   "cell_type": "code",
   "execution_count": 23,
   "metadata": {
    "scrolled": true
   },
   "outputs": [],
   "source": [
    "def loss_func(out, targ):\n",
    "    return nn.CrossEntropyLoss(weight=weights)(out['fine_label'], targ['fine_label']) + \\\n",
    "            nn.CrossEntropyLoss(weight=weights_order)(out['coarse1_label'], targ['coarse1_label']) + \\\n",
    "            nn.CrossEntropyLoss(weight=weights_family)(out['coarse2_label'], targ['coarse2_label'])"
   ]
  },
  {
   "cell_type": "markdown",
   "metadata": {},
   "source": [
    "Defimos la función de accuracy con la etiqueta fina, ya que es el resultado final que nos interesa. Además, esta etiqueta fue la que se usó para definir las particiones estratificadas, por lo que es la única que se debería tener en cuenta si queremos resultados más fiables."
   ]
  },
  {
   "cell_type": "code",
   "execution_count": 24,
   "metadata": {
    "scrolled": true
   },
   "outputs": [],
   "source": [
    "def custom_accuracy(inp, targ, axis=-1):\n",
    "    pred1,targ1 = flatten_check(inp['fine_label'].argmax(dim=axis), targ['fine_label'])\n",
    "    acc1 = (pred1 == targ1).float().mean()\n",
    "    return acc1"
   ]
  },
  {
   "cell_type": "markdown",
   "metadata": {},
   "source": [
    "Creamos nuestro objeto _Learner_ con los _dataloaders_, la función de pérdida _loss_func_ creada, la métrica exactitud y el _splitter_ creado. Además, congelamos nuestro modelo para ajustar primero los pesos preentrenados a nuestras clases."
   ]
  },
  {
   "cell_type": "code",
   "execution_count": 25,
   "metadata": {
    "scrolled": true
   },
   "outputs": [],
   "source": [
    "learn = Learner(dls, model, loss_func=loss_func, metrics=custom_accuracy,\n",
    "                   splitter=custom_splitter).to_fp16()\n",
    "learn.freeze()"
   ]
  },
  {
   "cell_type": "markdown",
   "metadata": {},
   "source": [
    "Mostramos un resumen de nuestro modelo."
   ]
  },
  {
   "cell_type": "code",
   "execution_count": 26,
   "metadata": {
    "scrolled": true
   },
   "outputs": [
    {
     "data": {
      "text/html": [
       "<table border=\"1\" class=\"dataframe\">\n",
       "  <thead>\n",
       "    <tr style=\"text-align: left;\">\n",
       "      <th>epoch</th>\n",
       "      <th>train_loss</th>\n",
       "      <th>valid_loss</th>\n",
       "      <th>custom_accuracy</th>\n",
       "      <th>time</th>\n",
       "    </tr>\n",
       "  </thead>\n",
       "  <tbody>\n",
       "    <tr>\n",
       "      <td>0</td>\n",
       "      <td>None</td>\n",
       "      <td>None</td>\n",
       "      <td>00:00</td>\n",
       "    </tr>\n",
       "  </tbody>\n",
       "</table>"
      ],
      "text/plain": [
       "<IPython.core.display.HTML object>"
      ]
     },
     "metadata": {},
     "output_type": "display_data"
    },
    {
     "data": {
      "text/plain": [
       "VGGCustomModel (Input shape: ['64 x 3 x 336 x 336'])\n",
       "================================================================\n",
       "Layer (type)         Output Shape         Param #    Trainable \n",
       "================================================================\n",
       "Conv2d               64 x 64 x 336 x 336  1,792      False     \n",
       "________________________________________________________________\n",
       "BatchNorm2d          64 x 64 x 336 x 336  128        True      \n",
       "________________________________________________________________\n",
       "ReLU                 64 x 64 x 336 x 336  0          False     \n",
       "________________________________________________________________\n",
       "Conv2d               64 x 64 x 336 x 336  36,928     False     \n",
       "________________________________________________________________\n",
       "BatchNorm2d          64 x 64 x 336 x 336  128        True      \n",
       "________________________________________________________________\n",
       "ReLU                 64 x 64 x 336 x 336  0          False     \n",
       "________________________________________________________________\n",
       "MaxPool2d            64 x 64 x 168 x 168  0          False     \n",
       "________________________________________________________________\n",
       "Conv2d               64 x 128 x 168 x 16  73,856     False     \n",
       "________________________________________________________________\n",
       "BatchNorm2d          64 x 128 x 168 x 16  256        True      \n",
       "________________________________________________________________\n",
       "ReLU                 64 x 128 x 168 x 16  0          False     \n",
       "________________________________________________________________\n",
       "Conv2d               64 x 128 x 168 x 16  147,584    False     \n",
       "________________________________________________________________\n",
       "BatchNorm2d          64 x 128 x 168 x 16  256        True      \n",
       "________________________________________________________________\n",
       "ReLU                 64 x 128 x 168 x 16  0          False     \n",
       "________________________________________________________________\n",
       "MaxPool2d            64 x 128 x 84 x 84   0          False     \n",
       "________________________________________________________________\n",
       "Conv2d               64 x 256 x 84 x 84   295,168    False     \n",
       "________________________________________________________________\n",
       "BatchNorm2d          64 x 256 x 84 x 84   512        True      \n",
       "________________________________________________________________\n",
       "ReLU                 64 x 256 x 84 x 84   0          False     \n",
       "________________________________________________________________\n",
       "Conv2d               64 x 256 x 84 x 84   590,080    False     \n",
       "________________________________________________________________\n",
       "BatchNorm2d          64 x 256 x 84 x 84   512        True      \n",
       "________________________________________________________________\n",
       "ReLU                 64 x 256 x 84 x 84   0          False     \n",
       "________________________________________________________________\n",
       "Conv2d               64 x 256 x 84 x 84   590,080    False     \n",
       "________________________________________________________________\n",
       "BatchNorm2d          64 x 256 x 84 x 84   512        True      \n",
       "________________________________________________________________\n",
       "ReLU                 64 x 256 x 84 x 84   0          False     \n",
       "________________________________________________________________\n",
       "MaxPool2d            64 x 256 x 42 x 42   0          False     \n",
       "________________________________________________________________\n",
       "Conv2d               64 x 512 x 42 x 42   1,180,160  False     \n",
       "________________________________________________________________\n",
       "BatchNorm2d          64 x 512 x 42 x 42   1,024      True      \n",
       "________________________________________________________________\n",
       "ReLU                 64 x 512 x 42 x 42   0          False     \n",
       "________________________________________________________________\n",
       "Conv2d               64 x 512 x 42 x 42   2,359,808  False     \n",
       "________________________________________________________________\n",
       "BatchNorm2d          64 x 512 x 42 x 42   1,024      True      \n",
       "________________________________________________________________\n",
       "ReLU                 64 x 512 x 42 x 42   0          False     \n",
       "________________________________________________________________\n",
       "Conv2d               64 x 512 x 42 x 42   2,359,808  False     \n",
       "________________________________________________________________\n",
       "BatchNorm2d          64 x 512 x 42 x 42   1,024      True      \n",
       "________________________________________________________________\n",
       "ReLU                 64 x 512 x 42 x 42   0          False     \n",
       "________________________________________________________________\n",
       "MaxPool2d            64 x 512 x 21 x 21   0          False     \n",
       "________________________________________________________________\n",
       "Conv2d               64 x 512 x 21 x 21   2,359,808  False     \n",
       "________________________________________________________________\n",
       "BatchNorm2d          64 x 512 x 21 x 21   1,024      True      \n",
       "________________________________________________________________\n",
       "ReLU                 64 x 512 x 21 x 21   0          False     \n",
       "________________________________________________________________\n",
       "Conv2d               64 x 512 x 21 x 21   2,359,808  False     \n",
       "________________________________________________________________\n",
       "BatchNorm2d          64 x 512 x 21 x 21   1,024      True      \n",
       "________________________________________________________________\n",
       "ReLU                 64 x 512 x 21 x 21   0          False     \n",
       "________________________________________________________________\n",
       "Conv2d               64 x 512 x 21 x 21   2,359,808  False     \n",
       "________________________________________________________________\n",
       "BatchNorm2d          64 x 512 x 21 x 21   1,024      True      \n",
       "________________________________________________________________\n",
       "ReLU                 64 x 512 x 21 x 21   0          False     \n",
       "________________________________________________________________\n",
       "MaxPool2d            64 x 512 x 10 x 10   0          False     \n",
       "________________________________________________________________\n",
       "Conv2d               64 x 64 x 336 x 336  1,792      False     \n",
       "________________________________________________________________\n",
       "BatchNorm2d          64 x 64 x 336 x 336  128        True      \n",
       "________________________________________________________________\n",
       "ReLU                 64 x 64 x 336 x 336  0          False     \n",
       "________________________________________________________________\n",
       "Conv2d               64 x 64 x 336 x 336  36,928     False     \n",
       "________________________________________________________________\n",
       "BatchNorm2d          64 x 64 x 336 x 336  128        True      \n",
       "________________________________________________________________\n",
       "ReLU                 64 x 64 x 336 x 336  0          False     \n",
       "________________________________________________________________\n",
       "MaxPool2d            64 x 64 x 168 x 168  0          False     \n",
       "________________________________________________________________\n",
       "Conv2d               64 x 128 x 168 x 16  73,856     False     \n",
       "________________________________________________________________\n",
       "BatchNorm2d          64 x 128 x 168 x 16  256        True      \n",
       "________________________________________________________________\n",
       "ReLU                 64 x 128 x 168 x 16  0          False     \n",
       "________________________________________________________________\n",
       "Conv2d               64 x 128 x 168 x 16  147,584    False     \n",
       "________________________________________________________________\n",
       "BatchNorm2d          64 x 128 x 168 x 16  256        True      \n",
       "________________________________________________________________\n",
       "ReLU                 64 x 128 x 168 x 16  0          False     \n",
       "________________________________________________________________\n",
       "MaxPool2d            64 x 128 x 84 x 84   0          False     \n",
       "________________________________________________________________\n",
       "AdaptiveAvgPool2d    64 x 128 x 1 x 1     0          False     \n",
       "________________________________________________________________\n",
       "AdaptiveMaxPool2d    64 x 128 x 1 x 1     0          False     \n",
       "________________________________________________________________\n",
       "Flatten              64 x 256             0          False     \n",
       "________________________________________________________________\n",
       "BatchNorm1d          64 x 256             512        True      \n",
       "________________________________________________________________\n",
       "Dropout              64 x 256             0          False     \n",
       "________________________________________________________________\n",
       "Linear               64 x 512             131,072    True      \n",
       "________________________________________________________________\n",
       "ReLU                 64 x 512             0          False     \n",
       "________________________________________________________________\n",
       "BatchNorm1d          64 x 512             1,024      True      \n",
       "________________________________________________________________\n",
       "Dropout              64 x 512             0          False     \n",
       "________________________________________________________________\n",
       "Linear               64 x 29              14,848     True      \n",
       "________________________________________________________________\n",
       "Conv2d               64 x 256 x 84 x 84   295,168    False     \n",
       "________________________________________________________________\n",
       "BatchNorm2d          64 x 256 x 84 x 84   512        True      \n",
       "________________________________________________________________\n",
       "ReLU                 64 x 256 x 84 x 84   0          False     \n",
       "________________________________________________________________\n",
       "Conv2d               64 x 256 x 84 x 84   590,080    False     \n",
       "________________________________________________________________\n",
       "BatchNorm2d          64 x 256 x 84 x 84   512        True      \n",
       "________________________________________________________________\n",
       "ReLU                 64 x 256 x 84 x 84   0          False     \n",
       "________________________________________________________________\n",
       "Conv2d               64 x 256 x 84 x 84   590,080    False     \n",
       "________________________________________________________________\n",
       "BatchNorm2d          64 x 256 x 84 x 84   512        True      \n",
       "________________________________________________________________\n",
       "ReLU                 64 x 256 x 84 x 84   0          False     \n",
       "________________________________________________________________\n",
       "MaxPool2d            64 x 256 x 42 x 42   0          False     \n",
       "________________________________________________________________\n",
       "AdaptiveAvgPool2d    64 x 256 x 1 x 1     0          False     \n",
       "________________________________________________________________\n",
       "AdaptiveMaxPool2d    64 x 256 x 1 x 1     0          False     \n",
       "________________________________________________________________\n",
       "Flatten              64 x 512             0          False     \n",
       "________________________________________________________________\n",
       "BatchNorm1d          64 x 512             1,024      True      \n",
       "________________________________________________________________\n",
       "Dropout              64 x 512             0          False     \n",
       "________________________________________________________________\n",
       "Linear               64 x 512             262,144    True      \n",
       "________________________________________________________________\n",
       "ReLU                 64 x 512             0          False     \n",
       "________________________________________________________________\n",
       "BatchNorm1d          64 x 512             1,024      True      \n",
       "________________________________________________________________\n",
       "Dropout              64 x 512             0          False     \n",
       "________________________________________________________________\n",
       "Linear               64 x 135             69,120     True      \n",
       "________________________________________________________________\n",
       "Conv2d               64 x 512 x 42 x 42   1,180,160  False     \n",
       "________________________________________________________________\n",
       "BatchNorm2d          64 x 512 x 42 x 42   1,024      True      \n",
       "________________________________________________________________\n",
       "ReLU                 64 x 512 x 42 x 42   0          False     \n",
       "________________________________________________________________\n",
       "Conv2d               64 x 512 x 42 x 42   2,359,808  False     \n",
       "________________________________________________________________\n",
       "BatchNorm2d          64 x 512 x 42 x 42   1,024      True      \n",
       "________________________________________________________________\n",
       "ReLU                 64 x 512 x 42 x 42   0          False     \n",
       "________________________________________________________________\n",
       "Conv2d               64 x 512 x 42 x 42   2,359,808  False     \n",
       "________________________________________________________________\n",
       "BatchNorm2d          64 x 512 x 42 x 42   1,024      True      \n",
       "________________________________________________________________\n",
       "ReLU                 64 x 512 x 42 x 42   0          False     \n",
       "________________________________________________________________\n",
       "MaxPool2d            64 x 512 x 21 x 21   0          False     \n",
       "________________________________________________________________\n",
       "Conv2d               64 x 512 x 21 x 21   2,359,808  False     \n",
       "________________________________________________________________\n",
       "BatchNorm2d          64 x 512 x 21 x 21   1,024      True      \n",
       "________________________________________________________________\n",
       "ReLU                 64 x 512 x 21 x 21   0          False     \n",
       "________________________________________________________________\n",
       "Conv2d               64 x 512 x 21 x 21   2,359,808  False     \n",
       "________________________________________________________________\n",
       "BatchNorm2d          64 x 512 x 21 x 21   1,024      True      \n",
       "________________________________________________________________\n",
       "ReLU                 64 x 512 x 21 x 21   0          False     \n",
       "________________________________________________________________\n",
       "Conv2d               64 x 512 x 21 x 21   2,359,808  False     \n",
       "________________________________________________________________\n",
       "BatchNorm2d          64 x 512 x 21 x 21   1,024      True      \n",
       "________________________________________________________________\n",
       "ReLU                 64 x 512 x 21 x 21   0          False     \n",
       "________________________________________________________________\n",
       "MaxPool2d            64 x 512 x 10 x 10   0          False     \n",
       "________________________________________________________________\n",
       "AdaptiveAvgPool2d    64 x 512 x 1 x 1     0          False     \n",
       "________________________________________________________________\n",
       "AdaptiveMaxPool2d    64 x 512 x 1 x 1     0          False     \n",
       "________________________________________________________________\n",
       "Flatten              64 x 1024            0          False     \n",
       "________________________________________________________________\n",
       "BatchNorm1d          64 x 1024            2,048      True      \n",
       "________________________________________________________________\n",
       "Dropout              64 x 1024            0          False     \n",
       "________________________________________________________________\n",
       "Linear               64 x 512             524,288    True      \n",
       "________________________________________________________________\n",
       "ReLU                 64 x 512             0          False     \n",
       "________________________________________________________________\n",
       "BatchNorm1d          64 x 512             1,024      True      \n",
       "________________________________________________________________\n",
       "Dropout              64 x 512             0          False     \n",
       "________________________________________________________________\n",
       "Linear               64 x 1000            512,000    True      \n",
       "________________________________________________________________\n",
       "\n",
       "Total params: 30,966,400\n",
       "Total trainable params: 1,537,024\n",
       "Total non-trainable params: 29,429,376\n",
       "\n",
       "Optimizer used: <function Adam at 0x7fd0beb1a670>\n",
       "Loss function: <function loss_func at 0x7fd0b512e040>\n",
       "\n",
       "Model frozen up to parameter group #5\n",
       "\n",
       "Callbacks:\n",
       "  - ModelToHalf\n",
       "  - TrainEvalCallback\n",
       "  - Recorder\n",
       "  - ProgressCallback\n",
       "  - MixedPrecision"
      ]
     },
     "execution_count": 26,
     "metadata": {},
     "output_type": "execute_result"
    }
   ],
   "source": [
    "learn.summary()"
   ]
  },
  {
   "cell_type": "markdown",
   "metadata": {},
   "source": [
    "Entrenamos el modelo congelado para ajustar los pesos de las últimas capas a nuestras clases, y descongelamos el modelo."
   ]
  },
  {
   "cell_type": "code",
   "execution_count": 27,
   "metadata": {
    "scrolled": true
   },
   "outputs": [
    {
     "data": {
      "text/html": [
       "<table border=\"1\" class=\"dataframe\">\n",
       "  <thead>\n",
       "    <tr style=\"text-align: left;\">\n",
       "      <th>epoch</th>\n",
       "      <th>train_loss</th>\n",
       "      <th>valid_loss</th>\n",
       "      <th>custom_accuracy</th>\n",
       "      <th>time</th>\n",
       "    </tr>\n",
       "  </thead>\n",
       "  <tbody>\n",
       "    <tr>\n",
       "      <td>0</td>\n",
       "      <td>12.558345</td>\n",
       "      <td>11.402443</td>\n",
       "      <td>0.358011</td>\n",
       "      <td>37:09</td>\n",
       "    </tr>\n",
       "  </tbody>\n",
       "</table>"
      ],
      "text/plain": [
       "<IPython.core.display.HTML object>"
      ]
     },
     "metadata": {},
     "output_type": "display_data"
    },
    {
     "data": {
      "text/plain": [
       "Path('models/species1000-vgg16-branch2-fepochs1-uepochs0.pth')"
      ]
     },
     "execution_count": 27,
     "metadata": {},
     "output_type": "execute_result"
    }
   ],
   "source": [
    "learn.fit(1, 3e-3)\n",
    "learn.save('species1000-vgg16-branch2-fepochs1-uepochs0')"
   ]
  },
  {
   "cell_type": "code",
   "execution_count": 28,
   "metadata": {},
   "outputs": [],
   "source": [
    "learn.unfreeze()"
   ]
  },
  {
   "cell_type": "markdown",
   "metadata": {},
   "source": [
    "Buscamos el factor de aprendizaje más adecuado con lr_find."
   ]
  },
  {
   "cell_type": "code",
   "execution_count": 29,
   "metadata": {},
   "outputs": [
    {
     "data": {
      "text/html": [],
      "text/plain": [
       "<IPython.core.display.HTML object>"
      ]
     },
     "metadata": {},
     "output_type": "display_data"
    },
    {
     "data": {
      "text/plain": [
       "SuggestedLRs(lr_min=6.309573450380412e-08, lr_steep=1.9054607491852948e-06)"
      ]
     },
     "execution_count": 29,
     "metadata": {},
     "output_type": "execute_result"
    },
    {
     "data": {
      "image/png": "[encoded data removed]",
      "text/plain": [
       "<Figure size 432x288 with 1 Axes>"
      ]
     },
     "metadata": {
      "needs_background": "light"
     },
     "output_type": "display_data"
    }
   ],
   "source": [
    "learn.lr_find()"
   ]
  },
  {
   "cell_type": "markdown",
   "metadata": {},
   "source": [
    "Defimos una función para continuar el aprendizaje con los pesos guardados."
   ]
  },
  {
   "cell_type": "code",
   "execution_count": 25,
   "metadata": {},
   "outputs": [],
   "source": [
    "def continue_training(pth_filename):\n",
    "    learn = Learner(dls, model, loss_func=loss_func, metrics=custom_accuracy,\n",
    "                   splitter=custom_splitter).to_fp16()\n",
    "    learn.load(pth_filename)\n",
    "    learn.unfreeze()\n",
    "    return learn"
   ]
  },
  {
   "cell_type": "markdown",
   "metadata": {},
   "source": [
    "Entrenamos durante 20 épocas con el factor de aprendizaje máximo adecuado según la visualización del buscador de factores de aprendizaje, guardando los pesos del entrenamiento en cada 5 épocas."
   ]
  },
  {
   "cell_type": "code",
   "execution_count": 30,
   "metadata": {},
   "outputs": [
    {
     "data": {
      "text/html": [
       "<table border=\"1\" class=\"dataframe\">\n",
       "  <thead>\n",
       "    <tr style=\"text-align: left;\">\n",
       "      <th>epoch</th>\n",
       "      <th>train_loss</th>\n",
       "      <th>valid_loss</th>\n",
       "      <th>custom_accuracy</th>\n",
       "      <th>time</th>\n",
       "    </tr>\n",
       "  </thead>\n",
       "  <tbody>\n",
       "    <tr>\n",
       "      <td>0</td>\n",
       "      <td>11.597372</td>\n",
       "      <td>10.457061</td>\n",
       "      <td>0.503956</td>\n",
       "      <td>44:16</td>\n",
       "    </tr>\n",
       "    <tr>\n",
       "      <td>1</td>\n",
       "      <td>11.110071</td>\n",
       "      <td>10.093249</td>\n",
       "      <td>0.554242</td>\n",
       "      <td>44:18</td>\n",
       "    </tr>\n",
       "    <tr>\n",
       "      <td>2</td>\n",
       "      <td>10.916301</td>\n",
       "      <td>9.859887</td>\n",
       "      <td>0.578367</td>\n",
       "      <td>44:17</td>\n",
       "    </tr>\n",
       "    <tr>\n",
       "      <td>3</td>\n",
       "      <td>10.691870</td>\n",
       "      <td>9.695148</td>\n",
       "      <td>0.598963</td>\n",
       "      <td>44:22</td>\n",
       "    </tr>\n",
       "    <tr>\n",
       "      <td>4</td>\n",
       "      <td>10.514062</td>\n",
       "      <td>9.566904</td>\n",
       "      <td>0.608354</td>\n",
       "      <td>44:18</td>\n",
       "    </tr>\n",
       "  </tbody>\n",
       "</table>"
      ],
      "text/plain": [
       "<IPython.core.display.HTML object>"
      ]
     },
     "metadata": {},
     "output_type": "display_data"
    },
    {
     "data": {
      "text/plain": [
       "Path('models/species1000-vgg16-branch2-fepochs1-uepochs5.pth')"
      ]
     },
     "execution_count": 30,
     "metadata": {},
     "output_type": "execute_result"
    }
   ],
   "source": [
    "learn.fit(5, slice(1e-6,1e-4))\n",
    "learn.save('species1000-vgg16-branch2-fepochs1-uepochs5')"
   ]
  },
  {
   "cell_type": "code",
   "execution_count": 31,
   "metadata": {
    "scrolled": true
   },
   "outputs": [
    {
     "data": {
      "text/html": [
       "<table border=\"1\" class=\"dataframe\">\n",
       "  <thead>\n",
       "    <tr style=\"text-align: left;\">\n",
       "      <th>epoch</th>\n",
       "      <th>train_loss</th>\n",
       "      <th>valid_loss</th>\n",
       "      <th>custom_accuracy</th>\n",
       "      <th>time</th>\n",
       "    </tr>\n",
       "  </thead>\n",
       "  <tbody>\n",
       "    <tr>\n",
       "      <td>0</td>\n",
       "      <td>10.271805</td>\n",
       "      <td>9.466129</td>\n",
       "      <td>0.624757</td>\n",
       "      <td>44:20</td>\n",
       "    </tr>\n",
       "    <tr>\n",
       "      <td>1</td>\n",
       "      <td>10.163678</td>\n",
       "      <td>9.358991</td>\n",
       "      <td>0.631532</td>\n",
       "      <td>44:19</td>\n",
       "    </tr>\n",
       "    <tr>\n",
       "      <td>2</td>\n",
       "      <td>10.108641</td>\n",
       "      <td>9.287456</td>\n",
       "      <td>0.639076</td>\n",
       "      <td>44:19</td>\n",
       "    </tr>\n",
       "    <tr>\n",
       "      <td>3</td>\n",
       "      <td>9.980215</td>\n",
       "      <td>9.236080</td>\n",
       "      <td>0.644535</td>\n",
       "      <td>44:21</td>\n",
       "    </tr>\n",
       "    <tr>\n",
       "      <td>4</td>\n",
       "      <td>9.906014</td>\n",
       "      <td>9.167691</td>\n",
       "      <td>0.654744</td>\n",
       "      <td>44:21</td>\n",
       "    </tr>\n",
       "  </tbody>\n",
       "</table>"
      ],
      "text/plain": [
       "<IPython.core.display.HTML object>"
      ]
     },
     "metadata": {},
     "output_type": "display_data"
    },
    {
     "data": {
      "text/plain": [
       "Path('models/species1000-vgg16-branch2-fepochs1-uepochs10.pth')"
      ]
     },
     "execution_count": 31,
     "metadata": {},
     "output_type": "execute_result"
    }
   ],
   "source": [
    "learn.fit(5, slice(1e-6,1e-4))\n",
    "learn.save('species1000-vgg16-branch2-fepochs1-uepochs10')"
   ]
  },
  {
   "cell_type": "code",
   "execution_count": 32,
   "metadata": {
    "scrolled": true
   },
   "outputs": [
    {
     "data": {
      "text/html": [
       "<table border=\"1\" class=\"dataframe\">\n",
       "  <thead>\n",
       "    <tr style=\"text-align: left;\">\n",
       "      <th>epoch</th>\n",
       "      <th>train_loss</th>\n",
       "      <th>valid_loss</th>\n",
       "      <th>custom_accuracy</th>\n",
       "      <th>time</th>\n",
       "    </tr>\n",
       "  </thead>\n",
       "  <tbody>\n",
       "    <tr>\n",
       "      <td>0</td>\n",
       "      <td>9.750738</td>\n",
       "      <td>9.101320</td>\n",
       "      <td>0.656876</td>\n",
       "      <td>44:20</td>\n",
       "    </tr>\n",
       "    <tr>\n",
       "      <td>1</td>\n",
       "      <td>9.722359</td>\n",
       "      <td>9.066955</td>\n",
       "      <td>0.661175</td>\n",
       "      <td>44:21</td>\n",
       "    </tr>\n",
       "    <tr>\n",
       "      <td>2</td>\n",
       "      <td>9.770606</td>\n",
       "      <td>9.018344</td>\n",
       "      <td>0.667594</td>\n",
       "      <td>44:19</td>\n",
       "    </tr>\n",
       "    <tr>\n",
       "      <td>3</td>\n",
       "      <td>9.714917</td>\n",
       "      <td>8.982452</td>\n",
       "      <td>0.671680</td>\n",
       "      <td>44:21</td>\n",
       "    </tr>\n",
       "    <tr>\n",
       "      <td>4</td>\n",
       "      <td>9.628518</td>\n",
       "      <td>8.932809</td>\n",
       "      <td>0.675079</td>\n",
       "      <td>44:22</td>\n",
       "    </tr>\n",
       "  </tbody>\n",
       "</table>"
      ],
      "text/plain": [
       "<IPython.core.display.HTML object>"
      ]
     },
     "metadata": {},
     "output_type": "display_data"
    },
    {
     "data": {
      "text/plain": [
       "Path('models/species1000-vgg16-branch2-fepochs1-uepochs15.pth')"
      ]
     },
     "execution_count": 32,
     "metadata": {},
     "output_type": "execute_result"
    }
   ],
   "source": [
    "learn.fit(5, slice(1e-6,1e-4))\n",
    "learn.save('species1000-vgg16-branch2-fepochs1-uepochs15')"
   ]
  },
  {
   "cell_type": "code",
   "execution_count": 33,
   "metadata": {
    "scrolled": true
   },
   "outputs": [],
   "source": [
    "learn.export('species1000-vgg16-branch2-fepochs1-uepochs15')"
   ]
  },
  {
   "cell_type": "code",
   "execution_count": 26,
   "metadata": {},
   "outputs": [],
   "source": [
    "learn = continue_training('species1000-vgg16-branch2-fepochs1-uepochs15')"
   ]
  },
  {
   "cell_type": "code",
   "execution_count": 27,
   "metadata": {},
   "outputs": [
    {
     "data": {
      "text/html": [
       "<table border=\"1\" class=\"dataframe\">\n",
       "  <thead>\n",
       "    <tr style=\"text-align: left;\">\n",
       "      <th>epoch</th>\n",
       "      <th>train_loss</th>\n",
       "      <th>valid_loss</th>\n",
       "      <th>custom_accuracy</th>\n",
       "      <th>time</th>\n",
       "    </tr>\n",
       "  </thead>\n",
       "  <tbody>\n",
       "    <tr>\n",
       "      <td>0</td>\n",
       "      <td>9.491580</td>\n",
       "      <td>8.906261</td>\n",
       "      <td>0.678052</td>\n",
       "      <td>45:16</td>\n",
       "    </tr>\n",
       "    <tr>\n",
       "      <td>1</td>\n",
       "      <td>9.383028</td>\n",
       "      <td>8.866338</td>\n",
       "      <td>0.685632</td>\n",
       "      <td>45:09</td>\n",
       "    </tr>\n",
       "    <tr>\n",
       "      <td>2</td>\n",
       "      <td>9.534894</td>\n",
       "      <td>8.848119</td>\n",
       "      <td>0.682588</td>\n",
       "      <td>45:10</td>\n",
       "    </tr>\n",
       "    <tr>\n",
       "      <td>3</td>\n",
       "      <td>9.383771</td>\n",
       "      <td>8.803768</td>\n",
       "      <td>0.690689</td>\n",
       "      <td>45:11</td>\n",
       "    </tr>\n",
       "    <tr>\n",
       "      <td>4</td>\n",
       "      <td>9.351439</td>\n",
       "      <td>8.777192</td>\n",
       "      <td>0.692536</td>\n",
       "      <td>45:13</td>\n",
       "    </tr>\n",
       "  </tbody>\n",
       "</table>"
      ],
      "text/plain": [
       "<IPython.core.display.HTML object>"
      ]
     },
     "metadata": {},
     "output_type": "display_data"
    },
    {
     "data": {
      "text/plain": [
       "Path('models/species1000-vgg16-branch2-fepochs1-uepochs20.pth')"
      ]
     },
     "execution_count": 27,
     "metadata": {},
     "output_type": "execute_result"
    }
   ],
   "source": [
    "learn.fit(5, slice(1e-6,1e-4))\n",
    "learn.save('species1000-vgg16-branch2-fepochs1-uepochs20')"
   ]
  },
  {
   "cell_type": "code",
   "execution_count": 28,
   "metadata": {},
   "outputs": [],
   "source": [
    "learn.export('species1000-vgg16-branch2-fepochs1-uepochs20')"
   ]
  }
 ],
 "metadata": {
  "kernelspec": {
   "display_name": "Python 3",
   "language": "python",
   "name": "python3"
  },
  "language_info": {
   "codemirror_mode": {
    "name": "ipython",
    "version": 3
   },
   "file_extension": ".py",
   "mimetype": "text/x-python",
   "name": "python",
   "nbconvert_exporter": "python",
   "pygments_lexer": "ipython3",
   "version": "3.8.6"
  }
 },
 "nbformat": 4,
 "nbformat_minor": 4
}
