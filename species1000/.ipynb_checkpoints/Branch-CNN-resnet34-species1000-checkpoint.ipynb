{
 "cells": [
  {
   "cell_type": "markdown",
   "metadata": {},
   "source": [
    "# B-CNN con modelo base ResNet-34"
   ]
  },
  {
   "cell_type": "markdown",
   "metadata": {},
   "source": [
    "En primer lugar, importamos las librerías necesarias para ejecutar este cuaderno."
   ]
  },
  {
   "cell_type": "code",
   "execution_count": 1,
   "metadata": {
    "scrolled": true
   },
   "outputs": [],
   "source": [
    "from fastai.vision.all import *"
   ]
  },
  {
   "cell_type": "markdown",
   "metadata": {},
   "source": [
    "Establecemos las variables de entorno necesarias para usar las dos GPUs."
   ]
  },
  {
   "cell_type": "code",
   "execution_count": 2,
   "metadata": {},
   "outputs": [],
   "source": [
    "import os; os.environ['CUDA_VISIBLE_DEVICES']='0,1'"
   ]
  },
  {
   "cell_type": "markdown",
   "metadata": {},
   "source": [
    "Definimos la ruta que contiene las imágenes del conjunto de datos."
   ]
  },
  {
   "cell_type": "code",
   "execution_count": 3,
   "metadata": {
    "scrolled": true
   },
   "outputs": [],
   "source": [
    "path = Path('/home/user/images')"
   ]
  },
  {
   "cell_type": "markdown",
   "metadata": {},
   "source": [
    "Listamos el directorio establecido para mostrar las carpetas por clase que contienen dicho directorio."
   ]
  },
  {
   "cell_type": "code",
   "execution_count": 4,
   "metadata": {
    "scrolled": true
   },
   "outputs": [
    {
     "data": {
      "text/plain": [
       "(#1000) [Path('/home/user/images/Bathygobius krefftii'),Path('/home/user/images/Oncorhynchus gorbuscha'),Path('/home/user/images/Chromis margaritifer'),Path('/home/user/images/Istigobius hoesei'),Path('/home/user/images/Abudefduf sordidus'),Path('/home/user/images/Acanthurus leucopareius'),Path('/home/user/images/Sphoeroides spengleri'),Path('/home/user/images/Orthopristis chrysoptera'),Path('/home/user/images/Etheostoma zonale'),Path('/home/user/images/Morone mississippiensis')...]"
      ]
     },
     "execution_count": 4,
     "metadata": {},
     "output_type": "execute_result"
    }
   ],
   "source": [
    "path.ls()"
   ]
  },
  {
   "cell_type": "markdown",
   "metadata": {},
   "source": [
    "Definimos la ruta padre del proyecto donde se encuentran los datos."
   ]
  },
  {
   "cell_type": "code",
   "execution_count": 5,
   "metadata": {
    "scrolled": true
   },
   "outputs": [],
   "source": [
    "df_path = Path('/home/user/')"
   ]
  },
  {
   "cell_type": "markdown",
   "metadata": {},
   "source": [
    "Cargamos el archivo CSV en forma de _dataframe_ de Pandas con las clases jerárquicas de cada imagen, la ruta de la imagen y si corresponde o no al conjunto de validación."
   ]
  },
  {
   "cell_type": "code",
   "execution_count": 6,
   "metadata": {
    "scrolled": true
   },
   "outputs": [],
   "source": [
    "df = pd.read_csv(df_path/'csv/species1000-stratified.csv')"
   ]
  },
  {
   "cell_type": "code",
   "execution_count": 7,
   "metadata": {
    "scrolled": true
   },
   "outputs": [
    {
     "data": {
      "text/html": [
       "<div>\n",
       "<style scoped>\n",
       "    .dataframe tbody tr th:only-of-type {\n",
       "        vertical-align: middle;\n",
       "    }\n",
       "\n",
       "    .dataframe tbody tr th {\n",
       "        vertical-align: top;\n",
       "    }\n",
       "\n",
       "    .dataframe thead th {\n",
       "        text-align: right;\n",
       "    }\n",
       "</style>\n",
       "<table border=\"1\" class=\"dataframe\">\n",
       "  <thead>\n",
       "    <tr style=\"text-align: right;\">\n",
       "      <th></th>\n",
       "      <th>Order</th>\n",
       "      <th>Family</th>\n",
       "      <th>Subfamily</th>\n",
       "      <th>Genus</th>\n",
       "      <th>Specie</th>\n",
       "      <th>fname</th>\n",
       "      <th>is_valid</th>\n",
       "    </tr>\n",
       "  </thead>\n",
       "  <tbody>\n",
       "    <tr>\n",
       "      <th>0</th>\n",
       "      <td>Perciformes</td>\n",
       "      <td>Centrarchidae</td>\n",
       "      <td>NaN</td>\n",
       "      <td>Lepomis</td>\n",
       "      <td>Lepomis gibbosus</td>\n",
       "      <td>Lepomis gibbosus/1879321.jpg</td>\n",
       "      <td>False</td>\n",
       "    </tr>\n",
       "    <tr>\n",
       "      <th>1</th>\n",
       "      <td>Perciformes</td>\n",
       "      <td>Centrarchidae</td>\n",
       "      <td>NaN</td>\n",
       "      <td>Pomoxis</td>\n",
       "      <td>Pomoxis nigromaculatus</td>\n",
       "      <td>Pomoxis nigromaculatus/61056925.jpg</td>\n",
       "      <td>False</td>\n",
       "    </tr>\n",
       "    <tr>\n",
       "      <th>2</th>\n",
       "      <td>Perciformes</td>\n",
       "      <td>Centrarchidae</td>\n",
       "      <td>NaN</td>\n",
       "      <td>Lepomis</td>\n",
       "      <td>Lepomis miniatus</td>\n",
       "      <td>Lepomis miniatus/36578909.jpg</td>\n",
       "      <td>False</td>\n",
       "    </tr>\n",
       "    <tr>\n",
       "      <th>3</th>\n",
       "      <td>Cypriniformes</td>\n",
       "      <td>Cyprinidae</td>\n",
       "      <td>Leuciscinae</td>\n",
       "      <td>Scardinius</td>\n",
       "      <td>Scardinius erythrophthalmus</td>\n",
       "      <td>Scardinius erythrophthalmus/77068790.jpg</td>\n",
       "      <td>False</td>\n",
       "    </tr>\n",
       "    <tr>\n",
       "      <th>4</th>\n",
       "      <td>Perciformes</td>\n",
       "      <td>Acanthuridae</td>\n",
       "      <td>Acanthurinae</td>\n",
       "      <td>Acanthurus</td>\n",
       "      <td>Acanthurus olivaceus</td>\n",
       "      <td>Acanthurus olivaceus/14646458.jpg</td>\n",
       "      <td>False</td>\n",
       "    </tr>\n",
       "    <tr>\n",
       "      <th>...</th>\n",
       "      <td>...</td>\n",
       "      <td>...</td>\n",
       "      <td>...</td>\n",
       "      <td>...</td>\n",
       "      <td>...</td>\n",
       "      <td>...</td>\n",
       "      <td>...</td>\n",
       "    </tr>\n",
       "    <tr>\n",
       "      <th>422172</th>\n",
       "      <td>Perciformes</td>\n",
       "      <td>Acanthuridae</td>\n",
       "      <td>Acanthurinae</td>\n",
       "      <td>Acanthurus</td>\n",
       "      <td>Acanthurus coeruleus</td>\n",
       "      <td>Acanthurus coeruleus/33472582.jpg</td>\n",
       "      <td>True</td>\n",
       "    </tr>\n",
       "    <tr>\n",
       "      <th>422173</th>\n",
       "      <td>Perciformes</td>\n",
       "      <td>Gobiidae</td>\n",
       "      <td>Gobiinae</td>\n",
       "      <td>Amblyeleotris</td>\n",
       "      <td>Amblyeleotris steinitzi</td>\n",
       "      <td>Amblyeleotris steinitzi/3789141.jpg</td>\n",
       "      <td>True</td>\n",
       "    </tr>\n",
       "    <tr>\n",
       "      <th>422174</th>\n",
       "      <td>Perciformes</td>\n",
       "      <td>Percidae</td>\n",
       "      <td>Etheostomatinae</td>\n",
       "      <td>Etheostoma</td>\n",
       "      <td>Etheostoma caeruleum</td>\n",
       "      <td>Etheostoma caeruleum/40879890.jpg</td>\n",
       "      <td>True</td>\n",
       "    </tr>\n",
       "    <tr>\n",
       "      <th>422175</th>\n",
       "      <td>Perciformes</td>\n",
       "      <td>Kyphosidae</td>\n",
       "      <td>Microcanthinae</td>\n",
       "      <td>Tilodon</td>\n",
       "      <td>Tilodon sexfasciatus</td>\n",
       "      <td>Tilodon sexfasciatus/26825770.jpg</td>\n",
       "      <td>True</td>\n",
       "    </tr>\n",
       "    <tr>\n",
       "      <th>422176</th>\n",
       "      <td>Perciformes</td>\n",
       "      <td>Scaridae</td>\n",
       "      <td>Sparisomatinae</td>\n",
       "      <td>Sparisoma</td>\n",
       "      <td>Sparisoma viride</td>\n",
       "      <td>Sparisoma viride/48286026.jpg</td>\n",
       "      <td>True</td>\n",
       "    </tr>\n",
       "  </tbody>\n",
       "</table>\n",
       "<p>422177 rows × 7 columns</p>\n",
       "</div>"
      ],
      "text/plain": [
       "                Order         Family        Subfamily          Genus  \\\n",
       "0         Perciformes  Centrarchidae              NaN        Lepomis   \n",
       "1         Perciformes  Centrarchidae              NaN        Pomoxis   \n",
       "2         Perciformes  Centrarchidae              NaN        Lepomis   \n",
       "3       Cypriniformes     Cyprinidae      Leuciscinae     Scardinius   \n",
       "4         Perciformes   Acanthuridae     Acanthurinae     Acanthurus   \n",
       "...               ...            ...              ...            ...   \n",
       "422172    Perciformes   Acanthuridae     Acanthurinae     Acanthurus   \n",
       "422173    Perciformes       Gobiidae         Gobiinae  Amblyeleotris   \n",
       "422174    Perciformes       Percidae  Etheostomatinae     Etheostoma   \n",
       "422175    Perciformes     Kyphosidae   Microcanthinae        Tilodon   \n",
       "422176    Perciformes       Scaridae   Sparisomatinae      Sparisoma   \n",
       "\n",
       "                             Specie                                     fname  \\\n",
       "0                  Lepomis gibbosus              Lepomis gibbosus/1879321.jpg   \n",
       "1            Pomoxis nigromaculatus       Pomoxis nigromaculatus/61056925.jpg   \n",
       "2                  Lepomis miniatus             Lepomis miniatus/36578909.jpg   \n",
       "3       Scardinius erythrophthalmus  Scardinius erythrophthalmus/77068790.jpg   \n",
       "4              Acanthurus olivaceus         Acanthurus olivaceus/14646458.jpg   \n",
       "...                             ...                                       ...   \n",
       "422172         Acanthurus coeruleus         Acanthurus coeruleus/33472582.jpg   \n",
       "422173      Amblyeleotris steinitzi       Amblyeleotris steinitzi/3789141.jpg   \n",
       "422174         Etheostoma caeruleum         Etheostoma caeruleum/40879890.jpg   \n",
       "422175         Tilodon sexfasciatus         Tilodon sexfasciatus/26825770.jpg   \n",
       "422176             Sparisoma viride             Sparisoma viride/48286026.jpg   \n",
       "\n",
       "        is_valid  \n",
       "0          False  \n",
       "1          False  \n",
       "2          False  \n",
       "3          False  \n",
       "4          False  \n",
       "...          ...  \n",
       "422172      True  \n",
       "422173      True  \n",
       "422174      True  \n",
       "422175      True  \n",
       "422176      True  \n",
       "\n",
       "[422177 rows x 7 columns]"
      ]
     },
     "execution_count": 7,
     "metadata": {},
     "output_type": "execute_result"
    }
   ],
   "source": [
    "df"
   ]
  },
  {
   "cell_type": "markdown",
   "metadata": {},
   "source": [
    "Cargamos los pesos en forma de _dataframes_ de las clases para corregir el desbalanceo durante el entrenamiento."
   ]
  },
  {
   "cell_type": "code",
   "execution_count": 8,
   "metadata": {},
   "outputs": [],
   "source": [
    "weights_df = pd.read_csv(df_path/'csv/species1000-weights.csv')\n",
    "weights_family_df = pd.read_csv(df_path/'csv/species1000-weights-family.csv')\n",
    "weights_genus_df = pd.read_csv(df_path/'csv/species1000-weights-genus.csv')\n",
    "weights_order_df = pd.read_csv(df_path/'csv/species1000-weights-order.csv')"
   ]
  },
  {
   "cell_type": "markdown",
   "metadata": {},
   "source": [
    "Mostramos, como ejemplo, el _dataframe_ de los pesos por clase final."
   ]
  },
  {
   "cell_type": "code",
   "execution_count": 9,
   "metadata": {},
   "outputs": [
    {
     "data": {
      "text/html": [
       "<div>\n",
       "<style scoped>\n",
       "    .dataframe tbody tr th:only-of-type {\n",
       "        vertical-align: middle;\n",
       "    }\n",
       "\n",
       "    .dataframe tbody tr th {\n",
       "        vertical-align: top;\n",
       "    }\n",
       "\n",
       "    .dataframe thead th {\n",
       "        text-align: right;\n",
       "    }\n",
       "</style>\n",
       "<table border=\"1\" class=\"dataframe\">\n",
       "  <thead>\n",
       "    <tr style=\"text-align: right;\">\n",
       "      <th></th>\n",
       "      <th>Specie</th>\n",
       "      <th>Count</th>\n",
       "      <th>Weight</th>\n",
       "    </tr>\n",
       "  </thead>\n",
       "  <tbody>\n",
       "    <tr>\n",
       "      <th>0</th>\n",
       "      <td>Abramis brama</td>\n",
       "      <td>319</td>\n",
       "      <td>1.323439</td>\n",
       "    </tr>\n",
       "    <tr>\n",
       "      <th>1</th>\n",
       "      <td>Abudefduf abdominalis</td>\n",
       "      <td>221</td>\n",
       "      <td>1.910303</td>\n",
       "    </tr>\n",
       "    <tr>\n",
       "      <th>2</th>\n",
       "      <td>Abudefduf bengalensis</td>\n",
       "      <td>323</td>\n",
       "      <td>1.307050</td>\n",
       "    </tr>\n",
       "    <tr>\n",
       "      <th>3</th>\n",
       "      <td>Abudefduf saxatilis</td>\n",
       "      <td>1692</td>\n",
       "      <td>0.249514</td>\n",
       "    </tr>\n",
       "    <tr>\n",
       "      <th>4</th>\n",
       "      <td>Abudefduf septemfasciatus</td>\n",
       "      <td>149</td>\n",
       "      <td>2.833403</td>\n",
       "    </tr>\n",
       "    <tr>\n",
       "      <th>...</th>\n",
       "      <td>...</td>\n",
       "      <td>...</td>\n",
       "      <td>...</td>\n",
       "    </tr>\n",
       "    <tr>\n",
       "      <th>995</th>\n",
       "      <td>Zanclus cornutus</td>\n",
       "      <td>1966</td>\n",
       "      <td>0.214739</td>\n",
       "    </tr>\n",
       "    <tr>\n",
       "      <th>996</th>\n",
       "      <td>Zebrasoma desjardinii</td>\n",
       "      <td>166</td>\n",
       "      <td>2.543235</td>\n",
       "    </tr>\n",
       "    <tr>\n",
       "      <th>997</th>\n",
       "      <td>Zebrasoma flavescens</td>\n",
       "      <td>561</td>\n",
       "      <td>0.752544</td>\n",
       "    </tr>\n",
       "    <tr>\n",
       "      <th>998</th>\n",
       "      <td>Zebrasoma scopas</td>\n",
       "      <td>276</td>\n",
       "      <td>1.529627</td>\n",
       "    </tr>\n",
       "    <tr>\n",
       "      <th>999</th>\n",
       "      <td>Zebrasoma velifer</td>\n",
       "      <td>500</td>\n",
       "      <td>0.844354</td>\n",
       "    </tr>\n",
       "  </tbody>\n",
       "</table>\n",
       "<p>1000 rows × 3 columns</p>\n",
       "</div>"
      ],
      "text/plain": [
       "                        Specie  Count    Weight\n",
       "0                Abramis brama    319  1.323439\n",
       "1        Abudefduf abdominalis    221  1.910303\n",
       "2        Abudefduf bengalensis    323  1.307050\n",
       "3          Abudefduf saxatilis   1692  0.249514\n",
       "4    Abudefduf septemfasciatus    149  2.833403\n",
       "..                         ...    ...       ...\n",
       "995           Zanclus cornutus   1966  0.214739\n",
       "996      Zebrasoma desjardinii    166  2.543235\n",
       "997       Zebrasoma flavescens    561  0.752544\n",
       "998           Zebrasoma scopas    276  1.529627\n",
       "999          Zebrasoma velifer    500  0.844354\n",
       "\n",
       "[1000 rows x 3 columns]"
      ]
     },
     "execution_count": 9,
     "metadata": {},
     "output_type": "execute_result"
    }
   ],
   "source": [
    "weights_df"
   ]
  },
  {
   "cell_type": "markdown",
   "metadata": {},
   "source": [
    "## Experimento 10: Sin ramas"
   ]
  },
  {
   "cell_type": "markdown",
   "metadata": {},
   "source": [
    "Creamos un _datablock_ con: bloques de tipo imagen y categoría, un separador por columna, la _x_ con la columna que contienen la ruta de las imágenes, la _y_ con la columna de especies, una transformación para hacer un recorte aleatorio dejando un tamaño común de 336x336, y las transformaciones de aumento de datos por defecto."
   ]
  },
  {
   "cell_type": "code",
   "execution_count": 10,
   "metadata": {
    "scrolled": true
   },
   "outputs": [],
   "source": [
    "fishes = DataBlock(blocks = (ImageBlock, CategoryBlock),\n",
    "                 splitter=ColSplitter(),\n",
    "                 get_x = ColReader(5, pref=path),\n",
    "                 get_y=ColReader(4),\n",
    "                 item_tfms=RandomResizedCrop(336, min_scale=0.5),\n",
    "                 batch_tfms=aug_transforms())\n",
    "dls = fishes.dataloaders(df, bs=64)"
   ]
  },
  {
   "cell_type": "markdown",
   "metadata": {},
   "source": [
    "Mostramos los _dataloaders_ generados con el _datablock_."
   ]
  },
  {
   "cell_type": "code",
   "execution_count": 11,
   "metadata": {
    "scrolled": false
   },
   "outputs": [
    {
     "data": {
      "text/plain": [
       "((#337741) [(PILImage mode=RGB size=768x1024, TensorCategory(531)),(PILImage mode=RGB size=1024x738, TensorCategory(776)),(PILImage mode=RGB size=768x1024, TensorCategory(538)),(PILImage mode=RGB size=768x1024, TensorCategory(837)),(PILImage mode=RGB size=1024x786, TensorCategory(32)),(PILImage mode=RGB size=1024x683, TensorCategory(145)),(PILImage mode=RGB size=768x1024, TensorCategory(827)),(PILImage mode=RGB size=1024x697, TensorCategory(792)),(PILImage mode=RGB size=1024x768, TensorCategory(784)),(PILImage mode=RGB size=1024x768, TensorCategory(522))...],\n",
       " (#84436) [(PILImage mode=RGB size=576x1024, TensorCategory(826)),(PILImage mode=RGB size=512x320, TensorCategory(296)),(PILImage mode=RGB size=1024x768, TensorCategory(283)),(PILImage mode=RGB size=1024x683, TensorCategory(223)),(PILImage mode=RGB size=1024x683, TensorCategory(333)),(PILImage mode=RGB size=1024x768, TensorCategory(272)),(PILImage mode=RGB size=1024x576, TensorCategory(163)),(PILImage mode=RGB size=1024x768, TensorCategory(827)),(PILImage mode=RGB size=1024x768, TensorCategory(868)),(PILImage mode=RGB size=768x1024, TensorCategory(816))...])"
      ]
     },
     "execution_count": 11,
     "metadata": {},
     "output_type": "execute_result"
    }
   ],
   "source": [
    "dls.train_ds, dls.valid_ds"
   ]
  },
  {
   "cell_type": "markdown",
   "metadata": {},
   "source": [
    "Mostramos algunos ejemplos de los _dataloaders_."
   ]
  },
  {
   "cell_type": "code",
   "execution_count": 12,
   "metadata": {
    "scrolled": true
   },
   "outputs": [
    {
     "data": {
      "image/png": "[encoded data removed]",
      "text/plain": [
       "<Figure size 648x648 with 9 Axes>"
      ]
     },
     "metadata": {
      "needs_background": "light"
     },
     "output_type": "display_data"
    }
   ],
   "source": [
    "dls.show_batch(nrows=3, ncols=3)"
   ]
  },
  {
   "cell_type": "markdown",
   "metadata": {},
   "source": [
    "Creamos una clase para nuestro modelo que enlace un _encoder_ y _head_."
   ]
  },
  {
   "cell_type": "code",
   "execution_count": 13,
   "metadata": {
    "scrolled": true
   },
   "outputs": [],
   "source": [
    "class Resnet34CustomModel(Module):\n",
    "    def __init__(self, encoder, head):\n",
    "        self.encoder = encoder\n",
    "        self.head = head\n",
    "    \n",
    "    def forward(self, x):\n",
    "        x = self.encoder(x)\n",
    "        x = self.head(x)\n",
    "        return x"
   ]
  },
  {
   "cell_type": "markdown",
   "metadata": {},
   "source": [
    "Creamos un _splitter_ personalizado con los parámetros del _encoder_ y del _head_."
   ]
  },
  {
   "cell_type": "code",
   "execution_count": 14,
   "metadata": {
    "scrolled": true
   },
   "outputs": [],
   "source": [
    "def custom_splitter(model):\n",
    "    return [params(model.encoder),\n",
    "            params(model.head)]"
   ]
  },
  {
   "cell_type": "markdown",
   "metadata": {},
   "source": [
    "Creamos el cuerpo y cabeza del modelo tomando como base ResNet-34 con pesos preentrenados."
   ]
  },
  {
   "cell_type": "code",
   "execution_count": 16,
   "metadata": {
    "scrolled": true
   },
   "outputs": [
    {
     "name": "stderr",
     "output_type": "stream",
     "text": [
      "Downloading: \"https://download.pytorch.org/models/resnet34-333f7ec4.pth\" to /home/user/.cache/torch/hub/checkpoints/resnet34-333f7ec4.pth\n"
     ]
    },
    {
     "data": {
      "application/vnd.jupyter.widget-view+json": {
       "model_id": "0b2d4ff4be854289bf8d10f7ee4b32a4",
       "version_major": 2,
       "version_minor": 0
      },
      "text/plain": [
       "HBox(children=(FloatProgress(value=0.0, max=87306240.0), HTML(value='')))"
      ]
     },
     "metadata": {},
     "output_type": "display_data"
    },
    {
     "name": "stdout",
     "output_type": "stream",
     "text": [
      "\n"
     ]
    }
   ],
   "source": [
    "model = resnet34\n",
    "body = create_body(model, cut=-2)\n",
    "head = create_head(512*2,dls.c)"
   ]
  },
  {
   "cell_type": "markdown",
   "metadata": {},
   "source": [
    "Creamos el modelo con la clase previamente creada, suministrando el cuerpo y la cabeza del modelo."
   ]
  },
  {
   "cell_type": "code",
   "execution_count": 17,
   "metadata": {
    "scrolled": true
   },
   "outputs": [],
   "source": [
    "model = Resnet34CustomModel(body, head)"
   ]
  },
  {
   "cell_type": "markdown",
   "metadata": {},
   "source": [
    "Creamos el tensor con los pesos por clase y lo pasamos a GPU para poder usarlo durante el entrenamiento.\n"
   ]
  },
  {
   "cell_type": "code",
   "execution_count": 18,
   "metadata": {},
   "outputs": [],
   "source": [
    "weights = tensor([float(weights_df[weights_df['Specie']==c]['Weight']) for c in dls.vocab]).cuda()"
   ]
  },
  {
   "cell_type": "markdown",
   "metadata": {},
   "source": [
    "Creamos nuestro objeto _Learner_ con los _dataloaders_, la función de pérdida de entropía cruzada con los pesos calculados, la métrica exactitud y el _splitter_ creado. Además, congelamos nuestro modelo para ajustar primero los pesos preentrenados a nuestras clases."
   ]
  },
  {
   "cell_type": "code",
   "execution_count": 19,
   "metadata": {
    "scrolled": true
   },
   "outputs": [],
   "source": [
    "learn = Learner(dls, model, loss_func=nn.CrossEntropyLoss(weight=weights), metrics=accuracy,\n",
    "                   splitter=custom_splitter).to_fp16()\n",
    "learn.freeze()"
   ]
  },
  {
   "cell_type": "markdown",
   "metadata": {},
   "source": [
    "Mostramos un resumen de nuestro modelo."
   ]
  },
  {
   "cell_type": "code",
   "execution_count": 20,
   "metadata": {
    "scrolled": true
   },
   "outputs": [
    {
     "data": {
      "text/html": [
       "<table border=\"1\" class=\"dataframe\">\n",
       "  <thead>\n",
       "    <tr style=\"text-align: left;\">\n",
       "      <th>epoch</th>\n",
       "      <th>train_loss</th>\n",
       "      <th>valid_loss</th>\n",
       "      <th>accuracy</th>\n",
       "      <th>time</th>\n",
       "    </tr>\n",
       "  </thead>\n",
       "  <tbody>\n",
       "    <tr>\n",
       "      <td>0</td>\n",
       "      <td>None</td>\n",
       "      <td>None</td>\n",
       "      <td>00:00</td>\n",
       "    </tr>\n",
       "  </tbody>\n",
       "</table>"
      ],
      "text/plain": [
       "<IPython.core.display.HTML object>"
      ]
     },
     "metadata": {},
     "output_type": "display_data"
    },
    {
     "data": {
      "text/plain": [
       "Resnet34CustomModel (Input shape: ['64 x 3 x 336 x 336'])\n",
       "================================================================\n",
       "Layer (type)         Output Shape         Param #    Trainable \n",
       "================================================================\n",
       "Conv2d               64 x 64 x 168 x 168  9,408      False     \n",
       "________________________________________________________________\n",
       "BatchNorm2d          64 x 64 x 168 x 168  128        True      \n",
       "________________________________________________________________\n",
       "ReLU                 64 x 64 x 168 x 168  0          False     \n",
       "________________________________________________________________\n",
       "MaxPool2d            64 x 64 x 84 x 84    0          False     \n",
       "________________________________________________________________\n",
       "Conv2d               64 x 64 x 84 x 84    36,864     False     \n",
       "________________________________________________________________\n",
       "BatchNorm2d          64 x 64 x 84 x 84    128        True      \n",
       "________________________________________________________________\n",
       "ReLU                 64 x 64 x 84 x 84    0          False     \n",
       "________________________________________________________________\n",
       "Conv2d               64 x 64 x 84 x 84    36,864     False     \n",
       "________________________________________________________________\n",
       "BatchNorm2d          64 x 64 x 84 x 84    128        True      \n",
       "________________________________________________________________\n",
       "Conv2d               64 x 64 x 84 x 84    36,864     False     \n",
       "________________________________________________________________\n",
       "BatchNorm2d          64 x 64 x 84 x 84    128        True      \n",
       "________________________________________________________________\n",
       "ReLU                 64 x 64 x 84 x 84    0          False     \n",
       "________________________________________________________________\n",
       "Conv2d               64 x 64 x 84 x 84    36,864     False     \n",
       "________________________________________________________________\n",
       "BatchNorm2d          64 x 64 x 84 x 84    128        True      \n",
       "________________________________________________________________\n",
       "Conv2d               64 x 64 x 84 x 84    36,864     False     \n",
       "________________________________________________________________\n",
       "BatchNorm2d          64 x 64 x 84 x 84    128        True      \n",
       "________________________________________________________________\n",
       "ReLU                 64 x 64 x 84 x 84    0          False     \n",
       "________________________________________________________________\n",
       "Conv2d               64 x 64 x 84 x 84    36,864     False     \n",
       "________________________________________________________________\n",
       "BatchNorm2d          64 x 64 x 84 x 84    128        True      \n",
       "________________________________________________________________\n",
       "Conv2d               64 x 128 x 42 x 42   73,728     False     \n",
       "________________________________________________________________\n",
       "BatchNorm2d          64 x 128 x 42 x 42   256        True      \n",
       "________________________________________________________________\n",
       "ReLU                 64 x 128 x 42 x 42   0          False     \n",
       "________________________________________________________________\n",
       "Conv2d               64 x 128 x 42 x 42   147,456    False     \n",
       "________________________________________________________________\n",
       "BatchNorm2d          64 x 128 x 42 x 42   256        True      \n",
       "________________________________________________________________\n",
       "Conv2d               64 x 128 x 42 x 42   8,192      False     \n",
       "________________________________________________________________\n",
       "BatchNorm2d          64 x 128 x 42 x 42   256        True      \n",
       "________________________________________________________________\n",
       "Conv2d               64 x 128 x 42 x 42   147,456    False     \n",
       "________________________________________________________________\n",
       "BatchNorm2d          64 x 128 x 42 x 42   256        True      \n",
       "________________________________________________________________\n",
       "ReLU                 64 x 128 x 42 x 42   0          False     \n",
       "________________________________________________________________\n",
       "Conv2d               64 x 128 x 42 x 42   147,456    False     \n",
       "________________________________________________________________\n",
       "BatchNorm2d          64 x 128 x 42 x 42   256        True      \n",
       "________________________________________________________________\n",
       "Conv2d               64 x 128 x 42 x 42   147,456    False     \n",
       "________________________________________________________________\n",
       "BatchNorm2d          64 x 128 x 42 x 42   256        True      \n",
       "________________________________________________________________\n",
       "ReLU                 64 x 128 x 42 x 42   0          False     \n",
       "________________________________________________________________\n",
       "Conv2d               64 x 128 x 42 x 42   147,456    False     \n",
       "________________________________________________________________\n",
       "BatchNorm2d          64 x 128 x 42 x 42   256        True      \n",
       "________________________________________________________________\n",
       "Conv2d               64 x 128 x 42 x 42   147,456    False     \n",
       "________________________________________________________________\n",
       "BatchNorm2d          64 x 128 x 42 x 42   256        True      \n",
       "________________________________________________________________\n",
       "ReLU                 64 x 128 x 42 x 42   0          False     \n",
       "________________________________________________________________\n",
       "Conv2d               64 x 128 x 42 x 42   147,456    False     \n",
       "________________________________________________________________\n",
       "BatchNorm2d          64 x 128 x 42 x 42   256        True      \n",
       "________________________________________________________________\n",
       "Conv2d               64 x 256 x 21 x 21   294,912    False     \n",
       "________________________________________________________________\n",
       "BatchNorm2d          64 x 256 x 21 x 21   512        True      \n",
       "________________________________________________________________\n",
       "ReLU                 64 x 256 x 21 x 21   0          False     \n",
       "________________________________________________________________\n",
       "Conv2d               64 x 256 x 21 x 21   589,824    False     \n",
       "________________________________________________________________\n",
       "BatchNorm2d          64 x 256 x 21 x 21   512        True      \n",
       "________________________________________________________________\n",
       "Conv2d               64 x 256 x 21 x 21   32,768     False     \n",
       "________________________________________________________________\n",
       "BatchNorm2d          64 x 256 x 21 x 21   512        True      \n",
       "________________________________________________________________\n",
       "Conv2d               64 x 256 x 21 x 21   589,824    False     \n",
       "________________________________________________________________\n",
       "BatchNorm2d          64 x 256 x 21 x 21   512        True      \n",
       "________________________________________________________________\n",
       "ReLU                 64 x 256 x 21 x 21   0          False     \n",
       "________________________________________________________________\n",
       "Conv2d               64 x 256 x 21 x 21   589,824    False     \n",
       "________________________________________________________________\n",
       "BatchNorm2d          64 x 256 x 21 x 21   512        True      \n",
       "________________________________________________________________\n",
       "Conv2d               64 x 256 x 21 x 21   589,824    False     \n",
       "________________________________________________________________\n",
       "BatchNorm2d          64 x 256 x 21 x 21   512        True      \n",
       "________________________________________________________________\n",
       "ReLU                 64 x 256 x 21 x 21   0          False     \n",
       "________________________________________________________________\n",
       "Conv2d               64 x 256 x 21 x 21   589,824    False     \n",
       "________________________________________________________________\n",
       "BatchNorm2d          64 x 256 x 21 x 21   512        True      \n",
       "________________________________________________________________\n",
       "Conv2d               64 x 256 x 21 x 21   589,824    False     \n",
       "________________________________________________________________\n",
       "BatchNorm2d          64 x 256 x 21 x 21   512        True      \n",
       "________________________________________________________________\n",
       "ReLU                 64 x 256 x 21 x 21   0          False     \n",
       "________________________________________________________________\n",
       "Conv2d               64 x 256 x 21 x 21   589,824    False     \n",
       "________________________________________________________________\n",
       "BatchNorm2d          64 x 256 x 21 x 21   512        True      \n",
       "________________________________________________________________\n",
       "Conv2d               64 x 256 x 21 x 21   589,824    False     \n",
       "________________________________________________________________\n",
       "BatchNorm2d          64 x 256 x 21 x 21   512        True      \n",
       "________________________________________________________________\n",
       "ReLU                 64 x 256 x 21 x 21   0          False     \n",
       "________________________________________________________________\n",
       "Conv2d               64 x 256 x 21 x 21   589,824    False     \n",
       "________________________________________________________________\n",
       "BatchNorm2d          64 x 256 x 21 x 21   512        True      \n",
       "________________________________________________________________\n",
       "Conv2d               64 x 256 x 21 x 21   589,824    False     \n",
       "________________________________________________________________\n",
       "BatchNorm2d          64 x 256 x 21 x 21   512        True      \n",
       "________________________________________________________________\n",
       "ReLU                 64 x 256 x 21 x 21   0          False     \n",
       "________________________________________________________________\n",
       "Conv2d               64 x 256 x 21 x 21   589,824    False     \n",
       "________________________________________________________________\n",
       "BatchNorm2d          64 x 256 x 21 x 21   512        True      \n",
       "________________________________________________________________\n",
       "Conv2d               64 x 512 x 11 x 11   1,179,648  False     \n",
       "________________________________________________________________\n",
       "BatchNorm2d          64 x 512 x 11 x 11   1,024      True      \n",
       "________________________________________________________________\n",
       "ReLU                 64 x 512 x 11 x 11   0          False     \n",
       "________________________________________________________________\n",
       "Conv2d               64 x 512 x 11 x 11   2,359,296  False     \n",
       "________________________________________________________________\n",
       "BatchNorm2d          64 x 512 x 11 x 11   1,024      True      \n",
       "________________________________________________________________\n",
       "Conv2d               64 x 512 x 11 x 11   131,072    False     \n",
       "________________________________________________________________\n",
       "BatchNorm2d          64 x 512 x 11 x 11   1,024      True      \n",
       "________________________________________________________________\n",
       "Conv2d               64 x 512 x 11 x 11   2,359,296  False     \n",
       "________________________________________________________________\n",
       "BatchNorm2d          64 x 512 x 11 x 11   1,024      True      \n",
       "________________________________________________________________\n",
       "ReLU                 64 x 512 x 11 x 11   0          False     \n",
       "________________________________________________________________\n",
       "Conv2d               64 x 512 x 11 x 11   2,359,296  False     \n",
       "________________________________________________________________\n",
       "BatchNorm2d          64 x 512 x 11 x 11   1,024      True      \n",
       "________________________________________________________________\n",
       "Conv2d               64 x 512 x 11 x 11   2,359,296  False     \n",
       "________________________________________________________________\n",
       "BatchNorm2d          64 x 512 x 11 x 11   1,024      True      \n",
       "________________________________________________________________\n",
       "ReLU                 64 x 512 x 11 x 11   0          False     \n",
       "________________________________________________________________\n",
       "Conv2d               64 x 512 x 11 x 11   2,359,296  False     \n",
       "________________________________________________________________\n",
       "BatchNorm2d          64 x 512 x 11 x 11   1,024      True      \n",
       "________________________________________________________________\n",
       "AdaptiveAvgPool2d    64 x 512 x 1 x 1     0          False     \n",
       "________________________________________________________________\n",
       "AdaptiveMaxPool2d    64 x 512 x 1 x 1     0          False     \n",
       "________________________________________________________________\n",
       "Flatten              64 x 1024            0          False     \n",
       "________________________________________________________________\n",
       "BatchNorm1d          64 x 1024            2,048      True      \n",
       "________________________________________________________________\n",
       "Dropout              64 x 1024            0          False     \n",
       "________________________________________________________________\n",
       "Linear               64 x 512             524,288    True      \n",
       "________________________________________________________________\n",
       "ReLU                 64 x 512             0          False     \n",
       "________________________________________________________________\n",
       "BatchNorm1d          64 x 512             1,024      True      \n",
       "________________________________________________________________\n",
       "Dropout              64 x 512             0          False     \n",
       "________________________________________________________________\n",
       "Linear               64 x 1000            512,000    True      \n",
       "________________________________________________________________\n",
       "\n",
       "Total params: 22,324,032\n",
       "Total trainable params: 1,056,384\n",
       "Total non-trainable params: 21,267,648\n",
       "\n",
       "Optimizer used: <function Adam at 0x7ff2c37c6700>\n",
       "Loss function: CrossEntropyLoss()\n",
       "\n",
       "Model frozen up to parameter group #1\n",
       "\n",
       "Callbacks:\n",
       "  - ModelToHalf\n",
       "  - TrainEvalCallback\n",
       "  - Recorder\n",
       "  - ProgressCallback\n",
       "  - MixedPrecision"
      ]
     },
     "execution_count": 20,
     "metadata": {},
     "output_type": "execute_result"
    }
   ],
   "source": [
    "learn.summary()"
   ]
  },
  {
   "cell_type": "markdown",
   "metadata": {},
   "source": [
    "Entrenamos el modelo congelado para ajustar los pesos de las últimas capas a nuestras clases, y descongelamos el modelo."
   ]
  },
  {
   "cell_type": "code",
   "execution_count": 21,
   "metadata": {
    "scrolled": true
   },
   "outputs": [
    {
     "data": {
      "text/html": [
       "<table border=\"1\" class=\"dataframe\">\n",
       "  <thead>\n",
       "    <tr style=\"text-align: left;\">\n",
       "      <th>epoch</th>\n",
       "      <th>train_loss</th>\n",
       "      <th>valid_loss</th>\n",
       "      <th>accuracy</th>\n",
       "      <th>time</th>\n",
       "    </tr>\n",
       "  </thead>\n",
       "  <tbody>\n",
       "    <tr>\n",
       "      <td>0</td>\n",
       "      <td>3.449109</td>\n",
       "      <td>2.802183</td>\n",
       "      <td>0.401997</td>\n",
       "      <td>26:29</td>\n",
       "    </tr>\n",
       "  </tbody>\n",
       "</table>"
      ],
      "text/plain": [
       "<IPython.core.display.HTML object>"
      ]
     },
     "metadata": {},
     "output_type": "display_data"
    }
   ],
   "source": [
    "learn.fit(1, 3e-3)\n",
    "learn.unfreeze()"
   ]
  },
  {
   "cell_type": "markdown",
   "metadata": {},
   "source": [
    "Buscamos el factor de aprendizaje más adecuado con lr_find."
   ]
  },
  {
   "cell_type": "code",
   "execution_count": null,
   "metadata": {},
   "outputs": [],
   "source": [
    "learn.lr_find()"
   ]
  },
  {
   "cell_type": "markdown",
   "metadata": {},
   "source": [
    "Defimos una función para continuar el aprendizaje con los pesos guardados."
   ]
  },
  {
   "cell_type": "code",
   "execution_count": 19,
   "metadata": {},
   "outputs": [],
   "source": [
    "def continue_training(pth_filename):\n",
    "    learn = Learner(dls, model, loss_func=nn.CrossEntropyLoss(weight=weights), metrics=accuracy,\n",
    "                       splitter=custom_splitter).to_fp16()\n",
    "    learn.load(pth_filename)\n",
    "    learn.unfreeze()\n",
    "    return learn"
   ]
  },
  {
   "cell_type": "markdown",
   "metadata": {},
   "source": [
    "Entrenamos durante 20 épocas con el factor de aprendizaje máximo adecuado según la visualización del buscador de factores de aprendizaje, guardando los pesos del entrenamiento en cada 5 épocas."
   ]
  },
  {
   "cell_type": "code",
   "execution_count": 22,
   "metadata": {
    "scrolled": true
   },
   "outputs": [
    {
     "data": {
      "text/html": [
       "<table border=\"1\" class=\"dataframe\">\n",
       "  <thead>\n",
       "    <tr style=\"text-align: left;\">\n",
       "      <th>epoch</th>\n",
       "      <th>train_loss</th>\n",
       "      <th>valid_loss</th>\n",
       "      <th>accuracy</th>\n",
       "      <th>time</th>\n",
       "    </tr>\n",
       "  </thead>\n",
       "  <tbody>\n",
       "    <tr>\n",
       "      <td>0</td>\n",
       "      <td>3.010569</td>\n",
       "      <td>2.348903</td>\n",
       "      <td>0.496933</td>\n",
       "      <td>26:46</td>\n",
       "    </tr>\n",
       "    <tr>\n",
       "      <td>1</td>\n",
       "      <td>2.850574</td>\n",
       "      <td>2.210580</td>\n",
       "      <td>0.518535</td>\n",
       "      <td>26:54</td>\n",
       "    </tr>\n",
       "    <tr>\n",
       "      <td>2</td>\n",
       "      <td>2.668118</td>\n",
       "      <td>2.123080</td>\n",
       "      <td>0.535151</td>\n",
       "      <td>26:53</td>\n",
       "    </tr>\n",
       "    <tr>\n",
       "      <td>3</td>\n",
       "      <td>2.593833</td>\n",
       "      <td>2.055493</td>\n",
       "      <td>0.545241</td>\n",
       "      <td>26:55</td>\n",
       "    </tr>\n",
       "    <tr>\n",
       "      <td>4</td>\n",
       "      <td>2.577320</td>\n",
       "      <td>1.992223</td>\n",
       "      <td>0.556469</td>\n",
       "      <td>26:51</td>\n",
       "    </tr>\n",
       "  </tbody>\n",
       "</table>"
      ],
      "text/plain": [
       "<IPython.core.display.HTML object>"
      ]
     },
     "metadata": {},
     "output_type": "display_data"
    },
    {
     "data": {
      "text/plain": [
       "Path('models/species1000-resnet34-nobranch-fepochs1-uepochs5.pth')"
      ]
     },
     "execution_count": 22,
     "metadata": {},
     "output_type": "execute_result"
    }
   ],
   "source": [
    "learn.fit(5, slice(1e-6,1e-4))\n",
    "learn.save('species1000-resnet34-nobranch-fepochs1-uepochs5')"
   ]
  },
  {
   "cell_type": "code",
   "execution_count": 23,
   "metadata": {
    "scrolled": true
   },
   "outputs": [
    {
     "data": {
      "text/html": [
       "<table border=\"1\" class=\"dataframe\">\n",
       "  <thead>\n",
       "    <tr style=\"text-align: left;\">\n",
       "      <th>epoch</th>\n",
       "      <th>train_loss</th>\n",
       "      <th>valid_loss</th>\n",
       "      <th>accuracy</th>\n",
       "      <th>time</th>\n",
       "    </tr>\n",
       "  </thead>\n",
       "  <tbody>\n",
       "    <tr>\n",
       "      <td>0</td>\n",
       "      <td>2.522961</td>\n",
       "      <td>1.958896</td>\n",
       "      <td>0.562094</td>\n",
       "      <td>26:58</td>\n",
       "    </tr>\n",
       "    <tr>\n",
       "      <td>1</td>\n",
       "      <td>2.418562</td>\n",
       "      <td>1.908316</td>\n",
       "      <td>0.568999</td>\n",
       "      <td>27:02</td>\n",
       "    </tr>\n",
       "    <tr>\n",
       "      <td>2</td>\n",
       "      <td>2.382770</td>\n",
       "      <td>1.878833</td>\n",
       "      <td>0.574696</td>\n",
       "      <td>26:58</td>\n",
       "    </tr>\n",
       "    <tr>\n",
       "      <td>3</td>\n",
       "      <td>2.391359</td>\n",
       "      <td>1.845588</td>\n",
       "      <td>0.582477</td>\n",
       "      <td>26:53</td>\n",
       "    </tr>\n",
       "    <tr>\n",
       "      <td>4</td>\n",
       "      <td>2.332343</td>\n",
       "      <td>1.818241</td>\n",
       "      <td>0.588031</td>\n",
       "      <td>26:58</td>\n",
       "    </tr>\n",
       "  </tbody>\n",
       "</table>"
      ],
      "text/plain": [
       "<IPython.core.display.HTML object>"
      ]
     },
     "metadata": {},
     "output_type": "display_data"
    },
    {
     "data": {
      "text/plain": [
       "Path('models/species1000-resnet34-nobranch-fepochs1-uepochs10.pth')"
      ]
     },
     "execution_count": 23,
     "metadata": {},
     "output_type": "execute_result"
    }
   ],
   "source": [
    "learn.fit(5, slice(1e-6,1e-4))\n",
    "learn.save('species1000-resnet34-nobranch-fepochs1-uepochs10')"
   ]
  },
  {
   "cell_type": "code",
   "execution_count": 24,
   "metadata": {},
   "outputs": [
    {
     "data": {
      "text/html": [
       "<table border=\"1\" class=\"dataframe\">\n",
       "  <thead>\n",
       "    <tr style=\"text-align: left;\">\n",
       "      <th>epoch</th>\n",
       "      <th>train_loss</th>\n",
       "      <th>valid_loss</th>\n",
       "      <th>accuracy</th>\n",
       "      <th>time</th>\n",
       "    </tr>\n",
       "  </thead>\n",
       "  <tbody>\n",
       "    <tr>\n",
       "      <td>0</td>\n",
       "      <td>2.232615</td>\n",
       "      <td>1.789293</td>\n",
       "      <td>0.591489</td>\n",
       "      <td>27:02</td>\n",
       "    </tr>\n",
       "    <tr>\n",
       "      <td>1</td>\n",
       "      <td>2.303785</td>\n",
       "      <td>1.767356</td>\n",
       "      <td>0.597695</td>\n",
       "      <td>27:00</td>\n",
       "    </tr>\n",
       "    <tr>\n",
       "      <td>2</td>\n",
       "      <td>2.247974</td>\n",
       "      <td>1.749336</td>\n",
       "      <td>0.599626</td>\n",
       "      <td>26:57</td>\n",
       "    </tr>\n",
       "    <tr>\n",
       "      <td>3</td>\n",
       "      <td>2.247029</td>\n",
       "      <td>1.714650</td>\n",
       "      <td>0.603013</td>\n",
       "      <td>27:04</td>\n",
       "    </tr>\n",
       "    <tr>\n",
       "      <td>4</td>\n",
       "      <td>2.190866</td>\n",
       "      <td>1.699940</td>\n",
       "      <td>0.608425</td>\n",
       "      <td>26:56</td>\n",
       "    </tr>\n",
       "  </tbody>\n",
       "</table>"
      ],
      "text/plain": [
       "<IPython.core.display.HTML object>"
      ]
     },
     "metadata": {},
     "output_type": "display_data"
    },
    {
     "data": {
      "text/plain": [
       "Path('models/species1000-resnet34-nobranch-fepochs1-uepochs15.pth')"
      ]
     },
     "execution_count": 24,
     "metadata": {},
     "output_type": "execute_result"
    }
   ],
   "source": [
    "learn.fit(5, slice(1e-6,1e-4))\n",
    "learn.save('species1000-resnet34-nobranch-fepochs1-uepochs15')"
   ]
  },
  {
   "cell_type": "code",
   "execution_count": 25,
   "metadata": {
    "scrolled": true
   },
   "outputs": [],
   "source": [
    "learn.export('species1000-resnet34-nobranch-fepochs1-uepochs15')"
   ]
  },
  {
   "cell_type": "code",
   "execution_count": 20,
   "metadata": {},
   "outputs": [],
   "source": [
    "learn = continue_training('species1000-resnet34-nobranch-fepochs1-uepochs15')"
   ]
  },
  {
   "cell_type": "code",
   "execution_count": 21,
   "metadata": {},
   "outputs": [
    {
     "data": {
      "text/html": [
       "<table border=\"1\" class=\"dataframe\">\n",
       "  <thead>\n",
       "    <tr style=\"text-align: left;\">\n",
       "      <th>epoch</th>\n",
       "      <th>train_loss</th>\n",
       "      <th>valid_loss</th>\n",
       "      <th>accuracy</th>\n",
       "      <th>time</th>\n",
       "    </tr>\n",
       "  </thead>\n",
       "  <tbody>\n",
       "    <tr>\n",
       "      <td>0</td>\n",
       "      <td>2.175069</td>\n",
       "      <td>1.693805</td>\n",
       "      <td>0.609550</td>\n",
       "      <td>26:54</td>\n",
       "    </tr>\n",
       "    <tr>\n",
       "      <td>1</td>\n",
       "      <td>2.154905</td>\n",
       "      <td>1.676524</td>\n",
       "      <td>0.611244</td>\n",
       "      <td>26:53</td>\n",
       "    </tr>\n",
       "    <tr>\n",
       "      <td>2</td>\n",
       "      <td>2.094192</td>\n",
       "      <td>1.653802</td>\n",
       "      <td>0.615472</td>\n",
       "      <td>26:57</td>\n",
       "    </tr>\n",
       "    <tr>\n",
       "      <td>3</td>\n",
       "      <td>2.044050</td>\n",
       "      <td>1.638179</td>\n",
       "      <td>0.618018</td>\n",
       "      <td>26:56</td>\n",
       "    </tr>\n",
       "    <tr>\n",
       "      <td>4</td>\n",
       "      <td>2.106289</td>\n",
       "      <td>1.617930</td>\n",
       "      <td>0.621749</td>\n",
       "      <td>27:14</td>\n",
       "    </tr>\n",
       "  </tbody>\n",
       "</table>"
      ],
      "text/plain": [
       "<IPython.core.display.HTML object>"
      ]
     },
     "metadata": {},
     "output_type": "display_data"
    },
    {
     "data": {
      "text/plain": [
       "Path('models/species1000-resnet34-nobranch-fepochs1-uepochs20.pth')"
      ]
     },
     "execution_count": 21,
     "metadata": {},
     "output_type": "execute_result"
    }
   ],
   "source": [
    "learn.fit(5, slice(1e-6,1e-4))\n",
    "learn.save('species1000-resnet34-nobranch-fepochs1-uepochs20')"
   ]
  },
  {
   "cell_type": "code",
   "execution_count": 22,
   "metadata": {},
   "outputs": [],
   "source": [
    "learn.export('species1000-resnet34-nobranch-fepochs1-uepochs20')"
   ]
  },
  {
   "cell_type": "markdown",
   "metadata": {},
   "source": [
    "## Experimento 11: 1 Rama"
   ]
  },
  {
   "cell_type": "markdown",
   "metadata": {},
   "source": [
    "Creamos el cuerpo (_encoder_) y cabeza del modelo tomando como base ResNet-34 con pesos preentrenados."
   ]
  },
  {
   "cell_type": "code",
   "execution_count": 11,
   "metadata": {
    "scrolled": false
   },
   "outputs": [
    {
     "data": {
      "text/plain": [
       "Sequential(\n",
       "  (0): Conv2d(3, 64, kernel_size=(7, 7), stride=(2, 2), padding=(3, 3), bias=False)\n",
       "  (1): BatchNorm2d(64, eps=1e-05, momentum=0.1, affine=True, track_running_stats=True)\n",
       "  (2): ReLU(inplace=True)\n",
       "  (3): MaxPool2d(kernel_size=3, stride=2, padding=1, dilation=1, ceil_mode=False)\n",
       "  (4): Sequential(\n",
       "    (0): BasicBlock(\n",
       "      (conv1): Conv2d(64, 64, kernel_size=(3, 3), stride=(1, 1), padding=(1, 1), bias=False)\n",
       "      (bn1): BatchNorm2d(64, eps=1e-05, momentum=0.1, affine=True, track_running_stats=True)\n",
       "      (relu): ReLU(inplace=True)\n",
       "      (conv2): Conv2d(64, 64, kernel_size=(3, 3), stride=(1, 1), padding=(1, 1), bias=False)\n",
       "      (bn2): BatchNorm2d(64, eps=1e-05, momentum=0.1, affine=True, track_running_stats=True)\n",
       "    )\n",
       "    (1): BasicBlock(\n",
       "      (conv1): Conv2d(64, 64, kernel_size=(3, 3), stride=(1, 1), padding=(1, 1), bias=False)\n",
       "      (bn1): BatchNorm2d(64, eps=1e-05, momentum=0.1, affine=True, track_running_stats=True)\n",
       "      (relu): ReLU(inplace=True)\n",
       "      (conv2): Conv2d(64, 64, kernel_size=(3, 3), stride=(1, 1), padding=(1, 1), bias=False)\n",
       "      (bn2): BatchNorm2d(64, eps=1e-05, momentum=0.1, affine=True, track_running_stats=True)\n",
       "    )\n",
       "    (2): BasicBlock(\n",
       "      (conv1): Conv2d(64, 64, kernel_size=(3, 3), stride=(1, 1), padding=(1, 1), bias=False)\n",
       "      (bn1): BatchNorm2d(64, eps=1e-05, momentum=0.1, affine=True, track_running_stats=True)\n",
       "      (relu): ReLU(inplace=True)\n",
       "      (conv2): Conv2d(64, 64, kernel_size=(3, 3), stride=(1, 1), padding=(1, 1), bias=False)\n",
       "      (bn2): BatchNorm2d(64, eps=1e-05, momentum=0.1, affine=True, track_running_stats=True)\n",
       "    )\n",
       "  )\n",
       "  (5): Sequential(\n",
       "    (0): BasicBlock(\n",
       "      (conv1): Conv2d(64, 128, kernel_size=(3, 3), stride=(2, 2), padding=(1, 1), bias=False)\n",
       "      (bn1): BatchNorm2d(128, eps=1e-05, momentum=0.1, affine=True, track_running_stats=True)\n",
       "      (relu): ReLU(inplace=True)\n",
       "      (conv2): Conv2d(128, 128, kernel_size=(3, 3), stride=(1, 1), padding=(1, 1), bias=False)\n",
       "      (bn2): BatchNorm2d(128, eps=1e-05, momentum=0.1, affine=True, track_running_stats=True)\n",
       "      (downsample): Sequential(\n",
       "        (0): Conv2d(64, 128, kernel_size=(1, 1), stride=(2, 2), bias=False)\n",
       "        (1): BatchNorm2d(128, eps=1e-05, momentum=0.1, affine=True, track_running_stats=True)\n",
       "      )\n",
       "    )\n",
       "    (1): BasicBlock(\n",
       "      (conv1): Conv2d(128, 128, kernel_size=(3, 3), stride=(1, 1), padding=(1, 1), bias=False)\n",
       "      (bn1): BatchNorm2d(128, eps=1e-05, momentum=0.1, affine=True, track_running_stats=True)\n",
       "      (relu): ReLU(inplace=True)\n",
       "      (conv2): Conv2d(128, 128, kernel_size=(3, 3), stride=(1, 1), padding=(1, 1), bias=False)\n",
       "      (bn2): BatchNorm2d(128, eps=1e-05, momentum=0.1, affine=True, track_running_stats=True)\n",
       "    )\n",
       "    (2): BasicBlock(\n",
       "      (conv1): Conv2d(128, 128, kernel_size=(3, 3), stride=(1, 1), padding=(1, 1), bias=False)\n",
       "      (bn1): BatchNorm2d(128, eps=1e-05, momentum=0.1, affine=True, track_running_stats=True)\n",
       "      (relu): ReLU(inplace=True)\n",
       "      (conv2): Conv2d(128, 128, kernel_size=(3, 3), stride=(1, 1), padding=(1, 1), bias=False)\n",
       "      (bn2): BatchNorm2d(128, eps=1e-05, momentum=0.1, affine=True, track_running_stats=True)\n",
       "    )\n",
       "    (3): BasicBlock(\n",
       "      (conv1): Conv2d(128, 128, kernel_size=(3, 3), stride=(1, 1), padding=(1, 1), bias=False)\n",
       "      (bn1): BatchNorm2d(128, eps=1e-05, momentum=0.1, affine=True, track_running_stats=True)\n",
       "      (relu): ReLU(inplace=True)\n",
       "      (conv2): Conv2d(128, 128, kernel_size=(3, 3), stride=(1, 1), padding=(1, 1), bias=False)\n",
       "      (bn2): BatchNorm2d(128, eps=1e-05, momentum=0.1, affine=True, track_running_stats=True)\n",
       "    )\n",
       "  )\n",
       "  (6): Sequential(\n",
       "    (0): BasicBlock(\n",
       "      (conv1): Conv2d(128, 256, kernel_size=(3, 3), stride=(2, 2), padding=(1, 1), bias=False)\n",
       "      (bn1): BatchNorm2d(256, eps=1e-05, momentum=0.1, affine=True, track_running_stats=True)\n",
       "      (relu): ReLU(inplace=True)\n",
       "      (conv2): Conv2d(256, 256, kernel_size=(3, 3), stride=(1, 1), padding=(1, 1), bias=False)\n",
       "      (bn2): BatchNorm2d(256, eps=1e-05, momentum=0.1, affine=True, track_running_stats=True)\n",
       "      (downsample): Sequential(\n",
       "        (0): Conv2d(128, 256, kernel_size=(1, 1), stride=(2, 2), bias=False)\n",
       "        (1): BatchNorm2d(256, eps=1e-05, momentum=0.1, affine=True, track_running_stats=True)\n",
       "      )\n",
       "    )\n",
       "    (1): BasicBlock(\n",
       "      (conv1): Conv2d(256, 256, kernel_size=(3, 3), stride=(1, 1), padding=(1, 1), bias=False)\n",
       "      (bn1): BatchNorm2d(256, eps=1e-05, momentum=0.1, affine=True, track_running_stats=True)\n",
       "      (relu): ReLU(inplace=True)\n",
       "      (conv2): Conv2d(256, 256, kernel_size=(3, 3), stride=(1, 1), padding=(1, 1), bias=False)\n",
       "      (bn2): BatchNorm2d(256, eps=1e-05, momentum=0.1, affine=True, track_running_stats=True)\n",
       "    )\n",
       "    (2): BasicBlock(\n",
       "      (conv1): Conv2d(256, 256, kernel_size=(3, 3), stride=(1, 1), padding=(1, 1), bias=False)\n",
       "      (bn1): BatchNorm2d(256, eps=1e-05, momentum=0.1, affine=True, track_running_stats=True)\n",
       "      (relu): ReLU(inplace=True)\n",
       "      (conv2): Conv2d(256, 256, kernel_size=(3, 3), stride=(1, 1), padding=(1, 1), bias=False)\n",
       "      (bn2): BatchNorm2d(256, eps=1e-05, momentum=0.1, affine=True, track_running_stats=True)\n",
       "    )\n",
       "    (3): BasicBlock(\n",
       "      (conv1): Conv2d(256, 256, kernel_size=(3, 3), stride=(1, 1), padding=(1, 1), bias=False)\n",
       "      (bn1): BatchNorm2d(256, eps=1e-05, momentum=0.1, affine=True, track_running_stats=True)\n",
       "      (relu): ReLU(inplace=True)\n",
       "      (conv2): Conv2d(256, 256, kernel_size=(3, 3), stride=(1, 1), padding=(1, 1), bias=False)\n",
       "      (bn2): BatchNorm2d(256, eps=1e-05, momentum=0.1, affine=True, track_running_stats=True)\n",
       "    )\n",
       "    (4): BasicBlock(\n",
       "      (conv1): Conv2d(256, 256, kernel_size=(3, 3), stride=(1, 1), padding=(1, 1), bias=False)\n",
       "      (bn1): BatchNorm2d(256, eps=1e-05, momentum=0.1, affine=True, track_running_stats=True)\n",
       "      (relu): ReLU(inplace=True)\n",
       "      (conv2): Conv2d(256, 256, kernel_size=(3, 3), stride=(1, 1), padding=(1, 1), bias=False)\n",
       "      (bn2): BatchNorm2d(256, eps=1e-05, momentum=0.1, affine=True, track_running_stats=True)\n",
       "    )\n",
       "    (5): BasicBlock(\n",
       "      (conv1): Conv2d(256, 256, kernel_size=(3, 3), stride=(1, 1), padding=(1, 1), bias=False)\n",
       "      (bn1): BatchNorm2d(256, eps=1e-05, momentum=0.1, affine=True, track_running_stats=True)\n",
       "      (relu): ReLU(inplace=True)\n",
       "      (conv2): Conv2d(256, 256, kernel_size=(3, 3), stride=(1, 1), padding=(1, 1), bias=False)\n",
       "      (bn2): BatchNorm2d(256, eps=1e-05, momentum=0.1, affine=True, track_running_stats=True)\n",
       "    )\n",
       "  )\n",
       "  (7): Sequential(\n",
       "    (0): BasicBlock(\n",
       "      (conv1): Conv2d(256, 512, kernel_size=(3, 3), stride=(2, 2), padding=(1, 1), bias=False)\n",
       "      (bn1): BatchNorm2d(512, eps=1e-05, momentum=0.1, affine=True, track_running_stats=True)\n",
       "      (relu): ReLU(inplace=True)\n",
       "      (conv2): Conv2d(512, 512, kernel_size=(3, 3), stride=(1, 1), padding=(1, 1), bias=False)\n",
       "      (bn2): BatchNorm2d(512, eps=1e-05, momentum=0.1, affine=True, track_running_stats=True)\n",
       "      (downsample): Sequential(\n",
       "        (0): Conv2d(256, 512, kernel_size=(1, 1), stride=(2, 2), bias=False)\n",
       "        (1): BatchNorm2d(512, eps=1e-05, momentum=0.1, affine=True, track_running_stats=True)\n",
       "      )\n",
       "    )\n",
       "    (1): BasicBlock(\n",
       "      (conv1): Conv2d(512, 512, kernel_size=(3, 3), stride=(1, 1), padding=(1, 1), bias=False)\n",
       "      (bn1): BatchNorm2d(512, eps=1e-05, momentum=0.1, affine=True, track_running_stats=True)\n",
       "      (relu): ReLU(inplace=True)\n",
       "      (conv2): Conv2d(512, 512, kernel_size=(3, 3), stride=(1, 1), padding=(1, 1), bias=False)\n",
       "      (bn2): BatchNorm2d(512, eps=1e-05, momentum=0.1, affine=True, track_running_stats=True)\n",
       "    )\n",
       "    (2): BasicBlock(\n",
       "      (conv1): Conv2d(512, 512, kernel_size=(3, 3), stride=(1, 1), padding=(1, 1), bias=False)\n",
       "      (bn1): BatchNorm2d(512, eps=1e-05, momentum=0.1, affine=True, track_running_stats=True)\n",
       "      (relu): ReLU(inplace=True)\n",
       "      (conv2): Conv2d(512, 512, kernel_size=(3, 3), stride=(1, 1), padding=(1, 1), bias=False)\n",
       "      (bn2): BatchNorm2d(512, eps=1e-05, momentum=0.1, affine=True, track_running_stats=True)\n",
       "    )\n",
       "  )\n",
       ")"
      ]
     },
     "execution_count": 11,
     "metadata": {},
     "output_type": "execute_result"
    }
   ],
   "source": [
    "model = resnet34\n",
    "body = create_body(model, cut=-2)\n",
    "body"
   ]
  },
  {
   "cell_type": "code",
   "execution_count": 12,
   "metadata": {
    "scrolled": true
   },
   "outputs": [
    {
     "data": {
      "text/plain": [
       "Sequential(\n",
       "  (0): Conv2d(3, 64, kernel_size=(7, 7), stride=(2, 2), padding=(3, 3), bias=False)\n",
       "  (1): BatchNorm2d(64, eps=1e-05, momentum=0.1, affine=True, track_running_stats=True)\n",
       "  (2): ReLU(inplace=True)\n",
       "  (3): MaxPool2d(kernel_size=3, stride=2, padding=1, dilation=1, ceil_mode=False)\n",
       ")"
      ]
     },
     "execution_count": 12,
     "metadata": {},
     "output_type": "execute_result"
    }
   ],
   "source": [
    "stem = body[0:4]\n",
    "stem"
   ]
  },
  {
   "cell_type": "markdown",
   "metadata": {},
   "source": [
    "Separamos el cuerpo de la arquitectura en los distintos bloques para definir cada uno de ellos y aplicar posteriormente una rama después del bloque 2."
   ]
  },
  {
   "cell_type": "code",
   "execution_count": 13,
   "metadata": {
    "scrolled": true
   },
   "outputs": [
    {
     "data": {
      "text/plain": [
       "Sequential(\n",
       "  (0): BasicBlock(\n",
       "    (conv1): Conv2d(64, 64, kernel_size=(3, 3), stride=(1, 1), padding=(1, 1), bias=False)\n",
       "    (bn1): BatchNorm2d(64, eps=1e-05, momentum=0.1, affine=True, track_running_stats=True)\n",
       "    (relu): ReLU(inplace=True)\n",
       "    (conv2): Conv2d(64, 64, kernel_size=(3, 3), stride=(1, 1), padding=(1, 1), bias=False)\n",
       "    (bn2): BatchNorm2d(64, eps=1e-05, momentum=0.1, affine=True, track_running_stats=True)\n",
       "  )\n",
       "  (1): BasicBlock(\n",
       "    (conv1): Conv2d(64, 64, kernel_size=(3, 3), stride=(1, 1), padding=(1, 1), bias=False)\n",
       "    (bn1): BatchNorm2d(64, eps=1e-05, momentum=0.1, affine=True, track_running_stats=True)\n",
       "    (relu): ReLU(inplace=True)\n",
       "    (conv2): Conv2d(64, 64, kernel_size=(3, 3), stride=(1, 1), padding=(1, 1), bias=False)\n",
       "    (bn2): BatchNorm2d(64, eps=1e-05, momentum=0.1, affine=True, track_running_stats=True)\n",
       "  )\n",
       "  (2): BasicBlock(\n",
       "    (conv1): Conv2d(64, 64, kernel_size=(3, 3), stride=(1, 1), padding=(1, 1), bias=False)\n",
       "    (bn1): BatchNorm2d(64, eps=1e-05, momentum=0.1, affine=True, track_running_stats=True)\n",
       "    (relu): ReLU(inplace=True)\n",
       "    (conv2): Conv2d(64, 64, kernel_size=(3, 3), stride=(1, 1), padding=(1, 1), bias=False)\n",
       "    (bn2): BatchNorm2d(64, eps=1e-05, momentum=0.1, affine=True, track_running_stats=True)\n",
       "  )\n",
       ")"
      ]
     },
     "execution_count": 13,
     "metadata": {},
     "output_type": "execute_result"
    }
   ],
   "source": [
    "block1, block2, block3, block4 = body[4], body[5], body[6], body[7]\n",
    "block1"
   ]
  },
  {
   "cell_type": "code",
   "execution_count": 14,
   "metadata": {
    "scrolled": false
   },
   "outputs": [
    {
     "data": {
      "text/plain": [
       "Sequential(\n",
       "  (0): AdaptiveConcatPool2d(\n",
       "    (ap): AdaptiveAvgPool2d(output_size=1)\n",
       "    (mp): AdaptiveMaxPool2d(output_size=1)\n",
       "  )\n",
       "  (1): Flatten(full=False)\n",
       "  (2): BatchNorm1d(1024, eps=1e-05, momentum=0.1, affine=True, track_running_stats=True)\n",
       "  (3): Dropout(p=0.25, inplace=False)\n",
       "  (4): Linear(in_features=1024, out_features=512, bias=False)\n",
       "  (5): ReLU(inplace=True)\n",
       "  (6): BatchNorm1d(512, eps=1e-05, momentum=0.1, affine=True, track_running_stats=True)\n",
       "  (7): Dropout(p=0.5, inplace=False)\n",
       "  (8): Linear(in_features=512, out_features=1000, bias=False)\n",
       ")"
      ]
     },
     "execution_count": 14,
     "metadata": {},
     "output_type": "execute_result"
    }
   ],
   "source": [
    "head = create_head(512*2,dls.c)\n",
    "head"
   ]
  },
  {
   "cell_type": "markdown",
   "metadata": {},
   "source": [
    "Definimos una función para obtener las etiquetas de cada ejemplo, en este caso: el familia y la especie."
   ]
  },
  {
   "cell_type": "code",
   "execution_count": 15,
   "metadata": {
    "scrolled": true
   },
   "outputs": [],
   "source": [
    "def custom_get_y(o):\n",
    "    fine_label = o['Specie']\n",
    "    coarse1_label = o['Family']\n",
    "    return [coarse1_label, fine_label]"
   ]
  },
  {
   "cell_type": "markdown",
   "metadata": {},
   "source": [
    "Creamos una clase para nuestro modelo que divida el _encoder_ en los distintos bloques y añada una cabeza después del bloque 2 como rama con el número de clases de _Family_. En el método _forward_ establecemos la conexión de los distintos bloques, separando la salida de la rama del flujo normal, para así devolver ambas salidas en forma de diccionario."
   ]
  },
  {
   "cell_type": "code",
   "execution_count": 16,
   "metadata": {
    "scrolled": true
   },
   "outputs": [],
   "source": [
    "class Resnet34CustomModel(Module):\n",
    "    def __init__(self, encoder, head):\n",
    "        self.encoder = encoder\n",
    "        self.stem = encoder[0:4]\n",
    "        self.block1 = body[4]\n",
    "        self.block2 = body[5]\n",
    "        self.branch1 = create_head(128*2, len(set(df['Family'])))\n",
    "        self.block3 = body[6]\n",
    "        self.block4 = body[7]\n",
    "        self.head = head\n",
    "    \n",
    "    def forward(self, x):\n",
    "        x = self.stem(x)\n",
    "        x = self.block1(x)\n",
    "        x = self.block2(x)\n",
    "        coarse1_label = self.branch1(x)\n",
    "        x = self.block3(x)\n",
    "        x = self.block4(x)\n",
    "        fine_label = self.head(x)\n",
    "        return {\n",
    "                'fine_label': fine_label,\n",
    "                'coarse1_label': coarse1_label\n",
    "               }"
   ]
  },
  {
   "cell_type": "markdown",
   "metadata": {},
   "source": [
    "Creamos el modelo con la clase definida pasándole el cuerpo y cabeza."
   ]
  },
  {
   "cell_type": "code",
   "execution_count": 17,
   "metadata": {
    "scrolled": true
   },
   "outputs": [],
   "source": [
    "model = Resnet34CustomModel(body, head)"
   ]
  },
  {
   "cell_type": "markdown",
   "metadata": {},
   "source": [
    "Como hemos modificado el modelo y la obtención de las clases para usar una salida múltiple, tenemos que modificar el tipo de bloque de categoría a uno que soporte estas salidas. Para ello, definimos una función que obtenga la clase y codifique a categoría cada una."
   ]
  },
  {
   "cell_type": "code",
   "execution_count": 18,
   "metadata": {
    "scrolled": true
   },
   "outputs": [],
   "source": [
    "class CustomCategorize(DisplayedTransform):\n",
    "    \"Reversible transform of category string to `vocab` id\"\n",
    "    loss_func,order=CrossEntropyLossFlat(),1\n",
    "    def __init__(self, vocab=None, vocab_coarse1=None, vocab_coarse2=None, sort=True, add_na=False, num_y=1):\n",
    "        store_attr()\n",
    "        self.vocab = None if vocab is None else CategoryMap(vocab, sort=sort, add_na=add_na)\n",
    "        self.vocab_coarse1 = None if vocab_coarse1 is None else CategoryMap(vocab_coarse1, sort=sort, add_na=add_na)\n",
    "\n",
    "    def setups(self, dsets):\n",
    "        fine_dsets = [d[1] for d in dsets]\n",
    "        coarse1_dsets = [d[0] for d in dsets]\n",
    "        if self.vocab is None and dsets is not None: self.vocab = CategoryMap(fine_dsets, sort=self.sort, add_na=self.add_na)\n",
    "        if self.vocab_coarse1 is None and dsets is not None: self.vocab_coarse1 = CategoryMap(coarse1_dsets, sort=self.sort, add_na=self.add_na)\n",
    "        self.c = len(self.vocab)\n",
    "\n",
    "    def encodes(self, o): return {'fine_label': TensorCategory(self.vocab.o2i[o[1]]),\n",
    "                                  'coarse1_label': TensorCategory(self.vocab_coarse1.o2i[o[0]])\n",
    "                                 }\n",
    "    def decodes(self, o): return Category      (self.vocab    [o])"
   ]
  },
  {
   "cell_type": "code",
   "execution_count": 19,
   "metadata": {
    "scrolled": true
   },
   "outputs": [],
   "source": [
    "def CustomCategoryBlock(vocab=None, sort=True, add_na=False, num_y=1):\n",
    "    \"`TransformBlock` for single-label categorical targets\"\n",
    "    return TransformBlock(type_tfms=CustomCategorize(vocab=vocab, sort=sort, add_na=add_na))"
   ]
  },
  {
   "cell_type": "markdown",
   "metadata": {},
   "source": [
    "Creamos un _splitter_ personalizado con los parámetros de cada bloque y del _head_."
   ]
  },
  {
   "cell_type": "code",
   "execution_count": 20,
   "metadata": {
    "scrolled": true
   },
   "outputs": [],
   "source": [
    "def custom_splitter(model):\n",
    "    return [params(model.stem),\n",
    "            params(model.block1),\n",
    "            params(model.block2),\n",
    "            params(model.block3),\n",
    "            params(model.block4),\n",
    "            params(model.head)]"
   ]
  },
  {
   "cell_type": "markdown",
   "metadata": {},
   "source": [
    "Creamos un _datablock_ con: bloques de tipo imagen y categoría personalizada _CustomCategoryBlock_, un separador por columna, la _x_ con la columna que contienen la ruta de las imágenes, la _y_ con la función personalizada, una transformación para hacer un recorte aleatorio dejando un tamaño común de 336x336, y las transformaciones de aumento de datos por defecto."
   ]
  },
  {
   "cell_type": "code",
   "execution_count": 21,
   "metadata": {
    "scrolled": true
   },
   "outputs": [],
   "source": [
    "fishes = DataBlock(blocks = (ImageBlock, CustomCategoryBlock),\n",
    "                 splitter=ColSplitter(),\n",
    "                 get_x = ColReader(5, pref=path),\n",
    "                 get_y=custom_get_y,\n",
    "                 item_tfms=RandomResizedCrop(336, min_scale=0.5),\n",
    "                 batch_tfms=aug_transforms())\n",
    "dls = fishes.dataloaders(df)"
   ]
  },
  {
   "cell_type": "markdown",
   "metadata": {},
   "source": [
    "Mostramos los _dataloaders_ generados con el _datablock_."
   ]
  },
  {
   "cell_type": "code",
   "execution_count": 22,
   "metadata": {
    "scrolled": true
   },
   "outputs": [
    {
     "data": {
      "text/plain": [
       "((#337741) [(PILImage mode=RGB size=768x1024, {'fine_label': TensorCategory(531), 'coarse1_label': TensorCategory(25)}),(PILImage mode=RGB size=1024x738, {'fine_label': TensorCategory(776), 'coarse1_label': TensorCategory(25)}),(PILImage mode=RGB size=768x1024, {'fine_label': TensorCategory(538), 'coarse1_label': TensorCategory(25)}),(PILImage mode=RGB size=768x1024, {'fine_label': TensorCategory(837), 'coarse1_label': TensorCategory(41)}),(PILImage mode=RGB size=1024x786, {'fine_label': TensorCategory(32), 'coarse1_label': TensorCategory(0)}),(PILImage mode=RGB size=1024x683, {'fine_label': TensorCategory(145), 'coarse1_label': TensorCategory(109)}),(PILImage mode=RGB size=768x1024, {'fine_label': TensorCategory(827), 'coarse1_label': TensorCategory(108)}),(PILImage mode=RGB size=1024x697, {'fine_label': TensorCategory(792), 'coarse1_label': TensorCategory(100)}),(PILImage mode=RGB size=1024x768, {'fine_label': TensorCategory(784), 'coarse1_label': TensorCategory(9)}),(PILImage mode=RGB size=1024x768, {'fine_label': TensorCategory(522), 'coarse1_label': TensorCategory(121)})...],\n",
       " (#84436) [(PILImage mode=RGB size=576x1024, {'fine_label': TensorCategory(826), 'coarse1_label': TensorCategory(108)}),(PILImage mode=RGB size=512x320, {'fine_label': TensorCategory(296), 'coarse1_label': TensorCategory(0)}),(PILImage mode=RGB size=1024x768, {'fine_label': TensorCategory(283), 'coarse1_label': TensorCategory(71)}),(PILImage mode=RGB size=1024x683, {'fine_label': TensorCategory(223), 'coarse1_label': TensorCategory(71)}),(PILImage mode=RGB size=1024x683, {'fine_label': TensorCategory(333), 'coarse1_label': TensorCategory(121)}),(PILImage mode=RGB size=1024x768, {'fine_label': TensorCategory(272), 'coarse1_label': TensorCategory(41)}),(PILImage mode=RGB size=1024x576, {'fine_label': TensorCategory(163), 'coarse1_label': TensorCategory(23)}),(PILImage mode=RGB size=1024x768, {'fine_label': TensorCategory(827), 'coarse1_label': TensorCategory(108)}),(PILImage mode=RGB size=1024x768, {'fine_label': TensorCategory(868), 'coarse1_label': TensorCategory(113)}),(PILImage mode=RGB size=768x1024, {'fine_label': TensorCategory(816), 'coarse1_label': TensorCategory(41)})...])"
      ]
     },
     "execution_count": 22,
     "metadata": {},
     "output_type": "execute_result"
    }
   ],
   "source": [
    "dls.train_ds, dls.valid_ds"
   ]
  },
  {
   "cell_type": "markdown",
   "metadata": {},
   "source": [
    "Mostramos las clases finas y las categóricas de nuestros dataloaders."
   ]
  },
  {
   "cell_type": "code",
   "execution_count": 23,
   "metadata": {
    "scrolled": false
   },
   "outputs": [
    {
     "data": {
      "text/plain": [
       "((#1000) ['Abramis brama','Abudefduf abdominalis','Abudefduf bengalensis','Abudefduf saxatilis','Abudefduf septemfasciatus','Abudefduf sexfasciatus','Abudefduf sordidus','Abudefduf troschelii','Abudefduf vaigiensis','Acanthaluteres vittiger'...],\n",
       " (#135) ['Acanthuridae','Achiridae','Acipenseridae','Amiidae','Ammodytidae','Anguillidae','Antennariidae','Aphredoderidae','Aplodactylidae','Apogonidae'...])"
      ]
     },
     "execution_count": 23,
     "metadata": {},
     "output_type": "execute_result"
    }
   ],
   "source": [
    "dls.vocab, dls.vocab_coarse1"
   ]
  },
  {
   "cell_type": "markdown",
   "metadata": {},
   "source": [
    "Creamos el tensor con los pesos por clase y lo pasamos a GPU para poder usarlo durante el entrenamiento.\n"
   ]
  },
  {
   "cell_type": "code",
   "execution_count": 24,
   "metadata": {},
   "outputs": [],
   "source": [
    "weights = tensor([float(weights_df[weights_df['Specie']==c]['Weight']) for c in dls.vocab]).cuda()\n",
    "weights_family = tensor([float(weights_family_df[weights_family_df['Family']==c]['Weight']) for c in dls.vocab_coarse1]).cuda()"
   ]
  },
  {
   "cell_type": "markdown",
   "metadata": {},
   "source": [
    "Defimos nuestra función de pérdida como el sumatorio de la pérdida en entropía cruzada de las dos salidas."
   ]
  },
  {
   "cell_type": "code",
   "execution_count": 25,
   "metadata": {
    "scrolled": true
   },
   "outputs": [],
   "source": [
    "def loss_func(out, targ):\n",
    "    return nn.CrossEntropyLoss(weight=weights)(out['fine_label'], targ['fine_label']) + \\\n",
    "            nn.CrossEntropyLoss(weight=weights_family)(out['coarse1_label'], targ['coarse1_label'])"
   ]
  },
  {
   "cell_type": "markdown",
   "metadata": {},
   "source": [
    "Defimos la función de accuracy con la etiqueta fina, ya que es el resultado final que nos interesa. Además, esta etiqueta fue la que se usó para definir las particiones estratificadas, por lo que es la única que se debería tener en cuenta si queremos resultados más fiables."
   ]
  },
  {
   "cell_type": "code",
   "execution_count": 26,
   "metadata": {
    "scrolled": true
   },
   "outputs": [],
   "source": [
    "def custom_accuracy(inp, targ, axis=-1):\n",
    "    pred1,targ1 = flatten_check(inp['fine_label'].argmax(dim=axis), targ['fine_label'])\n",
    "    acc1 = (pred1 == targ1).float().mean()\n",
    "    return acc1"
   ]
  },
  {
   "cell_type": "markdown",
   "metadata": {},
   "source": [
    "Creamos nuestro objeto _Learner_ con los _dataloaders_, la función de pérdida _loss_func_ creada, la métrica exactitud y el _splitter_ creado. Además, congelamos nuestro modelo para ajustar primero los pesos preentrenados a nuestras clases."
   ]
  },
  {
   "cell_type": "code",
   "execution_count": 42,
   "metadata": {
    "scrolled": true
   },
   "outputs": [],
   "source": [
    "learn = Learner(dls, model, loss_func=loss_func, metrics=custom_accuracy,\n",
    "                   splitter=custom_splitter).to_fp16()\n",
    "learn.freeze()"
   ]
  },
  {
   "cell_type": "markdown",
   "metadata": {},
   "source": [
    "Mostramos un resumen de nuestro modelo."
   ]
  },
  {
   "cell_type": "code",
   "execution_count": 43,
   "metadata": {
    "scrolled": true
   },
   "outputs": [
    {
     "data": {
      "text/html": [
       "<table border=\"1\" class=\"dataframe\">\n",
       "  <thead>\n",
       "    <tr style=\"text-align: left;\">\n",
       "      <th>epoch</th>\n",
       "      <th>train_loss</th>\n",
       "      <th>valid_loss</th>\n",
       "      <th>custom_accuracy</th>\n",
       "      <th>time</th>\n",
       "    </tr>\n",
       "  </thead>\n",
       "  <tbody>\n",
       "    <tr>\n",
       "      <td>0</td>\n",
       "      <td>None</td>\n",
       "      <td>None</td>\n",
       "      <td>00:00</td>\n",
       "    </tr>\n",
       "  </tbody>\n",
       "</table>"
      ],
      "text/plain": [
       "<IPython.core.display.HTML object>"
      ]
     },
     "metadata": {},
     "output_type": "display_data"
    },
    {
     "data": {
      "text/plain": [
       "Resnet34CustomModel (Input shape: ['64 x 3 x 336 x 336'])\n",
       "================================================================\n",
       "Layer (type)         Output Shape         Param #    Trainable \n",
       "================================================================\n",
       "Conv2d               64 x 64 x 168 x 168  9,408      False     \n",
       "________________________________________________________________\n",
       "BatchNorm2d          64 x 64 x 168 x 168  128        True      \n",
       "________________________________________________________________\n",
       "ReLU                 64 x 64 x 168 x 168  0          False     \n",
       "________________________________________________________________\n",
       "MaxPool2d            64 x 64 x 84 x 84    0          False     \n",
       "________________________________________________________________\n",
       "Conv2d               64 x 64 x 84 x 84    36,864     False     \n",
       "________________________________________________________________\n",
       "BatchNorm2d          64 x 64 x 84 x 84    128        True      \n",
       "________________________________________________________________\n",
       "ReLU                 64 x 64 x 84 x 84    0          False     \n",
       "________________________________________________________________\n",
       "Conv2d               64 x 64 x 84 x 84    36,864     False     \n",
       "________________________________________________________________\n",
       "BatchNorm2d          64 x 64 x 84 x 84    128        True      \n",
       "________________________________________________________________\n",
       "Conv2d               64 x 64 x 84 x 84    36,864     False     \n",
       "________________________________________________________________\n",
       "BatchNorm2d          64 x 64 x 84 x 84    128        True      \n",
       "________________________________________________________________\n",
       "ReLU                 64 x 64 x 84 x 84    0          False     \n",
       "________________________________________________________________\n",
       "Conv2d               64 x 64 x 84 x 84    36,864     False     \n",
       "________________________________________________________________\n",
       "BatchNorm2d          64 x 64 x 84 x 84    128        True      \n",
       "________________________________________________________________\n",
       "Conv2d               64 x 64 x 84 x 84    36,864     False     \n",
       "________________________________________________________________\n",
       "BatchNorm2d          64 x 64 x 84 x 84    128        True      \n",
       "________________________________________________________________\n",
       "ReLU                 64 x 64 x 84 x 84    0          False     \n",
       "________________________________________________________________\n",
       "Conv2d               64 x 64 x 84 x 84    36,864     False     \n",
       "________________________________________________________________\n",
       "BatchNorm2d          64 x 64 x 84 x 84    128        True      \n",
       "________________________________________________________________\n",
       "Conv2d               64 x 128 x 42 x 42   73,728     False     \n",
       "________________________________________________________________\n",
       "BatchNorm2d          64 x 128 x 42 x 42   256        True      \n",
       "________________________________________________________________\n",
       "ReLU                 64 x 128 x 42 x 42   0          False     \n",
       "________________________________________________________________\n",
       "Conv2d               64 x 128 x 42 x 42   147,456    False     \n",
       "________________________________________________________________\n",
       "BatchNorm2d          64 x 128 x 42 x 42   256        True      \n",
       "________________________________________________________________\n",
       "Conv2d               64 x 128 x 42 x 42   8,192      False     \n",
       "________________________________________________________________\n",
       "BatchNorm2d          64 x 128 x 42 x 42   256        True      \n",
       "________________________________________________________________\n",
       "Conv2d               64 x 128 x 42 x 42   147,456    False     \n",
       "________________________________________________________________\n",
       "BatchNorm2d          64 x 128 x 42 x 42   256        True      \n",
       "________________________________________________________________\n",
       "ReLU                 64 x 128 x 42 x 42   0          False     \n",
       "________________________________________________________________\n",
       "Conv2d               64 x 128 x 42 x 42   147,456    False     \n",
       "________________________________________________________________\n",
       "BatchNorm2d          64 x 128 x 42 x 42   256        True      \n",
       "________________________________________________________________\n",
       "Conv2d               64 x 128 x 42 x 42   147,456    False     \n",
       "________________________________________________________________\n",
       "BatchNorm2d          64 x 128 x 42 x 42   256        True      \n",
       "________________________________________________________________\n",
       "ReLU                 64 x 128 x 42 x 42   0          False     \n",
       "________________________________________________________________\n",
       "Conv2d               64 x 128 x 42 x 42   147,456    False     \n",
       "________________________________________________________________\n",
       "BatchNorm2d          64 x 128 x 42 x 42   256        True      \n",
       "________________________________________________________________\n",
       "Conv2d               64 x 128 x 42 x 42   147,456    False     \n",
       "________________________________________________________________\n",
       "BatchNorm2d          64 x 128 x 42 x 42   256        True      \n",
       "________________________________________________________________\n",
       "ReLU                 64 x 128 x 42 x 42   0          False     \n",
       "________________________________________________________________\n",
       "Conv2d               64 x 128 x 42 x 42   147,456    False     \n",
       "________________________________________________________________\n",
       "BatchNorm2d          64 x 128 x 42 x 42   256        True      \n",
       "________________________________________________________________\n",
       "Conv2d               64 x 256 x 21 x 21   294,912    False     \n",
       "________________________________________________________________\n",
       "BatchNorm2d          64 x 256 x 21 x 21   512        True      \n",
       "________________________________________________________________\n",
       "ReLU                 64 x 256 x 21 x 21   0          False     \n",
       "________________________________________________________________\n",
       "Conv2d               64 x 256 x 21 x 21   589,824    False     \n",
       "________________________________________________________________\n",
       "BatchNorm2d          64 x 256 x 21 x 21   512        True      \n",
       "________________________________________________________________\n",
       "Conv2d               64 x 256 x 21 x 21   32,768     False     \n",
       "________________________________________________________________\n",
       "BatchNorm2d          64 x 256 x 21 x 21   512        True      \n",
       "________________________________________________________________\n",
       "Conv2d               64 x 256 x 21 x 21   589,824    False     \n",
       "________________________________________________________________\n",
       "BatchNorm2d          64 x 256 x 21 x 21   512        True      \n",
       "________________________________________________________________\n",
       "ReLU                 64 x 256 x 21 x 21   0          False     \n",
       "________________________________________________________________\n",
       "Conv2d               64 x 256 x 21 x 21   589,824    False     \n",
       "________________________________________________________________\n",
       "BatchNorm2d          64 x 256 x 21 x 21   512        True      \n",
       "________________________________________________________________\n",
       "Conv2d               64 x 256 x 21 x 21   589,824    False     \n",
       "________________________________________________________________\n",
       "BatchNorm2d          64 x 256 x 21 x 21   512        True      \n",
       "________________________________________________________________\n",
       "ReLU                 64 x 256 x 21 x 21   0          False     \n",
       "________________________________________________________________\n",
       "Conv2d               64 x 256 x 21 x 21   589,824    False     \n",
       "________________________________________________________________\n",
       "BatchNorm2d          64 x 256 x 21 x 21   512        True      \n",
       "________________________________________________________________\n",
       "Conv2d               64 x 256 x 21 x 21   589,824    False     \n",
       "________________________________________________________________\n",
       "BatchNorm2d          64 x 256 x 21 x 21   512        True      \n",
       "________________________________________________________________\n",
       "ReLU                 64 x 256 x 21 x 21   0          False     \n",
       "________________________________________________________________\n",
       "Conv2d               64 x 256 x 21 x 21   589,824    False     \n",
       "________________________________________________________________\n",
       "BatchNorm2d          64 x 256 x 21 x 21   512        True      \n",
       "________________________________________________________________\n",
       "Conv2d               64 x 256 x 21 x 21   589,824    False     \n",
       "________________________________________________________________\n",
       "BatchNorm2d          64 x 256 x 21 x 21   512        True      \n",
       "________________________________________________________________\n",
       "ReLU                 64 x 256 x 21 x 21   0          False     \n",
       "________________________________________________________________\n",
       "Conv2d               64 x 256 x 21 x 21   589,824    False     \n",
       "________________________________________________________________\n",
       "BatchNorm2d          64 x 256 x 21 x 21   512        True      \n",
       "________________________________________________________________\n",
       "Conv2d               64 x 256 x 21 x 21   589,824    False     \n",
       "________________________________________________________________\n",
       "BatchNorm2d          64 x 256 x 21 x 21   512        True      \n",
       "________________________________________________________________\n",
       "ReLU                 64 x 256 x 21 x 21   0          False     \n",
       "________________________________________________________________\n",
       "Conv2d               64 x 256 x 21 x 21   589,824    False     \n",
       "________________________________________________________________\n",
       "BatchNorm2d          64 x 256 x 21 x 21   512        True      \n",
       "________________________________________________________________\n",
       "Conv2d               64 x 512 x 11 x 11   1,179,648  False     \n",
       "________________________________________________________________\n",
       "BatchNorm2d          64 x 512 x 11 x 11   1,024      True      \n",
       "________________________________________________________________\n",
       "ReLU                 64 x 512 x 11 x 11   0          False     \n",
       "________________________________________________________________\n",
       "Conv2d               64 x 512 x 11 x 11   2,359,296  False     \n",
       "________________________________________________________________\n",
       "BatchNorm2d          64 x 512 x 11 x 11   1,024      True      \n",
       "________________________________________________________________\n",
       "Conv2d               64 x 512 x 11 x 11   131,072    False     \n",
       "________________________________________________________________\n",
       "BatchNorm2d          64 x 512 x 11 x 11   1,024      True      \n",
       "________________________________________________________________\n",
       "Conv2d               64 x 512 x 11 x 11   2,359,296  False     \n",
       "________________________________________________________________\n",
       "BatchNorm2d          64 x 512 x 11 x 11   1,024      True      \n",
       "________________________________________________________________\n",
       "ReLU                 64 x 512 x 11 x 11   0          False     \n",
       "________________________________________________________________\n",
       "Conv2d               64 x 512 x 11 x 11   2,359,296  False     \n",
       "________________________________________________________________\n",
       "BatchNorm2d          64 x 512 x 11 x 11   1,024      True      \n",
       "________________________________________________________________\n",
       "Conv2d               64 x 512 x 11 x 11   2,359,296  False     \n",
       "________________________________________________________________\n",
       "BatchNorm2d          64 x 512 x 11 x 11   1,024      True      \n",
       "________________________________________________________________\n",
       "ReLU                 64 x 512 x 11 x 11   0          False     \n",
       "________________________________________________________________\n",
       "Conv2d               64 x 512 x 11 x 11   2,359,296  False     \n",
       "________________________________________________________________\n",
       "BatchNorm2d          64 x 512 x 11 x 11   1,024      True      \n",
       "________________________________________________________________\n",
       "Conv2d               64 x 64 x 168 x 168  9,408      False     \n",
       "________________________________________________________________\n",
       "BatchNorm2d          64 x 64 x 168 x 168  128        True      \n",
       "________________________________________________________________\n",
       "ReLU                 64 x 64 x 168 x 168  0          False     \n",
       "________________________________________________________________\n",
       "MaxPool2d            64 x 64 x 84 x 84    0          False     \n",
       "________________________________________________________________\n",
       "Conv2d               64 x 64 x 84 x 84    36,864     False     \n",
       "________________________________________________________________\n",
       "BatchNorm2d          64 x 64 x 84 x 84    128        True      \n",
       "________________________________________________________________\n",
       "ReLU                 64 x 64 x 84 x 84    0          False     \n",
       "________________________________________________________________\n",
       "Conv2d               64 x 64 x 84 x 84    36,864     False     \n",
       "________________________________________________________________\n",
       "BatchNorm2d          64 x 64 x 84 x 84    128        True      \n",
       "________________________________________________________________\n",
       "Conv2d               64 x 64 x 84 x 84    36,864     False     \n",
       "________________________________________________________________\n",
       "BatchNorm2d          64 x 64 x 84 x 84    128        True      \n",
       "________________________________________________________________\n",
       "ReLU                 64 x 64 x 84 x 84    0          False     \n",
       "________________________________________________________________\n",
       "Conv2d               64 x 64 x 84 x 84    36,864     False     \n",
       "________________________________________________________________\n",
       "BatchNorm2d          64 x 64 x 84 x 84    128        True      \n",
       "________________________________________________________________\n",
       "Conv2d               64 x 64 x 84 x 84    36,864     False     \n",
       "________________________________________________________________\n",
       "BatchNorm2d          64 x 64 x 84 x 84    128        True      \n",
       "________________________________________________________________\n",
       "ReLU                 64 x 64 x 84 x 84    0          False     \n",
       "________________________________________________________________\n",
       "Conv2d               64 x 64 x 84 x 84    36,864     False     \n",
       "________________________________________________________________\n",
       "BatchNorm2d          64 x 64 x 84 x 84    128        True      \n",
       "________________________________________________________________\n",
       "Conv2d               64 x 128 x 42 x 42   73,728     False     \n",
       "________________________________________________________________\n",
       "BatchNorm2d          64 x 128 x 42 x 42   256        True      \n",
       "________________________________________________________________\n",
       "ReLU                 64 x 128 x 42 x 42   0          False     \n",
       "________________________________________________________________\n",
       "Conv2d               64 x 128 x 42 x 42   147,456    False     \n",
       "________________________________________________________________\n",
       "BatchNorm2d          64 x 128 x 42 x 42   256        True      \n",
       "________________________________________________________________\n",
       "Conv2d               64 x 128 x 42 x 42   8,192      False     \n",
       "________________________________________________________________\n",
       "BatchNorm2d          64 x 128 x 42 x 42   256        True      \n",
       "________________________________________________________________\n",
       "Conv2d               64 x 128 x 42 x 42   147,456    False     \n",
       "________________________________________________________________\n",
       "BatchNorm2d          64 x 128 x 42 x 42   256        True      \n",
       "________________________________________________________________\n",
       "ReLU                 64 x 128 x 42 x 42   0          False     \n",
       "________________________________________________________________\n",
       "Conv2d               64 x 128 x 42 x 42   147,456    False     \n",
       "________________________________________________________________\n",
       "BatchNorm2d          64 x 128 x 42 x 42   256        True      \n",
       "________________________________________________________________\n",
       "Conv2d               64 x 128 x 42 x 42   147,456    False     \n",
       "________________________________________________________________\n",
       "BatchNorm2d          64 x 128 x 42 x 42   256        True      \n",
       "________________________________________________________________\n",
       "ReLU                 64 x 128 x 42 x 42   0          False     \n",
       "________________________________________________________________\n",
       "Conv2d               64 x 128 x 42 x 42   147,456    False     \n",
       "________________________________________________________________\n",
       "BatchNorm2d          64 x 128 x 42 x 42   256        True      \n",
       "________________________________________________________________\n",
       "Conv2d               64 x 128 x 42 x 42   147,456    False     \n",
       "________________________________________________________________\n",
       "BatchNorm2d          64 x 128 x 42 x 42   256        True      \n",
       "________________________________________________________________\n",
       "ReLU                 64 x 128 x 42 x 42   0          False     \n",
       "________________________________________________________________\n",
       "Conv2d               64 x 128 x 42 x 42   147,456    False     \n",
       "________________________________________________________________\n",
       "BatchNorm2d          64 x 128 x 42 x 42   256        True      \n",
       "________________________________________________________________\n",
       "AdaptiveAvgPool2d    64 x 128 x 1 x 1     0          False     \n",
       "________________________________________________________________\n",
       "AdaptiveMaxPool2d    64 x 128 x 1 x 1     0          False     \n",
       "________________________________________________________________\n",
       "Flatten              64 x 256             0          False     \n",
       "________________________________________________________________\n",
       "BatchNorm1d          64 x 256             512        True      \n",
       "________________________________________________________________\n",
       "Dropout              64 x 256             0          False     \n",
       "________________________________________________________________\n",
       "Linear               64 x 512             131,072    True      \n",
       "________________________________________________________________\n",
       "ReLU                 64 x 512             0          False     \n",
       "________________________________________________________________\n",
       "BatchNorm1d          64 x 512             1,024      True      \n",
       "________________________________________________________________\n",
       "Dropout              64 x 512             0          False     \n",
       "________________________________________________________________\n",
       "Linear               64 x 135             69,120     True      \n",
       "________________________________________________________________\n",
       "Conv2d               64 x 256 x 21 x 21   294,912    False     \n",
       "________________________________________________________________\n",
       "BatchNorm2d          64 x 256 x 21 x 21   512        True      \n",
       "________________________________________________________________\n",
       "ReLU                 64 x 256 x 21 x 21   0          False     \n",
       "________________________________________________________________\n",
       "Conv2d               64 x 256 x 21 x 21   589,824    False     \n",
       "________________________________________________________________\n",
       "BatchNorm2d          64 x 256 x 21 x 21   512        True      \n",
       "________________________________________________________________\n",
       "Conv2d               64 x 256 x 21 x 21   32,768     False     \n",
       "________________________________________________________________\n",
       "BatchNorm2d          64 x 256 x 21 x 21   512        True      \n",
       "________________________________________________________________\n",
       "Conv2d               64 x 256 x 21 x 21   589,824    False     \n",
       "________________________________________________________________\n",
       "BatchNorm2d          64 x 256 x 21 x 21   512        True      \n",
       "________________________________________________________________\n",
       "ReLU                 64 x 256 x 21 x 21   0          False     \n",
       "________________________________________________________________\n",
       "Conv2d               64 x 256 x 21 x 21   589,824    False     \n",
       "________________________________________________________________\n",
       "BatchNorm2d          64 x 256 x 21 x 21   512        True      \n",
       "________________________________________________________________\n",
       "Conv2d               64 x 256 x 21 x 21   589,824    False     \n",
       "________________________________________________________________\n",
       "BatchNorm2d          64 x 256 x 21 x 21   512        True      \n",
       "________________________________________________________________\n",
       "ReLU                 64 x 256 x 21 x 21   0          False     \n",
       "________________________________________________________________\n",
       "Conv2d               64 x 256 x 21 x 21   589,824    False     \n",
       "________________________________________________________________\n",
       "BatchNorm2d          64 x 256 x 21 x 21   512        True      \n",
       "________________________________________________________________\n",
       "Conv2d               64 x 256 x 21 x 21   589,824    False     \n",
       "________________________________________________________________\n",
       "BatchNorm2d          64 x 256 x 21 x 21   512        True      \n",
       "________________________________________________________________\n",
       "ReLU                 64 x 256 x 21 x 21   0          False     \n",
       "________________________________________________________________\n",
       "Conv2d               64 x 256 x 21 x 21   589,824    False     \n",
       "________________________________________________________________\n",
       "BatchNorm2d          64 x 256 x 21 x 21   512        True      \n",
       "________________________________________________________________\n",
       "Conv2d               64 x 256 x 21 x 21   589,824    False     \n",
       "________________________________________________________________\n",
       "BatchNorm2d          64 x 256 x 21 x 21   512        True      \n",
       "________________________________________________________________\n",
       "ReLU                 64 x 256 x 21 x 21   0          False     \n",
       "________________________________________________________________\n",
       "Conv2d               64 x 256 x 21 x 21   589,824    False     \n",
       "________________________________________________________________\n",
       "BatchNorm2d          64 x 256 x 21 x 21   512        True      \n",
       "________________________________________________________________\n",
       "Conv2d               64 x 256 x 21 x 21   589,824    False     \n",
       "________________________________________________________________\n",
       "BatchNorm2d          64 x 256 x 21 x 21   512        True      \n",
       "________________________________________________________________\n",
       "ReLU                 64 x 256 x 21 x 21   0          False     \n",
       "________________________________________________________________\n",
       "Conv2d               64 x 256 x 21 x 21   589,824    False     \n",
       "________________________________________________________________\n",
       "BatchNorm2d          64 x 256 x 21 x 21   512        True      \n",
       "________________________________________________________________\n",
       "Conv2d               64 x 512 x 11 x 11   1,179,648  False     \n",
       "________________________________________________________________\n",
       "BatchNorm2d          64 x 512 x 11 x 11   1,024      True      \n",
       "________________________________________________________________\n",
       "ReLU                 64 x 512 x 11 x 11   0          False     \n",
       "________________________________________________________________\n",
       "Conv2d               64 x 512 x 11 x 11   2,359,296  False     \n",
       "________________________________________________________________\n",
       "BatchNorm2d          64 x 512 x 11 x 11   1,024      True      \n",
       "________________________________________________________________\n",
       "Conv2d               64 x 512 x 11 x 11   131,072    False     \n",
       "________________________________________________________________\n",
       "BatchNorm2d          64 x 512 x 11 x 11   1,024      True      \n",
       "________________________________________________________________\n",
       "Conv2d               64 x 512 x 11 x 11   2,359,296  False     \n",
       "________________________________________________________________\n",
       "BatchNorm2d          64 x 512 x 11 x 11   1,024      True      \n",
       "________________________________________________________________\n",
       "ReLU                 64 x 512 x 11 x 11   0          False     \n",
       "________________________________________________________________\n",
       "Conv2d               64 x 512 x 11 x 11   2,359,296  False     \n",
       "________________________________________________________________\n",
       "BatchNorm2d          64 x 512 x 11 x 11   1,024      True      \n",
       "________________________________________________________________\n",
       "Conv2d               64 x 512 x 11 x 11   2,359,296  False     \n",
       "________________________________________________________________\n",
       "BatchNorm2d          64 x 512 x 11 x 11   1,024      True      \n",
       "________________________________________________________________\n",
       "ReLU                 64 x 512 x 11 x 11   0          False     \n",
       "________________________________________________________________\n",
       "Conv2d               64 x 512 x 11 x 11   2,359,296  False     \n",
       "________________________________________________________________\n",
       "BatchNorm2d          64 x 512 x 11 x 11   1,024      True      \n",
       "________________________________________________________________\n",
       "AdaptiveAvgPool2d    64 x 512 x 1 x 1     0          False     \n",
       "________________________________________________________________\n",
       "AdaptiveMaxPool2d    64 x 512 x 1 x 1     0          False     \n",
       "________________________________________________________________\n",
       "Flatten              64 x 1024            0          False     \n",
       "________________________________________________________________\n",
       "BatchNorm1d          64 x 1024            2,048      True      \n",
       "________________________________________________________________\n",
       "Dropout              64 x 1024            0          False     \n",
       "________________________________________________________________\n",
       "Linear               64 x 512             524,288    True      \n",
       "________________________________________________________________\n",
       "ReLU                 64 x 512             0          False     \n",
       "________________________________________________________________\n",
       "BatchNorm1d          64 x 512             1,024      True      \n",
       "________________________________________________________________\n",
       "Dropout              64 x 512             0          False     \n",
       "________________________________________________________________\n",
       "Linear               64 x 1000            512,000    True      \n",
       "________________________________________________________________\n",
       "\n",
       "Total params: 43,810,432\n",
       "Total trainable params: 1,275,136\n",
       "Total non-trainable params: 42,535,296\n",
       "\n",
       "Optimizer used: <function Adam at 0x7ff2c37c6700>\n",
       "Loss function: <function loss_func at 0x7ff2a80844c0>\n",
       "\n",
       "Model frozen up to parameter group #5\n",
       "\n",
       "Callbacks:\n",
       "  - ModelToHalf\n",
       "  - TrainEvalCallback\n",
       "  - Recorder\n",
       "  - ProgressCallback\n",
       "  - MixedPrecision"
      ]
     },
     "execution_count": 43,
     "metadata": {},
     "output_type": "execute_result"
    }
   ],
   "source": [
    "learn.summary()"
   ]
  },
  {
   "cell_type": "markdown",
   "metadata": {},
   "source": [
    "Entrenamos el modelo congelado para ajustar los pesos de las últimas capas a nuestras clases, y descongelamos el modelo."
   ]
  },
  {
   "cell_type": "code",
   "execution_count": 44,
   "metadata": {
    "scrolled": true
   },
   "outputs": [
    {
     "data": {
      "text/html": [
       "<table border=\"1\" class=\"dataframe\">\n",
       "  <thead>\n",
       "    <tr style=\"text-align: left;\">\n",
       "      <th>epoch</th>\n",
       "      <th>train_loss</th>\n",
       "      <th>valid_loss</th>\n",
       "      <th>custom_accuracy</th>\n",
       "      <th>time</th>\n",
       "    </tr>\n",
       "  </thead>\n",
       "  <tbody>\n",
       "    <tr>\n",
       "      <td>0</td>\n",
       "      <td>8.703850</td>\n",
       "      <td>7.834898</td>\n",
       "      <td>0.374437</td>\n",
       "      <td>26:45</td>\n",
       "    </tr>\n",
       "  </tbody>\n",
       "</table>"
      ],
      "text/plain": [
       "<IPython.core.display.HTML object>"
      ]
     },
     "metadata": {},
     "output_type": "display_data"
    },
    {
     "data": {
      "text/plain": [
       "Path('models/species1000-resnet34-branch1-fepochs1-uepochs0.pth')"
      ]
     },
     "execution_count": 44,
     "metadata": {},
     "output_type": "execute_result"
    }
   ],
   "source": [
    "learn.fit(1, 3e-3)\n",
    "learn.save('species1000-resnet34-branch1-fepochs1-uepochs0')\n",
    "learn.unfreeze()"
   ]
  },
  {
   "cell_type": "markdown",
   "metadata": {},
   "source": [
    "Buscamos el factor de aprendizaje más adecuado con lr_find."
   ]
  },
  {
   "cell_type": "code",
   "execution_count": null,
   "metadata": {},
   "outputs": [],
   "source": [
    "learn.lr_find()"
   ]
  },
  {
   "cell_type": "markdown",
   "metadata": {},
   "source": [
    "Defimos una función para continuar el aprendizaje con los pesos guardados."
   ]
  },
  {
   "cell_type": "code",
   "execution_count": 27,
   "metadata": {
    "scrolled": true
   },
   "outputs": [],
   "source": [
    "def continue_training(pth_filename):\n",
    "    learn = Learner(dls, model, loss_func=loss_func, metrics=custom_accuracy,\n",
    "                   splitter=custom_splitter).to_fp16()\n",
    "    learn.load(pth_filename)\n",
    "    learn.unfreeze()\n",
    "    return learn"
   ]
  },
  {
   "cell_type": "markdown",
   "metadata": {},
   "source": [
    "Entrenamos durante 20 épocas con el factor de aprendizaje máximo adecuado según la visualización del buscador de factores de aprendizaje, guardando los pesos del entrenamiento en cada 5 épocas."
   ]
  },
  {
   "cell_type": "code",
   "execution_count": 45,
   "metadata": {},
   "outputs": [
    {
     "data": {
      "text/html": [
       "<table border=\"1\" class=\"dataframe\">\n",
       "  <thead>\n",
       "    <tr style=\"text-align: left;\">\n",
       "      <th>epoch</th>\n",
       "      <th>train_loss</th>\n",
       "      <th>valid_loss</th>\n",
       "      <th>custom_accuracy</th>\n",
       "      <th>time</th>\n",
       "    </tr>\n",
       "  </thead>\n",
       "  <tbody>\n",
       "    <tr>\n",
       "      <td>0</td>\n",
       "      <td>7.698918</td>\n",
       "      <td>6.975236</td>\n",
       "      <td>0.519364</td>\n",
       "      <td>27:04</td>\n",
       "    </tr>\n",
       "    <tr>\n",
       "      <td>1</td>\n",
       "      <td>7.546740</td>\n",
       "      <td>6.697124</td>\n",
       "      <td>0.557061</td>\n",
       "      <td>27:17</td>\n",
       "    </tr>\n",
       "    <tr>\n",
       "      <td>2</td>\n",
       "      <td>7.215803</td>\n",
       "      <td>6.536081</td>\n",
       "      <td>0.579078</td>\n",
       "      <td>27:38</td>\n",
       "    </tr>\n",
       "    <tr>\n",
       "      <td>3</td>\n",
       "      <td>7.033795</td>\n",
       "      <td>6.384839</td>\n",
       "      <td>0.598951</td>\n",
       "      <td>26:46</td>\n",
       "    </tr>\n",
       "    <tr>\n",
       "      <td>4</td>\n",
       "      <td>6.884779</td>\n",
       "      <td>6.277026</td>\n",
       "      <td>0.609420</td>\n",
       "      <td>27:02</td>\n",
       "    </tr>\n",
       "  </tbody>\n",
       "</table>"
      ],
      "text/plain": [
       "<IPython.core.display.HTML object>"
      ]
     },
     "metadata": {},
     "output_type": "display_data"
    },
    {
     "data": {
      "text/plain": [
       "Path('models/species1000-resnet34-branch1-fepochs1-uepochs5.pth')"
      ]
     },
     "execution_count": 45,
     "metadata": {},
     "output_type": "execute_result"
    }
   ],
   "source": [
    "learn.fit(5, slice(1e-6,1e-4))\n",
    "learn.save('species1000-resnet34-branch1-fepochs1-uepochs5')"
   ]
  },
  {
   "cell_type": "code",
   "execution_count": 30,
   "metadata": {
    "scrolled": true
   },
   "outputs": [],
   "source": [
    "learn = continue_training('species1000-resnet34-branch1-fepochs1-uepochs5')"
   ]
  },
  {
   "cell_type": "code",
   "execution_count": 31,
   "metadata": {
    "scrolled": true
   },
   "outputs": [
    {
     "data": {
      "text/html": [
       "<table border=\"1\" class=\"dataframe\">\n",
       "  <thead>\n",
       "    <tr style=\"text-align: left;\">\n",
       "      <th>epoch</th>\n",
       "      <th>train_loss</th>\n",
       "      <th>valid_loss</th>\n",
       "      <th>custom_accuracy</th>\n",
       "      <th>time</th>\n",
       "    </tr>\n",
       "  </thead>\n",
       "  <tbody>\n",
       "    <tr>\n",
       "      <td>0</td>\n",
       "      <td>6.783722</td>\n",
       "      <td>6.216621</td>\n",
       "      <td>0.619534</td>\n",
       "      <td>28:46</td>\n",
       "    </tr>\n",
       "    <tr>\n",
       "      <td>1</td>\n",
       "      <td>6.591565</td>\n",
       "      <td>6.136740</td>\n",
       "      <td>0.630146</td>\n",
       "      <td>28:49</td>\n",
       "    </tr>\n",
       "    <tr>\n",
       "      <td>2</td>\n",
       "      <td>6.648280</td>\n",
       "      <td>6.061100</td>\n",
       "      <td>0.638969</td>\n",
       "      <td>28:53</td>\n",
       "    </tr>\n",
       "    <tr>\n",
       "      <td>3</td>\n",
       "      <td>6.401560</td>\n",
       "      <td>6.003661</td>\n",
       "      <td>0.650919</td>\n",
       "      <td>28:37</td>\n",
       "    </tr>\n",
       "    <tr>\n",
       "      <td>4</td>\n",
       "      <td>6.377171</td>\n",
       "      <td>5.953341</td>\n",
       "      <td>0.654223</td>\n",
       "      <td>27:13</td>\n",
       "    </tr>\n",
       "  </tbody>\n",
       "</table>"
      ],
      "text/plain": [
       "<IPython.core.display.HTML object>"
      ]
     },
     "metadata": {},
     "output_type": "display_data"
    },
    {
     "data": {
      "text/plain": [
       "Path('models/species1000-resnet34-branch1-fepochs1-uepochs10.pth')"
      ]
     },
     "execution_count": 31,
     "metadata": {},
     "output_type": "execute_result"
    }
   ],
   "source": [
    "learn.fit(5, slice(1e-6,1e-4))\n",
    "learn.save('species1000-resnet34-branch1-fepochs1-uepochs10')"
   ]
  },
  {
   "cell_type": "code",
   "execution_count": 32,
   "metadata": {
    "scrolled": true
   },
   "outputs": [
    {
     "data": {
      "text/html": [
       "<table border=\"1\" class=\"dataframe\">\n",
       "  <thead>\n",
       "    <tr style=\"text-align: left;\">\n",
       "      <th>epoch</th>\n",
       "      <th>train_loss</th>\n",
       "      <th>valid_loss</th>\n",
       "      <th>custom_accuracy</th>\n",
       "      <th>time</th>\n",
       "    </tr>\n",
       "  </thead>\n",
       "  <tbody>\n",
       "    <tr>\n",
       "      <td>0</td>\n",
       "      <td>6.313942</td>\n",
       "      <td>5.934981</td>\n",
       "      <td>0.655787</td>\n",
       "      <td>27:21</td>\n",
       "    </tr>\n",
       "    <tr>\n",
       "      <td>1</td>\n",
       "      <td>6.219078</td>\n",
       "      <td>5.892819</td>\n",
       "      <td>0.661199</td>\n",
       "      <td>27:28</td>\n",
       "    </tr>\n",
       "    <tr>\n",
       "      <td>2</td>\n",
       "      <td>6.148957</td>\n",
       "      <td>5.848469</td>\n",
       "      <td>0.671053</td>\n",
       "      <td>27:30</td>\n",
       "    </tr>\n",
       "    <tr>\n",
       "      <td>3</td>\n",
       "      <td>6.116019</td>\n",
       "      <td>5.824296</td>\n",
       "      <td>0.670970</td>\n",
       "      <td>27:16</td>\n",
       "    </tr>\n",
       "    <tr>\n",
       "      <td>4</td>\n",
       "      <td>6.034589</td>\n",
       "      <td>5.794313</td>\n",
       "      <td>0.675683</td>\n",
       "      <td>27:13</td>\n",
       "    </tr>\n",
       "  </tbody>\n",
       "</table>"
      ],
      "text/plain": [
       "<IPython.core.display.HTML object>"
      ]
     },
     "metadata": {},
     "output_type": "display_data"
    },
    {
     "data": {
      "text/plain": [
       "Path('models/species1000-resnet34-branch1-fepochs1-uepochs15.pth')"
      ]
     },
     "execution_count": 32,
     "metadata": {},
     "output_type": "execute_result"
    }
   ],
   "source": [
    "learn.fit(5, slice(1e-6,1e-4))\n",
    "learn.save('species1000-resnet34-branch1-fepochs1-uepochs15')"
   ]
  },
  {
   "cell_type": "code",
   "execution_count": 33,
   "metadata": {
    "scrolled": true
   },
   "outputs": [],
   "source": [
    "learn.export('species1000-resnet34-branch1-fepochs1-uepochs15')"
   ]
  },
  {
   "cell_type": "code",
   "execution_count": 28,
   "metadata": {},
   "outputs": [],
   "source": [
    "learn = continue_training('species1000-resnet34-branch1-fepochs1-uepochs15')"
   ]
  },
  {
   "cell_type": "code",
   "execution_count": 29,
   "metadata": {},
   "outputs": [
    {
     "data": {
      "text/html": [
       "<table border=\"1\" class=\"dataframe\">\n",
       "  <thead>\n",
       "    <tr style=\"text-align: left;\">\n",
       "      <th>epoch</th>\n",
       "      <th>train_loss</th>\n",
       "      <th>valid_loss</th>\n",
       "      <th>custom_accuracy</th>\n",
       "      <th>time</th>\n",
       "    </tr>\n",
       "  </thead>\n",
       "  <tbody>\n",
       "    <tr>\n",
       "      <td>0</td>\n",
       "      <td>6.068846</td>\n",
       "      <td>5.762218</td>\n",
       "      <td>0.676453</td>\n",
       "      <td>28:59</td>\n",
       "    </tr>\n",
       "    <tr>\n",
       "      <td>1</td>\n",
       "      <td>5.951011</td>\n",
       "      <td>5.755742</td>\n",
       "      <td>0.683003</td>\n",
       "      <td>27:00</td>\n",
       "    </tr>\n",
       "    <tr>\n",
       "      <td>2</td>\n",
       "      <td>5.893703</td>\n",
       "      <td>5.720531</td>\n",
       "      <td>0.684767</td>\n",
       "      <td>27:13</td>\n",
       "    </tr>\n",
       "    <tr>\n",
       "      <td>3</td>\n",
       "      <td>5.847164</td>\n",
       "      <td>5.708309</td>\n",
       "      <td>0.685608</td>\n",
       "      <td>26:59</td>\n",
       "    </tr>\n",
       "    <tr>\n",
       "      <td>4</td>\n",
       "      <td>5.824179</td>\n",
       "      <td>5.681727</td>\n",
       "      <td>0.685028</td>\n",
       "      <td>27:11</td>\n",
       "    </tr>\n",
       "  </tbody>\n",
       "</table>"
      ],
      "text/plain": [
       "<IPython.core.display.HTML object>"
      ]
     },
     "metadata": {},
     "output_type": "display_data"
    },
    {
     "data": {
      "text/plain": [
       "Path('models/species1000-resnet34-branch1-fepochs1-uepochs20.pth')"
      ]
     },
     "execution_count": 29,
     "metadata": {},
     "output_type": "execute_result"
    }
   ],
   "source": [
    "learn.fit(5, slice(1e-6,1e-4))\n",
    "learn.save('species1000-resnet34-branch1-fepochs1-uepochs20')"
   ]
  },
  {
   "cell_type": "code",
   "execution_count": 30,
   "metadata": {},
   "outputs": [],
   "source": [
    "learn.export('species1000-resnet34-branch1-fepochs1-uepochs20')"
   ]
  },
  {
   "cell_type": "markdown",
   "metadata": {},
   "source": [
    "## Experimento 12: 2 Ramas (familia y orden)"
   ]
  },
  {
   "cell_type": "markdown",
   "metadata": {},
   "source": [
    "Creamos el cuerpo (_encoder_) y cabeza del modelo tomando como base ResNet-34 con pesos preentrenados."
   ]
  },
  {
   "cell_type": "code",
   "execution_count": 31,
   "metadata": {
    "scrolled": true
   },
   "outputs": [],
   "source": [
    "model = resnet34\n",
    "body = create_body(model, cut=-2)\n",
    "stem = body[0:4]\n",
    "block1, block2, block3, block4 = body[4], body[5], body[6], body[7]\n",
    "head = create_head(512*2,dls.c)"
   ]
  },
  {
   "cell_type": "markdown",
   "metadata": {},
   "source": [
    "Definimos una función para obtener las etiquetas de cada ejemplo, en este caso: el orden, familia y la especie."
   ]
  },
  {
   "cell_type": "code",
   "execution_count": 32,
   "metadata": {
    "scrolled": true
   },
   "outputs": [],
   "source": [
    "def custom_get_y(o):\n",
    "    fine_label = o['Specie']\n",
    "    coarse2_label = o['Family']\n",
    "    coarse1_label = o['Order']\n",
    "    return [coarse1_label, coarse2_label, fine_label]"
   ]
  },
  {
   "cell_type": "markdown",
   "metadata": {},
   "source": [
    "Creamos una clase para nuestro modelo que divida el _encoder_ en los distintos bloques y añada una cabeza después del bloque 2 como rama con el número de clases de _Order_ y otra después del bloque 3 como rama con el número de clases de _Family_. En el método _forward_ establecemos la conexión de los distintos bloques, separando la salida de la rama del flujo normal, para así devolver ambas salidas en forma de diccionario."
   ]
  },
  {
   "cell_type": "code",
   "execution_count": 33,
   "metadata": {
    "scrolled": true
   },
   "outputs": [],
   "source": [
    "class Resnet34CustomModel(Module):\n",
    "    def __init__(self, encoder, head):\n",
    "        self.encoder = encoder\n",
    "        self.stem = encoder[0:4]\n",
    "        self.block1 = body[4]\n",
    "        self.branch1 = create_head(64*2, len(set(df['Order'])))\n",
    "        self.block2 = body[5]\n",
    "        self.branch2 = create_head(128*2, len(set(df['Family'])))\n",
    "        self.block3 = body[6]\n",
    "        self.block4 = body[7]\n",
    "        self.head = head\n",
    "    \n",
    "    def forward(self, x):\n",
    "        x = self.stem(x)\n",
    "        x = self.block1(x)\n",
    "        coarse1_label = self.branch1(x)\n",
    "        x = self.block2(x)\n",
    "        coarse2_label = self.branch2(x)\n",
    "        x = self.block3(x)\n",
    "        x = self.block4(x)\n",
    "        fine_label = self.head(x)\n",
    "        return {\n",
    "                'fine_label': fine_label,\n",
    "                'coarse2_label': coarse2_label,\n",
    "                'coarse1_label': coarse1_label\n",
    "               }"
   ]
  },
  {
   "cell_type": "markdown",
   "metadata": {},
   "source": [
    "Creamos el modelo con la clase definida pasándole el cuerpo y cabeza."
   ]
  },
  {
   "cell_type": "code",
   "execution_count": 34,
   "metadata": {
    "scrolled": true
   },
   "outputs": [],
   "source": [
    "model = Resnet34CustomModel(body, head)"
   ]
  },
  {
   "cell_type": "markdown",
   "metadata": {},
   "source": [
    "Como hemos modificado el modelo y la obtención de las clases para usar una salida múltiple, tenemos que modificar el tipo de bloque de categoría a uno que soporte estas salidas. Para ello, definimos una función que obtenga la clase y codifique a categoría cada una."
   ]
  },
  {
   "cell_type": "code",
   "execution_count": 35,
   "metadata": {
    "scrolled": true
   },
   "outputs": [],
   "source": [
    "class CustomCategorize(DisplayedTransform):\n",
    "    \"Reversible transform of category string to `vocab` id\"\n",
    "    loss_func,order=CrossEntropyLossFlat(),1\n",
    "    def __init__(self, vocab=None, vocab_coarse1=None, vocab_coarse2=None, sort=True, add_na=False, num_y=1):\n",
    "        store_attr()\n",
    "        self.vocab = None if vocab is None else CategoryMap(vocab, sort=sort, add_na=add_na)\n",
    "        self.vocab_coarse1 = None if vocab_coarse1 is None else CategoryMap(vocab_coarse1, sort=sort, add_na=add_na)\n",
    "        self.vocab_coarse2 = None if vocab_coarse2 is None else CategoryMap(vocab_coarse2, sort=sort, add_na=add_na)\n",
    "\n",
    "    def setups(self, dsets):\n",
    "        fine_dsets = [d[2] for d in dsets]\n",
    "        coarse2_dsets = [d[1] for d in dsets]\n",
    "        coarse1_dsets = [d[0] for d in dsets]\n",
    "        if self.vocab is None and dsets is not None: self.vocab = CategoryMap(fine_dsets, sort=self.sort, add_na=self.add_na)\n",
    "        if self.vocab_coarse1 is None and dsets is not None: self.vocab_coarse1 = CategoryMap(coarse1_dsets, sort=self.sort, add_na=self.add_na)\n",
    "        if self.vocab_coarse2 is None and dsets is not None: self.vocab_coarse2 = CategoryMap(coarse2_dsets, sort=self.sort, add_na=self.add_na)\n",
    "        self.c = len(self.vocab)\n",
    "\n",
    "    def encodes(self, o): return {'fine_label': TensorCategory(self.vocab.o2i[o[2]]),\n",
    "                                  'coarse2_label': TensorCategory(self.vocab_coarse2.o2i[o[1]]),\n",
    "                                  'coarse1_label': TensorCategory(self.vocab_coarse1.o2i[o[0]])\n",
    "                                 }\n",
    "    def decodes(self, o): return Category      (self.vocab    [o])"
   ]
  },
  {
   "cell_type": "code",
   "execution_count": 36,
   "metadata": {
    "scrolled": true
   },
   "outputs": [],
   "source": [
    "def CustomCategoryBlock(vocab=None, sort=True, add_na=False, num_y=1):\n",
    "    \"`TransformBlock` for single-label categorical targets\"\n",
    "    return TransformBlock(type_tfms=CustomCategorize(vocab=vocab, sort=sort, add_na=add_na))"
   ]
  },
  {
   "cell_type": "markdown",
   "metadata": {},
   "source": [
    "Creamos un _splitter_ personalizado con los parámetros de cada bloque y del _head_."
   ]
  },
  {
   "cell_type": "code",
   "execution_count": 37,
   "metadata": {
    "scrolled": true
   },
   "outputs": [],
   "source": [
    "def custom_splitter(model):\n",
    "    return [params(model.stem),\n",
    "            params(model.block1),\n",
    "            params(model.block2),\n",
    "            params(model.block3),\n",
    "            params(model.block4),\n",
    "            params(model.head)]"
   ]
  },
  {
   "cell_type": "markdown",
   "metadata": {},
   "source": [
    "Creamos un _datablock_ con: bloques de tipo imagen y categoría personalizada _CustomCategoryBlock_, un separador por columna, la _x_ con la columna que contienen la ruta de las imágenes, la _y_ con la función personalizada, una transformación para hacer un recorte aleatorio dejando un tamaño común de 336x336, y las transformaciones de aumento de datos por defecto."
   ]
  },
  {
   "cell_type": "code",
   "execution_count": 38,
   "metadata": {
    "scrolled": true
   },
   "outputs": [],
   "source": [
    "fishes = DataBlock(blocks = (ImageBlock, CustomCategoryBlock),\n",
    "                 splitter=ColSplitter(),\n",
    "                 get_x = ColReader(5, pref=path),\n",
    "                 get_y=custom_get_y,\n",
    "                 item_tfms=RandomResizedCrop(336, min_scale=0.5),\n",
    "                 batch_tfms=aug_transforms())\n",
    "dls = fishes.dataloaders(df)"
   ]
  },
  {
   "cell_type": "markdown",
   "metadata": {},
   "source": [
    "Mostramos los _dataloaders_ generados con el _datablock_."
   ]
  },
  {
   "cell_type": "code",
   "execution_count": 39,
   "metadata": {
    "scrolled": true
   },
   "outputs": [
    {
     "data": {
      "text/plain": [
       "((#337741) [(PILImage mode=RGB size=768x1024, {'fine_label': TensorCategory(531), 'coarse2_label': TensorCategory(25), 'coarse1_label': TensorCategory(20)}),(PILImage mode=RGB size=1024x738, {'fine_label': TensorCategory(776), 'coarse2_label': TensorCategory(25), 'coarse1_label': TensorCategory(20)}),(PILImage mode=RGB size=768x1024, {'fine_label': TensorCategory(538), 'coarse2_label': TensorCategory(25), 'coarse1_label': TensorCategory(20)}),(PILImage mode=RGB size=768x1024, {'fine_label': TensorCategory(837), 'coarse2_label': TensorCategory(41), 'coarse1_label': TensorCategory(10)}),(PILImage mode=RGB size=1024x786, {'fine_label': TensorCategory(32), 'coarse2_label': TensorCategory(0), 'coarse1_label': TensorCategory(20)}),(PILImage mode=RGB size=1024x683, {'fine_label': TensorCategory(145), 'coarse2_label': TensorCategory(109), 'coarse1_label': TensorCategory(20)}),(PILImage mode=RGB size=768x1024, {'fine_label': TensorCategory(827), 'coarse2_label': TensorCategory(108), 'coarse1_label': TensorCategory(23)}),(PILImage mode=RGB size=1024x697, {'fine_label': TensorCategory(792), 'coarse2_label': TensorCategory(100), 'coarse1_label': TensorCategory(22)}),(PILImage mode=RGB size=1024x768, {'fine_label': TensorCategory(784), 'coarse2_label': TensorCategory(9), 'coarse1_label': TensorCategory(20)}),(PILImage mode=RGB size=1024x768, {'fine_label': TensorCategory(522), 'coarse2_label': TensorCategory(121), 'coarse1_label': TensorCategory(20)})...],\n",
       " (#84436) [(PILImage mode=RGB size=576x1024, {'fine_label': TensorCategory(826), 'coarse2_label': TensorCategory(108), 'coarse1_label': TensorCategory(23)}),(PILImage mode=RGB size=512x320, {'fine_label': TensorCategory(296), 'coarse2_label': TensorCategory(0), 'coarse1_label': TensorCategory(20)}),(PILImage mode=RGB size=1024x768, {'fine_label': TensorCategory(283), 'coarse2_label': TensorCategory(71), 'coarse1_label': TensorCategory(20)}),(PILImage mode=RGB size=1024x683, {'fine_label': TensorCategory(223), 'coarse2_label': TensorCategory(71), 'coarse1_label': TensorCategory(20)}),(PILImage mode=RGB size=1024x683, {'fine_label': TensorCategory(333), 'coarse2_label': TensorCategory(121), 'coarse1_label': TensorCategory(20)}),(PILImage mode=RGB size=1024x768, {'fine_label': TensorCategory(272), 'coarse2_label': TensorCategory(41), 'coarse1_label': TensorCategory(10)}),(PILImage mode=RGB size=1024x576, {'fine_label': TensorCategory(163), 'coarse2_label': TensorCategory(23), 'coarse1_label': TensorCategory(20)}),(PILImage mode=RGB size=1024x768, {'fine_label': TensorCategory(827), 'coarse2_label': TensorCategory(108), 'coarse1_label': TensorCategory(23)}),(PILImage mode=RGB size=1024x768, {'fine_label': TensorCategory(868), 'coarse2_label': TensorCategory(113), 'coarse1_label': TensorCategory(24)}),(PILImage mode=RGB size=768x1024, {'fine_label': TensorCategory(816), 'coarse2_label': TensorCategory(41), 'coarse1_label': TensorCategory(10)})...])"
      ]
     },
     "execution_count": 39,
     "metadata": {},
     "output_type": "execute_result"
    }
   ],
   "source": [
    "dls.train_ds, dls.valid_ds"
   ]
  },
  {
   "cell_type": "markdown",
   "metadata": {},
   "source": [
    "Mostramos las clases finas y las categóricas de nuestros dataloaders."
   ]
  },
  {
   "cell_type": "code",
   "execution_count": 40,
   "metadata": {
    "scrolled": true
   },
   "outputs": [
    {
     "data": {
      "text/plain": [
       "((#1000) ['Abramis brama','Abudefduf abdominalis','Abudefduf bengalensis','Abudefduf saxatilis','Abudefduf septemfasciatus','Abudefduf sexfasciatus','Abudefduf sordidus','Abudefduf troschelii','Abudefduf vaigiensis','Acanthaluteres vittiger'...],\n",
       " (#135) ['Acanthuridae','Achiridae','Acipenseridae','Amiidae','Ammodytidae','Anguillidae','Antennariidae','Aphredoderidae','Aplodactylidae','Apogonidae'...],\n",
       " (#29) ['Acipenseriformes','Amiiformes','Anguilliformes','Atheriniformes','Aulopiformes','Batrachoidiformes','Beloniformes','Beryciformes','Characiformes','Clupeiformes'...])"
      ]
     },
     "execution_count": 40,
     "metadata": {},
     "output_type": "execute_result"
    }
   ],
   "source": [
    "dls.vocab, dls.vocab_coarse2, dls.vocab_coarse1"
   ]
  },
  {
   "cell_type": "markdown",
   "metadata": {},
   "source": [
    "Creamos el tensor con los pesos por clase y lo pasamos a GPU para poder usarlo durante el entrenamiento."
   ]
  },
  {
   "cell_type": "code",
   "execution_count": 41,
   "metadata": {},
   "outputs": [],
   "source": [
    "weights = tensor([float(weights_df[weights_df['Specie']==c]['Weight']) for c in dls.vocab]).cuda()\n",
    "weights_order = tensor([float(weights_order_df[weights_order_df['Order']==c]['Weight']) for c in dls.vocab_coarse1]).cuda()\n",
    "weights_family = tensor([float(weights_family_df[weights_family_df['Family']==c]['Weight']) for c in dls.vocab_coarse2]).cuda()"
   ]
  },
  {
   "cell_type": "markdown",
   "metadata": {},
   "source": [
    "Defimos nuestra función de pérdida como el sumatorio de la pérdida en entropía cruzada de las dos salidas."
   ]
  },
  {
   "cell_type": "code",
   "execution_count": 42,
   "metadata": {
    "scrolled": true
   },
   "outputs": [],
   "source": [
    "def loss_func(out, targ):\n",
    "    return nn.CrossEntropyLoss(weight=weights)(out['fine_label'], targ['fine_label']) + \\\n",
    "            nn.CrossEntropyLoss(weight=weights_order)(out['coarse1_label'], targ['coarse1_label']) + \\\n",
    "            nn.CrossEntropyLoss(weight=weights_family)(out['coarse2_label'], targ['coarse2_label'])"
   ]
  },
  {
   "cell_type": "markdown",
   "metadata": {},
   "source": [
    "Defimos la función de accuracy con la etiqueta fina, ya que es el resultado final que nos interesa. Además, esta etiqueta fue la que se usó para definir las particiones estratificadas, por lo que es la única que se debería tener en cuenta si queremos resultados más fiables."
   ]
  },
  {
   "cell_type": "code",
   "execution_count": 43,
   "metadata": {
    "scrolled": true
   },
   "outputs": [],
   "source": [
    "def custom_accuracy(inp, targ, axis=-1):\n",
    "    pred1,targ1 = flatten_check(inp['fine_label'].argmax(dim=axis), targ['fine_label'])\n",
    "    acc1 = (pred1 == targ1).float().mean()\n",
    "    return acc1"
   ]
  },
  {
   "cell_type": "markdown",
   "metadata": {},
   "source": [
    "Creamos nuestro objeto _Learner_ con los _dataloaders_, la función de pérdida _loss_func_ creada, la métrica exactitud y el _splitter_ creado. Además, congelamos nuestro modelo para ajustar primero los pesos preentrenados a nuestras clases."
   ]
  },
  {
   "cell_type": "code",
   "execution_count": 47,
   "metadata": {
    "scrolled": true
   },
   "outputs": [],
   "source": [
    "learn = Learner(dls, model, loss_func=loss_func, metrics=custom_accuracy,\n",
    "                   splitter=custom_splitter).to_fp16()\n",
    "learn.freeze()"
   ]
  },
  {
   "cell_type": "markdown",
   "metadata": {},
   "source": [
    "Mostramos un resumen de nuestro modelo."
   ]
  },
  {
   "cell_type": "code",
   "execution_count": 48,
   "metadata": {
    "scrolled": true
   },
   "outputs": [
    {
     "data": {
      "text/html": [
       "<table border=\"1\" class=\"dataframe\">\n",
       "  <thead>\n",
       "    <tr style=\"text-align: left;\">\n",
       "      <th>epoch</th>\n",
       "      <th>train_loss</th>\n",
       "      <th>valid_loss</th>\n",
       "      <th>custom_accuracy</th>\n",
       "      <th>time</th>\n",
       "    </tr>\n",
       "  </thead>\n",
       "  <tbody>\n",
       "    <tr>\n",
       "      <td>0</td>\n",
       "      <td>None</td>\n",
       "      <td>None</td>\n",
       "      <td>00:00</td>\n",
       "    </tr>\n",
       "  </tbody>\n",
       "</table>"
      ],
      "text/plain": [
       "<IPython.core.display.HTML object>"
      ]
     },
     "metadata": {},
     "output_type": "display_data"
    },
    {
     "data": {
      "text/plain": [
       "Resnet34CustomModel (Input shape: ['64 x 3 x 336 x 336'])\n",
       "================================================================\n",
       "Layer (type)         Output Shape         Param #    Trainable \n",
       "================================================================\n",
       "Conv2d               64 x 64 x 168 x 168  9,408      False     \n",
       "________________________________________________________________\n",
       "BatchNorm2d          64 x 64 x 168 x 168  128        True      \n",
       "________________________________________________________________\n",
       "ReLU                 64 x 64 x 168 x 168  0          False     \n",
       "________________________________________________________________\n",
       "MaxPool2d            64 x 64 x 84 x 84    0          False     \n",
       "________________________________________________________________\n",
       "Conv2d               64 x 64 x 84 x 84    36,864     False     \n",
       "________________________________________________________________\n",
       "BatchNorm2d          64 x 64 x 84 x 84    128        True      \n",
       "________________________________________________________________\n",
       "ReLU                 64 x 64 x 84 x 84    0          False     \n",
       "________________________________________________________________\n",
       "Conv2d               64 x 64 x 84 x 84    36,864     False     \n",
       "________________________________________________________________\n",
       "BatchNorm2d          64 x 64 x 84 x 84    128        True      \n",
       "________________________________________________________________\n",
       "Conv2d               64 x 64 x 84 x 84    36,864     False     \n",
       "________________________________________________________________\n",
       "BatchNorm2d          64 x 64 x 84 x 84    128        True      \n",
       "________________________________________________________________\n",
       "ReLU                 64 x 64 x 84 x 84    0          False     \n",
       "________________________________________________________________\n",
       "Conv2d               64 x 64 x 84 x 84    36,864     False     \n",
       "________________________________________________________________\n",
       "BatchNorm2d          64 x 64 x 84 x 84    128        True      \n",
       "________________________________________________________________\n",
       "Conv2d               64 x 64 x 84 x 84    36,864     False     \n",
       "________________________________________________________________\n",
       "BatchNorm2d          64 x 64 x 84 x 84    128        True      \n",
       "________________________________________________________________\n",
       "ReLU                 64 x 64 x 84 x 84    0          False     \n",
       "________________________________________________________________\n",
       "Conv2d               64 x 64 x 84 x 84    36,864     False     \n",
       "________________________________________________________________\n",
       "BatchNorm2d          64 x 64 x 84 x 84    128        True      \n",
       "________________________________________________________________\n",
       "Conv2d               64 x 128 x 42 x 42   73,728     False     \n",
       "________________________________________________________________\n",
       "BatchNorm2d          64 x 128 x 42 x 42   256        True      \n",
       "________________________________________________________________\n",
       "ReLU                 64 x 128 x 42 x 42   0          False     \n",
       "________________________________________________________________\n",
       "Conv2d               64 x 128 x 42 x 42   147,456    False     \n",
       "________________________________________________________________\n",
       "BatchNorm2d          64 x 128 x 42 x 42   256        True      \n",
       "________________________________________________________________\n",
       "Conv2d               64 x 128 x 42 x 42   8,192      False     \n",
       "________________________________________________________________\n",
       "BatchNorm2d          64 x 128 x 42 x 42   256        True      \n",
       "________________________________________________________________\n",
       "Conv2d               64 x 128 x 42 x 42   147,456    False     \n",
       "________________________________________________________________\n",
       "BatchNorm2d          64 x 128 x 42 x 42   256        True      \n",
       "________________________________________________________________\n",
       "ReLU                 64 x 128 x 42 x 42   0          False     \n",
       "________________________________________________________________\n",
       "Conv2d               64 x 128 x 42 x 42   147,456    False     \n",
       "________________________________________________________________\n",
       "BatchNorm2d          64 x 128 x 42 x 42   256        True      \n",
       "________________________________________________________________\n",
       "Conv2d               64 x 128 x 42 x 42   147,456    False     \n",
       "________________________________________________________________\n",
       "BatchNorm2d          64 x 128 x 42 x 42   256        True      \n",
       "________________________________________________________________\n",
       "ReLU                 64 x 128 x 42 x 42   0          False     \n",
       "________________________________________________________________\n",
       "Conv2d               64 x 128 x 42 x 42   147,456    False     \n",
       "________________________________________________________________\n",
       "BatchNorm2d          64 x 128 x 42 x 42   256        True      \n",
       "________________________________________________________________\n",
       "Conv2d               64 x 128 x 42 x 42   147,456    False     \n",
       "________________________________________________________________\n",
       "BatchNorm2d          64 x 128 x 42 x 42   256        True      \n",
       "________________________________________________________________\n",
       "ReLU                 64 x 128 x 42 x 42   0          False     \n",
       "________________________________________________________________\n",
       "Conv2d               64 x 128 x 42 x 42   147,456    False     \n",
       "________________________________________________________________\n",
       "BatchNorm2d          64 x 128 x 42 x 42   256        True      \n",
       "________________________________________________________________\n",
       "Conv2d               64 x 256 x 21 x 21   294,912    False     \n",
       "________________________________________________________________\n",
       "BatchNorm2d          64 x 256 x 21 x 21   512        True      \n",
       "________________________________________________________________\n",
       "ReLU                 64 x 256 x 21 x 21   0          False     \n",
       "________________________________________________________________\n",
       "Conv2d               64 x 256 x 21 x 21   589,824    False     \n",
       "________________________________________________________________\n",
       "BatchNorm2d          64 x 256 x 21 x 21   512        True      \n",
       "________________________________________________________________\n",
       "Conv2d               64 x 256 x 21 x 21   32,768     False     \n",
       "________________________________________________________________\n",
       "BatchNorm2d          64 x 256 x 21 x 21   512        True      \n",
       "________________________________________________________________\n",
       "Conv2d               64 x 256 x 21 x 21   589,824    False     \n",
       "________________________________________________________________\n",
       "BatchNorm2d          64 x 256 x 21 x 21   512        True      \n",
       "________________________________________________________________\n",
       "ReLU                 64 x 256 x 21 x 21   0          False     \n",
       "________________________________________________________________\n",
       "Conv2d               64 x 256 x 21 x 21   589,824    False     \n",
       "________________________________________________________________\n",
       "BatchNorm2d          64 x 256 x 21 x 21   512        True      \n",
       "________________________________________________________________\n",
       "Conv2d               64 x 256 x 21 x 21   589,824    False     \n",
       "________________________________________________________________\n",
       "BatchNorm2d          64 x 256 x 21 x 21   512        True      \n",
       "________________________________________________________________\n",
       "ReLU                 64 x 256 x 21 x 21   0          False     \n",
       "________________________________________________________________\n",
       "Conv2d               64 x 256 x 21 x 21   589,824    False     \n",
       "________________________________________________________________\n",
       "BatchNorm2d          64 x 256 x 21 x 21   512        True      \n",
       "________________________________________________________________\n",
       "Conv2d               64 x 256 x 21 x 21   589,824    False     \n",
       "________________________________________________________________\n",
       "BatchNorm2d          64 x 256 x 21 x 21   512        True      \n",
       "________________________________________________________________\n",
       "ReLU                 64 x 256 x 21 x 21   0          False     \n",
       "________________________________________________________________\n",
       "Conv2d               64 x 256 x 21 x 21   589,824    False     \n",
       "________________________________________________________________\n",
       "BatchNorm2d          64 x 256 x 21 x 21   512        True      \n",
       "________________________________________________________________\n",
       "Conv2d               64 x 256 x 21 x 21   589,824    False     \n",
       "________________________________________________________________\n",
       "BatchNorm2d          64 x 256 x 21 x 21   512        True      \n",
       "________________________________________________________________\n",
       "ReLU                 64 x 256 x 21 x 21   0          False     \n",
       "________________________________________________________________\n",
       "Conv2d               64 x 256 x 21 x 21   589,824    False     \n",
       "________________________________________________________________\n",
       "BatchNorm2d          64 x 256 x 21 x 21   512        True      \n",
       "________________________________________________________________\n",
       "Conv2d               64 x 256 x 21 x 21   589,824    False     \n",
       "________________________________________________________________\n",
       "BatchNorm2d          64 x 256 x 21 x 21   512        True      \n",
       "________________________________________________________________\n",
       "ReLU                 64 x 256 x 21 x 21   0          False     \n",
       "________________________________________________________________\n",
       "Conv2d               64 x 256 x 21 x 21   589,824    False     \n",
       "________________________________________________________________\n",
       "BatchNorm2d          64 x 256 x 21 x 21   512        True      \n",
       "________________________________________________________________\n",
       "Conv2d               64 x 512 x 11 x 11   1,179,648  False     \n",
       "________________________________________________________________\n",
       "BatchNorm2d          64 x 512 x 11 x 11   1,024      True      \n",
       "________________________________________________________________\n",
       "ReLU                 64 x 512 x 11 x 11   0          False     \n",
       "________________________________________________________________\n",
       "Conv2d               64 x 512 x 11 x 11   2,359,296  False     \n",
       "________________________________________________________________\n",
       "BatchNorm2d          64 x 512 x 11 x 11   1,024      True      \n",
       "________________________________________________________________\n",
       "Conv2d               64 x 512 x 11 x 11   131,072    False     \n",
       "________________________________________________________________\n",
       "BatchNorm2d          64 x 512 x 11 x 11   1,024      True      \n",
       "________________________________________________________________\n",
       "Conv2d               64 x 512 x 11 x 11   2,359,296  False     \n",
       "________________________________________________________________\n",
       "BatchNorm2d          64 x 512 x 11 x 11   1,024      True      \n",
       "________________________________________________________________\n",
       "ReLU                 64 x 512 x 11 x 11   0          False     \n",
       "________________________________________________________________\n",
       "Conv2d               64 x 512 x 11 x 11   2,359,296  False     \n",
       "________________________________________________________________\n",
       "BatchNorm2d          64 x 512 x 11 x 11   1,024      True      \n",
       "________________________________________________________________\n",
       "Conv2d               64 x 512 x 11 x 11   2,359,296  False     \n",
       "________________________________________________________________\n",
       "BatchNorm2d          64 x 512 x 11 x 11   1,024      True      \n",
       "________________________________________________________________\n",
       "ReLU                 64 x 512 x 11 x 11   0          False     \n",
       "________________________________________________________________\n",
       "Conv2d               64 x 512 x 11 x 11   2,359,296  False     \n",
       "________________________________________________________________\n",
       "BatchNorm2d          64 x 512 x 11 x 11   1,024      True      \n",
       "________________________________________________________________\n",
       "Conv2d               64 x 64 x 168 x 168  9,408      False     \n",
       "________________________________________________________________\n",
       "BatchNorm2d          64 x 64 x 168 x 168  128        True      \n",
       "________________________________________________________________\n",
       "ReLU                 64 x 64 x 168 x 168  0          False     \n",
       "________________________________________________________________\n",
       "MaxPool2d            64 x 64 x 84 x 84    0          False     \n",
       "________________________________________________________________\n",
       "Conv2d               64 x 64 x 84 x 84    36,864     False     \n",
       "________________________________________________________________\n",
       "BatchNorm2d          64 x 64 x 84 x 84    128        True      \n",
       "________________________________________________________________\n",
       "ReLU                 64 x 64 x 84 x 84    0          False     \n",
       "________________________________________________________________\n",
       "Conv2d               64 x 64 x 84 x 84    36,864     False     \n",
       "________________________________________________________________\n",
       "BatchNorm2d          64 x 64 x 84 x 84    128        True      \n",
       "________________________________________________________________\n",
       "Conv2d               64 x 64 x 84 x 84    36,864     False     \n",
       "________________________________________________________________\n",
       "BatchNorm2d          64 x 64 x 84 x 84    128        True      \n",
       "________________________________________________________________\n",
       "ReLU                 64 x 64 x 84 x 84    0          False     \n",
       "________________________________________________________________\n",
       "Conv2d               64 x 64 x 84 x 84    36,864     False     \n",
       "________________________________________________________________\n",
       "BatchNorm2d          64 x 64 x 84 x 84    128        True      \n",
       "________________________________________________________________\n",
       "Conv2d               64 x 64 x 84 x 84    36,864     False     \n",
       "________________________________________________________________\n",
       "BatchNorm2d          64 x 64 x 84 x 84    128        True      \n",
       "________________________________________________________________\n",
       "ReLU                 64 x 64 x 84 x 84    0          False     \n",
       "________________________________________________________________\n",
       "Conv2d               64 x 64 x 84 x 84    36,864     False     \n",
       "________________________________________________________________\n",
       "BatchNorm2d          64 x 64 x 84 x 84    128        True      \n",
       "________________________________________________________________\n",
       "AdaptiveAvgPool2d    64 x 64 x 1 x 1      0          False     \n",
       "________________________________________________________________\n",
       "AdaptiveMaxPool2d    64 x 64 x 1 x 1      0          False     \n",
       "________________________________________________________________\n",
       "Flatten              64 x 128             0          False     \n",
       "________________________________________________________________\n",
       "BatchNorm1d          64 x 128             256        True      \n",
       "________________________________________________________________\n",
       "Dropout              64 x 128             0          False     \n",
       "________________________________________________________________\n",
       "Linear               64 x 512             65,536     True      \n",
       "________________________________________________________________\n",
       "ReLU                 64 x 512             0          False     \n",
       "________________________________________________________________\n",
       "BatchNorm1d          64 x 512             1,024      True      \n",
       "________________________________________________________________\n",
       "Dropout              64 x 512             0          False     \n",
       "________________________________________________________________\n",
       "Linear               64 x 29              14,848     True      \n",
       "________________________________________________________________\n",
       "Conv2d               64 x 128 x 42 x 42   73,728     False     \n",
       "________________________________________________________________\n",
       "BatchNorm2d          64 x 128 x 42 x 42   256        True      \n",
       "________________________________________________________________\n",
       "ReLU                 64 x 128 x 42 x 42   0          False     \n",
       "________________________________________________________________\n",
       "Conv2d               64 x 128 x 42 x 42   147,456    False     \n",
       "________________________________________________________________\n",
       "BatchNorm2d          64 x 128 x 42 x 42   256        True      \n",
       "________________________________________________________________\n",
       "Conv2d               64 x 128 x 42 x 42   8,192      False     \n",
       "________________________________________________________________\n",
       "BatchNorm2d          64 x 128 x 42 x 42   256        True      \n",
       "________________________________________________________________\n",
       "Conv2d               64 x 128 x 42 x 42   147,456    False     \n",
       "________________________________________________________________\n",
       "BatchNorm2d          64 x 128 x 42 x 42   256        True      \n",
       "________________________________________________________________\n",
       "ReLU                 64 x 128 x 42 x 42   0          False     \n",
       "________________________________________________________________\n",
       "Conv2d               64 x 128 x 42 x 42   147,456    False     \n",
       "________________________________________________________________\n",
       "BatchNorm2d          64 x 128 x 42 x 42   256        True      \n",
       "________________________________________________________________\n",
       "Conv2d               64 x 128 x 42 x 42   147,456    False     \n",
       "________________________________________________________________\n",
       "BatchNorm2d          64 x 128 x 42 x 42   256        True      \n",
       "________________________________________________________________\n",
       "ReLU                 64 x 128 x 42 x 42   0          False     \n",
       "________________________________________________________________\n",
       "Conv2d               64 x 128 x 42 x 42   147,456    False     \n",
       "________________________________________________________________\n",
       "BatchNorm2d          64 x 128 x 42 x 42   256        True      \n",
       "________________________________________________________________\n",
       "Conv2d               64 x 128 x 42 x 42   147,456    False     \n",
       "________________________________________________________________\n",
       "BatchNorm2d          64 x 128 x 42 x 42   256        True      \n",
       "________________________________________________________________\n",
       "ReLU                 64 x 128 x 42 x 42   0          False     \n",
       "________________________________________________________________\n",
       "Conv2d               64 x 128 x 42 x 42   147,456    False     \n",
       "________________________________________________________________\n",
       "BatchNorm2d          64 x 128 x 42 x 42   256        True      \n",
       "________________________________________________________________\n",
       "AdaptiveAvgPool2d    64 x 128 x 1 x 1     0          False     \n",
       "________________________________________________________________\n",
       "AdaptiveMaxPool2d    64 x 128 x 1 x 1     0          False     \n",
       "________________________________________________________________\n",
       "Flatten              64 x 256             0          False     \n",
       "________________________________________________________________\n",
       "BatchNorm1d          64 x 256             512        True      \n",
       "________________________________________________________________\n",
       "Dropout              64 x 256             0          False     \n",
       "________________________________________________________________\n",
       "Linear               64 x 512             131,072    True      \n",
       "________________________________________________________________\n",
       "ReLU                 64 x 512             0          False     \n",
       "________________________________________________________________\n",
       "BatchNorm1d          64 x 512             1,024      True      \n",
       "________________________________________________________________\n",
       "Dropout              64 x 512             0          False     \n",
       "________________________________________________________________\n",
       "Linear               64 x 135             69,120     True      \n",
       "________________________________________________________________\n",
       "Conv2d               64 x 256 x 21 x 21   294,912    False     \n",
       "________________________________________________________________\n",
       "BatchNorm2d          64 x 256 x 21 x 21   512        True      \n",
       "________________________________________________________________\n",
       "ReLU                 64 x 256 x 21 x 21   0          False     \n",
       "________________________________________________________________\n",
       "Conv2d               64 x 256 x 21 x 21   589,824    False     \n",
       "________________________________________________________________\n",
       "BatchNorm2d          64 x 256 x 21 x 21   512        True      \n",
       "________________________________________________________________\n",
       "Conv2d               64 x 256 x 21 x 21   32,768     False     \n",
       "________________________________________________________________\n",
       "BatchNorm2d          64 x 256 x 21 x 21   512        True      \n",
       "________________________________________________________________\n",
       "Conv2d               64 x 256 x 21 x 21   589,824    False     \n",
       "________________________________________________________________\n",
       "BatchNorm2d          64 x 256 x 21 x 21   512        True      \n",
       "________________________________________________________________\n",
       "ReLU                 64 x 256 x 21 x 21   0          False     \n",
       "________________________________________________________________\n",
       "Conv2d               64 x 256 x 21 x 21   589,824    False     \n",
       "________________________________________________________________\n",
       "BatchNorm2d          64 x 256 x 21 x 21   512        True      \n",
       "________________________________________________________________\n",
       "Conv2d               64 x 256 x 21 x 21   589,824    False     \n",
       "________________________________________________________________\n",
       "BatchNorm2d          64 x 256 x 21 x 21   512        True      \n",
       "________________________________________________________________\n",
       "ReLU                 64 x 256 x 21 x 21   0          False     \n",
       "________________________________________________________________\n",
       "Conv2d               64 x 256 x 21 x 21   589,824    False     \n",
       "________________________________________________________________\n",
       "BatchNorm2d          64 x 256 x 21 x 21   512        True      \n",
       "________________________________________________________________\n",
       "Conv2d               64 x 256 x 21 x 21   589,824    False     \n",
       "________________________________________________________________\n",
       "BatchNorm2d          64 x 256 x 21 x 21   512        True      \n",
       "________________________________________________________________\n",
       "ReLU                 64 x 256 x 21 x 21   0          False     \n",
       "________________________________________________________________\n",
       "Conv2d               64 x 256 x 21 x 21   589,824    False     \n",
       "________________________________________________________________\n",
       "BatchNorm2d          64 x 256 x 21 x 21   512        True      \n",
       "________________________________________________________________\n",
       "Conv2d               64 x 256 x 21 x 21   589,824    False     \n",
       "________________________________________________________________\n",
       "BatchNorm2d          64 x 256 x 21 x 21   512        True      \n",
       "________________________________________________________________\n",
       "ReLU                 64 x 256 x 21 x 21   0          False     \n",
       "________________________________________________________________\n",
       "Conv2d               64 x 256 x 21 x 21   589,824    False     \n",
       "________________________________________________________________\n",
       "BatchNorm2d          64 x 256 x 21 x 21   512        True      \n",
       "________________________________________________________________\n",
       "Conv2d               64 x 256 x 21 x 21   589,824    False     \n",
       "________________________________________________________________\n",
       "BatchNorm2d          64 x 256 x 21 x 21   512        True      \n",
       "________________________________________________________________\n",
       "ReLU                 64 x 256 x 21 x 21   0          False     \n",
       "________________________________________________________________\n",
       "Conv2d               64 x 256 x 21 x 21   589,824    False     \n",
       "________________________________________________________________\n",
       "BatchNorm2d          64 x 256 x 21 x 21   512        True      \n",
       "________________________________________________________________\n",
       "Conv2d               64 x 512 x 11 x 11   1,179,648  False     \n",
       "________________________________________________________________\n",
       "BatchNorm2d          64 x 512 x 11 x 11   1,024      True      \n",
       "________________________________________________________________\n",
       "ReLU                 64 x 512 x 11 x 11   0          False     \n",
       "________________________________________________________________\n",
       "Conv2d               64 x 512 x 11 x 11   2,359,296  False     \n",
       "________________________________________________________________\n",
       "BatchNorm2d          64 x 512 x 11 x 11   1,024      True      \n",
       "________________________________________________________________\n",
       "Conv2d               64 x 512 x 11 x 11   131,072    False     \n",
       "________________________________________________________________\n",
       "BatchNorm2d          64 x 512 x 11 x 11   1,024      True      \n",
       "________________________________________________________________\n",
       "Conv2d               64 x 512 x 11 x 11   2,359,296  False     \n",
       "________________________________________________________________\n",
       "BatchNorm2d          64 x 512 x 11 x 11   1,024      True      \n",
       "________________________________________________________________\n",
       "ReLU                 64 x 512 x 11 x 11   0          False     \n",
       "________________________________________________________________\n",
       "Conv2d               64 x 512 x 11 x 11   2,359,296  False     \n",
       "________________________________________________________________\n",
       "BatchNorm2d          64 x 512 x 11 x 11   1,024      True      \n",
       "________________________________________________________________\n",
       "Conv2d               64 x 512 x 11 x 11   2,359,296  False     \n",
       "________________________________________________________________\n",
       "BatchNorm2d          64 x 512 x 11 x 11   1,024      True      \n",
       "________________________________________________________________\n",
       "ReLU                 64 x 512 x 11 x 11   0          False     \n",
       "________________________________________________________________\n",
       "Conv2d               64 x 512 x 11 x 11   2,359,296  False     \n",
       "________________________________________________________________\n",
       "BatchNorm2d          64 x 512 x 11 x 11   1,024      True      \n",
       "________________________________________________________________\n",
       "AdaptiveAvgPool2d    64 x 512 x 1 x 1     0          False     \n",
       "________________________________________________________________\n",
       "AdaptiveMaxPool2d    64 x 512 x 1 x 1     0          False     \n",
       "________________________________________________________________\n",
       "Flatten              64 x 1024            0          False     \n",
       "________________________________________________________________\n",
       "BatchNorm1d          64 x 1024            2,048      True      \n",
       "________________________________________________________________\n",
       "Dropout              64 x 1024            0          False     \n",
       "________________________________________________________________\n",
       "Linear               64 x 512             524,288    True      \n",
       "________________________________________________________________\n",
       "ReLU                 64 x 512             0          False     \n",
       "________________________________________________________________\n",
       "BatchNorm1d          64 x 512             1,024      True      \n",
       "________________________________________________________________\n",
       "Dropout              64 x 512             0          False     \n",
       "________________________________________________________________\n",
       "Linear               64 x 1000            512,000    True      \n",
       "________________________________________________________________\n",
       "\n",
       "Total params: 43,892,096\n",
       "Total trainable params: 1,356,800\n",
       "Total non-trainable params: 42,535,296\n",
       "\n",
       "Optimizer used: <function Adam at 0x7f900ec5e670>\n",
       "Loss function: <function loss_func at 0x7f900d821ca0>\n",
       "\n",
       "Model frozen up to parameter group #5\n",
       "\n",
       "Callbacks:\n",
       "  - ModelToHalf\n",
       "  - TrainEvalCallback\n",
       "  - Recorder\n",
       "  - ProgressCallback\n",
       "  - MixedPrecision"
      ]
     },
     "execution_count": 48,
     "metadata": {},
     "output_type": "execute_result"
    }
   ],
   "source": [
    "learn.summary()"
   ]
  },
  {
   "cell_type": "markdown",
   "metadata": {},
   "source": [
    "Entrenamos el modelo congelado para ajustar los pesos de las últimas capas a nuestras clases, y descongelamos el modelo."
   ]
  },
  {
   "cell_type": "code",
   "execution_count": 49,
   "metadata": {
    "scrolled": true
   },
   "outputs": [
    {
     "data": {
      "text/html": [
       "<table border=\"1\" class=\"dataframe\">\n",
       "  <thead>\n",
       "    <tr style=\"text-align: left;\">\n",
       "      <th>epoch</th>\n",
       "      <th>train_loss</th>\n",
       "      <th>valid_loss</th>\n",
       "      <th>custom_accuracy</th>\n",
       "      <th>time</th>\n",
       "    </tr>\n",
       "  </thead>\n",
       "  <tbody>\n",
       "    <tr>\n",
       "      <td>0</td>\n",
       "      <td>12.395494</td>\n",
       "      <td>11.220432</td>\n",
       "      <td>0.381176</td>\n",
       "      <td>27:11</td>\n",
       "    </tr>\n",
       "  </tbody>\n",
       "</table>"
      ],
      "text/plain": [
       "<IPython.core.display.HTML object>"
      ]
     },
     "metadata": {},
     "output_type": "display_data"
    },
    {
     "data": {
      "text/plain": [
       "Path('models/species1000-resnet34-branch2-fepochs1-uepochs0.pth')"
      ]
     },
     "execution_count": 49,
     "metadata": {},
     "output_type": "execute_result"
    }
   ],
   "source": [
    "learn.fit(1, 3e-3)\n",
    "learn.save('species1000-resnet34-branch2-fepochs1-uepochs0')\n",
    "learn.unfreeze()"
   ]
  },
  {
   "cell_type": "markdown",
   "metadata": {},
   "source": [
    "Buscamos el factor de aprendizaje más adecuado con lr_find."
   ]
  },
  {
   "cell_type": "code",
   "execution_count": null,
   "metadata": {},
   "outputs": [],
   "source": [
    "learn.lr_find()"
   ]
  },
  {
   "cell_type": "markdown",
   "metadata": {},
   "source": [
    "Defimos una función para continuar el aprendizaje con los pesos guardados."
   ]
  },
  {
   "cell_type": "code",
   "execution_count": 44,
   "metadata": {
    "scrolled": true
   },
   "outputs": [],
   "source": [
    "def continue_training(pth_filename):\n",
    "    learn = Learner(dls, model, loss_func=loss_func, metrics=custom_accuracy,\n",
    "                   splitter=custom_splitter).to_fp16()\n",
    "    learn.load(pth_filename)\n",
    "    learn.unfreeze()\n",
    "    return learn"
   ]
  },
  {
   "cell_type": "markdown",
   "metadata": {},
   "source": [
    "Entrenamos durante 20 épocas con el factor de aprendizaje máximo adecuado según la visualización del buscador de factores de aprendizaje, guardando los pesos del entrenamiento en cada 5 épocas."
   ]
  },
  {
   "cell_type": "code",
   "execution_count": 50,
   "metadata": {},
   "outputs": [
    {
     "data": {
      "text/html": [
       "<table border=\"1\" class=\"dataframe\">\n",
       "  <thead>\n",
       "    <tr style=\"text-align: left;\">\n",
       "      <th>epoch</th>\n",
       "      <th>train_loss</th>\n",
       "      <th>valid_loss</th>\n",
       "      <th>custom_accuracy</th>\n",
       "      <th>time</th>\n",
       "    </tr>\n",
       "  </thead>\n",
       "  <tbody>\n",
       "    <tr>\n",
       "      <td>0</td>\n",
       "      <td>11.326385</td>\n",
       "      <td>10.361807</td>\n",
       "      <td>0.507248</td>\n",
       "      <td>27:24</td>\n",
       "    </tr>\n",
       "    <tr>\n",
       "      <td>1</td>\n",
       "      <td>11.003396</td>\n",
       "      <td>10.057730</td>\n",
       "      <td>0.543986</td>\n",
       "      <td>27:25</td>\n",
       "    </tr>\n",
       "    <tr>\n",
       "      <td>2</td>\n",
       "      <td>10.622349</td>\n",
       "      <td>9.860905</td>\n",
       "      <td>0.569402</td>\n",
       "      <td>27:23</td>\n",
       "    </tr>\n",
       "    <tr>\n",
       "      <td>3</td>\n",
       "      <td>10.619615</td>\n",
       "      <td>9.715158</td>\n",
       "      <td>0.583507</td>\n",
       "      <td>27:30</td>\n",
       "    </tr>\n",
       "    <tr>\n",
       "      <td>4</td>\n",
       "      <td>10.419349</td>\n",
       "      <td>9.613215</td>\n",
       "      <td>0.593941</td>\n",
       "      <td>29:42</td>\n",
       "    </tr>\n",
       "  </tbody>\n",
       "</table>"
      ],
      "text/plain": [
       "<IPython.core.display.HTML object>"
      ]
     },
     "metadata": {},
     "output_type": "display_data"
    },
    {
     "data": {
      "text/plain": [
       "Path('models/species1000-resnet34-branch2-fepochs1-uepochs5.pth')"
      ]
     },
     "execution_count": 50,
     "metadata": {},
     "output_type": "execute_result"
    }
   ],
   "source": [
    "learn.fit(5, slice(1e-6,1e-4))\n",
    "learn.save('species1000-resnet34-branch2-fepochs1-uepochs5')"
   ]
  },
  {
   "cell_type": "code",
   "execution_count": 51,
   "metadata": {
    "scrolled": true
   },
   "outputs": [
    {
     "data": {
      "text/html": [
       "<table border=\"1\" class=\"dataframe\">\n",
       "  <thead>\n",
       "    <tr style=\"text-align: left;\">\n",
       "      <th>epoch</th>\n",
       "      <th>train_loss</th>\n",
       "      <th>valid_loss</th>\n",
       "      <th>custom_accuracy</th>\n",
       "      <th>time</th>\n",
       "    </tr>\n",
       "  </thead>\n",
       "  <tbody>\n",
       "    <tr>\n",
       "      <td>0</td>\n",
       "      <td>10.155854</td>\n",
       "      <td>9.503171</td>\n",
       "      <td>0.611552</td>\n",
       "      <td>28:01</td>\n",
       "    </tr>\n",
       "    <tr>\n",
       "      <td>1</td>\n",
       "      <td>10.147539</td>\n",
       "      <td>9.410563</td>\n",
       "      <td>0.622353</td>\n",
       "      <td>27:40</td>\n",
       "    </tr>\n",
       "    <tr>\n",
       "      <td>2</td>\n",
       "      <td>10.086348</td>\n",
       "      <td>9.344399</td>\n",
       "      <td>0.627268</td>\n",
       "      <td>29:30</td>\n",
       "    </tr>\n",
       "    <tr>\n",
       "      <td>3</td>\n",
       "      <td>9.962287</td>\n",
       "      <td>9.278068</td>\n",
       "      <td>0.637951</td>\n",
       "      <td>27:48</td>\n",
       "    </tr>\n",
       "    <tr>\n",
       "      <td>4</td>\n",
       "      <td>9.879227</td>\n",
       "      <td>9.215546</td>\n",
       "      <td>0.642771</td>\n",
       "      <td>27:38</td>\n",
       "    </tr>\n",
       "  </tbody>\n",
       "</table>"
      ],
      "text/plain": [
       "<IPython.core.display.HTML object>"
      ]
     },
     "metadata": {},
     "output_type": "display_data"
    },
    {
     "data": {
      "text/plain": [
       "Path('models/species1000-resnet34-branch2-fepochs1-uepochs10.pth')"
      ]
     },
     "execution_count": 51,
     "metadata": {},
     "output_type": "execute_result"
    }
   ],
   "source": [
    "learn.fit(5, slice(1e-6,1e-4))\n",
    "learn.save('species1000-resnet34-branch2-fepochs1-uepochs10')"
   ]
  },
  {
   "cell_type": "code",
   "execution_count": 56,
   "metadata": {
    "scrolled": true
   },
   "outputs": [],
   "source": [
    "learn = continue_training('species1000-resnet34-branch2-fepochs1-uepochs10')"
   ]
  },
  {
   "cell_type": "code",
   "execution_count": 57,
   "metadata": {
    "scrolled": true
   },
   "outputs": [
    {
     "data": {
      "text/html": [
       "<table border=\"1\" class=\"dataframe\">\n",
       "  <thead>\n",
       "    <tr style=\"text-align: left;\">\n",
       "      <th>epoch</th>\n",
       "      <th>train_loss</th>\n",
       "      <th>valid_loss</th>\n",
       "      <th>custom_accuracy</th>\n",
       "      <th>time</th>\n",
       "    </tr>\n",
       "  </thead>\n",
       "  <tbody>\n",
       "    <tr>\n",
       "      <td>0</td>\n",
       "      <td>9.863610</td>\n",
       "      <td>9.187529</td>\n",
       "      <td>0.647994</td>\n",
       "      <td>27:24</td>\n",
       "    </tr>\n",
       "    <tr>\n",
       "      <td>1</td>\n",
       "      <td>9.769130</td>\n",
       "      <td>9.160567</td>\n",
       "      <td>0.648467</td>\n",
       "      <td>27:27</td>\n",
       "    </tr>\n",
       "    <tr>\n",
       "      <td>2</td>\n",
       "      <td>9.586393</td>\n",
       "      <td>9.100677</td>\n",
       "      <td>0.658191</td>\n",
       "      <td>27:50</td>\n",
       "    </tr>\n",
       "    <tr>\n",
       "      <td>3</td>\n",
       "      <td>9.528480</td>\n",
       "      <td>9.059388</td>\n",
       "      <td>0.659719</td>\n",
       "      <td>27:47</td>\n",
       "    </tr>\n",
       "    <tr>\n",
       "      <td>4</td>\n",
       "      <td>9.362242</td>\n",
       "      <td>9.021052</td>\n",
       "      <td>0.666813</td>\n",
       "      <td>27:45</td>\n",
       "    </tr>\n",
       "  </tbody>\n",
       "</table>"
      ],
      "text/plain": [
       "<IPython.core.display.HTML object>"
      ]
     },
     "metadata": {},
     "output_type": "display_data"
    },
    {
     "data": {
      "text/plain": [
       "Path('models/species1000-resnet34-branch2-fepochs1-uepochs15.pth')"
      ]
     },
     "execution_count": 57,
     "metadata": {},
     "output_type": "execute_result"
    }
   ],
   "source": [
    "learn.fit(5, slice(1e-6,1e-4))\n",
    "learn.save('species1000-resnet34-branch2-fepochs1-uepochs15')"
   ]
  },
  {
   "cell_type": "code",
   "execution_count": 58,
   "metadata": {
    "scrolled": true
   },
   "outputs": [],
   "source": [
    "learn.export('species1000-resnet34-branch2-fepochs1-uepochs15')"
   ]
  },
  {
   "cell_type": "code",
   "execution_count": 45,
   "metadata": {},
   "outputs": [],
   "source": [
    "learn = continue_training('species1000-resnet34-branch2-fepochs1-uepochs15')"
   ]
  },
  {
   "cell_type": "code",
   "execution_count": 46,
   "metadata": {},
   "outputs": [
    {
     "data": {
      "text/html": [
       "<table border=\"1\" class=\"dataframe\">\n",
       "  <thead>\n",
       "    <tr style=\"text-align: left;\">\n",
       "      <th>epoch</th>\n",
       "      <th>train_loss</th>\n",
       "      <th>valid_loss</th>\n",
       "      <th>custom_accuracy</th>\n",
       "      <th>time</th>\n",
       "    </tr>\n",
       "  </thead>\n",
       "  <tbody>\n",
       "    <tr>\n",
       "      <td>0</td>\n",
       "      <td>9.445045</td>\n",
       "      <td>9.013947</td>\n",
       "      <td>0.665356</td>\n",
       "      <td>27:16</td>\n",
       "    </tr>\n",
       "    <tr>\n",
       "      <td>1</td>\n",
       "      <td>9.449317</td>\n",
       "      <td>8.996127</td>\n",
       "      <td>0.666138</td>\n",
       "      <td>27:05</td>\n",
       "    </tr>\n",
       "    <tr>\n",
       "      <td>2</td>\n",
       "      <td>9.384818</td>\n",
       "      <td>8.963119</td>\n",
       "      <td>0.675008</td>\n",
       "      <td>27:04</td>\n",
       "    </tr>\n",
       "    <tr>\n",
       "      <td>3</td>\n",
       "      <td>9.215953</td>\n",
       "      <td>8.937473</td>\n",
       "      <td>0.671017</td>\n",
       "      <td>29:04</td>\n",
       "    </tr>\n",
       "    <tr>\n",
       "      <td>4</td>\n",
       "      <td>9.279916</td>\n",
       "      <td>8.903980</td>\n",
       "      <td>0.681262</td>\n",
       "      <td>27:07</td>\n",
       "    </tr>\n",
       "  </tbody>\n",
       "</table>"
      ],
      "text/plain": [
       "<IPython.core.display.HTML object>"
      ]
     },
     "metadata": {},
     "output_type": "display_data"
    },
    {
     "data": {
      "text/plain": [
       "Path('models/species1000-resnet34-branch2-fepochs1-uepochs20.pth')"
      ]
     },
     "execution_count": 46,
     "metadata": {},
     "output_type": "execute_result"
    }
   ],
   "source": [
    "learn.fit(5, slice(1e-6,1e-4))\n",
    "learn.save('species1000-resnet34-branch2-fepochs1-uepochs20')"
   ]
  },
  {
   "cell_type": "code",
   "execution_count": 47,
   "metadata": {},
   "outputs": [],
   "source": [
    "learn.export('species1000-resnet34-branch2-fepochs1-uepochs20')"
   ]
  }
 ],
 "metadata": {
  "kernelspec": {
   "display_name": "Python 3",
   "language": "python",
   "name": "python3"
  },
  "language_info": {
   "codemirror_mode": {
    "name": "ipython",
    "version": 3
   },
   "file_extension": ".py",
   "mimetype": "text/x-python",
   "name": "python",
   "nbconvert_exporter": "python",
   "pygments_lexer": "ipython3",
   "version": "3.8.6"
  }
 },
 "nbformat": 4,
 "nbformat_minor": 4
}
