{
 "cells": [
  {
   "cell_type": "markdown",
   "metadata": {},
   "source": [
    "# Linked-CNN con modelo base ResNet-50"
   ]
  },
  {
   "cell_type": "markdown",
   "metadata": {},
   "source": [
    "En primer lugar, importamos las librerías necesarias para ejecutar este cuaderno."
   ]
  },
  {
   "cell_type": "code",
   "execution_count": 1,
   "metadata": {
    "scrolled": true
   },
   "outputs": [],
   "source": [
    "from fastai.vision.all import *"
   ]
  },
  {
   "cell_type": "markdown",
   "metadata": {},
   "source": [
    "Establecemos las variables de entorno necesarias para usar las dos GPUs."
   ]
  },
  {
   "cell_type": "code",
   "execution_count": 2,
   "metadata": {},
   "outputs": [],
   "source": [
    "import os; os.environ['CUDA_VISIBLE_DEVICES']='0,1'"
   ]
  },
  {
   "cell_type": "markdown",
   "metadata": {},
   "source": [
    "Definimos la ruta que contiene las imágenes del conjunto de datos."
   ]
  },
  {
   "cell_type": "code",
   "execution_count": 3,
   "metadata": {
    "scrolled": true
   },
   "outputs": [],
   "source": [
    "path = Path('/home/user/images')"
   ]
  },
  {
   "cell_type": "markdown",
   "metadata": {},
   "source": [
    "Listamos el directorio establecido para mostrar las carpetas por clase que contienen dicho directorio."
   ]
  },
  {
   "cell_type": "code",
   "execution_count": 4,
   "metadata": {
    "scrolled": true
   },
   "outputs": [
    {
     "data": {
      "text/plain": [
       "(#1000) [Path('/home/user/images/Bathygobius krefftii'),Path('/home/user/images/Oncorhynchus gorbuscha'),Path('/home/user/images/Chromis margaritifer'),Path('/home/user/images/Istigobius hoesei'),Path('/home/user/images/Abudefduf sordidus'),Path('/home/user/images/Acanthurus leucopareius'),Path('/home/user/images/Sphoeroides spengleri'),Path('/home/user/images/Orthopristis chrysoptera'),Path('/home/user/images/Etheostoma zonale'),Path('/home/user/images/Morone mississippiensis')...]"
      ]
     },
     "execution_count": 4,
     "metadata": {},
     "output_type": "execute_result"
    }
   ],
   "source": [
    "path.ls()"
   ]
  },
  {
   "cell_type": "markdown",
   "metadata": {},
   "source": [
    "Definimos la ruta padre del proyecto donde se encuentran los datos."
   ]
  },
  {
   "cell_type": "code",
   "execution_count": 5,
   "metadata": {
    "scrolled": true
   },
   "outputs": [],
   "source": [
    "df_path = Path('/home/user/')"
   ]
  },
  {
   "cell_type": "markdown",
   "metadata": {},
   "source": [
    "Cargamos el archivo CSV en forma de _dataframe_ de Pandas con las clases jerárquicas de cada imagen, la ruta de la imagen y si corresponde o no al conjunto de validación."
   ]
  },
  {
   "cell_type": "code",
   "execution_count": 6,
   "metadata": {
    "scrolled": true
   },
   "outputs": [],
   "source": [
    "df = pd.read_csv(df_path/'csv/species1000-stratified.csv')"
   ]
  },
  {
   "cell_type": "markdown",
   "metadata": {},
   "source": [
    "Cargamos los pesos en forma de _dataframes_ de las clases para corregir el desbalanceo durante el entrenamiento."
   ]
  },
  {
   "cell_type": "code",
   "execution_count": 7,
   "metadata": {},
   "outputs": [],
   "source": [
    "weights_df = pd.read_csv(df_path/'csv/species1000-weights.csv')\n",
    "weights_family_df = pd.read_csv(df_path/'csv/species1000-weights-family.csv')"
   ]
  },
  {
   "cell_type": "code",
   "execution_count": 8,
   "metadata": {},
   "outputs": [
    {
     "data": {
      "text/html": [
       "<div>\n",
       "<style scoped>\n",
       "    .dataframe tbody tr th:only-of-type {\n",
       "        vertical-align: middle;\n",
       "    }\n",
       "\n",
       "    .dataframe tbody tr th {\n",
       "        vertical-align: top;\n",
       "    }\n",
       "\n",
       "    .dataframe thead th {\n",
       "        text-align: right;\n",
       "    }\n",
       "</style>\n",
       "<table border=\"1\" class=\"dataframe\">\n",
       "  <thead>\n",
       "    <tr style=\"text-align: right;\">\n",
       "      <th></th>\n",
       "      <th>Specie</th>\n",
       "      <th>Count</th>\n",
       "      <th>Weight</th>\n",
       "    </tr>\n",
       "  </thead>\n",
       "  <tbody>\n",
       "    <tr>\n",
       "      <th>0</th>\n",
       "      <td>Abramis brama</td>\n",
       "      <td>319</td>\n",
       "      <td>1.323439</td>\n",
       "    </tr>\n",
       "    <tr>\n",
       "      <th>1</th>\n",
       "      <td>Abudefduf abdominalis</td>\n",
       "      <td>221</td>\n",
       "      <td>1.910303</td>\n",
       "    </tr>\n",
       "    <tr>\n",
       "      <th>2</th>\n",
       "      <td>Abudefduf bengalensis</td>\n",
       "      <td>323</td>\n",
       "      <td>1.307050</td>\n",
       "    </tr>\n",
       "    <tr>\n",
       "      <th>3</th>\n",
       "      <td>Abudefduf saxatilis</td>\n",
       "      <td>1692</td>\n",
       "      <td>0.249514</td>\n",
       "    </tr>\n",
       "    <tr>\n",
       "      <th>4</th>\n",
       "      <td>Abudefduf septemfasciatus</td>\n",
       "      <td>149</td>\n",
       "      <td>2.833403</td>\n",
       "    </tr>\n",
       "    <tr>\n",
       "      <th>...</th>\n",
       "      <td>...</td>\n",
       "      <td>...</td>\n",
       "      <td>...</td>\n",
       "    </tr>\n",
       "    <tr>\n",
       "      <th>995</th>\n",
       "      <td>Zanclus cornutus</td>\n",
       "      <td>1966</td>\n",
       "      <td>0.214739</td>\n",
       "    </tr>\n",
       "    <tr>\n",
       "      <th>996</th>\n",
       "      <td>Zebrasoma desjardinii</td>\n",
       "      <td>166</td>\n",
       "      <td>2.543235</td>\n",
       "    </tr>\n",
       "    <tr>\n",
       "      <th>997</th>\n",
       "      <td>Zebrasoma flavescens</td>\n",
       "      <td>561</td>\n",
       "      <td>0.752544</td>\n",
       "    </tr>\n",
       "    <tr>\n",
       "      <th>998</th>\n",
       "      <td>Zebrasoma scopas</td>\n",
       "      <td>276</td>\n",
       "      <td>1.529627</td>\n",
       "    </tr>\n",
       "    <tr>\n",
       "      <th>999</th>\n",
       "      <td>Zebrasoma velifer</td>\n",
       "      <td>500</td>\n",
       "      <td>0.844354</td>\n",
       "    </tr>\n",
       "  </tbody>\n",
       "</table>\n",
       "<p>1000 rows × 3 columns</p>\n",
       "</div>"
      ],
      "text/plain": [
       "                        Specie  Count    Weight\n",
       "0                Abramis brama    319  1.323439\n",
       "1        Abudefduf abdominalis    221  1.910303\n",
       "2        Abudefduf bengalensis    323  1.307050\n",
       "3          Abudefduf saxatilis   1692  0.249514\n",
       "4    Abudefduf septemfasciatus    149  2.833403\n",
       "..                         ...    ...       ...\n",
       "995           Zanclus cornutus   1966  0.214739\n",
       "996      Zebrasoma desjardinii    166  2.543235\n",
       "997       Zebrasoma flavescens    561  0.752544\n",
       "998           Zebrasoma scopas    276  1.529627\n",
       "999          Zebrasoma velifer    500  0.844354\n",
       "\n",
       "[1000 rows x 3 columns]"
      ]
     },
     "execution_count": 8,
     "metadata": {},
     "output_type": "execute_result"
    }
   ],
   "source": [
    "weights_df"
   ]
  },
  {
   "cell_type": "markdown",
   "metadata": {},
   "source": [
    "## Experimento 4: 5 conexiones"
   ]
  },
  {
   "cell_type": "code",
   "execution_count": 9,
   "metadata": {},
   "outputs": [],
   "source": [
    "n_classes_f = len(set(df['Specie']))\n",
    "n_classes_c = len(set(df['Family']))"
   ]
  },
  {
   "cell_type": "markdown",
   "metadata": {},
   "source": [
    "Creamos los cuerpos y cabezas del modelo tomando como base ResNet-50 con pesos preentrenados."
   ]
  },
  {
   "cell_type": "code",
   "execution_count": 10,
   "metadata": {
    "scrolled": true
   },
   "outputs": [
    {
     "data": {
      "text/plain": [
       "Sequential(\n",
       "  (0): Conv2d(3, 64, kernel_size=(7, 7), stride=(2, 2), padding=(3, 3), bias=False)\n",
       "  (1): BatchNorm2d(64, eps=1e-05, momentum=0.1, affine=True, track_running_stats=True)\n",
       "  (2): ReLU(inplace=True)\n",
       "  (3): MaxPool2d(kernel_size=3, stride=2, padding=1, dilation=1, ceil_mode=False)\n",
       "  (4): Sequential(\n",
       "    (0): Bottleneck(\n",
       "      (conv1): Conv2d(64, 64, kernel_size=(1, 1), stride=(1, 1), bias=False)\n",
       "      (bn1): BatchNorm2d(64, eps=1e-05, momentum=0.1, affine=True, track_running_stats=True)\n",
       "      (conv2): Conv2d(64, 64, kernel_size=(3, 3), stride=(1, 1), padding=(1, 1), bias=False)\n",
       "      (bn2): BatchNorm2d(64, eps=1e-05, momentum=0.1, affine=True, track_running_stats=True)\n",
       "      (conv3): Conv2d(64, 256, kernel_size=(1, 1), stride=(1, 1), bias=False)\n",
       "      (bn3): BatchNorm2d(256, eps=1e-05, momentum=0.1, affine=True, track_running_stats=True)\n",
       "      (relu): ReLU(inplace=True)\n",
       "      (downsample): Sequential(\n",
       "        (0): Conv2d(64, 256, kernel_size=(1, 1), stride=(1, 1), bias=False)\n",
       "        (1): BatchNorm2d(256, eps=1e-05, momentum=0.1, affine=True, track_running_stats=True)\n",
       "      )\n",
       "    )\n",
       "    (1): Bottleneck(\n",
       "      (conv1): Conv2d(256, 64, kernel_size=(1, 1), stride=(1, 1), bias=False)\n",
       "      (bn1): BatchNorm2d(64, eps=1e-05, momentum=0.1, affine=True, track_running_stats=True)\n",
       "      (conv2): Conv2d(64, 64, kernel_size=(3, 3), stride=(1, 1), padding=(1, 1), bias=False)\n",
       "      (bn2): BatchNorm2d(64, eps=1e-05, momentum=0.1, affine=True, track_running_stats=True)\n",
       "      (conv3): Conv2d(64, 256, kernel_size=(1, 1), stride=(1, 1), bias=False)\n",
       "      (bn3): BatchNorm2d(256, eps=1e-05, momentum=0.1, affine=True, track_running_stats=True)\n",
       "      (relu): ReLU(inplace=True)\n",
       "    )\n",
       "    (2): Bottleneck(\n",
       "      (conv1): Conv2d(256, 64, kernel_size=(1, 1), stride=(1, 1), bias=False)\n",
       "      (bn1): BatchNorm2d(64, eps=1e-05, momentum=0.1, affine=True, track_running_stats=True)\n",
       "      (conv2): Conv2d(64, 64, kernel_size=(3, 3), stride=(1, 1), padding=(1, 1), bias=False)\n",
       "      (bn2): BatchNorm2d(64, eps=1e-05, momentum=0.1, affine=True, track_running_stats=True)\n",
       "      (conv3): Conv2d(64, 256, kernel_size=(1, 1), stride=(1, 1), bias=False)\n",
       "      (bn3): BatchNorm2d(256, eps=1e-05, momentum=0.1, affine=True, track_running_stats=True)\n",
       "      (relu): ReLU(inplace=True)\n",
       "    )\n",
       "  )\n",
       "  (5): Sequential(\n",
       "    (0): Bottleneck(\n",
       "      (conv1): Conv2d(256, 128, kernel_size=(1, 1), stride=(1, 1), bias=False)\n",
       "      (bn1): BatchNorm2d(128, eps=1e-05, momentum=0.1, affine=True, track_running_stats=True)\n",
       "      (conv2): Conv2d(128, 128, kernel_size=(3, 3), stride=(2, 2), padding=(1, 1), bias=False)\n",
       "      (bn2): BatchNorm2d(128, eps=1e-05, momentum=0.1, affine=True, track_running_stats=True)\n",
       "      (conv3): Conv2d(128, 512, kernel_size=(1, 1), stride=(1, 1), bias=False)\n",
       "      (bn3): BatchNorm2d(512, eps=1e-05, momentum=0.1, affine=True, track_running_stats=True)\n",
       "      (relu): ReLU(inplace=True)\n",
       "      (downsample): Sequential(\n",
       "        (0): Conv2d(256, 512, kernel_size=(1, 1), stride=(2, 2), bias=False)\n",
       "        (1): BatchNorm2d(512, eps=1e-05, momentum=0.1, affine=True, track_running_stats=True)\n",
       "      )\n",
       "    )\n",
       "    (1): Bottleneck(\n",
       "      (conv1): Conv2d(512, 128, kernel_size=(1, 1), stride=(1, 1), bias=False)\n",
       "      (bn1): BatchNorm2d(128, eps=1e-05, momentum=0.1, affine=True, track_running_stats=True)\n",
       "      (conv2): Conv2d(128, 128, kernel_size=(3, 3), stride=(1, 1), padding=(1, 1), bias=False)\n",
       "      (bn2): BatchNorm2d(128, eps=1e-05, momentum=0.1, affine=True, track_running_stats=True)\n",
       "      (conv3): Conv2d(128, 512, kernel_size=(1, 1), stride=(1, 1), bias=False)\n",
       "      (bn3): BatchNorm2d(512, eps=1e-05, momentum=0.1, affine=True, track_running_stats=True)\n",
       "      (relu): ReLU(inplace=True)\n",
       "    )\n",
       "    (2): Bottleneck(\n",
       "      (conv1): Conv2d(512, 128, kernel_size=(1, 1), stride=(1, 1), bias=False)\n",
       "      (bn1): BatchNorm2d(128, eps=1e-05, momentum=0.1, affine=True, track_running_stats=True)\n",
       "      (conv2): Conv2d(128, 128, kernel_size=(3, 3), stride=(1, 1), padding=(1, 1), bias=False)\n",
       "      (bn2): BatchNorm2d(128, eps=1e-05, momentum=0.1, affine=True, track_running_stats=True)\n",
       "      (conv3): Conv2d(128, 512, kernel_size=(1, 1), stride=(1, 1), bias=False)\n",
       "      (bn3): BatchNorm2d(512, eps=1e-05, momentum=0.1, affine=True, track_running_stats=True)\n",
       "      (relu): ReLU(inplace=True)\n",
       "    )\n",
       "    (3): Bottleneck(\n",
       "      (conv1): Conv2d(512, 128, kernel_size=(1, 1), stride=(1, 1), bias=False)\n",
       "      (bn1): BatchNorm2d(128, eps=1e-05, momentum=0.1, affine=True, track_running_stats=True)\n",
       "      (conv2): Conv2d(128, 128, kernel_size=(3, 3), stride=(1, 1), padding=(1, 1), bias=False)\n",
       "      (bn2): BatchNorm2d(128, eps=1e-05, momentum=0.1, affine=True, track_running_stats=True)\n",
       "      (conv3): Conv2d(128, 512, kernel_size=(1, 1), stride=(1, 1), bias=False)\n",
       "      (bn3): BatchNorm2d(512, eps=1e-05, momentum=0.1, affine=True, track_running_stats=True)\n",
       "      (relu): ReLU(inplace=True)\n",
       "    )\n",
       "  )\n",
       "  (6): Sequential(\n",
       "    (0): Bottleneck(\n",
       "      (conv1): Conv2d(512, 256, kernel_size=(1, 1), stride=(1, 1), bias=False)\n",
       "      (bn1): BatchNorm2d(256, eps=1e-05, momentum=0.1, affine=True, track_running_stats=True)\n",
       "      (conv2): Conv2d(256, 256, kernel_size=(3, 3), stride=(2, 2), padding=(1, 1), bias=False)\n",
       "      (bn2): BatchNorm2d(256, eps=1e-05, momentum=0.1, affine=True, track_running_stats=True)\n",
       "      (conv3): Conv2d(256, 1024, kernel_size=(1, 1), stride=(1, 1), bias=False)\n",
       "      (bn3): BatchNorm2d(1024, eps=1e-05, momentum=0.1, affine=True, track_running_stats=True)\n",
       "      (relu): ReLU(inplace=True)\n",
       "      (downsample): Sequential(\n",
       "        (0): Conv2d(512, 1024, kernel_size=(1, 1), stride=(2, 2), bias=False)\n",
       "        (1): BatchNorm2d(1024, eps=1e-05, momentum=0.1, affine=True, track_running_stats=True)\n",
       "      )\n",
       "    )\n",
       "    (1): Bottleneck(\n",
       "      (conv1): Conv2d(1024, 256, kernel_size=(1, 1), stride=(1, 1), bias=False)\n",
       "      (bn1): BatchNorm2d(256, eps=1e-05, momentum=0.1, affine=True, track_running_stats=True)\n",
       "      (conv2): Conv2d(256, 256, kernel_size=(3, 3), stride=(1, 1), padding=(1, 1), bias=False)\n",
       "      (bn2): BatchNorm2d(256, eps=1e-05, momentum=0.1, affine=True, track_running_stats=True)\n",
       "      (conv3): Conv2d(256, 1024, kernel_size=(1, 1), stride=(1, 1), bias=False)\n",
       "      (bn3): BatchNorm2d(1024, eps=1e-05, momentum=0.1, affine=True, track_running_stats=True)\n",
       "      (relu): ReLU(inplace=True)\n",
       "    )\n",
       "    (2): Bottleneck(\n",
       "      (conv1): Conv2d(1024, 256, kernel_size=(1, 1), stride=(1, 1), bias=False)\n",
       "      (bn1): BatchNorm2d(256, eps=1e-05, momentum=0.1, affine=True, track_running_stats=True)\n",
       "      (conv2): Conv2d(256, 256, kernel_size=(3, 3), stride=(1, 1), padding=(1, 1), bias=False)\n",
       "      (bn2): BatchNorm2d(256, eps=1e-05, momentum=0.1, affine=True, track_running_stats=True)\n",
       "      (conv3): Conv2d(256, 1024, kernel_size=(1, 1), stride=(1, 1), bias=False)\n",
       "      (bn3): BatchNorm2d(1024, eps=1e-05, momentum=0.1, affine=True, track_running_stats=True)\n",
       "      (relu): ReLU(inplace=True)\n",
       "    )\n",
       "    (3): Bottleneck(\n",
       "      (conv1): Conv2d(1024, 256, kernel_size=(1, 1), stride=(1, 1), bias=False)\n",
       "      (bn1): BatchNorm2d(256, eps=1e-05, momentum=0.1, affine=True, track_running_stats=True)\n",
       "      (conv2): Conv2d(256, 256, kernel_size=(3, 3), stride=(1, 1), padding=(1, 1), bias=False)\n",
       "      (bn2): BatchNorm2d(256, eps=1e-05, momentum=0.1, affine=True, track_running_stats=True)\n",
       "      (conv3): Conv2d(256, 1024, kernel_size=(1, 1), stride=(1, 1), bias=False)\n",
       "      (bn3): BatchNorm2d(1024, eps=1e-05, momentum=0.1, affine=True, track_running_stats=True)\n",
       "      (relu): ReLU(inplace=True)\n",
       "    )\n",
       "    (4): Bottleneck(\n",
       "      (conv1): Conv2d(1024, 256, kernel_size=(1, 1), stride=(1, 1), bias=False)\n",
       "      (bn1): BatchNorm2d(256, eps=1e-05, momentum=0.1, affine=True, track_running_stats=True)\n",
       "      (conv2): Conv2d(256, 256, kernel_size=(3, 3), stride=(1, 1), padding=(1, 1), bias=False)\n",
       "      (bn2): BatchNorm2d(256, eps=1e-05, momentum=0.1, affine=True, track_running_stats=True)\n",
       "      (conv3): Conv2d(256, 1024, kernel_size=(1, 1), stride=(1, 1), bias=False)\n",
       "      (bn3): BatchNorm2d(1024, eps=1e-05, momentum=0.1, affine=True, track_running_stats=True)\n",
       "      (relu): ReLU(inplace=True)\n",
       "    )\n",
       "    (5): Bottleneck(\n",
       "      (conv1): Conv2d(1024, 256, kernel_size=(1, 1), stride=(1, 1), bias=False)\n",
       "      (bn1): BatchNorm2d(256, eps=1e-05, momentum=0.1, affine=True, track_running_stats=True)\n",
       "      (conv2): Conv2d(256, 256, kernel_size=(3, 3), stride=(1, 1), padding=(1, 1), bias=False)\n",
       "      (bn2): BatchNorm2d(256, eps=1e-05, momentum=0.1, affine=True, track_running_stats=True)\n",
       "      (conv3): Conv2d(256, 1024, kernel_size=(1, 1), stride=(1, 1), bias=False)\n",
       "      (bn3): BatchNorm2d(1024, eps=1e-05, momentum=0.1, affine=True, track_running_stats=True)\n",
       "      (relu): ReLU(inplace=True)\n",
       "    )\n",
       "  )\n",
       "  (7): Sequential(\n",
       "    (0): Bottleneck(\n",
       "      (conv1): Conv2d(1024, 512, kernel_size=(1, 1), stride=(1, 1), bias=False)\n",
       "      (bn1): BatchNorm2d(512, eps=1e-05, momentum=0.1, affine=True, track_running_stats=True)\n",
       "      (conv2): Conv2d(512, 512, kernel_size=(3, 3), stride=(2, 2), padding=(1, 1), bias=False)\n",
       "      (bn2): BatchNorm2d(512, eps=1e-05, momentum=0.1, affine=True, track_running_stats=True)\n",
       "      (conv3): Conv2d(512, 2048, kernel_size=(1, 1), stride=(1, 1), bias=False)\n",
       "      (bn3): BatchNorm2d(2048, eps=1e-05, momentum=0.1, affine=True, track_running_stats=True)\n",
       "      (relu): ReLU(inplace=True)\n",
       "      (downsample): Sequential(\n",
       "        (0): Conv2d(1024, 2048, kernel_size=(1, 1), stride=(2, 2), bias=False)\n",
       "        (1): BatchNorm2d(2048, eps=1e-05, momentum=0.1, affine=True, track_running_stats=True)\n",
       "      )\n",
       "    )\n",
       "    (1): Bottleneck(\n",
       "      (conv1): Conv2d(2048, 512, kernel_size=(1, 1), stride=(1, 1), bias=False)\n",
       "      (bn1): BatchNorm2d(512, eps=1e-05, momentum=0.1, affine=True, track_running_stats=True)\n",
       "      (conv2): Conv2d(512, 512, kernel_size=(3, 3), stride=(1, 1), padding=(1, 1), bias=False)\n",
       "      (bn2): BatchNorm2d(512, eps=1e-05, momentum=0.1, affine=True, track_running_stats=True)\n",
       "      (conv3): Conv2d(512, 2048, kernel_size=(1, 1), stride=(1, 1), bias=False)\n",
       "      (bn3): BatchNorm2d(2048, eps=1e-05, momentum=0.1, affine=True, track_running_stats=True)\n",
       "      (relu): ReLU(inplace=True)\n",
       "    )\n",
       "    (2): Bottleneck(\n",
       "      (conv1): Conv2d(2048, 512, kernel_size=(1, 1), stride=(1, 1), bias=False)\n",
       "      (bn1): BatchNorm2d(512, eps=1e-05, momentum=0.1, affine=True, track_running_stats=True)\n",
       "      (conv2): Conv2d(512, 512, kernel_size=(3, 3), stride=(1, 1), padding=(1, 1), bias=False)\n",
       "      (bn2): BatchNorm2d(512, eps=1e-05, momentum=0.1, affine=True, track_running_stats=True)\n",
       "      (conv3): Conv2d(512, 2048, kernel_size=(1, 1), stride=(1, 1), bias=False)\n",
       "      (bn3): BatchNorm2d(2048, eps=1e-05, momentum=0.1, affine=True, track_running_stats=True)\n",
       "      (relu): ReLU(inplace=True)\n",
       "    )\n",
       "  )\n",
       ")"
      ]
     },
     "execution_count": 10,
     "metadata": {},
     "output_type": "execute_result"
    }
   ],
   "source": [
    "model = resnet50\n",
    "body1 = create_body(model, cut=-2)\n",
    "body2 = create_body(model, cut=-2)\n",
    "body1"
   ]
  },
  {
   "cell_type": "code",
   "execution_count": 11,
   "metadata": {
    "scrolled": true
   },
   "outputs": [
    {
     "data": {
      "text/plain": [
       "Sequential(\n",
       "  (0): AdaptiveConcatPool2d(\n",
       "    (ap): AdaptiveAvgPool2d(output_size=1)\n",
       "    (mp): AdaptiveMaxPool2d(output_size=1)\n",
       "  )\n",
       "  (1): Flatten(full=False)\n",
       "  (2): BatchNorm1d(4096, eps=1e-05, momentum=0.1, affine=True, track_running_stats=True)\n",
       "  (3): Dropout(p=0.25, inplace=False)\n",
       "  (4): Linear(in_features=4096, out_features=512, bias=False)\n",
       "  (5): ReLU(inplace=True)\n",
       "  (6): BatchNorm1d(512, eps=1e-05, momentum=0.1, affine=True, track_running_stats=True)\n",
       "  (7): Dropout(p=0.5, inplace=False)\n",
       "  (8): Linear(in_features=512, out_features=1000, bias=False)\n",
       ")"
      ]
     },
     "execution_count": 11,
     "metadata": {},
     "output_type": "execute_result"
    }
   ],
   "source": [
    "head_c = create_head(2048*2,n_classes_c)\n",
    "head_f = create_head(2048*2,n_classes_f)\n",
    "head_f"
   ]
  },
  {
   "cell_type": "markdown",
   "metadata": {},
   "source": [
    "Definimos una función para obtener las etiquetas de cada ejemplo, en este caso: familia y especie."
   ]
  },
  {
   "cell_type": "code",
   "execution_count": 12,
   "metadata": {
    "scrolled": true
   },
   "outputs": [],
   "source": [
    "def custom_get_y(o):\n",
    "    fine_label = o['Specie']\n",
    "    coarse1_label = o['Family']\n",
    "    return [coarse1_label, fine_label]"
   ]
  },
  {
   "cell_type": "markdown",
   "metadata": {},
   "source": [
    "Creamos una clase para nuestro modelo que divida los _encoder_ en los distintos bloques. En el método _forward_ establecemos las conexiones entre los bloques para formar la arquitectura propuesta Linked-CNN, y devolver ambas salidas en forma de diccionario."
   ]
  },
  {
   "cell_type": "code",
   "execution_count": 13,
   "metadata": {
    "scrolled": true
   },
   "outputs": [],
   "source": [
    "class Resnet50CustomModel(Module):\n",
    "    def __init__(self, coarse_encoder, fine_encoder, coarse_head, fine_head):\n",
    "        self.coarse_stem = coarse_encoder[:4]\n",
    "        self.coarse_block1 = coarse_encoder[4]\n",
    "        self.coarse_block2 = coarse_encoder[5]\n",
    "        self.coarse_block3 = coarse_encoder[6]\n",
    "        self.coarse_block4 = coarse_encoder[7]\n",
    "        self.coarse_head = coarse_head\n",
    "        \n",
    "        self.fine_stem = fine_encoder[:4]\n",
    "        self.fine_block1 = fine_encoder[4]\n",
    "        self.fine_block2 = fine_encoder[5]\n",
    "        self.fine_block3 = fine_encoder[6]\n",
    "        self.fine_block4 = fine_encoder[7]\n",
    "        self.fine_head = fine_head\n",
    "        \n",
    "    \n",
    "    def forward(self, x):\n",
    "        x_c = self.coarse_stem(x)\n",
    "        x_f = self.fine_stem(x)\n",
    "        x_f = x_f + x_c\n",
    "        \n",
    "        x_c = self.coarse_block1(x_c)\n",
    "        x_f = self.fine_block1(x_f)\n",
    "        x_f = x_f + x_c\n",
    "        \n",
    "        x_c = self.coarse_block2(x_c)\n",
    "        x_f = self.fine_block2(x_f)\n",
    "        x_f = x_f + x_c\n",
    "\n",
    "        x_c = self.coarse_block3(x_c)\n",
    "        x_f = self.fine_block3(x_f)\n",
    "        x_f = x_f + x_c\n",
    "\n",
    "        x_c = self.coarse_block4(x_c)\n",
    "        x_f = self.fine_block4(x_f)\n",
    "        x_f = x_f + x_c\n",
    "        \n",
    "        coarse1_label = self.coarse_head(x_c)\n",
    "        fine_label = self.fine_head(x_f)\n",
    "        \n",
    "        return {\n",
    "                'fine_label': fine_label,\n",
    "                'coarse1_label': coarse1_label\n",
    "               }"
   ]
  },
  {
   "cell_type": "markdown",
   "metadata": {},
   "source": [
    "Creamos el modelo con la clase definida pasándole los cuerpos y cabezas de ambos modelos con distintos niveles de especificación."
   ]
  },
  {
   "cell_type": "code",
   "execution_count": 14,
   "metadata": {
    "scrolled": true
   },
   "outputs": [],
   "source": [
    "model = Resnet50CustomModel(body1, body2, head_c, head_f)"
   ]
  },
  {
   "cell_type": "markdown",
   "metadata": {},
   "source": [
    "Como hemos modificado el modelo y la obtención de las clases para usar una salida múltiple, tenemos que modificar el tipo de bloque de categoría a uno que soporte estas salidas. Para ello, definimos una función que obtenga la clase y codifique a categoría cada una."
   ]
  },
  {
   "cell_type": "code",
   "execution_count": 15,
   "metadata": {
    "scrolled": true
   },
   "outputs": [],
   "source": [
    "class CustomCategorize(DisplayedTransform):\n",
    "    \"Reversible transform of category string to `vocab` id\"\n",
    "    loss_func,order=CrossEntropyLossFlat(),1\n",
    "    def __init__(self, vocab=None, vocab_coarse1=None, vocab_coarse2=None, sort=True, add_na=False, num_y=1):\n",
    "        store_attr()\n",
    "        self.vocab = None if vocab is None else CategoryMap(vocab, sort=sort, add_na=add_na)\n",
    "        self.vocab_coarse1 = None if vocab_coarse1 is None else CategoryMap(vocab_coarse1, sort=sort, add_na=add_na)\n",
    "\n",
    "    def setups(self, dsets):\n",
    "        fine_dsets = [d[1] for d in dsets]\n",
    "        coarse1_dsets = [d[0] for d in dsets]\n",
    "        if self.vocab is None and dsets is not None: self.vocab = CategoryMap(fine_dsets, sort=self.sort, add_na=self.add_na)\n",
    "        if self.vocab_coarse1 is None and dsets is not None: self.vocab_coarse1 = CategoryMap(coarse1_dsets, sort=self.sort, add_na=self.add_na)\n",
    "        self.c = len(self.vocab)\n",
    "\n",
    "    def encodes(self, o): return {'fine_label': TensorCategory(self.vocab.o2i[o[1]]),\n",
    "                                  'coarse1_label': TensorCategory(self.vocab_coarse1.o2i[o[0]])\n",
    "                                 }\n",
    "    def decodes(self, o): return Category      (self.vocab    [o])"
   ]
  },
  {
   "cell_type": "code",
   "execution_count": 16,
   "metadata": {
    "scrolled": true
   },
   "outputs": [],
   "source": [
    "def CustomCategoryBlock(vocab=None, sort=True, add_na=False, num_y=1):\n",
    "    \"`TransformBlock` for single-label categorical targets\"\n",
    "    return TransformBlock(type_tfms=CustomCategorize(vocab=vocab, sort=sort, add_na=add_na))"
   ]
  },
  {
   "cell_type": "markdown",
   "metadata": {},
   "source": [
    "Creamos un _splitter_ personalizado con los parámetros de cada bloque y del _head_."
   ]
  },
  {
   "cell_type": "code",
   "execution_count": 17,
   "metadata": {
    "scrolled": true
   },
   "outputs": [],
   "source": [
    "def custom_splitter(model):\n",
    "    return [params(model.coarse_stem),\n",
    "            params(model.coarse_block1),\n",
    "            params(model.coarse_block2),\n",
    "            params(model.coarse_block3),\n",
    "            params(model.coarse_block4),\n",
    "            params(model.fine_stem),\n",
    "            params(model.fine_block1),\n",
    "            params(model.fine_block2),\n",
    "            params(model.fine_block3),\n",
    "            params(model.fine_block4),\n",
    "            params(model.coarse_head),\n",
    "            params(model.fine_head)]"
   ]
  },
  {
   "cell_type": "markdown",
   "metadata": {},
   "source": [
    "Creamos un _datablock_ con: bloques de tipo imagen y categoría personalizada _CustomCategoryBlock_, un separador por columna, la _x_ con la columna que contienen la ruta de las imágenes, la _y_ con la función personalizada, una transformación para hacer un recorte aleatorio dejando un tamaño común de 336x336, y las transformaciones de aumento de datos por defecto."
   ]
  },
  {
   "cell_type": "code",
   "execution_count": 18,
   "metadata": {
    "scrolled": true
   },
   "outputs": [],
   "source": [
    "fishes = DataBlock(blocks = (ImageBlock, CustomCategoryBlock),\n",
    "                 splitter=ColSplitter(),\n",
    "                 get_x = ColReader(5, pref=path),\n",
    "                 get_y=custom_get_y,\n",
    "                 item_tfms=RandomResizedCrop(336, min_scale=0.5),\n",
    "                 batch_tfms=aug_transforms())\n",
    "dls = fishes.dataloaders(df, bs=40)"
   ]
  },
  {
   "cell_type": "markdown",
   "metadata": {},
   "source": [
    "Mostramos los _dataloaders_ generados con el _datablock_."
   ]
  },
  {
   "cell_type": "code",
   "execution_count": 19,
   "metadata": {
    "scrolled": true
   },
   "outputs": [
    {
     "data": {
      "text/plain": [
       "((#337741) [(PILImage mode=RGB size=768x1024, {'fine_label': TensorCategory(531), 'coarse1_label': TensorCategory(25)}),(PILImage mode=RGB size=1024x738, {'fine_label': TensorCategory(776), 'coarse1_label': TensorCategory(25)}),(PILImage mode=RGB size=768x1024, {'fine_label': TensorCategory(538), 'coarse1_label': TensorCategory(25)}),(PILImage mode=RGB size=768x1024, {'fine_label': TensorCategory(837), 'coarse1_label': TensorCategory(41)}),(PILImage mode=RGB size=1024x786, {'fine_label': TensorCategory(32), 'coarse1_label': TensorCategory(0)}),(PILImage mode=RGB size=1024x683, {'fine_label': TensorCategory(145), 'coarse1_label': TensorCategory(109)}),(PILImage mode=RGB size=768x1024, {'fine_label': TensorCategory(827), 'coarse1_label': TensorCategory(108)}),(PILImage mode=RGB size=1024x697, {'fine_label': TensorCategory(792), 'coarse1_label': TensorCategory(100)}),(PILImage mode=RGB size=1024x768, {'fine_label': TensorCategory(784), 'coarse1_label': TensorCategory(9)}),(PILImage mode=RGB size=1024x768, {'fine_label': TensorCategory(522), 'coarse1_label': TensorCategory(121)})...],\n",
       " (#84436) [(PILImage mode=RGB size=576x1024, {'fine_label': TensorCategory(826), 'coarse1_label': TensorCategory(108)}),(PILImage mode=RGB size=512x320, {'fine_label': TensorCategory(296), 'coarse1_label': TensorCategory(0)}),(PILImage mode=RGB size=1024x768, {'fine_label': TensorCategory(283), 'coarse1_label': TensorCategory(71)}),(PILImage mode=RGB size=1024x683, {'fine_label': TensorCategory(223), 'coarse1_label': TensorCategory(71)}),(PILImage mode=RGB size=1024x683, {'fine_label': TensorCategory(333), 'coarse1_label': TensorCategory(121)}),(PILImage mode=RGB size=1024x768, {'fine_label': TensorCategory(272), 'coarse1_label': TensorCategory(41)}),(PILImage mode=RGB size=1024x576, {'fine_label': TensorCategory(163), 'coarse1_label': TensorCategory(23)}),(PILImage mode=RGB size=1024x768, {'fine_label': TensorCategory(827), 'coarse1_label': TensorCategory(108)}),(PILImage mode=RGB size=1024x768, {'fine_label': TensorCategory(868), 'coarse1_label': TensorCategory(113)}),(PILImage mode=RGB size=768x1024, {'fine_label': TensorCategory(816), 'coarse1_label': TensorCategory(41)})...])"
      ]
     },
     "execution_count": 19,
     "metadata": {},
     "output_type": "execute_result"
    }
   ],
   "source": [
    "dls.train_ds, dls.valid_ds"
   ]
  },
  {
   "cell_type": "markdown",
   "metadata": {},
   "source": [
    "Creamos el tensor con los pesos por clase y lo pasamos a GPU para poder usarlo durante el entrenamiento."
   ]
  },
  {
   "cell_type": "code",
   "execution_count": 20,
   "metadata": {},
   "outputs": [],
   "source": [
    "weights = tensor([float(weights_df[weights_df['Specie']==c]['Weight']) for c in dls.vocab]).cuda()\n",
    "weights_family = tensor([float(weights_family_df[weights_family_df['Family']==c]['Weight']) for c in dls.vocab_coarse1]).cuda()"
   ]
  },
  {
   "cell_type": "markdown",
   "metadata": {},
   "source": [
    "Defimos nuestra función de pérdida como el sumatorio de la pérdida en entropía cruzada de las dos salidas."
   ]
  },
  {
   "cell_type": "code",
   "execution_count": 21,
   "metadata": {
    "scrolled": true
   },
   "outputs": [],
   "source": [
    "def loss_func(out, targ):\n",
    "    return nn.CrossEntropyLoss(weight=weights)(out['fine_label'], targ['fine_label']) + \\\n",
    "            nn.CrossEntropyLoss(weight=weights_family)(out['coarse1_label'], targ['coarse1_label'])"
   ]
  },
  {
   "cell_type": "markdown",
   "metadata": {},
   "source": [
    "Defimos la función de accuracy con la etiqueta fina, ya que es el resultado final que nos interesa. Además, esta etiqueta fue la que se usó para definir las particiones estratificadas, por lo que es la única que se debería tener en cuenta si queremos resultados más fiables."
   ]
  },
  {
   "cell_type": "code",
   "execution_count": 22,
   "metadata": {},
   "outputs": [],
   "source": [
    "def custom_accuracy(inp, targ, axis=-1):\n",
    "    pred1,targ1 = flatten_check(inp['fine_label'].argmax(dim=axis), targ['fine_label'])\n",
    "    acc1 = (pred1 == targ1).float().mean()\n",
    "    return acc1"
   ]
  },
  {
   "cell_type": "markdown",
   "metadata": {},
   "source": [
    "Creamos nuestro objeto _Learner_ con los _dataloaders_, la función de pérdida _loss_func_ creada, la métrica exactitud y el _splitter_ creado. Además, congelamos nuestro modelo para ajustar primero los pesos preentrenados a nuestras clases."
   ]
  },
  {
   "cell_type": "code",
   "execution_count": 29,
   "metadata": {
    "scrolled": true
   },
   "outputs": [],
   "source": [
    "learn = Learner(dls, model, loss_func=loss_func, metrics=custom_accuracy,\n",
    "                   splitter=custom_splitter).to_fp16()\n",
    "learn.freeze()"
   ]
  },
  {
   "cell_type": "markdown",
   "metadata": {},
   "source": [
    "Mostramos un resumen de nuestro modelo."
   ]
  },
  {
   "cell_type": "code",
   "execution_count": 30,
   "metadata": {
    "scrolled": true
   },
   "outputs": [
    {
     "data": {
      "text/html": [
       "<table border=\"1\" class=\"dataframe\">\n",
       "  <thead>\n",
       "    <tr style=\"text-align: left;\">\n",
       "      <th>epoch</th>\n",
       "      <th>train_loss</th>\n",
       "      <th>valid_loss</th>\n",
       "      <th>custom_accuracy</th>\n",
       "      <th>time</th>\n",
       "    </tr>\n",
       "  </thead>\n",
       "  <tbody>\n",
       "    <tr>\n",
       "      <td>0</td>\n",
       "      <td>None</td>\n",
       "      <td>None</td>\n",
       "      <td>00:00</td>\n",
       "    </tr>\n",
       "  </tbody>\n",
       "</table>"
      ],
      "text/plain": [
       "<IPython.core.display.HTML object>"
      ]
     },
     "metadata": {},
     "output_type": "display_data"
    },
    {
     "data": {
      "text/plain": [
       "Resnet50CustomModel (Input shape: ['40 x 3 x 336 x 336'])\n",
       "================================================================\n",
       "Layer (type)         Output Shape         Param #    Trainable \n",
       "================================================================\n",
       "Conv2d               40 x 64 x 168 x 168  9,408      False     \n",
       "________________________________________________________________\n",
       "BatchNorm2d          40 x 64 x 168 x 168  128        True      \n",
       "________________________________________________________________\n",
       "ReLU                 40 x 64 x 168 x 168  0          False     \n",
       "________________________________________________________________\n",
       "MaxPool2d            40 x 64 x 84 x 84    0          False     \n",
       "________________________________________________________________\n",
       "Conv2d               40 x 64 x 84 x 84    4,096      False     \n",
       "________________________________________________________________\n",
       "BatchNorm2d          40 x 64 x 84 x 84    128        True      \n",
       "________________________________________________________________\n",
       "Conv2d               40 x 64 x 84 x 84    36,864     False     \n",
       "________________________________________________________________\n",
       "BatchNorm2d          40 x 64 x 84 x 84    128        True      \n",
       "________________________________________________________________\n",
       "Conv2d               40 x 256 x 84 x 84   16,384     False     \n",
       "________________________________________________________________\n",
       "BatchNorm2d          40 x 256 x 84 x 84   512        True      \n",
       "________________________________________________________________\n",
       "ReLU                 40 x 256 x 84 x 84   0          False     \n",
       "________________________________________________________________\n",
       "Conv2d               40 x 256 x 84 x 84   16,384     False     \n",
       "________________________________________________________________\n",
       "BatchNorm2d          40 x 256 x 84 x 84   512        True      \n",
       "________________________________________________________________\n",
       "Conv2d               40 x 64 x 84 x 84    16,384     False     \n",
       "________________________________________________________________\n",
       "BatchNorm2d          40 x 64 x 84 x 84    128        True      \n",
       "________________________________________________________________\n",
       "Conv2d               40 x 64 x 84 x 84    36,864     False     \n",
       "________________________________________________________________\n",
       "BatchNorm2d          40 x 64 x 84 x 84    128        True      \n",
       "________________________________________________________________\n",
       "Conv2d               40 x 256 x 84 x 84   16,384     False     \n",
       "________________________________________________________________\n",
       "BatchNorm2d          40 x 256 x 84 x 84   512        True      \n",
       "________________________________________________________________\n",
       "ReLU                 40 x 256 x 84 x 84   0          False     \n",
       "________________________________________________________________\n",
       "Conv2d               40 x 64 x 84 x 84    16,384     False     \n",
       "________________________________________________________________\n",
       "BatchNorm2d          40 x 64 x 84 x 84    128        True      \n",
       "________________________________________________________________\n",
       "Conv2d               40 x 64 x 84 x 84    36,864     False     \n",
       "________________________________________________________________\n",
       "BatchNorm2d          40 x 64 x 84 x 84    128        True      \n",
       "________________________________________________________________\n",
       "Conv2d               40 x 256 x 84 x 84   16,384     False     \n",
       "________________________________________________________________\n",
       "BatchNorm2d          40 x 256 x 84 x 84   512        True      \n",
       "________________________________________________________________\n",
       "ReLU                 40 x 256 x 84 x 84   0          False     \n",
       "________________________________________________________________\n",
       "Conv2d               40 x 128 x 84 x 84   32,768     False     \n",
       "________________________________________________________________\n",
       "BatchNorm2d          40 x 128 x 84 x 84   256        True      \n",
       "________________________________________________________________\n",
       "Conv2d               40 x 128 x 42 x 42   147,456    False     \n",
       "________________________________________________________________\n",
       "BatchNorm2d          40 x 128 x 42 x 42   256        True      \n",
       "________________________________________________________________\n",
       "Conv2d               40 x 512 x 42 x 42   65,536     False     \n",
       "________________________________________________________________\n",
       "BatchNorm2d          40 x 512 x 42 x 42   1,024      True      \n",
       "________________________________________________________________\n",
       "ReLU                 40 x 512 x 42 x 42   0          False     \n",
       "________________________________________________________________\n",
       "Conv2d               40 x 512 x 42 x 42   131,072    False     \n",
       "________________________________________________________________\n",
       "BatchNorm2d          40 x 512 x 42 x 42   1,024      True      \n",
       "________________________________________________________________\n",
       "Conv2d               40 x 128 x 42 x 42   65,536     False     \n",
       "________________________________________________________________\n",
       "BatchNorm2d          40 x 128 x 42 x 42   256        True      \n",
       "________________________________________________________________\n",
       "Conv2d               40 x 128 x 42 x 42   147,456    False     \n",
       "________________________________________________________________\n",
       "BatchNorm2d          40 x 128 x 42 x 42   256        True      \n",
       "________________________________________________________________\n",
       "Conv2d               40 x 512 x 42 x 42   65,536     False     \n",
       "________________________________________________________________\n",
       "BatchNorm2d          40 x 512 x 42 x 42   1,024      True      \n",
       "________________________________________________________________\n",
       "ReLU                 40 x 512 x 42 x 42   0          False     \n",
       "________________________________________________________________\n",
       "Conv2d               40 x 128 x 42 x 42   65,536     False     \n",
       "________________________________________________________________\n",
       "BatchNorm2d          40 x 128 x 42 x 42   256        True      \n",
       "________________________________________________________________\n",
       "Conv2d               40 x 128 x 42 x 42   147,456    False     \n",
       "________________________________________________________________\n",
       "BatchNorm2d          40 x 128 x 42 x 42   256        True      \n",
       "________________________________________________________________\n",
       "Conv2d               40 x 512 x 42 x 42   65,536     False     \n",
       "________________________________________________________________\n",
       "BatchNorm2d          40 x 512 x 42 x 42   1,024      True      \n",
       "________________________________________________________________\n",
       "ReLU                 40 x 512 x 42 x 42   0          False     \n",
       "________________________________________________________________\n",
       "Conv2d               40 x 128 x 42 x 42   65,536     False     \n",
       "________________________________________________________________\n",
       "BatchNorm2d          40 x 128 x 42 x 42   256        True      \n",
       "________________________________________________________________\n",
       "Conv2d               40 x 128 x 42 x 42   147,456    False     \n",
       "________________________________________________________________\n",
       "BatchNorm2d          40 x 128 x 42 x 42   256        True      \n",
       "________________________________________________________________\n",
       "Conv2d               40 x 512 x 42 x 42   65,536     False     \n",
       "________________________________________________________________\n",
       "BatchNorm2d          40 x 512 x 42 x 42   1,024      True      \n",
       "________________________________________________________________\n",
       "ReLU                 40 x 512 x 42 x 42   0          False     \n",
       "________________________________________________________________\n",
       "Conv2d               40 x 256 x 42 x 42   131,072    False     \n",
       "________________________________________________________________\n",
       "BatchNorm2d          40 x 256 x 42 x 42   512        True      \n",
       "________________________________________________________________\n",
       "Conv2d               40 x 256 x 21 x 21   589,824    False     \n",
       "________________________________________________________________\n",
       "BatchNorm2d          40 x 256 x 21 x 21   512        True      \n",
       "________________________________________________________________\n",
       "Conv2d               40 x 1024 x 21 x 21  262,144    False     \n",
       "________________________________________________________________\n",
       "BatchNorm2d          40 x 1024 x 21 x 21  2,048      True      \n",
       "________________________________________________________________\n",
       "ReLU                 40 x 1024 x 21 x 21  0          False     \n",
       "________________________________________________________________\n",
       "Conv2d               40 x 1024 x 21 x 21  524,288    False     \n",
       "________________________________________________________________\n",
       "BatchNorm2d          40 x 1024 x 21 x 21  2,048      True      \n",
       "________________________________________________________________\n",
       "Conv2d               40 x 256 x 21 x 21   262,144    False     \n",
       "________________________________________________________________\n",
       "BatchNorm2d          40 x 256 x 21 x 21   512        True      \n",
       "________________________________________________________________\n",
       "Conv2d               40 x 256 x 21 x 21   589,824    False     \n",
       "________________________________________________________________\n",
       "BatchNorm2d          40 x 256 x 21 x 21   512        True      \n",
       "________________________________________________________________\n",
       "Conv2d               40 x 1024 x 21 x 21  262,144    False     \n",
       "________________________________________________________________\n",
       "BatchNorm2d          40 x 1024 x 21 x 21  2,048      True      \n",
       "________________________________________________________________\n",
       "ReLU                 40 x 1024 x 21 x 21  0          False     \n",
       "________________________________________________________________\n",
       "Conv2d               40 x 256 x 21 x 21   262,144    False     \n",
       "________________________________________________________________\n",
       "BatchNorm2d          40 x 256 x 21 x 21   512        True      \n",
       "________________________________________________________________\n",
       "Conv2d               40 x 256 x 21 x 21   589,824    False     \n",
       "________________________________________________________________\n",
       "BatchNorm2d          40 x 256 x 21 x 21   512        True      \n",
       "________________________________________________________________\n",
       "Conv2d               40 x 1024 x 21 x 21  262,144    False     \n",
       "________________________________________________________________\n",
       "BatchNorm2d          40 x 1024 x 21 x 21  2,048      True      \n",
       "________________________________________________________________\n",
       "ReLU                 40 x 1024 x 21 x 21  0          False     \n",
       "________________________________________________________________\n",
       "Conv2d               40 x 256 x 21 x 21   262,144    False     \n",
       "________________________________________________________________\n",
       "BatchNorm2d          40 x 256 x 21 x 21   512        True      \n",
       "________________________________________________________________\n",
       "Conv2d               40 x 256 x 21 x 21   589,824    False     \n",
       "________________________________________________________________\n",
       "BatchNorm2d          40 x 256 x 21 x 21   512        True      \n",
       "________________________________________________________________\n",
       "Conv2d               40 x 1024 x 21 x 21  262,144    False     \n",
       "________________________________________________________________\n",
       "BatchNorm2d          40 x 1024 x 21 x 21  2,048      True      \n",
       "________________________________________________________________\n",
       "ReLU                 40 x 1024 x 21 x 21  0          False     \n",
       "________________________________________________________________\n",
       "Conv2d               40 x 256 x 21 x 21   262,144    False     \n",
       "________________________________________________________________\n",
       "BatchNorm2d          40 x 256 x 21 x 21   512        True      \n",
       "________________________________________________________________\n",
       "Conv2d               40 x 256 x 21 x 21   589,824    False     \n",
       "________________________________________________________________\n",
       "BatchNorm2d          40 x 256 x 21 x 21   512        True      \n",
       "________________________________________________________________\n",
       "Conv2d               40 x 1024 x 21 x 21  262,144    False     \n",
       "________________________________________________________________\n",
       "BatchNorm2d          40 x 1024 x 21 x 21  2,048      True      \n",
       "________________________________________________________________\n",
       "ReLU                 40 x 1024 x 21 x 21  0          False     \n",
       "________________________________________________________________\n",
       "Conv2d               40 x 256 x 21 x 21   262,144    False     \n",
       "________________________________________________________________\n",
       "BatchNorm2d          40 x 256 x 21 x 21   512        True      \n",
       "________________________________________________________________\n",
       "Conv2d               40 x 256 x 21 x 21   589,824    False     \n",
       "________________________________________________________________\n",
       "BatchNorm2d          40 x 256 x 21 x 21   512        True      \n",
       "________________________________________________________________\n",
       "Conv2d               40 x 1024 x 21 x 21  262,144    False     \n",
       "________________________________________________________________\n",
       "BatchNorm2d          40 x 1024 x 21 x 21  2,048      True      \n",
       "________________________________________________________________\n",
       "ReLU                 40 x 1024 x 21 x 21  0          False     \n",
       "________________________________________________________________\n",
       "Conv2d               40 x 512 x 21 x 21   524,288    False     \n",
       "________________________________________________________________\n",
       "BatchNorm2d          40 x 512 x 21 x 21   1,024      True      \n",
       "________________________________________________________________\n",
       "Conv2d               40 x 512 x 11 x 11   2,359,296  False     \n",
       "________________________________________________________________\n",
       "BatchNorm2d          40 x 512 x 11 x 11   1,024      True      \n",
       "________________________________________________________________\n",
       "Conv2d               40 x 2048 x 11 x 11  1,048,576  False     \n",
       "________________________________________________________________\n",
       "BatchNorm2d          40 x 2048 x 11 x 11  4,096      True      \n",
       "________________________________________________________________\n",
       "ReLU                 40 x 2048 x 11 x 11  0          False     \n",
       "________________________________________________________________\n",
       "Conv2d               40 x 2048 x 11 x 11  2,097,152  False     \n",
       "________________________________________________________________\n",
       "BatchNorm2d          40 x 2048 x 11 x 11  4,096      True      \n",
       "________________________________________________________________\n",
       "Conv2d               40 x 512 x 11 x 11   1,048,576  False     \n",
       "________________________________________________________________\n",
       "BatchNorm2d          40 x 512 x 11 x 11   1,024      True      \n",
       "________________________________________________________________\n",
       "Conv2d               40 x 512 x 11 x 11   2,359,296  False     \n",
       "________________________________________________________________\n",
       "BatchNorm2d          40 x 512 x 11 x 11   1,024      True      \n",
       "________________________________________________________________\n",
       "Conv2d               40 x 2048 x 11 x 11  1,048,576  False     \n",
       "________________________________________________________________\n",
       "BatchNorm2d          40 x 2048 x 11 x 11  4,096      True      \n",
       "________________________________________________________________\n",
       "ReLU                 40 x 2048 x 11 x 11  0          False     \n",
       "________________________________________________________________\n",
       "Conv2d               40 x 512 x 11 x 11   1,048,576  False     \n",
       "________________________________________________________________\n",
       "BatchNorm2d          40 x 512 x 11 x 11   1,024      True      \n",
       "________________________________________________________________\n",
       "Conv2d               40 x 512 x 11 x 11   2,359,296  False     \n",
       "________________________________________________________________\n",
       "BatchNorm2d          40 x 512 x 11 x 11   1,024      True      \n",
       "________________________________________________________________\n",
       "Conv2d               40 x 2048 x 11 x 11  1,048,576  False     \n",
       "________________________________________________________________\n",
       "BatchNorm2d          40 x 2048 x 11 x 11  4,096      True      \n",
       "________________________________________________________________\n",
       "ReLU                 40 x 2048 x 11 x 11  0          False     \n",
       "________________________________________________________________\n",
       "AdaptiveAvgPool2d    40 x 2048 x 1 x 1    0          False     \n",
       "________________________________________________________________\n",
       "AdaptiveMaxPool2d    40 x 2048 x 1 x 1    0          False     \n",
       "________________________________________________________________\n",
       "Flatten              40 x 4096            0          False     \n",
       "________________________________________________________________\n",
       "BatchNorm1d          40 x 4096            8,192      True      \n",
       "________________________________________________________________\n",
       "Dropout              40 x 4096            0          False     \n",
       "________________________________________________________________\n",
       "Linear               40 x 512             2,097,152  False     \n",
       "________________________________________________________________\n",
       "ReLU                 40 x 512             0          False     \n",
       "________________________________________________________________\n",
       "BatchNorm1d          40 x 512             1,024      True      \n",
       "________________________________________________________________\n",
       "Dropout              40 x 512             0          False     \n",
       "________________________________________________________________\n",
       "Linear               40 x 135             69,120     False     \n",
       "________________________________________________________________\n",
       "Conv2d               40 x 64 x 168 x 168  9,408      False     \n",
       "________________________________________________________________\n",
       "BatchNorm2d          40 x 64 x 168 x 168  128        True      \n",
       "________________________________________________________________\n",
       "ReLU                 40 x 64 x 168 x 168  0          False     \n",
       "________________________________________________________________\n",
       "MaxPool2d            40 x 64 x 84 x 84    0          False     \n",
       "________________________________________________________________\n",
       "Conv2d               40 x 64 x 84 x 84    4,096      False     \n",
       "________________________________________________________________\n",
       "BatchNorm2d          40 x 64 x 84 x 84    128        True      \n",
       "________________________________________________________________\n",
       "Conv2d               40 x 64 x 84 x 84    36,864     False     \n",
       "________________________________________________________________\n",
       "BatchNorm2d          40 x 64 x 84 x 84    128        True      \n",
       "________________________________________________________________\n",
       "Conv2d               40 x 256 x 84 x 84   16,384     False     \n",
       "________________________________________________________________\n",
       "BatchNorm2d          40 x 256 x 84 x 84   512        True      \n",
       "________________________________________________________________\n",
       "ReLU                 40 x 256 x 84 x 84   0          False     \n",
       "________________________________________________________________\n",
       "Conv2d               40 x 256 x 84 x 84   16,384     False     \n",
       "________________________________________________________________\n",
       "BatchNorm2d          40 x 256 x 84 x 84   512        True      \n",
       "________________________________________________________________\n",
       "Conv2d               40 x 64 x 84 x 84    16,384     False     \n",
       "________________________________________________________________\n",
       "BatchNorm2d          40 x 64 x 84 x 84    128        True      \n",
       "________________________________________________________________\n",
       "Conv2d               40 x 64 x 84 x 84    36,864     False     \n",
       "________________________________________________________________\n",
       "BatchNorm2d          40 x 64 x 84 x 84    128        True      \n",
       "________________________________________________________________\n",
       "Conv2d               40 x 256 x 84 x 84   16,384     False     \n",
       "________________________________________________________________\n",
       "BatchNorm2d          40 x 256 x 84 x 84   512        True      \n",
       "________________________________________________________________\n",
       "ReLU                 40 x 256 x 84 x 84   0          False     \n",
       "________________________________________________________________\n",
       "Conv2d               40 x 64 x 84 x 84    16,384     False     \n",
       "________________________________________________________________\n",
       "BatchNorm2d          40 x 64 x 84 x 84    128        True      \n",
       "________________________________________________________________\n",
       "Conv2d               40 x 64 x 84 x 84    36,864     False     \n",
       "________________________________________________________________\n",
       "BatchNorm2d          40 x 64 x 84 x 84    128        True      \n",
       "________________________________________________________________\n",
       "Conv2d               40 x 256 x 84 x 84   16,384     False     \n",
       "________________________________________________________________\n",
       "BatchNorm2d          40 x 256 x 84 x 84   512        True      \n",
       "________________________________________________________________\n",
       "ReLU                 40 x 256 x 84 x 84   0          False     \n",
       "________________________________________________________________\n",
       "Conv2d               40 x 128 x 84 x 84   32,768     False     \n",
       "________________________________________________________________\n",
       "BatchNorm2d          40 x 128 x 84 x 84   256        True      \n",
       "________________________________________________________________\n",
       "Conv2d               40 x 128 x 42 x 42   147,456    False     \n",
       "________________________________________________________________\n",
       "BatchNorm2d          40 x 128 x 42 x 42   256        True      \n",
       "________________________________________________________________\n",
       "Conv2d               40 x 512 x 42 x 42   65,536     False     \n",
       "________________________________________________________________\n",
       "BatchNorm2d          40 x 512 x 42 x 42   1,024      True      \n",
       "________________________________________________________________\n",
       "ReLU                 40 x 512 x 42 x 42   0          False     \n",
       "________________________________________________________________\n",
       "Conv2d               40 x 512 x 42 x 42   131,072    False     \n",
       "________________________________________________________________\n",
       "BatchNorm2d          40 x 512 x 42 x 42   1,024      True      \n",
       "________________________________________________________________\n",
       "Conv2d               40 x 128 x 42 x 42   65,536     False     \n",
       "________________________________________________________________\n",
       "BatchNorm2d          40 x 128 x 42 x 42   256        True      \n",
       "________________________________________________________________\n",
       "Conv2d               40 x 128 x 42 x 42   147,456    False     \n",
       "________________________________________________________________\n",
       "BatchNorm2d          40 x 128 x 42 x 42   256        True      \n",
       "________________________________________________________________\n",
       "Conv2d               40 x 512 x 42 x 42   65,536     False     \n",
       "________________________________________________________________\n",
       "BatchNorm2d          40 x 512 x 42 x 42   1,024      True      \n",
       "________________________________________________________________\n",
       "ReLU                 40 x 512 x 42 x 42   0          False     \n",
       "________________________________________________________________\n",
       "Conv2d               40 x 128 x 42 x 42   65,536     False     \n",
       "________________________________________________________________\n",
       "BatchNorm2d          40 x 128 x 42 x 42   256        True      \n",
       "________________________________________________________________\n",
       "Conv2d               40 x 128 x 42 x 42   147,456    False     \n",
       "________________________________________________________________\n",
       "BatchNorm2d          40 x 128 x 42 x 42   256        True      \n",
       "________________________________________________________________\n",
       "Conv2d               40 x 512 x 42 x 42   65,536     False     \n",
       "________________________________________________________________\n",
       "BatchNorm2d          40 x 512 x 42 x 42   1,024      True      \n",
       "________________________________________________________________\n",
       "ReLU                 40 x 512 x 42 x 42   0          False     \n",
       "________________________________________________________________\n",
       "Conv2d               40 x 128 x 42 x 42   65,536     False     \n",
       "________________________________________________________________\n",
       "BatchNorm2d          40 x 128 x 42 x 42   256        True      \n",
       "________________________________________________________________\n",
       "Conv2d               40 x 128 x 42 x 42   147,456    False     \n",
       "________________________________________________________________\n",
       "BatchNorm2d          40 x 128 x 42 x 42   256        True      \n",
       "________________________________________________________________\n",
       "Conv2d               40 x 512 x 42 x 42   65,536     False     \n",
       "________________________________________________________________\n",
       "BatchNorm2d          40 x 512 x 42 x 42   1,024      True      \n",
       "________________________________________________________________\n",
       "ReLU                 40 x 512 x 42 x 42   0          False     \n",
       "________________________________________________________________\n",
       "Conv2d               40 x 256 x 42 x 42   131,072    False     \n",
       "________________________________________________________________\n",
       "BatchNorm2d          40 x 256 x 42 x 42   512        True      \n",
       "________________________________________________________________\n",
       "Conv2d               40 x 256 x 21 x 21   589,824    False     \n",
       "________________________________________________________________\n",
       "BatchNorm2d          40 x 256 x 21 x 21   512        True      \n",
       "________________________________________________________________\n",
       "Conv2d               40 x 1024 x 21 x 21  262,144    False     \n",
       "________________________________________________________________\n",
       "BatchNorm2d          40 x 1024 x 21 x 21  2,048      True      \n",
       "________________________________________________________________\n",
       "ReLU                 40 x 1024 x 21 x 21  0          False     \n",
       "________________________________________________________________\n",
       "Conv2d               40 x 1024 x 21 x 21  524,288    False     \n",
       "________________________________________________________________\n",
       "BatchNorm2d          40 x 1024 x 21 x 21  2,048      True      \n",
       "________________________________________________________________\n",
       "Conv2d               40 x 256 x 21 x 21   262,144    False     \n",
       "________________________________________________________________\n",
       "BatchNorm2d          40 x 256 x 21 x 21   512        True      \n",
       "________________________________________________________________\n",
       "Conv2d               40 x 256 x 21 x 21   589,824    False     \n",
       "________________________________________________________________\n",
       "BatchNorm2d          40 x 256 x 21 x 21   512        True      \n",
       "________________________________________________________________\n",
       "Conv2d               40 x 1024 x 21 x 21  262,144    False     \n",
       "________________________________________________________________\n",
       "BatchNorm2d          40 x 1024 x 21 x 21  2,048      True      \n",
       "________________________________________________________________\n",
       "ReLU                 40 x 1024 x 21 x 21  0          False     \n",
       "________________________________________________________________\n",
       "Conv2d               40 x 256 x 21 x 21   262,144    False     \n",
       "________________________________________________________________\n",
       "BatchNorm2d          40 x 256 x 21 x 21   512        True      \n",
       "________________________________________________________________\n",
       "Conv2d               40 x 256 x 21 x 21   589,824    False     \n",
       "________________________________________________________________\n",
       "BatchNorm2d          40 x 256 x 21 x 21   512        True      \n",
       "________________________________________________________________\n",
       "Conv2d               40 x 1024 x 21 x 21  262,144    False     \n",
       "________________________________________________________________\n",
       "BatchNorm2d          40 x 1024 x 21 x 21  2,048      True      \n",
       "________________________________________________________________\n",
       "ReLU                 40 x 1024 x 21 x 21  0          False     \n",
       "________________________________________________________________\n",
       "Conv2d               40 x 256 x 21 x 21   262,144    False     \n",
       "________________________________________________________________\n",
       "BatchNorm2d          40 x 256 x 21 x 21   512        True      \n",
       "________________________________________________________________\n",
       "Conv2d               40 x 256 x 21 x 21   589,824    False     \n",
       "________________________________________________________________\n",
       "BatchNorm2d          40 x 256 x 21 x 21   512        True      \n",
       "________________________________________________________________\n",
       "Conv2d               40 x 1024 x 21 x 21  262,144    False     \n",
       "________________________________________________________________\n",
       "BatchNorm2d          40 x 1024 x 21 x 21  2,048      True      \n",
       "________________________________________________________________\n",
       "ReLU                 40 x 1024 x 21 x 21  0          False     \n",
       "________________________________________________________________\n",
       "Conv2d               40 x 256 x 21 x 21   262,144    False     \n",
       "________________________________________________________________\n",
       "BatchNorm2d          40 x 256 x 21 x 21   512        True      \n",
       "________________________________________________________________\n",
       "Conv2d               40 x 256 x 21 x 21   589,824    False     \n",
       "________________________________________________________________\n",
       "BatchNorm2d          40 x 256 x 21 x 21   512        True      \n",
       "________________________________________________________________\n",
       "Conv2d               40 x 1024 x 21 x 21  262,144    False     \n",
       "________________________________________________________________\n",
       "BatchNorm2d          40 x 1024 x 21 x 21  2,048      True      \n",
       "________________________________________________________________\n",
       "ReLU                 40 x 1024 x 21 x 21  0          False     \n",
       "________________________________________________________________\n",
       "Conv2d               40 x 256 x 21 x 21   262,144    False     \n",
       "________________________________________________________________\n",
       "BatchNorm2d          40 x 256 x 21 x 21   512        True      \n",
       "________________________________________________________________\n",
       "Conv2d               40 x 256 x 21 x 21   589,824    False     \n",
       "________________________________________________________________\n",
       "BatchNorm2d          40 x 256 x 21 x 21   512        True      \n",
       "________________________________________________________________\n",
       "Conv2d               40 x 1024 x 21 x 21  262,144    False     \n",
       "________________________________________________________________\n",
       "BatchNorm2d          40 x 1024 x 21 x 21  2,048      True      \n",
       "________________________________________________________________\n",
       "ReLU                 40 x 1024 x 21 x 21  0          False     \n",
       "________________________________________________________________\n",
       "Conv2d               40 x 512 x 21 x 21   524,288    False     \n",
       "________________________________________________________________\n",
       "BatchNorm2d          40 x 512 x 21 x 21   1,024      True      \n",
       "________________________________________________________________\n",
       "Conv2d               40 x 512 x 11 x 11   2,359,296  False     \n",
       "________________________________________________________________\n",
       "BatchNorm2d          40 x 512 x 11 x 11   1,024      True      \n",
       "________________________________________________________________\n",
       "Conv2d               40 x 2048 x 11 x 11  1,048,576  False     \n",
       "________________________________________________________________\n",
       "BatchNorm2d          40 x 2048 x 11 x 11  4,096      True      \n",
       "________________________________________________________________\n",
       "ReLU                 40 x 2048 x 11 x 11  0          False     \n",
       "________________________________________________________________\n",
       "Conv2d               40 x 2048 x 11 x 11  2,097,152  False     \n",
       "________________________________________________________________\n",
       "BatchNorm2d          40 x 2048 x 11 x 11  4,096      True      \n",
       "________________________________________________________________\n",
       "Conv2d               40 x 512 x 11 x 11   1,048,576  False     \n",
       "________________________________________________________________\n",
       "BatchNorm2d          40 x 512 x 11 x 11   1,024      True      \n",
       "________________________________________________________________\n",
       "Conv2d               40 x 512 x 11 x 11   2,359,296  False     \n",
       "________________________________________________________________\n",
       "BatchNorm2d          40 x 512 x 11 x 11   1,024      True      \n",
       "________________________________________________________________\n",
       "Conv2d               40 x 2048 x 11 x 11  1,048,576  False     \n",
       "________________________________________________________________\n",
       "BatchNorm2d          40 x 2048 x 11 x 11  4,096      True      \n",
       "________________________________________________________________\n",
       "ReLU                 40 x 2048 x 11 x 11  0          False     \n",
       "________________________________________________________________\n",
       "Conv2d               40 x 512 x 11 x 11   1,048,576  False     \n",
       "________________________________________________________________\n",
       "BatchNorm2d          40 x 512 x 11 x 11   1,024      True      \n",
       "________________________________________________________________\n",
       "Conv2d               40 x 512 x 11 x 11   2,359,296  False     \n",
       "________________________________________________________________\n",
       "BatchNorm2d          40 x 512 x 11 x 11   1,024      True      \n",
       "________________________________________________________________\n",
       "Conv2d               40 x 2048 x 11 x 11  1,048,576  False     \n",
       "________________________________________________________________\n",
       "BatchNorm2d          40 x 2048 x 11 x 11  4,096      True      \n",
       "________________________________________________________________\n",
       "ReLU                 40 x 2048 x 11 x 11  0          False     \n",
       "________________________________________________________________\n",
       "AdaptiveAvgPool2d    40 x 2048 x 1 x 1    0          False     \n",
       "________________________________________________________________\n",
       "AdaptiveMaxPool2d    40 x 2048 x 1 x 1    0          False     \n",
       "________________________________________________________________\n",
       "Flatten              40 x 4096            0          False     \n",
       "________________________________________________________________\n",
       "BatchNorm1d          40 x 4096            8,192      True      \n",
       "________________________________________________________________\n",
       "Dropout              40 x 4096            0          False     \n",
       "________________________________________________________________\n",
       "Linear               40 x 512             2,097,152  True      \n",
       "________________________________________________________________\n",
       "ReLU                 40 x 512             0          False     \n",
       "________________________________________________________________\n",
       "BatchNorm1d          40 x 512             1,024      True      \n",
       "________________________________________________________________\n",
       "Dropout              40 x 512             0          False     \n",
       "________________________________________________________________\n",
       "Linear               40 x 1000            512,000    True      \n",
       "________________________________________________________________\n",
       "\n",
       "Total params: 51,809,920\n",
       "Total trainable params: 2,733,824\n",
       "Total non-trainable params: 49,076,096\n",
       "\n",
       "Optimizer used: <function Adam at 0x7fa0299f5670>\n",
       "Loss function: <function loss_func at 0x7fa00cadbd30>\n",
       "\n",
       "Model frozen up to parameter group #11\n",
       "\n",
       "Callbacks:\n",
       "  - ModelToHalf\n",
       "  - TrainEvalCallback\n",
       "  - Recorder\n",
       "  - ProgressCallback\n",
       "  - MixedPrecision"
      ]
     },
     "execution_count": 30,
     "metadata": {},
     "output_type": "execute_result"
    }
   ],
   "source": [
    "learn.summary()"
   ]
  },
  {
   "cell_type": "markdown",
   "metadata": {},
   "source": [
    "Entrenamos el modelo congelado para ajustar los pesos de las últimas capas a nuestras clases, y descongelamos el modelo."
   ]
  },
  {
   "cell_type": "code",
   "execution_count": 31,
   "metadata": {
    "scrolled": true
   },
   "outputs": [
    {
     "data": {
      "text/html": [
       "<table border=\"1\" class=\"dataframe\">\n",
       "  <thead>\n",
       "    <tr style=\"text-align: left;\">\n",
       "      <th>epoch</th>\n",
       "      <th>train_loss</th>\n",
       "      <th>valid_loss</th>\n",
       "      <th>custom_accuracy</th>\n",
       "      <th>time</th>\n",
       "    </tr>\n",
       "  </thead>\n",
       "  <tbody>\n",
       "    <tr>\n",
       "      <td>0</td>\n",
       "      <td>7.975188</td>\n",
       "      <td>7.012683</td>\n",
       "      <td>0.393706</td>\n",
       "      <td>42:58</td>\n",
       "    </tr>\n",
       "  </tbody>\n",
       "</table>"
      ],
      "text/plain": [
       "<IPython.core.display.HTML object>"
      ]
     },
     "metadata": {},
     "output_type": "display_data"
    }
   ],
   "source": [
    "learn.fit(1, 3e-3)"
   ]
  },
  {
   "cell_type": "code",
   "execution_count": 32,
   "metadata": {
    "scrolled": true
   },
   "outputs": [
    {
     "data": {
      "text/plain": [
       "Path('models/species1000-linkedcnn-resnet50-fepochs1-uepochs0.pth')"
      ]
     },
     "execution_count": 32,
     "metadata": {},
     "output_type": "execute_result"
    }
   ],
   "source": [
    "learn.save('species1000-linkedcnn-resnet50-fepochs1-uepochs0')"
   ]
  },
  {
   "cell_type": "code",
   "execution_count": 33,
   "metadata": {},
   "outputs": [],
   "source": [
    "learn.unfreeze()"
   ]
  },
  {
   "cell_type": "markdown",
   "metadata": {},
   "source": [
    "Buscamos el factor de aprendizaje más adecuado con lr_find."
   ]
  },
  {
   "cell_type": "code",
   "execution_count": 35,
   "metadata": {},
   "outputs": [
    {
     "data": {
      "text/html": [],
      "text/plain": [
       "<IPython.core.display.HTML object>"
      ]
     },
     "metadata": {},
     "output_type": "display_data"
    },
    {
     "data": {
      "text/plain": [
       "SuggestedLRs(lr_min=1.318256749982538e-07, lr_steep=7.585775847473997e-07)"
      ]
     },
     "execution_count": 35,
     "metadata": {},
     "output_type": "execute_result"
    },
    {
     "data": {
      "image/png": "[encoded data removed]",
      "text/plain": [
       "<Figure size 432x288 with 1 Axes>"
      ]
     },
     "metadata": {
      "needs_background": "light"
     },
     "output_type": "display_data"
    }
   ],
   "source": [
    "learn.lr_find()"
   ]
  },
  {
   "cell_type": "markdown",
   "metadata": {},
   "source": [
    "Defimos una función para continuar el aprendizaje con los pesos guardados."
   ]
  },
  {
   "cell_type": "code",
   "execution_count": 23,
   "metadata": {},
   "outputs": [],
   "source": [
    "def continue_training(pth_filename):\n",
    "    learn = Learner(dls, model, loss_func=loss_func, metrics=custom_accuracy,\n",
    "                   splitter=custom_splitter).to_fp16()\n",
    "    learn.load(pth_filename)\n",
    "    learn.unfreeze()\n",
    "    return learn"
   ]
  },
  {
   "cell_type": "markdown",
   "metadata": {},
   "source": [
    "Entrenamos durante 30 épocas con el factor de aprendizaje máximo adecuado según la visualización del buscador de factores de aprendizaje, guardando los pesos del entrenamiento en cada 5 épocas."
   ]
  },
  {
   "cell_type": "code",
   "execution_count": 36,
   "metadata": {},
   "outputs": [
    {
     "data": {
      "text/html": [
       "<table border=\"1\" class=\"dataframe\">\n",
       "  <thead>\n",
       "    <tr style=\"text-align: left;\">\n",
       "      <th>epoch</th>\n",
       "      <th>train_loss</th>\n",
       "      <th>valid_loss</th>\n",
       "      <th>custom_accuracy</th>\n",
       "      <th>time</th>\n",
       "    </tr>\n",
       "  </thead>\n",
       "  <tbody>\n",
       "    <tr>\n",
       "      <td>0</td>\n",
       "      <td>5.979273</td>\n",
       "      <td>5.020085</td>\n",
       "      <td>0.533955</td>\n",
       "      <td>53:28</td>\n",
       "    </tr>\n",
       "    <tr>\n",
       "      <td>1</td>\n",
       "      <td>5.121523</td>\n",
       "      <td>4.402269</td>\n",
       "      <td>0.575264</td>\n",
       "      <td>53:20</td>\n",
       "    </tr>\n",
       "    <tr>\n",
       "      <td>2</td>\n",
       "      <td>4.736988</td>\n",
       "      <td>3.930001</td>\n",
       "      <td>0.602764</td>\n",
       "      <td>53:18</td>\n",
       "    </tr>\n",
       "    <tr>\n",
       "      <td>3</td>\n",
       "      <td>4.342013</td>\n",
       "      <td>3.652829</td>\n",
       "      <td>0.621773</td>\n",
       "      <td>53:50</td>\n",
       "    </tr>\n",
       "    <tr>\n",
       "      <td>4</td>\n",
       "      <td>4.131543</td>\n",
       "      <td>3.433960</td>\n",
       "      <td>0.633758</td>\n",
       "      <td>53:28</td>\n",
       "    </tr>\n",
       "  </tbody>\n",
       "</table>"
      ],
      "text/plain": [
       "<IPython.core.display.HTML object>"
      ]
     },
     "metadata": {},
     "output_type": "display_data"
    },
    {
     "data": {
      "text/plain": [
       "Path('models/species1000-linkedcnn-resnet50-fepochs1-uepochs5.pth')"
      ]
     },
     "execution_count": 36,
     "metadata": {},
     "output_type": "execute_result"
    }
   ],
   "source": [
    "learn.fit(5, slice(1e-6,1e-4))\n",
    "learn.save('species1000-linkedcnn-resnet50-fepochs1-uepochs5')"
   ]
  },
  {
   "cell_type": "code",
   "execution_count": 37,
   "metadata": {},
   "outputs": [
    {
     "data": {
      "text/html": [
       "<table border=\"1\" class=\"dataframe\">\n",
       "  <thead>\n",
       "    <tr style=\"text-align: left;\">\n",
       "      <th>epoch</th>\n",
       "      <th>train_loss</th>\n",
       "      <th>valid_loss</th>\n",
       "      <th>custom_accuracy</th>\n",
       "      <th>time</th>\n",
       "    </tr>\n",
       "  </thead>\n",
       "  <tbody>\n",
       "    <tr>\n",
       "      <td>0</td>\n",
       "      <td>3.916258</td>\n",
       "      <td>3.311547</td>\n",
       "      <td>0.648290</td>\n",
       "      <td>53:28</td>\n",
       "    </tr>\n",
       "    <tr>\n",
       "      <td>1</td>\n",
       "      <td>3.681944</td>\n",
       "      <td>3.123534</td>\n",
       "      <td>0.656474</td>\n",
       "      <td>53:28</td>\n",
       "    </tr>\n",
       "    <tr>\n",
       "      <td>2</td>\n",
       "      <td>3.737973</td>\n",
       "      <td>3.023950</td>\n",
       "      <td>0.658724</td>\n",
       "      <td>53:32</td>\n",
       "    </tr>\n",
       "    <tr>\n",
       "      <td>3</td>\n",
       "      <td>3.461596</td>\n",
       "      <td>2.918917</td>\n",
       "      <td>0.669608</td>\n",
       "      <td>53:30</td>\n",
       "    </tr>\n",
       "    <tr>\n",
       "      <td>4</td>\n",
       "      <td>3.381664</td>\n",
       "      <td>2.796999</td>\n",
       "      <td>0.679615</td>\n",
       "      <td>53:30</td>\n",
       "    </tr>\n",
       "  </tbody>\n",
       "</table>"
      ],
      "text/plain": [
       "<IPython.core.display.HTML object>"
      ]
     },
     "metadata": {},
     "output_type": "display_data"
    },
    {
     "data": {
      "text/plain": [
       "Path('models/species1000-linkedcnn-resnet50-fepochs1-uepochs10.pth')"
      ]
     },
     "execution_count": 37,
     "metadata": {},
     "output_type": "execute_result"
    }
   ],
   "source": [
    "learn.fit(5, slice(1e-6,1e-4))\n",
    "learn.save('species1000-linkedcnn-resnet50-fepochs1-uepochs10')"
   ]
  },
  {
   "cell_type": "code",
   "execution_count": 25,
   "metadata": {},
   "outputs": [],
   "source": [
    "learn = continue_training('species1000-linkedcnn-resnet50-fepochs1-uepochs10')"
   ]
  },
  {
   "cell_type": "code",
   "execution_count": 26,
   "metadata": {},
   "outputs": [
    {
     "data": {
      "text/html": [
       "<table border=\"1\" class=\"dataframe\">\n",
       "  <thead>\n",
       "    <tr style=\"text-align: left;\">\n",
       "      <th>epoch</th>\n",
       "      <th>train_loss</th>\n",
       "      <th>valid_loss</th>\n",
       "      <th>custom_accuracy</th>\n",
       "      <th>time</th>\n",
       "    </tr>\n",
       "  </thead>\n",
       "  <tbody>\n",
       "    <tr>\n",
       "      <td>0</td>\n",
       "      <td>3.179092</td>\n",
       "      <td>2.741480</td>\n",
       "      <td>0.684779</td>\n",
       "      <td>53:05</td>\n",
       "    </tr>\n",
       "    <tr>\n",
       "      <td>1</td>\n",
       "      <td>3.061422</td>\n",
       "      <td>2.735132</td>\n",
       "      <td>0.687906</td>\n",
       "      <td>53:02</td>\n",
       "    </tr>\n",
       "    <tr>\n",
       "      <td>2</td>\n",
       "      <td>3.054529</td>\n",
       "      <td>2.643526</td>\n",
       "      <td>0.695616</td>\n",
       "      <td>53:07</td>\n",
       "    </tr>\n",
       "    <tr>\n",
       "      <td>3</td>\n",
       "      <td>2.796112</td>\n",
       "      <td>2.552357</td>\n",
       "      <td>0.698541</td>\n",
       "      <td>53:08</td>\n",
       "    </tr>\n",
       "    <tr>\n",
       "      <td>4</td>\n",
       "      <td>2.685318</td>\n",
       "      <td>2.520663</td>\n",
       "      <td>0.701383</td>\n",
       "      <td>53:04</td>\n",
       "    </tr>\n",
       "  </tbody>\n",
       "</table>"
      ],
      "text/plain": [
       "<IPython.core.display.HTML object>"
      ]
     },
     "metadata": {},
     "output_type": "display_data"
    },
    {
     "data": {
      "text/plain": [
       "Path('models/species1000-linkedcnn-resnet50-fepochs1-uepochs15.pth')"
      ]
     },
     "execution_count": 26,
     "metadata": {},
     "output_type": "execute_result"
    }
   ],
   "source": [
    "learn.fit(5, slice(1e-6,1e-4))\n",
    "learn.save('species1000-linkedcnn-resnet50-fepochs1-uepochs15')"
   ]
  },
  {
   "cell_type": "code",
   "execution_count": 27,
   "metadata": {},
   "outputs": [],
   "source": [
    "learn.export('species1000-linkedcnn-resnet50-fepochs1-uepochs15')"
   ]
  },
  {
   "cell_type": "code",
   "execution_count": 28,
   "metadata": {},
   "outputs": [
    {
     "data": {
      "text/html": [
       "<table border=\"1\" class=\"dataframe\">\n",
       "  <thead>\n",
       "    <tr style=\"text-align: left;\">\n",
       "      <th>epoch</th>\n",
       "      <th>train_loss</th>\n",
       "      <th>valid_loss</th>\n",
       "      <th>custom_accuracy</th>\n",
       "      <th>time</th>\n",
       "    </tr>\n",
       "  </thead>\n",
       "  <tbody>\n",
       "    <tr>\n",
       "      <td>0</td>\n",
       "      <td>2.534477</td>\n",
       "      <td>2.599296</td>\n",
       "      <td>0.708773</td>\n",
       "      <td>53:57</td>\n",
       "    </tr>\n",
       "    <tr>\n",
       "      <td>1</td>\n",
       "      <td>2.562864</td>\n",
       "      <td>2.445344</td>\n",
       "      <td>0.708430</td>\n",
       "      <td>53:18</td>\n",
       "    </tr>\n",
       "    <tr>\n",
       "      <td>2</td>\n",
       "      <td>2.573876</td>\n",
       "      <td>2.612019</td>\n",
       "      <td>0.713914</td>\n",
       "      <td>53:10</td>\n",
       "    </tr>\n",
       "    <tr>\n",
       "      <td>3</td>\n",
       "      <td>2.497712</td>\n",
       "      <td>2.400671</td>\n",
       "      <td>0.715702</td>\n",
       "      <td>53:04</td>\n",
       "    </tr>\n",
       "    <tr>\n",
       "      <td>4</td>\n",
       "      <td>2.417139</td>\n",
       "      <td>2.360040</td>\n",
       "      <td>0.721529</td>\n",
       "      <td>53:09</td>\n",
       "    </tr>\n",
       "  </tbody>\n",
       "</table>"
      ],
      "text/plain": [
       "<IPython.core.display.HTML object>"
      ]
     },
     "metadata": {},
     "output_type": "display_data"
    },
    {
     "data": {
      "text/plain": [
       "Path('models/species1000-linkedcnn-resnet50-fepochs1-uepochs20.pth')"
      ]
     },
     "execution_count": 28,
     "metadata": {},
     "output_type": "execute_result"
    }
   ],
   "source": [
    "learn.fit(5, slice(1e-6,1e-4))\n",
    "learn.save('species1000-linkedcnn-resnet50-fepochs1-uepochs20')"
   ]
  },
  {
   "cell_type": "code",
   "execution_count": 24,
   "metadata": {},
   "outputs": [],
   "source": [
    "learn = continue_training('species1000-linkedcnn-resnet50-fepochs1-uepochs20')"
   ]
  },
  {
   "cell_type": "code",
   "execution_count": 25,
   "metadata": {},
   "outputs": [
    {
     "data": {
      "text/html": [
       "<table border=\"1\" class=\"dataframe\">\n",
       "  <thead>\n",
       "    <tr style=\"text-align: left;\">\n",
       "      <th>epoch</th>\n",
       "      <th>train_loss</th>\n",
       "      <th>valid_loss</th>\n",
       "      <th>custom_accuracy</th>\n",
       "      <th>time</th>\n",
       "    </tr>\n",
       "  </thead>\n",
       "  <tbody>\n",
       "    <tr>\n",
       "      <td>0</td>\n",
       "      <td>2.381906</td>\n",
       "      <td>2.320086</td>\n",
       "      <td>0.723909</td>\n",
       "      <td>51:44</td>\n",
       "    </tr>\n",
       "    <tr>\n",
       "      <td>1</td>\n",
       "      <td>2.204514</td>\n",
       "      <td>2.301087</td>\n",
       "      <td>0.732046</td>\n",
       "      <td>51:47</td>\n",
       "    </tr>\n",
       "    <tr>\n",
       "      <td>2</td>\n",
       "      <td>2.319101</td>\n",
       "      <td>2.292523</td>\n",
       "      <td>0.726349</td>\n",
       "      <td>51:59</td>\n",
       "    </tr>\n",
       "    <tr>\n",
       "      <td>3</td>\n",
       "      <td>2.080762</td>\n",
       "      <td>2.287430</td>\n",
       "      <td>0.728303</td>\n",
       "      <td>51:39</td>\n",
       "    </tr>\n",
       "    <tr>\n",
       "      <td>4</td>\n",
       "      <td>2.155718</td>\n",
       "      <td>2.222239</td>\n",
       "      <td>0.729405</td>\n",
       "      <td>51:37</td>\n",
       "    </tr>\n",
       "  </tbody>\n",
       "</table>"
      ],
      "text/plain": [
       "<IPython.core.display.HTML object>"
      ]
     },
     "metadata": {},
     "output_type": "display_data"
    },
    {
     "data": {
      "text/plain": [
       "Path('models/species1000-linkedcnn-resnet50-fepochs1-uepochs25.pth')"
      ]
     },
     "execution_count": 25,
     "metadata": {},
     "output_type": "execute_result"
    }
   ],
   "source": [
    "learn.fit(5, slice(1e-6,1e-4))\n",
    "learn.save('species1000-linkedcnn-resnet50-fepochs1-uepochs25')"
   ]
  },
  {
   "cell_type": "code",
   "execution_count": 26,
   "metadata": {},
   "outputs": [],
   "source": [
    "learn.export('species1000-linkedcnn-resnet50-fepochs1-uepochs25')"
   ]
  },
  {
   "cell_type": "code",
   "execution_count": 27,
   "metadata": {},
   "outputs": [
    {
     "data": {
      "text/html": [
       "<table border=\"1\" class=\"dataframe\">\n",
       "  <thead>\n",
       "    <tr style=\"text-align: left;\">\n",
       "      <th>epoch</th>\n",
       "      <th>train_loss</th>\n",
       "      <th>valid_loss</th>\n",
       "      <th>custom_accuracy</th>\n",
       "      <th>time</th>\n",
       "    </tr>\n",
       "  </thead>\n",
       "  <tbody>\n",
       "    <tr>\n",
       "      <td>0</td>\n",
       "      <td>2.057449</td>\n",
       "      <td>2.234449</td>\n",
       "      <td>0.729594</td>\n",
       "      <td>51:51</td>\n",
       "    </tr>\n",
       "    <tr>\n",
       "      <td>1</td>\n",
       "      <td>2.133576</td>\n",
       "      <td>2.196366</td>\n",
       "      <td>0.730613</td>\n",
       "      <td>52:08</td>\n",
       "    </tr>\n",
       "    <tr>\n",
       "      <td>2</td>\n",
       "      <td>2.013136</td>\n",
       "      <td>2.206761</td>\n",
       "      <td>0.733040</td>\n",
       "      <td>52:06</td>\n",
       "    </tr>\n",
       "    <tr>\n",
       "      <td>3</td>\n",
       "      <td>2.062558</td>\n",
       "      <td>2.381413</td>\n",
       "      <td>0.737233</td>\n",
       "      <td>52:26</td>\n",
       "    </tr>\n",
       "    <tr>\n",
       "      <td>4</td>\n",
       "      <td>1.922200</td>\n",
       "      <td>2.174028</td>\n",
       "      <td>0.736108</td>\n",
       "      <td>52:33</td>\n",
       "    </tr>\n",
       "  </tbody>\n",
       "</table>"
      ],
      "text/plain": [
       "<IPython.core.display.HTML object>"
      ]
     },
     "metadata": {},
     "output_type": "display_data"
    },
    {
     "data": {
      "text/plain": [
       "Path('models/species1000-linkedcnn-resnet50-fepochs1-uepochs30.pth')"
      ]
     },
     "execution_count": 27,
     "metadata": {},
     "output_type": "execute_result"
    }
   ],
   "source": [
    "learn.fit(5, slice(1e-6,1e-4))\n",
    "learn.save('species1000-linkedcnn-resnet50-fepochs1-uepochs30')"
   ]
  },
  {
   "cell_type": "code",
   "execution_count": 28,
   "metadata": {},
   "outputs": [],
   "source": [
    "learn.export('species1000-linkedcnn-resnet50-fepochs1-uepochs30')"
   ]
  },
  {
   "cell_type": "markdown",
   "metadata": {},
   "source": [
    "## Experimento 5: 3 conexiones"
   ]
  },
  {
   "cell_type": "code",
   "execution_count": 9,
   "metadata": {},
   "outputs": [],
   "source": [
    "n_classes_f = len(set(df['Specie']))\n",
    "n_classes_c = len(set(df['Family']))"
   ]
  },
  {
   "cell_type": "markdown",
   "metadata": {},
   "source": [
    "Creamos los cuerpos y cabezas del modelo tomando como base ResNet-50 con pesos preentrenados."
   ]
  },
  {
   "cell_type": "code",
   "execution_count": 10,
   "metadata": {
    "scrolled": true
   },
   "outputs": [
    {
     "data": {
      "text/plain": [
       "Sequential(\n",
       "  (0): Conv2d(3, 64, kernel_size=(7, 7), stride=(2, 2), padding=(3, 3), bias=False)\n",
       "  (1): BatchNorm2d(64, eps=1e-05, momentum=0.1, affine=True, track_running_stats=True)\n",
       "  (2): ReLU(inplace=True)\n",
       "  (3): MaxPool2d(kernel_size=3, stride=2, padding=1, dilation=1, ceil_mode=False)\n",
       "  (4): Sequential(\n",
       "    (0): Bottleneck(\n",
       "      (conv1): Conv2d(64, 64, kernel_size=(1, 1), stride=(1, 1), bias=False)\n",
       "      (bn1): BatchNorm2d(64, eps=1e-05, momentum=0.1, affine=True, track_running_stats=True)\n",
       "      (conv2): Conv2d(64, 64, kernel_size=(3, 3), stride=(1, 1), padding=(1, 1), bias=False)\n",
       "      (bn2): BatchNorm2d(64, eps=1e-05, momentum=0.1, affine=True, track_running_stats=True)\n",
       "      (conv3): Conv2d(64, 256, kernel_size=(1, 1), stride=(1, 1), bias=False)\n",
       "      (bn3): BatchNorm2d(256, eps=1e-05, momentum=0.1, affine=True, track_running_stats=True)\n",
       "      (relu): ReLU(inplace=True)\n",
       "      (downsample): Sequential(\n",
       "        (0): Conv2d(64, 256, kernel_size=(1, 1), stride=(1, 1), bias=False)\n",
       "        (1): BatchNorm2d(256, eps=1e-05, momentum=0.1, affine=True, track_running_stats=True)\n",
       "      )\n",
       "    )\n",
       "    (1): Bottleneck(\n",
       "      (conv1): Conv2d(256, 64, kernel_size=(1, 1), stride=(1, 1), bias=False)\n",
       "      (bn1): BatchNorm2d(64, eps=1e-05, momentum=0.1, affine=True, track_running_stats=True)\n",
       "      (conv2): Conv2d(64, 64, kernel_size=(3, 3), stride=(1, 1), padding=(1, 1), bias=False)\n",
       "      (bn2): BatchNorm2d(64, eps=1e-05, momentum=0.1, affine=True, track_running_stats=True)\n",
       "      (conv3): Conv2d(64, 256, kernel_size=(1, 1), stride=(1, 1), bias=False)\n",
       "      (bn3): BatchNorm2d(256, eps=1e-05, momentum=0.1, affine=True, track_running_stats=True)\n",
       "      (relu): ReLU(inplace=True)\n",
       "    )\n",
       "    (2): Bottleneck(\n",
       "      (conv1): Conv2d(256, 64, kernel_size=(1, 1), stride=(1, 1), bias=False)\n",
       "      (bn1): BatchNorm2d(64, eps=1e-05, momentum=0.1, affine=True, track_running_stats=True)\n",
       "      (conv2): Conv2d(64, 64, kernel_size=(3, 3), stride=(1, 1), padding=(1, 1), bias=False)\n",
       "      (bn2): BatchNorm2d(64, eps=1e-05, momentum=0.1, affine=True, track_running_stats=True)\n",
       "      (conv3): Conv2d(64, 256, kernel_size=(1, 1), stride=(1, 1), bias=False)\n",
       "      (bn3): BatchNorm2d(256, eps=1e-05, momentum=0.1, affine=True, track_running_stats=True)\n",
       "      (relu): ReLU(inplace=True)\n",
       "    )\n",
       "  )\n",
       "  (5): Sequential(\n",
       "    (0): Bottleneck(\n",
       "      (conv1): Conv2d(256, 128, kernel_size=(1, 1), stride=(1, 1), bias=False)\n",
       "      (bn1): BatchNorm2d(128, eps=1e-05, momentum=0.1, affine=True, track_running_stats=True)\n",
       "      (conv2): Conv2d(128, 128, kernel_size=(3, 3), stride=(2, 2), padding=(1, 1), bias=False)\n",
       "      (bn2): BatchNorm2d(128, eps=1e-05, momentum=0.1, affine=True, track_running_stats=True)\n",
       "      (conv3): Conv2d(128, 512, kernel_size=(1, 1), stride=(1, 1), bias=False)\n",
       "      (bn3): BatchNorm2d(512, eps=1e-05, momentum=0.1, affine=True, track_running_stats=True)\n",
       "      (relu): ReLU(inplace=True)\n",
       "      (downsample): Sequential(\n",
       "        (0): Conv2d(256, 512, kernel_size=(1, 1), stride=(2, 2), bias=False)\n",
       "        (1): BatchNorm2d(512, eps=1e-05, momentum=0.1, affine=True, track_running_stats=True)\n",
       "      )\n",
       "    )\n",
       "    (1): Bottleneck(\n",
       "      (conv1): Conv2d(512, 128, kernel_size=(1, 1), stride=(1, 1), bias=False)\n",
       "      (bn1): BatchNorm2d(128, eps=1e-05, momentum=0.1, affine=True, track_running_stats=True)\n",
       "      (conv2): Conv2d(128, 128, kernel_size=(3, 3), stride=(1, 1), padding=(1, 1), bias=False)\n",
       "      (bn2): BatchNorm2d(128, eps=1e-05, momentum=0.1, affine=True, track_running_stats=True)\n",
       "      (conv3): Conv2d(128, 512, kernel_size=(1, 1), stride=(1, 1), bias=False)\n",
       "      (bn3): BatchNorm2d(512, eps=1e-05, momentum=0.1, affine=True, track_running_stats=True)\n",
       "      (relu): ReLU(inplace=True)\n",
       "    )\n",
       "    (2): Bottleneck(\n",
       "      (conv1): Conv2d(512, 128, kernel_size=(1, 1), stride=(1, 1), bias=False)\n",
       "      (bn1): BatchNorm2d(128, eps=1e-05, momentum=0.1, affine=True, track_running_stats=True)\n",
       "      (conv2): Conv2d(128, 128, kernel_size=(3, 3), stride=(1, 1), padding=(1, 1), bias=False)\n",
       "      (bn2): BatchNorm2d(128, eps=1e-05, momentum=0.1, affine=True, track_running_stats=True)\n",
       "      (conv3): Conv2d(128, 512, kernel_size=(1, 1), stride=(1, 1), bias=False)\n",
       "      (bn3): BatchNorm2d(512, eps=1e-05, momentum=0.1, affine=True, track_running_stats=True)\n",
       "      (relu): ReLU(inplace=True)\n",
       "    )\n",
       "    (3): Bottleneck(\n",
       "      (conv1): Conv2d(512, 128, kernel_size=(1, 1), stride=(1, 1), bias=False)\n",
       "      (bn1): BatchNorm2d(128, eps=1e-05, momentum=0.1, affine=True, track_running_stats=True)\n",
       "      (conv2): Conv2d(128, 128, kernel_size=(3, 3), stride=(1, 1), padding=(1, 1), bias=False)\n",
       "      (bn2): BatchNorm2d(128, eps=1e-05, momentum=0.1, affine=True, track_running_stats=True)\n",
       "      (conv3): Conv2d(128, 512, kernel_size=(1, 1), stride=(1, 1), bias=False)\n",
       "      (bn3): BatchNorm2d(512, eps=1e-05, momentum=0.1, affine=True, track_running_stats=True)\n",
       "      (relu): ReLU(inplace=True)\n",
       "    )\n",
       "  )\n",
       "  (6): Sequential(\n",
       "    (0): Bottleneck(\n",
       "      (conv1): Conv2d(512, 256, kernel_size=(1, 1), stride=(1, 1), bias=False)\n",
       "      (bn1): BatchNorm2d(256, eps=1e-05, momentum=0.1, affine=True, track_running_stats=True)\n",
       "      (conv2): Conv2d(256, 256, kernel_size=(3, 3), stride=(2, 2), padding=(1, 1), bias=False)\n",
       "      (bn2): BatchNorm2d(256, eps=1e-05, momentum=0.1, affine=True, track_running_stats=True)\n",
       "      (conv3): Conv2d(256, 1024, kernel_size=(1, 1), stride=(1, 1), bias=False)\n",
       "      (bn3): BatchNorm2d(1024, eps=1e-05, momentum=0.1, affine=True, track_running_stats=True)\n",
       "      (relu): ReLU(inplace=True)\n",
       "      (downsample): Sequential(\n",
       "        (0): Conv2d(512, 1024, kernel_size=(1, 1), stride=(2, 2), bias=False)\n",
       "        (1): BatchNorm2d(1024, eps=1e-05, momentum=0.1, affine=True, track_running_stats=True)\n",
       "      )\n",
       "    )\n",
       "    (1): Bottleneck(\n",
       "      (conv1): Conv2d(1024, 256, kernel_size=(1, 1), stride=(1, 1), bias=False)\n",
       "      (bn1): BatchNorm2d(256, eps=1e-05, momentum=0.1, affine=True, track_running_stats=True)\n",
       "      (conv2): Conv2d(256, 256, kernel_size=(3, 3), stride=(1, 1), padding=(1, 1), bias=False)\n",
       "      (bn2): BatchNorm2d(256, eps=1e-05, momentum=0.1, affine=True, track_running_stats=True)\n",
       "      (conv3): Conv2d(256, 1024, kernel_size=(1, 1), stride=(1, 1), bias=False)\n",
       "      (bn3): BatchNorm2d(1024, eps=1e-05, momentum=0.1, affine=True, track_running_stats=True)\n",
       "      (relu): ReLU(inplace=True)\n",
       "    )\n",
       "    (2): Bottleneck(\n",
       "      (conv1): Conv2d(1024, 256, kernel_size=(1, 1), stride=(1, 1), bias=False)\n",
       "      (bn1): BatchNorm2d(256, eps=1e-05, momentum=0.1, affine=True, track_running_stats=True)\n",
       "      (conv2): Conv2d(256, 256, kernel_size=(3, 3), stride=(1, 1), padding=(1, 1), bias=False)\n",
       "      (bn2): BatchNorm2d(256, eps=1e-05, momentum=0.1, affine=True, track_running_stats=True)\n",
       "      (conv3): Conv2d(256, 1024, kernel_size=(1, 1), stride=(1, 1), bias=False)\n",
       "      (bn3): BatchNorm2d(1024, eps=1e-05, momentum=0.1, affine=True, track_running_stats=True)\n",
       "      (relu): ReLU(inplace=True)\n",
       "    )\n",
       "    (3): Bottleneck(\n",
       "      (conv1): Conv2d(1024, 256, kernel_size=(1, 1), stride=(1, 1), bias=False)\n",
       "      (bn1): BatchNorm2d(256, eps=1e-05, momentum=0.1, affine=True, track_running_stats=True)\n",
       "      (conv2): Conv2d(256, 256, kernel_size=(3, 3), stride=(1, 1), padding=(1, 1), bias=False)\n",
       "      (bn2): BatchNorm2d(256, eps=1e-05, momentum=0.1, affine=True, track_running_stats=True)\n",
       "      (conv3): Conv2d(256, 1024, kernel_size=(1, 1), stride=(1, 1), bias=False)\n",
       "      (bn3): BatchNorm2d(1024, eps=1e-05, momentum=0.1, affine=True, track_running_stats=True)\n",
       "      (relu): ReLU(inplace=True)\n",
       "    )\n",
       "    (4): Bottleneck(\n",
       "      (conv1): Conv2d(1024, 256, kernel_size=(1, 1), stride=(1, 1), bias=False)\n",
       "      (bn1): BatchNorm2d(256, eps=1e-05, momentum=0.1, affine=True, track_running_stats=True)\n",
       "      (conv2): Conv2d(256, 256, kernel_size=(3, 3), stride=(1, 1), padding=(1, 1), bias=False)\n",
       "      (bn2): BatchNorm2d(256, eps=1e-05, momentum=0.1, affine=True, track_running_stats=True)\n",
       "      (conv3): Conv2d(256, 1024, kernel_size=(1, 1), stride=(1, 1), bias=False)\n",
       "      (bn3): BatchNorm2d(1024, eps=1e-05, momentum=0.1, affine=True, track_running_stats=True)\n",
       "      (relu): ReLU(inplace=True)\n",
       "    )\n",
       "    (5): Bottleneck(\n",
       "      (conv1): Conv2d(1024, 256, kernel_size=(1, 1), stride=(1, 1), bias=False)\n",
       "      (bn1): BatchNorm2d(256, eps=1e-05, momentum=0.1, affine=True, track_running_stats=True)\n",
       "      (conv2): Conv2d(256, 256, kernel_size=(3, 3), stride=(1, 1), padding=(1, 1), bias=False)\n",
       "      (bn2): BatchNorm2d(256, eps=1e-05, momentum=0.1, affine=True, track_running_stats=True)\n",
       "      (conv3): Conv2d(256, 1024, kernel_size=(1, 1), stride=(1, 1), bias=False)\n",
       "      (bn3): BatchNorm2d(1024, eps=1e-05, momentum=0.1, affine=True, track_running_stats=True)\n",
       "      (relu): ReLU(inplace=True)\n",
       "    )\n",
       "  )\n",
       "  (7): Sequential(\n",
       "    (0): Bottleneck(\n",
       "      (conv1): Conv2d(1024, 512, kernel_size=(1, 1), stride=(1, 1), bias=False)\n",
       "      (bn1): BatchNorm2d(512, eps=1e-05, momentum=0.1, affine=True, track_running_stats=True)\n",
       "      (conv2): Conv2d(512, 512, kernel_size=(3, 3), stride=(2, 2), padding=(1, 1), bias=False)\n",
       "      (bn2): BatchNorm2d(512, eps=1e-05, momentum=0.1, affine=True, track_running_stats=True)\n",
       "      (conv3): Conv2d(512, 2048, kernel_size=(1, 1), stride=(1, 1), bias=False)\n",
       "      (bn3): BatchNorm2d(2048, eps=1e-05, momentum=0.1, affine=True, track_running_stats=True)\n",
       "      (relu): ReLU(inplace=True)\n",
       "      (downsample): Sequential(\n",
       "        (0): Conv2d(1024, 2048, kernel_size=(1, 1), stride=(2, 2), bias=False)\n",
       "        (1): BatchNorm2d(2048, eps=1e-05, momentum=0.1, affine=True, track_running_stats=True)\n",
       "      )\n",
       "    )\n",
       "    (1): Bottleneck(\n",
       "      (conv1): Conv2d(2048, 512, kernel_size=(1, 1), stride=(1, 1), bias=False)\n",
       "      (bn1): BatchNorm2d(512, eps=1e-05, momentum=0.1, affine=True, track_running_stats=True)\n",
       "      (conv2): Conv2d(512, 512, kernel_size=(3, 3), stride=(1, 1), padding=(1, 1), bias=False)\n",
       "      (bn2): BatchNorm2d(512, eps=1e-05, momentum=0.1, affine=True, track_running_stats=True)\n",
       "      (conv3): Conv2d(512, 2048, kernel_size=(1, 1), stride=(1, 1), bias=False)\n",
       "      (bn3): BatchNorm2d(2048, eps=1e-05, momentum=0.1, affine=True, track_running_stats=True)\n",
       "      (relu): ReLU(inplace=True)\n",
       "    )\n",
       "    (2): Bottleneck(\n",
       "      (conv1): Conv2d(2048, 512, kernel_size=(1, 1), stride=(1, 1), bias=False)\n",
       "      (bn1): BatchNorm2d(512, eps=1e-05, momentum=0.1, affine=True, track_running_stats=True)\n",
       "      (conv2): Conv2d(512, 512, kernel_size=(3, 3), stride=(1, 1), padding=(1, 1), bias=False)\n",
       "      (bn2): BatchNorm2d(512, eps=1e-05, momentum=0.1, affine=True, track_running_stats=True)\n",
       "      (conv3): Conv2d(512, 2048, kernel_size=(1, 1), stride=(1, 1), bias=False)\n",
       "      (bn3): BatchNorm2d(2048, eps=1e-05, momentum=0.1, affine=True, track_running_stats=True)\n",
       "      (relu): ReLU(inplace=True)\n",
       "    )\n",
       "  )\n",
       ")"
      ]
     },
     "execution_count": 10,
     "metadata": {},
     "output_type": "execute_result"
    }
   ],
   "source": [
    "model = resnet50\n",
    "body1 = create_body(model, cut=-2)\n",
    "body2 = create_body(model, cut=-2)\n",
    "body1"
   ]
  },
  {
   "cell_type": "code",
   "execution_count": 11,
   "metadata": {
    "scrolled": true
   },
   "outputs": [
    {
     "data": {
      "text/plain": [
       "Sequential(\n",
       "  (0): AdaptiveConcatPool2d(\n",
       "    (ap): AdaptiveAvgPool2d(output_size=1)\n",
       "    (mp): AdaptiveMaxPool2d(output_size=1)\n",
       "  )\n",
       "  (1): Flatten(full=False)\n",
       "  (2): BatchNorm1d(4096, eps=1e-05, momentum=0.1, affine=True, track_running_stats=True)\n",
       "  (3): Dropout(p=0.25, inplace=False)\n",
       "  (4): Linear(in_features=4096, out_features=512, bias=False)\n",
       "  (5): ReLU(inplace=True)\n",
       "  (6): BatchNorm1d(512, eps=1e-05, momentum=0.1, affine=True, track_running_stats=True)\n",
       "  (7): Dropout(p=0.5, inplace=False)\n",
       "  (8): Linear(in_features=512, out_features=1000, bias=False)\n",
       ")"
      ]
     },
     "execution_count": 11,
     "metadata": {},
     "output_type": "execute_result"
    }
   ],
   "source": [
    "head_c = create_head(2048*2,n_classes_c)\n",
    "head_f = create_head(2048*2,n_classes_f)\n",
    "head_f"
   ]
  },
  {
   "cell_type": "markdown",
   "metadata": {},
   "source": [
    "Definimos una función para obtener las etiquetas de cada ejemplo, en este caso: familia y especie."
   ]
  },
  {
   "cell_type": "code",
   "execution_count": 12,
   "metadata": {
    "scrolled": true
   },
   "outputs": [],
   "source": [
    "def custom_get_y(o):\n",
    "    fine_label = o['Specie']\n",
    "    coarse1_label = o['Family']\n",
    "    return [coarse1_label, fine_label]"
   ]
  },
  {
   "cell_type": "markdown",
   "metadata": {},
   "source": [
    "Creamos una clase para nuestro modelo que divida los _encoder_ en los distintos bloques. En el método _forward_ establecemos las conexiones entre los bloques para formar la arquitectura propuesta Linked-CNN, y devolver ambas salidas en forma de diccionario."
   ]
  },
  {
   "cell_type": "code",
   "execution_count": 13,
   "metadata": {
    "scrolled": true
   },
   "outputs": [],
   "source": [
    "class Resnet50CustomModel(Module):\n",
    "    def __init__(self, coarse_encoder, fine_encoder, coarse_head, fine_head):\n",
    "        self.coarse_stem = coarse_encoder[:4]\n",
    "        self.coarse_block1 = coarse_encoder[4]\n",
    "        self.coarse_block2 = coarse_encoder[5]\n",
    "        self.coarse_block3 = coarse_encoder[6]\n",
    "        self.coarse_block4 = coarse_encoder[7]\n",
    "        self.coarse_head = coarse_head\n",
    "        \n",
    "        self.fine_stem = fine_encoder[:4]\n",
    "        self.fine_block1 = fine_encoder[4]\n",
    "        self.fine_block2 = fine_encoder[5]\n",
    "        self.fine_block3 = fine_encoder[6]\n",
    "        self.fine_block4 = fine_encoder[7]\n",
    "        self.fine_head = fine_head\n",
    "        \n",
    "    \n",
    "    def forward(self, x):\n",
    "        x_c = self.coarse_stem(x)\n",
    "        x_f = self.fine_stem(x)\n",
    "        x_f = x_f + x_c\n",
    "        \n",
    "        x_c = self.coarse_block1(x_c)\n",
    "        x_f = self.fine_block1(x_f)\n",
    "        x_f = x_f + x_c\n",
    "        \n",
    "        x_c = self.coarse_block2(x_c)\n",
    "        x_f = self.fine_block2(x_f)\n",
    "        x_f = x_f + x_c\n",
    "\n",
    "        x_c = self.coarse_block3(x_c)\n",
    "        x_f = self.fine_block3(x_f)\n",
    "\n",
    "        x_c = self.coarse_block4(x_c)\n",
    "        x_f = self.fine_block4(x_f)\n",
    "\n",
    "        coarse1_label = self.coarse_head(x_c)\n",
    "        fine_label = self.fine_head(x_f)\n",
    "        \n",
    "        return {\n",
    "                'fine_label': fine_label,\n",
    "                'coarse1_label': coarse1_label\n",
    "               }"
   ]
  },
  {
   "cell_type": "markdown",
   "metadata": {},
   "source": [
    "Creamos el modelo con la clase definida pasándole los cuerpos y cabezas de ambos modelos con distintos niveles de especificación."
   ]
  },
  {
   "cell_type": "code",
   "execution_count": 14,
   "metadata": {
    "scrolled": true
   },
   "outputs": [],
   "source": [
    "model = Resnet50CustomModel(body1, body2, head_c, head_f)"
   ]
  },
  {
   "cell_type": "markdown",
   "metadata": {},
   "source": [
    "Como hemos modificado el modelo y la obtención de las clases para usar una salida múltiple, tenemos que modificar el tipo de bloque de categoría a uno que soporte estas salidas. Para ello, definimos una función que obtenga la clase y codifique a categoría cada una."
   ]
  },
  {
   "cell_type": "code",
   "execution_count": 15,
   "metadata": {
    "scrolled": true
   },
   "outputs": [],
   "source": [
    "class CustomCategorize(DisplayedTransform):\n",
    "    \"Reversible transform of category string to `vocab` id\"\n",
    "    loss_func,order=CrossEntropyLossFlat(),1\n",
    "    def __init__(self, vocab=None, vocab_coarse1=None, vocab_coarse2=None, sort=True, add_na=False, num_y=1):\n",
    "        store_attr()\n",
    "        self.vocab = None if vocab is None else CategoryMap(vocab, sort=sort, add_na=add_na)\n",
    "        self.vocab_coarse1 = None if vocab_coarse1 is None else CategoryMap(vocab_coarse1, sort=sort, add_na=add_na)\n",
    "\n",
    "    def setups(self, dsets):\n",
    "        fine_dsets = [d[1] for d in dsets]\n",
    "        coarse1_dsets = [d[0] for d in dsets]\n",
    "        if self.vocab is None and dsets is not None: self.vocab = CategoryMap(fine_dsets, sort=self.sort, add_na=self.add_na)\n",
    "        if self.vocab_coarse1 is None and dsets is not None: self.vocab_coarse1 = CategoryMap(coarse1_dsets, sort=self.sort, add_na=self.add_na)\n",
    "        self.c = len(self.vocab)\n",
    "\n",
    "    def encodes(self, o): return {'fine_label': TensorCategory(self.vocab.o2i[o[1]]),\n",
    "                                  'coarse1_label': TensorCategory(self.vocab_coarse1.o2i[o[0]])\n",
    "                                 }\n",
    "    def decodes(self, o): return Category      (self.vocab    [o])"
   ]
  },
  {
   "cell_type": "code",
   "execution_count": 16,
   "metadata": {
    "scrolled": true
   },
   "outputs": [],
   "source": [
    "def CustomCategoryBlock(vocab=None, sort=True, add_na=False, num_y=1):\n",
    "    \"`TransformBlock` for single-label categorical targets\"\n",
    "    return TransformBlock(type_tfms=CustomCategorize(vocab=vocab, sort=sort, add_na=add_na))"
   ]
  },
  {
   "cell_type": "markdown",
   "metadata": {},
   "source": [
    "Creamos un _splitter_ personalizado con los parámetros de cada bloque y del _head_."
   ]
  },
  {
   "cell_type": "code",
   "execution_count": 17,
   "metadata": {
    "scrolled": true
   },
   "outputs": [],
   "source": [
    "def custom_splitter(model):\n",
    "    return [params(model.coarse_stem),\n",
    "            params(model.coarse_block1),\n",
    "            params(model.coarse_block2),\n",
    "            params(model.coarse_block3),\n",
    "            params(model.coarse_block4),\n",
    "            params(model.fine_stem),\n",
    "            params(model.fine_block1),\n",
    "            params(model.fine_block2),\n",
    "            params(model.fine_block3),\n",
    "            params(model.fine_block4),\n",
    "            params(model.coarse_head),\n",
    "            params(model.fine_head)]"
   ]
  },
  {
   "cell_type": "markdown",
   "metadata": {},
   "source": [
    "Creamos un _datablock_ con: bloques de tipo imagen y categoría personalizada _CustomCategoryBlock_, un separador por columna, la _x_ con la columna que contienen la ruta de las imágenes, la _y_ con la función personalizada, una transformación para hacer un recorte aleatorio dejando un tamaño común de 336x336, y las transformaciones de aumento de datos por defecto."
   ]
  },
  {
   "cell_type": "code",
   "execution_count": 18,
   "metadata": {
    "scrolled": true
   },
   "outputs": [],
   "source": [
    "fishes = DataBlock(blocks = (ImageBlock, CustomCategoryBlock),\n",
    "                 splitter=ColSplitter(),\n",
    "                 get_x = ColReader(5, pref=path),\n",
    "                 get_y=custom_get_y,\n",
    "                 item_tfms=RandomResizedCrop(336, min_scale=0.5),\n",
    "                 batch_tfms=aug_transforms())\n",
    "dls = fishes.dataloaders(df, bs=40)"
   ]
  },
  {
   "cell_type": "markdown",
   "metadata": {},
   "source": [
    "Mostramos los _dataloaders_ generados con el _datablock_."
   ]
  },
  {
   "cell_type": "code",
   "execution_count": 19,
   "metadata": {
    "scrolled": true
   },
   "outputs": [
    {
     "data": {
      "text/plain": [
       "((#337741) [(PILImage mode=RGB size=768x1024, {'fine_label': TensorCategory(531), 'coarse1_label': TensorCategory(25)}),(PILImage mode=RGB size=1024x738, {'fine_label': TensorCategory(776), 'coarse1_label': TensorCategory(25)}),(PILImage mode=RGB size=768x1024, {'fine_label': TensorCategory(538), 'coarse1_label': TensorCategory(25)}),(PILImage mode=RGB size=768x1024, {'fine_label': TensorCategory(837), 'coarse1_label': TensorCategory(41)}),(PILImage mode=RGB size=1024x786, {'fine_label': TensorCategory(32), 'coarse1_label': TensorCategory(0)}),(PILImage mode=RGB size=1024x683, {'fine_label': TensorCategory(145), 'coarse1_label': TensorCategory(109)}),(PILImage mode=RGB size=768x1024, {'fine_label': TensorCategory(827), 'coarse1_label': TensorCategory(108)}),(PILImage mode=RGB size=1024x697, {'fine_label': TensorCategory(792), 'coarse1_label': TensorCategory(100)}),(PILImage mode=RGB size=1024x768, {'fine_label': TensorCategory(784), 'coarse1_label': TensorCategory(9)}),(PILImage mode=RGB size=1024x768, {'fine_label': TensorCategory(522), 'coarse1_label': TensorCategory(121)})...],\n",
       " (#84436) [(PILImage mode=RGB size=576x1024, {'fine_label': TensorCategory(826), 'coarse1_label': TensorCategory(108)}),(PILImage mode=RGB size=512x320, {'fine_label': TensorCategory(296), 'coarse1_label': TensorCategory(0)}),(PILImage mode=RGB size=1024x768, {'fine_label': TensorCategory(283), 'coarse1_label': TensorCategory(71)}),(PILImage mode=RGB size=1024x683, {'fine_label': TensorCategory(223), 'coarse1_label': TensorCategory(71)}),(PILImage mode=RGB size=1024x683, {'fine_label': TensorCategory(333), 'coarse1_label': TensorCategory(121)}),(PILImage mode=RGB size=1024x768, {'fine_label': TensorCategory(272), 'coarse1_label': TensorCategory(41)}),(PILImage mode=RGB size=1024x576, {'fine_label': TensorCategory(163), 'coarse1_label': TensorCategory(23)}),(PILImage mode=RGB size=1024x768, {'fine_label': TensorCategory(827), 'coarse1_label': TensorCategory(108)}),(PILImage mode=RGB size=1024x768, {'fine_label': TensorCategory(868), 'coarse1_label': TensorCategory(113)}),(PILImage mode=RGB size=768x1024, {'fine_label': TensorCategory(816), 'coarse1_label': TensorCategory(41)})...])"
      ]
     },
     "execution_count": 19,
     "metadata": {},
     "output_type": "execute_result"
    }
   ],
   "source": [
    "dls.train_ds, dls.valid_ds"
   ]
  },
  {
   "cell_type": "markdown",
   "metadata": {},
   "source": [
    "Creamos el tensor con los pesos por clase y lo pasamos a GPU para poder usarlo durante el entrenamiento."
   ]
  },
  {
   "cell_type": "code",
   "execution_count": 20,
   "metadata": {},
   "outputs": [],
   "source": [
    "weights = tensor([float(weights_df[weights_df['Specie']==c]['Weight']) for c in dls.vocab]).cuda()\n",
    "weights_family = tensor([float(weights_family_df[weights_family_df['Family']==c]['Weight']) for c in dls.vocab_coarse1]).cuda()"
   ]
  },
  {
   "cell_type": "markdown",
   "metadata": {},
   "source": [
    "Defimos nuestra función de pérdida como el sumatorio de la pérdida en entropía cruzada de las dos salidas."
   ]
  },
  {
   "cell_type": "code",
   "execution_count": 21,
   "metadata": {
    "scrolled": true
   },
   "outputs": [],
   "source": [
    "def loss_func(out, targ):\n",
    "    return nn.CrossEntropyLoss(weight=weights)(out['fine_label'], targ['fine_label']) + \\\n",
    "            nn.CrossEntropyLoss(weight=weights_family)(out['coarse1_label'], targ['coarse1_label'])"
   ]
  },
  {
   "cell_type": "markdown",
   "metadata": {},
   "source": [
    "Defimos la función de accuracy con la etiqueta fina, ya que es el resultado final que nos interesa. Además, esta etiqueta fue la que se usó para definir las particiones estratificadas, por lo que es la única que se debería tener en cuenta si queremos resultados más fiables."
   ]
  },
  {
   "cell_type": "code",
   "execution_count": 22,
   "metadata": {},
   "outputs": [],
   "source": [
    "def custom_accuracy(inp, targ, axis=-1):\n",
    "    pred1,targ1 = flatten_check(inp['fine_label'].argmax(dim=axis), targ['fine_label'])\n",
    "    acc1 = (pred1 == targ1).float().mean()\n",
    "    return acc1"
   ]
  },
  {
   "cell_type": "markdown",
   "metadata": {},
   "source": [
    "Creamos nuestro objeto _Learner_ con los _dataloaders_, la función de pérdida _loss_func_ creada, la métrica exactitud y el _splitter_ creado. Además, congelamos nuestro modelo para ajustar primero los pesos preentrenados a nuestras clases."
   ]
  },
  {
   "cell_type": "code",
   "execution_count": 23,
   "metadata": {
    "scrolled": true
   },
   "outputs": [],
   "source": [
    "learn = Learner(dls, model, loss_func=loss_func, metrics=custom_accuracy,\n",
    "                   splitter=custom_splitter).to_fp16()\n",
    "learn.freeze()"
   ]
  },
  {
   "cell_type": "markdown",
   "metadata": {},
   "source": [
    "Mostramos un resumen de nuestro modelo."
   ]
  },
  {
   "cell_type": "code",
   "execution_count": 24,
   "metadata": {
    "scrolled": true
   },
   "outputs": [
    {
     "data": {
      "text/html": [
       "<table border=\"1\" class=\"dataframe\">\n",
       "  <thead>\n",
       "    <tr style=\"text-align: left;\">\n",
       "      <th>epoch</th>\n",
       "      <th>train_loss</th>\n",
       "      <th>valid_loss</th>\n",
       "      <th>custom_accuracy</th>\n",
       "      <th>time</th>\n",
       "    </tr>\n",
       "  </thead>\n",
       "  <tbody>\n",
       "    <tr>\n",
       "      <td>0</td>\n",
       "      <td>None</td>\n",
       "      <td>None</td>\n",
       "      <td>00:00</td>\n",
       "    </tr>\n",
       "  </tbody>\n",
       "</table>"
      ],
      "text/plain": [
       "<IPython.core.display.HTML object>"
      ]
     },
     "metadata": {},
     "output_type": "display_data"
    },
    {
     "data": {
      "text/plain": [
       "Resnet50CustomModel (Input shape: ['40 x 3 x 336 x 336'])\n",
       "================================================================\n",
       "Layer (type)         Output Shape         Param #    Trainable \n",
       "================================================================\n",
       "Conv2d               40 x 64 x 168 x 168  9,408      False     \n",
       "________________________________________________________________\n",
       "BatchNorm2d          40 x 64 x 168 x 168  128        True      \n",
       "________________________________________________________________\n",
       "ReLU                 40 x 64 x 168 x 168  0          False     \n",
       "________________________________________________________________\n",
       "MaxPool2d            40 x 64 x 84 x 84    0          False     \n",
       "________________________________________________________________\n",
       "Conv2d               40 x 64 x 84 x 84    4,096      False     \n",
       "________________________________________________________________\n",
       "BatchNorm2d          40 x 64 x 84 x 84    128        True      \n",
       "________________________________________________________________\n",
       "Conv2d               40 x 64 x 84 x 84    36,864     False     \n",
       "________________________________________________________________\n",
       "BatchNorm2d          40 x 64 x 84 x 84    128        True      \n",
       "________________________________________________________________\n",
       "Conv2d               40 x 256 x 84 x 84   16,384     False     \n",
       "________________________________________________________________\n",
       "BatchNorm2d          40 x 256 x 84 x 84   512        True      \n",
       "________________________________________________________________\n",
       "ReLU                 40 x 256 x 84 x 84   0          False     \n",
       "________________________________________________________________\n",
       "Conv2d               40 x 256 x 84 x 84   16,384     False     \n",
       "________________________________________________________________\n",
       "BatchNorm2d          40 x 256 x 84 x 84   512        True      \n",
       "________________________________________________________________\n",
       "Conv2d               40 x 64 x 84 x 84    16,384     False     \n",
       "________________________________________________________________\n",
       "BatchNorm2d          40 x 64 x 84 x 84    128        True      \n",
       "________________________________________________________________\n",
       "Conv2d               40 x 64 x 84 x 84    36,864     False     \n",
       "________________________________________________________________\n",
       "BatchNorm2d          40 x 64 x 84 x 84    128        True      \n",
       "________________________________________________________________\n",
       "Conv2d               40 x 256 x 84 x 84   16,384     False     \n",
       "________________________________________________________________\n",
       "BatchNorm2d          40 x 256 x 84 x 84   512        True      \n",
       "________________________________________________________________\n",
       "ReLU                 40 x 256 x 84 x 84   0          False     \n",
       "________________________________________________________________\n",
       "Conv2d               40 x 64 x 84 x 84    16,384     False     \n",
       "________________________________________________________________\n",
       "BatchNorm2d          40 x 64 x 84 x 84    128        True      \n",
       "________________________________________________________________\n",
       "Conv2d               40 x 64 x 84 x 84    36,864     False     \n",
       "________________________________________________________________\n",
       "BatchNorm2d          40 x 64 x 84 x 84    128        True      \n",
       "________________________________________________________________\n",
       "Conv2d               40 x 256 x 84 x 84   16,384     False     \n",
       "________________________________________________________________\n",
       "BatchNorm2d          40 x 256 x 84 x 84   512        True      \n",
       "________________________________________________________________\n",
       "ReLU                 40 x 256 x 84 x 84   0          False     \n",
       "________________________________________________________________\n",
       "Conv2d               40 x 128 x 84 x 84   32,768     False     \n",
       "________________________________________________________________\n",
       "BatchNorm2d          40 x 128 x 84 x 84   256        True      \n",
       "________________________________________________________________\n",
       "Conv2d               40 x 128 x 42 x 42   147,456    False     \n",
       "________________________________________________________________\n",
       "BatchNorm2d          40 x 128 x 42 x 42   256        True      \n",
       "________________________________________________________________\n",
       "Conv2d               40 x 512 x 42 x 42   65,536     False     \n",
       "________________________________________________________________\n",
       "BatchNorm2d          40 x 512 x 42 x 42   1,024      True      \n",
       "________________________________________________________________\n",
       "ReLU                 40 x 512 x 42 x 42   0          False     \n",
       "________________________________________________________________\n",
       "Conv2d               40 x 512 x 42 x 42   131,072    False     \n",
       "________________________________________________________________\n",
       "BatchNorm2d          40 x 512 x 42 x 42   1,024      True      \n",
       "________________________________________________________________\n",
       "Conv2d               40 x 128 x 42 x 42   65,536     False     \n",
       "________________________________________________________________\n",
       "BatchNorm2d          40 x 128 x 42 x 42   256        True      \n",
       "________________________________________________________________\n",
       "Conv2d               40 x 128 x 42 x 42   147,456    False     \n",
       "________________________________________________________________\n",
       "BatchNorm2d          40 x 128 x 42 x 42   256        True      \n",
       "________________________________________________________________\n",
       "Conv2d               40 x 512 x 42 x 42   65,536     False     \n",
       "________________________________________________________________\n",
       "BatchNorm2d          40 x 512 x 42 x 42   1,024      True      \n",
       "________________________________________________________________\n",
       "ReLU                 40 x 512 x 42 x 42   0          False     \n",
       "________________________________________________________________\n",
       "Conv2d               40 x 128 x 42 x 42   65,536     False     \n",
       "________________________________________________________________\n",
       "BatchNorm2d          40 x 128 x 42 x 42   256        True      \n",
       "________________________________________________________________\n",
       "Conv2d               40 x 128 x 42 x 42   147,456    False     \n",
       "________________________________________________________________\n",
       "BatchNorm2d          40 x 128 x 42 x 42   256        True      \n",
       "________________________________________________________________\n",
       "Conv2d               40 x 512 x 42 x 42   65,536     False     \n",
       "________________________________________________________________\n",
       "BatchNorm2d          40 x 512 x 42 x 42   1,024      True      \n",
       "________________________________________________________________\n",
       "ReLU                 40 x 512 x 42 x 42   0          False     \n",
       "________________________________________________________________\n",
       "Conv2d               40 x 128 x 42 x 42   65,536     False     \n",
       "________________________________________________________________\n",
       "BatchNorm2d          40 x 128 x 42 x 42   256        True      \n",
       "________________________________________________________________\n",
       "Conv2d               40 x 128 x 42 x 42   147,456    False     \n",
       "________________________________________________________________\n",
       "BatchNorm2d          40 x 128 x 42 x 42   256        True      \n",
       "________________________________________________________________\n",
       "Conv2d               40 x 512 x 42 x 42   65,536     False     \n",
       "________________________________________________________________\n",
       "BatchNorm2d          40 x 512 x 42 x 42   1,024      True      \n",
       "________________________________________________________________\n",
       "ReLU                 40 x 512 x 42 x 42   0          False     \n",
       "________________________________________________________________\n",
       "Conv2d               40 x 256 x 42 x 42   131,072    False     \n",
       "________________________________________________________________\n",
       "BatchNorm2d          40 x 256 x 42 x 42   512        True      \n",
       "________________________________________________________________\n",
       "Conv2d               40 x 256 x 21 x 21   589,824    False     \n",
       "________________________________________________________________\n",
       "BatchNorm2d          40 x 256 x 21 x 21   512        True      \n",
       "________________________________________________________________\n",
       "Conv2d               40 x 1024 x 21 x 21  262,144    False     \n",
       "________________________________________________________________\n",
       "BatchNorm2d          40 x 1024 x 21 x 21  2,048      True      \n",
       "________________________________________________________________\n",
       "ReLU                 40 x 1024 x 21 x 21  0          False     \n",
       "________________________________________________________________\n",
       "Conv2d               40 x 1024 x 21 x 21  524,288    False     \n",
       "________________________________________________________________\n",
       "BatchNorm2d          40 x 1024 x 21 x 21  2,048      True      \n",
       "________________________________________________________________\n",
       "Conv2d               40 x 256 x 21 x 21   262,144    False     \n",
       "________________________________________________________________\n",
       "BatchNorm2d          40 x 256 x 21 x 21   512        True      \n",
       "________________________________________________________________\n",
       "Conv2d               40 x 256 x 21 x 21   589,824    False     \n",
       "________________________________________________________________\n",
       "BatchNorm2d          40 x 256 x 21 x 21   512        True      \n",
       "________________________________________________________________\n",
       "Conv2d               40 x 1024 x 21 x 21  262,144    False     \n",
       "________________________________________________________________\n",
       "BatchNorm2d          40 x 1024 x 21 x 21  2,048      True      \n",
       "________________________________________________________________\n",
       "ReLU                 40 x 1024 x 21 x 21  0          False     \n",
       "________________________________________________________________\n",
       "Conv2d               40 x 256 x 21 x 21   262,144    False     \n",
       "________________________________________________________________\n",
       "BatchNorm2d          40 x 256 x 21 x 21   512        True      \n",
       "________________________________________________________________\n",
       "Conv2d               40 x 256 x 21 x 21   589,824    False     \n",
       "________________________________________________________________\n",
       "BatchNorm2d          40 x 256 x 21 x 21   512        True      \n",
       "________________________________________________________________\n",
       "Conv2d               40 x 1024 x 21 x 21  262,144    False     \n",
       "________________________________________________________________\n",
       "BatchNorm2d          40 x 1024 x 21 x 21  2,048      True      \n",
       "________________________________________________________________\n",
       "ReLU                 40 x 1024 x 21 x 21  0          False     \n",
       "________________________________________________________________\n",
       "Conv2d               40 x 256 x 21 x 21   262,144    False     \n",
       "________________________________________________________________\n",
       "BatchNorm2d          40 x 256 x 21 x 21   512        True      \n",
       "________________________________________________________________\n",
       "Conv2d               40 x 256 x 21 x 21   589,824    False     \n",
       "________________________________________________________________\n",
       "BatchNorm2d          40 x 256 x 21 x 21   512        True      \n",
       "________________________________________________________________\n",
       "Conv2d               40 x 1024 x 21 x 21  262,144    False     \n",
       "________________________________________________________________\n",
       "BatchNorm2d          40 x 1024 x 21 x 21  2,048      True      \n",
       "________________________________________________________________\n",
       "ReLU                 40 x 1024 x 21 x 21  0          False     \n",
       "________________________________________________________________\n",
       "Conv2d               40 x 256 x 21 x 21   262,144    False     \n",
       "________________________________________________________________\n",
       "BatchNorm2d          40 x 256 x 21 x 21   512        True      \n",
       "________________________________________________________________\n",
       "Conv2d               40 x 256 x 21 x 21   589,824    False     \n",
       "________________________________________________________________\n",
       "BatchNorm2d          40 x 256 x 21 x 21   512        True      \n",
       "________________________________________________________________\n",
       "Conv2d               40 x 1024 x 21 x 21  262,144    False     \n",
       "________________________________________________________________\n",
       "BatchNorm2d          40 x 1024 x 21 x 21  2,048      True      \n",
       "________________________________________________________________\n",
       "ReLU                 40 x 1024 x 21 x 21  0          False     \n",
       "________________________________________________________________\n",
       "Conv2d               40 x 256 x 21 x 21   262,144    False     \n",
       "________________________________________________________________\n",
       "BatchNorm2d          40 x 256 x 21 x 21   512        True      \n",
       "________________________________________________________________\n",
       "Conv2d               40 x 256 x 21 x 21   589,824    False     \n",
       "________________________________________________________________\n",
       "BatchNorm2d          40 x 256 x 21 x 21   512        True      \n",
       "________________________________________________________________\n",
       "Conv2d               40 x 1024 x 21 x 21  262,144    False     \n",
       "________________________________________________________________\n",
       "BatchNorm2d          40 x 1024 x 21 x 21  2,048      True      \n",
       "________________________________________________________________\n",
       "ReLU                 40 x 1024 x 21 x 21  0          False     \n",
       "________________________________________________________________\n",
       "Conv2d               40 x 512 x 21 x 21   524,288    False     \n",
       "________________________________________________________________\n",
       "BatchNorm2d          40 x 512 x 21 x 21   1,024      True      \n",
       "________________________________________________________________\n",
       "Conv2d               40 x 512 x 11 x 11   2,359,296  False     \n",
       "________________________________________________________________\n",
       "BatchNorm2d          40 x 512 x 11 x 11   1,024      True      \n",
       "________________________________________________________________\n",
       "Conv2d               40 x 2048 x 11 x 11  1,048,576  False     \n",
       "________________________________________________________________\n",
       "BatchNorm2d          40 x 2048 x 11 x 11  4,096      True      \n",
       "________________________________________________________________\n",
       "ReLU                 40 x 2048 x 11 x 11  0          False     \n",
       "________________________________________________________________\n",
       "Conv2d               40 x 2048 x 11 x 11  2,097,152  False     \n",
       "________________________________________________________________\n",
       "BatchNorm2d          40 x 2048 x 11 x 11  4,096      True      \n",
       "________________________________________________________________\n",
       "Conv2d               40 x 512 x 11 x 11   1,048,576  False     \n",
       "________________________________________________________________\n",
       "BatchNorm2d          40 x 512 x 11 x 11   1,024      True      \n",
       "________________________________________________________________\n",
       "Conv2d               40 x 512 x 11 x 11   2,359,296  False     \n",
       "________________________________________________________________\n",
       "BatchNorm2d          40 x 512 x 11 x 11   1,024      True      \n",
       "________________________________________________________________\n",
       "Conv2d               40 x 2048 x 11 x 11  1,048,576  False     \n",
       "________________________________________________________________\n",
       "BatchNorm2d          40 x 2048 x 11 x 11  4,096      True      \n",
       "________________________________________________________________\n",
       "ReLU                 40 x 2048 x 11 x 11  0          False     \n",
       "________________________________________________________________\n",
       "Conv2d               40 x 512 x 11 x 11   1,048,576  False     \n",
       "________________________________________________________________\n",
       "BatchNorm2d          40 x 512 x 11 x 11   1,024      True      \n",
       "________________________________________________________________\n",
       "Conv2d               40 x 512 x 11 x 11   2,359,296  False     \n",
       "________________________________________________________________\n",
       "BatchNorm2d          40 x 512 x 11 x 11   1,024      True      \n",
       "________________________________________________________________\n",
       "Conv2d               40 x 2048 x 11 x 11  1,048,576  False     \n",
       "________________________________________________________________\n",
       "BatchNorm2d          40 x 2048 x 11 x 11  4,096      True      \n",
       "________________________________________________________________\n",
       "ReLU                 40 x 2048 x 11 x 11  0          False     \n",
       "________________________________________________________________\n",
       "AdaptiveAvgPool2d    40 x 2048 x 1 x 1    0          False     \n",
       "________________________________________________________________\n",
       "AdaptiveMaxPool2d    40 x 2048 x 1 x 1    0          False     \n",
       "________________________________________________________________\n",
       "Flatten              40 x 4096            0          False     \n",
       "________________________________________________________________\n",
       "BatchNorm1d          40 x 4096            8,192      True      \n",
       "________________________________________________________________\n",
       "Dropout              40 x 4096            0          False     \n",
       "________________________________________________________________\n",
       "Linear               40 x 512             2,097,152  False     \n",
       "________________________________________________________________\n",
       "ReLU                 40 x 512             0          False     \n",
       "________________________________________________________________\n",
       "BatchNorm1d          40 x 512             1,024      True      \n",
       "________________________________________________________________\n",
       "Dropout              40 x 512             0          False     \n",
       "________________________________________________________________\n",
       "Linear               40 x 135             69,120     False     \n",
       "________________________________________________________________\n",
       "Conv2d               40 x 64 x 168 x 168  9,408      False     \n",
       "________________________________________________________________\n",
       "BatchNorm2d          40 x 64 x 168 x 168  128        True      \n",
       "________________________________________________________________\n",
       "ReLU                 40 x 64 x 168 x 168  0          False     \n",
       "________________________________________________________________\n",
       "MaxPool2d            40 x 64 x 84 x 84    0          False     \n",
       "________________________________________________________________\n",
       "Conv2d               40 x 64 x 84 x 84    4,096      False     \n",
       "________________________________________________________________\n",
       "BatchNorm2d          40 x 64 x 84 x 84    128        True      \n",
       "________________________________________________________________\n",
       "Conv2d               40 x 64 x 84 x 84    36,864     False     \n",
       "________________________________________________________________\n",
       "BatchNorm2d          40 x 64 x 84 x 84    128        True      \n",
       "________________________________________________________________\n",
       "Conv2d               40 x 256 x 84 x 84   16,384     False     \n",
       "________________________________________________________________\n",
       "BatchNorm2d          40 x 256 x 84 x 84   512        True      \n",
       "________________________________________________________________\n",
       "ReLU                 40 x 256 x 84 x 84   0          False     \n",
       "________________________________________________________________\n",
       "Conv2d               40 x 256 x 84 x 84   16,384     False     \n",
       "________________________________________________________________\n",
       "BatchNorm2d          40 x 256 x 84 x 84   512        True      \n",
       "________________________________________________________________\n",
       "Conv2d               40 x 64 x 84 x 84    16,384     False     \n",
       "________________________________________________________________\n",
       "BatchNorm2d          40 x 64 x 84 x 84    128        True      \n",
       "________________________________________________________________\n",
       "Conv2d               40 x 64 x 84 x 84    36,864     False     \n",
       "________________________________________________________________\n",
       "BatchNorm2d          40 x 64 x 84 x 84    128        True      \n",
       "________________________________________________________________\n",
       "Conv2d               40 x 256 x 84 x 84   16,384     False     \n",
       "________________________________________________________________\n",
       "BatchNorm2d          40 x 256 x 84 x 84   512        True      \n",
       "________________________________________________________________\n",
       "ReLU                 40 x 256 x 84 x 84   0          False     \n",
       "________________________________________________________________\n",
       "Conv2d               40 x 64 x 84 x 84    16,384     False     \n",
       "________________________________________________________________\n",
       "BatchNorm2d          40 x 64 x 84 x 84    128        True      \n",
       "________________________________________________________________\n",
       "Conv2d               40 x 64 x 84 x 84    36,864     False     \n",
       "________________________________________________________________\n",
       "BatchNorm2d          40 x 64 x 84 x 84    128        True      \n",
       "________________________________________________________________\n",
       "Conv2d               40 x 256 x 84 x 84   16,384     False     \n",
       "________________________________________________________________\n",
       "BatchNorm2d          40 x 256 x 84 x 84   512        True      \n",
       "________________________________________________________________\n",
       "ReLU                 40 x 256 x 84 x 84   0          False     \n",
       "________________________________________________________________\n",
       "Conv2d               40 x 128 x 84 x 84   32,768     False     \n",
       "________________________________________________________________\n",
       "BatchNorm2d          40 x 128 x 84 x 84   256        True      \n",
       "________________________________________________________________\n",
       "Conv2d               40 x 128 x 42 x 42   147,456    False     \n",
       "________________________________________________________________\n",
       "BatchNorm2d          40 x 128 x 42 x 42   256        True      \n",
       "________________________________________________________________\n",
       "Conv2d               40 x 512 x 42 x 42   65,536     False     \n",
       "________________________________________________________________\n",
       "BatchNorm2d          40 x 512 x 42 x 42   1,024      True      \n",
       "________________________________________________________________\n",
       "ReLU                 40 x 512 x 42 x 42   0          False     \n",
       "________________________________________________________________\n",
       "Conv2d               40 x 512 x 42 x 42   131,072    False     \n",
       "________________________________________________________________\n",
       "BatchNorm2d          40 x 512 x 42 x 42   1,024      True      \n",
       "________________________________________________________________\n",
       "Conv2d               40 x 128 x 42 x 42   65,536     False     \n",
       "________________________________________________________________\n",
       "BatchNorm2d          40 x 128 x 42 x 42   256        True      \n",
       "________________________________________________________________\n",
       "Conv2d               40 x 128 x 42 x 42   147,456    False     \n",
       "________________________________________________________________\n",
       "BatchNorm2d          40 x 128 x 42 x 42   256        True      \n",
       "________________________________________________________________\n",
       "Conv2d               40 x 512 x 42 x 42   65,536     False     \n",
       "________________________________________________________________\n",
       "BatchNorm2d          40 x 512 x 42 x 42   1,024      True      \n",
       "________________________________________________________________\n",
       "ReLU                 40 x 512 x 42 x 42   0          False     \n",
       "________________________________________________________________\n",
       "Conv2d               40 x 128 x 42 x 42   65,536     False     \n",
       "________________________________________________________________\n",
       "BatchNorm2d          40 x 128 x 42 x 42   256        True      \n",
       "________________________________________________________________\n",
       "Conv2d               40 x 128 x 42 x 42   147,456    False     \n",
       "________________________________________________________________\n",
       "BatchNorm2d          40 x 128 x 42 x 42   256        True      \n",
       "________________________________________________________________\n",
       "Conv2d               40 x 512 x 42 x 42   65,536     False     \n",
       "________________________________________________________________\n",
       "BatchNorm2d          40 x 512 x 42 x 42   1,024      True      \n",
       "________________________________________________________________\n",
       "ReLU                 40 x 512 x 42 x 42   0          False     \n",
       "________________________________________________________________\n",
       "Conv2d               40 x 128 x 42 x 42   65,536     False     \n",
       "________________________________________________________________\n",
       "BatchNorm2d          40 x 128 x 42 x 42   256        True      \n",
       "________________________________________________________________\n",
       "Conv2d               40 x 128 x 42 x 42   147,456    False     \n",
       "________________________________________________________________\n",
       "BatchNorm2d          40 x 128 x 42 x 42   256        True      \n",
       "________________________________________________________________\n",
       "Conv2d               40 x 512 x 42 x 42   65,536     False     \n",
       "________________________________________________________________\n",
       "BatchNorm2d          40 x 512 x 42 x 42   1,024      True      \n",
       "________________________________________________________________\n",
       "ReLU                 40 x 512 x 42 x 42   0          False     \n",
       "________________________________________________________________\n",
       "Conv2d               40 x 256 x 42 x 42   131,072    False     \n",
       "________________________________________________________________\n",
       "BatchNorm2d          40 x 256 x 42 x 42   512        True      \n",
       "________________________________________________________________\n",
       "Conv2d               40 x 256 x 21 x 21   589,824    False     \n",
       "________________________________________________________________\n",
       "BatchNorm2d          40 x 256 x 21 x 21   512        True      \n",
       "________________________________________________________________\n",
       "Conv2d               40 x 1024 x 21 x 21  262,144    False     \n",
       "________________________________________________________________\n",
       "BatchNorm2d          40 x 1024 x 21 x 21  2,048      True      \n",
       "________________________________________________________________\n",
       "ReLU                 40 x 1024 x 21 x 21  0          False     \n",
       "________________________________________________________________\n",
       "Conv2d               40 x 1024 x 21 x 21  524,288    False     \n",
       "________________________________________________________________\n",
       "BatchNorm2d          40 x 1024 x 21 x 21  2,048      True      \n",
       "________________________________________________________________\n",
       "Conv2d               40 x 256 x 21 x 21   262,144    False     \n",
       "________________________________________________________________\n",
       "BatchNorm2d          40 x 256 x 21 x 21   512        True      \n",
       "________________________________________________________________\n",
       "Conv2d               40 x 256 x 21 x 21   589,824    False     \n",
       "________________________________________________________________\n",
       "BatchNorm2d          40 x 256 x 21 x 21   512        True      \n",
       "________________________________________________________________\n",
       "Conv2d               40 x 1024 x 21 x 21  262,144    False     \n",
       "________________________________________________________________\n",
       "BatchNorm2d          40 x 1024 x 21 x 21  2,048      True      \n",
       "________________________________________________________________\n",
       "ReLU                 40 x 1024 x 21 x 21  0          False     \n",
       "________________________________________________________________\n",
       "Conv2d               40 x 256 x 21 x 21   262,144    False     \n",
       "________________________________________________________________\n",
       "BatchNorm2d          40 x 256 x 21 x 21   512        True      \n",
       "________________________________________________________________\n",
       "Conv2d               40 x 256 x 21 x 21   589,824    False     \n",
       "________________________________________________________________\n",
       "BatchNorm2d          40 x 256 x 21 x 21   512        True      \n",
       "________________________________________________________________\n",
       "Conv2d               40 x 1024 x 21 x 21  262,144    False     \n",
       "________________________________________________________________\n",
       "BatchNorm2d          40 x 1024 x 21 x 21  2,048      True      \n",
       "________________________________________________________________\n",
       "ReLU                 40 x 1024 x 21 x 21  0          False     \n",
       "________________________________________________________________\n",
       "Conv2d               40 x 256 x 21 x 21   262,144    False     \n",
       "________________________________________________________________\n",
       "BatchNorm2d          40 x 256 x 21 x 21   512        True      \n",
       "________________________________________________________________\n",
       "Conv2d               40 x 256 x 21 x 21   589,824    False     \n",
       "________________________________________________________________\n",
       "BatchNorm2d          40 x 256 x 21 x 21   512        True      \n",
       "________________________________________________________________\n",
       "Conv2d               40 x 1024 x 21 x 21  262,144    False     \n",
       "________________________________________________________________\n",
       "BatchNorm2d          40 x 1024 x 21 x 21  2,048      True      \n",
       "________________________________________________________________\n",
       "ReLU                 40 x 1024 x 21 x 21  0          False     \n",
       "________________________________________________________________\n",
       "Conv2d               40 x 256 x 21 x 21   262,144    False     \n",
       "________________________________________________________________\n",
       "BatchNorm2d          40 x 256 x 21 x 21   512        True      \n",
       "________________________________________________________________\n",
       "Conv2d               40 x 256 x 21 x 21   589,824    False     \n",
       "________________________________________________________________\n",
       "BatchNorm2d          40 x 256 x 21 x 21   512        True      \n",
       "________________________________________________________________\n",
       "Conv2d               40 x 1024 x 21 x 21  262,144    False     \n",
       "________________________________________________________________\n",
       "BatchNorm2d          40 x 1024 x 21 x 21  2,048      True      \n",
       "________________________________________________________________\n",
       "ReLU                 40 x 1024 x 21 x 21  0          False     \n",
       "________________________________________________________________\n",
       "Conv2d               40 x 256 x 21 x 21   262,144    False     \n",
       "________________________________________________________________\n",
       "BatchNorm2d          40 x 256 x 21 x 21   512        True      \n",
       "________________________________________________________________\n",
       "Conv2d               40 x 256 x 21 x 21   589,824    False     \n",
       "________________________________________________________________\n",
       "BatchNorm2d          40 x 256 x 21 x 21   512        True      \n",
       "________________________________________________________________\n",
       "Conv2d               40 x 1024 x 21 x 21  262,144    False     \n",
       "________________________________________________________________\n",
       "BatchNorm2d          40 x 1024 x 21 x 21  2,048      True      \n",
       "________________________________________________________________\n",
       "ReLU                 40 x 1024 x 21 x 21  0          False     \n",
       "________________________________________________________________\n",
       "Conv2d               40 x 512 x 21 x 21   524,288    False     \n",
       "________________________________________________________________\n",
       "BatchNorm2d          40 x 512 x 21 x 21   1,024      True      \n",
       "________________________________________________________________\n",
       "Conv2d               40 x 512 x 11 x 11   2,359,296  False     \n",
       "________________________________________________________________\n",
       "BatchNorm2d          40 x 512 x 11 x 11   1,024      True      \n",
       "________________________________________________________________\n",
       "Conv2d               40 x 2048 x 11 x 11  1,048,576  False     \n",
       "________________________________________________________________\n",
       "BatchNorm2d          40 x 2048 x 11 x 11  4,096      True      \n",
       "________________________________________________________________\n",
       "ReLU                 40 x 2048 x 11 x 11  0          False     \n",
       "________________________________________________________________\n",
       "Conv2d               40 x 2048 x 11 x 11  2,097,152  False     \n",
       "________________________________________________________________\n",
       "BatchNorm2d          40 x 2048 x 11 x 11  4,096      True      \n",
       "________________________________________________________________\n",
       "Conv2d               40 x 512 x 11 x 11   1,048,576  False     \n",
       "________________________________________________________________\n",
       "BatchNorm2d          40 x 512 x 11 x 11   1,024      True      \n",
       "________________________________________________________________\n",
       "Conv2d               40 x 512 x 11 x 11   2,359,296  False     \n",
       "________________________________________________________________\n",
       "BatchNorm2d          40 x 512 x 11 x 11   1,024      True      \n",
       "________________________________________________________________\n",
       "Conv2d               40 x 2048 x 11 x 11  1,048,576  False     \n",
       "________________________________________________________________\n",
       "BatchNorm2d          40 x 2048 x 11 x 11  4,096      True      \n",
       "________________________________________________________________\n",
       "ReLU                 40 x 2048 x 11 x 11  0          False     \n",
       "________________________________________________________________\n",
       "Conv2d               40 x 512 x 11 x 11   1,048,576  False     \n",
       "________________________________________________________________\n",
       "BatchNorm2d          40 x 512 x 11 x 11   1,024      True      \n",
       "________________________________________________________________\n",
       "Conv2d               40 x 512 x 11 x 11   2,359,296  False     \n",
       "________________________________________________________________\n",
       "BatchNorm2d          40 x 512 x 11 x 11   1,024      True      \n",
       "________________________________________________________________\n",
       "Conv2d               40 x 2048 x 11 x 11  1,048,576  False     \n",
       "________________________________________________________________\n",
       "BatchNorm2d          40 x 2048 x 11 x 11  4,096      True      \n",
       "________________________________________________________________\n",
       "ReLU                 40 x 2048 x 11 x 11  0          False     \n",
       "________________________________________________________________\n",
       "AdaptiveAvgPool2d    40 x 2048 x 1 x 1    0          False     \n",
       "________________________________________________________________\n",
       "AdaptiveMaxPool2d    40 x 2048 x 1 x 1    0          False     \n",
       "________________________________________________________________\n",
       "Flatten              40 x 4096            0          False     \n",
       "________________________________________________________________\n",
       "BatchNorm1d          40 x 4096            8,192      True      \n",
       "________________________________________________________________\n",
       "Dropout              40 x 4096            0          False     \n",
       "________________________________________________________________\n",
       "Linear               40 x 512             2,097,152  True      \n",
       "________________________________________________________________\n",
       "ReLU                 40 x 512             0          False     \n",
       "________________________________________________________________\n",
       "BatchNorm1d          40 x 512             1,024      True      \n",
       "________________________________________________________________\n",
       "Dropout              40 x 512             0          False     \n",
       "________________________________________________________________\n",
       "Linear               40 x 1000            512,000    True      \n",
       "________________________________________________________________\n",
       "\n",
       "Total params: 51,809,920\n",
       "Total trainable params: 2,733,824\n",
       "Total non-trainable params: 49,076,096\n",
       "\n",
       "Optimizer used: <function Adam at 0x7fb81c76e670>\n",
       "Loss function: <function loss_func at 0x7fb817868f70>\n",
       "\n",
       "Model frozen up to parameter group #11\n",
       "\n",
       "Callbacks:\n",
       "  - ModelToHalf\n",
       "  - TrainEvalCallback\n",
       "  - Recorder\n",
       "  - ProgressCallback\n",
       "  - MixedPrecision"
      ]
     },
     "execution_count": 24,
     "metadata": {},
     "output_type": "execute_result"
    }
   ],
   "source": [
    "learn.summary()"
   ]
  },
  {
   "cell_type": "markdown",
   "metadata": {},
   "source": [
    "Entrenamos el modelo congelado para ajustar los pesos de las últimas capas a nuestras clases, y descongelamos el modelo."
   ]
  },
  {
   "cell_type": "code",
   "execution_count": 25,
   "metadata": {
    "scrolled": true
   },
   "outputs": [
    {
     "data": {
      "text/html": [
       "<table border=\"1\" class=\"dataframe\">\n",
       "  <thead>\n",
       "    <tr style=\"text-align: left;\">\n",
       "      <th>epoch</th>\n",
       "      <th>train_loss</th>\n",
       "      <th>valid_loss</th>\n",
       "      <th>custom_accuracy</th>\n",
       "      <th>time</th>\n",
       "    </tr>\n",
       "  </thead>\n",
       "  <tbody>\n",
       "    <tr>\n",
       "      <td>0</td>\n",
       "      <td>8.061160</td>\n",
       "      <td>6.882143</td>\n",
       "      <td>0.429864</td>\n",
       "      <td>42:35</td>\n",
       "    </tr>\n",
       "  </tbody>\n",
       "</table>"
      ],
      "text/plain": [
       "<IPython.core.display.HTML object>"
      ]
     },
     "metadata": {},
     "output_type": "display_data"
    }
   ],
   "source": [
    "learn.fit(1, 3e-3)"
   ]
  },
  {
   "cell_type": "code",
   "execution_count": 26,
   "metadata": {
    "scrolled": true
   },
   "outputs": [
    {
     "data": {
      "text/plain": [
       "Path('models/species1000-linkedcnn-exp5-resnet50-fepochs1-uepochs0.pth')"
      ]
     },
     "execution_count": 26,
     "metadata": {},
     "output_type": "execute_result"
    }
   ],
   "source": [
    "learn.save('species1000-linkedcnn-exp5-resnet50-fepochs1-uepochs0')"
   ]
  },
  {
   "cell_type": "code",
   "execution_count": 27,
   "metadata": {},
   "outputs": [],
   "source": [
    "learn.unfreeze()"
   ]
  },
  {
   "cell_type": "markdown",
   "metadata": {},
   "source": [
    "Buscamos el factor de aprendizaje más adecuado con lr_find."
   ]
  },
  {
   "cell_type": "code",
   "execution_count": 29,
   "metadata": {},
   "outputs": [
    {
     "data": {
      "text/html": [],
      "text/plain": [
       "<IPython.core.display.HTML object>"
      ]
     },
     "metadata": {},
     "output_type": "display_data"
    },
    {
     "data": {
      "text/plain": [
       "SuggestedLRs(lr_min=1.0964782268274575e-05, lr_steep=3.311311274956097e-06)"
      ]
     },
     "execution_count": 29,
     "metadata": {},
     "output_type": "execute_result"
    },
    {
     "data": {
      "image/png": "[encoded data removed]",
      "text/plain": [
       "<Figure size 432x288 with 1 Axes>"
      ]
     },
     "metadata": {
      "needs_background": "light"
     },
     "output_type": "display_data"
    }
   ],
   "source": [
    "learn.lr_find()"
   ]
  },
  {
   "cell_type": "markdown",
   "metadata": {},
   "source": [
    "Defimos una función para continuar el aprendizaje con los pesos guardados."
   ]
  },
  {
   "cell_type": "code",
   "execution_count": 28,
   "metadata": {},
   "outputs": [],
   "source": [
    "def continue_training(pth_filename):\n",
    "    learn = Learner(dls, model, loss_func=loss_func, metrics=custom_accuracy,\n",
    "                   splitter=custom_splitter).to_fp16()\n",
    "    learn.load(pth_filename)\n",
    "    learn.unfreeze()\n",
    "    return learn"
   ]
  },
  {
   "cell_type": "markdown",
   "metadata": {},
   "source": [
    "Entrenamos durante 30 épocas con el factor de aprendizaje máximo adecuado según la visualización del buscador de factores de aprendizaje, guardando los pesos del entrenamiento en cada 5 épocas."
   ]
  },
  {
   "cell_type": "code",
   "execution_count": 30,
   "metadata": {},
   "outputs": [
    {
     "data": {
      "text/html": [
       "<table border=\"1\" class=\"dataframe\">\n",
       "  <thead>\n",
       "    <tr style=\"text-align: left;\">\n",
       "      <th>epoch</th>\n",
       "      <th>train_loss</th>\n",
       "      <th>valid_loss</th>\n",
       "      <th>custom_accuracy</th>\n",
       "      <th>time</th>\n",
       "    </tr>\n",
       "  </thead>\n",
       "  <tbody>\n",
       "    <tr>\n",
       "      <td>0</td>\n",
       "      <td>5.903616</td>\n",
       "      <td>5.135316</td>\n",
       "      <td>0.556777</td>\n",
       "      <td>52:06</td>\n",
       "    </tr>\n",
       "    <tr>\n",
       "      <td>1</td>\n",
       "      <td>5.397610</td>\n",
       "      <td>4.493058</td>\n",
       "      <td>0.595540</td>\n",
       "      <td>51:54</td>\n",
       "    </tr>\n",
       "    <tr>\n",
       "      <td>2</td>\n",
       "      <td>4.774480</td>\n",
       "      <td>4.085429</td>\n",
       "      <td>0.625491</td>\n",
       "      <td>52:24</td>\n",
       "    </tr>\n",
       "    <tr>\n",
       "      <td>3</td>\n",
       "      <td>4.543320</td>\n",
       "      <td>3.817581</td>\n",
       "      <td>0.641290</td>\n",
       "      <td>52:26</td>\n",
       "    </tr>\n",
       "    <tr>\n",
       "      <td>4</td>\n",
       "      <td>4.290883</td>\n",
       "      <td>3.597607</td>\n",
       "      <td>0.650658</td>\n",
       "      <td>52:40</td>\n",
       "    </tr>\n",
       "  </tbody>\n",
       "</table>"
      ],
      "text/plain": [
       "<IPython.core.display.HTML object>"
      ]
     },
     "metadata": {},
     "output_type": "display_data"
    },
    {
     "data": {
      "text/plain": [
       "Path('models/species1000-linkedcnn-exp5-resnet50-fepochs1-uepochs5.pth')"
      ]
     },
     "execution_count": 30,
     "metadata": {},
     "output_type": "execute_result"
    }
   ],
   "source": [
    "learn.fit(5, slice(1e-6,1e-4))\n",
    "learn.save('species1000-linkedcnn-exp5-resnet50-fepochs1-uepochs5')"
   ]
  },
  {
   "cell_type": "code",
   "execution_count": 31,
   "metadata": {},
   "outputs": [
    {
     "data": {
      "text/html": [
       "<table border=\"1\" class=\"dataframe\">\n",
       "  <thead>\n",
       "    <tr style=\"text-align: left;\">\n",
       "      <th>epoch</th>\n",
       "      <th>train_loss</th>\n",
       "      <th>valid_loss</th>\n",
       "      <th>custom_accuracy</th>\n",
       "      <th>time</th>\n",
       "    </tr>\n",
       "  </thead>\n",
       "  <tbody>\n",
       "    <tr>\n",
       "      <td>0</td>\n",
       "      <td>4.159936</td>\n",
       "      <td>3.433912</td>\n",
       "      <td>0.666126</td>\n",
       "      <td>52:37</td>\n",
       "    </tr>\n",
       "    <tr>\n",
       "      <td>1</td>\n",
       "      <td>3.880138</td>\n",
       "      <td>3.281006</td>\n",
       "      <td>0.673694</td>\n",
       "      <td>52:31</td>\n",
       "    </tr>\n",
       "    <tr>\n",
       "      <td>2</td>\n",
       "      <td>3.576114</td>\n",
       "      <td>3.161514</td>\n",
       "      <td>0.683275</td>\n",
       "      <td>52:37</td>\n",
       "    </tr>\n",
       "    <tr>\n",
       "      <td>3</td>\n",
       "      <td>3.587556</td>\n",
       "      <td>3.027419</td>\n",
       "      <td>0.690428</td>\n",
       "      <td>52:09</td>\n",
       "    </tr>\n",
       "    <tr>\n",
       "      <td>4</td>\n",
       "      <td>3.412127</td>\n",
       "      <td>2.959580</td>\n",
       "      <td>0.699216</td>\n",
       "      <td>51:38</td>\n",
       "    </tr>\n",
       "  </tbody>\n",
       "</table>"
      ],
      "text/plain": [
       "<IPython.core.display.HTML object>"
      ]
     },
     "metadata": {},
     "output_type": "display_data"
    },
    {
     "data": {
      "text/plain": [
       "Path('models/species1000-linkedcnn-exp5-resnet50-fepochs1-uepochs10.pth')"
      ]
     },
     "execution_count": 31,
     "metadata": {},
     "output_type": "execute_result"
    }
   ],
   "source": [
    "learn.fit(5, slice(1e-6,1e-4))\n",
    "learn.save('species1000-linkedcnn-exp5-resnet50-fepochs1-uepochs10')"
   ]
  },
  {
   "cell_type": "code",
   "execution_count": null,
   "metadata": {},
   "outputs": [],
   "source": [
    "learn = continue_training('species1000-linkedcnn-exp5-resnet50-fepochs1-uepochs10')"
   ]
  },
  {
   "cell_type": "code",
   "execution_count": 32,
   "metadata": {},
   "outputs": [
    {
     "data": {
      "text/html": [
       "<table border=\"1\" class=\"dataframe\">\n",
       "  <thead>\n",
       "    <tr style=\"text-align: left;\">\n",
       "      <th>epoch</th>\n",
       "      <th>train_loss</th>\n",
       "      <th>valid_loss</th>\n",
       "      <th>custom_accuracy</th>\n",
       "      <th>time</th>\n",
       "    </tr>\n",
       "  </thead>\n",
       "  <tbody>\n",
       "    <tr>\n",
       "      <td>0</td>\n",
       "      <td>3.377788</td>\n",
       "      <td>3.143577</td>\n",
       "      <td>0.695556</td>\n",
       "      <td>52:09</td>\n",
       "    </tr>\n",
       "    <tr>\n",
       "      <td>1</td>\n",
       "      <td>3.172823</td>\n",
       "      <td>3.205121</td>\n",
       "      <td>0.704557</td>\n",
       "      <td>52:34</td>\n",
       "    </tr>\n",
       "    <tr>\n",
       "      <td>2</td>\n",
       "      <td>2.989463</td>\n",
       "      <td>2.784154</td>\n",
       "      <td>0.710088</td>\n",
       "      <td>52:29</td>\n",
       "    </tr>\n",
       "    <tr>\n",
       "      <td>3</td>\n",
       "      <td>3.053378</td>\n",
       "      <td>2.739921</td>\n",
       "      <td>0.712101</td>\n",
       "      <td>52:33</td>\n",
       "    </tr>\n",
       "    <tr>\n",
       "      <td>4</td>\n",
       "      <td>2.809557</td>\n",
       "      <td>2.697032</td>\n",
       "      <td>0.719788</td>\n",
       "      <td>51:55</td>\n",
       "    </tr>\n",
       "  </tbody>\n",
       "</table>"
      ],
      "text/plain": [
       "<IPython.core.display.HTML object>"
      ]
     },
     "metadata": {},
     "output_type": "display_data"
    },
    {
     "data": {
      "text/plain": [
       "Path('models/species1000-linkedcnn-exp5-resnet50-fepochs1-uepochs15.pth')"
      ]
     },
     "execution_count": 32,
     "metadata": {},
     "output_type": "execute_result"
    }
   ],
   "source": [
    "learn.fit(5, slice(1e-6,1e-4))\n",
    "learn.save('species1000-linkedcnn-exp5-resnet50-fepochs1-uepochs15')"
   ]
  },
  {
   "cell_type": "code",
   "execution_count": null,
   "metadata": {},
   "outputs": [],
   "source": [
    "learn.export('species1000-linkedcnn-exp5-resnet50-fepochs1-uepochs15')"
   ]
  },
  {
   "cell_type": "code",
   "execution_count": 33,
   "metadata": {},
   "outputs": [
    {
     "data": {
      "text/html": [
       "<table border=\"1\" class=\"dataframe\">\n",
       "  <thead>\n",
       "    <tr style=\"text-align: left;\">\n",
       "      <th>epoch</th>\n",
       "      <th>train_loss</th>\n",
       "      <th>valid_loss</th>\n",
       "      <th>custom_accuracy</th>\n",
       "      <th>time</th>\n",
       "    </tr>\n",
       "  </thead>\n",
       "  <tbody>\n",
       "    <tr>\n",
       "      <td>0</td>\n",
       "      <td>2.793202</td>\n",
       "      <td>2.655544</td>\n",
       "      <td>0.715690</td>\n",
       "      <td>51:40</td>\n",
       "    </tr>\n",
       "    <tr>\n",
       "      <td>1</td>\n",
       "      <td>2.758117</td>\n",
       "      <td>2.871842</td>\n",
       "      <td>0.724300</td>\n",
       "      <td>51:42</td>\n",
       "    </tr>\n",
       "    <tr>\n",
       "      <td>2</td>\n",
       "      <td>2.544839</td>\n",
       "      <td>2.543881</td>\n",
       "      <td>0.726716</td>\n",
       "      <td>51:41</td>\n",
       "    </tr>\n",
       "    <tr>\n",
       "      <td>3</td>\n",
       "      <td>2.618727</td>\n",
       "      <td>2.528340</td>\n",
       "      <td>0.730838</td>\n",
       "      <td>51:57</td>\n",
       "    </tr>\n",
       "    <tr>\n",
       "      <td>4</td>\n",
       "      <td>2.506792</td>\n",
       "      <td>2.498701</td>\n",
       "      <td>0.730210</td>\n",
       "      <td>51:39</td>\n",
       "    </tr>\n",
       "  </tbody>\n",
       "</table>"
      ],
      "text/plain": [
       "<IPython.core.display.HTML object>"
      ]
     },
     "metadata": {},
     "output_type": "display_data"
    },
    {
     "data": {
      "text/plain": [
       "Path('models/species1000-linkedcnn-exp5-resnet50-fepochs1-uepochs20.pth')"
      ]
     },
     "execution_count": 33,
     "metadata": {},
     "output_type": "execute_result"
    }
   ],
   "source": [
    "learn.fit(5, slice(1e-6,1e-4))\n",
    "learn.save('species1000-linkedcnn-exp5-resnet50-fepochs1-uepochs20')"
   ]
  },
  {
   "cell_type": "code",
   "execution_count": 34,
   "metadata": {},
   "outputs": [],
   "source": [
    "learn.export('species1000-linkedcnn-exp5-resnet50-fepochs1-uepochs20')"
   ]
  },
  {
   "cell_type": "code",
   "execution_count": null,
   "metadata": {},
   "outputs": [],
   "source": [
    "learn = continue_training('species1000-linkedcnn-exp5-resnet50-fepochs1-uepochs20')"
   ]
  },
  {
   "cell_type": "code",
   "execution_count": 35,
   "metadata": {},
   "outputs": [
    {
     "data": {
      "text/html": [
       "<table border=\"1\" class=\"dataframe\">\n",
       "  <thead>\n",
       "    <tr style=\"text-align: left;\">\n",
       "      <th>epoch</th>\n",
       "      <th>train_loss</th>\n",
       "      <th>valid_loss</th>\n",
       "      <th>custom_accuracy</th>\n",
       "      <th>time</th>\n",
       "    </tr>\n",
       "  </thead>\n",
       "  <tbody>\n",
       "    <tr>\n",
       "      <td>0</td>\n",
       "      <td>2.610133</td>\n",
       "      <td>2.578303</td>\n",
       "      <td>0.727723</td>\n",
       "      <td>51:45</td>\n",
       "    </tr>\n",
       "    <tr>\n",
       "      <td>1</td>\n",
       "      <td>2.483581</td>\n",
       "      <td>2.836633</td>\n",
       "      <td>0.732863</td>\n",
       "      <td>51:44</td>\n",
       "    </tr>\n",
       "    <tr>\n",
       "      <td>2</td>\n",
       "      <td>2.318559</td>\n",
       "      <td>2.441460</td>\n",
       "      <td>0.739744</td>\n",
       "      <td>52:14</td>\n",
       "    </tr>\n",
       "    <tr>\n",
       "      <td>3</td>\n",
       "      <td>2.290324</td>\n",
       "      <td>2.404805</td>\n",
       "      <td>0.744161</td>\n",
       "      <td>52:09</td>\n",
       "    </tr>\n",
       "    <tr>\n",
       "      <td>4</td>\n",
       "      <td>2.229491</td>\n",
       "      <td>2.364922</td>\n",
       "      <td>0.741461</td>\n",
       "      <td>51:52</td>\n",
       "    </tr>\n",
       "  </tbody>\n",
       "</table>"
      ],
      "text/plain": [
       "<IPython.core.display.HTML object>"
      ]
     },
     "metadata": {},
     "output_type": "display_data"
    },
    {
     "data": {
      "text/plain": [
       "Path('models/species1000-linkedcnn-exp5-resnet50-fepochs1-uepochs25.pth')"
      ]
     },
     "execution_count": 35,
     "metadata": {},
     "output_type": "execute_result"
    }
   ],
   "source": [
    "learn.fit(5, slice(1e-6,1e-4))\n",
    "learn.save('species1000-linkedcnn-exp5-resnet50-fepochs1-uepochs25')"
   ]
  },
  {
   "cell_type": "code",
   "execution_count": 36,
   "metadata": {},
   "outputs": [],
   "source": [
    "learn.export('species1000-linkedcnn-exp5-resnet50-fepochs1-uepochs25')"
   ]
  },
  {
   "cell_type": "code",
   "execution_count": 37,
   "metadata": {},
   "outputs": [
    {
     "data": {
      "text/html": [
       "<table border=\"1\" class=\"dataframe\">\n",
       "  <thead>\n",
       "    <tr style=\"text-align: left;\">\n",
       "      <th>epoch</th>\n",
       "      <th>train_loss</th>\n",
       "      <th>valid_loss</th>\n",
       "      <th>custom_accuracy</th>\n",
       "      <th>time</th>\n",
       "    </tr>\n",
       "  </thead>\n",
       "  <tbody>\n",
       "    <tr>\n",
       "      <td>0</td>\n",
       "      <td>2.176553</td>\n",
       "      <td>2.417260</td>\n",
       "      <td>0.741686</td>\n",
       "      <td>51:57</td>\n",
       "    </tr>\n",
       "    <tr>\n",
       "      <td>1</td>\n",
       "      <td>2.197159</td>\n",
       "      <td>2.417892</td>\n",
       "      <td>0.740277</td>\n",
       "      <td>51:53</td>\n",
       "    </tr>\n",
       "    <tr>\n",
       "      <td>2</td>\n",
       "      <td>2.066685</td>\n",
       "      <td>2.354628</td>\n",
       "      <td>0.742527</td>\n",
       "      <td>51:48</td>\n",
       "    </tr>\n",
       "    <tr>\n",
       "      <td>3</td>\n",
       "      <td>2.038795</td>\n",
       "      <td>2.498085</td>\n",
       "      <td>0.743759</td>\n",
       "      <td>51:51</td>\n",
       "    </tr>\n",
       "    <tr>\n",
       "      <td>4</td>\n",
       "      <td>2.137685</td>\n",
       "      <td>2.435126</td>\n",
       "      <td>0.744007</td>\n",
       "      <td>51:58</td>\n",
       "    </tr>\n",
       "  </tbody>\n",
       "</table>"
      ],
      "text/plain": [
       "<IPython.core.display.HTML object>"
      ]
     },
     "metadata": {},
     "output_type": "display_data"
    },
    {
     "data": {
      "text/plain": [
       "Path('models/species1000-linkedcnn-exp5-resnet50-fepochs1-uepochs30.pth')"
      ]
     },
     "execution_count": 37,
     "metadata": {},
     "output_type": "execute_result"
    }
   ],
   "source": [
    "learn.fit(5, slice(1e-6,1e-4))\n",
    "learn.save('species1000-linkedcnn-exp5-resnet50-fepochs1-uepochs30')"
   ]
  },
  {
   "cell_type": "code",
   "execution_count": 38,
   "metadata": {},
   "outputs": [],
   "source": [
    "learn.export('species1000-linkedcnn-exp5-resnet50-fepochs1-uepochs30')"
   ]
  }
 ],
 "metadata": {
  "kernelspec": {
   "display_name": "Python 3",
   "language": "python",
   "name": "python3"
  },
  "language_info": {
   "codemirror_mode": {
    "name": "ipython",
    "version": 3
   },
   "file_extension": ".py",
   "mimetype": "text/x-python",
   "name": "python",
   "nbconvert_exporter": "python",
   "pygments_lexer": "ipython3",
   "version": "3.8.6"
  }
 },
 "nbformat": 4,
 "nbformat_minor": 4
}
