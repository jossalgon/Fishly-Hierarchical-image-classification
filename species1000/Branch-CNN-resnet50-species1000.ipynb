{
 "cells": [
  {
   "cell_type": "code",
   "execution_count": 1,
   "metadata": {
    "scrolled": true
   },
   "outputs": [],
   "source": [
    "from fastai.vision.all import *"
   ]
  },
  {
   "cell_type": "code",
   "execution_count": 2,
   "metadata": {},
   "outputs": [],
   "source": [
    "import os; os.environ['CUDA_VISIBLE_DEVICES']='0,1'"
   ]
  },
  {
   "cell_type": "code",
   "execution_count": 3,
   "metadata": {
    "scrolled": true
   },
   "outputs": [],
   "source": [
    "path = Path('/home/user/images')"
   ]
  },
  {
   "cell_type": "code",
   "execution_count": 4,
   "metadata": {
    "scrolled": true
   },
   "outputs": [
    {
     "data": {
      "text/plain": [
       "(#1000) [Path('/home/user/images/Bathygobius krefftii'),Path('/home/user/images/Oncorhynchus gorbuscha'),Path('/home/user/images/Chromis margaritifer'),Path('/home/user/images/Istigobius hoesei'),Path('/home/user/images/Abudefduf sordidus'),Path('/home/user/images/Acanthurus leucopareius'),Path('/home/user/images/Sphoeroides spengleri'),Path('/home/user/images/Orthopristis chrysoptera'),Path('/home/user/images/Etheostoma zonale'),Path('/home/user/images/Morone mississippiensis')...]"
      ]
     },
     "execution_count": 4,
     "metadata": {},
     "output_type": "execute_result"
    }
   ],
   "source": [
    "path.ls()"
   ]
  },
  {
   "cell_type": "code",
   "execution_count": 5,
   "metadata": {
    "scrolled": true
   },
   "outputs": [],
   "source": [
    "df_path = Path('/home/user/')"
   ]
  },
  {
   "cell_type": "code",
   "execution_count": 6,
   "metadata": {
    "scrolled": true
   },
   "outputs": [],
   "source": [
    "df = pd.read_csv(df_path/'csv/species1000-stratified.csv')"
   ]
  },
  {
   "cell_type": "code",
   "execution_count": 7,
   "metadata": {
    "scrolled": true
   },
   "outputs": [
    {
     "data": {
      "text/html": [
       "<div>\n",
       "<style scoped>\n",
       "    .dataframe tbody tr th:only-of-type {\n",
       "        vertical-align: middle;\n",
       "    }\n",
       "\n",
       "    .dataframe tbody tr th {\n",
       "        vertical-align: top;\n",
       "    }\n",
       "\n",
       "    .dataframe thead th {\n",
       "        text-align: right;\n",
       "    }\n",
       "</style>\n",
       "<table border=\"1\" class=\"dataframe\">\n",
       "  <thead>\n",
       "    <tr style=\"text-align: right;\">\n",
       "      <th></th>\n",
       "      <th>Order</th>\n",
       "      <th>Family</th>\n",
       "      <th>Subfamily</th>\n",
       "      <th>Genus</th>\n",
       "      <th>Specie</th>\n",
       "      <th>fname</th>\n",
       "      <th>is_valid</th>\n",
       "    </tr>\n",
       "  </thead>\n",
       "  <tbody>\n",
       "    <tr>\n",
       "      <th>0</th>\n",
       "      <td>Perciformes</td>\n",
       "      <td>Centrarchidae</td>\n",
       "      <td>NaN</td>\n",
       "      <td>Lepomis</td>\n",
       "      <td>Lepomis gibbosus</td>\n",
       "      <td>Lepomis gibbosus/1879321.jpg</td>\n",
       "      <td>False</td>\n",
       "    </tr>\n",
       "    <tr>\n",
       "      <th>1</th>\n",
       "      <td>Perciformes</td>\n",
       "      <td>Centrarchidae</td>\n",
       "      <td>NaN</td>\n",
       "      <td>Pomoxis</td>\n",
       "      <td>Pomoxis nigromaculatus</td>\n",
       "      <td>Pomoxis nigromaculatus/61056925.jpg</td>\n",
       "      <td>False</td>\n",
       "    </tr>\n",
       "    <tr>\n",
       "      <th>2</th>\n",
       "      <td>Perciformes</td>\n",
       "      <td>Centrarchidae</td>\n",
       "      <td>NaN</td>\n",
       "      <td>Lepomis</td>\n",
       "      <td>Lepomis miniatus</td>\n",
       "      <td>Lepomis miniatus/36578909.jpg</td>\n",
       "      <td>False</td>\n",
       "    </tr>\n",
       "    <tr>\n",
       "      <th>3</th>\n",
       "      <td>Cypriniformes</td>\n",
       "      <td>Cyprinidae</td>\n",
       "      <td>Leuciscinae</td>\n",
       "      <td>Scardinius</td>\n",
       "      <td>Scardinius erythrophthalmus</td>\n",
       "      <td>Scardinius erythrophthalmus/77068790.jpg</td>\n",
       "      <td>False</td>\n",
       "    </tr>\n",
       "    <tr>\n",
       "      <th>4</th>\n",
       "      <td>Perciformes</td>\n",
       "      <td>Acanthuridae</td>\n",
       "      <td>Acanthurinae</td>\n",
       "      <td>Acanthurus</td>\n",
       "      <td>Acanthurus olivaceus</td>\n",
       "      <td>Acanthurus olivaceus/14646458.jpg</td>\n",
       "      <td>False</td>\n",
       "    </tr>\n",
       "    <tr>\n",
       "      <th>...</th>\n",
       "      <td>...</td>\n",
       "      <td>...</td>\n",
       "      <td>...</td>\n",
       "      <td>...</td>\n",
       "      <td>...</td>\n",
       "      <td>...</td>\n",
       "      <td>...</td>\n",
       "    </tr>\n",
       "    <tr>\n",
       "      <th>422172</th>\n",
       "      <td>Perciformes</td>\n",
       "      <td>Acanthuridae</td>\n",
       "      <td>Acanthurinae</td>\n",
       "      <td>Acanthurus</td>\n",
       "      <td>Acanthurus coeruleus</td>\n",
       "      <td>Acanthurus coeruleus/33472582.jpg</td>\n",
       "      <td>True</td>\n",
       "    </tr>\n",
       "    <tr>\n",
       "      <th>422173</th>\n",
       "      <td>Perciformes</td>\n",
       "      <td>Gobiidae</td>\n",
       "      <td>Gobiinae</td>\n",
       "      <td>Amblyeleotris</td>\n",
       "      <td>Amblyeleotris steinitzi</td>\n",
       "      <td>Amblyeleotris steinitzi/3789141.jpg</td>\n",
       "      <td>True</td>\n",
       "    </tr>\n",
       "    <tr>\n",
       "      <th>422174</th>\n",
       "      <td>Perciformes</td>\n",
       "      <td>Percidae</td>\n",
       "      <td>Etheostomatinae</td>\n",
       "      <td>Etheostoma</td>\n",
       "      <td>Etheostoma caeruleum</td>\n",
       "      <td>Etheostoma caeruleum/40879890.jpg</td>\n",
       "      <td>True</td>\n",
       "    </tr>\n",
       "    <tr>\n",
       "      <th>422175</th>\n",
       "      <td>Perciformes</td>\n",
       "      <td>Kyphosidae</td>\n",
       "      <td>Microcanthinae</td>\n",
       "      <td>Tilodon</td>\n",
       "      <td>Tilodon sexfasciatus</td>\n",
       "      <td>Tilodon sexfasciatus/26825770.jpg</td>\n",
       "      <td>True</td>\n",
       "    </tr>\n",
       "    <tr>\n",
       "      <th>422176</th>\n",
       "      <td>Perciformes</td>\n",
       "      <td>Scaridae</td>\n",
       "      <td>Sparisomatinae</td>\n",
       "      <td>Sparisoma</td>\n",
       "      <td>Sparisoma viride</td>\n",
       "      <td>Sparisoma viride/48286026.jpg</td>\n",
       "      <td>True</td>\n",
       "    </tr>\n",
       "  </tbody>\n",
       "</table>\n",
       "<p>422177 rows × 7 columns</p>\n",
       "</div>"
      ],
      "text/plain": [
       "                Order         Family        Subfamily          Genus  \\\n",
       "0         Perciformes  Centrarchidae              NaN        Lepomis   \n",
       "1         Perciformes  Centrarchidae              NaN        Pomoxis   \n",
       "2         Perciformes  Centrarchidae              NaN        Lepomis   \n",
       "3       Cypriniformes     Cyprinidae      Leuciscinae     Scardinius   \n",
       "4         Perciformes   Acanthuridae     Acanthurinae     Acanthurus   \n",
       "...               ...            ...              ...            ...   \n",
       "422172    Perciformes   Acanthuridae     Acanthurinae     Acanthurus   \n",
       "422173    Perciformes       Gobiidae         Gobiinae  Amblyeleotris   \n",
       "422174    Perciformes       Percidae  Etheostomatinae     Etheostoma   \n",
       "422175    Perciformes     Kyphosidae   Microcanthinae        Tilodon   \n",
       "422176    Perciformes       Scaridae   Sparisomatinae      Sparisoma   \n",
       "\n",
       "                             Specie                                     fname  \\\n",
       "0                  Lepomis gibbosus              Lepomis gibbosus/1879321.jpg   \n",
       "1            Pomoxis nigromaculatus       Pomoxis nigromaculatus/61056925.jpg   \n",
       "2                  Lepomis miniatus             Lepomis miniatus/36578909.jpg   \n",
       "3       Scardinius erythrophthalmus  Scardinius erythrophthalmus/77068790.jpg   \n",
       "4              Acanthurus olivaceus         Acanthurus olivaceus/14646458.jpg   \n",
       "...                             ...                                       ...   \n",
       "422172         Acanthurus coeruleus         Acanthurus coeruleus/33472582.jpg   \n",
       "422173      Amblyeleotris steinitzi       Amblyeleotris steinitzi/3789141.jpg   \n",
       "422174         Etheostoma caeruleum         Etheostoma caeruleum/40879890.jpg   \n",
       "422175         Tilodon sexfasciatus         Tilodon sexfasciatus/26825770.jpg   \n",
       "422176             Sparisoma viride             Sparisoma viride/48286026.jpg   \n",
       "\n",
       "        is_valid  \n",
       "0          False  \n",
       "1          False  \n",
       "2          False  \n",
       "3          False  \n",
       "4          False  \n",
       "...          ...  \n",
       "422172      True  \n",
       "422173      True  \n",
       "422174      True  \n",
       "422175      True  \n",
       "422176      True  \n",
       "\n",
       "[422177 rows x 7 columns]"
      ]
     },
     "execution_count": 7,
     "metadata": {},
     "output_type": "execute_result"
    }
   ],
   "source": [
    "df"
   ]
  },
  {
   "cell_type": "code",
   "execution_count": 8,
   "metadata": {},
   "outputs": [],
   "source": [
    "weights_df = pd.read_csv(df_path/'csv/species1000-weights.csv')\n",
    "weights_family_df = pd.read_csv(df_path/'csv/species1000-weights-family.csv')\n",
    "weights_genus_df = pd.read_csv(df_path/'csv/species1000-weights-genus.csv')\n",
    "weights_order_df = pd.read_csv(df_path/'csv/species1000-weights-order.csv')"
   ]
  },
  {
   "cell_type": "code",
   "execution_count": 9,
   "metadata": {},
   "outputs": [
    {
     "data": {
      "text/html": [
       "<div>\n",
       "<style scoped>\n",
       "    .dataframe tbody tr th:only-of-type {\n",
       "        vertical-align: middle;\n",
       "    }\n",
       "\n",
       "    .dataframe tbody tr th {\n",
       "        vertical-align: top;\n",
       "    }\n",
       "\n",
       "    .dataframe thead th {\n",
       "        text-align: right;\n",
       "    }\n",
       "</style>\n",
       "<table border=\"1\" class=\"dataframe\">\n",
       "  <thead>\n",
       "    <tr style=\"text-align: right;\">\n",
       "      <th></th>\n",
       "      <th>Specie</th>\n",
       "      <th>Count</th>\n",
       "      <th>Weight</th>\n",
       "    </tr>\n",
       "  </thead>\n",
       "  <tbody>\n",
       "    <tr>\n",
       "      <th>0</th>\n",
       "      <td>Abramis brama</td>\n",
       "      <td>319</td>\n",
       "      <td>1.323439</td>\n",
       "    </tr>\n",
       "    <tr>\n",
       "      <th>1</th>\n",
       "      <td>Abudefduf abdominalis</td>\n",
       "      <td>221</td>\n",
       "      <td>1.910303</td>\n",
       "    </tr>\n",
       "    <tr>\n",
       "      <th>2</th>\n",
       "      <td>Abudefduf bengalensis</td>\n",
       "      <td>323</td>\n",
       "      <td>1.307050</td>\n",
       "    </tr>\n",
       "    <tr>\n",
       "      <th>3</th>\n",
       "      <td>Abudefduf saxatilis</td>\n",
       "      <td>1692</td>\n",
       "      <td>0.249514</td>\n",
       "    </tr>\n",
       "    <tr>\n",
       "      <th>4</th>\n",
       "      <td>Abudefduf septemfasciatus</td>\n",
       "      <td>149</td>\n",
       "      <td>2.833403</td>\n",
       "    </tr>\n",
       "    <tr>\n",
       "      <th>...</th>\n",
       "      <td>...</td>\n",
       "      <td>...</td>\n",
       "      <td>...</td>\n",
       "    </tr>\n",
       "    <tr>\n",
       "      <th>995</th>\n",
       "      <td>Zanclus cornutus</td>\n",
       "      <td>1966</td>\n",
       "      <td>0.214739</td>\n",
       "    </tr>\n",
       "    <tr>\n",
       "      <th>996</th>\n",
       "      <td>Zebrasoma desjardinii</td>\n",
       "      <td>166</td>\n",
       "      <td>2.543235</td>\n",
       "    </tr>\n",
       "    <tr>\n",
       "      <th>997</th>\n",
       "      <td>Zebrasoma flavescens</td>\n",
       "      <td>561</td>\n",
       "      <td>0.752544</td>\n",
       "    </tr>\n",
       "    <tr>\n",
       "      <th>998</th>\n",
       "      <td>Zebrasoma scopas</td>\n",
       "      <td>276</td>\n",
       "      <td>1.529627</td>\n",
       "    </tr>\n",
       "    <tr>\n",
       "      <th>999</th>\n",
       "      <td>Zebrasoma velifer</td>\n",
       "      <td>500</td>\n",
       "      <td>0.844354</td>\n",
       "    </tr>\n",
       "  </tbody>\n",
       "</table>\n",
       "<p>1000 rows × 3 columns</p>\n",
       "</div>"
      ],
      "text/plain": [
       "                        Specie  Count    Weight\n",
       "0                Abramis brama    319  1.323439\n",
       "1        Abudefduf abdominalis    221  1.910303\n",
       "2        Abudefduf bengalensis    323  1.307050\n",
       "3          Abudefduf saxatilis   1692  0.249514\n",
       "4    Abudefduf septemfasciatus    149  2.833403\n",
       "..                         ...    ...       ...\n",
       "995           Zanclus cornutus   1966  0.214739\n",
       "996      Zebrasoma desjardinii    166  2.543235\n",
       "997       Zebrasoma flavescens    561  0.752544\n",
       "998           Zebrasoma scopas    276  1.529627\n",
       "999          Zebrasoma velifer    500  0.844354\n",
       "\n",
       "[1000 rows x 3 columns]"
      ]
     },
     "execution_count": 9,
     "metadata": {},
     "output_type": "execute_result"
    }
   ],
   "source": [
    "weights_df"
   ]
  },
  {
   "cell_type": "markdown",
   "metadata": {},
   "source": [
    "# Non-branch"
   ]
  },
  {
   "cell_type": "code",
   "execution_count": 10,
   "metadata": {
    "scrolled": true
   },
   "outputs": [],
   "source": [
    "fishes = DataBlock(blocks = (ImageBlock, CategoryBlock),\n",
    "                 splitter=ColSplitter(),\n",
    "                 get_x = ColReader(5, pref=path),\n",
    "                 get_y=ColReader(4),\n",
    "                 item_tfms=RandomResizedCrop(336, min_scale=0.5),\n",
    "                 batch_tfms=aug_transforms())\n",
    "dls = fishes.dataloaders(df, bs=64)"
   ]
  },
  {
   "cell_type": "code",
   "execution_count": 11,
   "metadata": {
    "scrolled": false
   },
   "outputs": [
    {
     "data": {
      "text/plain": [
       "((#337741) [(PILImage mode=RGB size=768x1024, TensorCategory(531)),(PILImage mode=RGB size=1024x738, TensorCategory(776)),(PILImage mode=RGB size=768x1024, TensorCategory(538)),(PILImage mode=RGB size=768x1024, TensorCategory(837)),(PILImage mode=RGB size=1024x786, TensorCategory(32)),(PILImage mode=RGB size=1024x683, TensorCategory(145)),(PILImage mode=RGB size=768x1024, TensorCategory(827)),(PILImage mode=RGB size=1024x697, TensorCategory(792)),(PILImage mode=RGB size=1024x768, TensorCategory(784)),(PILImage mode=RGB size=1024x768, TensorCategory(522))...],\n",
       " (#84436) [(PILImage mode=RGB size=576x1024, TensorCategory(826)),(PILImage mode=RGB size=512x320, TensorCategory(296)),(PILImage mode=RGB size=1024x768, TensorCategory(283)),(PILImage mode=RGB size=1024x683, TensorCategory(223)),(PILImage mode=RGB size=1024x683, TensorCategory(333)),(PILImage mode=RGB size=1024x768, TensorCategory(272)),(PILImage mode=RGB size=1024x576, TensorCategory(163)),(PILImage mode=RGB size=1024x768, TensorCategory(827)),(PILImage mode=RGB size=1024x768, TensorCategory(868)),(PILImage mode=RGB size=768x1024, TensorCategory(816))...])"
      ]
     },
     "execution_count": 11,
     "metadata": {},
     "output_type": "execute_result"
    }
   ],
   "source": [
    "dls.train_ds, dls.valid_ds"
   ]
  },
  {
   "cell_type": "code",
   "execution_count": 12,
   "metadata": {
    "scrolled": true
   },
   "outputs": [
    {
     "data": {
      "image/png": "[encoded data removed]",
      "text/plain": [
       "<Figure size 648x648 with 9 Axes>"
      ]
     },
     "metadata": {
      "needs_background": "light"
     },
     "output_type": "display_data"
    }
   ],
   "source": [
    "dls.show_batch(nrows=3, ncols=3)"
   ]
  },
  {
   "cell_type": "code",
   "execution_count": 13,
   "metadata": {
    "scrolled": true
   },
   "outputs": [],
   "source": [
    "class Resnet50CustomModel(Module):\n",
    "    def __init__(self, encoder, head):\n",
    "        self.encoder = encoder\n",
    "        self.head = head\n",
    "    \n",
    "    def forward(self, x):\n",
    "        x = self.encoder(x)\n",
    "        x = self.head(x)\n",
    "        return x"
   ]
  },
  {
   "cell_type": "code",
   "execution_count": 14,
   "metadata": {
    "scrolled": true
   },
   "outputs": [],
   "source": [
    "def custom_splitter(model):\n",
    "    return [params(model.encoder),\n",
    "            params(model.head)]"
   ]
  },
  {
   "cell_type": "code",
   "execution_count": 15,
   "metadata": {
    "scrolled": true
   },
   "outputs": [
    {
     "data": {
      "text/plain": [
       "{'cut': -2,\n",
       " 'split': <function fastai.vision.learner._resnet_split(m)>,\n",
       " 'stats': ([0.485, 0.456, 0.406], [0.229, 0.224, 0.225])}"
      ]
     },
     "execution_count": 15,
     "metadata": {},
     "output_type": "execute_result"
    }
   ],
   "source": [
    "model_meta[resnet50]"
   ]
  },
  {
   "cell_type": "code",
   "execution_count": 16,
   "metadata": {
    "scrolled": true
   },
   "outputs": [
    {
     "name": "stderr",
     "output_type": "stream",
     "text": [
      "Downloading: \"https://download.pytorch.org/models/resnet50-19c8e357.pth\" to /home/user/.cache/torch/hub/checkpoints/resnet50-19c8e357.pth\n"
     ]
    },
    {
     "data": {
      "application/vnd.jupyter.widget-view+json": {
       "model_id": "59bdd212f39041b3a0b10ddc85916864",
       "version_major": 2,
       "version_minor": 0
      },
      "text/plain": [
       "HBox(children=(FloatProgress(value=0.0, max=102502400.0), HTML(value='')))"
      ]
     },
     "metadata": {},
     "output_type": "display_data"
    },
    {
     "name": "stdout",
     "output_type": "stream",
     "text": [
      "\n"
     ]
    }
   ],
   "source": [
    "model = resnet50\n",
    "body = create_body(model, cut=-2)\n",
    "head = create_head(2048*2,dls.c)"
   ]
  },
  {
   "cell_type": "code",
   "execution_count": 17,
   "metadata": {
    "scrolled": true
   },
   "outputs": [],
   "source": [
    "model = Resnet50CustomModel(body, head)"
   ]
  },
  {
   "cell_type": "code",
   "execution_count": 18,
   "metadata": {},
   "outputs": [],
   "source": [
    "weights = tensor([float(weights_df[weights_df['Specie']==c]['Weight']) for c in dls.vocab]).cuda()"
   ]
  },
  {
   "cell_type": "code",
   "execution_count": 21,
   "metadata": {
    "scrolled": true
   },
   "outputs": [],
   "source": [
    "learn = Learner(dls, model, loss_func=nn.CrossEntropyLoss(weight=weights), metrics=accuracy,\n",
    "                   splitter=custom_splitter).to_fp16()\n",
    "learn.freeze()"
   ]
  },
  {
   "cell_type": "code",
   "execution_count": 22,
   "metadata": {
    "scrolled": true
   },
   "outputs": [
    {
     "data": {
      "text/html": [
       "<table border=\"1\" class=\"dataframe\">\n",
       "  <thead>\n",
       "    <tr style=\"text-align: left;\">\n",
       "      <th>epoch</th>\n",
       "      <th>train_loss</th>\n",
       "      <th>valid_loss</th>\n",
       "      <th>accuracy</th>\n",
       "      <th>time</th>\n",
       "    </tr>\n",
       "  </thead>\n",
       "  <tbody>\n",
       "    <tr>\n",
       "      <td>0</td>\n",
       "      <td>None</td>\n",
       "      <td>None</td>\n",
       "      <td>00:00</td>\n",
       "    </tr>\n",
       "  </tbody>\n",
       "</table>"
      ],
      "text/plain": [
       "<IPython.core.display.HTML object>"
      ]
     },
     "metadata": {},
     "output_type": "display_data"
    },
    {
     "data": {
      "text/plain": [
       "Resnet50CustomModel (Input shape: ['64 x 3 x 336 x 336'])\n",
       "================================================================\n",
       "Layer (type)         Output Shape         Param #    Trainable \n",
       "================================================================\n",
       "Conv2d               64 x 64 x 168 x 168  9,408      False     \n",
       "________________________________________________________________\n",
       "BatchNorm2d          64 x 64 x 168 x 168  128        True      \n",
       "________________________________________________________________\n",
       "ReLU                 64 x 64 x 168 x 168  0          False     \n",
       "________________________________________________________________\n",
       "MaxPool2d            64 x 64 x 84 x 84    0          False     \n",
       "________________________________________________________________\n",
       "Conv2d               64 x 64 x 84 x 84    4,096      False     \n",
       "________________________________________________________________\n",
       "BatchNorm2d          64 x 64 x 84 x 84    128        True      \n",
       "________________________________________________________________\n",
       "Conv2d               64 x 64 x 84 x 84    36,864     False     \n",
       "________________________________________________________________\n",
       "BatchNorm2d          64 x 64 x 84 x 84    128        True      \n",
       "________________________________________________________________\n",
       "Conv2d               64 x 256 x 84 x 84   16,384     False     \n",
       "________________________________________________________________\n",
       "BatchNorm2d          64 x 256 x 84 x 84   512        True      \n",
       "________________________________________________________________\n",
       "ReLU                 64 x 256 x 84 x 84   0          False     \n",
       "________________________________________________________________\n",
       "Conv2d               64 x 256 x 84 x 84   16,384     False     \n",
       "________________________________________________________________\n",
       "BatchNorm2d          64 x 256 x 84 x 84   512        True      \n",
       "________________________________________________________________\n",
       "Conv2d               64 x 64 x 84 x 84    16,384     False     \n",
       "________________________________________________________________\n",
       "BatchNorm2d          64 x 64 x 84 x 84    128        True      \n",
       "________________________________________________________________\n",
       "Conv2d               64 x 64 x 84 x 84    36,864     False     \n",
       "________________________________________________________________\n",
       "BatchNorm2d          64 x 64 x 84 x 84    128        True      \n",
       "________________________________________________________________\n",
       "Conv2d               64 x 256 x 84 x 84   16,384     False     \n",
       "________________________________________________________________\n",
       "BatchNorm2d          64 x 256 x 84 x 84   512        True      \n",
       "________________________________________________________________\n",
       "ReLU                 64 x 256 x 84 x 84   0          False     \n",
       "________________________________________________________________\n",
       "Conv2d               64 x 64 x 84 x 84    16,384     False     \n",
       "________________________________________________________________\n",
       "BatchNorm2d          64 x 64 x 84 x 84    128        True      \n",
       "________________________________________________________________\n",
       "Conv2d               64 x 64 x 84 x 84    36,864     False     \n",
       "________________________________________________________________\n",
       "BatchNorm2d          64 x 64 x 84 x 84    128        True      \n",
       "________________________________________________________________\n",
       "Conv2d               64 x 256 x 84 x 84   16,384     False     \n",
       "________________________________________________________________\n",
       "BatchNorm2d          64 x 256 x 84 x 84   512        True      \n",
       "________________________________________________________________\n",
       "ReLU                 64 x 256 x 84 x 84   0          False     \n",
       "________________________________________________________________\n",
       "Conv2d               64 x 128 x 84 x 84   32,768     False     \n",
       "________________________________________________________________\n",
       "BatchNorm2d          64 x 128 x 84 x 84   256        True      \n",
       "________________________________________________________________\n",
       "Conv2d               64 x 128 x 42 x 42   147,456    False     \n",
       "________________________________________________________________\n",
       "BatchNorm2d          64 x 128 x 42 x 42   256        True      \n",
       "________________________________________________________________\n",
       "Conv2d               64 x 512 x 42 x 42   65,536     False     \n",
       "________________________________________________________________\n",
       "BatchNorm2d          64 x 512 x 42 x 42   1,024      True      \n",
       "________________________________________________________________\n",
       "ReLU                 64 x 512 x 42 x 42   0          False     \n",
       "________________________________________________________________\n",
       "Conv2d               64 x 512 x 42 x 42   131,072    False     \n",
       "________________________________________________________________\n",
       "BatchNorm2d          64 x 512 x 42 x 42   1,024      True      \n",
       "________________________________________________________________\n",
       "Conv2d               64 x 128 x 42 x 42   65,536     False     \n",
       "________________________________________________________________\n",
       "BatchNorm2d          64 x 128 x 42 x 42   256        True      \n",
       "________________________________________________________________\n",
       "Conv2d               64 x 128 x 42 x 42   147,456    False     \n",
       "________________________________________________________________\n",
       "BatchNorm2d          64 x 128 x 42 x 42   256        True      \n",
       "________________________________________________________________\n",
       "Conv2d               64 x 512 x 42 x 42   65,536     False     \n",
       "________________________________________________________________\n",
       "BatchNorm2d          64 x 512 x 42 x 42   1,024      True      \n",
       "________________________________________________________________\n",
       "ReLU                 64 x 512 x 42 x 42   0          False     \n",
       "________________________________________________________________\n",
       "Conv2d               64 x 128 x 42 x 42   65,536     False     \n",
       "________________________________________________________________\n",
       "BatchNorm2d          64 x 128 x 42 x 42   256        True      \n",
       "________________________________________________________________\n",
       "Conv2d               64 x 128 x 42 x 42   147,456    False     \n",
       "________________________________________________________________\n",
       "BatchNorm2d          64 x 128 x 42 x 42   256        True      \n",
       "________________________________________________________________\n",
       "Conv2d               64 x 512 x 42 x 42   65,536     False     \n",
       "________________________________________________________________\n",
       "BatchNorm2d          64 x 512 x 42 x 42   1,024      True      \n",
       "________________________________________________________________\n",
       "ReLU                 64 x 512 x 42 x 42   0          False     \n",
       "________________________________________________________________\n",
       "Conv2d               64 x 128 x 42 x 42   65,536     False     \n",
       "________________________________________________________________\n",
       "BatchNorm2d          64 x 128 x 42 x 42   256        True      \n",
       "________________________________________________________________\n",
       "Conv2d               64 x 128 x 42 x 42   147,456    False     \n",
       "________________________________________________________________\n",
       "BatchNorm2d          64 x 128 x 42 x 42   256        True      \n",
       "________________________________________________________________\n",
       "Conv2d               64 x 512 x 42 x 42   65,536     False     \n",
       "________________________________________________________________\n",
       "BatchNorm2d          64 x 512 x 42 x 42   1,024      True      \n",
       "________________________________________________________________\n",
       "ReLU                 64 x 512 x 42 x 42   0          False     \n",
       "________________________________________________________________\n",
       "Conv2d               64 x 256 x 42 x 42   131,072    False     \n",
       "________________________________________________________________\n",
       "BatchNorm2d          64 x 256 x 42 x 42   512        True      \n",
       "________________________________________________________________\n",
       "Conv2d               64 x 256 x 21 x 21   589,824    False     \n",
       "________________________________________________________________\n",
       "BatchNorm2d          64 x 256 x 21 x 21   512        True      \n",
       "________________________________________________________________\n",
       "Conv2d               64 x 1024 x 21 x 21  262,144    False     \n",
       "________________________________________________________________\n",
       "BatchNorm2d          64 x 1024 x 21 x 21  2,048      True      \n",
       "________________________________________________________________\n",
       "ReLU                 64 x 1024 x 21 x 21  0          False     \n",
       "________________________________________________________________\n",
       "Conv2d               64 x 1024 x 21 x 21  524,288    False     \n",
       "________________________________________________________________\n",
       "BatchNorm2d          64 x 1024 x 21 x 21  2,048      True      \n",
       "________________________________________________________________\n",
       "Conv2d               64 x 256 x 21 x 21   262,144    False     \n",
       "________________________________________________________________\n",
       "BatchNorm2d          64 x 256 x 21 x 21   512        True      \n",
       "________________________________________________________________\n",
       "Conv2d               64 x 256 x 21 x 21   589,824    False     \n",
       "________________________________________________________________\n",
       "BatchNorm2d          64 x 256 x 21 x 21   512        True      \n",
       "________________________________________________________________\n",
       "Conv2d               64 x 1024 x 21 x 21  262,144    False     \n",
       "________________________________________________________________\n",
       "BatchNorm2d          64 x 1024 x 21 x 21  2,048      True      \n",
       "________________________________________________________________\n",
       "ReLU                 64 x 1024 x 21 x 21  0          False     \n",
       "________________________________________________________________\n",
       "Conv2d               64 x 256 x 21 x 21   262,144    False     \n",
       "________________________________________________________________\n",
       "BatchNorm2d          64 x 256 x 21 x 21   512        True      \n",
       "________________________________________________________________\n",
       "Conv2d               64 x 256 x 21 x 21   589,824    False     \n",
       "________________________________________________________________\n",
       "BatchNorm2d          64 x 256 x 21 x 21   512        True      \n",
       "________________________________________________________________\n",
       "Conv2d               64 x 1024 x 21 x 21  262,144    False     \n",
       "________________________________________________________________\n",
       "BatchNorm2d          64 x 1024 x 21 x 21  2,048      True      \n",
       "________________________________________________________________\n",
       "ReLU                 64 x 1024 x 21 x 21  0          False     \n",
       "________________________________________________________________\n",
       "Conv2d               64 x 256 x 21 x 21   262,144    False     \n",
       "________________________________________________________________\n",
       "BatchNorm2d          64 x 256 x 21 x 21   512        True      \n",
       "________________________________________________________________\n",
       "Conv2d               64 x 256 x 21 x 21   589,824    False     \n",
       "________________________________________________________________\n",
       "BatchNorm2d          64 x 256 x 21 x 21   512        True      \n",
       "________________________________________________________________\n",
       "Conv2d               64 x 1024 x 21 x 21  262,144    False     \n",
       "________________________________________________________________\n",
       "BatchNorm2d          64 x 1024 x 21 x 21  2,048      True      \n",
       "________________________________________________________________\n",
       "ReLU                 64 x 1024 x 21 x 21  0          False     \n",
       "________________________________________________________________\n",
       "Conv2d               64 x 256 x 21 x 21   262,144    False     \n",
       "________________________________________________________________\n",
       "BatchNorm2d          64 x 256 x 21 x 21   512        True      \n",
       "________________________________________________________________\n",
       "Conv2d               64 x 256 x 21 x 21   589,824    False     \n",
       "________________________________________________________________\n",
       "BatchNorm2d          64 x 256 x 21 x 21   512        True      \n",
       "________________________________________________________________\n",
       "Conv2d               64 x 1024 x 21 x 21  262,144    False     \n",
       "________________________________________________________________\n",
       "BatchNorm2d          64 x 1024 x 21 x 21  2,048      True      \n",
       "________________________________________________________________\n",
       "ReLU                 64 x 1024 x 21 x 21  0          False     \n",
       "________________________________________________________________\n",
       "Conv2d               64 x 256 x 21 x 21   262,144    False     \n",
       "________________________________________________________________\n",
       "BatchNorm2d          64 x 256 x 21 x 21   512        True      \n",
       "________________________________________________________________\n",
       "Conv2d               64 x 256 x 21 x 21   589,824    False     \n",
       "________________________________________________________________\n",
       "BatchNorm2d          64 x 256 x 21 x 21   512        True      \n",
       "________________________________________________________________\n",
       "Conv2d               64 x 1024 x 21 x 21  262,144    False     \n",
       "________________________________________________________________\n",
       "BatchNorm2d          64 x 1024 x 21 x 21  2,048      True      \n",
       "________________________________________________________________\n",
       "ReLU                 64 x 1024 x 21 x 21  0          False     \n",
       "________________________________________________________________\n",
       "Conv2d               64 x 512 x 21 x 21   524,288    False     \n",
       "________________________________________________________________\n",
       "BatchNorm2d          64 x 512 x 21 x 21   1,024      True      \n",
       "________________________________________________________________\n",
       "Conv2d               64 x 512 x 11 x 11   2,359,296  False     \n",
       "________________________________________________________________\n",
       "BatchNorm2d          64 x 512 x 11 x 11   1,024      True      \n",
       "________________________________________________________________\n",
       "Conv2d               64 x 2048 x 11 x 11  1,048,576  False     \n",
       "________________________________________________________________\n",
       "BatchNorm2d          64 x 2048 x 11 x 11  4,096      True      \n",
       "________________________________________________________________\n",
       "ReLU                 64 x 2048 x 11 x 11  0          False     \n",
       "________________________________________________________________\n",
       "Conv2d               64 x 2048 x 11 x 11  2,097,152  False     \n",
       "________________________________________________________________\n",
       "BatchNorm2d          64 x 2048 x 11 x 11  4,096      True      \n",
       "________________________________________________________________\n",
       "Conv2d               64 x 512 x 11 x 11   1,048,576  False     \n",
       "________________________________________________________________\n",
       "BatchNorm2d          64 x 512 x 11 x 11   1,024      True      \n",
       "________________________________________________________________\n",
       "Conv2d               64 x 512 x 11 x 11   2,359,296  False     \n",
       "________________________________________________________________\n",
       "BatchNorm2d          64 x 512 x 11 x 11   1,024      True      \n",
       "________________________________________________________________\n",
       "Conv2d               64 x 2048 x 11 x 11  1,048,576  False     \n",
       "________________________________________________________________\n",
       "BatchNorm2d          64 x 2048 x 11 x 11  4,096      True      \n",
       "________________________________________________________________\n",
       "ReLU                 64 x 2048 x 11 x 11  0          False     \n",
       "________________________________________________________________\n",
       "Conv2d               64 x 512 x 11 x 11   1,048,576  False     \n",
       "________________________________________________________________\n",
       "BatchNorm2d          64 x 512 x 11 x 11   1,024      True      \n",
       "________________________________________________________________\n",
       "Conv2d               64 x 512 x 11 x 11   2,359,296  False     \n",
       "________________________________________________________________\n",
       "BatchNorm2d          64 x 512 x 11 x 11   1,024      True      \n",
       "________________________________________________________________\n",
       "Conv2d               64 x 2048 x 11 x 11  1,048,576  False     \n",
       "________________________________________________________________\n",
       "BatchNorm2d          64 x 2048 x 11 x 11  4,096      True      \n",
       "________________________________________________________________\n",
       "ReLU                 64 x 2048 x 11 x 11  0          False     \n",
       "________________________________________________________________\n",
       "AdaptiveAvgPool2d    64 x 2048 x 1 x 1    0          False     \n",
       "________________________________________________________________\n",
       "AdaptiveMaxPool2d    64 x 2048 x 1 x 1    0          False     \n",
       "________________________________________________________________\n",
       "Flatten              64 x 4096            0          False     \n",
       "________________________________________________________________\n",
       "BatchNorm1d          64 x 4096            8,192      True      \n",
       "________________________________________________________________\n",
       "Dropout              64 x 4096            0          False     \n",
       "________________________________________________________________\n",
       "Linear               64 x 512             2,097,152  True      \n",
       "________________________________________________________________\n",
       "ReLU                 64 x 512             0          False     \n",
       "________________________________________________________________\n",
       "BatchNorm1d          64 x 512             1,024      True      \n",
       "________________________________________________________________\n",
       "Dropout              64 x 512             0          False     \n",
       "________________________________________________________________\n",
       "Linear               64 x 1000            512,000    True      \n",
       "________________________________________________________________\n",
       "\n",
       "Total params: 26,126,400\n",
       "Total trainable params: 2,671,488\n",
       "Total non-trainable params: 23,454,912\n",
       "\n",
       "Optimizer used: <function Adam at 0x7f2b08983670>\n",
       "Loss function: CrossEntropyLoss()\n",
       "\n",
       "Model frozen up to parameter group #1\n",
       "\n",
       "Callbacks:\n",
       "  - ModelToHalf\n",
       "  - TrainEvalCallback\n",
       "  - Recorder\n",
       "  - ProgressCallback\n",
       "  - MixedPrecision"
      ]
     },
     "execution_count": 22,
     "metadata": {},
     "output_type": "execute_result"
    }
   ],
   "source": [
    "learn.summary()"
   ]
  },
  {
   "cell_type": "code",
   "execution_count": 23,
   "metadata": {
    "scrolled": true
   },
   "outputs": [
    {
     "data": {
      "text/html": [
       "<table border=\"1\" class=\"dataframe\">\n",
       "  <thead>\n",
       "    <tr style=\"text-align: left;\">\n",
       "      <th>epoch</th>\n",
       "      <th>train_loss</th>\n",
       "      <th>valid_loss</th>\n",
       "      <th>accuracy</th>\n",
       "      <th>time</th>\n",
       "    </tr>\n",
       "  </thead>\n",
       "  <tbody>\n",
       "    <tr>\n",
       "      <td>0</td>\n",
       "      <td>3.359316</td>\n",
       "      <td>2.626846</td>\n",
       "      <td>0.422865</td>\n",
       "      <td>28:06</td>\n",
       "    </tr>\n",
       "  </tbody>\n",
       "</table>"
      ],
      "text/plain": [
       "<IPython.core.display.HTML object>"
      ]
     },
     "metadata": {},
     "output_type": "display_data"
    }
   ],
   "source": [
    "learn.fit(1, 3e-3)"
   ]
  },
  {
   "cell_type": "code",
   "execution_count": 24,
   "metadata": {},
   "outputs": [],
   "source": [
    "learn.unfreeze()"
   ]
  },
  {
   "cell_type": "code",
   "execution_count": 25,
   "metadata": {},
   "outputs": [
    {
     "data": {
      "text/html": [],
      "text/plain": [
       "<IPython.core.display.HTML object>"
      ]
     },
     "metadata": {},
     "output_type": "display_data"
    },
    {
     "data": {
      "text/plain": [
       "SuggestedLRs(lr_min=1.4454397387453355e-06, lr_steep=9.999999747378752e-06)"
      ]
     },
     "execution_count": 25,
     "metadata": {},
     "output_type": "execute_result"
    },
    {
     "data": {
      "image/png": "[encoded data removed]",
      "text/plain": [
       "<Figure size 432x288 with 1 Axes>"
      ]
     },
     "metadata": {
      "needs_background": "light"
     },
     "output_type": "display_data"
    }
   ],
   "source": [
    "learn.lr_find()"
   ]
  },
  {
   "cell_type": "code",
   "execution_count": 26,
   "metadata": {
    "scrolled": true
   },
   "outputs": [
    {
     "data": {
      "text/html": [
       "<table border=\"1\" class=\"dataframe\">\n",
       "  <thead>\n",
       "    <tr style=\"text-align: left;\">\n",
       "      <th>epoch</th>\n",
       "      <th>train_loss</th>\n",
       "      <th>valid_loss</th>\n",
       "      <th>accuracy</th>\n",
       "      <th>time</th>\n",
       "    </tr>\n",
       "  </thead>\n",
       "  <tbody>\n",
       "    <tr>\n",
       "      <td>0</td>\n",
       "      <td>2.644957</td>\n",
       "      <td>2.084952</td>\n",
       "      <td>0.537508</td>\n",
       "      <td>29:51</td>\n",
       "    </tr>\n",
       "    <tr>\n",
       "      <td>1</td>\n",
       "      <td>2.517751</td>\n",
       "      <td>1.946892</td>\n",
       "      <td>0.559572</td>\n",
       "      <td>29:32</td>\n",
       "    </tr>\n",
       "    <tr>\n",
       "      <td>2</td>\n",
       "      <td>2.337445</td>\n",
       "      <td>1.865716</td>\n",
       "      <td>0.572339</td>\n",
       "      <td>29:25</td>\n",
       "    </tr>\n",
       "    <tr>\n",
       "      <td>3</td>\n",
       "      <td>2.235307</td>\n",
       "      <td>1.803286</td>\n",
       "      <td>0.584810</td>\n",
       "      <td>29:37</td>\n",
       "    </tr>\n",
       "    <tr>\n",
       "      <td>4</td>\n",
       "      <td>2.280476</td>\n",
       "      <td>1.747317</td>\n",
       "      <td>0.596227</td>\n",
       "      <td>29:24</td>\n",
       "    </tr>\n",
       "  </tbody>\n",
       "</table>"
      ],
      "text/plain": [
       "<IPython.core.display.HTML object>"
      ]
     },
     "metadata": {},
     "output_type": "display_data"
    },
    {
     "data": {
      "text/plain": [
       "Path('models/species1000-resnet50-nobranch-fepochs1-uepochs5.pth')"
      ]
     },
     "execution_count": 26,
     "metadata": {},
     "output_type": "execute_result"
    }
   ],
   "source": [
    "learn.fit(5, slice(1e-6,1e-4))\n",
    "learn.save('species1000-resnet50-nobranch-fepochs1-uepochs5')"
   ]
  },
  {
   "cell_type": "code",
   "execution_count": 19,
   "metadata": {},
   "outputs": [],
   "source": [
    "def continue_training(pth_filename):\n",
    "    learn = Learner(dls, model, loss_func=nn.CrossEntropyLoss(weight=weights), metrics=accuracy,\n",
    "                       splitter=custom_splitter).to_fp16()\n",
    "    learn.load(pth_filename)\n",
    "    learn.unfreeze()\n",
    "    return learn"
   ]
  },
  {
   "cell_type": "code",
   "execution_count": 27,
   "metadata": {
    "scrolled": true
   },
   "outputs": [
    {
     "data": {
      "text/html": [
       "<table border=\"1\" class=\"dataframe\">\n",
       "  <thead>\n",
       "    <tr style=\"text-align: left;\">\n",
       "      <th>epoch</th>\n",
       "      <th>train_loss</th>\n",
       "      <th>valid_loss</th>\n",
       "      <th>accuracy</th>\n",
       "      <th>time</th>\n",
       "    </tr>\n",
       "  </thead>\n",
       "  <tbody>\n",
       "    <tr>\n",
       "      <td>0</td>\n",
       "      <td>2.188363</td>\n",
       "      <td>1.718827</td>\n",
       "      <td>0.601793</td>\n",
       "      <td>29:24</td>\n",
       "    </tr>\n",
       "    <tr>\n",
       "      <td>1</td>\n",
       "      <td>2.099192</td>\n",
       "      <td>1.671049</td>\n",
       "      <td>0.608461</td>\n",
       "      <td>29:29</td>\n",
       "    </tr>\n",
       "    <tr>\n",
       "      <td>2</td>\n",
       "      <td>2.046192</td>\n",
       "      <td>1.641896</td>\n",
       "      <td>0.616052</td>\n",
       "      <td>29:21</td>\n",
       "    </tr>\n",
       "    <tr>\n",
       "      <td>3</td>\n",
       "      <td>2.041547</td>\n",
       "      <td>1.608687</td>\n",
       "      <td>0.621323</td>\n",
       "      <td>29:24</td>\n",
       "    </tr>\n",
       "    <tr>\n",
       "      <td>4</td>\n",
       "      <td>2.042950</td>\n",
       "      <td>1.582894</td>\n",
       "      <td>0.625847</td>\n",
       "      <td>29:21</td>\n",
       "    </tr>\n",
       "  </tbody>\n",
       "</table>"
      ],
      "text/plain": [
       "<IPython.core.display.HTML object>"
      ]
     },
     "metadata": {},
     "output_type": "display_data"
    },
    {
     "data": {
      "text/plain": [
       "Path('models/species1000-resnet50-nobranch-fepochs1-uepochs10.pth')"
      ]
     },
     "execution_count": 27,
     "metadata": {},
     "output_type": "execute_result"
    }
   ],
   "source": [
    "learn.fit(5, slice(1e-6,1e-4))\n",
    "learn.save('species1000-resnet50-nobranch-fepochs1-uepochs10')"
   ]
  },
  {
   "cell_type": "code",
   "execution_count": 20,
   "metadata": {},
   "outputs": [],
   "source": [
    "learn = continue_training('species1000-resnet50-nobranch-fepochs1-uepochs10')"
   ]
  },
  {
   "cell_type": "code",
   "execution_count": 21,
   "metadata": {},
   "outputs": [
    {
     "data": {
      "text/html": [
       "<table border=\"1\" class=\"dataframe\">\n",
       "  <thead>\n",
       "    <tr style=\"text-align: left;\">\n",
       "      <th>epoch</th>\n",
       "      <th>train_loss</th>\n",
       "      <th>valid_loss</th>\n",
       "      <th>accuracy</th>\n",
       "      <th>time</th>\n",
       "    </tr>\n",
       "  </thead>\n",
       "  <tbody>\n",
       "    <tr>\n",
       "      <td>0</td>\n",
       "      <td>2.011600</td>\n",
       "      <td>1.563754</td>\n",
       "      <td>0.632870</td>\n",
       "      <td>28:32</td>\n",
       "    </tr>\n",
       "    <tr>\n",
       "      <td>1</td>\n",
       "      <td>1.911954</td>\n",
       "      <td>1.537825</td>\n",
       "      <td>0.635345</td>\n",
       "      <td>29:50</td>\n",
       "    </tr>\n",
       "    <tr>\n",
       "      <td>2</td>\n",
       "      <td>1.901224</td>\n",
       "      <td>1.518459</td>\n",
       "      <td>0.637477</td>\n",
       "      <td>28:35</td>\n",
       "    </tr>\n",
       "    <tr>\n",
       "      <td>3</td>\n",
       "      <td>1.961788</td>\n",
       "      <td>1.491396</td>\n",
       "      <td>0.644251</td>\n",
       "      <td>28:43</td>\n",
       "    </tr>\n",
       "    <tr>\n",
       "      <td>4</td>\n",
       "      <td>1.856381</td>\n",
       "      <td>1.474682</td>\n",
       "      <td>0.647686</td>\n",
       "      <td>28:38</td>\n",
       "    </tr>\n",
       "  </tbody>\n",
       "</table>"
      ],
      "text/plain": [
       "<IPython.core.display.HTML object>"
      ]
     },
     "metadata": {},
     "output_type": "display_data"
    },
    {
     "data": {
      "text/plain": [
       "Path('models/species1000-resnet50-nobranch-fepochs1-uepochs15.pth')"
      ]
     },
     "execution_count": 21,
     "metadata": {},
     "output_type": "execute_result"
    }
   ],
   "source": [
    "learn.fit(5, slice(1e-6,1e-4))\n",
    "learn.save('species1000-resnet50-nobranch-fepochs1-uepochs15')"
   ]
  },
  {
   "cell_type": "code",
   "execution_count": 22,
   "metadata": {
    "scrolled": true
   },
   "outputs": [],
   "source": [
    "learn.export('species1000-resnet50-nobranch-fepochs1-uepochs15')"
   ]
  },
  {
   "cell_type": "markdown",
   "metadata": {},
   "source": [
    "# 1-Branch-CNN"
   ]
  },
  {
   "cell_type": "code",
   "execution_count": 23,
   "metadata": {
    "scrolled": false
   },
   "outputs": [
    {
     "data": {
      "text/plain": [
       "Sequential(\n",
       "  (0): Conv2d(3, 64, kernel_size=(7, 7), stride=(2, 2), padding=(3, 3), bias=False)\n",
       "  (1): BatchNorm2d(64, eps=1e-05, momentum=0.1, affine=True, track_running_stats=True)\n",
       "  (2): ReLU(inplace=True)\n",
       "  (3): MaxPool2d(kernel_size=3, stride=2, padding=1, dilation=1, ceil_mode=False)\n",
       "  (4): Sequential(\n",
       "    (0): Bottleneck(\n",
       "      (conv1): Conv2d(64, 64, kernel_size=(1, 1), stride=(1, 1), bias=False)\n",
       "      (bn1): BatchNorm2d(64, eps=1e-05, momentum=0.1, affine=True, track_running_stats=True)\n",
       "      (conv2): Conv2d(64, 64, kernel_size=(3, 3), stride=(1, 1), padding=(1, 1), bias=False)\n",
       "      (bn2): BatchNorm2d(64, eps=1e-05, momentum=0.1, affine=True, track_running_stats=True)\n",
       "      (conv3): Conv2d(64, 256, kernel_size=(1, 1), stride=(1, 1), bias=False)\n",
       "      (bn3): BatchNorm2d(256, eps=1e-05, momentum=0.1, affine=True, track_running_stats=True)\n",
       "      (relu): ReLU(inplace=True)\n",
       "      (downsample): Sequential(\n",
       "        (0): Conv2d(64, 256, kernel_size=(1, 1), stride=(1, 1), bias=False)\n",
       "        (1): BatchNorm2d(256, eps=1e-05, momentum=0.1, affine=True, track_running_stats=True)\n",
       "      )\n",
       "    )\n",
       "    (1): Bottleneck(\n",
       "      (conv1): Conv2d(256, 64, kernel_size=(1, 1), stride=(1, 1), bias=False)\n",
       "      (bn1): BatchNorm2d(64, eps=1e-05, momentum=0.1, affine=True, track_running_stats=True)\n",
       "      (conv2): Conv2d(64, 64, kernel_size=(3, 3), stride=(1, 1), padding=(1, 1), bias=False)\n",
       "      (bn2): BatchNorm2d(64, eps=1e-05, momentum=0.1, affine=True, track_running_stats=True)\n",
       "      (conv3): Conv2d(64, 256, kernel_size=(1, 1), stride=(1, 1), bias=False)\n",
       "      (bn3): BatchNorm2d(256, eps=1e-05, momentum=0.1, affine=True, track_running_stats=True)\n",
       "      (relu): ReLU(inplace=True)\n",
       "    )\n",
       "    (2): Bottleneck(\n",
       "      (conv1): Conv2d(256, 64, kernel_size=(1, 1), stride=(1, 1), bias=False)\n",
       "      (bn1): BatchNorm2d(64, eps=1e-05, momentum=0.1, affine=True, track_running_stats=True)\n",
       "      (conv2): Conv2d(64, 64, kernel_size=(3, 3), stride=(1, 1), padding=(1, 1), bias=False)\n",
       "      (bn2): BatchNorm2d(64, eps=1e-05, momentum=0.1, affine=True, track_running_stats=True)\n",
       "      (conv3): Conv2d(64, 256, kernel_size=(1, 1), stride=(1, 1), bias=False)\n",
       "      (bn3): BatchNorm2d(256, eps=1e-05, momentum=0.1, affine=True, track_running_stats=True)\n",
       "      (relu): ReLU(inplace=True)\n",
       "    )\n",
       "  )\n",
       "  (5): Sequential(\n",
       "    (0): Bottleneck(\n",
       "      (conv1): Conv2d(256, 128, kernel_size=(1, 1), stride=(1, 1), bias=False)\n",
       "      (bn1): BatchNorm2d(128, eps=1e-05, momentum=0.1, affine=True, track_running_stats=True)\n",
       "      (conv2): Conv2d(128, 128, kernel_size=(3, 3), stride=(2, 2), padding=(1, 1), bias=False)\n",
       "      (bn2): BatchNorm2d(128, eps=1e-05, momentum=0.1, affine=True, track_running_stats=True)\n",
       "      (conv3): Conv2d(128, 512, kernel_size=(1, 1), stride=(1, 1), bias=False)\n",
       "      (bn3): BatchNorm2d(512, eps=1e-05, momentum=0.1, affine=True, track_running_stats=True)\n",
       "      (relu): ReLU(inplace=True)\n",
       "      (downsample): Sequential(\n",
       "        (0): Conv2d(256, 512, kernel_size=(1, 1), stride=(2, 2), bias=False)\n",
       "        (1): BatchNorm2d(512, eps=1e-05, momentum=0.1, affine=True, track_running_stats=True)\n",
       "      )\n",
       "    )\n",
       "    (1): Bottleneck(\n",
       "      (conv1): Conv2d(512, 128, kernel_size=(1, 1), stride=(1, 1), bias=False)\n",
       "      (bn1): BatchNorm2d(128, eps=1e-05, momentum=0.1, affine=True, track_running_stats=True)\n",
       "      (conv2): Conv2d(128, 128, kernel_size=(3, 3), stride=(1, 1), padding=(1, 1), bias=False)\n",
       "      (bn2): BatchNorm2d(128, eps=1e-05, momentum=0.1, affine=True, track_running_stats=True)\n",
       "      (conv3): Conv2d(128, 512, kernel_size=(1, 1), stride=(1, 1), bias=False)\n",
       "      (bn3): BatchNorm2d(512, eps=1e-05, momentum=0.1, affine=True, track_running_stats=True)\n",
       "      (relu): ReLU(inplace=True)\n",
       "    )\n",
       "    (2): Bottleneck(\n",
       "      (conv1): Conv2d(512, 128, kernel_size=(1, 1), stride=(1, 1), bias=False)\n",
       "      (bn1): BatchNorm2d(128, eps=1e-05, momentum=0.1, affine=True, track_running_stats=True)\n",
       "      (conv2): Conv2d(128, 128, kernel_size=(3, 3), stride=(1, 1), padding=(1, 1), bias=False)\n",
       "      (bn2): BatchNorm2d(128, eps=1e-05, momentum=0.1, affine=True, track_running_stats=True)\n",
       "      (conv3): Conv2d(128, 512, kernel_size=(1, 1), stride=(1, 1), bias=False)\n",
       "      (bn3): BatchNorm2d(512, eps=1e-05, momentum=0.1, affine=True, track_running_stats=True)\n",
       "      (relu): ReLU(inplace=True)\n",
       "    )\n",
       "    (3): Bottleneck(\n",
       "      (conv1): Conv2d(512, 128, kernel_size=(1, 1), stride=(1, 1), bias=False)\n",
       "      (bn1): BatchNorm2d(128, eps=1e-05, momentum=0.1, affine=True, track_running_stats=True)\n",
       "      (conv2): Conv2d(128, 128, kernel_size=(3, 3), stride=(1, 1), padding=(1, 1), bias=False)\n",
       "      (bn2): BatchNorm2d(128, eps=1e-05, momentum=0.1, affine=True, track_running_stats=True)\n",
       "      (conv3): Conv2d(128, 512, kernel_size=(1, 1), stride=(1, 1), bias=False)\n",
       "      (bn3): BatchNorm2d(512, eps=1e-05, momentum=0.1, affine=True, track_running_stats=True)\n",
       "      (relu): ReLU(inplace=True)\n",
       "    )\n",
       "  )\n",
       "  (6): Sequential(\n",
       "    (0): Bottleneck(\n",
       "      (conv1): Conv2d(512, 256, kernel_size=(1, 1), stride=(1, 1), bias=False)\n",
       "      (bn1): BatchNorm2d(256, eps=1e-05, momentum=0.1, affine=True, track_running_stats=True)\n",
       "      (conv2): Conv2d(256, 256, kernel_size=(3, 3), stride=(2, 2), padding=(1, 1), bias=False)\n",
       "      (bn2): BatchNorm2d(256, eps=1e-05, momentum=0.1, affine=True, track_running_stats=True)\n",
       "      (conv3): Conv2d(256, 1024, kernel_size=(1, 1), stride=(1, 1), bias=False)\n",
       "      (bn3): BatchNorm2d(1024, eps=1e-05, momentum=0.1, affine=True, track_running_stats=True)\n",
       "      (relu): ReLU(inplace=True)\n",
       "      (downsample): Sequential(\n",
       "        (0): Conv2d(512, 1024, kernel_size=(1, 1), stride=(2, 2), bias=False)\n",
       "        (1): BatchNorm2d(1024, eps=1e-05, momentum=0.1, affine=True, track_running_stats=True)\n",
       "      )\n",
       "    )\n",
       "    (1): Bottleneck(\n",
       "      (conv1): Conv2d(1024, 256, kernel_size=(1, 1), stride=(1, 1), bias=False)\n",
       "      (bn1): BatchNorm2d(256, eps=1e-05, momentum=0.1, affine=True, track_running_stats=True)\n",
       "      (conv2): Conv2d(256, 256, kernel_size=(3, 3), stride=(1, 1), padding=(1, 1), bias=False)\n",
       "      (bn2): BatchNorm2d(256, eps=1e-05, momentum=0.1, affine=True, track_running_stats=True)\n",
       "      (conv3): Conv2d(256, 1024, kernel_size=(1, 1), stride=(1, 1), bias=False)\n",
       "      (bn3): BatchNorm2d(1024, eps=1e-05, momentum=0.1, affine=True, track_running_stats=True)\n",
       "      (relu): ReLU(inplace=True)\n",
       "    )\n",
       "    (2): Bottleneck(\n",
       "      (conv1): Conv2d(1024, 256, kernel_size=(1, 1), stride=(1, 1), bias=False)\n",
       "      (bn1): BatchNorm2d(256, eps=1e-05, momentum=0.1, affine=True, track_running_stats=True)\n",
       "      (conv2): Conv2d(256, 256, kernel_size=(3, 3), stride=(1, 1), padding=(1, 1), bias=False)\n",
       "      (bn2): BatchNorm2d(256, eps=1e-05, momentum=0.1, affine=True, track_running_stats=True)\n",
       "      (conv3): Conv2d(256, 1024, kernel_size=(1, 1), stride=(1, 1), bias=False)\n",
       "      (bn3): BatchNorm2d(1024, eps=1e-05, momentum=0.1, affine=True, track_running_stats=True)\n",
       "      (relu): ReLU(inplace=True)\n",
       "    )\n",
       "    (3): Bottleneck(\n",
       "      (conv1): Conv2d(1024, 256, kernel_size=(1, 1), stride=(1, 1), bias=False)\n",
       "      (bn1): BatchNorm2d(256, eps=1e-05, momentum=0.1, affine=True, track_running_stats=True)\n",
       "      (conv2): Conv2d(256, 256, kernel_size=(3, 3), stride=(1, 1), padding=(1, 1), bias=False)\n",
       "      (bn2): BatchNorm2d(256, eps=1e-05, momentum=0.1, affine=True, track_running_stats=True)\n",
       "      (conv3): Conv2d(256, 1024, kernel_size=(1, 1), stride=(1, 1), bias=False)\n",
       "      (bn3): BatchNorm2d(1024, eps=1e-05, momentum=0.1, affine=True, track_running_stats=True)\n",
       "      (relu): ReLU(inplace=True)\n",
       "    )\n",
       "    (4): Bottleneck(\n",
       "      (conv1): Conv2d(1024, 256, kernel_size=(1, 1), stride=(1, 1), bias=False)\n",
       "      (bn1): BatchNorm2d(256, eps=1e-05, momentum=0.1, affine=True, track_running_stats=True)\n",
       "      (conv2): Conv2d(256, 256, kernel_size=(3, 3), stride=(1, 1), padding=(1, 1), bias=False)\n",
       "      (bn2): BatchNorm2d(256, eps=1e-05, momentum=0.1, affine=True, track_running_stats=True)\n",
       "      (conv3): Conv2d(256, 1024, kernel_size=(1, 1), stride=(1, 1), bias=False)\n",
       "      (bn3): BatchNorm2d(1024, eps=1e-05, momentum=0.1, affine=True, track_running_stats=True)\n",
       "      (relu): ReLU(inplace=True)\n",
       "    )\n",
       "    (5): Bottleneck(\n",
       "      (conv1): Conv2d(1024, 256, kernel_size=(1, 1), stride=(1, 1), bias=False)\n",
       "      (bn1): BatchNorm2d(256, eps=1e-05, momentum=0.1, affine=True, track_running_stats=True)\n",
       "      (conv2): Conv2d(256, 256, kernel_size=(3, 3), stride=(1, 1), padding=(1, 1), bias=False)\n",
       "      (bn2): BatchNorm2d(256, eps=1e-05, momentum=0.1, affine=True, track_running_stats=True)\n",
       "      (conv3): Conv2d(256, 1024, kernel_size=(1, 1), stride=(1, 1), bias=False)\n",
       "      (bn3): BatchNorm2d(1024, eps=1e-05, momentum=0.1, affine=True, track_running_stats=True)\n",
       "      (relu): ReLU(inplace=True)\n",
       "    )\n",
       "  )\n",
       "  (7): Sequential(\n",
       "    (0): Bottleneck(\n",
       "      (conv1): Conv2d(1024, 512, kernel_size=(1, 1), stride=(1, 1), bias=False)\n",
       "      (bn1): BatchNorm2d(512, eps=1e-05, momentum=0.1, affine=True, track_running_stats=True)\n",
       "      (conv2): Conv2d(512, 512, kernel_size=(3, 3), stride=(2, 2), padding=(1, 1), bias=False)\n",
       "      (bn2): BatchNorm2d(512, eps=1e-05, momentum=0.1, affine=True, track_running_stats=True)\n",
       "      (conv3): Conv2d(512, 2048, kernel_size=(1, 1), stride=(1, 1), bias=False)\n",
       "      (bn3): BatchNorm2d(2048, eps=1e-05, momentum=0.1, affine=True, track_running_stats=True)\n",
       "      (relu): ReLU(inplace=True)\n",
       "      (downsample): Sequential(\n",
       "        (0): Conv2d(1024, 2048, kernel_size=(1, 1), stride=(2, 2), bias=False)\n",
       "        (1): BatchNorm2d(2048, eps=1e-05, momentum=0.1, affine=True, track_running_stats=True)\n",
       "      )\n",
       "    )\n",
       "    (1): Bottleneck(\n",
       "      (conv1): Conv2d(2048, 512, kernel_size=(1, 1), stride=(1, 1), bias=False)\n",
       "      (bn1): BatchNorm2d(512, eps=1e-05, momentum=0.1, affine=True, track_running_stats=True)\n",
       "      (conv2): Conv2d(512, 512, kernel_size=(3, 3), stride=(1, 1), padding=(1, 1), bias=False)\n",
       "      (bn2): BatchNorm2d(512, eps=1e-05, momentum=0.1, affine=True, track_running_stats=True)\n",
       "      (conv3): Conv2d(512, 2048, kernel_size=(1, 1), stride=(1, 1), bias=False)\n",
       "      (bn3): BatchNorm2d(2048, eps=1e-05, momentum=0.1, affine=True, track_running_stats=True)\n",
       "      (relu): ReLU(inplace=True)\n",
       "    )\n",
       "    (2): Bottleneck(\n",
       "      (conv1): Conv2d(2048, 512, kernel_size=(1, 1), stride=(1, 1), bias=False)\n",
       "      (bn1): BatchNorm2d(512, eps=1e-05, momentum=0.1, affine=True, track_running_stats=True)\n",
       "      (conv2): Conv2d(512, 512, kernel_size=(3, 3), stride=(1, 1), padding=(1, 1), bias=False)\n",
       "      (bn2): BatchNorm2d(512, eps=1e-05, momentum=0.1, affine=True, track_running_stats=True)\n",
       "      (conv3): Conv2d(512, 2048, kernel_size=(1, 1), stride=(1, 1), bias=False)\n",
       "      (bn3): BatchNorm2d(2048, eps=1e-05, momentum=0.1, affine=True, track_running_stats=True)\n",
       "      (relu): ReLU(inplace=True)\n",
       "    )\n",
       "  )\n",
       ")"
      ]
     },
     "execution_count": 23,
     "metadata": {},
     "output_type": "execute_result"
    }
   ],
   "source": [
    "model = resnet50\n",
    "body = create_body(model, cut=-2)\n",
    "body"
   ]
  },
  {
   "cell_type": "code",
   "execution_count": 24,
   "metadata": {
    "scrolled": true
   },
   "outputs": [
    {
     "data": {
      "text/plain": [
       "Sequential(\n",
       "  (0): Conv2d(3, 64, kernel_size=(7, 7), stride=(2, 2), padding=(3, 3), bias=False)\n",
       "  (1): BatchNorm2d(64, eps=1e-05, momentum=0.1, affine=True, track_running_stats=True)\n",
       "  (2): ReLU(inplace=True)\n",
       "  (3): MaxPool2d(kernel_size=3, stride=2, padding=1, dilation=1, ceil_mode=False)\n",
       ")"
      ]
     },
     "execution_count": 24,
     "metadata": {},
     "output_type": "execute_result"
    }
   ],
   "source": [
    "stem = body[0:4]\n",
    "stem"
   ]
  },
  {
   "cell_type": "code",
   "execution_count": 25,
   "metadata": {
    "scrolled": true
   },
   "outputs": [
    {
     "data": {
      "text/plain": [
       "Sequential(\n",
       "  (0): Bottleneck(\n",
       "    (conv1): Conv2d(64, 64, kernel_size=(1, 1), stride=(1, 1), bias=False)\n",
       "    (bn1): BatchNorm2d(64, eps=1e-05, momentum=0.1, affine=True, track_running_stats=True)\n",
       "    (conv2): Conv2d(64, 64, kernel_size=(3, 3), stride=(1, 1), padding=(1, 1), bias=False)\n",
       "    (bn2): BatchNorm2d(64, eps=1e-05, momentum=0.1, affine=True, track_running_stats=True)\n",
       "    (conv3): Conv2d(64, 256, kernel_size=(1, 1), stride=(1, 1), bias=False)\n",
       "    (bn3): BatchNorm2d(256, eps=1e-05, momentum=0.1, affine=True, track_running_stats=True)\n",
       "    (relu): ReLU(inplace=True)\n",
       "    (downsample): Sequential(\n",
       "      (0): Conv2d(64, 256, kernel_size=(1, 1), stride=(1, 1), bias=False)\n",
       "      (1): BatchNorm2d(256, eps=1e-05, momentum=0.1, affine=True, track_running_stats=True)\n",
       "    )\n",
       "  )\n",
       "  (1): Bottleneck(\n",
       "    (conv1): Conv2d(256, 64, kernel_size=(1, 1), stride=(1, 1), bias=False)\n",
       "    (bn1): BatchNorm2d(64, eps=1e-05, momentum=0.1, affine=True, track_running_stats=True)\n",
       "    (conv2): Conv2d(64, 64, kernel_size=(3, 3), stride=(1, 1), padding=(1, 1), bias=False)\n",
       "    (bn2): BatchNorm2d(64, eps=1e-05, momentum=0.1, affine=True, track_running_stats=True)\n",
       "    (conv3): Conv2d(64, 256, kernel_size=(1, 1), stride=(1, 1), bias=False)\n",
       "    (bn3): BatchNorm2d(256, eps=1e-05, momentum=0.1, affine=True, track_running_stats=True)\n",
       "    (relu): ReLU(inplace=True)\n",
       "  )\n",
       "  (2): Bottleneck(\n",
       "    (conv1): Conv2d(256, 64, kernel_size=(1, 1), stride=(1, 1), bias=False)\n",
       "    (bn1): BatchNorm2d(64, eps=1e-05, momentum=0.1, affine=True, track_running_stats=True)\n",
       "    (conv2): Conv2d(64, 64, kernel_size=(3, 3), stride=(1, 1), padding=(1, 1), bias=False)\n",
       "    (bn2): BatchNorm2d(64, eps=1e-05, momentum=0.1, affine=True, track_running_stats=True)\n",
       "    (conv3): Conv2d(64, 256, kernel_size=(1, 1), stride=(1, 1), bias=False)\n",
       "    (bn3): BatchNorm2d(256, eps=1e-05, momentum=0.1, affine=True, track_running_stats=True)\n",
       "    (relu): ReLU(inplace=True)\n",
       "  )\n",
       ")"
      ]
     },
     "execution_count": 25,
     "metadata": {},
     "output_type": "execute_result"
    }
   ],
   "source": [
    "block1, block2, block3, block4 = body[4], body[5], body[6], body[7]\n",
    "block1"
   ]
  },
  {
   "cell_type": "code",
   "execution_count": 26,
   "metadata": {
    "scrolled": false
   },
   "outputs": [
    {
     "data": {
      "text/plain": [
       "Sequential(\n",
       "  (0): AdaptiveConcatPool2d(\n",
       "    (ap): AdaptiveAvgPool2d(output_size=1)\n",
       "    (mp): AdaptiveMaxPool2d(output_size=1)\n",
       "  )\n",
       "  (1): Flatten(full=False)\n",
       "  (2): BatchNorm1d(4096, eps=1e-05, momentum=0.1, affine=True, track_running_stats=True)\n",
       "  (3): Dropout(p=0.25, inplace=False)\n",
       "  (4): Linear(in_features=4096, out_features=512, bias=False)\n",
       "  (5): ReLU(inplace=True)\n",
       "  (6): BatchNorm1d(512, eps=1e-05, momentum=0.1, affine=True, track_running_stats=True)\n",
       "  (7): Dropout(p=0.5, inplace=False)\n",
       "  (8): Linear(in_features=512, out_features=1000, bias=False)\n",
       ")"
      ]
     },
     "execution_count": 26,
     "metadata": {},
     "output_type": "execute_result"
    }
   ],
   "source": [
    "head = create_head(2048*2,dls.c)\n",
    "head"
   ]
  },
  {
   "cell_type": "code",
   "execution_count": 27,
   "metadata": {
    "scrolled": true
   },
   "outputs": [],
   "source": [
    "def custom_get_y(o):\n",
    "    fine_label = o['Specie']\n",
    "    coarse1_label = o['Family']\n",
    "    return [coarse1_label, fine_label]"
   ]
  },
  {
   "cell_type": "code",
   "execution_count": 28,
   "metadata": {
    "scrolled": true
   },
   "outputs": [],
   "source": [
    "class Resnet50CustomModel(Module):\n",
    "    def __init__(self, encoder, head):\n",
    "        self.encoder = encoder\n",
    "        self.stem = encoder[0:4]\n",
    "        self.block1 = body[4]\n",
    "        self.block2 = body[5]\n",
    "        self.branch1 = create_head(512*2, len(set(df['Family'])))\n",
    "        self.block3 = body[6]\n",
    "        self.block4 = body[7]\n",
    "        self.head = head\n",
    "    \n",
    "    def forward(self, x):\n",
    "        x = self.stem(x)\n",
    "        x = self.block1(x)\n",
    "        x = self.block2(x)\n",
    "        coarse1_label = self.branch1(x)\n",
    "        x = self.block3(x)\n",
    "        x = self.block4(x)\n",
    "        fine_label = self.head(x)\n",
    "        return {\n",
    "                'fine_label': fine_label,\n",
    "                'coarse1_label': coarse1_label\n",
    "               }"
   ]
  },
  {
   "cell_type": "code",
   "execution_count": 29,
   "metadata": {
    "scrolled": true
   },
   "outputs": [],
   "source": [
    "model = Resnet50CustomModel(body, head)"
   ]
  },
  {
   "cell_type": "code",
   "execution_count": 30,
   "metadata": {
    "scrolled": true
   },
   "outputs": [],
   "source": [
    "class CustomCategorize(DisplayedTransform):\n",
    "    \"Reversible transform of category string to `vocab` id\"\n",
    "    loss_func,order=CrossEntropyLossFlat(),1\n",
    "    def __init__(self, vocab=None, vocab_coarse1=None, vocab_coarse2=None, sort=True, add_na=False, num_y=1):\n",
    "        store_attr()\n",
    "        self.vocab = None if vocab is None else CategoryMap(vocab, sort=sort, add_na=add_na)\n",
    "        self.vocab_coarse1 = None if vocab_coarse1 is None else CategoryMap(vocab_coarse1, sort=sort, add_na=add_na)\n",
    "\n",
    "    def setups(self, dsets):\n",
    "        fine_dsets = [d[1] for d in dsets]\n",
    "        coarse1_dsets = [d[0] for d in dsets]\n",
    "        if self.vocab is None and dsets is not None: self.vocab = CategoryMap(fine_dsets, sort=self.sort, add_na=self.add_na)\n",
    "        if self.vocab_coarse1 is None and dsets is not None: self.vocab_coarse1 = CategoryMap(coarse1_dsets, sort=self.sort, add_na=self.add_na)\n",
    "        self.c = len(self.vocab)\n",
    "\n",
    "    def encodes(self, o): return {'fine_label': TensorCategory(self.vocab.o2i[o[1]]),\n",
    "                                  'coarse1_label': TensorCategory(self.vocab_coarse1.o2i[o[0]])\n",
    "                                 }\n",
    "    def decodes(self, o): return Category      (self.vocab    [o])"
   ]
  },
  {
   "cell_type": "code",
   "execution_count": 31,
   "metadata": {
    "scrolled": true
   },
   "outputs": [],
   "source": [
    "def CustomCategoryBlock(vocab=None, sort=True, add_na=False, num_y=1):\n",
    "    \"`TransformBlock` for single-label categorical targets\"\n",
    "    return TransformBlock(type_tfms=CustomCategorize(vocab=vocab, sort=sort, add_na=add_na))"
   ]
  },
  {
   "cell_type": "code",
   "execution_count": 32,
   "metadata": {
    "scrolled": true
   },
   "outputs": [],
   "source": [
    "def custom_splitter(model):\n",
    "    return [params(model.stem),\n",
    "            params(model.block1),\n",
    "            params(model.block2),\n",
    "            params(model.block3),\n",
    "            params(model.block4),\n",
    "            params(model.head)]"
   ]
  },
  {
   "cell_type": "code",
   "execution_count": 33,
   "metadata": {
    "scrolled": true
   },
   "outputs": [],
   "source": [
    "fishes = DataBlock(blocks = (ImageBlock, CustomCategoryBlock),\n",
    "                 splitter=ColSplitter(),\n",
    "                 get_x = ColReader(5, pref=path),\n",
    "                 get_y=custom_get_y,\n",
    "                 item_tfms=RandomResizedCrop(336, min_scale=0.5),\n",
    "                 batch_tfms=aug_transforms())\n",
    "dls = fishes.dataloaders(df)"
   ]
  },
  {
   "cell_type": "code",
   "execution_count": 34,
   "metadata": {
    "scrolled": true
   },
   "outputs": [
    {
     "data": {
      "text/plain": [
       "((#337741) [(PILImage mode=RGB size=768x1024, {'fine_label': TensorCategory(531), 'coarse1_label': TensorCategory(25)}),(PILImage mode=RGB size=1024x738, {'fine_label': TensorCategory(776), 'coarse1_label': TensorCategory(25)}),(PILImage mode=RGB size=768x1024, {'fine_label': TensorCategory(538), 'coarse1_label': TensorCategory(25)}),(PILImage mode=RGB size=768x1024, {'fine_label': TensorCategory(837), 'coarse1_label': TensorCategory(41)}),(PILImage mode=RGB size=1024x786, {'fine_label': TensorCategory(32), 'coarse1_label': TensorCategory(0)}),(PILImage mode=RGB size=1024x683, {'fine_label': TensorCategory(145), 'coarse1_label': TensorCategory(109)}),(PILImage mode=RGB size=768x1024, {'fine_label': TensorCategory(827), 'coarse1_label': TensorCategory(108)}),(PILImage mode=RGB size=1024x697, {'fine_label': TensorCategory(792), 'coarse1_label': TensorCategory(100)}),(PILImage mode=RGB size=1024x768, {'fine_label': TensorCategory(784), 'coarse1_label': TensorCategory(9)}),(PILImage mode=RGB size=1024x768, {'fine_label': TensorCategory(522), 'coarse1_label': TensorCategory(121)})...],\n",
       " (#84436) [(PILImage mode=RGB size=576x1024, {'fine_label': TensorCategory(826), 'coarse1_label': TensorCategory(108)}),(PILImage mode=RGB size=512x320, {'fine_label': TensorCategory(296), 'coarse1_label': TensorCategory(0)}),(PILImage mode=RGB size=1024x768, {'fine_label': TensorCategory(283), 'coarse1_label': TensorCategory(71)}),(PILImage mode=RGB size=1024x683, {'fine_label': TensorCategory(223), 'coarse1_label': TensorCategory(71)}),(PILImage mode=RGB size=1024x683, {'fine_label': TensorCategory(333), 'coarse1_label': TensorCategory(121)}),(PILImage mode=RGB size=1024x768, {'fine_label': TensorCategory(272), 'coarse1_label': TensorCategory(41)}),(PILImage mode=RGB size=1024x576, {'fine_label': TensorCategory(163), 'coarse1_label': TensorCategory(23)}),(PILImage mode=RGB size=1024x768, {'fine_label': TensorCategory(827), 'coarse1_label': TensorCategory(108)}),(PILImage mode=RGB size=1024x768, {'fine_label': TensorCategory(868), 'coarse1_label': TensorCategory(113)}),(PILImage mode=RGB size=768x1024, {'fine_label': TensorCategory(816), 'coarse1_label': TensorCategory(41)})...])"
      ]
     },
     "execution_count": 34,
     "metadata": {},
     "output_type": "execute_result"
    }
   ],
   "source": [
    "dls.train_ds, dls.valid_ds"
   ]
  },
  {
   "cell_type": "code",
   "execution_count": 35,
   "metadata": {
    "scrolled": false
   },
   "outputs": [
    {
     "data": {
      "text/plain": [
       "((#1000) ['Abramis brama','Abudefduf abdominalis','Abudefduf bengalensis','Abudefduf saxatilis','Abudefduf septemfasciatus','Abudefduf sexfasciatus','Abudefduf sordidus','Abudefduf troschelii','Abudefduf vaigiensis','Acanthaluteres vittiger'...],\n",
       " (#135) ['Acanthuridae','Achiridae','Acipenseridae','Amiidae','Ammodytidae','Anguillidae','Antennariidae','Aphredoderidae','Aplodactylidae','Apogonidae'...])"
      ]
     },
     "execution_count": 35,
     "metadata": {},
     "output_type": "execute_result"
    }
   ],
   "source": [
    "dls.vocab, dls.vocab_coarse1"
   ]
  },
  {
   "cell_type": "code",
   "execution_count": 36,
   "metadata": {},
   "outputs": [],
   "source": [
    "weights = tensor([float(weights_df[weights_df['Specie']==c]['Weight']) for c in dls.vocab]).cuda()\n",
    "weights_family = tensor([float(weights_family_df[weights_family_df['Family']==c]['Weight']) for c in dls.vocab_coarse1]).cuda()"
   ]
  },
  {
   "cell_type": "code",
   "execution_count": 37,
   "metadata": {
    "scrolled": true
   },
   "outputs": [],
   "source": [
    "def loss_func(out, targ):\n",
    "    return nn.CrossEntropyLoss(weight=weights)(out['fine_label'], targ['fine_label']) + \\\n",
    "            nn.CrossEntropyLoss(weight=weights_family)(out['coarse1_label'], targ['coarse1_label'])"
   ]
  },
  {
   "cell_type": "code",
   "execution_count": 38,
   "metadata": {
    "scrolled": true
   },
   "outputs": [],
   "source": [
    "def custom_accuracy(inp, targ, axis=-1):\n",
    "    pred1,targ1 = flatten_check(inp['fine_label'].argmax(dim=axis), targ['fine_label'])\n",
    "    acc1 = (pred1 == targ1).float().mean()\n",
    "    return acc1"
   ]
  },
  {
   "cell_type": "code",
   "execution_count": 39,
   "metadata": {
    "scrolled": true
   },
   "outputs": [],
   "source": [
    "learn = Learner(dls, model, loss_func=loss_func, metrics=custom_accuracy,\n",
    "                   splitter=custom_splitter).to_fp16()\n",
    "learn.freeze()"
   ]
  },
  {
   "cell_type": "code",
   "execution_count": 40,
   "metadata": {
    "scrolled": true
   },
   "outputs": [
    {
     "data": {
      "text/html": [
       "<table border=\"1\" class=\"dataframe\">\n",
       "  <thead>\n",
       "    <tr style=\"text-align: left;\">\n",
       "      <th>epoch</th>\n",
       "      <th>train_loss</th>\n",
       "      <th>valid_loss</th>\n",
       "      <th>custom_accuracy</th>\n",
       "      <th>time</th>\n",
       "    </tr>\n",
       "  </thead>\n",
       "  <tbody>\n",
       "    <tr>\n",
       "      <td>0</td>\n",
       "      <td>None</td>\n",
       "      <td>None</td>\n",
       "      <td>00:00</td>\n",
       "    </tr>\n",
       "  </tbody>\n",
       "</table>"
      ],
      "text/plain": [
       "<IPython.core.display.HTML object>"
      ]
     },
     "metadata": {},
     "output_type": "display_data"
    },
    {
     "data": {
      "text/plain": [
       "Resnet50CustomModel (Input shape: ['64 x 3 x 336 x 336'])\n",
       "================================================================\n",
       "Layer (type)         Output Shape         Param #    Trainable \n",
       "================================================================\n",
       "Conv2d               64 x 64 x 168 x 168  9,408      False     \n",
       "________________________________________________________________\n",
       "BatchNorm2d          64 x 64 x 168 x 168  128        True      \n",
       "________________________________________________________________\n",
       "ReLU                 64 x 64 x 168 x 168  0          False     \n",
       "________________________________________________________________\n",
       "MaxPool2d            64 x 64 x 84 x 84    0          False     \n",
       "________________________________________________________________\n",
       "Conv2d               64 x 64 x 84 x 84    4,096      False     \n",
       "________________________________________________________________\n",
       "BatchNorm2d          64 x 64 x 84 x 84    128        True      \n",
       "________________________________________________________________\n",
       "Conv2d               64 x 64 x 84 x 84    36,864     False     \n",
       "________________________________________________________________\n",
       "BatchNorm2d          64 x 64 x 84 x 84    128        True      \n",
       "________________________________________________________________\n",
       "Conv2d               64 x 256 x 84 x 84   16,384     False     \n",
       "________________________________________________________________\n",
       "BatchNorm2d          64 x 256 x 84 x 84   512        True      \n",
       "________________________________________________________________\n",
       "ReLU                 64 x 256 x 84 x 84   0          False     \n",
       "________________________________________________________________\n",
       "Conv2d               64 x 256 x 84 x 84   16,384     False     \n",
       "________________________________________________________________\n",
       "BatchNorm2d          64 x 256 x 84 x 84   512        True      \n",
       "________________________________________________________________\n",
       "Conv2d               64 x 64 x 84 x 84    16,384     False     \n",
       "________________________________________________________________\n",
       "BatchNorm2d          64 x 64 x 84 x 84    128        True      \n",
       "________________________________________________________________\n",
       "Conv2d               64 x 64 x 84 x 84    36,864     False     \n",
       "________________________________________________________________\n",
       "BatchNorm2d          64 x 64 x 84 x 84    128        True      \n",
       "________________________________________________________________\n",
       "Conv2d               64 x 256 x 84 x 84   16,384     False     \n",
       "________________________________________________________________\n",
       "BatchNorm2d          64 x 256 x 84 x 84   512        True      \n",
       "________________________________________________________________\n",
       "ReLU                 64 x 256 x 84 x 84   0          False     \n",
       "________________________________________________________________\n",
       "Conv2d               64 x 64 x 84 x 84    16,384     False     \n",
       "________________________________________________________________\n",
       "BatchNorm2d          64 x 64 x 84 x 84    128        True      \n",
       "________________________________________________________________\n",
       "Conv2d               64 x 64 x 84 x 84    36,864     False     \n",
       "________________________________________________________________\n",
       "BatchNorm2d          64 x 64 x 84 x 84    128        True      \n",
       "________________________________________________________________\n",
       "Conv2d               64 x 256 x 84 x 84   16,384     False     \n",
       "________________________________________________________________\n",
       "BatchNorm2d          64 x 256 x 84 x 84   512        True      \n",
       "________________________________________________________________\n",
       "ReLU                 64 x 256 x 84 x 84   0          False     \n",
       "________________________________________________________________\n",
       "Conv2d               64 x 128 x 84 x 84   32,768     False     \n",
       "________________________________________________________________\n",
       "BatchNorm2d          64 x 128 x 84 x 84   256        True      \n",
       "________________________________________________________________\n",
       "Conv2d               64 x 128 x 42 x 42   147,456    False     \n",
       "________________________________________________________________\n",
       "BatchNorm2d          64 x 128 x 42 x 42   256        True      \n",
       "________________________________________________________________\n",
       "Conv2d               64 x 512 x 42 x 42   65,536     False     \n",
       "________________________________________________________________\n",
       "BatchNorm2d          64 x 512 x 42 x 42   1,024      True      \n",
       "________________________________________________________________\n",
       "ReLU                 64 x 512 x 42 x 42   0          False     \n",
       "________________________________________________________________\n",
       "Conv2d               64 x 512 x 42 x 42   131,072    False     \n",
       "________________________________________________________________\n",
       "BatchNorm2d          64 x 512 x 42 x 42   1,024      True      \n",
       "________________________________________________________________\n",
       "Conv2d               64 x 128 x 42 x 42   65,536     False     \n",
       "________________________________________________________________\n",
       "BatchNorm2d          64 x 128 x 42 x 42   256        True      \n",
       "________________________________________________________________\n",
       "Conv2d               64 x 128 x 42 x 42   147,456    False     \n",
       "________________________________________________________________\n",
       "BatchNorm2d          64 x 128 x 42 x 42   256        True      \n",
       "________________________________________________________________\n",
       "Conv2d               64 x 512 x 42 x 42   65,536     False     \n",
       "________________________________________________________________\n",
       "BatchNorm2d          64 x 512 x 42 x 42   1,024      True      \n",
       "________________________________________________________________\n",
       "ReLU                 64 x 512 x 42 x 42   0          False     \n",
       "________________________________________________________________\n",
       "Conv2d               64 x 128 x 42 x 42   65,536     False     \n",
       "________________________________________________________________\n",
       "BatchNorm2d          64 x 128 x 42 x 42   256        True      \n",
       "________________________________________________________________\n",
       "Conv2d               64 x 128 x 42 x 42   147,456    False     \n",
       "________________________________________________________________\n",
       "BatchNorm2d          64 x 128 x 42 x 42   256        True      \n",
       "________________________________________________________________\n",
       "Conv2d               64 x 512 x 42 x 42   65,536     False     \n",
       "________________________________________________________________\n",
       "BatchNorm2d          64 x 512 x 42 x 42   1,024      True      \n",
       "________________________________________________________________\n",
       "ReLU                 64 x 512 x 42 x 42   0          False     \n",
       "________________________________________________________________\n",
       "Conv2d               64 x 128 x 42 x 42   65,536     False     \n",
       "________________________________________________________________\n",
       "BatchNorm2d          64 x 128 x 42 x 42   256        True      \n",
       "________________________________________________________________\n",
       "Conv2d               64 x 128 x 42 x 42   147,456    False     \n",
       "________________________________________________________________\n",
       "BatchNorm2d          64 x 128 x 42 x 42   256        True      \n",
       "________________________________________________________________\n",
       "Conv2d               64 x 512 x 42 x 42   65,536     False     \n",
       "________________________________________________________________\n",
       "BatchNorm2d          64 x 512 x 42 x 42   1,024      True      \n",
       "________________________________________________________________\n",
       "ReLU                 64 x 512 x 42 x 42   0          False     \n",
       "________________________________________________________________\n",
       "Conv2d               64 x 256 x 42 x 42   131,072    False     \n",
       "________________________________________________________________\n",
       "BatchNorm2d          64 x 256 x 42 x 42   512        True      \n",
       "________________________________________________________________\n",
       "Conv2d               64 x 256 x 21 x 21   589,824    False     \n",
       "________________________________________________________________\n",
       "BatchNorm2d          64 x 256 x 21 x 21   512        True      \n",
       "________________________________________________________________\n",
       "Conv2d               64 x 1024 x 21 x 21  262,144    False     \n",
       "________________________________________________________________\n",
       "BatchNorm2d          64 x 1024 x 21 x 21  2,048      True      \n",
       "________________________________________________________________\n",
       "ReLU                 64 x 1024 x 21 x 21  0          False     \n",
       "________________________________________________________________\n",
       "Conv2d               64 x 1024 x 21 x 21  524,288    False     \n",
       "________________________________________________________________\n",
       "BatchNorm2d          64 x 1024 x 21 x 21  2,048      True      \n",
       "________________________________________________________________\n",
       "Conv2d               64 x 256 x 21 x 21   262,144    False     \n",
       "________________________________________________________________\n",
       "BatchNorm2d          64 x 256 x 21 x 21   512        True      \n",
       "________________________________________________________________\n",
       "Conv2d               64 x 256 x 21 x 21   589,824    False     \n",
       "________________________________________________________________\n",
       "BatchNorm2d          64 x 256 x 21 x 21   512        True      \n",
       "________________________________________________________________\n",
       "Conv2d               64 x 1024 x 21 x 21  262,144    False     \n",
       "________________________________________________________________\n",
       "BatchNorm2d          64 x 1024 x 21 x 21  2,048      True      \n",
       "________________________________________________________________\n",
       "ReLU                 64 x 1024 x 21 x 21  0          False     \n",
       "________________________________________________________________\n",
       "Conv2d               64 x 256 x 21 x 21   262,144    False     \n",
       "________________________________________________________________\n",
       "BatchNorm2d          64 x 256 x 21 x 21   512        True      \n",
       "________________________________________________________________\n",
       "Conv2d               64 x 256 x 21 x 21   589,824    False     \n",
       "________________________________________________________________\n",
       "BatchNorm2d          64 x 256 x 21 x 21   512        True      \n",
       "________________________________________________________________\n",
       "Conv2d               64 x 1024 x 21 x 21  262,144    False     \n",
       "________________________________________________________________\n",
       "BatchNorm2d          64 x 1024 x 21 x 21  2,048      True      \n",
       "________________________________________________________________\n",
       "ReLU                 64 x 1024 x 21 x 21  0          False     \n",
       "________________________________________________________________\n",
       "Conv2d               64 x 256 x 21 x 21   262,144    False     \n",
       "________________________________________________________________\n",
       "BatchNorm2d          64 x 256 x 21 x 21   512        True      \n",
       "________________________________________________________________\n",
       "Conv2d               64 x 256 x 21 x 21   589,824    False     \n",
       "________________________________________________________________\n",
       "BatchNorm2d          64 x 256 x 21 x 21   512        True      \n",
       "________________________________________________________________\n",
       "Conv2d               64 x 1024 x 21 x 21  262,144    False     \n",
       "________________________________________________________________\n",
       "BatchNorm2d          64 x 1024 x 21 x 21  2,048      True      \n",
       "________________________________________________________________\n",
       "ReLU                 64 x 1024 x 21 x 21  0          False     \n",
       "________________________________________________________________\n",
       "Conv2d               64 x 256 x 21 x 21   262,144    False     \n",
       "________________________________________________________________\n",
       "BatchNorm2d          64 x 256 x 21 x 21   512        True      \n",
       "________________________________________________________________\n",
       "Conv2d               64 x 256 x 21 x 21   589,824    False     \n",
       "________________________________________________________________\n",
       "BatchNorm2d          64 x 256 x 21 x 21   512        True      \n",
       "________________________________________________________________\n",
       "Conv2d               64 x 1024 x 21 x 21  262,144    False     \n",
       "________________________________________________________________\n",
       "BatchNorm2d          64 x 1024 x 21 x 21  2,048      True      \n",
       "________________________________________________________________\n",
       "ReLU                 64 x 1024 x 21 x 21  0          False     \n",
       "________________________________________________________________\n",
       "Conv2d               64 x 256 x 21 x 21   262,144    False     \n",
       "________________________________________________________________\n",
       "BatchNorm2d          64 x 256 x 21 x 21   512        True      \n",
       "________________________________________________________________\n",
       "Conv2d               64 x 256 x 21 x 21   589,824    False     \n",
       "________________________________________________________________\n",
       "BatchNorm2d          64 x 256 x 21 x 21   512        True      \n",
       "________________________________________________________________\n",
       "Conv2d               64 x 1024 x 21 x 21  262,144    False     \n",
       "________________________________________________________________\n",
       "BatchNorm2d          64 x 1024 x 21 x 21  2,048      True      \n",
       "________________________________________________________________\n",
       "ReLU                 64 x 1024 x 21 x 21  0          False     \n",
       "________________________________________________________________\n",
       "Conv2d               64 x 512 x 21 x 21   524,288    False     \n",
       "________________________________________________________________\n",
       "BatchNorm2d          64 x 512 x 21 x 21   1,024      True      \n",
       "________________________________________________________________\n",
       "Conv2d               64 x 512 x 11 x 11   2,359,296  False     \n",
       "________________________________________________________________\n",
       "BatchNorm2d          64 x 512 x 11 x 11   1,024      True      \n",
       "________________________________________________________________\n",
       "Conv2d               64 x 2048 x 11 x 11  1,048,576  False     \n",
       "________________________________________________________________\n",
       "BatchNorm2d          64 x 2048 x 11 x 11  4,096      True      \n",
       "________________________________________________________________\n",
       "ReLU                 64 x 2048 x 11 x 11  0          False     \n",
       "________________________________________________________________\n",
       "Conv2d               64 x 2048 x 11 x 11  2,097,152  False     \n",
       "________________________________________________________________\n",
       "BatchNorm2d          64 x 2048 x 11 x 11  4,096      True      \n",
       "________________________________________________________________\n",
       "Conv2d               64 x 512 x 11 x 11   1,048,576  False     \n",
       "________________________________________________________________\n",
       "BatchNorm2d          64 x 512 x 11 x 11   1,024      True      \n",
       "________________________________________________________________\n",
       "Conv2d               64 x 512 x 11 x 11   2,359,296  False     \n",
       "________________________________________________________________\n",
       "BatchNorm2d          64 x 512 x 11 x 11   1,024      True      \n",
       "________________________________________________________________\n",
       "Conv2d               64 x 2048 x 11 x 11  1,048,576  False     \n",
       "________________________________________________________________\n",
       "BatchNorm2d          64 x 2048 x 11 x 11  4,096      True      \n",
       "________________________________________________________________\n",
       "ReLU                 64 x 2048 x 11 x 11  0          False     \n",
       "________________________________________________________________\n",
       "Conv2d               64 x 512 x 11 x 11   1,048,576  False     \n",
       "________________________________________________________________\n",
       "BatchNorm2d          64 x 512 x 11 x 11   1,024      True      \n",
       "________________________________________________________________\n",
       "Conv2d               64 x 512 x 11 x 11   2,359,296  False     \n",
       "________________________________________________________________\n",
       "BatchNorm2d          64 x 512 x 11 x 11   1,024      True      \n",
       "________________________________________________________________\n",
       "Conv2d               64 x 2048 x 11 x 11  1,048,576  False     \n",
       "________________________________________________________________\n",
       "BatchNorm2d          64 x 2048 x 11 x 11  4,096      True      \n",
       "________________________________________________________________\n",
       "ReLU                 64 x 2048 x 11 x 11  0          False     \n",
       "________________________________________________________________\n",
       "Conv2d               64 x 64 x 168 x 168  9,408      False     \n",
       "________________________________________________________________\n",
       "BatchNorm2d          64 x 64 x 168 x 168  128        True      \n",
       "________________________________________________________________\n",
       "ReLU                 64 x 64 x 168 x 168  0          False     \n",
       "________________________________________________________________\n",
       "MaxPool2d            64 x 64 x 84 x 84    0          False     \n",
       "________________________________________________________________\n",
       "Conv2d               64 x 64 x 84 x 84    4,096      False     \n",
       "________________________________________________________________\n",
       "BatchNorm2d          64 x 64 x 84 x 84    128        True      \n",
       "________________________________________________________________\n",
       "Conv2d               64 x 64 x 84 x 84    36,864     False     \n",
       "________________________________________________________________\n",
       "BatchNorm2d          64 x 64 x 84 x 84    128        True      \n",
       "________________________________________________________________\n",
       "Conv2d               64 x 256 x 84 x 84   16,384     False     \n",
       "________________________________________________________________\n",
       "BatchNorm2d          64 x 256 x 84 x 84   512        True      \n",
       "________________________________________________________________\n",
       "ReLU                 64 x 256 x 84 x 84   0          False     \n",
       "________________________________________________________________\n",
       "Conv2d               64 x 256 x 84 x 84   16,384     False     \n",
       "________________________________________________________________\n",
       "BatchNorm2d          64 x 256 x 84 x 84   512        True      \n",
       "________________________________________________________________\n",
       "Conv2d               64 x 64 x 84 x 84    16,384     False     \n",
       "________________________________________________________________\n",
       "BatchNorm2d          64 x 64 x 84 x 84    128        True      \n",
       "________________________________________________________________\n",
       "Conv2d               64 x 64 x 84 x 84    36,864     False     \n",
       "________________________________________________________________\n",
       "BatchNorm2d          64 x 64 x 84 x 84    128        True      \n",
       "________________________________________________________________\n",
       "Conv2d               64 x 256 x 84 x 84   16,384     False     \n",
       "________________________________________________________________\n",
       "BatchNorm2d          64 x 256 x 84 x 84   512        True      \n",
       "________________________________________________________________\n",
       "ReLU                 64 x 256 x 84 x 84   0          False     \n",
       "________________________________________________________________\n",
       "Conv2d               64 x 64 x 84 x 84    16,384     False     \n",
       "________________________________________________________________\n",
       "BatchNorm2d          64 x 64 x 84 x 84    128        True      \n",
       "________________________________________________________________\n",
       "Conv2d               64 x 64 x 84 x 84    36,864     False     \n",
       "________________________________________________________________\n",
       "BatchNorm2d          64 x 64 x 84 x 84    128        True      \n",
       "________________________________________________________________\n",
       "Conv2d               64 x 256 x 84 x 84   16,384     False     \n",
       "________________________________________________________________\n",
       "BatchNorm2d          64 x 256 x 84 x 84   512        True      \n",
       "________________________________________________________________\n",
       "ReLU                 64 x 256 x 84 x 84   0          False     \n",
       "________________________________________________________________\n",
       "Conv2d               64 x 128 x 84 x 84   32,768     False     \n",
       "________________________________________________________________\n",
       "BatchNorm2d          64 x 128 x 84 x 84   256        True      \n",
       "________________________________________________________________\n",
       "Conv2d               64 x 128 x 42 x 42   147,456    False     \n",
       "________________________________________________________________\n",
       "BatchNorm2d          64 x 128 x 42 x 42   256        True      \n",
       "________________________________________________________________\n",
       "Conv2d               64 x 512 x 42 x 42   65,536     False     \n",
       "________________________________________________________________\n",
       "BatchNorm2d          64 x 512 x 42 x 42   1,024      True      \n",
       "________________________________________________________________\n",
       "ReLU                 64 x 512 x 42 x 42   0          False     \n",
       "________________________________________________________________\n",
       "Conv2d               64 x 512 x 42 x 42   131,072    False     \n",
       "________________________________________________________________\n",
       "BatchNorm2d          64 x 512 x 42 x 42   1,024      True      \n",
       "________________________________________________________________\n",
       "Conv2d               64 x 128 x 42 x 42   65,536     False     \n",
       "________________________________________________________________\n",
       "BatchNorm2d          64 x 128 x 42 x 42   256        True      \n",
       "________________________________________________________________\n",
       "Conv2d               64 x 128 x 42 x 42   147,456    False     \n",
       "________________________________________________________________\n",
       "BatchNorm2d          64 x 128 x 42 x 42   256        True      \n",
       "________________________________________________________________\n",
       "Conv2d               64 x 512 x 42 x 42   65,536     False     \n",
       "________________________________________________________________\n",
       "BatchNorm2d          64 x 512 x 42 x 42   1,024      True      \n",
       "________________________________________________________________\n",
       "ReLU                 64 x 512 x 42 x 42   0          False     \n",
       "________________________________________________________________\n",
       "Conv2d               64 x 128 x 42 x 42   65,536     False     \n",
       "________________________________________________________________\n",
       "BatchNorm2d          64 x 128 x 42 x 42   256        True      \n",
       "________________________________________________________________\n",
       "Conv2d               64 x 128 x 42 x 42   147,456    False     \n",
       "________________________________________________________________\n",
       "BatchNorm2d          64 x 128 x 42 x 42   256        True      \n",
       "________________________________________________________________\n",
       "Conv2d               64 x 512 x 42 x 42   65,536     False     \n",
       "________________________________________________________________\n",
       "BatchNorm2d          64 x 512 x 42 x 42   1,024      True      \n",
       "________________________________________________________________\n",
       "ReLU                 64 x 512 x 42 x 42   0          False     \n",
       "________________________________________________________________\n",
       "Conv2d               64 x 128 x 42 x 42   65,536     False     \n",
       "________________________________________________________________\n",
       "BatchNorm2d          64 x 128 x 42 x 42   256        True      \n",
       "________________________________________________________________\n",
       "Conv2d               64 x 128 x 42 x 42   147,456    False     \n",
       "________________________________________________________________\n",
       "BatchNorm2d          64 x 128 x 42 x 42   256        True      \n",
       "________________________________________________________________\n",
       "Conv2d               64 x 512 x 42 x 42   65,536     False     \n",
       "________________________________________________________________\n",
       "BatchNorm2d          64 x 512 x 42 x 42   1,024      True      \n",
       "________________________________________________________________\n",
       "ReLU                 64 x 512 x 42 x 42   0          False     \n",
       "________________________________________________________________\n",
       "AdaptiveAvgPool2d    64 x 512 x 1 x 1     0          False     \n",
       "________________________________________________________________\n",
       "AdaptiveMaxPool2d    64 x 512 x 1 x 1     0          False     \n",
       "________________________________________________________________\n",
       "Flatten              64 x 1024            0          False     \n",
       "________________________________________________________________\n",
       "BatchNorm1d          64 x 1024            2,048      True      \n",
       "________________________________________________________________\n",
       "Dropout              64 x 1024            0          False     \n",
       "________________________________________________________________\n",
       "Linear               64 x 512             524,288    True      \n",
       "________________________________________________________________\n",
       "ReLU                 64 x 512             0          False     \n",
       "________________________________________________________________\n",
       "BatchNorm1d          64 x 512             1,024      True      \n",
       "________________________________________________________________\n",
       "Dropout              64 x 512             0          False     \n",
       "________________________________________________________________\n",
       "Linear               64 x 135             69,120     True      \n",
       "________________________________________________________________\n",
       "Conv2d               64 x 256 x 42 x 42   131,072    False     \n",
       "________________________________________________________________\n",
       "BatchNorm2d          64 x 256 x 42 x 42   512        True      \n",
       "________________________________________________________________\n",
       "Conv2d               64 x 256 x 21 x 21   589,824    False     \n",
       "________________________________________________________________\n",
       "BatchNorm2d          64 x 256 x 21 x 21   512        True      \n",
       "________________________________________________________________\n",
       "Conv2d               64 x 1024 x 21 x 21  262,144    False     \n",
       "________________________________________________________________\n",
       "BatchNorm2d          64 x 1024 x 21 x 21  2,048      True      \n",
       "________________________________________________________________\n",
       "ReLU                 64 x 1024 x 21 x 21  0          False     \n",
       "________________________________________________________________\n",
       "Conv2d               64 x 1024 x 21 x 21  524,288    False     \n",
       "________________________________________________________________\n",
       "BatchNorm2d          64 x 1024 x 21 x 21  2,048      True      \n",
       "________________________________________________________________\n",
       "Conv2d               64 x 256 x 21 x 21   262,144    False     \n",
       "________________________________________________________________\n",
       "BatchNorm2d          64 x 256 x 21 x 21   512        True      \n",
       "________________________________________________________________\n",
       "Conv2d               64 x 256 x 21 x 21   589,824    False     \n",
       "________________________________________________________________\n",
       "BatchNorm2d          64 x 256 x 21 x 21   512        True      \n",
       "________________________________________________________________\n",
       "Conv2d               64 x 1024 x 21 x 21  262,144    False     \n",
       "________________________________________________________________\n",
       "BatchNorm2d          64 x 1024 x 21 x 21  2,048      True      \n",
       "________________________________________________________________\n",
       "ReLU                 64 x 1024 x 21 x 21  0          False     \n",
       "________________________________________________________________\n",
       "Conv2d               64 x 256 x 21 x 21   262,144    False     \n",
       "________________________________________________________________\n",
       "BatchNorm2d          64 x 256 x 21 x 21   512        True      \n",
       "________________________________________________________________\n",
       "Conv2d               64 x 256 x 21 x 21   589,824    False     \n",
       "________________________________________________________________\n",
       "BatchNorm2d          64 x 256 x 21 x 21   512        True      \n",
       "________________________________________________________________\n",
       "Conv2d               64 x 1024 x 21 x 21  262,144    False     \n",
       "________________________________________________________________\n",
       "BatchNorm2d          64 x 1024 x 21 x 21  2,048      True      \n",
       "________________________________________________________________\n",
       "ReLU                 64 x 1024 x 21 x 21  0          False     \n",
       "________________________________________________________________\n",
       "Conv2d               64 x 256 x 21 x 21   262,144    False     \n",
       "________________________________________________________________\n",
       "BatchNorm2d          64 x 256 x 21 x 21   512        True      \n",
       "________________________________________________________________\n",
       "Conv2d               64 x 256 x 21 x 21   589,824    False     \n",
       "________________________________________________________________\n",
       "BatchNorm2d          64 x 256 x 21 x 21   512        True      \n",
       "________________________________________________________________\n",
       "Conv2d               64 x 1024 x 21 x 21  262,144    False     \n",
       "________________________________________________________________\n",
       "BatchNorm2d          64 x 1024 x 21 x 21  2,048      True      \n",
       "________________________________________________________________\n",
       "ReLU                 64 x 1024 x 21 x 21  0          False     \n",
       "________________________________________________________________\n",
       "Conv2d               64 x 256 x 21 x 21   262,144    False     \n",
       "________________________________________________________________\n",
       "BatchNorm2d          64 x 256 x 21 x 21   512        True      \n",
       "________________________________________________________________\n",
       "Conv2d               64 x 256 x 21 x 21   589,824    False     \n",
       "________________________________________________________________\n",
       "BatchNorm2d          64 x 256 x 21 x 21   512        True      \n",
       "________________________________________________________________\n",
       "Conv2d               64 x 1024 x 21 x 21  262,144    False     \n",
       "________________________________________________________________\n",
       "BatchNorm2d          64 x 1024 x 21 x 21  2,048      True      \n",
       "________________________________________________________________\n",
       "ReLU                 64 x 1024 x 21 x 21  0          False     \n",
       "________________________________________________________________\n",
       "Conv2d               64 x 256 x 21 x 21   262,144    False     \n",
       "________________________________________________________________\n",
       "BatchNorm2d          64 x 256 x 21 x 21   512        True      \n",
       "________________________________________________________________\n",
       "Conv2d               64 x 256 x 21 x 21   589,824    False     \n",
       "________________________________________________________________\n",
       "BatchNorm2d          64 x 256 x 21 x 21   512        True      \n",
       "________________________________________________________________\n",
       "Conv2d               64 x 1024 x 21 x 21  262,144    False     \n",
       "________________________________________________________________\n",
       "BatchNorm2d          64 x 1024 x 21 x 21  2,048      True      \n",
       "________________________________________________________________\n",
       "ReLU                 64 x 1024 x 21 x 21  0          False     \n",
       "________________________________________________________________\n",
       "Conv2d               64 x 512 x 21 x 21   524,288    False     \n",
       "________________________________________________________________\n",
       "BatchNorm2d          64 x 512 x 21 x 21   1,024      True      \n",
       "________________________________________________________________\n",
       "Conv2d               64 x 512 x 11 x 11   2,359,296  False     \n",
       "________________________________________________________________\n",
       "BatchNorm2d          64 x 512 x 11 x 11   1,024      True      \n",
       "________________________________________________________________\n",
       "Conv2d               64 x 2048 x 11 x 11  1,048,576  False     \n",
       "________________________________________________________________\n",
       "BatchNorm2d          64 x 2048 x 11 x 11  4,096      True      \n",
       "________________________________________________________________\n",
       "ReLU                 64 x 2048 x 11 x 11  0          False     \n",
       "________________________________________________________________\n",
       "Conv2d               64 x 2048 x 11 x 11  2,097,152  False     \n",
       "________________________________________________________________\n",
       "BatchNorm2d          64 x 2048 x 11 x 11  4,096      True      \n",
       "________________________________________________________________\n",
       "Conv2d               64 x 512 x 11 x 11   1,048,576  False     \n",
       "________________________________________________________________\n",
       "BatchNorm2d          64 x 512 x 11 x 11   1,024      True      \n",
       "________________________________________________________________\n",
       "Conv2d               64 x 512 x 11 x 11   2,359,296  False     \n",
       "________________________________________________________________\n",
       "BatchNorm2d          64 x 512 x 11 x 11   1,024      True      \n",
       "________________________________________________________________\n",
       "Conv2d               64 x 2048 x 11 x 11  1,048,576  False     \n",
       "________________________________________________________________\n",
       "BatchNorm2d          64 x 2048 x 11 x 11  4,096      True      \n",
       "________________________________________________________________\n",
       "ReLU                 64 x 2048 x 11 x 11  0          False     \n",
       "________________________________________________________________\n",
       "Conv2d               64 x 512 x 11 x 11   1,048,576  False     \n",
       "________________________________________________________________\n",
       "BatchNorm2d          64 x 512 x 11 x 11   1,024      True      \n",
       "________________________________________________________________\n",
       "Conv2d               64 x 512 x 11 x 11   2,359,296  False     \n",
       "________________________________________________________________\n",
       "BatchNorm2d          64 x 512 x 11 x 11   1,024      True      \n",
       "________________________________________________________________\n",
       "Conv2d               64 x 2048 x 11 x 11  1,048,576  False     \n",
       "________________________________________________________________\n",
       "BatchNorm2d          64 x 2048 x 11 x 11  4,096      True      \n",
       "________________________________________________________________\n",
       "ReLU                 64 x 2048 x 11 x 11  0          False     \n",
       "________________________________________________________________\n",
       "AdaptiveAvgPool2d    64 x 2048 x 1 x 1    0          False     \n",
       "________________________________________________________________\n",
       "AdaptiveMaxPool2d    64 x 2048 x 1 x 1    0          False     \n",
       "________________________________________________________________\n",
       "Flatten              64 x 4096            0          False     \n",
       "________________________________________________________________\n",
       "BatchNorm1d          64 x 4096            8,192      True      \n",
       "________________________________________________________________\n",
       "Dropout              64 x 4096            0          False     \n",
       "________________________________________________________________\n",
       "Linear               64 x 512             2,097,152  True      \n",
       "________________________________________________________________\n",
       "ReLU                 64 x 512             0          False     \n",
       "________________________________________________________________\n",
       "BatchNorm1d          64 x 512             1,024      True      \n",
       "________________________________________________________________\n",
       "Dropout              64 x 512             0          False     \n",
       "________________________________________________________________\n",
       "Linear               64 x 1000            512,000    True      \n",
       "________________________________________________________________\n",
       "\n",
       "Total params: 50,230,912\n",
       "Total trainable params: 3,321,088\n",
       "Total non-trainable params: 46,909,824\n",
       "\n",
       "Optimizer used: <function Adam at 0x7f2512115670>\n",
       "Loss function: <function loss_func at 0x7f24fe2b9af0>\n",
       "\n",
       "Model frozen up to parameter group #5\n",
       "\n",
       "Callbacks:\n",
       "  - ModelToHalf\n",
       "  - TrainEvalCallback\n",
       "  - Recorder\n",
       "  - ProgressCallback\n",
       "  - MixedPrecision"
      ]
     },
     "execution_count": 40,
     "metadata": {},
     "output_type": "execute_result"
    }
   ],
   "source": [
    "learn.summary()"
   ]
  },
  {
   "cell_type": "code",
   "execution_count": 41,
   "metadata": {
    "scrolled": true
   },
   "outputs": [
    {
     "data": {
      "text/html": [
       "<table border=\"1\" class=\"dataframe\">\n",
       "  <thead>\n",
       "    <tr style=\"text-align: left;\">\n",
       "      <th>epoch</th>\n",
       "      <th>train_loss</th>\n",
       "      <th>valid_loss</th>\n",
       "      <th>custom_accuracy</th>\n",
       "      <th>time</th>\n",
       "    </tr>\n",
       "  </thead>\n",
       "  <tbody>\n",
       "    <tr>\n",
       "      <td>0</td>\n",
       "      <td>8.407524</td>\n",
       "      <td>7.475422</td>\n",
       "      <td>0.419217</td>\n",
       "      <td>27:57</td>\n",
       "    </tr>\n",
       "  </tbody>\n",
       "</table>"
      ],
      "text/plain": [
       "<IPython.core.display.HTML object>"
      ]
     },
     "metadata": {},
     "output_type": "display_data"
    },
    {
     "data": {
      "text/plain": [
       "Path('models/species1000-resnet50-branch1-fepochs1-uepochs0.pth')"
      ]
     },
     "execution_count": 41,
     "metadata": {},
     "output_type": "execute_result"
    }
   ],
   "source": [
    "learn.fit(1, 3e-3)\n",
    "learn.save('species1000-resnet50-branch1-fepochs1-uepochs0')"
   ]
  },
  {
   "cell_type": "code",
   "execution_count": 42,
   "metadata": {},
   "outputs": [],
   "source": [
    "learn.unfreeze()"
   ]
  },
  {
   "cell_type": "code",
   "execution_count": 43,
   "metadata": {},
   "outputs": [
    {
     "data": {
      "text/html": [],
      "text/plain": [
       "<IPython.core.display.HTML object>"
      ]
     },
     "metadata": {},
     "output_type": "display_data"
    },
    {
     "data": {
      "text/plain": [
       "SuggestedLRs(lr_min=6.309573450380412e-08, lr_steep=9.12010818865383e-07)"
      ]
     },
     "execution_count": 43,
     "metadata": {},
     "output_type": "execute_result"
    },
    {
     "data": {
      "image/png": "[encoded data removed]",
      "text/plain": [
       "<Figure size 432x288 with 1 Axes>"
      ]
     },
     "metadata": {
      "needs_background": "light"
     },
     "output_type": "display_data"
    }
   ],
   "source": [
    "learn.lr_find()"
   ]
  },
  {
   "cell_type": "code",
   "execution_count": 44,
   "metadata": {},
   "outputs": [
    {
     "data": {
      "text/html": [
       "<table border=\"1\" class=\"dataframe\">\n",
       "  <thead>\n",
       "    <tr style=\"text-align: left;\">\n",
       "      <th>epoch</th>\n",
       "      <th>train_loss</th>\n",
       "      <th>valid_loss</th>\n",
       "      <th>custom_accuracy</th>\n",
       "      <th>time</th>\n",
       "    </tr>\n",
       "  </thead>\n",
       "  <tbody>\n",
       "    <tr>\n",
       "      <td>0</td>\n",
       "      <td>7.397112</td>\n",
       "      <td>6.662892</td>\n",
       "      <td>0.533576</td>\n",
       "      <td>29:59</td>\n",
       "    </tr>\n",
       "    <tr>\n",
       "      <td>1</td>\n",
       "      <td>7.103325</td>\n",
       "      <td>6.388296</td>\n",
       "      <td>0.576200</td>\n",
       "      <td>32:36</td>\n",
       "    </tr>\n",
       "    <tr>\n",
       "      <td>2</td>\n",
       "      <td>6.826472</td>\n",
       "      <td>6.192038</td>\n",
       "      <td>0.608117</td>\n",
       "      <td>29:48</td>\n",
       "    </tr>\n",
       "    <tr>\n",
       "      <td>3</td>\n",
       "      <td>6.624387</td>\n",
       "      <td>6.052075</td>\n",
       "      <td>0.622365</td>\n",
       "      <td>29:56</td>\n",
       "    </tr>\n",
       "    <tr>\n",
       "      <td>4</td>\n",
       "      <td>6.477270</td>\n",
       "      <td>5.932251</td>\n",
       "      <td>0.639573</td>\n",
       "      <td>29:56</td>\n",
       "    </tr>\n",
       "  </tbody>\n",
       "</table>"
      ],
      "text/plain": [
       "<IPython.core.display.HTML object>"
      ]
     },
     "metadata": {},
     "output_type": "display_data"
    },
    {
     "data": {
      "text/plain": [
       "Path('models/species1000-resnet50-branch1-fepochs1-uepochs5.pth')"
      ]
     },
     "execution_count": 44,
     "metadata": {},
     "output_type": "execute_result"
    }
   ],
   "source": [
    "learn.fit(5, slice(1e-6,1e-4))\n",
    "learn.save('species1000-resnet50-branch1-fepochs1-uepochs5')"
   ]
  },
  {
   "cell_type": "code",
   "execution_count": null,
   "metadata": {
    "scrolled": true
   },
   "outputs": [],
   "source": [
    "def continue_training(pth_filename):\n",
    "    learn = Learner(dls, model, loss_func=loss_func, metrics=custom_accuracy,\n",
    "                   splitter=custom_splitter).to_fp16()\n",
    "    learn.load(pth_filename)\n",
    "    learn.unfreeze()\n",
    "    return learn"
   ]
  },
  {
   "cell_type": "code",
   "execution_count": 45,
   "metadata": {
    "scrolled": true
   },
   "outputs": [
    {
     "data": {
      "text/html": [
       "<table border=\"1\" class=\"dataframe\">\n",
       "  <thead>\n",
       "    <tr style=\"text-align: left;\">\n",
       "      <th>epoch</th>\n",
       "      <th>train_loss</th>\n",
       "      <th>valid_loss</th>\n",
       "      <th>custom_accuracy</th>\n",
       "      <th>time</th>\n",
       "    </tr>\n",
       "  </thead>\n",
       "  <tbody>\n",
       "    <tr>\n",
       "      <td>0</td>\n",
       "      <td>6.547473</td>\n",
       "      <td>5.848159</td>\n",
       "      <td>0.654579</td>\n",
       "      <td>29:59</td>\n",
       "    </tr>\n",
       "    <tr>\n",
       "      <td>1</td>\n",
       "      <td>6.265859</td>\n",
       "      <td>5.778630</td>\n",
       "      <td>0.663295</td>\n",
       "      <td>29:56</td>\n",
       "    </tr>\n",
       "    <tr>\n",
       "      <td>2</td>\n",
       "      <td>6.213717</td>\n",
       "      <td>5.695275</td>\n",
       "      <td>0.674795</td>\n",
       "      <td>30:54</td>\n",
       "    </tr>\n",
       "    <tr>\n",
       "      <td>3</td>\n",
       "      <td>5.987707</td>\n",
       "      <td>5.638233</td>\n",
       "      <td>0.678028</td>\n",
       "      <td>29:55</td>\n",
       "    </tr>\n",
       "    <tr>\n",
       "      <td>4</td>\n",
       "      <td>6.038123</td>\n",
       "      <td>5.594209</td>\n",
       "      <td>0.682884</td>\n",
       "      <td>29:55</td>\n",
       "    </tr>\n",
       "  </tbody>\n",
       "</table>"
      ],
      "text/plain": [
       "<IPython.core.display.HTML object>"
      ]
     },
     "metadata": {},
     "output_type": "display_data"
    },
    {
     "data": {
      "text/plain": [
       "Path('models/species1000-resnet50-branch1-fepochs1-uepochs10.pth')"
      ]
     },
     "execution_count": 45,
     "metadata": {},
     "output_type": "execute_result"
    }
   ],
   "source": [
    "learn.fit(5, slice(1e-6,1e-4))\n",
    "learn.save('species1000-resnet50-branch1-fepochs1-uepochs10')"
   ]
  },
  {
   "cell_type": "code",
   "execution_count": 46,
   "metadata": {
    "scrolled": true
   },
   "outputs": [
    {
     "data": {
      "text/html": [
       "<table border=\"1\" class=\"dataframe\">\n",
       "  <thead>\n",
       "    <tr style=\"text-align: left;\">\n",
       "      <th>epoch</th>\n",
       "      <th>train_loss</th>\n",
       "      <th>valid_loss</th>\n",
       "      <th>custom_accuracy</th>\n",
       "      <th>time</th>\n",
       "    </tr>\n",
       "  </thead>\n",
       "  <tbody>\n",
       "    <tr>\n",
       "      <td>0</td>\n",
       "      <td>5.982582</td>\n",
       "      <td>5.545159</td>\n",
       "      <td>0.689516</td>\n",
       "      <td>31:03</td>\n",
       "    </tr>\n",
       "    <tr>\n",
       "      <td>1</td>\n",
       "      <td>5.798176</td>\n",
       "      <td>5.491259</td>\n",
       "      <td>0.695604</td>\n",
       "      <td>30:00</td>\n",
       "    </tr>\n",
       "    <tr>\n",
       "      <td>2</td>\n",
       "      <td>5.762497</td>\n",
       "      <td>5.481414</td>\n",
       "      <td>0.701360</td>\n",
       "      <td>29:53</td>\n",
       "    </tr>\n",
       "    <tr>\n",
       "      <td>3</td>\n",
       "      <td>5.721143</td>\n",
       "      <td>5.443392</td>\n",
       "      <td>0.702615</td>\n",
       "      <td>29:56</td>\n",
       "    </tr>\n",
       "    <tr>\n",
       "      <td>4</td>\n",
       "      <td>5.659177</td>\n",
       "      <td>5.397123</td>\n",
       "      <td>0.706251</td>\n",
       "      <td>29:56</td>\n",
       "    </tr>\n",
       "  </tbody>\n",
       "</table>"
      ],
      "text/plain": [
       "<IPython.core.display.HTML object>"
      ]
     },
     "metadata": {},
     "output_type": "display_data"
    },
    {
     "data": {
      "text/plain": [
       "Path('models/species1000-resnet50-branch1-fepochs1-uepochs15.pth')"
      ]
     },
     "execution_count": 46,
     "metadata": {},
     "output_type": "execute_result"
    }
   ],
   "source": [
    "learn.fit(5, slice(1e-6,1e-4))\n",
    "learn.save('species1000-resnet50-branch1-fepochs1-uepochs15')"
   ]
  },
  {
   "cell_type": "code",
   "execution_count": 47,
   "metadata": {
    "scrolled": true
   },
   "outputs": [],
   "source": [
    "learn.export('species1000-resnet50-branch1-fepochs1-uepochs15')"
   ]
  },
  {
   "cell_type": "markdown",
   "metadata": {},
   "source": [
    "# 2-Branch-CNN"
   ]
  },
  {
   "cell_type": "code",
   "execution_count": 11,
   "metadata": {
    "scrolled": true
   },
   "outputs": [
    {
     "name": "stderr",
     "output_type": "stream",
     "text": [
      "Downloading: \"https://download.pytorch.org/models/resnet50-19c8e357.pth\" to /home/user/.cache/torch/hub/checkpoints/resnet50-19c8e357.pth\n"
     ]
    },
    {
     "data": {
      "application/vnd.jupyter.widget-view+json": {
       "model_id": "d7576a29842240b78ee323da4203e50a",
       "version_major": 2,
       "version_minor": 0
      },
      "text/plain": [
       "HBox(children=(FloatProgress(value=0.0, max=102502400.0), HTML(value='')))"
      ]
     },
     "metadata": {},
     "output_type": "display_data"
    },
    {
     "name": "stdout",
     "output_type": "stream",
     "text": [
      "\n"
     ]
    }
   ],
   "source": [
    "model = resnet50\n",
    "body = create_body(model, cut=-2)\n",
    "stem = body[0:4]\n",
    "block1, block2, block3, block4 = body[4], body[5], body[6], body[7]\n",
    "head = create_head(2048*2,dls.c)"
   ]
  },
  {
   "cell_type": "code",
   "execution_count": 12,
   "metadata": {
    "scrolled": true
   },
   "outputs": [],
   "source": [
    "def custom_get_y(o):\n",
    "    fine_label = o['Specie']\n",
    "    coarse2_label = o['Family']\n",
    "    coarse1_label = o['Order']\n",
    "    return [coarse1_label, coarse2_label, fine_label]"
   ]
  },
  {
   "cell_type": "code",
   "execution_count": 13,
   "metadata": {
    "scrolled": true
   },
   "outputs": [],
   "source": [
    "class Resnet50CustomModel(Module):\n",
    "    def __init__(self, encoder, head):\n",
    "        self.encoder = encoder\n",
    "        self.stem = encoder[0:4]\n",
    "        self.block1 = body[4]\n",
    "        self.branch1 = create_head(256*2, len(set(df['Order'])))\n",
    "        self.block2 = body[5]\n",
    "        self.branch2 = create_head(512*2, len(set(df['Family'])))\n",
    "        self.block3 = body[6]\n",
    "        self.block4 = body[7]\n",
    "        self.head = head\n",
    "    \n",
    "    def forward(self, x):\n",
    "        x = self.stem(x)\n",
    "        x = self.block1(x)\n",
    "        coarse1_label = self.branch1(x)\n",
    "        x = self.block2(x)\n",
    "        coarse2_label = self.branch2(x)\n",
    "        x = self.block3(x)\n",
    "        x = self.block4(x)\n",
    "        fine_label = self.head(x)\n",
    "        return {\n",
    "                'fine_label': fine_label,\n",
    "                'coarse2_label': coarse2_label,\n",
    "                'coarse1_label': coarse1_label\n",
    "               }"
   ]
  },
  {
   "cell_type": "code",
   "execution_count": 14,
   "metadata": {
    "scrolled": true
   },
   "outputs": [],
   "source": [
    "model = Resnet50CustomModel(body, head)"
   ]
  },
  {
   "cell_type": "code",
   "execution_count": 15,
   "metadata": {
    "scrolled": true
   },
   "outputs": [],
   "source": [
    "class CustomCategorize(DisplayedTransform):\n",
    "    \"Reversible transform of category string to `vocab` id\"\n",
    "    loss_func,order=CrossEntropyLossFlat(),1\n",
    "    def __init__(self, vocab=None, vocab_coarse1=None, vocab_coarse2=None, sort=True, add_na=False, num_y=1):\n",
    "        store_attr()\n",
    "        self.vocab = None if vocab is None else CategoryMap(vocab, sort=sort, add_na=add_na)\n",
    "        self.vocab_coarse1 = None if vocab_coarse1 is None else CategoryMap(vocab_coarse1, sort=sort, add_na=add_na)\n",
    "        self.vocab_coarse2 = None if vocab_coarse2 is None else CategoryMap(vocab_coarse2, sort=sort, add_na=add_na)\n",
    "\n",
    "    def setups(self, dsets):\n",
    "        fine_dsets = [d[2] for d in dsets]\n",
    "        coarse2_dsets = [d[1] for d in dsets]\n",
    "        coarse1_dsets = [d[0] for d in dsets]\n",
    "        if self.vocab is None and dsets is not None: self.vocab = CategoryMap(fine_dsets, sort=self.sort, add_na=self.add_na)\n",
    "        if self.vocab_coarse1 is None and dsets is not None: self.vocab_coarse1 = CategoryMap(coarse1_dsets, sort=self.sort, add_na=self.add_na)\n",
    "        if self.vocab_coarse2 is None and dsets is not None: self.vocab_coarse2 = CategoryMap(coarse2_dsets, sort=self.sort, add_na=self.add_na)\n",
    "        self.c = len(self.vocab)\n",
    "\n",
    "    def encodes(self, o): return {'fine_label': TensorCategory(self.vocab.o2i[o[2]]),\n",
    "                                  'coarse2_label': TensorCategory(self.vocab_coarse2.o2i[o[1]]),\n",
    "                                  'coarse1_label': TensorCategory(self.vocab_coarse1.o2i[o[0]])\n",
    "                                 }\n",
    "    def decodes(self, o): return Category      (self.vocab    [o])"
   ]
  },
  {
   "cell_type": "code",
   "execution_count": 16,
   "metadata": {
    "scrolled": true
   },
   "outputs": [],
   "source": [
    "def CustomCategoryBlock(vocab=None, sort=True, add_na=False, num_y=1):\n",
    "    \"`TransformBlock` for single-label categorical targets\"\n",
    "    return TransformBlock(type_tfms=CustomCategorize(vocab=vocab, sort=sort, add_na=add_na))"
   ]
  },
  {
   "cell_type": "code",
   "execution_count": 17,
   "metadata": {
    "scrolled": true
   },
   "outputs": [],
   "source": [
    "def custom_splitter(model):\n",
    "    return [params(model.stem),\n",
    "            params(model.block1),\n",
    "            params(model.block2),\n",
    "            params(model.block3),\n",
    "            params(model.block4),\n",
    "            params(model.head)]"
   ]
  },
  {
   "cell_type": "code",
   "execution_count": 18,
   "metadata": {
    "scrolled": true
   },
   "outputs": [],
   "source": [
    "fishes = DataBlock(blocks = (ImageBlock, CustomCategoryBlock),\n",
    "                 splitter=ColSplitter(),\n",
    "                 get_x = ColReader(5, pref=path),\n",
    "                 get_y=custom_get_y,\n",
    "                 item_tfms=RandomResizedCrop(336, min_scale=0.5),\n",
    "                 batch_tfms=aug_transforms())\n",
    "dls = fishes.dataloaders(df)"
   ]
  },
  {
   "cell_type": "code",
   "execution_count": 19,
   "metadata": {
    "scrolled": true
   },
   "outputs": [
    {
     "data": {
      "text/plain": [
       "((#337741) [(PILImage mode=RGB size=768x1024, {'fine_label': TensorCategory(531), 'coarse2_label': TensorCategory(25), 'coarse1_label': TensorCategory(20)}),(PILImage mode=RGB size=1024x738, {'fine_label': TensorCategory(776), 'coarse2_label': TensorCategory(25), 'coarse1_label': TensorCategory(20)}),(PILImage mode=RGB size=768x1024, {'fine_label': TensorCategory(538), 'coarse2_label': TensorCategory(25), 'coarse1_label': TensorCategory(20)}),(PILImage mode=RGB size=768x1024, {'fine_label': TensorCategory(837), 'coarse2_label': TensorCategory(41), 'coarse1_label': TensorCategory(10)}),(PILImage mode=RGB size=1024x786, {'fine_label': TensorCategory(32), 'coarse2_label': TensorCategory(0), 'coarse1_label': TensorCategory(20)}),(PILImage mode=RGB size=1024x683, {'fine_label': TensorCategory(145), 'coarse2_label': TensorCategory(109), 'coarse1_label': TensorCategory(20)}),(PILImage mode=RGB size=768x1024, {'fine_label': TensorCategory(827), 'coarse2_label': TensorCategory(108), 'coarse1_label': TensorCategory(23)}),(PILImage mode=RGB size=1024x697, {'fine_label': TensorCategory(792), 'coarse2_label': TensorCategory(100), 'coarse1_label': TensorCategory(22)}),(PILImage mode=RGB size=1024x768, {'fine_label': TensorCategory(784), 'coarse2_label': TensorCategory(9), 'coarse1_label': TensorCategory(20)}),(PILImage mode=RGB size=1024x768, {'fine_label': TensorCategory(522), 'coarse2_label': TensorCategory(121), 'coarse1_label': TensorCategory(20)})...],\n",
       " (#84436) [(PILImage mode=RGB size=576x1024, {'fine_label': TensorCategory(826), 'coarse2_label': TensorCategory(108), 'coarse1_label': TensorCategory(23)}),(PILImage mode=RGB size=512x320, {'fine_label': TensorCategory(296), 'coarse2_label': TensorCategory(0), 'coarse1_label': TensorCategory(20)}),(PILImage mode=RGB size=1024x768, {'fine_label': TensorCategory(283), 'coarse2_label': TensorCategory(71), 'coarse1_label': TensorCategory(20)}),(PILImage mode=RGB size=1024x683, {'fine_label': TensorCategory(223), 'coarse2_label': TensorCategory(71), 'coarse1_label': TensorCategory(20)}),(PILImage mode=RGB size=1024x683, {'fine_label': TensorCategory(333), 'coarse2_label': TensorCategory(121), 'coarse1_label': TensorCategory(20)}),(PILImage mode=RGB size=1024x768, {'fine_label': TensorCategory(272), 'coarse2_label': TensorCategory(41), 'coarse1_label': TensorCategory(10)}),(PILImage mode=RGB size=1024x576, {'fine_label': TensorCategory(163), 'coarse2_label': TensorCategory(23), 'coarse1_label': TensorCategory(20)}),(PILImage mode=RGB size=1024x768, {'fine_label': TensorCategory(827), 'coarse2_label': TensorCategory(108), 'coarse1_label': TensorCategory(23)}),(PILImage mode=RGB size=1024x768, {'fine_label': TensorCategory(868), 'coarse2_label': TensorCategory(113), 'coarse1_label': TensorCategory(24)}),(PILImage mode=RGB size=768x1024, {'fine_label': TensorCategory(816), 'coarse2_label': TensorCategory(41), 'coarse1_label': TensorCategory(10)})...])"
      ]
     },
     "execution_count": 19,
     "metadata": {},
     "output_type": "execute_result"
    }
   ],
   "source": [
    "dls.train_ds, dls.valid_ds"
   ]
  },
  {
   "cell_type": "code",
   "execution_count": 20,
   "metadata": {
    "scrolled": true
   },
   "outputs": [
    {
     "data": {
      "text/plain": [
       "((#1000) ['Abramis brama','Abudefduf abdominalis','Abudefduf bengalensis','Abudefduf saxatilis','Abudefduf septemfasciatus','Abudefduf sexfasciatus','Abudefduf sordidus','Abudefduf troschelii','Abudefduf vaigiensis','Acanthaluteres vittiger'...],\n",
       " (#135) ['Acanthuridae','Achiridae','Acipenseridae','Amiidae','Ammodytidae','Anguillidae','Antennariidae','Aphredoderidae','Aplodactylidae','Apogonidae'...],\n",
       " (#29) ['Acipenseriformes','Amiiformes','Anguilliformes','Atheriniformes','Aulopiformes','Batrachoidiformes','Beloniformes','Beryciformes','Characiformes','Clupeiformes'...])"
      ]
     },
     "execution_count": 20,
     "metadata": {},
     "output_type": "execute_result"
    }
   ],
   "source": [
    "dls.vocab, dls.vocab_coarse2, dls.vocab_coarse1"
   ]
  },
  {
   "cell_type": "code",
   "execution_count": 21,
   "metadata": {},
   "outputs": [],
   "source": [
    "weights = tensor([float(weights_df[weights_df['Specie']==c]['Weight']) for c in dls.vocab]).cuda()\n",
    "weights_order = tensor([float(weights_order_df[weights_order_df['Order']==c]['Weight']) for c in dls.vocab_coarse1]).cuda()\n",
    "weights_family = tensor([float(weights_family_df[weights_family_df['Family']==c]['Weight']) for c in dls.vocab_coarse2]).cuda()"
   ]
  },
  {
   "cell_type": "code",
   "execution_count": 22,
   "metadata": {
    "scrolled": true
   },
   "outputs": [],
   "source": [
    "def loss_func(out, targ):\n",
    "    return nn.CrossEntropyLoss(weight=weights)(out['fine_label'], targ['fine_label']) + \\\n",
    "            nn.CrossEntropyLoss(weight=weights_order)(out['coarse1_label'], targ['coarse1_label']) + \\\n",
    "            nn.CrossEntropyLoss(weight=weights_family)(out['coarse2_label'], targ['coarse2_label'])"
   ]
  },
  {
   "cell_type": "code",
   "execution_count": 23,
   "metadata": {
    "scrolled": true
   },
   "outputs": [],
   "source": [
    "def custom_accuracy(inp, targ, axis=-1):\n",
    "    pred1,targ1 = flatten_check(inp['fine_label'].argmax(dim=axis), targ['fine_label'])\n",
    "    acc1 = (pred1 == targ1).float().mean()\n",
    "    return acc1"
   ]
  },
  {
   "cell_type": "code",
   "execution_count": 61,
   "metadata": {
    "scrolled": true
   },
   "outputs": [],
   "source": [
    "learn = Learner(dls, model, loss_func=loss_func, metrics=custom_accuracy,\n",
    "                   splitter=custom_splitter).to_fp16()\n",
    "learn.freeze()"
   ]
  },
  {
   "cell_type": "code",
   "execution_count": 62,
   "metadata": {
    "scrolled": true
   },
   "outputs": [
    {
     "data": {
      "text/html": [
       "<table border=\"1\" class=\"dataframe\">\n",
       "  <thead>\n",
       "    <tr style=\"text-align: left;\">\n",
       "      <th>epoch</th>\n",
       "      <th>train_loss</th>\n",
       "      <th>valid_loss</th>\n",
       "      <th>custom_accuracy</th>\n",
       "      <th>time</th>\n",
       "    </tr>\n",
       "  </thead>\n",
       "  <tbody>\n",
       "    <tr>\n",
       "      <td>0</td>\n",
       "      <td>None</td>\n",
       "      <td>None</td>\n",
       "      <td>00:00</td>\n",
       "    </tr>\n",
       "  </tbody>\n",
       "</table>"
      ],
      "text/plain": [
       "<IPython.core.display.HTML object>"
      ]
     },
     "metadata": {},
     "output_type": "display_data"
    },
    {
     "data": {
      "text/plain": [
       "Resnet50CustomModel (Input shape: ['64 x 3 x 336 x 336'])\n",
       "================================================================\n",
       "Layer (type)         Output Shape         Param #    Trainable \n",
       "================================================================\n",
       "Conv2d               64 x 64 x 168 x 168  9,408      False     \n",
       "________________________________________________________________\n",
       "BatchNorm2d          64 x 64 x 168 x 168  128        True      \n",
       "________________________________________________________________\n",
       "ReLU                 64 x 64 x 168 x 168  0          False     \n",
       "________________________________________________________________\n",
       "MaxPool2d            64 x 64 x 84 x 84    0          False     \n",
       "________________________________________________________________\n",
       "Conv2d               64 x 64 x 84 x 84    4,096      False     \n",
       "________________________________________________________________\n",
       "BatchNorm2d          64 x 64 x 84 x 84    128        True      \n",
       "________________________________________________________________\n",
       "Conv2d               64 x 64 x 84 x 84    36,864     False     \n",
       "________________________________________________________________\n",
       "BatchNorm2d          64 x 64 x 84 x 84    128        True      \n",
       "________________________________________________________________\n",
       "Conv2d               64 x 256 x 84 x 84   16,384     False     \n",
       "________________________________________________________________\n",
       "BatchNorm2d          64 x 256 x 84 x 84   512        True      \n",
       "________________________________________________________________\n",
       "ReLU                 64 x 256 x 84 x 84   0          False     \n",
       "________________________________________________________________\n",
       "Conv2d               64 x 256 x 84 x 84   16,384     False     \n",
       "________________________________________________________________\n",
       "BatchNorm2d          64 x 256 x 84 x 84   512        True      \n",
       "________________________________________________________________\n",
       "Conv2d               64 x 64 x 84 x 84    16,384     False     \n",
       "________________________________________________________________\n",
       "BatchNorm2d          64 x 64 x 84 x 84    128        True      \n",
       "________________________________________________________________\n",
       "Conv2d               64 x 64 x 84 x 84    36,864     False     \n",
       "________________________________________________________________\n",
       "BatchNorm2d          64 x 64 x 84 x 84    128        True      \n",
       "________________________________________________________________\n",
       "Conv2d               64 x 256 x 84 x 84   16,384     False     \n",
       "________________________________________________________________\n",
       "BatchNorm2d          64 x 256 x 84 x 84   512        True      \n",
       "________________________________________________________________\n",
       "ReLU                 64 x 256 x 84 x 84   0          False     \n",
       "________________________________________________________________\n",
       "Conv2d               64 x 64 x 84 x 84    16,384     False     \n",
       "________________________________________________________________\n",
       "BatchNorm2d          64 x 64 x 84 x 84    128        True      \n",
       "________________________________________________________________\n",
       "Conv2d               64 x 64 x 84 x 84    36,864     False     \n",
       "________________________________________________________________\n",
       "BatchNorm2d          64 x 64 x 84 x 84    128        True      \n",
       "________________________________________________________________\n",
       "Conv2d               64 x 256 x 84 x 84   16,384     False     \n",
       "________________________________________________________________\n",
       "BatchNorm2d          64 x 256 x 84 x 84   512        True      \n",
       "________________________________________________________________\n",
       "ReLU                 64 x 256 x 84 x 84   0          False     \n",
       "________________________________________________________________\n",
       "Conv2d               64 x 128 x 84 x 84   32,768     False     \n",
       "________________________________________________________________\n",
       "BatchNorm2d          64 x 128 x 84 x 84   256        True      \n",
       "________________________________________________________________\n",
       "Conv2d               64 x 128 x 42 x 42   147,456    False     \n",
       "________________________________________________________________\n",
       "BatchNorm2d          64 x 128 x 42 x 42   256        True      \n",
       "________________________________________________________________\n",
       "Conv2d               64 x 512 x 42 x 42   65,536     False     \n",
       "________________________________________________________________\n",
       "BatchNorm2d          64 x 512 x 42 x 42   1,024      True      \n",
       "________________________________________________________________\n",
       "ReLU                 64 x 512 x 42 x 42   0          False     \n",
       "________________________________________________________________\n",
       "Conv2d               64 x 512 x 42 x 42   131,072    False     \n",
       "________________________________________________________________\n",
       "BatchNorm2d          64 x 512 x 42 x 42   1,024      True      \n",
       "________________________________________________________________\n",
       "Conv2d               64 x 128 x 42 x 42   65,536     False     \n",
       "________________________________________________________________\n",
       "BatchNorm2d          64 x 128 x 42 x 42   256        True      \n",
       "________________________________________________________________\n",
       "Conv2d               64 x 128 x 42 x 42   147,456    False     \n",
       "________________________________________________________________\n",
       "BatchNorm2d          64 x 128 x 42 x 42   256        True      \n",
       "________________________________________________________________\n",
       "Conv2d               64 x 512 x 42 x 42   65,536     False     \n",
       "________________________________________________________________\n",
       "BatchNorm2d          64 x 512 x 42 x 42   1,024      True      \n",
       "________________________________________________________________\n",
       "ReLU                 64 x 512 x 42 x 42   0          False     \n",
       "________________________________________________________________\n",
       "Conv2d               64 x 128 x 42 x 42   65,536     False     \n",
       "________________________________________________________________\n",
       "BatchNorm2d          64 x 128 x 42 x 42   256        True      \n",
       "________________________________________________________________\n",
       "Conv2d               64 x 128 x 42 x 42   147,456    False     \n",
       "________________________________________________________________\n",
       "BatchNorm2d          64 x 128 x 42 x 42   256        True      \n",
       "________________________________________________________________\n",
       "Conv2d               64 x 512 x 42 x 42   65,536     False     \n",
       "________________________________________________________________\n",
       "BatchNorm2d          64 x 512 x 42 x 42   1,024      True      \n",
       "________________________________________________________________\n",
       "ReLU                 64 x 512 x 42 x 42   0          False     \n",
       "________________________________________________________________\n",
       "Conv2d               64 x 128 x 42 x 42   65,536     False     \n",
       "________________________________________________________________\n",
       "BatchNorm2d          64 x 128 x 42 x 42   256        True      \n",
       "________________________________________________________________\n",
       "Conv2d               64 x 128 x 42 x 42   147,456    False     \n",
       "________________________________________________________________\n",
       "BatchNorm2d          64 x 128 x 42 x 42   256        True      \n",
       "________________________________________________________________\n",
       "Conv2d               64 x 512 x 42 x 42   65,536     False     \n",
       "________________________________________________________________\n",
       "BatchNorm2d          64 x 512 x 42 x 42   1,024      True      \n",
       "________________________________________________________________\n",
       "ReLU                 64 x 512 x 42 x 42   0          False     \n",
       "________________________________________________________________\n",
       "Conv2d               64 x 256 x 42 x 42   131,072    False     \n",
       "________________________________________________________________\n",
       "BatchNorm2d          64 x 256 x 42 x 42   512        True      \n",
       "________________________________________________________________\n",
       "Conv2d               64 x 256 x 21 x 21   589,824    False     \n",
       "________________________________________________________________\n",
       "BatchNorm2d          64 x 256 x 21 x 21   512        True      \n",
       "________________________________________________________________\n",
       "Conv2d               64 x 1024 x 21 x 21  262,144    False     \n",
       "________________________________________________________________\n",
       "BatchNorm2d          64 x 1024 x 21 x 21  2,048      True      \n",
       "________________________________________________________________\n",
       "ReLU                 64 x 1024 x 21 x 21  0          False     \n",
       "________________________________________________________________\n",
       "Conv2d               64 x 1024 x 21 x 21  524,288    False     \n",
       "________________________________________________________________\n",
       "BatchNorm2d          64 x 1024 x 21 x 21  2,048      True      \n",
       "________________________________________________________________\n",
       "Conv2d               64 x 256 x 21 x 21   262,144    False     \n",
       "________________________________________________________________\n",
       "BatchNorm2d          64 x 256 x 21 x 21   512        True      \n",
       "________________________________________________________________\n",
       "Conv2d               64 x 256 x 21 x 21   589,824    False     \n",
       "________________________________________________________________\n",
       "BatchNorm2d          64 x 256 x 21 x 21   512        True      \n",
       "________________________________________________________________\n",
       "Conv2d               64 x 1024 x 21 x 21  262,144    False     \n",
       "________________________________________________________________\n",
       "BatchNorm2d          64 x 1024 x 21 x 21  2,048      True      \n",
       "________________________________________________________________\n",
       "ReLU                 64 x 1024 x 21 x 21  0          False     \n",
       "________________________________________________________________\n",
       "Conv2d               64 x 256 x 21 x 21   262,144    False     \n",
       "________________________________________________________________\n",
       "BatchNorm2d          64 x 256 x 21 x 21   512        True      \n",
       "________________________________________________________________\n",
       "Conv2d               64 x 256 x 21 x 21   589,824    False     \n",
       "________________________________________________________________\n",
       "BatchNorm2d          64 x 256 x 21 x 21   512        True      \n",
       "________________________________________________________________\n",
       "Conv2d               64 x 1024 x 21 x 21  262,144    False     \n",
       "________________________________________________________________\n",
       "BatchNorm2d          64 x 1024 x 21 x 21  2,048      True      \n",
       "________________________________________________________________\n",
       "ReLU                 64 x 1024 x 21 x 21  0          False     \n",
       "________________________________________________________________\n",
       "Conv2d               64 x 256 x 21 x 21   262,144    False     \n",
       "________________________________________________________________\n",
       "BatchNorm2d          64 x 256 x 21 x 21   512        True      \n",
       "________________________________________________________________\n",
       "Conv2d               64 x 256 x 21 x 21   589,824    False     \n",
       "________________________________________________________________\n",
       "BatchNorm2d          64 x 256 x 21 x 21   512        True      \n",
       "________________________________________________________________\n",
       "Conv2d               64 x 1024 x 21 x 21  262,144    False     \n",
       "________________________________________________________________\n",
       "BatchNorm2d          64 x 1024 x 21 x 21  2,048      True      \n",
       "________________________________________________________________\n",
       "ReLU                 64 x 1024 x 21 x 21  0          False     \n",
       "________________________________________________________________\n",
       "Conv2d               64 x 256 x 21 x 21   262,144    False     \n",
       "________________________________________________________________\n",
       "BatchNorm2d          64 x 256 x 21 x 21   512        True      \n",
       "________________________________________________________________\n",
       "Conv2d               64 x 256 x 21 x 21   589,824    False     \n",
       "________________________________________________________________\n",
       "BatchNorm2d          64 x 256 x 21 x 21   512        True      \n",
       "________________________________________________________________\n",
       "Conv2d               64 x 1024 x 21 x 21  262,144    False     \n",
       "________________________________________________________________\n",
       "BatchNorm2d          64 x 1024 x 21 x 21  2,048      True      \n",
       "________________________________________________________________\n",
       "ReLU                 64 x 1024 x 21 x 21  0          False     \n",
       "________________________________________________________________\n",
       "Conv2d               64 x 256 x 21 x 21   262,144    False     \n",
       "________________________________________________________________\n",
       "BatchNorm2d          64 x 256 x 21 x 21   512        True      \n",
       "________________________________________________________________\n",
       "Conv2d               64 x 256 x 21 x 21   589,824    False     \n",
       "________________________________________________________________\n",
       "BatchNorm2d          64 x 256 x 21 x 21   512        True      \n",
       "________________________________________________________________\n",
       "Conv2d               64 x 1024 x 21 x 21  262,144    False     \n",
       "________________________________________________________________\n",
       "BatchNorm2d          64 x 1024 x 21 x 21  2,048      True      \n",
       "________________________________________________________________\n",
       "ReLU                 64 x 1024 x 21 x 21  0          False     \n",
       "________________________________________________________________\n",
       "Conv2d               64 x 512 x 21 x 21   524,288    False     \n",
       "________________________________________________________________\n",
       "BatchNorm2d          64 x 512 x 21 x 21   1,024      True      \n",
       "________________________________________________________________\n",
       "Conv2d               64 x 512 x 11 x 11   2,359,296  False     \n",
       "________________________________________________________________\n",
       "BatchNorm2d          64 x 512 x 11 x 11   1,024      True      \n",
       "________________________________________________________________\n",
       "Conv2d               64 x 2048 x 11 x 11  1,048,576  False     \n",
       "________________________________________________________________\n",
       "BatchNorm2d          64 x 2048 x 11 x 11  4,096      True      \n",
       "________________________________________________________________\n",
       "ReLU                 64 x 2048 x 11 x 11  0          False     \n",
       "________________________________________________________________\n",
       "Conv2d               64 x 2048 x 11 x 11  2,097,152  False     \n",
       "________________________________________________________________\n",
       "BatchNorm2d          64 x 2048 x 11 x 11  4,096      True      \n",
       "________________________________________________________________\n",
       "Conv2d               64 x 512 x 11 x 11   1,048,576  False     \n",
       "________________________________________________________________\n",
       "BatchNorm2d          64 x 512 x 11 x 11   1,024      True      \n",
       "________________________________________________________________\n",
       "Conv2d               64 x 512 x 11 x 11   2,359,296  False     \n",
       "________________________________________________________________\n",
       "BatchNorm2d          64 x 512 x 11 x 11   1,024      True      \n",
       "________________________________________________________________\n",
       "Conv2d               64 x 2048 x 11 x 11  1,048,576  False     \n",
       "________________________________________________________________\n",
       "BatchNorm2d          64 x 2048 x 11 x 11  4,096      True      \n",
       "________________________________________________________________\n",
       "ReLU                 64 x 2048 x 11 x 11  0          False     \n",
       "________________________________________________________________\n",
       "Conv2d               64 x 512 x 11 x 11   1,048,576  False     \n",
       "________________________________________________________________\n",
       "BatchNorm2d          64 x 512 x 11 x 11   1,024      True      \n",
       "________________________________________________________________\n",
       "Conv2d               64 x 512 x 11 x 11   2,359,296  False     \n",
       "________________________________________________________________\n",
       "BatchNorm2d          64 x 512 x 11 x 11   1,024      True      \n",
       "________________________________________________________________\n",
       "Conv2d               64 x 2048 x 11 x 11  1,048,576  False     \n",
       "________________________________________________________________\n",
       "BatchNorm2d          64 x 2048 x 11 x 11  4,096      True      \n",
       "________________________________________________________________\n",
       "ReLU                 64 x 2048 x 11 x 11  0          False     \n",
       "________________________________________________________________\n",
       "Conv2d               64 x 64 x 168 x 168  9,408      False     \n",
       "________________________________________________________________\n",
       "BatchNorm2d          64 x 64 x 168 x 168  128        True      \n",
       "________________________________________________________________\n",
       "ReLU                 64 x 64 x 168 x 168  0          False     \n",
       "________________________________________________________________\n",
       "MaxPool2d            64 x 64 x 84 x 84    0          False     \n",
       "________________________________________________________________\n",
       "Conv2d               64 x 64 x 84 x 84    4,096      False     \n",
       "________________________________________________________________\n",
       "BatchNorm2d          64 x 64 x 84 x 84    128        True      \n",
       "________________________________________________________________\n",
       "Conv2d               64 x 64 x 84 x 84    36,864     False     \n",
       "________________________________________________________________\n",
       "BatchNorm2d          64 x 64 x 84 x 84    128        True      \n",
       "________________________________________________________________\n",
       "Conv2d               64 x 256 x 84 x 84   16,384     False     \n",
       "________________________________________________________________\n",
       "BatchNorm2d          64 x 256 x 84 x 84   512        True      \n",
       "________________________________________________________________\n",
       "ReLU                 64 x 256 x 84 x 84   0          False     \n",
       "________________________________________________________________\n",
       "Conv2d               64 x 256 x 84 x 84   16,384     False     \n",
       "________________________________________________________________\n",
       "BatchNorm2d          64 x 256 x 84 x 84   512        True      \n",
       "________________________________________________________________\n",
       "Conv2d               64 x 64 x 84 x 84    16,384     False     \n",
       "________________________________________________________________\n",
       "BatchNorm2d          64 x 64 x 84 x 84    128        True      \n",
       "________________________________________________________________\n",
       "Conv2d               64 x 64 x 84 x 84    36,864     False     \n",
       "________________________________________________________________\n",
       "BatchNorm2d          64 x 64 x 84 x 84    128        True      \n",
       "________________________________________________________________\n",
       "Conv2d               64 x 256 x 84 x 84   16,384     False     \n",
       "________________________________________________________________\n",
       "BatchNorm2d          64 x 256 x 84 x 84   512        True      \n",
       "________________________________________________________________\n",
       "ReLU                 64 x 256 x 84 x 84   0          False     \n",
       "________________________________________________________________\n",
       "Conv2d               64 x 64 x 84 x 84    16,384     False     \n",
       "________________________________________________________________\n",
       "BatchNorm2d          64 x 64 x 84 x 84    128        True      \n",
       "________________________________________________________________\n",
       "Conv2d               64 x 64 x 84 x 84    36,864     False     \n",
       "________________________________________________________________\n",
       "BatchNorm2d          64 x 64 x 84 x 84    128        True      \n",
       "________________________________________________________________\n",
       "Conv2d               64 x 256 x 84 x 84   16,384     False     \n",
       "________________________________________________________________\n",
       "BatchNorm2d          64 x 256 x 84 x 84   512        True      \n",
       "________________________________________________________________\n",
       "ReLU                 64 x 256 x 84 x 84   0          False     \n",
       "________________________________________________________________\n",
       "AdaptiveAvgPool2d    64 x 256 x 1 x 1     0          False     \n",
       "________________________________________________________________\n",
       "AdaptiveMaxPool2d    64 x 256 x 1 x 1     0          False     \n",
       "________________________________________________________________\n",
       "Flatten              64 x 512             0          False     \n",
       "________________________________________________________________\n",
       "BatchNorm1d          64 x 512             1,024      True      \n",
       "________________________________________________________________\n",
       "Dropout              64 x 512             0          False     \n",
       "________________________________________________________________\n",
       "Linear               64 x 512             262,144    True      \n",
       "________________________________________________________________\n",
       "ReLU                 64 x 512             0          False     \n",
       "________________________________________________________________\n",
       "BatchNorm1d          64 x 512             1,024      True      \n",
       "________________________________________________________________\n",
       "Dropout              64 x 512             0          False     \n",
       "________________________________________________________________\n",
       "Linear               64 x 29              14,848     True      \n",
       "________________________________________________________________\n",
       "Conv2d               64 x 128 x 84 x 84   32,768     False     \n",
       "________________________________________________________________\n",
       "BatchNorm2d          64 x 128 x 84 x 84   256        True      \n",
       "________________________________________________________________\n",
       "Conv2d               64 x 128 x 42 x 42   147,456    False     \n",
       "________________________________________________________________\n",
       "BatchNorm2d          64 x 128 x 42 x 42   256        True      \n",
       "________________________________________________________________\n",
       "Conv2d               64 x 512 x 42 x 42   65,536     False     \n",
       "________________________________________________________________\n",
       "BatchNorm2d          64 x 512 x 42 x 42   1,024      True      \n",
       "________________________________________________________________\n",
       "ReLU                 64 x 512 x 42 x 42   0          False     \n",
       "________________________________________________________________\n",
       "Conv2d               64 x 512 x 42 x 42   131,072    False     \n",
       "________________________________________________________________\n",
       "BatchNorm2d          64 x 512 x 42 x 42   1,024      True      \n",
       "________________________________________________________________\n",
       "Conv2d               64 x 128 x 42 x 42   65,536     False     \n",
       "________________________________________________________________\n",
       "BatchNorm2d          64 x 128 x 42 x 42   256        True      \n",
       "________________________________________________________________\n",
       "Conv2d               64 x 128 x 42 x 42   147,456    False     \n",
       "________________________________________________________________\n",
       "BatchNorm2d          64 x 128 x 42 x 42   256        True      \n",
       "________________________________________________________________\n",
       "Conv2d               64 x 512 x 42 x 42   65,536     False     \n",
       "________________________________________________________________\n",
       "BatchNorm2d          64 x 512 x 42 x 42   1,024      True      \n",
       "________________________________________________________________\n",
       "ReLU                 64 x 512 x 42 x 42   0          False     \n",
       "________________________________________________________________\n",
       "Conv2d               64 x 128 x 42 x 42   65,536     False     \n",
       "________________________________________________________________\n",
       "BatchNorm2d          64 x 128 x 42 x 42   256        True      \n",
       "________________________________________________________________\n",
       "Conv2d               64 x 128 x 42 x 42   147,456    False     \n",
       "________________________________________________________________\n",
       "BatchNorm2d          64 x 128 x 42 x 42   256        True      \n",
       "________________________________________________________________\n",
       "Conv2d               64 x 512 x 42 x 42   65,536     False     \n",
       "________________________________________________________________\n",
       "BatchNorm2d          64 x 512 x 42 x 42   1,024      True      \n",
       "________________________________________________________________\n",
       "ReLU                 64 x 512 x 42 x 42   0          False     \n",
       "________________________________________________________________\n",
       "Conv2d               64 x 128 x 42 x 42   65,536     False     \n",
       "________________________________________________________________\n",
       "BatchNorm2d          64 x 128 x 42 x 42   256        True      \n",
       "________________________________________________________________\n",
       "Conv2d               64 x 128 x 42 x 42   147,456    False     \n",
       "________________________________________________________________\n",
       "BatchNorm2d          64 x 128 x 42 x 42   256        True      \n",
       "________________________________________________________________\n",
       "Conv2d               64 x 512 x 42 x 42   65,536     False     \n",
       "________________________________________________________________\n",
       "BatchNorm2d          64 x 512 x 42 x 42   1,024      True      \n",
       "________________________________________________________________\n",
       "ReLU                 64 x 512 x 42 x 42   0          False     \n",
       "________________________________________________________________\n",
       "AdaptiveAvgPool2d    64 x 512 x 1 x 1     0          False     \n",
       "________________________________________________________________\n",
       "AdaptiveMaxPool2d    64 x 512 x 1 x 1     0          False     \n",
       "________________________________________________________________\n",
       "Flatten              64 x 1024            0          False     \n",
       "________________________________________________________________\n",
       "BatchNorm1d          64 x 1024            2,048      True      \n",
       "________________________________________________________________\n",
       "Dropout              64 x 1024            0          False     \n",
       "________________________________________________________________\n",
       "Linear               64 x 512             524,288    True      \n",
       "________________________________________________________________\n",
       "ReLU                 64 x 512             0          False     \n",
       "________________________________________________________________\n",
       "BatchNorm1d          64 x 512             1,024      True      \n",
       "________________________________________________________________\n",
       "Dropout              64 x 512             0          False     \n",
       "________________________________________________________________\n",
       "Linear               64 x 135             69,120     True      \n",
       "________________________________________________________________\n",
       "Conv2d               64 x 256 x 42 x 42   131,072    False     \n",
       "________________________________________________________________\n",
       "BatchNorm2d          64 x 256 x 42 x 42   512        True      \n",
       "________________________________________________________________\n",
       "Conv2d               64 x 256 x 21 x 21   589,824    False     \n",
       "________________________________________________________________\n",
       "BatchNorm2d          64 x 256 x 21 x 21   512        True      \n",
       "________________________________________________________________\n",
       "Conv2d               64 x 1024 x 21 x 21  262,144    False     \n",
       "________________________________________________________________\n",
       "BatchNorm2d          64 x 1024 x 21 x 21  2,048      True      \n",
       "________________________________________________________________\n",
       "ReLU                 64 x 1024 x 21 x 21  0          False     \n",
       "________________________________________________________________\n",
       "Conv2d               64 x 1024 x 21 x 21  524,288    False     \n",
       "________________________________________________________________\n",
       "BatchNorm2d          64 x 1024 x 21 x 21  2,048      True      \n",
       "________________________________________________________________\n",
       "Conv2d               64 x 256 x 21 x 21   262,144    False     \n",
       "________________________________________________________________\n",
       "BatchNorm2d          64 x 256 x 21 x 21   512        True      \n",
       "________________________________________________________________\n",
       "Conv2d               64 x 256 x 21 x 21   589,824    False     \n",
       "________________________________________________________________\n",
       "BatchNorm2d          64 x 256 x 21 x 21   512        True      \n",
       "________________________________________________________________\n",
       "Conv2d               64 x 1024 x 21 x 21  262,144    False     \n",
       "________________________________________________________________\n",
       "BatchNorm2d          64 x 1024 x 21 x 21  2,048      True      \n",
       "________________________________________________________________\n",
       "ReLU                 64 x 1024 x 21 x 21  0          False     \n",
       "________________________________________________________________\n",
       "Conv2d               64 x 256 x 21 x 21   262,144    False     \n",
       "________________________________________________________________\n",
       "BatchNorm2d          64 x 256 x 21 x 21   512        True      \n",
       "________________________________________________________________\n",
       "Conv2d               64 x 256 x 21 x 21   589,824    False     \n",
       "________________________________________________________________\n",
       "BatchNorm2d          64 x 256 x 21 x 21   512        True      \n",
       "________________________________________________________________\n",
       "Conv2d               64 x 1024 x 21 x 21  262,144    False     \n",
       "________________________________________________________________\n",
       "BatchNorm2d          64 x 1024 x 21 x 21  2,048      True      \n",
       "________________________________________________________________\n",
       "ReLU                 64 x 1024 x 21 x 21  0          False     \n",
       "________________________________________________________________\n",
       "Conv2d               64 x 256 x 21 x 21   262,144    False     \n",
       "________________________________________________________________\n",
       "BatchNorm2d          64 x 256 x 21 x 21   512        True      \n",
       "________________________________________________________________\n",
       "Conv2d               64 x 256 x 21 x 21   589,824    False     \n",
       "________________________________________________________________\n",
       "BatchNorm2d          64 x 256 x 21 x 21   512        True      \n",
       "________________________________________________________________\n",
       "Conv2d               64 x 1024 x 21 x 21  262,144    False     \n",
       "________________________________________________________________\n",
       "BatchNorm2d          64 x 1024 x 21 x 21  2,048      True      \n",
       "________________________________________________________________\n",
       "ReLU                 64 x 1024 x 21 x 21  0          False     \n",
       "________________________________________________________________\n",
       "Conv2d               64 x 256 x 21 x 21   262,144    False     \n",
       "________________________________________________________________\n",
       "BatchNorm2d          64 x 256 x 21 x 21   512        True      \n",
       "________________________________________________________________\n",
       "Conv2d               64 x 256 x 21 x 21   589,824    False     \n",
       "________________________________________________________________\n",
       "BatchNorm2d          64 x 256 x 21 x 21   512        True      \n",
       "________________________________________________________________\n",
       "Conv2d               64 x 1024 x 21 x 21  262,144    False     \n",
       "________________________________________________________________\n",
       "BatchNorm2d          64 x 1024 x 21 x 21  2,048      True      \n",
       "________________________________________________________________\n",
       "ReLU                 64 x 1024 x 21 x 21  0          False     \n",
       "________________________________________________________________\n",
       "Conv2d               64 x 256 x 21 x 21   262,144    False     \n",
       "________________________________________________________________\n",
       "BatchNorm2d          64 x 256 x 21 x 21   512        True      \n",
       "________________________________________________________________\n",
       "Conv2d               64 x 256 x 21 x 21   589,824    False     \n",
       "________________________________________________________________\n",
       "BatchNorm2d          64 x 256 x 21 x 21   512        True      \n",
       "________________________________________________________________\n",
       "Conv2d               64 x 1024 x 21 x 21  262,144    False     \n",
       "________________________________________________________________\n",
       "BatchNorm2d          64 x 1024 x 21 x 21  2,048      True      \n",
       "________________________________________________________________\n",
       "ReLU                 64 x 1024 x 21 x 21  0          False     \n",
       "________________________________________________________________\n",
       "Conv2d               64 x 512 x 21 x 21   524,288    False     \n",
       "________________________________________________________________\n",
       "BatchNorm2d          64 x 512 x 21 x 21   1,024      True      \n",
       "________________________________________________________________\n",
       "Conv2d               64 x 512 x 11 x 11   2,359,296  False     \n",
       "________________________________________________________________\n",
       "BatchNorm2d          64 x 512 x 11 x 11   1,024      True      \n",
       "________________________________________________________________\n",
       "Conv2d               64 x 2048 x 11 x 11  1,048,576  False     \n",
       "________________________________________________________________\n",
       "BatchNorm2d          64 x 2048 x 11 x 11  4,096      True      \n",
       "________________________________________________________________\n",
       "ReLU                 64 x 2048 x 11 x 11  0          False     \n",
       "________________________________________________________________\n",
       "Conv2d               64 x 2048 x 11 x 11  2,097,152  False     \n",
       "________________________________________________________________\n",
       "BatchNorm2d          64 x 2048 x 11 x 11  4,096      True      \n",
       "________________________________________________________________\n",
       "Conv2d               64 x 512 x 11 x 11   1,048,576  False     \n",
       "________________________________________________________________\n",
       "BatchNorm2d          64 x 512 x 11 x 11   1,024      True      \n",
       "________________________________________________________________\n",
       "Conv2d               64 x 512 x 11 x 11   2,359,296  False     \n",
       "________________________________________________________________\n",
       "BatchNorm2d          64 x 512 x 11 x 11   1,024      True      \n",
       "________________________________________________________________\n",
       "Conv2d               64 x 2048 x 11 x 11  1,048,576  False     \n",
       "________________________________________________________________\n",
       "BatchNorm2d          64 x 2048 x 11 x 11  4,096      True      \n",
       "________________________________________________________________\n",
       "ReLU                 64 x 2048 x 11 x 11  0          False     \n",
       "________________________________________________________________\n",
       "Conv2d               64 x 512 x 11 x 11   1,048,576  False     \n",
       "________________________________________________________________\n",
       "BatchNorm2d          64 x 512 x 11 x 11   1,024      True      \n",
       "________________________________________________________________\n",
       "Conv2d               64 x 512 x 11 x 11   2,359,296  False     \n",
       "________________________________________________________________\n",
       "BatchNorm2d          64 x 512 x 11 x 11   1,024      True      \n",
       "________________________________________________________________\n",
       "Conv2d               64 x 2048 x 11 x 11  1,048,576  False     \n",
       "________________________________________________________________\n",
       "BatchNorm2d          64 x 2048 x 11 x 11  4,096      True      \n",
       "________________________________________________________________\n",
       "ReLU                 64 x 2048 x 11 x 11  0          False     \n",
       "________________________________________________________________\n",
       "AdaptiveAvgPool2d    64 x 2048 x 1 x 1    0          False     \n",
       "________________________________________________________________\n",
       "AdaptiveMaxPool2d    64 x 2048 x 1 x 1    0          False     \n",
       "________________________________________________________________\n",
       "Flatten              64 x 4096            0          False     \n",
       "________________________________________________________________\n",
       "BatchNorm1d          64 x 4096            8,192      True      \n",
       "________________________________________________________________\n",
       "Dropout              64 x 4096            0          False     \n",
       "________________________________________________________________\n",
       "Linear               64 x 512             2,097,152  True      \n",
       "________________________________________________________________\n",
       "ReLU                 64 x 512             0          False     \n",
       "________________________________________________________________\n",
       "BatchNorm1d          64 x 512             1,024      True      \n",
       "________________________________________________________________\n",
       "Dropout              64 x 512             0          False     \n",
       "________________________________________________________________\n",
       "Linear               64 x 1000            512,000    True      \n",
       "________________________________________________________________\n",
       "\n",
       "Total params: 50,509,952\n",
       "Total trainable params: 3,600,128\n",
       "Total non-trainable params: 46,909,824\n",
       "\n",
       "Optimizer used: <function Adam at 0x7f2512115670>\n",
       "Loss function: <function loss_func at 0x7f249aebadc0>\n",
       "\n",
       "Model frozen up to parameter group #5\n",
       "\n",
       "Callbacks:\n",
       "  - ModelToHalf\n",
       "  - TrainEvalCallback\n",
       "  - Recorder\n",
       "  - ProgressCallback\n",
       "  - MixedPrecision"
      ]
     },
     "execution_count": 62,
     "metadata": {},
     "output_type": "execute_result"
    }
   ],
   "source": [
    "learn.summary()"
   ]
  },
  {
   "cell_type": "code",
   "execution_count": 63,
   "metadata": {
    "scrolled": true
   },
   "outputs": [
    {
     "data": {
      "text/html": [
       "<table border=\"1\" class=\"dataframe\">\n",
       "  <thead>\n",
       "    <tr style=\"text-align: left;\">\n",
       "      <th>epoch</th>\n",
       "      <th>train_loss</th>\n",
       "      <th>valid_loss</th>\n",
       "      <th>custom_accuracy</th>\n",
       "      <th>time</th>\n",
       "    </tr>\n",
       "  </thead>\n",
       "  <tbody>\n",
       "    <tr>\n",
       "      <td>0</td>\n",
       "      <td>11.852911</td>\n",
       "      <td>10.880882</td>\n",
       "      <td>0.377706</td>\n",
       "      <td>28:48</td>\n",
       "    </tr>\n",
       "  </tbody>\n",
       "</table>"
      ],
      "text/plain": [
       "<IPython.core.display.HTML object>"
      ]
     },
     "metadata": {},
     "output_type": "display_data"
    },
    {
     "data": {
      "text/plain": [
       "Path('models/species1000-resnet50-branch2-fepochs1-uepochs0.pth')"
      ]
     },
     "execution_count": 63,
     "metadata": {},
     "output_type": "execute_result"
    }
   ],
   "source": [
    "learn.fit(1, 3e-3)\n",
    "learn.save('species1000-resnet50-branch2-fepochs1-uepochs0')"
   ]
  },
  {
   "cell_type": "code",
   "execution_count": 64,
   "metadata": {},
   "outputs": [],
   "source": [
    "learn.unfreeze()"
   ]
  },
  {
   "cell_type": "code",
   "execution_count": 65,
   "metadata": {},
   "outputs": [
    {
     "data": {
      "text/html": [],
      "text/plain": [
       "<IPython.core.display.HTML object>"
      ]
     },
     "metadata": {},
     "output_type": "display_data"
    },
    {
     "data": {
      "text/plain": [
       "SuggestedLRs(lr_min=0.15848932266235352, lr_steep=1.3182567358016968)"
      ]
     },
     "execution_count": 65,
     "metadata": {},
     "output_type": "execute_result"
    },
    {
     "data": {
      "image/png": "[encoded data removed]",
      "text/plain": [
       "<Figure size 432x288 with 1 Axes>"
      ]
     },
     "metadata": {
      "needs_background": "light"
     },
     "output_type": "display_data"
    }
   ],
   "source": [
    "learn.lr_find()"
   ]
  },
  {
   "cell_type": "code",
   "execution_count": 26,
   "metadata": {
    "scrolled": true
   },
   "outputs": [],
   "source": [
    "def continue_training(pth_filename):\n",
    "    learn = Learner(dls, model, loss_func=loss_func, metrics=custom_accuracy,\n",
    "                   splitter=custom_splitter).to_fp16()\n",
    "    learn.load(pth_filename)\n",
    "    learn.unfreeze()\n",
    "    return learn"
   ]
  },
  {
   "cell_type": "code",
   "execution_count": 27,
   "metadata": {},
   "outputs": [],
   "source": [
    "learn = continue_training('species1000-resnet50-branch2-fepochs1-uepochs0')"
   ]
  },
  {
   "cell_type": "code",
   "execution_count": 28,
   "metadata": {},
   "outputs": [
    {
     "data": {
      "text/html": [
       "<table border=\"1\" class=\"dataframe\">\n",
       "  <thead>\n",
       "    <tr style=\"text-align: left;\">\n",
       "      <th>epoch</th>\n",
       "      <th>train_loss</th>\n",
       "      <th>valid_loss</th>\n",
       "      <th>custom_accuracy</th>\n",
       "      <th>time</th>\n",
       "    </tr>\n",
       "  </thead>\n",
       "  <tbody>\n",
       "    <tr>\n",
       "      <td>0</td>\n",
       "      <td>10.825366</td>\n",
       "      <td>9.920401</td>\n",
       "      <td>0.527038</td>\n",
       "      <td>29:44</td>\n",
       "    </tr>\n",
       "    <tr>\n",
       "      <td>1</td>\n",
       "      <td>10.650622</td>\n",
       "      <td>9.622943</td>\n",
       "      <td>0.565553</td>\n",
       "      <td>29:47</td>\n",
       "    </tr>\n",
       "    <tr>\n",
       "      <td>2</td>\n",
       "      <td>10.158860</td>\n",
       "      <td>9.410731</td>\n",
       "      <td>0.590033</td>\n",
       "      <td>29:49</td>\n",
       "    </tr>\n",
       "    <tr>\n",
       "      <td>3</td>\n",
       "      <td>10.060473</td>\n",
       "      <td>9.246039</td>\n",
       "      <td>0.614880</td>\n",
       "      <td>29:51</td>\n",
       "    </tr>\n",
       "    <tr>\n",
       "      <td>4</td>\n",
       "      <td>9.866831</td>\n",
       "      <td>9.136415</td>\n",
       "      <td>0.624580</td>\n",
       "      <td>29:47</td>\n",
       "    </tr>\n",
       "  </tbody>\n",
       "</table>"
      ],
      "text/plain": [
       "<IPython.core.display.HTML object>"
      ]
     },
     "metadata": {},
     "output_type": "display_data"
    }
   ],
   "source": [
    "learn.fit(5, slice(1e-6,1e-4))\n",
    "learn.save('species1000-resnet50-branch2-fepochs1-uepochs5')"
   ]
  },
  {
   "cell_type": "code",
   "execution_count": 30,
   "metadata": {},
   "outputs": [
    {
     "data": {
      "text/plain": [
       "Path('models/species1000-resnet50-branch2-fepochs1-uepochs5.pth')"
      ]
     },
     "execution_count": 30,
     "metadata": {},
     "output_type": "execute_result"
    }
   ],
   "source": [
    "learn.save('species1000-resnet50-branch2-fepochs1-uepochs5')"
   ]
  },
  {
   "cell_type": "code",
   "execution_count": 31,
   "metadata": {
    "scrolled": true
   },
   "outputs": [
    {
     "data": {
      "text/html": [
       "<table border=\"1\" class=\"dataframe\">\n",
       "  <thead>\n",
       "    <tr style=\"text-align: left;\">\n",
       "      <th>epoch</th>\n",
       "      <th>train_loss</th>\n",
       "      <th>valid_loss</th>\n",
       "      <th>custom_accuracy</th>\n",
       "      <th>time</th>\n",
       "    </tr>\n",
       "  </thead>\n",
       "  <tbody>\n",
       "    <tr>\n",
       "      <td>0</td>\n",
       "      <td>9.698350</td>\n",
       "      <td>9.026076</td>\n",
       "      <td>0.643600</td>\n",
       "      <td>29:44</td>\n",
       "    </tr>\n",
       "    <tr>\n",
       "      <td>1</td>\n",
       "      <td>9.617804</td>\n",
       "      <td>8.939301</td>\n",
       "      <td>0.646501</td>\n",
       "      <td>29:47</td>\n",
       "    </tr>\n",
       "    <tr>\n",
       "      <td>2</td>\n",
       "      <td>9.386474</td>\n",
       "      <td>8.858690</td>\n",
       "      <td>0.657208</td>\n",
       "      <td>29:42</td>\n",
       "    </tr>\n",
       "    <tr>\n",
       "      <td>3</td>\n",
       "      <td>9.419811</td>\n",
       "      <td>8.809065</td>\n",
       "      <td>0.666765</td>\n",
       "      <td>29:42</td>\n",
       "    </tr>\n",
       "    <tr>\n",
       "      <td>4</td>\n",
       "      <td>9.354745</td>\n",
       "      <td>8.741025</td>\n",
       "      <td>0.667914</td>\n",
       "      <td>29:41</td>\n",
       "    </tr>\n",
       "  </tbody>\n",
       "</table>"
      ],
      "text/plain": [
       "<IPython.core.display.HTML object>"
      ]
     },
     "metadata": {},
     "output_type": "display_data"
    },
    {
     "data": {
      "text/plain": [
       "Path('models/species1000-resnet50-branch2-fepochs1-uepochs10.pth')"
      ]
     },
     "execution_count": 31,
     "metadata": {},
     "output_type": "execute_result"
    }
   ],
   "source": [
    "learn.fit(5, slice(1e-6,1e-4))\n",
    "learn.save('species1000-resnet50-branch2-fepochs1-uepochs10')"
   ]
  },
  {
   "cell_type": "code",
   "execution_count": 32,
   "metadata": {
    "scrolled": true
   },
   "outputs": [
    {
     "data": {
      "text/html": [
       "<table border=\"1\" class=\"dataframe\">\n",
       "  <thead>\n",
       "    <tr style=\"text-align: left;\">\n",
       "      <th>epoch</th>\n",
       "      <th>train_loss</th>\n",
       "      <th>valid_loss</th>\n",
       "      <th>custom_accuracy</th>\n",
       "      <th>time</th>\n",
       "    </tr>\n",
       "  </thead>\n",
       "  <tbody>\n",
       "    <tr>\n",
       "      <td>0</td>\n",
       "      <td>9.184171</td>\n",
       "      <td>8.696441</td>\n",
       "      <td>0.669880</td>\n",
       "      <td>29:45</td>\n",
       "    </tr>\n",
       "    <tr>\n",
       "      <td>1</td>\n",
       "      <td>9.246830</td>\n",
       "      <td>8.676590</td>\n",
       "      <td>0.680231</td>\n",
       "      <td>29:45</td>\n",
       "    </tr>\n",
       "    <tr>\n",
       "      <td>2</td>\n",
       "      <td>9.030396</td>\n",
       "      <td>8.596883</td>\n",
       "      <td>0.688711</td>\n",
       "      <td>29:44</td>\n",
       "    </tr>\n",
       "    <tr>\n",
       "      <td>3</td>\n",
       "      <td>9.032920</td>\n",
       "      <td>8.571597</td>\n",
       "      <td>0.693176</td>\n",
       "      <td>29:45</td>\n",
       "    </tr>\n",
       "    <tr>\n",
       "      <td>4</td>\n",
       "      <td>8.861749</td>\n",
       "      <td>8.526108</td>\n",
       "      <td>0.699145</td>\n",
       "      <td>29:43</td>\n",
       "    </tr>\n",
       "  </tbody>\n",
       "</table>"
      ],
      "text/plain": [
       "<IPython.core.display.HTML object>"
      ]
     },
     "metadata": {},
     "output_type": "display_data"
    },
    {
     "data": {
      "text/plain": [
       "Path('models/species1000-resnet50-branch2-fepochs1-uepochs15.pth')"
      ]
     },
     "execution_count": 32,
     "metadata": {},
     "output_type": "execute_result"
    }
   ],
   "source": [
    "learn.fit(5, slice(1e-6,1e-4))\n",
    "learn.save('species1000-resnet50-branch2-fepochs1-uepochs15')"
   ]
  },
  {
   "cell_type": "code",
   "execution_count": 33,
   "metadata": {
    "scrolled": true
   },
   "outputs": [],
   "source": [
    "learn.export('species1000-resnet50-branch2-fepochs1-uepochs15')"
   ]
  },
  {
   "cell_type": "markdown",
   "metadata": {},
   "source": [
    "# 2-Branch-CNN (B)"
   ]
  },
  {
   "cell_type": "code",
   "execution_count": 11,
   "metadata": {
    "scrolled": true
   },
   "outputs": [],
   "source": [
    "model = resnet50\n",
    "body = create_body(model, cut=-2)\n",
    "stem = body[0:4]\n",
    "block1, block2, block3, block4 = body[4], body[5], body[6], body[7]\n",
    "head = create_head(2048*2,dls.c)"
   ]
  },
  {
   "cell_type": "code",
   "execution_count": 12,
   "metadata": {
    "scrolled": true
   },
   "outputs": [],
   "source": [
    "def custom_get_y(o):\n",
    "    fine_label = o['Specie']\n",
    "    coarse2_label = o['Genus']\n",
    "    coarse1_label = o['Family']\n",
    "    return [coarse1_label, coarse2_label, fine_label]"
   ]
  },
  {
   "cell_type": "code",
   "execution_count": 13,
   "metadata": {
    "scrolled": true
   },
   "outputs": [],
   "source": [
    "class Resnet50CustomModel(Module):\n",
    "    def __init__(self, encoder, head):\n",
    "        self.encoder = encoder\n",
    "        self.stem = encoder[0:4]\n",
    "        self.block1 = body[4]\n",
    "        self.branch1 = create_head(256*2, len(set(df['Family'])))\n",
    "        self.block2 = body[5]\n",
    "        self.branch2 = create_head(512*2, len(set(df['Genus'])))\n",
    "        self.block3 = body[6]\n",
    "        self.block4 = body[7]\n",
    "        self.head = head\n",
    "    \n",
    "    def forward(self, x):\n",
    "        x = self.stem(x)\n",
    "        x = self.block1(x)\n",
    "        coarse1_label = self.branch1(x)\n",
    "        x = self.block2(x)\n",
    "        coarse2_label = self.branch2(x)\n",
    "        x = self.block3(x)\n",
    "        x = self.block4(x)\n",
    "        fine_label = self.head(x)\n",
    "        return {\n",
    "                'fine_label': fine_label,\n",
    "                'coarse2_label': coarse2_label,\n",
    "                'coarse1_label': coarse1_label\n",
    "               }"
   ]
  },
  {
   "cell_type": "code",
   "execution_count": 14,
   "metadata": {
    "scrolled": true
   },
   "outputs": [],
   "source": [
    "model = Resnet50CustomModel(body, head)"
   ]
  },
  {
   "cell_type": "code",
   "execution_count": 15,
   "metadata": {
    "scrolled": true
   },
   "outputs": [],
   "source": [
    "class CustomCategorize(DisplayedTransform):\n",
    "    \"Reversible transform of category string to `vocab` id\"\n",
    "    loss_func,order=CrossEntropyLossFlat(),1\n",
    "    def __init__(self, vocab=None, vocab_coarse1=None, vocab_coarse2=None, sort=True, add_na=False, num_y=1):\n",
    "        store_attr()\n",
    "        self.vocab = None if vocab is None else CategoryMap(vocab, sort=sort, add_na=add_na)\n",
    "        self.vocab_coarse1 = None if vocab_coarse1 is None else CategoryMap(vocab_coarse1, sort=sort, add_na=add_na)\n",
    "        self.vocab_coarse2 = None if vocab_coarse2 is None else CategoryMap(vocab_coarse2, sort=sort, add_na=add_na)\n",
    "\n",
    "    def setups(self, dsets):\n",
    "        fine_dsets = [d[2] for d in dsets]\n",
    "        coarse2_dsets = [d[1] for d in dsets]\n",
    "        coarse1_dsets = [d[0] for d in dsets]\n",
    "        if self.vocab is None and dsets is not None: self.vocab = CategoryMap(fine_dsets, sort=self.sort, add_na=self.add_na)\n",
    "        if self.vocab_coarse1 is None and dsets is not None: self.vocab_coarse1 = CategoryMap(coarse1_dsets, sort=self.sort, add_na=self.add_na)\n",
    "        if self.vocab_coarse2 is None and dsets is not None: self.vocab_coarse2 = CategoryMap(coarse2_dsets, sort=self.sort, add_na=self.add_na)\n",
    "        self.c = len(self.vocab)\n",
    "\n",
    "    def encodes(self, o): return {'fine_label': TensorCategory(self.vocab.o2i[o[2]]),\n",
    "                                  'coarse2_label': TensorCategory(self.vocab_coarse2.o2i[o[1]]),\n",
    "                                  'coarse1_label': TensorCategory(self.vocab_coarse1.o2i[o[0]])\n",
    "                                 }\n",
    "    def decodes(self, o): return Category      (self.vocab    [o])"
   ]
  },
  {
   "cell_type": "code",
   "execution_count": 16,
   "metadata": {
    "scrolled": true
   },
   "outputs": [],
   "source": [
    "def CustomCategoryBlock(vocab=None, sort=True, add_na=False, num_y=1):\n",
    "    \"`TransformBlock` for single-label categorical targets\"\n",
    "    return TransformBlock(type_tfms=CustomCategorize(vocab=vocab, sort=sort, add_na=add_na))"
   ]
  },
  {
   "cell_type": "code",
   "execution_count": 17,
   "metadata": {
    "scrolled": true
   },
   "outputs": [],
   "source": [
    "def custom_splitter(model):\n",
    "    return [params(model.stem),\n",
    "            params(model.block1),\n",
    "            params(model.block2),\n",
    "            params(model.block3),\n",
    "            params(model.block4),\n",
    "            params(model.head)]"
   ]
  },
  {
   "cell_type": "code",
   "execution_count": 18,
   "metadata": {
    "scrolled": true
   },
   "outputs": [],
   "source": [
    "fishes = DataBlock(blocks = (ImageBlock, CustomCategoryBlock),\n",
    "                 splitter=ColSplitter(),\n",
    "                 get_x = ColReader(5, pref=path),\n",
    "                 get_y=custom_get_y,\n",
    "                 item_tfms=RandomResizedCrop(336, min_scale=0.5),\n",
    "                 batch_tfms=aug_transforms())\n",
    "dls = fishes.dataloaders(df)"
   ]
  },
  {
   "cell_type": "code",
   "execution_count": 19,
   "metadata": {
    "scrolled": true
   },
   "outputs": [
    {
     "data": {
      "text/plain": [
       "((#337741) [(PILImage mode=RGB size=768x1024, {'fine_label': TensorCategory(531), 'coarse2_label': TensorCategory(231), 'coarse1_label': TensorCategory(25)}),(PILImage mode=RGB size=1024x738, {'fine_label': TensorCategory(776), 'coarse2_label': TensorCategory(341), 'coarse1_label': TensorCategory(25)}),(PILImage mode=RGB size=768x1024, {'fine_label': TensorCategory(538), 'coarse2_label': TensorCategory(231), 'coarse1_label': TensorCategory(25)}),(PILImage mode=RGB size=768x1024, {'fine_label': TensorCategory(837), 'coarse2_label': TensorCategory(381), 'coarse1_label': TensorCategory(41)}),(PILImage mode=RGB size=1024x786, {'fine_label': TensorCategory(32), 'coarse2_label': TensorCategory(10), 'coarse1_label': TensorCategory(0)}),(PILImage mode=RGB size=1024x683, {'fine_label': TensorCategory(145), 'coarse2_label': TensorCategory(73), 'coarse1_label': TensorCategory(109)}),(PILImage mode=RGB size=768x1024, {'fine_label': TensorCategory(827), 'coarse2_label': TensorCategory(376), 'coarse1_label': TensorCategory(108)}),(PILImage mode=RGB size=1024x697, {'fine_label': TensorCategory(792), 'coarse2_label': TensorCategory(352), 'coarse1_label': TensorCategory(100)}),(PILImage mode=RGB size=1024x768, {'fine_label': TensorCategory(784), 'coarse2_label': TensorCategory(347), 'coarse1_label': TensorCategory(9)}),(PILImage mode=RGB size=1024x768, {'fine_label': TensorCategory(522), 'coarse2_label': TensorCategory(227), 'coarse1_label': TensorCategory(121)})...],\n",
       " (#84436) [(PILImage mode=RGB size=576x1024, {'fine_label': TensorCategory(826), 'coarse2_label': TensorCategory(375), 'coarse1_label': TensorCategory(108)}),(PILImage mode=RGB size=512x320, {'fine_label': TensorCategory(296), 'coarse2_label': TensorCategory(131), 'coarse1_label': TensorCategory(0)}),(PILImage mode=RGB size=1024x768, {'fine_label': TensorCategory(283), 'coarse2_label': TensorCategory(125), 'coarse1_label': TensorCategory(71)}),(PILImage mode=RGB size=1024x683, {'fine_label': TensorCategory(223), 'coarse2_label': TensorCategory(93), 'coarse1_label': TensorCategory(71)}),(PILImage mode=RGB size=1024x683, {'fine_label': TensorCategory(333), 'coarse2_label': TensorCategory(151), 'coarse1_label': TensorCategory(121)}),(PILImage mode=RGB size=1024x768, {'fine_label': TensorCategory(272), 'coarse2_label': TensorCategory(118), 'coarse1_label': TensorCategory(41)}),(PILImage mode=RGB size=1024x576, {'fine_label': TensorCategory(163), 'coarse2_label': TensorCategory(79), 'coarse1_label': TensorCategory(23)}),(PILImage mode=RGB size=1024x768, {'fine_label': TensorCategory(827), 'coarse2_label': TensorCategory(376), 'coarse1_label': TensorCategory(108)}),(PILImage mode=RGB size=1024x768, {'fine_label': TensorCategory(868), 'coarse2_label': TensorCategory(390), 'coarse1_label': TensorCategory(113)}),(PILImage mode=RGB size=768x1024, {'fine_label': TensorCategory(816), 'coarse2_label': TensorCategory(370), 'coarse1_label': TensorCategory(41)})...])"
      ]
     },
     "execution_count": 19,
     "metadata": {},
     "output_type": "execute_result"
    }
   ],
   "source": [
    "dls.train_ds, dls.valid_ds"
   ]
  },
  {
   "cell_type": "code",
   "execution_count": 20,
   "metadata": {
    "scrolled": true
   },
   "outputs": [
    {
     "data": {
      "text/plain": [
       "((#1000) ['Abramis brama','Abudefduf abdominalis','Abudefduf bengalensis','Abudefduf saxatilis','Abudefduf septemfasciatus','Abudefduf sexfasciatus','Abudefduf sordidus','Abudefduf troschelii','Abudefduf vaigiensis','Acanthaluteres vittiger'...],\n",
       " (#454) ['Abramis','Abudefduf','Acanthaluteres','Acanthistius','Acanthochromis','Acanthoclinus','Acanthocybium','Acanthogobius','Acanthopagrus','Acanthostracion'...],\n",
       " (#135) ['Acanthuridae','Achiridae','Acipenseridae','Amiidae','Ammodytidae','Anguillidae','Antennariidae','Aphredoderidae','Aplodactylidae','Apogonidae'...])"
      ]
     },
     "execution_count": 20,
     "metadata": {},
     "output_type": "execute_result"
    }
   ],
   "source": [
    "dls.vocab, dls.vocab_coarse2, dls.vocab_coarse1"
   ]
  },
  {
   "cell_type": "code",
   "execution_count": 21,
   "metadata": {},
   "outputs": [],
   "source": [
    "weights = tensor([float(weights_df[weights_df['Specie']==c]['Weight']) for c in dls.vocab]).cuda()\n",
    "weights_family = tensor([float(weights_family_df[weights_family_df['Family']==c]['Weight']) for c in dls.vocab_coarse1]).cuda()\n",
    "weights_genus = tensor([float(weights_genus_df[weights_genus_df['Genus']==c]['Weight']) for c in dls.vocab_coarse2]).cuda()"
   ]
  },
  {
   "cell_type": "code",
   "execution_count": 22,
   "metadata": {
    "scrolled": true
   },
   "outputs": [],
   "source": [
    "def loss_func(out, targ):\n",
    "    return nn.CrossEntropyLoss(weight=weights)(out['fine_label'], targ['fine_label']) + \\\n",
    "            nn.CrossEntropyLoss(weight=weights_family)(out['coarse1_label'], targ['coarse1_label']) + \\\n",
    "            nn.CrossEntropyLoss(weight=weights_genus)(out['coarse2_label'], targ['coarse2_label'])"
   ]
  },
  {
   "cell_type": "code",
   "execution_count": 23,
   "metadata": {
    "scrolled": true
   },
   "outputs": [],
   "source": [
    "def custom_accuracy(inp, targ, axis=-1):\n",
    "    pred1,targ1 = flatten_check(inp['fine_label'].argmax(dim=axis), targ['fine_label'])\n",
    "    acc1 = (pred1 == targ1).float().mean()\n",
    "    return acc1"
   ]
  },
  {
   "cell_type": "code",
   "execution_count": 47,
   "metadata": {
    "scrolled": true
   },
   "outputs": [],
   "source": [
    "learn = Learner(dls, model, loss_func=loss_func, metrics=custom_accuracy,\n",
    "                   splitter=custom_splitter).to_fp16()\n",
    "learn.freeze()"
   ]
  },
  {
   "cell_type": "code",
   "execution_count": 48,
   "metadata": {
    "scrolled": true
   },
   "outputs": [
    {
     "data": {
      "text/html": [
       "<table border=\"1\" class=\"dataframe\">\n",
       "  <thead>\n",
       "    <tr style=\"text-align: left;\">\n",
       "      <th>epoch</th>\n",
       "      <th>train_loss</th>\n",
       "      <th>valid_loss</th>\n",
       "      <th>custom_accuracy</th>\n",
       "      <th>time</th>\n",
       "    </tr>\n",
       "  </thead>\n",
       "  <tbody>\n",
       "    <tr>\n",
       "      <td>0</td>\n",
       "      <td>None</td>\n",
       "      <td>None</td>\n",
       "      <td>00:00</td>\n",
       "    </tr>\n",
       "  </tbody>\n",
       "</table>"
      ],
      "text/plain": [
       "<IPython.core.display.HTML object>"
      ]
     },
     "metadata": {},
     "output_type": "display_data"
    },
    {
     "data": {
      "text/plain": [
       "Resnet50CustomModel (Input shape: ['64 x 3 x 336 x 336'])\n",
       "================================================================\n",
       "Layer (type)         Output Shape         Param #    Trainable \n",
       "================================================================\n",
       "Conv2d               64 x 64 x 168 x 168  9,408      False     \n",
       "________________________________________________________________\n",
       "BatchNorm2d          64 x 64 x 168 x 168  128        True      \n",
       "________________________________________________________________\n",
       "ReLU                 64 x 64 x 168 x 168  0          False     \n",
       "________________________________________________________________\n",
       "MaxPool2d            64 x 64 x 84 x 84    0          False     \n",
       "________________________________________________________________\n",
       "Conv2d               64 x 64 x 84 x 84    4,096      False     \n",
       "________________________________________________________________\n",
       "BatchNorm2d          64 x 64 x 84 x 84    128        True      \n",
       "________________________________________________________________\n",
       "Conv2d               64 x 64 x 84 x 84    36,864     False     \n",
       "________________________________________________________________\n",
       "BatchNorm2d          64 x 64 x 84 x 84    128        True      \n",
       "________________________________________________________________\n",
       "Conv2d               64 x 256 x 84 x 84   16,384     False     \n",
       "________________________________________________________________\n",
       "BatchNorm2d          64 x 256 x 84 x 84   512        True      \n",
       "________________________________________________________________\n",
       "ReLU                 64 x 256 x 84 x 84   0          False     \n",
       "________________________________________________________________\n",
       "Conv2d               64 x 256 x 84 x 84   16,384     False     \n",
       "________________________________________________________________\n",
       "BatchNorm2d          64 x 256 x 84 x 84   512        True      \n",
       "________________________________________________________________\n",
       "Conv2d               64 x 64 x 84 x 84    16,384     False     \n",
       "________________________________________________________________\n",
       "BatchNorm2d          64 x 64 x 84 x 84    128        True      \n",
       "________________________________________________________________\n",
       "Conv2d               64 x 64 x 84 x 84    36,864     False     \n",
       "________________________________________________________________\n",
       "BatchNorm2d          64 x 64 x 84 x 84    128        True      \n",
       "________________________________________________________________\n",
       "Conv2d               64 x 256 x 84 x 84   16,384     False     \n",
       "________________________________________________________________\n",
       "BatchNorm2d          64 x 256 x 84 x 84   512        True      \n",
       "________________________________________________________________\n",
       "ReLU                 64 x 256 x 84 x 84   0          False     \n",
       "________________________________________________________________\n",
       "Conv2d               64 x 64 x 84 x 84    16,384     False     \n",
       "________________________________________________________________\n",
       "BatchNorm2d          64 x 64 x 84 x 84    128        True      \n",
       "________________________________________________________________\n",
       "Conv2d               64 x 64 x 84 x 84    36,864     False     \n",
       "________________________________________________________________\n",
       "BatchNorm2d          64 x 64 x 84 x 84    128        True      \n",
       "________________________________________________________________\n",
       "Conv2d               64 x 256 x 84 x 84   16,384     False     \n",
       "________________________________________________________________\n",
       "BatchNorm2d          64 x 256 x 84 x 84   512        True      \n",
       "________________________________________________________________\n",
       "ReLU                 64 x 256 x 84 x 84   0          False     \n",
       "________________________________________________________________\n",
       "Conv2d               64 x 128 x 84 x 84   32,768     False     \n",
       "________________________________________________________________\n",
       "BatchNorm2d          64 x 128 x 84 x 84   256        True      \n",
       "________________________________________________________________\n",
       "Conv2d               64 x 128 x 42 x 42   147,456    False     \n",
       "________________________________________________________________\n",
       "BatchNorm2d          64 x 128 x 42 x 42   256        True      \n",
       "________________________________________________________________\n",
       "Conv2d               64 x 512 x 42 x 42   65,536     False     \n",
       "________________________________________________________________\n",
       "BatchNorm2d          64 x 512 x 42 x 42   1,024      True      \n",
       "________________________________________________________________\n",
       "ReLU                 64 x 512 x 42 x 42   0          False     \n",
       "________________________________________________________________\n",
       "Conv2d               64 x 512 x 42 x 42   131,072    False     \n",
       "________________________________________________________________\n",
       "BatchNorm2d          64 x 512 x 42 x 42   1,024      True      \n",
       "________________________________________________________________\n",
       "Conv2d               64 x 128 x 42 x 42   65,536     False     \n",
       "________________________________________________________________\n",
       "BatchNorm2d          64 x 128 x 42 x 42   256        True      \n",
       "________________________________________________________________\n",
       "Conv2d               64 x 128 x 42 x 42   147,456    False     \n",
       "________________________________________________________________\n",
       "BatchNorm2d          64 x 128 x 42 x 42   256        True      \n",
       "________________________________________________________________\n",
       "Conv2d               64 x 512 x 42 x 42   65,536     False     \n",
       "________________________________________________________________\n",
       "BatchNorm2d          64 x 512 x 42 x 42   1,024      True      \n",
       "________________________________________________________________\n",
       "ReLU                 64 x 512 x 42 x 42   0          False     \n",
       "________________________________________________________________\n",
       "Conv2d               64 x 128 x 42 x 42   65,536     False     \n",
       "________________________________________________________________\n",
       "BatchNorm2d          64 x 128 x 42 x 42   256        True      \n",
       "________________________________________________________________\n",
       "Conv2d               64 x 128 x 42 x 42   147,456    False     \n",
       "________________________________________________________________\n",
       "BatchNorm2d          64 x 128 x 42 x 42   256        True      \n",
       "________________________________________________________________\n",
       "Conv2d               64 x 512 x 42 x 42   65,536     False     \n",
       "________________________________________________________________\n",
       "BatchNorm2d          64 x 512 x 42 x 42   1,024      True      \n",
       "________________________________________________________________\n",
       "ReLU                 64 x 512 x 42 x 42   0          False     \n",
       "________________________________________________________________\n",
       "Conv2d               64 x 128 x 42 x 42   65,536     False     \n",
       "________________________________________________________________\n",
       "BatchNorm2d          64 x 128 x 42 x 42   256        True      \n",
       "________________________________________________________________\n",
       "Conv2d               64 x 128 x 42 x 42   147,456    False     \n",
       "________________________________________________________________\n",
       "BatchNorm2d          64 x 128 x 42 x 42   256        True      \n",
       "________________________________________________________________\n",
       "Conv2d               64 x 512 x 42 x 42   65,536     False     \n",
       "________________________________________________________________\n",
       "BatchNorm2d          64 x 512 x 42 x 42   1,024      True      \n",
       "________________________________________________________________\n",
       "ReLU                 64 x 512 x 42 x 42   0          False     \n",
       "________________________________________________________________\n",
       "Conv2d               64 x 256 x 42 x 42   131,072    False     \n",
       "________________________________________________________________\n",
       "BatchNorm2d          64 x 256 x 42 x 42   512        True      \n",
       "________________________________________________________________\n",
       "Conv2d               64 x 256 x 21 x 21   589,824    False     \n",
       "________________________________________________________________\n",
       "BatchNorm2d          64 x 256 x 21 x 21   512        True      \n",
       "________________________________________________________________\n",
       "Conv2d               64 x 1024 x 21 x 21  262,144    False     \n",
       "________________________________________________________________\n",
       "BatchNorm2d          64 x 1024 x 21 x 21  2,048      True      \n",
       "________________________________________________________________\n",
       "ReLU                 64 x 1024 x 21 x 21  0          False     \n",
       "________________________________________________________________\n",
       "Conv2d               64 x 1024 x 21 x 21  524,288    False     \n",
       "________________________________________________________________\n",
       "BatchNorm2d          64 x 1024 x 21 x 21  2,048      True      \n",
       "________________________________________________________________\n",
       "Conv2d               64 x 256 x 21 x 21   262,144    False     \n",
       "________________________________________________________________\n",
       "BatchNorm2d          64 x 256 x 21 x 21   512        True      \n",
       "________________________________________________________________\n",
       "Conv2d               64 x 256 x 21 x 21   589,824    False     \n",
       "________________________________________________________________\n",
       "BatchNorm2d          64 x 256 x 21 x 21   512        True      \n",
       "________________________________________________________________\n",
       "Conv2d               64 x 1024 x 21 x 21  262,144    False     \n",
       "________________________________________________________________\n",
       "BatchNorm2d          64 x 1024 x 21 x 21  2,048      True      \n",
       "________________________________________________________________\n",
       "ReLU                 64 x 1024 x 21 x 21  0          False     \n",
       "________________________________________________________________\n",
       "Conv2d               64 x 256 x 21 x 21   262,144    False     \n",
       "________________________________________________________________\n",
       "BatchNorm2d          64 x 256 x 21 x 21   512        True      \n",
       "________________________________________________________________\n",
       "Conv2d               64 x 256 x 21 x 21   589,824    False     \n",
       "________________________________________________________________\n",
       "BatchNorm2d          64 x 256 x 21 x 21   512        True      \n",
       "________________________________________________________________\n",
       "Conv2d               64 x 1024 x 21 x 21  262,144    False     \n",
       "________________________________________________________________\n",
       "BatchNorm2d          64 x 1024 x 21 x 21  2,048      True      \n",
       "________________________________________________________________\n",
       "ReLU                 64 x 1024 x 21 x 21  0          False     \n",
       "________________________________________________________________\n",
       "Conv2d               64 x 256 x 21 x 21   262,144    False     \n",
       "________________________________________________________________\n",
       "BatchNorm2d          64 x 256 x 21 x 21   512        True      \n",
       "________________________________________________________________\n",
       "Conv2d               64 x 256 x 21 x 21   589,824    False     \n",
       "________________________________________________________________\n",
       "BatchNorm2d          64 x 256 x 21 x 21   512        True      \n",
       "________________________________________________________________\n",
       "Conv2d               64 x 1024 x 21 x 21  262,144    False     \n",
       "________________________________________________________________\n",
       "BatchNorm2d          64 x 1024 x 21 x 21  2,048      True      \n",
       "________________________________________________________________\n",
       "ReLU                 64 x 1024 x 21 x 21  0          False     \n",
       "________________________________________________________________\n",
       "Conv2d               64 x 256 x 21 x 21   262,144    False     \n",
       "________________________________________________________________\n",
       "BatchNorm2d          64 x 256 x 21 x 21   512        True      \n",
       "________________________________________________________________\n",
       "Conv2d               64 x 256 x 21 x 21   589,824    False     \n",
       "________________________________________________________________\n",
       "BatchNorm2d          64 x 256 x 21 x 21   512        True      \n",
       "________________________________________________________________\n",
       "Conv2d               64 x 1024 x 21 x 21  262,144    False     \n",
       "________________________________________________________________\n",
       "BatchNorm2d          64 x 1024 x 21 x 21  2,048      True      \n",
       "________________________________________________________________\n",
       "ReLU                 64 x 1024 x 21 x 21  0          False     \n",
       "________________________________________________________________\n",
       "Conv2d               64 x 256 x 21 x 21   262,144    False     \n",
       "________________________________________________________________\n",
       "BatchNorm2d          64 x 256 x 21 x 21   512        True      \n",
       "________________________________________________________________\n",
       "Conv2d               64 x 256 x 21 x 21   589,824    False     \n",
       "________________________________________________________________\n",
       "BatchNorm2d          64 x 256 x 21 x 21   512        True      \n",
       "________________________________________________________________\n",
       "Conv2d               64 x 1024 x 21 x 21  262,144    False     \n",
       "________________________________________________________________\n",
       "BatchNorm2d          64 x 1024 x 21 x 21  2,048      True      \n",
       "________________________________________________________________\n",
       "ReLU                 64 x 1024 x 21 x 21  0          False     \n",
       "________________________________________________________________\n",
       "Conv2d               64 x 512 x 21 x 21   524,288    False     \n",
       "________________________________________________________________\n",
       "BatchNorm2d          64 x 512 x 21 x 21   1,024      True      \n",
       "________________________________________________________________\n",
       "Conv2d               64 x 512 x 11 x 11   2,359,296  False     \n",
       "________________________________________________________________\n",
       "BatchNorm2d          64 x 512 x 11 x 11   1,024      True      \n",
       "________________________________________________________________\n",
       "Conv2d               64 x 2048 x 11 x 11  1,048,576  False     \n",
       "________________________________________________________________\n",
       "BatchNorm2d          64 x 2048 x 11 x 11  4,096      True      \n",
       "________________________________________________________________\n",
       "ReLU                 64 x 2048 x 11 x 11  0          False     \n",
       "________________________________________________________________\n",
       "Conv2d               64 x 2048 x 11 x 11  2,097,152  False     \n",
       "________________________________________________________________\n",
       "BatchNorm2d          64 x 2048 x 11 x 11  4,096      True      \n",
       "________________________________________________________________\n",
       "Conv2d               64 x 512 x 11 x 11   1,048,576  False     \n",
       "________________________________________________________________\n",
       "BatchNorm2d          64 x 512 x 11 x 11   1,024      True      \n",
       "________________________________________________________________\n",
       "Conv2d               64 x 512 x 11 x 11   2,359,296  False     \n",
       "________________________________________________________________\n",
       "BatchNorm2d          64 x 512 x 11 x 11   1,024      True      \n",
       "________________________________________________________________\n",
       "Conv2d               64 x 2048 x 11 x 11  1,048,576  False     \n",
       "________________________________________________________________\n",
       "BatchNorm2d          64 x 2048 x 11 x 11  4,096      True      \n",
       "________________________________________________________________\n",
       "ReLU                 64 x 2048 x 11 x 11  0          False     \n",
       "________________________________________________________________\n",
       "Conv2d               64 x 512 x 11 x 11   1,048,576  False     \n",
       "________________________________________________________________\n",
       "BatchNorm2d          64 x 512 x 11 x 11   1,024      True      \n",
       "________________________________________________________________\n",
       "Conv2d               64 x 512 x 11 x 11   2,359,296  False     \n",
       "________________________________________________________________\n",
       "BatchNorm2d          64 x 512 x 11 x 11   1,024      True      \n",
       "________________________________________________________________\n",
       "Conv2d               64 x 2048 x 11 x 11  1,048,576  False     \n",
       "________________________________________________________________\n",
       "BatchNorm2d          64 x 2048 x 11 x 11  4,096      True      \n",
       "________________________________________________________________\n",
       "ReLU                 64 x 2048 x 11 x 11  0          False     \n",
       "________________________________________________________________\n",
       "Conv2d               64 x 64 x 168 x 168  9,408      False     \n",
       "________________________________________________________________\n",
       "BatchNorm2d          64 x 64 x 168 x 168  128        True      \n",
       "________________________________________________________________\n",
       "ReLU                 64 x 64 x 168 x 168  0          False     \n",
       "________________________________________________________________\n",
       "MaxPool2d            64 x 64 x 84 x 84    0          False     \n",
       "________________________________________________________________\n",
       "Conv2d               64 x 64 x 84 x 84    4,096      False     \n",
       "________________________________________________________________\n",
       "BatchNorm2d          64 x 64 x 84 x 84    128        True      \n",
       "________________________________________________________________\n",
       "Conv2d               64 x 64 x 84 x 84    36,864     False     \n",
       "________________________________________________________________\n",
       "BatchNorm2d          64 x 64 x 84 x 84    128        True      \n",
       "________________________________________________________________\n",
       "Conv2d               64 x 256 x 84 x 84   16,384     False     \n",
       "________________________________________________________________\n",
       "BatchNorm2d          64 x 256 x 84 x 84   512        True      \n",
       "________________________________________________________________\n",
       "ReLU                 64 x 256 x 84 x 84   0          False     \n",
       "________________________________________________________________\n",
       "Conv2d               64 x 256 x 84 x 84   16,384     False     \n",
       "________________________________________________________________\n",
       "BatchNorm2d          64 x 256 x 84 x 84   512        True      \n",
       "________________________________________________________________\n",
       "Conv2d               64 x 64 x 84 x 84    16,384     False     \n",
       "________________________________________________________________\n",
       "BatchNorm2d          64 x 64 x 84 x 84    128        True      \n",
       "________________________________________________________________\n",
       "Conv2d               64 x 64 x 84 x 84    36,864     False     \n",
       "________________________________________________________________\n",
       "BatchNorm2d          64 x 64 x 84 x 84    128        True      \n",
       "________________________________________________________________\n",
       "Conv2d               64 x 256 x 84 x 84   16,384     False     \n",
       "________________________________________________________________\n",
       "BatchNorm2d          64 x 256 x 84 x 84   512        True      \n",
       "________________________________________________________________\n",
       "ReLU                 64 x 256 x 84 x 84   0          False     \n",
       "________________________________________________________________\n",
       "Conv2d               64 x 64 x 84 x 84    16,384     False     \n",
       "________________________________________________________________\n",
       "BatchNorm2d          64 x 64 x 84 x 84    128        True      \n",
       "________________________________________________________________\n",
       "Conv2d               64 x 64 x 84 x 84    36,864     False     \n",
       "________________________________________________________________\n",
       "BatchNorm2d          64 x 64 x 84 x 84    128        True      \n",
       "________________________________________________________________\n",
       "Conv2d               64 x 256 x 84 x 84   16,384     False     \n",
       "________________________________________________________________\n",
       "BatchNorm2d          64 x 256 x 84 x 84   512        True      \n",
       "________________________________________________________________\n",
       "ReLU                 64 x 256 x 84 x 84   0          False     \n",
       "________________________________________________________________\n",
       "AdaptiveAvgPool2d    64 x 256 x 1 x 1     0          False     \n",
       "________________________________________________________________\n",
       "AdaptiveMaxPool2d    64 x 256 x 1 x 1     0          False     \n",
       "________________________________________________________________\n",
       "Flatten              64 x 512             0          False     \n",
       "________________________________________________________________\n",
       "BatchNorm1d          64 x 512             1,024      True      \n",
       "________________________________________________________________\n",
       "Dropout              64 x 512             0          False     \n",
       "________________________________________________________________\n",
       "Linear               64 x 512             262,144    True      \n",
       "________________________________________________________________\n",
       "ReLU                 64 x 512             0          False     \n",
       "________________________________________________________________\n",
       "BatchNorm1d          64 x 512             1,024      True      \n",
       "________________________________________________________________\n",
       "Dropout              64 x 512             0          False     \n",
       "________________________________________________________________\n",
       "Linear               64 x 135             69,120     True      \n",
       "________________________________________________________________\n",
       "Conv2d               64 x 128 x 84 x 84   32,768     False     \n",
       "________________________________________________________________\n",
       "BatchNorm2d          64 x 128 x 84 x 84   256        True      \n",
       "________________________________________________________________\n",
       "Conv2d               64 x 128 x 42 x 42   147,456    False     \n",
       "________________________________________________________________\n",
       "BatchNorm2d          64 x 128 x 42 x 42   256        True      \n",
       "________________________________________________________________\n",
       "Conv2d               64 x 512 x 42 x 42   65,536     False     \n",
       "________________________________________________________________\n",
       "BatchNorm2d          64 x 512 x 42 x 42   1,024      True      \n",
       "________________________________________________________________\n",
       "ReLU                 64 x 512 x 42 x 42   0          False     \n",
       "________________________________________________________________\n",
       "Conv2d               64 x 512 x 42 x 42   131,072    False     \n",
       "________________________________________________________________\n",
       "BatchNorm2d          64 x 512 x 42 x 42   1,024      True      \n",
       "________________________________________________________________\n",
       "Conv2d               64 x 128 x 42 x 42   65,536     False     \n",
       "________________________________________________________________\n",
       "BatchNorm2d          64 x 128 x 42 x 42   256        True      \n",
       "________________________________________________________________\n",
       "Conv2d               64 x 128 x 42 x 42   147,456    False     \n",
       "________________________________________________________________\n",
       "BatchNorm2d          64 x 128 x 42 x 42   256        True      \n",
       "________________________________________________________________\n",
       "Conv2d               64 x 512 x 42 x 42   65,536     False     \n",
       "________________________________________________________________\n",
       "BatchNorm2d          64 x 512 x 42 x 42   1,024      True      \n",
       "________________________________________________________________\n",
       "ReLU                 64 x 512 x 42 x 42   0          False     \n",
       "________________________________________________________________\n",
       "Conv2d               64 x 128 x 42 x 42   65,536     False     \n",
       "________________________________________________________________\n",
       "BatchNorm2d          64 x 128 x 42 x 42   256        True      \n",
       "________________________________________________________________\n",
       "Conv2d               64 x 128 x 42 x 42   147,456    False     \n",
       "________________________________________________________________\n",
       "BatchNorm2d          64 x 128 x 42 x 42   256        True      \n",
       "________________________________________________________________\n",
       "Conv2d               64 x 512 x 42 x 42   65,536     False     \n",
       "________________________________________________________________\n",
       "BatchNorm2d          64 x 512 x 42 x 42   1,024      True      \n",
       "________________________________________________________________\n",
       "ReLU                 64 x 512 x 42 x 42   0          False     \n",
       "________________________________________________________________\n",
       "Conv2d               64 x 128 x 42 x 42   65,536     False     \n",
       "________________________________________________________________\n",
       "BatchNorm2d          64 x 128 x 42 x 42   256        True      \n",
       "________________________________________________________________\n",
       "Conv2d               64 x 128 x 42 x 42   147,456    False     \n",
       "________________________________________________________________\n",
       "BatchNorm2d          64 x 128 x 42 x 42   256        True      \n",
       "________________________________________________________________\n",
       "Conv2d               64 x 512 x 42 x 42   65,536     False     \n",
       "________________________________________________________________\n",
       "BatchNorm2d          64 x 512 x 42 x 42   1,024      True      \n",
       "________________________________________________________________\n",
       "ReLU                 64 x 512 x 42 x 42   0          False     \n",
       "________________________________________________________________\n",
       "AdaptiveAvgPool2d    64 x 512 x 1 x 1     0          False     \n",
       "________________________________________________________________\n",
       "AdaptiveMaxPool2d    64 x 512 x 1 x 1     0          False     \n",
       "________________________________________________________________\n",
       "Flatten              64 x 1024            0          False     \n",
       "________________________________________________________________\n",
       "BatchNorm1d          64 x 1024            2,048      True      \n",
       "________________________________________________________________\n",
       "Dropout              64 x 1024            0          False     \n",
       "________________________________________________________________\n",
       "Linear               64 x 512             524,288    True      \n",
       "________________________________________________________________\n",
       "ReLU                 64 x 512             0          False     \n",
       "________________________________________________________________\n",
       "BatchNorm1d          64 x 512             1,024      True      \n",
       "________________________________________________________________\n",
       "Dropout              64 x 512             0          False     \n",
       "________________________________________________________________\n",
       "Linear               64 x 454             232,448    True      \n",
       "________________________________________________________________\n",
       "Conv2d               64 x 256 x 42 x 42   131,072    False     \n",
       "________________________________________________________________\n",
       "BatchNorm2d          64 x 256 x 42 x 42   512        True      \n",
       "________________________________________________________________\n",
       "Conv2d               64 x 256 x 21 x 21   589,824    False     \n",
       "________________________________________________________________\n",
       "BatchNorm2d          64 x 256 x 21 x 21   512        True      \n",
       "________________________________________________________________\n",
       "Conv2d               64 x 1024 x 21 x 21  262,144    False     \n",
       "________________________________________________________________\n",
       "BatchNorm2d          64 x 1024 x 21 x 21  2,048      True      \n",
       "________________________________________________________________\n",
       "ReLU                 64 x 1024 x 21 x 21  0          False     \n",
       "________________________________________________________________\n",
       "Conv2d               64 x 1024 x 21 x 21  524,288    False     \n",
       "________________________________________________________________\n",
       "BatchNorm2d          64 x 1024 x 21 x 21  2,048      True      \n",
       "________________________________________________________________\n",
       "Conv2d               64 x 256 x 21 x 21   262,144    False     \n",
       "________________________________________________________________\n",
       "BatchNorm2d          64 x 256 x 21 x 21   512        True      \n",
       "________________________________________________________________\n",
       "Conv2d               64 x 256 x 21 x 21   589,824    False     \n",
       "________________________________________________________________\n",
       "BatchNorm2d          64 x 256 x 21 x 21   512        True      \n",
       "________________________________________________________________\n",
       "Conv2d               64 x 1024 x 21 x 21  262,144    False     \n",
       "________________________________________________________________\n",
       "BatchNorm2d          64 x 1024 x 21 x 21  2,048      True      \n",
       "________________________________________________________________\n",
       "ReLU                 64 x 1024 x 21 x 21  0          False     \n",
       "________________________________________________________________\n",
       "Conv2d               64 x 256 x 21 x 21   262,144    False     \n",
       "________________________________________________________________\n",
       "BatchNorm2d          64 x 256 x 21 x 21   512        True      \n",
       "________________________________________________________________\n",
       "Conv2d               64 x 256 x 21 x 21   589,824    False     \n",
       "________________________________________________________________\n",
       "BatchNorm2d          64 x 256 x 21 x 21   512        True      \n",
       "________________________________________________________________\n",
       "Conv2d               64 x 1024 x 21 x 21  262,144    False     \n",
       "________________________________________________________________\n",
       "BatchNorm2d          64 x 1024 x 21 x 21  2,048      True      \n",
       "________________________________________________________________\n",
       "ReLU                 64 x 1024 x 21 x 21  0          False     \n",
       "________________________________________________________________\n",
       "Conv2d               64 x 256 x 21 x 21   262,144    False     \n",
       "________________________________________________________________\n",
       "BatchNorm2d          64 x 256 x 21 x 21   512        True      \n",
       "________________________________________________________________\n",
       "Conv2d               64 x 256 x 21 x 21   589,824    False     \n",
       "________________________________________________________________\n",
       "BatchNorm2d          64 x 256 x 21 x 21   512        True      \n",
       "________________________________________________________________\n",
       "Conv2d               64 x 1024 x 21 x 21  262,144    False     \n",
       "________________________________________________________________\n",
       "BatchNorm2d          64 x 1024 x 21 x 21  2,048      True      \n",
       "________________________________________________________________\n",
       "ReLU                 64 x 1024 x 21 x 21  0          False     \n",
       "________________________________________________________________\n",
       "Conv2d               64 x 256 x 21 x 21   262,144    False     \n",
       "________________________________________________________________\n",
       "BatchNorm2d          64 x 256 x 21 x 21   512        True      \n",
       "________________________________________________________________\n",
       "Conv2d               64 x 256 x 21 x 21   589,824    False     \n",
       "________________________________________________________________\n",
       "BatchNorm2d          64 x 256 x 21 x 21   512        True      \n",
       "________________________________________________________________\n",
       "Conv2d               64 x 1024 x 21 x 21  262,144    False     \n",
       "________________________________________________________________\n",
       "BatchNorm2d          64 x 1024 x 21 x 21  2,048      True      \n",
       "________________________________________________________________\n",
       "ReLU                 64 x 1024 x 21 x 21  0          False     \n",
       "________________________________________________________________\n",
       "Conv2d               64 x 256 x 21 x 21   262,144    False     \n",
       "________________________________________________________________\n",
       "BatchNorm2d          64 x 256 x 21 x 21   512        True      \n",
       "________________________________________________________________\n",
       "Conv2d               64 x 256 x 21 x 21   589,824    False     \n",
       "________________________________________________________________\n",
       "BatchNorm2d          64 x 256 x 21 x 21   512        True      \n",
       "________________________________________________________________\n",
       "Conv2d               64 x 1024 x 21 x 21  262,144    False     \n",
       "________________________________________________________________\n",
       "BatchNorm2d          64 x 1024 x 21 x 21  2,048      True      \n",
       "________________________________________________________________\n",
       "ReLU                 64 x 1024 x 21 x 21  0          False     \n",
       "________________________________________________________________\n",
       "Conv2d               64 x 512 x 21 x 21   524,288    False     \n",
       "________________________________________________________________\n",
       "BatchNorm2d          64 x 512 x 21 x 21   1,024      True      \n",
       "________________________________________________________________\n",
       "Conv2d               64 x 512 x 11 x 11   2,359,296  False     \n",
       "________________________________________________________________\n",
       "BatchNorm2d          64 x 512 x 11 x 11   1,024      True      \n",
       "________________________________________________________________\n",
       "Conv2d               64 x 2048 x 11 x 11  1,048,576  False     \n",
       "________________________________________________________________\n",
       "BatchNorm2d          64 x 2048 x 11 x 11  4,096      True      \n",
       "________________________________________________________________\n",
       "ReLU                 64 x 2048 x 11 x 11  0          False     \n",
       "________________________________________________________________\n",
       "Conv2d               64 x 2048 x 11 x 11  2,097,152  False     \n",
       "________________________________________________________________\n",
       "BatchNorm2d          64 x 2048 x 11 x 11  4,096      True      \n",
       "________________________________________________________________\n",
       "Conv2d               64 x 512 x 11 x 11   1,048,576  False     \n",
       "________________________________________________________________\n",
       "BatchNorm2d          64 x 512 x 11 x 11   1,024      True      \n",
       "________________________________________________________________\n",
       "Conv2d               64 x 512 x 11 x 11   2,359,296  False     \n",
       "________________________________________________________________\n",
       "BatchNorm2d          64 x 512 x 11 x 11   1,024      True      \n",
       "________________________________________________________________\n",
       "Conv2d               64 x 2048 x 11 x 11  1,048,576  False     \n",
       "________________________________________________________________\n",
       "BatchNorm2d          64 x 2048 x 11 x 11  4,096      True      \n",
       "________________________________________________________________\n",
       "ReLU                 64 x 2048 x 11 x 11  0          False     \n",
       "________________________________________________________________\n",
       "Conv2d               64 x 512 x 11 x 11   1,048,576  False     \n",
       "________________________________________________________________\n",
       "BatchNorm2d          64 x 512 x 11 x 11   1,024      True      \n",
       "________________________________________________________________\n",
       "Conv2d               64 x 512 x 11 x 11   2,359,296  False     \n",
       "________________________________________________________________\n",
       "BatchNorm2d          64 x 512 x 11 x 11   1,024      True      \n",
       "________________________________________________________________\n",
       "Conv2d               64 x 2048 x 11 x 11  1,048,576  False     \n",
       "________________________________________________________________\n",
       "BatchNorm2d          64 x 2048 x 11 x 11  4,096      True      \n",
       "________________________________________________________________\n",
       "ReLU                 64 x 2048 x 11 x 11  0          False     \n",
       "________________________________________________________________\n",
       "AdaptiveAvgPool2d    64 x 2048 x 1 x 1    0          False     \n",
       "________________________________________________________________\n",
       "AdaptiveMaxPool2d    64 x 2048 x 1 x 1    0          False     \n",
       "________________________________________________________________\n",
       "Flatten              64 x 4096            0          False     \n",
       "________________________________________________________________\n",
       "BatchNorm1d          64 x 4096            8,192      True      \n",
       "________________________________________________________________\n",
       "Dropout              64 x 4096            0          False     \n",
       "________________________________________________________________\n",
       "Linear               64 x 512             2,097,152  True      \n",
       "________________________________________________________________\n",
       "ReLU                 64 x 512             0          False     \n",
       "________________________________________________________________\n",
       "BatchNorm1d          64 x 512             1,024      True      \n",
       "________________________________________________________________\n",
       "Dropout              64 x 512             0          False     \n",
       "________________________________________________________________\n",
       "Linear               64 x 1000            512,000    True      \n",
       "________________________________________________________________\n",
       "\n",
       "Total params: 50,727,552\n",
       "Total trainable params: 3,817,728\n",
       "Total non-trainable params: 46,909,824\n",
       "\n",
       "Optimizer used: <function Adam at 0x7fe354e1b670>\n",
       "Loss function: <function loss_func at 0x7fe2dd2b94c0>\n",
       "\n",
       "Model frozen up to parameter group #5\n",
       "\n",
       "Callbacks:\n",
       "  - ModelToHalf\n",
       "  - TrainEvalCallback\n",
       "  - Recorder\n",
       "  - ProgressCallback\n",
       "  - MixedPrecision"
      ]
     },
     "execution_count": 48,
     "metadata": {},
     "output_type": "execute_result"
    }
   ],
   "source": [
    "learn.summary()"
   ]
  },
  {
   "cell_type": "code",
   "execution_count": 49,
   "metadata": {
    "scrolled": true
   },
   "outputs": [
    {
     "data": {
      "text/html": [
       "<table border=\"1\" class=\"dataframe\">\n",
       "  <thead>\n",
       "    <tr style=\"text-align: left;\">\n",
       "      <th>epoch</th>\n",
       "      <th>train_loss</th>\n",
       "      <th>valid_loss</th>\n",
       "      <th>custom_accuracy</th>\n",
       "      <th>time</th>\n",
       "    </tr>\n",
       "  </thead>\n",
       "  <tbody>\n",
       "    <tr>\n",
       "      <td>0</td>\n",
       "      <td>14.803225</td>\n",
       "      <td>13.753202</td>\n",
       "      <td>0.411495</td>\n",
       "      <td>27:20</td>\n",
       "    </tr>\n",
       "  </tbody>\n",
       "</table>"
      ],
      "text/plain": [
       "<IPython.core.display.HTML object>"
      ]
     },
     "metadata": {},
     "output_type": "display_data"
    },
    {
     "data": {
      "text/plain": [
       "Path('models/species1000-resnet50-branch2b-fepochs1-uepochs0.pth')"
      ]
     },
     "execution_count": 49,
     "metadata": {},
     "output_type": "execute_result"
    }
   ],
   "source": [
    "learn.fit(1, 3e-3)\n",
    "learn.save('species1000-resnet50-branch2b-fepochs1-uepochs0')"
   ]
  },
  {
   "cell_type": "code",
   "execution_count": 50,
   "metadata": {},
   "outputs": [],
   "source": [
    "learn.unfreeze()"
   ]
  },
  {
   "cell_type": "code",
   "execution_count": 51,
   "metadata": {},
   "outputs": [
    {
     "data": {
      "text/html": [],
      "text/plain": [
       "<IPython.core.display.HTML object>"
      ]
     },
     "metadata": {},
     "output_type": "display_data"
    },
    {
     "data": {
      "text/plain": [
       "SuggestedLRs(lr_min=3.0199516913853586e-06, lr_steep=6.309573450380412e-07)"
      ]
     },
     "execution_count": 51,
     "metadata": {},
     "output_type": "execute_result"
    },
    {
     "data": {
      "image/png": "[encoded data removed]",
      "text/plain": [
       "<Figure size 432x288 with 1 Axes>"
      ]
     },
     "metadata": {
      "needs_background": "light"
     },
     "output_type": "display_data"
    }
   ],
   "source": [
    "learn.lr_find()"
   ]
  },
  {
   "cell_type": "code",
   "execution_count": 52,
   "metadata": {},
   "outputs": [
    {
     "data": {
      "text/html": [
       "<table border=\"1\" class=\"dataframe\">\n",
       "  <thead>\n",
       "    <tr style=\"text-align: left;\">\n",
       "      <th>epoch</th>\n",
       "      <th>train_loss</th>\n",
       "      <th>valid_loss</th>\n",
       "      <th>custom_accuracy</th>\n",
       "      <th>time</th>\n",
       "    </tr>\n",
       "  </thead>\n",
       "  <tbody>\n",
       "    <tr>\n",
       "      <td>0</td>\n",
       "      <td>13.748572</td>\n",
       "      <td>12.870766</td>\n",
       "      <td>0.543429</td>\n",
       "      <td>29:45</td>\n",
       "    </tr>\n",
       "    <tr>\n",
       "      <td>1</td>\n",
       "      <td>13.359264</td>\n",
       "      <td>12.581162</td>\n",
       "      <td>0.581967</td>\n",
       "      <td>29:44</td>\n",
       "    </tr>\n",
       "    <tr>\n",
       "      <td>2</td>\n",
       "      <td>13.138956</td>\n",
       "      <td>12.408549</td>\n",
       "      <td>0.605275</td>\n",
       "      <td>29:45</td>\n",
       "    </tr>\n",
       "    <tr>\n",
       "      <td>3</td>\n",
       "      <td>13.076749</td>\n",
       "      <td>12.241292</td>\n",
       "      <td>0.629483</td>\n",
       "      <td>29:47</td>\n",
       "    </tr>\n",
       "    <tr>\n",
       "      <td>4</td>\n",
       "      <td>12.973269</td>\n",
       "      <td>12.142198</td>\n",
       "      <td>0.637027</td>\n",
       "      <td>29:46</td>\n",
       "    </tr>\n",
       "  </tbody>\n",
       "</table>"
      ],
      "text/plain": [
       "<IPython.core.display.HTML object>"
      ]
     },
     "metadata": {},
     "output_type": "display_data"
    },
    {
     "data": {
      "text/plain": [
       "Path('models/species1000-resnet50-branch2b-fepochs1-uepochs5.pth')"
      ]
     },
     "execution_count": 52,
     "metadata": {},
     "output_type": "execute_result"
    }
   ],
   "source": [
    "learn.fit(5, slice(1e-6,1e-4))\n",
    "learn.save('species1000-resnet50-branch2b-fepochs1-uepochs5')"
   ]
  },
  {
   "cell_type": "code",
   "execution_count": 24,
   "metadata": {
    "scrolled": true
   },
   "outputs": [],
   "source": [
    "def continue_training(pth_filename):\n",
    "    learn = Learner(dls, model, loss_func=loss_func, metrics=custom_accuracy,\n",
    "                   splitter=custom_splitter).to_fp16()\n",
    "    learn.load(pth_filename)\n",
    "    learn.unfreeze()\n",
    "    return learn"
   ]
  },
  {
   "cell_type": "code",
   "execution_count": 53,
   "metadata": {
    "scrolled": true
   },
   "outputs": [
    {
     "data": {
      "text/html": [
       "<table border=\"1\" class=\"dataframe\">\n",
       "  <thead>\n",
       "    <tr style=\"text-align: left;\">\n",
       "      <th>epoch</th>\n",
       "      <th>train_loss</th>\n",
       "      <th>valid_loss</th>\n",
       "      <th>custom_accuracy</th>\n",
       "      <th>time</th>\n",
       "    </tr>\n",
       "  </thead>\n",
       "  <tbody>\n",
       "    <tr>\n",
       "      <td>0</td>\n",
       "      <td>12.805227</td>\n",
       "      <td>12.064807</td>\n",
       "      <td>0.644820</td>\n",
       "      <td>29:49</td>\n",
       "    </tr>\n",
       "    <tr>\n",
       "      <td>1</td>\n",
       "      <td>12.575848</td>\n",
       "      <td>11.968875</td>\n",
       "      <td>0.661389</td>\n",
       "      <td>29:49</td>\n",
       "    </tr>\n",
       "    <tr>\n",
       "      <td>2</td>\n",
       "      <td>12.496338</td>\n",
       "      <td>11.886747</td>\n",
       "      <td>0.670614</td>\n",
       "      <td>29:47</td>\n",
       "    </tr>\n",
       "    <tr>\n",
       "      <td>3</td>\n",
       "      <td>12.438288</td>\n",
       "      <td>11.836949</td>\n",
       "      <td>0.677164</td>\n",
       "      <td>29:49</td>\n",
       "    </tr>\n",
       "    <tr>\n",
       "      <td>4</td>\n",
       "      <td>12.379150</td>\n",
       "      <td>11.793085</td>\n",
       "      <td>0.684684</td>\n",
       "      <td>29:49</td>\n",
       "    </tr>\n",
       "  </tbody>\n",
       "</table>"
      ],
      "text/plain": [
       "<IPython.core.display.HTML object>"
      ]
     },
     "metadata": {},
     "output_type": "display_data"
    },
    {
     "data": {
      "text/plain": [
       "Path('models/species1000-resnet50-branch2b-fepochs1-uepochs10.pth')"
      ]
     },
     "execution_count": 53,
     "metadata": {},
     "output_type": "execute_result"
    }
   ],
   "source": [
    "learn.fit(5, slice(1e-6,1e-4))\n",
    "learn.save('species1000-resnet50-branch2b-fepochs1-uepochs10')"
   ]
  },
  {
   "cell_type": "code",
   "execution_count": 25,
   "metadata": {
    "scrolled": true
   },
   "outputs": [],
   "source": [
    "learn = continue_training('species1000-resnet50-branch2b-fepochs1-uepochs10')"
   ]
  },
  {
   "cell_type": "code",
   "execution_count": 26,
   "metadata": {
    "scrolled": true
   },
   "outputs": [
    {
     "data": {
      "text/html": [
       "<table border=\"1\" class=\"dataframe\">\n",
       "  <thead>\n",
       "    <tr style=\"text-align: left;\">\n",
       "      <th>epoch</th>\n",
       "      <th>train_loss</th>\n",
       "      <th>valid_loss</th>\n",
       "      <th>custom_accuracy</th>\n",
       "      <th>time</th>\n",
       "    </tr>\n",
       "  </thead>\n",
       "  <tbody>\n",
       "    <tr>\n",
       "      <td>0</td>\n",
       "      <td>12.323430</td>\n",
       "      <td>11.741157</td>\n",
       "      <td>0.687467</td>\n",
       "      <td>30:25</td>\n",
       "    </tr>\n",
       "    <tr>\n",
       "      <td>1</td>\n",
       "      <td>12.287762</td>\n",
       "      <td>11.706707</td>\n",
       "      <td>0.691518</td>\n",
       "      <td>30:18</td>\n",
       "    </tr>\n",
       "    <tr>\n",
       "      <td>2</td>\n",
       "      <td>12.202312</td>\n",
       "      <td>11.665219</td>\n",
       "      <td>0.700744</td>\n",
       "      <td>30:17</td>\n",
       "    </tr>\n",
       "    <tr>\n",
       "      <td>3</td>\n",
       "      <td>12.034787</td>\n",
       "      <td>11.637124</td>\n",
       "      <td>0.706997</td>\n",
       "      <td>30:18</td>\n",
       "    </tr>\n",
       "    <tr>\n",
       "      <td>4</td>\n",
       "      <td>12.024626</td>\n",
       "      <td>11.598345</td>\n",
       "      <td>0.710455</td>\n",
       "      <td>30:17</td>\n",
       "    </tr>\n",
       "  </tbody>\n",
       "</table>"
      ],
      "text/plain": [
       "<IPython.core.display.HTML object>"
      ]
     },
     "metadata": {},
     "output_type": "display_data"
    },
    {
     "data": {
      "text/plain": [
       "Path('models/species1000-resnet50-branch2b-fepochs1-uepochs15.pth')"
      ]
     },
     "execution_count": 26,
     "metadata": {},
     "output_type": "execute_result"
    }
   ],
   "source": [
    "learn.fit(5, slice(1e-6,1e-4))\n",
    "learn.save('species1000-resnet50-branch2b-fepochs1-uepochs15')"
   ]
  },
  {
   "cell_type": "code",
   "execution_count": 27,
   "metadata": {
    "scrolled": true
   },
   "outputs": [],
   "source": [
    "learn.export('species1000-resnet50-branch2b-fepochs1-uepochs15')"
   ]
  },
  {
   "cell_type": "code",
   "execution_count": 26,
   "metadata": {},
   "outputs": [],
   "source": [
    "learn = continue_training('species1000-resnet50-branch2b-fepochs1-uepochs15')"
   ]
  },
  {
   "cell_type": "code",
   "execution_count": 27,
   "metadata": {},
   "outputs": [
    {
     "data": {
      "text/html": [
       "<table border=\"1\" class=\"dataframe\">\n",
       "  <thead>\n",
       "    <tr style=\"text-align: left;\">\n",
       "      <th>epoch</th>\n",
       "      <th>train_loss</th>\n",
       "      <th>valid_loss</th>\n",
       "      <th>custom_accuracy</th>\n",
       "      <th>time</th>\n",
       "    </tr>\n",
       "  </thead>\n",
       "  <tbody>\n",
       "    <tr>\n",
       "      <td>0</td>\n",
       "      <td>11.923400</td>\n",
       "      <td>11.572814</td>\n",
       "      <td>0.715062</td>\n",
       "      <td>30:28</td>\n",
       "    </tr>\n",
       "    <tr>\n",
       "      <td>1</td>\n",
       "      <td>11.920109</td>\n",
       "      <td>11.533073</td>\n",
       "      <td>0.716389</td>\n",
       "      <td>30:23</td>\n",
       "    </tr>\n",
       "    <tr>\n",
       "      <td>2</td>\n",
       "      <td>11.901176</td>\n",
       "      <td>11.503130</td>\n",
       "      <td>0.721162</td>\n",
       "      <td>30:27</td>\n",
       "    </tr>\n",
       "    <tr>\n",
       "      <td>3</td>\n",
       "      <td>11.910639</td>\n",
       "      <td>11.502769</td>\n",
       "      <td>0.720984</td>\n",
       "      <td>30:23</td>\n",
       "    </tr>\n",
       "    <tr>\n",
       "      <td>4</td>\n",
       "      <td>11.742609</td>\n",
       "      <td>11.476903</td>\n",
       "      <td>0.722014</td>\n",
       "      <td>30:25</td>\n",
       "    </tr>\n",
       "  </tbody>\n",
       "</table>"
      ],
      "text/plain": [
       "<IPython.core.display.HTML object>"
      ]
     },
     "metadata": {},
     "output_type": "display_data"
    },
    {
     "data": {
      "text/plain": [
       "Path('models/species1000-resnet50-branch2b-fepochs1-uepochs20.pth')"
      ]
     },
     "execution_count": 27,
     "metadata": {},
     "output_type": "execute_result"
    }
   ],
   "source": [
    "learn.fit(5, slice(1e-6,1e-4))\n",
    "learn.save('species1000-resnet50-branch2b-fepochs1-uepochs20')"
   ]
  }
 ],
 "metadata": {
  "kernelspec": {
   "display_name": "Python 3",
   "language": "python",
   "name": "python3"
  },
  "language_info": {
   "codemirror_mode": {
    "name": "ipython",
    "version": 3
   },
   "file_extension": ".py",
   "mimetype": "text/x-python",
   "name": "python",
   "nbconvert_exporter": "python",
   "pygments_lexer": "ipython3",
   "version": "3.8.5"
  }
 },
 "nbformat": 4,
 "nbformat_minor": 4
}
