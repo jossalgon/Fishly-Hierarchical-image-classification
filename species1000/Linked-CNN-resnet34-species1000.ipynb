{
 "cells": [
  {
   "cell_type": "code",
   "execution_count": 1,
   "metadata": {
    "scrolled": true
   },
   "outputs": [],
   "source": [
    "from fastai.vision.all import *"
   ]
  },
  {
   "cell_type": "code",
   "execution_count": 2,
   "metadata": {},
   "outputs": [],
   "source": [
    "import os; os.environ['CUDA_VISIBLE_DEVICES']='0,1'"
   ]
  },
  {
   "cell_type": "code",
   "execution_count": 3,
   "metadata": {
    "scrolled": true
   },
   "outputs": [],
   "source": [
    "path = Path('/home/user/images')"
   ]
  },
  {
   "cell_type": "code",
   "execution_count": 4,
   "metadata": {
    "scrolled": true
   },
   "outputs": [
    {
     "data": {
      "text/plain": [
       "(#1000) [Path('/home/user/images/Bathygobius krefftii'),Path('/home/user/images/Oncorhynchus gorbuscha'),Path('/home/user/images/Chromis margaritifer'),Path('/home/user/images/Istigobius hoesei'),Path('/home/user/images/Abudefduf sordidus'),Path('/home/user/images/Acanthurus leucopareius'),Path('/home/user/images/Sphoeroides spengleri'),Path('/home/user/images/Orthopristis chrysoptera'),Path('/home/user/images/Etheostoma zonale'),Path('/home/user/images/Morone mississippiensis')...]"
      ]
     },
     "execution_count": 4,
     "metadata": {},
     "output_type": "execute_result"
    }
   ],
   "source": [
    "path.ls()"
   ]
  },
  {
   "cell_type": "code",
   "execution_count": 5,
   "metadata": {
    "scrolled": true
   },
   "outputs": [],
   "source": [
    "df_path = Path('/home/user/')"
   ]
  },
  {
   "cell_type": "code",
   "execution_count": 6,
   "metadata": {
    "scrolled": true
   },
   "outputs": [],
   "source": [
    "df = pd.read_csv(df_path/'csv/species1000-stratified.csv')"
   ]
  },
  {
   "cell_type": "code",
   "execution_count": 7,
   "metadata": {},
   "outputs": [],
   "source": [
    "weights_df = pd.read_csv(df_path/'csv/species1000-weights.csv')\n",
    "weights_family_df = pd.read_csv(df_path/'csv/species1000-weights-family.csv')"
   ]
  },
  {
   "cell_type": "code",
   "execution_count": 8,
   "metadata": {
    "scrolled": true
   },
   "outputs": [
    {
     "data": {
      "text/html": [
       "<div>\n",
       "<style scoped>\n",
       "    .dataframe tbody tr th:only-of-type {\n",
       "        vertical-align: middle;\n",
       "    }\n",
       "\n",
       "    .dataframe tbody tr th {\n",
       "        vertical-align: top;\n",
       "    }\n",
       "\n",
       "    .dataframe thead th {\n",
       "        text-align: right;\n",
       "    }\n",
       "</style>\n",
       "<table border=\"1\" class=\"dataframe\">\n",
       "  <thead>\n",
       "    <tr style=\"text-align: right;\">\n",
       "      <th></th>\n",
       "      <th>Specie</th>\n",
       "      <th>Count</th>\n",
       "      <th>Weight</th>\n",
       "    </tr>\n",
       "  </thead>\n",
       "  <tbody>\n",
       "    <tr>\n",
       "      <th>0</th>\n",
       "      <td>Abramis brama</td>\n",
       "      <td>319</td>\n",
       "      <td>1.323439</td>\n",
       "    </tr>\n",
       "    <tr>\n",
       "      <th>1</th>\n",
       "      <td>Abudefduf abdominalis</td>\n",
       "      <td>221</td>\n",
       "      <td>1.910303</td>\n",
       "    </tr>\n",
       "    <tr>\n",
       "      <th>2</th>\n",
       "      <td>Abudefduf bengalensis</td>\n",
       "      <td>323</td>\n",
       "      <td>1.307050</td>\n",
       "    </tr>\n",
       "    <tr>\n",
       "      <th>3</th>\n",
       "      <td>Abudefduf saxatilis</td>\n",
       "      <td>1692</td>\n",
       "      <td>0.249514</td>\n",
       "    </tr>\n",
       "    <tr>\n",
       "      <th>4</th>\n",
       "      <td>Abudefduf septemfasciatus</td>\n",
       "      <td>149</td>\n",
       "      <td>2.833403</td>\n",
       "    </tr>\n",
       "    <tr>\n",
       "      <th>...</th>\n",
       "      <td>...</td>\n",
       "      <td>...</td>\n",
       "      <td>...</td>\n",
       "    </tr>\n",
       "    <tr>\n",
       "      <th>995</th>\n",
       "      <td>Zanclus cornutus</td>\n",
       "      <td>1966</td>\n",
       "      <td>0.214739</td>\n",
       "    </tr>\n",
       "    <tr>\n",
       "      <th>996</th>\n",
       "      <td>Zebrasoma desjardinii</td>\n",
       "      <td>166</td>\n",
       "      <td>2.543235</td>\n",
       "    </tr>\n",
       "    <tr>\n",
       "      <th>997</th>\n",
       "      <td>Zebrasoma flavescens</td>\n",
       "      <td>561</td>\n",
       "      <td>0.752544</td>\n",
       "    </tr>\n",
       "    <tr>\n",
       "      <th>998</th>\n",
       "      <td>Zebrasoma scopas</td>\n",
       "      <td>276</td>\n",
       "      <td>1.529627</td>\n",
       "    </tr>\n",
       "    <tr>\n",
       "      <th>999</th>\n",
       "      <td>Zebrasoma velifer</td>\n",
       "      <td>500</td>\n",
       "      <td>0.844354</td>\n",
       "    </tr>\n",
       "  </tbody>\n",
       "</table>\n",
       "<p>1000 rows × 3 columns</p>\n",
       "</div>"
      ],
      "text/plain": [
       "                        Specie  Count    Weight\n",
       "0                Abramis brama    319  1.323439\n",
       "1        Abudefduf abdominalis    221  1.910303\n",
       "2        Abudefduf bengalensis    323  1.307050\n",
       "3          Abudefduf saxatilis   1692  0.249514\n",
       "4    Abudefduf septemfasciatus    149  2.833403\n",
       "..                         ...    ...       ...\n",
       "995           Zanclus cornutus   1966  0.214739\n",
       "996      Zebrasoma desjardinii    166  2.543235\n",
       "997       Zebrasoma flavescens    561  0.752544\n",
       "998           Zebrasoma scopas    276  1.529627\n",
       "999          Zebrasoma velifer    500  0.844354\n",
       "\n",
       "[1000 rows x 3 columns]"
      ]
     },
     "execution_count": 8,
     "metadata": {},
     "output_type": "execute_result"
    }
   ],
   "source": [
    "weights_df"
   ]
  },
  {
   "cell_type": "markdown",
   "metadata": {},
   "source": [
    "# Linked-CNN"
   ]
  },
  {
   "cell_type": "code",
   "execution_count": 9,
   "metadata": {},
   "outputs": [],
   "source": [
    "n_classes_f = len(set(df['Specie']))\n",
    "n_classes_c = len(set(df['Family']))"
   ]
  },
  {
   "cell_type": "code",
   "execution_count": 10,
   "metadata": {
    "scrolled": true
   },
   "outputs": [
    {
     "name": "stderr",
     "output_type": "stream",
     "text": [
      "Downloading: \"https://download.pytorch.org/models/resnet34-333f7ec4.pth\" to /home/user/.cache/torch/hub/checkpoints/resnet34-333f7ec4.pth\n"
     ]
    },
    {
     "data": {
      "application/vnd.jupyter.widget-view+json": {
       "model_id": "744143518a5746aca356ad8fe2ee8f90",
       "version_major": 2,
       "version_minor": 0
      },
      "text/plain": [
       "HBox(children=(FloatProgress(value=0.0, max=87306240.0), HTML(value='')))"
      ]
     },
     "metadata": {},
     "output_type": "display_data"
    },
    {
     "name": "stdout",
     "output_type": "stream",
     "text": [
      "\n"
     ]
    },
    {
     "data": {
      "text/plain": [
       "Sequential(\n",
       "  (0): Conv2d(3, 64, kernel_size=(7, 7), stride=(2, 2), padding=(3, 3), bias=False)\n",
       "  (1): BatchNorm2d(64, eps=1e-05, momentum=0.1, affine=True, track_running_stats=True)\n",
       "  (2): ReLU(inplace=True)\n",
       "  (3): MaxPool2d(kernel_size=3, stride=2, padding=1, dilation=1, ceil_mode=False)\n",
       "  (4): Sequential(\n",
       "    (0): BasicBlock(\n",
       "      (conv1): Conv2d(64, 64, kernel_size=(3, 3), stride=(1, 1), padding=(1, 1), bias=False)\n",
       "      (bn1): BatchNorm2d(64, eps=1e-05, momentum=0.1, affine=True, track_running_stats=True)\n",
       "      (relu): ReLU(inplace=True)\n",
       "      (conv2): Conv2d(64, 64, kernel_size=(3, 3), stride=(1, 1), padding=(1, 1), bias=False)\n",
       "      (bn2): BatchNorm2d(64, eps=1e-05, momentum=0.1, affine=True, track_running_stats=True)\n",
       "    )\n",
       "    (1): BasicBlock(\n",
       "      (conv1): Conv2d(64, 64, kernel_size=(3, 3), stride=(1, 1), padding=(1, 1), bias=False)\n",
       "      (bn1): BatchNorm2d(64, eps=1e-05, momentum=0.1, affine=True, track_running_stats=True)\n",
       "      (relu): ReLU(inplace=True)\n",
       "      (conv2): Conv2d(64, 64, kernel_size=(3, 3), stride=(1, 1), padding=(1, 1), bias=False)\n",
       "      (bn2): BatchNorm2d(64, eps=1e-05, momentum=0.1, affine=True, track_running_stats=True)\n",
       "    )\n",
       "    (2): BasicBlock(\n",
       "      (conv1): Conv2d(64, 64, kernel_size=(3, 3), stride=(1, 1), padding=(1, 1), bias=False)\n",
       "      (bn1): BatchNorm2d(64, eps=1e-05, momentum=0.1, affine=True, track_running_stats=True)\n",
       "      (relu): ReLU(inplace=True)\n",
       "      (conv2): Conv2d(64, 64, kernel_size=(3, 3), stride=(1, 1), padding=(1, 1), bias=False)\n",
       "      (bn2): BatchNorm2d(64, eps=1e-05, momentum=0.1, affine=True, track_running_stats=True)\n",
       "    )\n",
       "  )\n",
       "  (5): Sequential(\n",
       "    (0): BasicBlock(\n",
       "      (conv1): Conv2d(64, 128, kernel_size=(3, 3), stride=(2, 2), padding=(1, 1), bias=False)\n",
       "      (bn1): BatchNorm2d(128, eps=1e-05, momentum=0.1, affine=True, track_running_stats=True)\n",
       "      (relu): ReLU(inplace=True)\n",
       "      (conv2): Conv2d(128, 128, kernel_size=(3, 3), stride=(1, 1), padding=(1, 1), bias=False)\n",
       "      (bn2): BatchNorm2d(128, eps=1e-05, momentum=0.1, affine=True, track_running_stats=True)\n",
       "      (downsample): Sequential(\n",
       "        (0): Conv2d(64, 128, kernel_size=(1, 1), stride=(2, 2), bias=False)\n",
       "        (1): BatchNorm2d(128, eps=1e-05, momentum=0.1, affine=True, track_running_stats=True)\n",
       "      )\n",
       "    )\n",
       "    (1): BasicBlock(\n",
       "      (conv1): Conv2d(128, 128, kernel_size=(3, 3), stride=(1, 1), padding=(1, 1), bias=False)\n",
       "      (bn1): BatchNorm2d(128, eps=1e-05, momentum=0.1, affine=True, track_running_stats=True)\n",
       "      (relu): ReLU(inplace=True)\n",
       "      (conv2): Conv2d(128, 128, kernel_size=(3, 3), stride=(1, 1), padding=(1, 1), bias=False)\n",
       "      (bn2): BatchNorm2d(128, eps=1e-05, momentum=0.1, affine=True, track_running_stats=True)\n",
       "    )\n",
       "    (2): BasicBlock(\n",
       "      (conv1): Conv2d(128, 128, kernel_size=(3, 3), stride=(1, 1), padding=(1, 1), bias=False)\n",
       "      (bn1): BatchNorm2d(128, eps=1e-05, momentum=0.1, affine=True, track_running_stats=True)\n",
       "      (relu): ReLU(inplace=True)\n",
       "      (conv2): Conv2d(128, 128, kernel_size=(3, 3), stride=(1, 1), padding=(1, 1), bias=False)\n",
       "      (bn2): BatchNorm2d(128, eps=1e-05, momentum=0.1, affine=True, track_running_stats=True)\n",
       "    )\n",
       "    (3): BasicBlock(\n",
       "      (conv1): Conv2d(128, 128, kernel_size=(3, 3), stride=(1, 1), padding=(1, 1), bias=False)\n",
       "      (bn1): BatchNorm2d(128, eps=1e-05, momentum=0.1, affine=True, track_running_stats=True)\n",
       "      (relu): ReLU(inplace=True)\n",
       "      (conv2): Conv2d(128, 128, kernel_size=(3, 3), stride=(1, 1), padding=(1, 1), bias=False)\n",
       "      (bn2): BatchNorm2d(128, eps=1e-05, momentum=0.1, affine=True, track_running_stats=True)\n",
       "    )\n",
       "  )\n",
       "  (6): Sequential(\n",
       "    (0): BasicBlock(\n",
       "      (conv1): Conv2d(128, 256, kernel_size=(3, 3), stride=(2, 2), padding=(1, 1), bias=False)\n",
       "      (bn1): BatchNorm2d(256, eps=1e-05, momentum=0.1, affine=True, track_running_stats=True)\n",
       "      (relu): ReLU(inplace=True)\n",
       "      (conv2): Conv2d(256, 256, kernel_size=(3, 3), stride=(1, 1), padding=(1, 1), bias=False)\n",
       "      (bn2): BatchNorm2d(256, eps=1e-05, momentum=0.1, affine=True, track_running_stats=True)\n",
       "      (downsample): Sequential(\n",
       "        (0): Conv2d(128, 256, kernel_size=(1, 1), stride=(2, 2), bias=False)\n",
       "        (1): BatchNorm2d(256, eps=1e-05, momentum=0.1, affine=True, track_running_stats=True)\n",
       "      )\n",
       "    )\n",
       "    (1): BasicBlock(\n",
       "      (conv1): Conv2d(256, 256, kernel_size=(3, 3), stride=(1, 1), padding=(1, 1), bias=False)\n",
       "      (bn1): BatchNorm2d(256, eps=1e-05, momentum=0.1, affine=True, track_running_stats=True)\n",
       "      (relu): ReLU(inplace=True)\n",
       "      (conv2): Conv2d(256, 256, kernel_size=(3, 3), stride=(1, 1), padding=(1, 1), bias=False)\n",
       "      (bn2): BatchNorm2d(256, eps=1e-05, momentum=0.1, affine=True, track_running_stats=True)\n",
       "    )\n",
       "    (2): BasicBlock(\n",
       "      (conv1): Conv2d(256, 256, kernel_size=(3, 3), stride=(1, 1), padding=(1, 1), bias=False)\n",
       "      (bn1): BatchNorm2d(256, eps=1e-05, momentum=0.1, affine=True, track_running_stats=True)\n",
       "      (relu): ReLU(inplace=True)\n",
       "      (conv2): Conv2d(256, 256, kernel_size=(3, 3), stride=(1, 1), padding=(1, 1), bias=False)\n",
       "      (bn2): BatchNorm2d(256, eps=1e-05, momentum=0.1, affine=True, track_running_stats=True)\n",
       "    )\n",
       "    (3): BasicBlock(\n",
       "      (conv1): Conv2d(256, 256, kernel_size=(3, 3), stride=(1, 1), padding=(1, 1), bias=False)\n",
       "      (bn1): BatchNorm2d(256, eps=1e-05, momentum=0.1, affine=True, track_running_stats=True)\n",
       "      (relu): ReLU(inplace=True)\n",
       "      (conv2): Conv2d(256, 256, kernel_size=(3, 3), stride=(1, 1), padding=(1, 1), bias=False)\n",
       "      (bn2): BatchNorm2d(256, eps=1e-05, momentum=0.1, affine=True, track_running_stats=True)\n",
       "    )\n",
       "    (4): BasicBlock(\n",
       "      (conv1): Conv2d(256, 256, kernel_size=(3, 3), stride=(1, 1), padding=(1, 1), bias=False)\n",
       "      (bn1): BatchNorm2d(256, eps=1e-05, momentum=0.1, affine=True, track_running_stats=True)\n",
       "      (relu): ReLU(inplace=True)\n",
       "      (conv2): Conv2d(256, 256, kernel_size=(3, 3), stride=(1, 1), padding=(1, 1), bias=False)\n",
       "      (bn2): BatchNorm2d(256, eps=1e-05, momentum=0.1, affine=True, track_running_stats=True)\n",
       "    )\n",
       "    (5): BasicBlock(\n",
       "      (conv1): Conv2d(256, 256, kernel_size=(3, 3), stride=(1, 1), padding=(1, 1), bias=False)\n",
       "      (bn1): BatchNorm2d(256, eps=1e-05, momentum=0.1, affine=True, track_running_stats=True)\n",
       "      (relu): ReLU(inplace=True)\n",
       "      (conv2): Conv2d(256, 256, kernel_size=(3, 3), stride=(1, 1), padding=(1, 1), bias=False)\n",
       "      (bn2): BatchNorm2d(256, eps=1e-05, momentum=0.1, affine=True, track_running_stats=True)\n",
       "    )\n",
       "  )\n",
       "  (7): Sequential(\n",
       "    (0): BasicBlock(\n",
       "      (conv1): Conv2d(256, 512, kernel_size=(3, 3), stride=(2, 2), padding=(1, 1), bias=False)\n",
       "      (bn1): BatchNorm2d(512, eps=1e-05, momentum=0.1, affine=True, track_running_stats=True)\n",
       "      (relu): ReLU(inplace=True)\n",
       "      (conv2): Conv2d(512, 512, kernel_size=(3, 3), stride=(1, 1), padding=(1, 1), bias=False)\n",
       "      (bn2): BatchNorm2d(512, eps=1e-05, momentum=0.1, affine=True, track_running_stats=True)\n",
       "      (downsample): Sequential(\n",
       "        (0): Conv2d(256, 512, kernel_size=(1, 1), stride=(2, 2), bias=False)\n",
       "        (1): BatchNorm2d(512, eps=1e-05, momentum=0.1, affine=True, track_running_stats=True)\n",
       "      )\n",
       "    )\n",
       "    (1): BasicBlock(\n",
       "      (conv1): Conv2d(512, 512, kernel_size=(3, 3), stride=(1, 1), padding=(1, 1), bias=False)\n",
       "      (bn1): BatchNorm2d(512, eps=1e-05, momentum=0.1, affine=True, track_running_stats=True)\n",
       "      (relu): ReLU(inplace=True)\n",
       "      (conv2): Conv2d(512, 512, kernel_size=(3, 3), stride=(1, 1), padding=(1, 1), bias=False)\n",
       "      (bn2): BatchNorm2d(512, eps=1e-05, momentum=0.1, affine=True, track_running_stats=True)\n",
       "    )\n",
       "    (2): BasicBlock(\n",
       "      (conv1): Conv2d(512, 512, kernel_size=(3, 3), stride=(1, 1), padding=(1, 1), bias=False)\n",
       "      (bn1): BatchNorm2d(512, eps=1e-05, momentum=0.1, affine=True, track_running_stats=True)\n",
       "      (relu): ReLU(inplace=True)\n",
       "      (conv2): Conv2d(512, 512, kernel_size=(3, 3), stride=(1, 1), padding=(1, 1), bias=False)\n",
       "      (bn2): BatchNorm2d(512, eps=1e-05, momentum=0.1, affine=True, track_running_stats=True)\n",
       "    )\n",
       "  )\n",
       ")"
      ]
     },
     "execution_count": 10,
     "metadata": {},
     "output_type": "execute_result"
    }
   ],
   "source": [
    "model = resnet34\n",
    "body1 = create_body(model, cut=-2)\n",
    "body2 = create_body(model, cut=-2)\n",
    "body1"
   ]
  },
  {
   "cell_type": "code",
   "execution_count": 11,
   "metadata": {
    "scrolled": true
   },
   "outputs": [
    {
     "data": {
      "text/plain": [
       "Sequential(\n",
       "  (0): AdaptiveConcatPool2d(\n",
       "    (ap): AdaptiveAvgPool2d(output_size=1)\n",
       "    (mp): AdaptiveMaxPool2d(output_size=1)\n",
       "  )\n",
       "  (1): Flatten(full=False)\n",
       "  (2): BatchNorm1d(1024, eps=1e-05, momentum=0.1, affine=True, track_running_stats=True)\n",
       "  (3): Dropout(p=0.25, inplace=False)\n",
       "  (4): Linear(in_features=1024, out_features=512, bias=False)\n",
       "  (5): ReLU(inplace=True)\n",
       "  (6): BatchNorm1d(512, eps=1e-05, momentum=0.1, affine=True, track_running_stats=True)\n",
       "  (7): Dropout(p=0.5, inplace=False)\n",
       "  (8): Linear(in_features=512, out_features=1000, bias=False)\n",
       ")"
      ]
     },
     "execution_count": 11,
     "metadata": {},
     "output_type": "execute_result"
    }
   ],
   "source": [
    "head_c = create_head(512*2,n_classes_c)\n",
    "head_f = create_head(512*2,n_classes_f)\n",
    "head_f"
   ]
  },
  {
   "cell_type": "code",
   "execution_count": 12,
   "metadata": {
    "scrolled": true
   },
   "outputs": [],
   "source": [
    "def custom_get_y(o):\n",
    "    fine_label = o['Specie']\n",
    "    coarse1_label = o['Family']\n",
    "    return [coarse1_label, fine_label]"
   ]
  },
  {
   "cell_type": "code",
   "execution_count": 16,
   "metadata": {
    "scrolled": true
   },
   "outputs": [],
   "source": [
    "class Resnet34CustomModel(Module):\n",
    "    def __init__(self, coarse_encoder, fine_encoder, coarse_head, fine_head):\n",
    "        self.coarse_stem = coarse_encoder[:4]\n",
    "        self.coarse_block1 = coarse_encoder[4]\n",
    "        self.coarse_block2 = coarse_encoder[5]\n",
    "        self.coarse_block3 = coarse_encoder[6]\n",
    "        self.coarse_block4 = coarse_encoder[7]\n",
    "        self.coarse_head = coarse_head\n",
    "        \n",
    "        self.fine_stem = fine_encoder[:4]\n",
    "        self.fine_block1 = fine_encoder[4]\n",
    "        self.fine_block2 = fine_encoder[5]\n",
    "        self.fine_block3 = fine_encoder[6]\n",
    "        self.fine_block4 = fine_encoder[7]\n",
    "        self.fine_head = fine_head\n",
    "        \n",
    "    \n",
    "    def forward(self, x):\n",
    "        x_c = self.coarse_stem(x)\n",
    "        x_f = self.fine_stem(x)\n",
    "        x_f = x_f + x_c\n",
    "        \n",
    "        x_c = self.coarse_block1(x_c)\n",
    "        x_f = self.fine_block1(x_f)\n",
    "        x_f = x_f + x_c\n",
    "        \n",
    "        x_c = self.coarse_block2(x_c)\n",
    "        x_f = self.fine_block2(x_f)\n",
    "        x_f = x_f + x_c\n",
    "\n",
    "        x_c = self.coarse_block3(x_c)\n",
    "        x_f = self.fine_block3(x_f)\n",
    "        x_f = x_f + x_c\n",
    "\n",
    "        x_c = self.coarse_block4(x_c)\n",
    "        x_f = self.fine_block4(x_f)\n",
    "        x_f = x_f + x_c\n",
    "        \n",
    "        coarse1_label = self.coarse_head(x_c)\n",
    "        fine_label = self.fine_head(x_f)\n",
    "        \n",
    "        return {\n",
    "                'fine_label': fine_label,\n",
    "                'coarse1_label': coarse1_label\n",
    "               }"
   ]
  },
  {
   "cell_type": "code",
   "execution_count": 17,
   "metadata": {
    "scrolled": true
   },
   "outputs": [],
   "source": [
    "model = Resnet34CustomModel(body1, body2, head_c, head_f)"
   ]
  },
  {
   "cell_type": "code",
   "execution_count": 18,
   "metadata": {
    "scrolled": true
   },
   "outputs": [],
   "source": [
    "class CustomCategorize(DisplayedTransform):\n",
    "    \"Reversible transform of category string to `vocab` id\"\n",
    "    loss_func,order=CrossEntropyLossFlat(),1\n",
    "    def __init__(self, vocab=None, vocab_coarse1=None, vocab_coarse2=None, sort=True, add_na=False, num_y=1):\n",
    "        store_attr()\n",
    "        self.vocab = None if vocab is None else CategoryMap(vocab, sort=sort, add_na=add_na)\n",
    "        self.vocab_coarse1 = None if vocab_coarse1 is None else CategoryMap(vocab_coarse1, sort=sort, add_na=add_na)\n",
    "\n",
    "    def setups(self, dsets):\n",
    "        fine_dsets = [d[1] for d in dsets]\n",
    "        coarse1_dsets = [d[0] for d in dsets]\n",
    "        if self.vocab is None and dsets is not None: self.vocab = CategoryMap(fine_dsets, sort=self.sort, add_na=self.add_na)\n",
    "        if self.vocab_coarse1 is None and dsets is not None: self.vocab_coarse1 = CategoryMap(coarse1_dsets, sort=self.sort, add_na=self.add_na)\n",
    "        self.c = len(self.vocab)\n",
    "\n",
    "    def encodes(self, o): return {'fine_label': TensorCategory(self.vocab.o2i[o[1]]),\n",
    "                                  'coarse1_label': TensorCategory(self.vocab_coarse1.o2i[o[0]])\n",
    "                                 }\n",
    "    def decodes(self, o): return Category      (self.vocab    [o])"
   ]
  },
  {
   "cell_type": "code",
   "execution_count": 19,
   "metadata": {
    "scrolled": true
   },
   "outputs": [],
   "source": [
    "def CustomCategoryBlock(vocab=None, sort=True, add_na=False, num_y=1):\n",
    "    \"`TransformBlock` for single-label categorical targets\"\n",
    "    return TransformBlock(type_tfms=CustomCategorize(vocab=vocab, sort=sort, add_na=add_na))"
   ]
  },
  {
   "cell_type": "code",
   "execution_count": 20,
   "metadata": {
    "scrolled": true
   },
   "outputs": [],
   "source": [
    "def custom_splitter(model):\n",
    "    return [params(model.coarse_stem),\n",
    "            params(model.coarse_block1),\n",
    "            params(model.coarse_block2),\n",
    "            params(model.coarse_block3),\n",
    "            params(model.coarse_block4),\n",
    "            params(model.fine_stem),\n",
    "            params(model.fine_block1),\n",
    "            params(model.fine_block2),\n",
    "            params(model.fine_block3),\n",
    "            params(model.fine_block4),\n",
    "            params(model.coarse_head),\n",
    "            params(model.fine_head)]"
   ]
  },
  {
   "cell_type": "code",
   "execution_count": 21,
   "metadata": {
    "scrolled": true
   },
   "outputs": [],
   "source": [
    "fishes = DataBlock(blocks = (ImageBlock, CustomCategoryBlock),\n",
    "                 splitter=ColSplitter(),\n",
    "                 get_x = ColReader(5, pref=path),\n",
    "                 get_y=custom_get_y,\n",
    "                 item_tfms=RandomResizedCrop(336, min_scale=0.5),\n",
    "                 batch_tfms=aug_transforms())\n",
    "dls = fishes.dataloaders(df, bs=40)"
   ]
  },
  {
   "cell_type": "code",
   "execution_count": 22,
   "metadata": {
    "scrolled": true
   },
   "outputs": [
    {
     "data": {
      "text/plain": [
       "((#337741) [(PILImage mode=RGB size=768x1024, {'fine_label': TensorCategory(531), 'coarse1_label': TensorCategory(25)}),(PILImage mode=RGB size=1024x738, {'fine_label': TensorCategory(776), 'coarse1_label': TensorCategory(25)}),(PILImage mode=RGB size=768x1024, {'fine_label': TensorCategory(538), 'coarse1_label': TensorCategory(25)}),(PILImage mode=RGB size=768x1024, {'fine_label': TensorCategory(837), 'coarse1_label': TensorCategory(41)}),(PILImage mode=RGB size=1024x786, {'fine_label': TensorCategory(32), 'coarse1_label': TensorCategory(0)}),(PILImage mode=RGB size=1024x683, {'fine_label': TensorCategory(145), 'coarse1_label': TensorCategory(109)}),(PILImage mode=RGB size=768x1024, {'fine_label': TensorCategory(827), 'coarse1_label': TensorCategory(108)}),(PILImage mode=RGB size=1024x697, {'fine_label': TensorCategory(792), 'coarse1_label': TensorCategory(100)}),(PILImage mode=RGB size=1024x768, {'fine_label': TensorCategory(784), 'coarse1_label': TensorCategory(9)}),(PILImage mode=RGB size=1024x768, {'fine_label': TensorCategory(522), 'coarse1_label': TensorCategory(121)})...],\n",
       " (#84436) [(PILImage mode=RGB size=576x1024, {'fine_label': TensorCategory(826), 'coarse1_label': TensorCategory(108)}),(PILImage mode=RGB size=512x320, {'fine_label': TensorCategory(296), 'coarse1_label': TensorCategory(0)}),(PILImage mode=RGB size=1024x768, {'fine_label': TensorCategory(283), 'coarse1_label': TensorCategory(71)}),(PILImage mode=RGB size=1024x683, {'fine_label': TensorCategory(223), 'coarse1_label': TensorCategory(71)}),(PILImage mode=RGB size=1024x683, {'fine_label': TensorCategory(333), 'coarse1_label': TensorCategory(121)}),(PILImage mode=RGB size=1024x768, {'fine_label': TensorCategory(272), 'coarse1_label': TensorCategory(41)}),(PILImage mode=RGB size=1024x576, {'fine_label': TensorCategory(163), 'coarse1_label': TensorCategory(23)}),(PILImage mode=RGB size=1024x768, {'fine_label': TensorCategory(827), 'coarse1_label': TensorCategory(108)}),(PILImage mode=RGB size=1024x768, {'fine_label': TensorCategory(868), 'coarse1_label': TensorCategory(113)}),(PILImage mode=RGB size=768x1024, {'fine_label': TensorCategory(816), 'coarse1_label': TensorCategory(41)})...])"
      ]
     },
     "execution_count": 22,
     "metadata": {},
     "output_type": "execute_result"
    }
   ],
   "source": [
    "dls.train_ds, dls.valid_ds"
   ]
  },
  {
   "cell_type": "code",
   "execution_count": 23,
   "metadata": {},
   "outputs": [],
   "source": [
    "weights = tensor([float(weights_df[weights_df['Specie']==c]['Weight']) for c in dls.vocab]).cuda()\n",
    "weights_family = tensor([float(weights_family_df[weights_family_df['Family']==c]['Weight']) for c in dls.vocab_coarse1]).cuda()"
   ]
  },
  {
   "cell_type": "code",
   "execution_count": 24,
   "metadata": {
    "scrolled": true
   },
   "outputs": [],
   "source": [
    "def loss_func(out, targ):\n",
    "    return nn.CrossEntropyLoss(weight=weights)(out['fine_label'], targ['fine_label']) + \\\n",
    "            nn.CrossEntropyLoss(weight=weights_family)(out['coarse1_label'], targ['coarse1_label'])"
   ]
  },
  {
   "cell_type": "code",
   "execution_count": 25,
   "metadata": {},
   "outputs": [],
   "source": [
    "def custom_accuracy(inp, targ, axis=-1):\n",
    "    pred1,targ1 = flatten_check(inp['fine_label'].argmax(dim=axis), targ['fine_label'])\n",
    "    acc1 = (pred1 == targ1).float().mean()\n",
    "    return acc1"
   ]
  },
  {
   "cell_type": "code",
   "execution_count": 26,
   "metadata": {
    "scrolled": true
   },
   "outputs": [],
   "source": [
    "learn = Learner(dls, model, loss_func=loss_func, metrics=custom_accuracy,\n",
    "                   splitter=custom_splitter).to_fp16()\n",
    "learn.freeze()"
   ]
  },
  {
   "cell_type": "code",
   "execution_count": 27,
   "metadata": {
    "scrolled": true
   },
   "outputs": [
    {
     "data": {
      "text/html": [
       "<table border=\"1\" class=\"dataframe\">\n",
       "  <thead>\n",
       "    <tr style=\"text-align: left;\">\n",
       "      <th>epoch</th>\n",
       "      <th>train_loss</th>\n",
       "      <th>valid_loss</th>\n",
       "      <th>custom_accuracy</th>\n",
       "      <th>time</th>\n",
       "    </tr>\n",
       "  </thead>\n",
       "  <tbody>\n",
       "    <tr>\n",
       "      <td>0</td>\n",
       "      <td>None</td>\n",
       "      <td>None</td>\n",
       "      <td>00:00</td>\n",
       "    </tr>\n",
       "  </tbody>\n",
       "</table>"
      ],
      "text/plain": [
       "<IPython.core.display.HTML object>"
      ]
     },
     "metadata": {},
     "output_type": "display_data"
    },
    {
     "data": {
      "text/plain": [
       "Resnet34CustomModel (Input shape: ['40 x 3 x 336 x 336'])\n",
       "================================================================\n",
       "Layer (type)         Output Shape         Param #    Trainable \n",
       "================================================================\n",
       "Conv2d               40 x 64 x 168 x 168  9,408      False     \n",
       "________________________________________________________________\n",
       "BatchNorm2d          40 x 64 x 168 x 168  128        True      \n",
       "________________________________________________________________\n",
       "ReLU                 40 x 64 x 168 x 168  0          False     \n",
       "________________________________________________________________\n",
       "MaxPool2d            40 x 64 x 84 x 84    0          False     \n",
       "________________________________________________________________\n",
       "Conv2d               40 x 64 x 84 x 84    36,864     False     \n",
       "________________________________________________________________\n",
       "BatchNorm2d          40 x 64 x 84 x 84    128        True      \n",
       "________________________________________________________________\n",
       "ReLU                 40 x 64 x 84 x 84    0          False     \n",
       "________________________________________________________________\n",
       "Conv2d               40 x 64 x 84 x 84    36,864     False     \n",
       "________________________________________________________________\n",
       "BatchNorm2d          40 x 64 x 84 x 84    128        True      \n",
       "________________________________________________________________\n",
       "Conv2d               40 x 64 x 84 x 84    36,864     False     \n",
       "________________________________________________________________\n",
       "BatchNorm2d          40 x 64 x 84 x 84    128        True      \n",
       "________________________________________________________________\n",
       "ReLU                 40 x 64 x 84 x 84    0          False     \n",
       "________________________________________________________________\n",
       "Conv2d               40 x 64 x 84 x 84    36,864     False     \n",
       "________________________________________________________________\n",
       "BatchNorm2d          40 x 64 x 84 x 84    128        True      \n",
       "________________________________________________________________\n",
       "Conv2d               40 x 64 x 84 x 84    36,864     False     \n",
       "________________________________________________________________\n",
       "BatchNorm2d          40 x 64 x 84 x 84    128        True      \n",
       "________________________________________________________________\n",
       "ReLU                 40 x 64 x 84 x 84    0          False     \n",
       "________________________________________________________________\n",
       "Conv2d               40 x 64 x 84 x 84    36,864     False     \n",
       "________________________________________________________________\n",
       "BatchNorm2d          40 x 64 x 84 x 84    128        True      \n",
       "________________________________________________________________\n",
       "Conv2d               40 x 128 x 42 x 42   73,728     False     \n",
       "________________________________________________________________\n",
       "BatchNorm2d          40 x 128 x 42 x 42   256        True      \n",
       "________________________________________________________________\n",
       "ReLU                 40 x 128 x 42 x 42   0          False     \n",
       "________________________________________________________________\n",
       "Conv2d               40 x 128 x 42 x 42   147,456    False     \n",
       "________________________________________________________________\n",
       "BatchNorm2d          40 x 128 x 42 x 42   256        True      \n",
       "________________________________________________________________\n",
       "Conv2d               40 x 128 x 42 x 42   8,192      False     \n",
       "________________________________________________________________\n",
       "BatchNorm2d          40 x 128 x 42 x 42   256        True      \n",
       "________________________________________________________________\n",
       "Conv2d               40 x 128 x 42 x 42   147,456    False     \n",
       "________________________________________________________________\n",
       "BatchNorm2d          40 x 128 x 42 x 42   256        True      \n",
       "________________________________________________________________\n",
       "ReLU                 40 x 128 x 42 x 42   0          False     \n",
       "________________________________________________________________\n",
       "Conv2d               40 x 128 x 42 x 42   147,456    False     \n",
       "________________________________________________________________\n",
       "BatchNorm2d          40 x 128 x 42 x 42   256        True      \n",
       "________________________________________________________________\n",
       "Conv2d               40 x 128 x 42 x 42   147,456    False     \n",
       "________________________________________________________________\n",
       "BatchNorm2d          40 x 128 x 42 x 42   256        True      \n",
       "________________________________________________________________\n",
       "ReLU                 40 x 128 x 42 x 42   0          False     \n",
       "________________________________________________________________\n",
       "Conv2d               40 x 128 x 42 x 42   147,456    False     \n",
       "________________________________________________________________\n",
       "BatchNorm2d          40 x 128 x 42 x 42   256        True      \n",
       "________________________________________________________________\n",
       "Conv2d               40 x 128 x 42 x 42   147,456    False     \n",
       "________________________________________________________________\n",
       "BatchNorm2d          40 x 128 x 42 x 42   256        True      \n",
       "________________________________________________________________\n",
       "ReLU                 40 x 128 x 42 x 42   0          False     \n",
       "________________________________________________________________\n",
       "Conv2d               40 x 128 x 42 x 42   147,456    False     \n",
       "________________________________________________________________\n",
       "BatchNorm2d          40 x 128 x 42 x 42   256        True      \n",
       "________________________________________________________________\n",
       "Conv2d               40 x 256 x 21 x 21   294,912    False     \n",
       "________________________________________________________________\n",
       "BatchNorm2d          40 x 256 x 21 x 21   512        True      \n",
       "________________________________________________________________\n",
       "ReLU                 40 x 256 x 21 x 21   0          False     \n",
       "________________________________________________________________\n",
       "Conv2d               40 x 256 x 21 x 21   589,824    False     \n",
       "________________________________________________________________\n",
       "BatchNorm2d          40 x 256 x 21 x 21   512        True      \n",
       "________________________________________________________________\n",
       "Conv2d               40 x 256 x 21 x 21   32,768     False     \n",
       "________________________________________________________________\n",
       "BatchNorm2d          40 x 256 x 21 x 21   512        True      \n",
       "________________________________________________________________\n",
       "Conv2d               40 x 256 x 21 x 21   589,824    False     \n",
       "________________________________________________________________\n",
       "BatchNorm2d          40 x 256 x 21 x 21   512        True      \n",
       "________________________________________________________________\n",
       "ReLU                 40 x 256 x 21 x 21   0          False     \n",
       "________________________________________________________________\n",
       "Conv2d               40 x 256 x 21 x 21   589,824    False     \n",
       "________________________________________________________________\n",
       "BatchNorm2d          40 x 256 x 21 x 21   512        True      \n",
       "________________________________________________________________\n",
       "Conv2d               40 x 256 x 21 x 21   589,824    False     \n",
       "________________________________________________________________\n",
       "BatchNorm2d          40 x 256 x 21 x 21   512        True      \n",
       "________________________________________________________________\n",
       "ReLU                 40 x 256 x 21 x 21   0          False     \n",
       "________________________________________________________________\n",
       "Conv2d               40 x 256 x 21 x 21   589,824    False     \n",
       "________________________________________________________________\n",
       "BatchNorm2d          40 x 256 x 21 x 21   512        True      \n",
       "________________________________________________________________\n",
       "Conv2d               40 x 256 x 21 x 21   589,824    False     \n",
       "________________________________________________________________\n",
       "BatchNorm2d          40 x 256 x 21 x 21   512        True      \n",
       "________________________________________________________________\n",
       "ReLU                 40 x 256 x 21 x 21   0          False     \n",
       "________________________________________________________________\n",
       "Conv2d               40 x 256 x 21 x 21   589,824    False     \n",
       "________________________________________________________________\n",
       "BatchNorm2d          40 x 256 x 21 x 21   512        True      \n",
       "________________________________________________________________\n",
       "Conv2d               40 x 256 x 21 x 21   589,824    False     \n",
       "________________________________________________________________\n",
       "BatchNorm2d          40 x 256 x 21 x 21   512        True      \n",
       "________________________________________________________________\n",
       "ReLU                 40 x 256 x 21 x 21   0          False     \n",
       "________________________________________________________________\n",
       "Conv2d               40 x 256 x 21 x 21   589,824    False     \n",
       "________________________________________________________________\n",
       "BatchNorm2d          40 x 256 x 21 x 21   512        True      \n",
       "________________________________________________________________\n",
       "Conv2d               40 x 256 x 21 x 21   589,824    False     \n",
       "________________________________________________________________\n",
       "BatchNorm2d          40 x 256 x 21 x 21   512        True      \n",
       "________________________________________________________________\n",
       "ReLU                 40 x 256 x 21 x 21   0          False     \n",
       "________________________________________________________________\n",
       "Conv2d               40 x 256 x 21 x 21   589,824    False     \n",
       "________________________________________________________________\n",
       "BatchNorm2d          40 x 256 x 21 x 21   512        True      \n",
       "________________________________________________________________\n",
       "Conv2d               40 x 512 x 11 x 11   1,179,648  False     \n",
       "________________________________________________________________\n",
       "BatchNorm2d          40 x 512 x 11 x 11   1,024      True      \n",
       "________________________________________________________________\n",
       "ReLU                 40 x 512 x 11 x 11   0          False     \n",
       "________________________________________________________________\n",
       "Conv2d               40 x 512 x 11 x 11   2,359,296  False     \n",
       "________________________________________________________________\n",
       "BatchNorm2d          40 x 512 x 11 x 11   1,024      True      \n",
       "________________________________________________________________\n",
       "Conv2d               40 x 512 x 11 x 11   131,072    False     \n",
       "________________________________________________________________\n",
       "BatchNorm2d          40 x 512 x 11 x 11   1,024      True      \n",
       "________________________________________________________________\n",
       "Conv2d               40 x 512 x 11 x 11   2,359,296  False     \n",
       "________________________________________________________________\n",
       "BatchNorm2d          40 x 512 x 11 x 11   1,024      True      \n",
       "________________________________________________________________\n",
       "ReLU                 40 x 512 x 11 x 11   0          False     \n",
       "________________________________________________________________\n",
       "Conv2d               40 x 512 x 11 x 11   2,359,296  False     \n",
       "________________________________________________________________\n",
       "BatchNorm2d          40 x 512 x 11 x 11   1,024      True      \n",
       "________________________________________________________________\n",
       "Conv2d               40 x 512 x 11 x 11   2,359,296  False     \n",
       "________________________________________________________________\n",
       "BatchNorm2d          40 x 512 x 11 x 11   1,024      True      \n",
       "________________________________________________________________\n",
       "ReLU                 40 x 512 x 11 x 11   0          False     \n",
       "________________________________________________________________\n",
       "Conv2d               40 x 512 x 11 x 11   2,359,296  False     \n",
       "________________________________________________________________\n",
       "BatchNorm2d          40 x 512 x 11 x 11   1,024      True      \n",
       "________________________________________________________________\n",
       "AdaptiveAvgPool2d    40 x 512 x 1 x 1     0          False     \n",
       "________________________________________________________________\n",
       "AdaptiveMaxPool2d    40 x 512 x 1 x 1     0          False     \n",
       "________________________________________________________________\n",
       "Flatten              40 x 1024            0          False     \n",
       "________________________________________________________________\n",
       "BatchNorm1d          40 x 1024            2,048      True      \n",
       "________________________________________________________________\n",
       "Dropout              40 x 1024            0          False     \n",
       "________________________________________________________________\n",
       "Linear               40 x 512             524,288    False     \n",
       "________________________________________________________________\n",
       "ReLU                 40 x 512             0          False     \n",
       "________________________________________________________________\n",
       "BatchNorm1d          40 x 512             1,024      True      \n",
       "________________________________________________________________\n",
       "Dropout              40 x 512             0          False     \n",
       "________________________________________________________________\n",
       "Linear               40 x 135             69,120     False     \n",
       "________________________________________________________________\n",
       "Conv2d               40 x 64 x 168 x 168  9,408      False     \n",
       "________________________________________________________________\n",
       "BatchNorm2d          40 x 64 x 168 x 168  128        True      \n",
       "________________________________________________________________\n",
       "ReLU                 40 x 64 x 168 x 168  0          False     \n",
       "________________________________________________________________\n",
       "MaxPool2d            40 x 64 x 84 x 84    0          False     \n",
       "________________________________________________________________\n",
       "Conv2d               40 x 64 x 84 x 84    36,864     False     \n",
       "________________________________________________________________\n",
       "BatchNorm2d          40 x 64 x 84 x 84    128        True      \n",
       "________________________________________________________________\n",
       "ReLU                 40 x 64 x 84 x 84    0          False     \n",
       "________________________________________________________________\n",
       "Conv2d               40 x 64 x 84 x 84    36,864     False     \n",
       "________________________________________________________________\n",
       "BatchNorm2d          40 x 64 x 84 x 84    128        True      \n",
       "________________________________________________________________\n",
       "Conv2d               40 x 64 x 84 x 84    36,864     False     \n",
       "________________________________________________________________\n",
       "BatchNorm2d          40 x 64 x 84 x 84    128        True      \n",
       "________________________________________________________________\n",
       "ReLU                 40 x 64 x 84 x 84    0          False     \n",
       "________________________________________________________________\n",
       "Conv2d               40 x 64 x 84 x 84    36,864     False     \n",
       "________________________________________________________________\n",
       "BatchNorm2d          40 x 64 x 84 x 84    128        True      \n",
       "________________________________________________________________\n",
       "Conv2d               40 x 64 x 84 x 84    36,864     False     \n",
       "________________________________________________________________\n",
       "BatchNorm2d          40 x 64 x 84 x 84    128        True      \n",
       "________________________________________________________________\n",
       "ReLU                 40 x 64 x 84 x 84    0          False     \n",
       "________________________________________________________________\n",
       "Conv2d               40 x 64 x 84 x 84    36,864     False     \n",
       "________________________________________________________________\n",
       "BatchNorm2d          40 x 64 x 84 x 84    128        True      \n",
       "________________________________________________________________\n",
       "Conv2d               40 x 128 x 42 x 42   73,728     False     \n",
       "________________________________________________________________\n",
       "BatchNorm2d          40 x 128 x 42 x 42   256        True      \n",
       "________________________________________________________________\n",
       "ReLU                 40 x 128 x 42 x 42   0          False     \n",
       "________________________________________________________________\n",
       "Conv2d               40 x 128 x 42 x 42   147,456    False     \n",
       "________________________________________________________________\n",
       "BatchNorm2d          40 x 128 x 42 x 42   256        True      \n",
       "________________________________________________________________\n",
       "Conv2d               40 x 128 x 42 x 42   8,192      False     \n",
       "________________________________________________________________\n",
       "BatchNorm2d          40 x 128 x 42 x 42   256        True      \n",
       "________________________________________________________________\n",
       "Conv2d               40 x 128 x 42 x 42   147,456    False     \n",
       "________________________________________________________________\n",
       "BatchNorm2d          40 x 128 x 42 x 42   256        True      \n",
       "________________________________________________________________\n",
       "ReLU                 40 x 128 x 42 x 42   0          False     \n",
       "________________________________________________________________\n",
       "Conv2d               40 x 128 x 42 x 42   147,456    False     \n",
       "________________________________________________________________\n",
       "BatchNorm2d          40 x 128 x 42 x 42   256        True      \n",
       "________________________________________________________________\n",
       "Conv2d               40 x 128 x 42 x 42   147,456    False     \n",
       "________________________________________________________________\n",
       "BatchNorm2d          40 x 128 x 42 x 42   256        True      \n",
       "________________________________________________________________\n",
       "ReLU                 40 x 128 x 42 x 42   0          False     \n",
       "________________________________________________________________\n",
       "Conv2d               40 x 128 x 42 x 42   147,456    False     \n",
       "________________________________________________________________\n",
       "BatchNorm2d          40 x 128 x 42 x 42   256        True      \n",
       "________________________________________________________________\n",
       "Conv2d               40 x 128 x 42 x 42   147,456    False     \n",
       "________________________________________________________________\n",
       "BatchNorm2d          40 x 128 x 42 x 42   256        True      \n",
       "________________________________________________________________\n",
       "ReLU                 40 x 128 x 42 x 42   0          False     \n",
       "________________________________________________________________\n",
       "Conv2d               40 x 128 x 42 x 42   147,456    False     \n",
       "________________________________________________________________\n",
       "BatchNorm2d          40 x 128 x 42 x 42   256        True      \n",
       "________________________________________________________________\n",
       "Conv2d               40 x 256 x 21 x 21   294,912    False     \n",
       "________________________________________________________________\n",
       "BatchNorm2d          40 x 256 x 21 x 21   512        True      \n",
       "________________________________________________________________\n",
       "ReLU                 40 x 256 x 21 x 21   0          False     \n",
       "________________________________________________________________\n",
       "Conv2d               40 x 256 x 21 x 21   589,824    False     \n",
       "________________________________________________________________\n",
       "BatchNorm2d          40 x 256 x 21 x 21   512        True      \n",
       "________________________________________________________________\n",
       "Conv2d               40 x 256 x 21 x 21   32,768     False     \n",
       "________________________________________________________________\n",
       "BatchNorm2d          40 x 256 x 21 x 21   512        True      \n",
       "________________________________________________________________\n",
       "Conv2d               40 x 256 x 21 x 21   589,824    False     \n",
       "________________________________________________________________\n",
       "BatchNorm2d          40 x 256 x 21 x 21   512        True      \n",
       "________________________________________________________________\n",
       "ReLU                 40 x 256 x 21 x 21   0          False     \n",
       "________________________________________________________________\n",
       "Conv2d               40 x 256 x 21 x 21   589,824    False     \n",
       "________________________________________________________________\n",
       "BatchNorm2d          40 x 256 x 21 x 21   512        True      \n",
       "________________________________________________________________\n",
       "Conv2d               40 x 256 x 21 x 21   589,824    False     \n",
       "________________________________________________________________\n",
       "BatchNorm2d          40 x 256 x 21 x 21   512        True      \n",
       "________________________________________________________________\n",
       "ReLU                 40 x 256 x 21 x 21   0          False     \n",
       "________________________________________________________________\n",
       "Conv2d               40 x 256 x 21 x 21   589,824    False     \n",
       "________________________________________________________________\n",
       "BatchNorm2d          40 x 256 x 21 x 21   512        True      \n",
       "________________________________________________________________\n",
       "Conv2d               40 x 256 x 21 x 21   589,824    False     \n",
       "________________________________________________________________\n",
       "BatchNorm2d          40 x 256 x 21 x 21   512        True      \n",
       "________________________________________________________________\n",
       "ReLU                 40 x 256 x 21 x 21   0          False     \n",
       "________________________________________________________________\n",
       "Conv2d               40 x 256 x 21 x 21   589,824    False     \n",
       "________________________________________________________________\n",
       "BatchNorm2d          40 x 256 x 21 x 21   512        True      \n",
       "________________________________________________________________\n",
       "Conv2d               40 x 256 x 21 x 21   589,824    False     \n",
       "________________________________________________________________\n",
       "BatchNorm2d          40 x 256 x 21 x 21   512        True      \n",
       "________________________________________________________________\n",
       "ReLU                 40 x 256 x 21 x 21   0          False     \n",
       "________________________________________________________________\n",
       "Conv2d               40 x 256 x 21 x 21   589,824    False     \n",
       "________________________________________________________________\n",
       "BatchNorm2d          40 x 256 x 21 x 21   512        True      \n",
       "________________________________________________________________\n",
       "Conv2d               40 x 256 x 21 x 21   589,824    False     \n",
       "________________________________________________________________\n",
       "BatchNorm2d          40 x 256 x 21 x 21   512        True      \n",
       "________________________________________________________________\n",
       "ReLU                 40 x 256 x 21 x 21   0          False     \n",
       "________________________________________________________________\n",
       "Conv2d               40 x 256 x 21 x 21   589,824    False     \n",
       "________________________________________________________________\n",
       "BatchNorm2d          40 x 256 x 21 x 21   512        True      \n",
       "________________________________________________________________\n",
       "Conv2d               40 x 512 x 11 x 11   1,179,648  False     \n",
       "________________________________________________________________\n",
       "BatchNorm2d          40 x 512 x 11 x 11   1,024      True      \n",
       "________________________________________________________________\n",
       "ReLU                 40 x 512 x 11 x 11   0          False     \n",
       "________________________________________________________________\n",
       "Conv2d               40 x 512 x 11 x 11   2,359,296  False     \n",
       "________________________________________________________________\n",
       "BatchNorm2d          40 x 512 x 11 x 11   1,024      True      \n",
       "________________________________________________________________\n",
       "Conv2d               40 x 512 x 11 x 11   131,072    False     \n",
       "________________________________________________________________\n",
       "BatchNorm2d          40 x 512 x 11 x 11   1,024      True      \n",
       "________________________________________________________________\n",
       "Conv2d               40 x 512 x 11 x 11   2,359,296  False     \n",
       "________________________________________________________________\n",
       "BatchNorm2d          40 x 512 x 11 x 11   1,024      True      \n",
       "________________________________________________________________\n",
       "ReLU                 40 x 512 x 11 x 11   0          False     \n",
       "________________________________________________________________\n",
       "Conv2d               40 x 512 x 11 x 11   2,359,296  False     \n",
       "________________________________________________________________\n",
       "BatchNorm2d          40 x 512 x 11 x 11   1,024      True      \n",
       "________________________________________________________________\n",
       "Conv2d               40 x 512 x 11 x 11   2,359,296  False     \n",
       "________________________________________________________________\n",
       "BatchNorm2d          40 x 512 x 11 x 11   1,024      True      \n",
       "________________________________________________________________\n",
       "ReLU                 40 x 512 x 11 x 11   0          False     \n",
       "________________________________________________________________\n",
       "Conv2d               40 x 512 x 11 x 11   2,359,296  False     \n",
       "________________________________________________________________\n",
       "BatchNorm2d          40 x 512 x 11 x 11   1,024      True      \n",
       "________________________________________________________________\n",
       "AdaptiveAvgPool2d    40 x 512 x 1 x 1     0          False     \n",
       "________________________________________________________________\n",
       "AdaptiveMaxPool2d    40 x 512 x 1 x 1     0          False     \n",
       "________________________________________________________________\n",
       "Flatten              40 x 1024            0          False     \n",
       "________________________________________________________________\n",
       "BatchNorm1d          40 x 1024            2,048      True      \n",
       "________________________________________________________________\n",
       "Dropout              40 x 1024            0          False     \n",
       "________________________________________________________________\n",
       "Linear               40 x 512             524,288    True      \n",
       "________________________________________________________________\n",
       "ReLU                 40 x 512             0          False     \n",
       "________________________________________________________________\n",
       "BatchNorm1d          40 x 512             1,024      True      \n",
       "________________________________________________________________\n",
       "Dropout              40 x 512             0          False     \n",
       "________________________________________________________________\n",
       "Linear               40 x 1000            512,000    True      \n",
       "________________________________________________________________\n",
       "\n",
       "Total params: 44,205,184\n",
       "Total trainable params: 1,076,480\n",
       "Total non-trainable params: 43,128,704\n",
       "\n",
       "Optimizer used: <function Adam at 0x7f02f1ab6670>\n",
       "Loss function: <function loss_func at 0x7f02d42098b0>\n",
       "\n",
       "Model frozen up to parameter group #11\n",
       "\n",
       "Callbacks:\n",
       "  - ModelToHalf\n",
       "  - TrainEvalCallback\n",
       "  - Recorder\n",
       "  - ProgressCallback\n",
       "  - MixedPrecision"
      ]
     },
     "execution_count": 27,
     "metadata": {},
     "output_type": "execute_result"
    }
   ],
   "source": [
    "learn.summary()"
   ]
  },
  {
   "cell_type": "code",
   "execution_count": 28,
   "metadata": {
    "scrolled": true
   },
   "outputs": [
    {
     "data": {
      "text/html": [
       "<table border=\"1\" class=\"dataframe\">\n",
       "  <thead>\n",
       "    <tr style=\"text-align: left;\">\n",
       "      <th>epoch</th>\n",
       "      <th>train_loss</th>\n",
       "      <th>valid_loss</th>\n",
       "      <th>custom_accuracy</th>\n",
       "      <th>time</th>\n",
       "    </tr>\n",
       "  </thead>\n",
       "  <tbody>\n",
       "    <tr>\n",
       "      <td>0</td>\n",
       "      <td>8.329098</td>\n",
       "      <td>7.087303</td>\n",
       "      <td>0.378358</td>\n",
       "      <td>30:09</td>\n",
       "    </tr>\n",
       "  </tbody>\n",
       "</table>"
      ],
      "text/plain": [
       "<IPython.core.display.HTML object>"
      ]
     },
     "metadata": {},
     "output_type": "display_data"
    }
   ],
   "source": [
    "learn.fit(1, 3e-3)"
   ]
  },
  {
   "cell_type": "code",
   "execution_count": 29,
   "metadata": {
    "scrolled": true
   },
   "outputs": [
    {
     "data": {
      "text/plain": [
       "Path('models/species1000-linkedcnn-resnet34-fepochs1-uepochs0.pth')"
      ]
     },
     "execution_count": 29,
     "metadata": {},
     "output_type": "execute_result"
    }
   ],
   "source": [
    "learn.save('species1000-linkedcnn-resnet34-fepochs1-uepochs0')"
   ]
  },
  {
   "cell_type": "code",
   "execution_count": 30,
   "metadata": {},
   "outputs": [],
   "source": [
    "learn.unfreeze()"
   ]
  },
  {
   "cell_type": "code",
   "execution_count": 31,
   "metadata": {},
   "outputs": [],
   "source": [
    "def continue_training(pth_filename):\n",
    "    learn = Learner(dls, model, loss_func=loss_func, metrics=custom_accuracy,\n",
    "                   splitter=custom_splitter).to_fp16()\n",
    "    learn.load(pth_filename)\n",
    "    learn.unfreeze()\n",
    "    return learn"
   ]
  },
  {
   "cell_type": "code",
   "execution_count": 32,
   "metadata": {},
   "outputs": [
    {
     "data": {
      "text/html": [],
      "text/plain": [
       "<IPython.core.display.HTML object>"
      ]
     },
     "metadata": {},
     "output_type": "display_data"
    },
    {
     "data": {
      "text/plain": [
       "SuggestedLRs(lr_min=7.585775847473997e-08, lr_steep=3.630780702224001e-05)"
      ]
     },
     "execution_count": 32,
     "metadata": {},
     "output_type": "execute_result"
    },
    {
     "data": {
      "image/png": "[encoded data removed]",
      "text/plain": [
       "<Figure size 432x288 with 1 Axes>"
      ]
     },
     "metadata": {
      "needs_background": "light"
     },
     "output_type": "display_data"
    }
   ],
   "source": [
    "learn.lr_find()"
   ]
  },
  {
   "cell_type": "code",
   "execution_count": 33,
   "metadata": {},
   "outputs": [
    {
     "data": {
      "text/html": [
       "<table border=\"1\" class=\"dataframe\">\n",
       "  <thead>\n",
       "    <tr style=\"text-align: left;\">\n",
       "      <th>epoch</th>\n",
       "      <th>train_loss</th>\n",
       "      <th>valid_loss</th>\n",
       "      <th>custom_accuracy</th>\n",
       "      <th>time</th>\n",
       "    </tr>\n",
       "  </thead>\n",
       "  <tbody>\n",
       "    <tr>\n",
       "      <td>0</td>\n",
       "      <td>5.672403</td>\n",
       "      <td>4.662562</td>\n",
       "      <td>0.520963</td>\n",
       "      <td>36:17</td>\n",
       "    </tr>\n",
       "    <tr>\n",
       "      <td>1</td>\n",
       "      <td>4.938990</td>\n",
       "      <td>4.030419</td>\n",
       "      <td>0.554088</td>\n",
       "      <td>36:18</td>\n",
       "    </tr>\n",
       "    <tr>\n",
       "      <td>2</td>\n",
       "      <td>4.553858</td>\n",
       "      <td>3.669816</td>\n",
       "      <td>0.576555</td>\n",
       "      <td>36:23</td>\n",
       "    </tr>\n",
       "    <tr>\n",
       "      <td>3</td>\n",
       "      <td>4.348161</td>\n",
       "      <td>3.399161</td>\n",
       "      <td>0.599034</td>\n",
       "      <td>36:16</td>\n",
       "    </tr>\n",
       "    <tr>\n",
       "      <td>4</td>\n",
       "      <td>4.093227</td>\n",
       "      <td>3.255038</td>\n",
       "      <td>0.604256</td>\n",
       "      <td>36:20</td>\n",
       "    </tr>\n",
       "  </tbody>\n",
       "</table>"
      ],
      "text/plain": [
       "<IPython.core.display.HTML object>"
      ]
     },
     "metadata": {},
     "output_type": "display_data"
    },
    {
     "data": {
      "text/plain": [
       "Path('models/species1000-linkedcnn-resnet50-fepochs1-uepochs5.pth')"
      ]
     },
     "execution_count": 33,
     "metadata": {},
     "output_type": "execute_result"
    }
   ],
   "source": [
    "learn.fit(5, slice(1e-6,1e-4))\n",
    "learn.save('species1000-linkedcnn-resnet50-fepochs1-uepochs5')"
   ]
  },
  {
   "cell_type": "code",
   "execution_count": 34,
   "metadata": {},
   "outputs": [
    {
     "data": {
      "text/html": [
       "<table border=\"1\" class=\"dataframe\">\n",
       "  <thead>\n",
       "    <tr style=\"text-align: left;\">\n",
       "      <th>epoch</th>\n",
       "      <th>train_loss</th>\n",
       "      <th>valid_loss</th>\n",
       "      <th>custom_accuracy</th>\n",
       "      <th>time</th>\n",
       "    </tr>\n",
       "  </thead>\n",
       "  <tbody>\n",
       "    <tr>\n",
       "      <td>0</td>\n",
       "      <td>3.826075</td>\n",
       "      <td>3.076325</td>\n",
       "      <td>0.624153</td>\n",
       "      <td>36:20</td>\n",
       "    </tr>\n",
       "    <tr>\n",
       "      <td>1</td>\n",
       "      <td>3.628837</td>\n",
       "      <td>2.998527</td>\n",
       "      <td>0.626332</td>\n",
       "      <td>36:20</td>\n",
       "    </tr>\n",
       "    <tr>\n",
       "      <td>2</td>\n",
       "      <td>3.492621</td>\n",
       "      <td>2.861937</td>\n",
       "      <td>0.640864</td>\n",
       "      <td>36:30</td>\n",
       "    </tr>\n",
       "    <tr>\n",
       "      <td>3</td>\n",
       "      <td>3.316508</td>\n",
       "      <td>2.779907</td>\n",
       "      <td>0.646253</td>\n",
       "      <td>36:19</td>\n",
       "    </tr>\n",
       "    <tr>\n",
       "      <td>4</td>\n",
       "      <td>3.201189</td>\n",
       "      <td>2.702183</td>\n",
       "      <td>0.655550</td>\n",
       "      <td>36:21</td>\n",
       "    </tr>\n",
       "  </tbody>\n",
       "</table>"
      ],
      "text/plain": [
       "<IPython.core.display.HTML object>"
      ]
     },
     "metadata": {},
     "output_type": "display_data"
    },
    {
     "data": {
      "text/plain": [
       "Path('models/species1000-linkedcnn-resnet50-fepochs1-uepochs10.pth')"
      ]
     },
     "execution_count": 34,
     "metadata": {},
     "output_type": "execute_result"
    }
   ],
   "source": [
    "learn.fit(5, slice(1e-6,1e-4))\n",
    "learn.save('species1000-linkedcnn-resnet50-fepochs1-uepochs10')"
   ]
  },
  {
   "cell_type": "code",
   "execution_count": null,
   "metadata": {},
   "outputs": [],
   "source": [
    "learn = continue_training('species1000-linkedcnn-resnet50-fepochs1-uepochs10')"
   ]
  },
  {
   "cell_type": "code",
   "execution_count": 35,
   "metadata": {},
   "outputs": [
    {
     "data": {
      "text/html": [
       "<table border=\"1\" class=\"dataframe\">\n",
       "  <thead>\n",
       "    <tr style=\"text-align: left;\">\n",
       "      <th>epoch</th>\n",
       "      <th>train_loss</th>\n",
       "      <th>valid_loss</th>\n",
       "      <th>custom_accuracy</th>\n",
       "      <th>time</th>\n",
       "    </tr>\n",
       "  </thead>\n",
       "  <tbody>\n",
       "    <tr>\n",
       "      <td>0</td>\n",
       "      <td>2.976977</td>\n",
       "      <td>2.655185</td>\n",
       "      <td>0.659328</td>\n",
       "      <td>36:19</td>\n",
       "    </tr>\n",
       "    <tr>\n",
       "      <td>1</td>\n",
       "      <td>2.905084</td>\n",
       "      <td>2.589010</td>\n",
       "      <td>0.664823</td>\n",
       "      <td>36:15</td>\n",
       "    </tr>\n",
       "    <tr>\n",
       "      <td>2</td>\n",
       "      <td>2.766506</td>\n",
       "      <td>2.573512</td>\n",
       "      <td>0.668210</td>\n",
       "      <td>36:05</td>\n",
       "    </tr>\n",
       "    <tr>\n",
       "      <td>3</td>\n",
       "      <td>2.953994</td>\n",
       "      <td>2.505542</td>\n",
       "      <td>0.669631</td>\n",
       "      <td>36:03</td>\n",
       "    </tr>\n",
       "    <tr>\n",
       "      <td>4</td>\n",
       "      <td>2.700699</td>\n",
       "      <td>2.473036</td>\n",
       "      <td>0.673552</td>\n",
       "      <td>36:04</td>\n",
       "    </tr>\n",
       "  </tbody>\n",
       "</table>"
      ],
      "text/plain": [
       "<IPython.core.display.HTML object>"
      ]
     },
     "metadata": {},
     "output_type": "display_data"
    },
    {
     "data": {
      "text/plain": [
       "Path('models/species1000-linkedcnn-resnet50-fepochs1-uepochs15.pth')"
      ]
     },
     "execution_count": 35,
     "metadata": {},
     "output_type": "execute_result"
    }
   ],
   "source": [
    "learn.fit(5, slice(1e-6,1e-4))\n",
    "learn.save('species1000-linkedcnn-resnet50-fepochs1-uepochs15')"
   ]
  },
  {
   "cell_type": "code",
   "execution_count": 36,
   "metadata": {},
   "outputs": [],
   "source": [
    "learn.export('species1000-linkedcnn-resnet50-fepochs1-uepochs15')"
   ]
  },
  {
   "cell_type": "code",
   "execution_count": 37,
   "metadata": {},
   "outputs": [
    {
     "data": {
      "text/html": [
       "<table border=\"1\" class=\"dataframe\">\n",
       "  <thead>\n",
       "    <tr style=\"text-align: left;\">\n",
       "      <th>epoch</th>\n",
       "      <th>train_loss</th>\n",
       "      <th>valid_loss</th>\n",
       "      <th>custom_accuracy</th>\n",
       "      <th>time</th>\n",
       "    </tr>\n",
       "  </thead>\n",
       "  <tbody>\n",
       "    <tr>\n",
       "      <td>0</td>\n",
       "      <td>2.634895</td>\n",
       "      <td>2.459136</td>\n",
       "      <td>0.682458</td>\n",
       "      <td>36:10</td>\n",
       "    </tr>\n",
       "    <tr>\n",
       "      <td>1</td>\n",
       "      <td>2.609674</td>\n",
       "      <td>2.453435</td>\n",
       "      <td>0.678336</td>\n",
       "      <td>36:04</td>\n",
       "    </tr>\n",
       "    <tr>\n",
       "      <td>2</td>\n",
       "      <td>2.364790</td>\n",
       "      <td>2.608629</td>\n",
       "      <td>0.683370</td>\n",
       "      <td>36:04</td>\n",
       "    </tr>\n",
       "    <tr>\n",
       "      <td>3</td>\n",
       "      <td>2.478427</td>\n",
       "      <td>2.652895</td>\n",
       "      <td>0.683488</td>\n",
       "      <td>36:07</td>\n",
       "    </tr>\n",
       "    <tr>\n",
       "      <td>4</td>\n",
       "      <td>2.432183</td>\n",
       "      <td>2.430915</td>\n",
       "      <td>0.694419</td>\n",
       "      <td>36:00</td>\n",
       "    </tr>\n",
       "  </tbody>\n",
       "</table>"
      ],
      "text/plain": [
       "<IPython.core.display.HTML object>"
      ]
     },
     "metadata": {},
     "output_type": "display_data"
    },
    {
     "data": {
      "text/plain": [
       "Path('models/species1000-linkedcnn-resnet50-fepochs1-uepochs20.pth')"
      ]
     },
     "execution_count": 37,
     "metadata": {},
     "output_type": "execute_result"
    }
   ],
   "source": [
    "learn.fit(5, slice(1e-6,1e-4))\n",
    "learn.save('species1000-linkedcnn-resnet50-fepochs1-uepochs20')"
   ]
  }
 ],
 "metadata": {
  "kernelspec": {
   "display_name": "Python 3",
   "language": "python",
   "name": "python3"
  },
  "language_info": {
   "codemirror_mode": {
    "name": "ipython",
    "version": 3
   },
   "file_extension": ".py",
   "mimetype": "text/x-python",
   "name": "python",
   "nbconvert_exporter": "python",
   "pygments_lexer": "ipython3",
   "version": "3.8.5"
  }
 },
 "nbformat": 4,
 "nbformat_minor": 4
}
