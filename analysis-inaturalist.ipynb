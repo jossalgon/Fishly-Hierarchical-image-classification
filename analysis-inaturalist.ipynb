{
 "cells": [
  {
   "cell_type": "code",
   "execution_count": 1,
   "metadata": {},
   "outputs": [],
   "source": [
    "from glob import glob\n",
    "from path import Path\n",
    "from os import listdir, stat\n",
    "from shutil import copyfile\n",
    "import os\n",
    "import sqlite3\n",
    "import pandas as pd\n",
    "import matplotlib.pyplot as plt\n",
    "from sklearn.utils.class_weight import compute_class_weight\n",
    "from sklearn.model_selection import train_test_split\n",
    "import numpy as np"
   ]
  },
  {
   "cell_type": "markdown",
   "metadata": {},
   "source": [
    "# Analyzing dataset"
   ]
  },
  {
   "cell_type": "code",
   "execution_count": 2,
   "metadata": {},
   "outputs": [],
   "source": [
    "def init_fig(height=15, width=15):\n",
    "    fig = plt.figure()\n",
    "    fig.set_figheight(height)\n",
    "    fig.set_figwidth(width)\n",
    "    return fig"
   ]
  },
  {
   "cell_type": "code",
   "execution_count": 3,
   "metadata": {},
   "outputs": [],
   "source": [
    "SCRAPER_FOLDER = Path('/home/jossalgon/Documentos/Master/scraper/')\n",
    "CSV_FOLDER = Path('/home/jossalgon/Documentos/Master/Notebooks/csv/')\n",
    "\n",
    "DATA_PATH = Path(SCRAPER_FOLDER/'inaturalist/inaturalist.csv')\n",
    "CSV_PATH = Path(SCRAPER_FOLDER/'families_3.csv')\n",
    "ALL_CSV_PATH = Path(SCRAPER_FOLDER/'species1000.csv')\n",
    "\n",
    "CLEAN_CSV_PATH = Path(CSV_FOLDER/'species1000-df-filtered.csv')\n",
    "CLEAN_SAMPLE_CSV_PATH = Path(CSV_FOLDER/'families_3.csv')\n",
    "STRATIFIED_CSV_PATH = Path(CSV_FOLDER/'species1000-stratified.csv')\n",
    "STRATIFIED_SAMPLE_CSV_PATH = Path(CSV_FOLDER/'families3-stratified.csv')\n",
    "WEIGHTS_CSV_PATH = Path(CSV_FOLDER/'species1000-weights.csv')\n",
    "WEIGHTS_SAMPLE_CSV_PATH = Path(CSV_FOLDER/'families3-weights.csv')\n",
    "WEIGHTS_FAMILIES_CSV_PATH = Path(CSV_FOLDER/'species1000-weights-family.csv')\n",
    "WEIGHTS_SAMPLE_FAMILIES_CSV_PATH = Path(CSV_FOLDER/'families3-weights-family.csv')\n",
    "WEIGHTS_GENUS_CSV_PATH = Path(CSV_FOLDER/'species1000-weights-genus.csv')\n",
    "WEIGHTS_SAMPLE_GENUS_CSV_PATH = Path(CSV_FOLDER/'families3-weights-genus.csv')\n",
    "WEIGHTS_ORDER_CSV_PATH = Path(CSV_FOLDER/'species1000-weights-order.csv')\n",
    "WEIGHTS_SAMPLE_ORDER_CSV_PATH = Path(CSV_FOLDER/'families3-weights-order.csv')"
   ]
  },
  {
   "cell_type": "code",
   "execution_count": 4,
   "metadata": {},
   "outputs": [
    {
     "data": {
      "text/html": [
       "<div>\n",
       "<style scoped>\n",
       "    .dataframe tbody tr th:only-of-type {\n",
       "        vertical-align: middle;\n",
       "    }\n",
       "\n",
       "    .dataframe tbody tr th {\n",
       "        vertical-align: top;\n",
       "    }\n",
       "\n",
       "    .dataframe thead th {\n",
       "        text-align: right;\n",
       "    }\n",
       "</style>\n",
       "<table border=\"1\" class=\"dataframe\">\n",
       "  <thead>\n",
       "    <tr style=\"text-align: right;\">\n",
       "      <th></th>\n",
       "      <th>Order</th>\n",
       "      <th>Family</th>\n",
       "      <th>Subfamily</th>\n",
       "      <th>Genus</th>\n",
       "      <th>Specie</th>\n",
       "      <th>Observations</th>\n",
       "      <th>url</th>\n",
       "    </tr>\n",
       "  </thead>\n",
       "  <tbody>\n",
       "    <tr>\n",
       "      <th>0</th>\n",
       "      <td>Acipenseriformes</td>\n",
       "      <td>Acipenseridae</td>\n",
       "      <td>Acipenserinae</td>\n",
       "      <td>Acipenser</td>\n",
       "      <td>Acipenser baerii</td>\n",
       "      <td>4</td>\n",
       "      <td>https://www.inaturalist.org/taxa/93179-Acipens...</td>\n",
       "    </tr>\n",
       "    <tr>\n",
       "      <th>1</th>\n",
       "      <td>Acipenseriformes</td>\n",
       "      <td>Acipenseridae</td>\n",
       "      <td>Acipenserinae</td>\n",
       "      <td>Acipenser</td>\n",
       "      <td>Acipenser brevirostrum</td>\n",
       "      <td>11</td>\n",
       "      <td>https://www.inaturalist.org/taxa/49823-Acipens...</td>\n",
       "    </tr>\n",
       "    <tr>\n",
       "      <th>2</th>\n",
       "      <td>Acipenseriformes</td>\n",
       "      <td>Acipenseridae</td>\n",
       "      <td>Acipenserinae</td>\n",
       "      <td>Acipenser</td>\n",
       "      <td>Acipenser dabryanus</td>\n",
       "      <td>0</td>\n",
       "      <td>https://www.inaturalist.org/taxa/93180-Acipens...</td>\n",
       "    </tr>\n",
       "    <tr>\n",
       "      <th>3</th>\n",
       "      <td>Acipenseriformes</td>\n",
       "      <td>Acipenseridae</td>\n",
       "      <td>Acipenserinae</td>\n",
       "      <td>Acipenser</td>\n",
       "      <td>Acipenser fulvescens</td>\n",
       "      <td>380</td>\n",
       "      <td>https://www.inaturalist.org/taxa/93181-Acipens...</td>\n",
       "    </tr>\n",
       "    <tr>\n",
       "      <th>4</th>\n",
       "      <td>Acipenseriformes</td>\n",
       "      <td>Acipenseridae</td>\n",
       "      <td>Acipenserinae</td>\n",
       "      <td>Acipenser</td>\n",
       "      <td>Acipenser gueldenstaedtii</td>\n",
       "      <td>7</td>\n",
       "      <td>https://www.inaturalist.org/taxa/93182-Acipens...</td>\n",
       "    </tr>\n",
       "  </tbody>\n",
       "</table>\n",
       "</div>"
      ],
      "text/plain": [
       "              Order         Family      Subfamily      Genus  \\\n",
       "0  Acipenseriformes  Acipenseridae  Acipenserinae  Acipenser   \n",
       "1  Acipenseriformes  Acipenseridae  Acipenserinae  Acipenser   \n",
       "2  Acipenseriformes  Acipenseridae  Acipenserinae  Acipenser   \n",
       "3  Acipenseriformes  Acipenseridae  Acipenserinae  Acipenser   \n",
       "4  Acipenseriformes  Acipenseridae  Acipenserinae  Acipenser   \n",
       "\n",
       "                      Specie  Observations  \\\n",
       "0           Acipenser baerii             4   \n",
       "1     Acipenser brevirostrum            11   \n",
       "2        Acipenser dabryanus             0   \n",
       "3       Acipenser fulvescens           380   \n",
       "4  Acipenser gueldenstaedtii             7   \n",
       "\n",
       "                                                 url  \n",
       "0  https://www.inaturalist.org/taxa/93179-Acipens...  \n",
       "1  https://www.inaturalist.org/taxa/49823-Acipens...  \n",
       "2  https://www.inaturalist.org/taxa/93180-Acipens...  \n",
       "3  https://www.inaturalist.org/taxa/93181-Acipens...  \n",
       "4  https://www.inaturalist.org/taxa/93182-Acipens...  "
      ]
     },
     "execution_count": 4,
     "metadata": {},
     "output_type": "execute_result"
    }
   ],
   "source": [
    "df = pd.read_csv(DATA_PATH)\n",
    "df.head()"
   ]
  },
  {
   "cell_type": "code",
   "execution_count": 5,
   "metadata": {},
   "outputs": [],
   "source": [
    "def asc_group_by(df, key):\n",
    "    return df.groupby([key]).sum().sort_values(by=['Observations'], ascending=False)"
   ]
  },
  {
   "cell_type": "code",
   "execution_count": 6,
   "metadata": {},
   "outputs": [
    {
     "name": "stdout",
     "output_type": "stream",
     "text": [
      "Size: 46\n"
     ]
    },
    {
     "data": {
      "text/html": [
       "<div>\n",
       "<style scoped>\n",
       "    .dataframe tbody tr th:only-of-type {\n",
       "        vertical-align: middle;\n",
       "    }\n",
       "\n",
       "    .dataframe tbody tr th {\n",
       "        vertical-align: top;\n",
       "    }\n",
       "\n",
       "    .dataframe thead th {\n",
       "        text-align: right;\n",
       "    }\n",
       "</style>\n",
       "<table border=\"1\" class=\"dataframe\">\n",
       "  <thead>\n",
       "    <tr style=\"text-align: right;\">\n",
       "      <th></th>\n",
       "      <th>Observations</th>\n",
       "    </tr>\n",
       "    <tr>\n",
       "      <th>Order</th>\n",
       "      <th></th>\n",
       "    </tr>\n",
       "  </thead>\n",
       "  <tbody>\n",
       "    <tr>\n",
       "      <th>Perciformes</th>\n",
       "      <td>275755</td>\n",
       "    </tr>\n",
       "    <tr>\n",
       "      <th>Cypriniformes</th>\n",
       "      <td>43970</td>\n",
       "    </tr>\n",
       "    <tr>\n",
       "      <th>Tetraodontiformes</th>\n",
       "      <td>31372</td>\n",
       "    </tr>\n",
       "    <tr>\n",
       "      <th>Scorpaeniformes</th>\n",
       "      <td>21186</td>\n",
       "    </tr>\n",
       "    <tr>\n",
       "      <th>Salmoniformes</th>\n",
       "      <td>14681</td>\n",
       "    </tr>\n",
       "    <tr>\n",
       "      <th>Syngnathiformes</th>\n",
       "      <td>14595</td>\n",
       "    </tr>\n",
       "    <tr>\n",
       "      <th>Cyprinodontiformes</th>\n",
       "      <td>14095</td>\n",
       "    </tr>\n",
       "    <tr>\n",
       "      <th>Anguilliformes</th>\n",
       "      <td>11023</td>\n",
       "    </tr>\n",
       "    <tr>\n",
       "      <th>Siluriformes</th>\n",
       "      <td>10999</td>\n",
       "    </tr>\n",
       "    <tr>\n",
       "      <th>Pleuronectiformes</th>\n",
       "      <td>4200</td>\n",
       "    </tr>\n",
       "    <tr>\n",
       "      <th>Esociformes</th>\n",
       "      <td>4143</td>\n",
       "    </tr>\n",
       "    <tr>\n",
       "      <th>Clupeiformes</th>\n",
       "      <td>3987</td>\n",
       "    </tr>\n",
       "    <tr>\n",
       "      <th>Beryciformes</th>\n",
       "      <td>3140</td>\n",
       "    </tr>\n",
       "    <tr>\n",
       "      <th>Lepisosteiformes</th>\n",
       "      <td>2946</td>\n",
       "    </tr>\n",
       "    <tr>\n",
       "      <th>Gasterosteiformes</th>\n",
       "      <td>2426</td>\n",
       "    </tr>\n",
       "    <tr>\n",
       "      <th>Aulopiformes</th>\n",
       "      <td>2209</td>\n",
       "    </tr>\n",
       "    <tr>\n",
       "      <th>Beloniformes</th>\n",
       "      <td>2126</td>\n",
       "    </tr>\n",
       "    <tr>\n",
       "      <th>Atheriniformes</th>\n",
       "      <td>1847</td>\n",
       "    </tr>\n",
       "    <tr>\n",
       "      <th>Characiformes</th>\n",
       "      <td>1840</td>\n",
       "    </tr>\n",
       "    <tr>\n",
       "      <th>Lophiiformes</th>\n",
       "      <td>1786</td>\n",
       "    </tr>\n",
       "    <tr>\n",
       "      <th>Gadiformes</th>\n",
       "      <td>1562</td>\n",
       "    </tr>\n",
       "    <tr>\n",
       "      <th>Gobiesociformes</th>\n",
       "      <td>1550</td>\n",
       "    </tr>\n",
       "    <tr>\n",
       "      <th>Osmeriformes</th>\n",
       "      <td>1361</td>\n",
       "    </tr>\n",
       "    <tr>\n",
       "      <th>Batrachoidiformes</th>\n",
       "      <td>1117</td>\n",
       "    </tr>\n",
       "    <tr>\n",
       "      <th>Elopiformes</th>\n",
       "      <td>942</td>\n",
       "    </tr>\n",
       "    <tr>\n",
       "      <th>Acipenseriformes</th>\n",
       "      <td>747</td>\n",
       "    </tr>\n",
       "    <tr>\n",
       "      <th>Amiiformes</th>\n",
       "      <td>585</td>\n",
       "    </tr>\n",
       "    <tr>\n",
       "      <th>Osteoglossiformes</th>\n",
       "      <td>529</td>\n",
       "    </tr>\n",
       "    <tr>\n",
       "      <th>Synbranchiformes</th>\n",
       "      <td>369</td>\n",
       "    </tr>\n",
       "    <tr>\n",
       "      <th>Percopsiformes</th>\n",
       "      <td>345</td>\n",
       "    </tr>\n",
       "    <tr>\n",
       "      <th>Ophidiiformes</th>\n",
       "      <td>155</td>\n",
       "    </tr>\n",
       "    <tr>\n",
       "      <th>Gymnotiformes</th>\n",
       "      <td>117</td>\n",
       "    </tr>\n",
       "    <tr>\n",
       "      <th>Zeiformes</th>\n",
       "      <td>113</td>\n",
       "    </tr>\n",
       "    <tr>\n",
       "      <th>Albuliformes</th>\n",
       "      <td>109</td>\n",
       "    </tr>\n",
       "    <tr>\n",
       "      <th>Gonorynchiformes</th>\n",
       "      <td>108</td>\n",
       "    </tr>\n",
       "    <tr>\n",
       "      <th>Stomiiformes</th>\n",
       "      <td>88</td>\n",
       "    </tr>\n",
       "    <tr>\n",
       "      <th>Polypteriformes</th>\n",
       "      <td>70</td>\n",
       "    </tr>\n",
       "    <tr>\n",
       "      <th>Lampriformes</th>\n",
       "      <td>69</td>\n",
       "    </tr>\n",
       "    <tr>\n",
       "      <th>Myctophiformes</th>\n",
       "      <td>38</td>\n",
       "    </tr>\n",
       "    <tr>\n",
       "      <th>Mugiliformes</th>\n",
       "      <td>14</td>\n",
       "    </tr>\n",
       "    <tr>\n",
       "      <th>Cetomimiformes</th>\n",
       "      <td>5</td>\n",
       "    </tr>\n",
       "    <tr>\n",
       "      <th>Notacanthiformes</th>\n",
       "      <td>5</td>\n",
       "    </tr>\n",
       "    <tr>\n",
       "      <th>Saccopharyngiformes</th>\n",
       "      <td>5</td>\n",
       "    </tr>\n",
       "    <tr>\n",
       "      <th>Polymixiiformes</th>\n",
       "      <td>4</td>\n",
       "    </tr>\n",
       "    <tr>\n",
       "      <th>Stephanoberyciformes</th>\n",
       "      <td>3</td>\n",
       "    </tr>\n",
       "    <tr>\n",
       "      <th>Ateleopodiformes</th>\n",
       "      <td>2</td>\n",
       "    </tr>\n",
       "  </tbody>\n",
       "</table>\n",
       "</div>"
      ],
      "text/plain": [
       "                      Observations\n",
       "Order                             \n",
       "Perciformes                 275755\n",
       "Cypriniformes                43970\n",
       "Tetraodontiformes            31372\n",
       "Scorpaeniformes              21186\n",
       "Salmoniformes                14681\n",
       "Syngnathiformes              14595\n",
       "Cyprinodontiformes           14095\n",
       "Anguilliformes               11023\n",
       "Siluriformes                 10999\n",
       "Pleuronectiformes             4200\n",
       "Esociformes                   4143\n",
       "Clupeiformes                  3987\n",
       "Beryciformes                  3140\n",
       "Lepisosteiformes              2946\n",
       "Gasterosteiformes             2426\n",
       "Aulopiformes                  2209\n",
       "Beloniformes                  2126\n",
       "Atheriniformes                1847\n",
       "Characiformes                 1840\n",
       "Lophiiformes                  1786\n",
       "Gadiformes                    1562\n",
       "Gobiesociformes               1550\n",
       "Osmeriformes                  1361\n",
       "Batrachoidiformes             1117\n",
       "Elopiformes                    942\n",
       "Acipenseriformes               747\n",
       "Amiiformes                     585\n",
       "Osteoglossiformes              529\n",
       "Synbranchiformes               369\n",
       "Percopsiformes                 345\n",
       "Ophidiiformes                  155\n",
       "Gymnotiformes                  117\n",
       "Zeiformes                      113\n",
       "Albuliformes                   109\n",
       "Gonorynchiformes               108\n",
       "Stomiiformes                    88\n",
       "Polypteriformes                 70\n",
       "Lampriformes                    69\n",
       "Myctophiformes                  38\n",
       "Mugiliformes                    14\n",
       "Cetomimiformes                   5\n",
       "Notacanthiformes                 5\n",
       "Saccopharyngiformes              5\n",
       "Polymixiiformes                  4\n",
       "Stephanoberyciformes             3\n",
       "Ateleopodiformes                 2"
      ]
     },
     "execution_count": 6,
     "metadata": {},
     "output_type": "execute_result"
    }
   ],
   "source": [
    "orders = asc_group_by(df, 'Order')\n",
    "print('Size:', orders.size)\n",
    "orders"
   ]
  },
  {
   "cell_type": "code",
   "execution_count": 7,
   "metadata": {},
   "outputs": [
    {
     "name": "stdout",
     "output_type": "stream",
     "text": [
      "Size: 490\n"
     ]
    },
    {
     "data": {
      "text/html": [
       "<div>\n",
       "<style scoped>\n",
       "    .dataframe tbody tr th:only-of-type {\n",
       "        vertical-align: middle;\n",
       "    }\n",
       "\n",
       "    .dataframe tbody tr th {\n",
       "        vertical-align: top;\n",
       "    }\n",
       "\n",
       "    .dataframe thead th {\n",
       "        text-align: right;\n",
       "    }\n",
       "</style>\n",
       "<table border=\"1\" class=\"dataframe\">\n",
       "  <thead>\n",
       "    <tr style=\"text-align: right;\">\n",
       "      <th></th>\n",
       "      <th>Observations</th>\n",
       "    </tr>\n",
       "    <tr>\n",
       "      <th>Family</th>\n",
       "      <th></th>\n",
       "    </tr>\n",
       "  </thead>\n",
       "  <tbody>\n",
       "    <tr>\n",
       "      <th>Centrarchidae</th>\n",
       "      <td>39237</td>\n",
       "    </tr>\n",
       "    <tr>\n",
       "      <th>Cyprinidae</th>\n",
       "      <td>38766</td>\n",
       "    </tr>\n",
       "    <tr>\n",
       "      <th>Pomacentridae</th>\n",
       "      <td>26312</td>\n",
       "    </tr>\n",
       "    <tr>\n",
       "      <th>Labridae</th>\n",
       "      <td>19882</td>\n",
       "    </tr>\n",
       "    <tr>\n",
       "      <th>Chaetodontidae</th>\n",
       "      <td>15153</td>\n",
       "    </tr>\n",
       "    <tr>\n",
       "      <th>Salmonidae</th>\n",
       "      <td>14681</td>\n",
       "    </tr>\n",
       "    <tr>\n",
       "      <th>Serranidae</th>\n",
       "      <td>14195</td>\n",
       "    </tr>\n",
       "    <tr>\n",
       "      <th>Gobiidae</th>\n",
       "      <td>13500</td>\n",
       "    </tr>\n",
       "    <tr>\n",
       "      <th>Acanthuridae</th>\n",
       "      <td>12559</td>\n",
       "    </tr>\n",
       "    <tr>\n",
       "      <th>Syngnathidae</th>\n",
       "      <td>11097</td>\n",
       "    </tr>\n",
       "  </tbody>\n",
       "</table>\n",
       "</div>"
      ],
      "text/plain": [
       "                Observations\n",
       "Family                      \n",
       "Centrarchidae          39237\n",
       "Cyprinidae             38766\n",
       "Pomacentridae          26312\n",
       "Labridae               19882\n",
       "Chaetodontidae         15153\n",
       "Salmonidae             14681\n",
       "Serranidae             14195\n",
       "Gobiidae               13500\n",
       "Acanthuridae           12559\n",
       "Syngnathidae           11097"
      ]
     },
     "execution_count": 7,
     "metadata": {},
     "output_type": "execute_result"
    }
   ],
   "source": [
    "families = asc_group_by(df, 'Family')\n",
    "print('Size:', families.size)\n",
    "families.head(10)"
   ]
  },
  {
   "cell_type": "code",
   "execution_count": 8,
   "metadata": {},
   "outputs": [
    {
     "name": "stdout",
     "output_type": "stream",
     "text": [
      "Size: 302\n"
     ]
    },
    {
     "data": {
      "text/html": [
       "<div>\n",
       "<style scoped>\n",
       "    .dataframe tbody tr th:only-of-type {\n",
       "        vertical-align: middle;\n",
       "    }\n",
       "\n",
       "    .dataframe tbody tr th {\n",
       "        vertical-align: top;\n",
       "    }\n",
       "\n",
       "    .dataframe thead th {\n",
       "        text-align: right;\n",
       "    }\n",
       "</style>\n",
       "<table border=\"1\" class=\"dataframe\">\n",
       "  <thead>\n",
       "    <tr style=\"text-align: right;\">\n",
       "      <th></th>\n",
       "      <th>Observations</th>\n",
       "    </tr>\n",
       "    <tr>\n",
       "      <th>Subfamily</th>\n",
       "      <th></th>\n",
       "    </tr>\n",
       "  </thead>\n",
       "  <tbody>\n",
       "    <tr>\n",
       "      <th>Pomacentrinae</th>\n",
       "      <td>22178</td>\n",
       "    </tr>\n",
       "    <tr>\n",
       "      <th>Leuciscinae</th>\n",
       "      <td>20404</td>\n",
       "    </tr>\n",
       "    <tr>\n",
       "      <th>Salmoninae</th>\n",
       "      <td>14108</td>\n",
       "    </tr>\n",
       "    <tr>\n",
       "      <th>Corinae</th>\n",
       "      <td>14002</td>\n",
       "    </tr>\n",
       "    <tr>\n",
       "      <th>Cyprininae</th>\n",
       "      <td>12769</td>\n",
       "    </tr>\n",
       "    <tr>\n",
       "      <th>Gobiinae</th>\n",
       "      <td>10255</td>\n",
       "    </tr>\n",
       "    <tr>\n",
       "      <th>Acanthurinae</th>\n",
       "      <td>9645</td>\n",
       "    </tr>\n",
       "    <tr>\n",
       "      <th>Poeciliinae</th>\n",
       "      <td>8641</td>\n",
       "    </tr>\n",
       "    <tr>\n",
       "      <th>Epinephelinae</th>\n",
       "      <td>8188</td>\n",
       "    </tr>\n",
       "    <tr>\n",
       "      <th>Muraeninae</th>\n",
       "      <td>7035</td>\n",
       "    </tr>\n",
       "  </tbody>\n",
       "</table>\n",
       "</div>"
      ],
      "text/plain": [
       "               Observations\n",
       "Subfamily                  \n",
       "Pomacentrinae         22178\n",
       "Leuciscinae           20404\n",
       "Salmoninae            14108\n",
       "Corinae               14002\n",
       "Cyprininae            12769\n",
       "Gobiinae              10255\n",
       "Acanthurinae           9645\n",
       "Poeciliinae            8641\n",
       "Epinephelinae          8188\n",
       "Muraeninae             7035"
      ]
     },
     "execution_count": 8,
     "metadata": {},
     "output_type": "execute_result"
    }
   ],
   "source": [
    "subfamilies = asc_group_by(df, 'Subfamily')\n",
    "print('Size:', subfamilies.size)\n",
    "subfamilies.head(10)"
   ]
  },
  {
   "cell_type": "code",
   "execution_count": 9,
   "metadata": {},
   "outputs": [
    {
     "name": "stdout",
     "output_type": "stream",
     "text": [
      "Size: 4511\n"
     ]
    },
    {
     "data": {
      "text/html": [
       "<div>\n",
       "<style scoped>\n",
       "    .dataframe tbody tr th:only-of-type {\n",
       "        vertical-align: middle;\n",
       "    }\n",
       "\n",
       "    .dataframe tbody tr th {\n",
       "        vertical-align: top;\n",
       "    }\n",
       "\n",
       "    .dataframe thead th {\n",
       "        text-align: right;\n",
       "    }\n",
       "</style>\n",
       "<table border=\"1\" class=\"dataframe\">\n",
       "  <thead>\n",
       "    <tr style=\"text-align: right;\">\n",
       "      <th></th>\n",
       "      <th>Observations</th>\n",
       "    </tr>\n",
       "    <tr>\n",
       "      <th>Genus</th>\n",
       "      <th></th>\n",
       "    </tr>\n",
       "  </thead>\n",
       "  <tbody>\n",
       "    <tr>\n",
       "      <th>Lepomis</th>\n",
       "      <td>22046</td>\n",
       "    </tr>\n",
       "    <tr>\n",
       "      <th>Micropterus</th>\n",
       "      <td>12970</td>\n",
       "    </tr>\n",
       "    <tr>\n",
       "      <th>Chaetodon</th>\n",
       "      <td>11725</td>\n",
       "    </tr>\n",
       "    <tr>\n",
       "      <th>Cyprinus</th>\n",
       "      <td>8812</td>\n",
       "    </tr>\n",
       "    <tr>\n",
       "      <th>Oncorhynchus</th>\n",
       "      <td>7957</td>\n",
       "    </tr>\n",
       "    <tr>\n",
       "      <th>Acanthurus</th>\n",
       "      <td>6824</td>\n",
       "    </tr>\n",
       "    <tr>\n",
       "      <th>Hippocampus</th>\n",
       "      <td>6503</td>\n",
       "    </tr>\n",
       "    <tr>\n",
       "      <th>Lutjanus</th>\n",
       "      <td>5873</td>\n",
       "    </tr>\n",
       "    <tr>\n",
       "      <th>Gambusia</th>\n",
       "      <td>5697</td>\n",
       "    </tr>\n",
       "    <tr>\n",
       "      <th>Gymnothorax</th>\n",
       "      <td>5288</td>\n",
       "    </tr>\n",
       "  </tbody>\n",
       "</table>\n",
       "</div>"
      ],
      "text/plain": [
       "              Observations\n",
       "Genus                     \n",
       "Lepomis              22046\n",
       "Micropterus          12970\n",
       "Chaetodon            11725\n",
       "Cyprinus              8812\n",
       "Oncorhynchus          7957\n",
       "Acanthurus            6824\n",
       "Hippocampus           6503\n",
       "Lutjanus              5873\n",
       "Gambusia              5697\n",
       "Gymnothorax           5288"
      ]
     },
     "execution_count": 9,
     "metadata": {},
     "output_type": "execute_result"
    }
   ],
   "source": [
    "genera = asc_group_by(df, 'Genus')\n",
    "print('Size:', genera.size)\n",
    "genera.head(10)"
   ]
  },
  {
   "cell_type": "code",
   "execution_count": 10,
   "metadata": {},
   "outputs": [
    {
     "name": "stdout",
     "output_type": "stream",
     "text": [
      "Size: 30712\n"
     ]
    },
    {
     "data": {
      "text/html": [
       "<div>\n",
       "<style scoped>\n",
       "    .dataframe tbody tr th:only-of-type {\n",
       "        vertical-align: middle;\n",
       "    }\n",
       "\n",
       "    .dataframe tbody tr th {\n",
       "        vertical-align: top;\n",
       "    }\n",
       "\n",
       "    .dataframe thead th {\n",
       "        text-align: right;\n",
       "    }\n",
       "</style>\n",
       "<table border=\"1\" class=\"dataframe\">\n",
       "  <thead>\n",
       "    <tr style=\"text-align: right;\">\n",
       "      <th></th>\n",
       "      <th>Observations</th>\n",
       "    </tr>\n",
       "    <tr>\n",
       "      <th>Specie</th>\n",
       "      <th></th>\n",
       "    </tr>\n",
       "  </thead>\n",
       "  <tbody>\n",
       "    <tr>\n",
       "      <th>Lepomis macrochirus</th>\n",
       "      <td>9119</td>\n",
       "    </tr>\n",
       "    <tr>\n",
       "      <th>Micropterus salmoides</th>\n",
       "      <td>8615</td>\n",
       "    </tr>\n",
       "    <tr>\n",
       "      <th>Cyprinus carpio</th>\n",
       "      <td>5299</td>\n",
       "    </tr>\n",
       "    <tr>\n",
       "      <th>Oncorhynchus mykiss</th>\n",
       "      <td>4199</td>\n",
       "    </tr>\n",
       "    <tr>\n",
       "      <th>Gambusia affinis</th>\n",
       "      <td>3790</td>\n",
       "    </tr>\n",
       "    <tr>\n",
       "      <th>Cyprinus rubrofuscus</th>\n",
       "      <td>3511</td>\n",
       "    </tr>\n",
       "    <tr>\n",
       "      <th>Lepomis cyanellus</th>\n",
       "      <td>3375</td>\n",
       "    </tr>\n",
       "    <tr>\n",
       "      <th>Carassius auratus</th>\n",
       "      <td>3033</td>\n",
       "    </tr>\n",
       "    <tr>\n",
       "      <th>Lepomis gibbosus</th>\n",
       "      <td>2969</td>\n",
       "    </tr>\n",
       "    <tr>\n",
       "      <th>Micropterus dolomieu</th>\n",
       "      <td>2933</td>\n",
       "    </tr>\n",
       "  </tbody>\n",
       "</table>\n",
       "</div>"
      ],
      "text/plain": [
       "                       Observations\n",
       "Specie                             \n",
       "Lepomis macrochirus            9119\n",
       "Micropterus salmoides          8615\n",
       "Cyprinus carpio                5299\n",
       "Oncorhynchus mykiss            4199\n",
       "Gambusia affinis               3790\n",
       "Cyprinus rubrofuscus           3511\n",
       "Lepomis cyanellus              3375\n",
       "Carassius auratus              3033\n",
       "Lepomis gibbosus               2969\n",
       "Micropterus dolomieu           2933"
      ]
     },
     "execution_count": 10,
     "metadata": {},
     "output_type": "execute_result"
    }
   ],
   "source": [
    "species = asc_group_by(df, 'Specie')\n",
    "print('Size:', species.size)\n",
    "species.head(10)"
   ]
  },
  {
   "cell_type": "code",
   "execution_count": 11,
   "metadata": {},
   "outputs": [
    {
     "data": {
      "text/html": [
       "<div>\n",
       "<style scoped>\n",
       "    .dataframe tbody tr th:only-of-type {\n",
       "        vertical-align: middle;\n",
       "    }\n",
       "\n",
       "    .dataframe tbody tr th {\n",
       "        vertical-align: top;\n",
       "    }\n",
       "\n",
       "    .dataframe thead th {\n",
       "        text-align: right;\n",
       "    }\n",
       "</style>\n",
       "<table border=\"1\" class=\"dataframe\">\n",
       "  <thead>\n",
       "    <tr style=\"text-align: right;\">\n",
       "      <th></th>\n",
       "      <th>Order</th>\n",
       "      <th>Family</th>\n",
       "      <th>Subfamily</th>\n",
       "      <th>Genus</th>\n",
       "      <th>Specie</th>\n",
       "      <th>Observations</th>\n",
       "      <th>url</th>\n",
       "    </tr>\n",
       "  </thead>\n",
       "  <tbody>\n",
       "    <tr>\n",
       "      <th>13670</th>\n",
       "      <td>Perciformes</td>\n",
       "      <td>Centrarchidae</td>\n",
       "      <td>NaN</td>\n",
       "      <td>Lepomis</td>\n",
       "      <td>Lepomis macrochirus</td>\n",
       "      <td>9119</td>\n",
       "      <td>https://www.inaturalist.org/taxa/49591-Lepomis...</td>\n",
       "    </tr>\n",
       "    <tr>\n",
       "      <th>13688</th>\n",
       "      <td>Perciformes</td>\n",
       "      <td>Centrarchidae</td>\n",
       "      <td>NaN</td>\n",
       "      <td>Micropterus</td>\n",
       "      <td>Micropterus salmoides</td>\n",
       "      <td>8615</td>\n",
       "      <td>https://www.inaturalist.org/taxa/49587-Micropt...</td>\n",
       "    </tr>\n",
       "    <tr>\n",
       "      <th>5433</th>\n",
       "      <td>Cypriniformes</td>\n",
       "      <td>Cyprinidae</td>\n",
       "      <td>Cyprininae</td>\n",
       "      <td>Cyprinus</td>\n",
       "      <td>Cyprinus carpio</td>\n",
       "      <td>5299</td>\n",
       "      <td>https://www.inaturalist.org/taxa/53911-Cyprinu...</td>\n",
       "    </tr>\n",
       "    <tr>\n",
       "      <th>23808</th>\n",
       "      <td>Salmoniformes</td>\n",
       "      <td>Salmonidae</td>\n",
       "      <td>Salmoninae</td>\n",
       "      <td>Oncorhynchus</td>\n",
       "      <td>Oncorhynchus mykiss</td>\n",
       "      <td>4199</td>\n",
       "      <td>https://www.inaturalist.org/taxa/47516-Oncorhy...</td>\n",
       "    </tr>\n",
       "    <tr>\n",
       "      <th>8806</th>\n",
       "      <td>Cyprinodontiformes</td>\n",
       "      <td>Poeciliidae</td>\n",
       "      <td>Poeciliinae</td>\n",
       "      <td>Gambusia</td>\n",
       "      <td>Gambusia affinis</td>\n",
       "      <td>3790</td>\n",
       "      <td>https://www.inaturalist.org/taxa/59115-Gambusi...</td>\n",
       "    </tr>\n",
       "    <tr>\n",
       "      <th>...</th>\n",
       "      <td>...</td>\n",
       "      <td>...</td>\n",
       "      <td>...</td>\n",
       "      <td>...</td>\n",
       "      <td>...</td>\n",
       "      <td>...</td>\n",
       "      <td>...</td>\n",
       "    </tr>\n",
       "    <tr>\n",
       "      <th>24336</th>\n",
       "      <td>Scorpaeniformes</td>\n",
       "      <td>Cyclopteridae</td>\n",
       "      <td>NaN</td>\n",
       "      <td>Cyclopterus</td>\n",
       "      <td>Cyclopterus lumpus</td>\n",
       "      <td>107</td>\n",
       "      <td>https://www.inaturalist.org/taxa/60603-Cyclopt...</td>\n",
       "    </tr>\n",
       "    <tr>\n",
       "      <th>21655</th>\n",
       "      <td>Perciformes</td>\n",
       "      <td>Serranidae</td>\n",
       "      <td>Epinephelinae</td>\n",
       "      <td>Cephalopholis</td>\n",
       "      <td>Cephalopholis cyanostigma</td>\n",
       "      <td>107</td>\n",
       "      <td>https://www.inaturalist.org/taxa/96992-Cephalo...</td>\n",
       "    </tr>\n",
       "    <tr>\n",
       "      <th>4911</th>\n",
       "      <td>Cypriniformes</td>\n",
       "      <td>Cyprinidae</td>\n",
       "      <td>Barbinae</td>\n",
       "      <td>Barbus</td>\n",
       "      <td>Barbus barbus</td>\n",
       "      <td>107</td>\n",
       "      <td>https://www.inaturalist.org/taxa/95147-Barbus-...</td>\n",
       "    </tr>\n",
       "    <tr>\n",
       "      <th>10388</th>\n",
       "      <td>Gobiesociformes</td>\n",
       "      <td>Gobiesocidae</td>\n",
       "      <td>Gobiesocinae</td>\n",
       "      <td>Trachelochismus</td>\n",
       "      <td>Trachelochismus pinnulatus</td>\n",
       "      <td>107</td>\n",
       "      <td>https://www.inaturalist.org/taxa/474797-Trache...</td>\n",
       "    </tr>\n",
       "    <tr>\n",
       "      <th>15611</th>\n",
       "      <td>Perciformes</td>\n",
       "      <td>Cichlidae</td>\n",
       "      <td>Pseudocrenilabrinae</td>\n",
       "      <td>Sarotherodon</td>\n",
       "      <td>Sarotherodon melanotheron</td>\n",
       "      <td>107</td>\n",
       "      <td>https://www.inaturalist.org/taxa/230431-Saroth...</td>\n",
       "    </tr>\n",
       "  </tbody>\n",
       "</table>\n",
       "<p>1000 rows × 7 columns</p>\n",
       "</div>"
      ],
      "text/plain": [
       "                    Order         Family            Subfamily  \\\n",
       "13670         Perciformes  Centrarchidae                  NaN   \n",
       "13688         Perciformes  Centrarchidae                  NaN   \n",
       "5433        Cypriniformes     Cyprinidae           Cyprininae   \n",
       "23808       Salmoniformes     Salmonidae           Salmoninae   \n",
       "8806   Cyprinodontiformes    Poeciliidae          Poeciliinae   \n",
       "...                   ...            ...                  ...   \n",
       "24336     Scorpaeniformes  Cyclopteridae                  NaN   \n",
       "21655         Perciformes     Serranidae        Epinephelinae   \n",
       "4911        Cypriniformes     Cyprinidae             Barbinae   \n",
       "10388     Gobiesociformes   Gobiesocidae         Gobiesocinae   \n",
       "15611         Perciformes      Cichlidae  Pseudocrenilabrinae   \n",
       "\n",
       "                 Genus                      Specie  Observations  \\\n",
       "13670          Lepomis         Lepomis macrochirus          9119   \n",
       "13688      Micropterus       Micropterus salmoides          8615   \n",
       "5433          Cyprinus             Cyprinus carpio          5299   \n",
       "23808     Oncorhynchus         Oncorhynchus mykiss          4199   \n",
       "8806          Gambusia            Gambusia affinis          3790   \n",
       "...                ...                         ...           ...   \n",
       "24336      Cyclopterus          Cyclopterus lumpus           107   \n",
       "21655    Cephalopholis   Cephalopholis cyanostigma           107   \n",
       "4911            Barbus               Barbus barbus           107   \n",
       "10388  Trachelochismus  Trachelochismus pinnulatus           107   \n",
       "15611     Sarotherodon   Sarotherodon melanotheron           107   \n",
       "\n",
       "                                                     url  \n",
       "13670  https://www.inaturalist.org/taxa/49591-Lepomis...  \n",
       "13688  https://www.inaturalist.org/taxa/49587-Micropt...  \n",
       "5433   https://www.inaturalist.org/taxa/53911-Cyprinu...  \n",
       "23808  https://www.inaturalist.org/taxa/47516-Oncorhy...  \n",
       "8806   https://www.inaturalist.org/taxa/59115-Gambusi...  \n",
       "...                                                  ...  \n",
       "24336  https://www.inaturalist.org/taxa/60603-Cyclopt...  \n",
       "21655  https://www.inaturalist.org/taxa/96992-Cephalo...  \n",
       "4911   https://www.inaturalist.org/taxa/95147-Barbus-...  \n",
       "10388  https://www.inaturalist.org/taxa/474797-Trache...  \n",
       "15611  https://www.inaturalist.org/taxa/230431-Saroth...  \n",
       "\n",
       "[1000 rows x 7 columns]"
      ]
     },
     "execution_count": 11,
     "metadata": {},
     "output_type": "execute_result"
    }
   ],
   "source": [
    "df_1000 = df.sort_values(by=['Observations'], ascending=False)[:1000]\n",
    "df_1000"
   ]
  },
  {
   "cell_type": "code",
   "execution_count": 12,
   "metadata": {},
   "outputs": [
    {
     "data": {
      "text/html": [
       "<div>\n",
       "<style scoped>\n",
       "    .dataframe tbody tr th:only-of-type {\n",
       "        vertical-align: middle;\n",
       "    }\n",
       "\n",
       "    .dataframe tbody tr th {\n",
       "        vertical-align: top;\n",
       "    }\n",
       "\n",
       "    .dataframe thead th {\n",
       "        text-align: right;\n",
       "    }\n",
       "</style>\n",
       "<table border=\"1\" class=\"dataframe\">\n",
       "  <thead>\n",
       "    <tr style=\"text-align: right;\">\n",
       "      <th></th>\n",
       "      <th>Order</th>\n",
       "      <th>Family</th>\n",
       "      <th>Subfamily</th>\n",
       "      <th>Genus</th>\n",
       "      <th>Specie</th>\n",
       "      <th>Observations</th>\n",
       "      <th>url</th>\n",
       "    </tr>\n",
       "  </thead>\n",
       "  <tbody>\n",
       "    <tr>\n",
       "      <th>count</th>\n",
       "      <td>1000</td>\n",
       "      <td>1000</td>\n",
       "      <td>632</td>\n",
       "      <td>1000</td>\n",
       "      <td>1000</td>\n",
       "      <td>1000.000000</td>\n",
       "      <td>1000</td>\n",
       "    </tr>\n",
       "    <tr>\n",
       "      <th>unique</th>\n",
       "      <td>29</td>\n",
       "      <td>135</td>\n",
       "      <td>101</td>\n",
       "      <td>454</td>\n",
       "      <td>1000</td>\n",
       "      <td>NaN</td>\n",
       "      <td>1000</td>\n",
       "    </tr>\n",
       "    <tr>\n",
       "      <th>top</th>\n",
       "      <td>Perciformes</td>\n",
       "      <td>Pomacentridae</td>\n",
       "      <td>Pomacentrinae</td>\n",
       "      <td>Chaetodon</td>\n",
       "      <td>Hemitaurichthys polylepis</td>\n",
       "      <td>NaN</td>\n",
       "      <td>https://www.inaturalist.org/taxa/52956-Chaetod...</td>\n",
       "    </tr>\n",
       "    <tr>\n",
       "      <th>freq</th>\n",
       "      <td>609</td>\n",
       "      <td>67</td>\n",
       "      <td>57</td>\n",
       "      <td>33</td>\n",
       "      <td>1</td>\n",
       "      <td>NaN</td>\n",
       "      <td>1</td>\n",
       "    </tr>\n",
       "    <tr>\n",
       "      <th>mean</th>\n",
       "      <td>NaN</td>\n",
       "      <td>NaN</td>\n",
       "      <td>NaN</td>\n",
       "      <td>NaN</td>\n",
       "      <td>NaN</td>\n",
       "      <td>362.427000</td>\n",
       "      <td>NaN</td>\n",
       "    </tr>\n",
       "    <tr>\n",
       "      <th>std</th>\n",
       "      <td>NaN</td>\n",
       "      <td>NaN</td>\n",
       "      <td>NaN</td>\n",
       "      <td>NaN</td>\n",
       "      <td>NaN</td>\n",
       "      <td>565.202911</td>\n",
       "      <td>NaN</td>\n",
       "    </tr>\n",
       "    <tr>\n",
       "      <th>min</th>\n",
       "      <td>NaN</td>\n",
       "      <td>NaN</td>\n",
       "      <td>NaN</td>\n",
       "      <td>NaN</td>\n",
       "      <td>NaN</td>\n",
       "      <td>107.000000</td>\n",
       "      <td>NaN</td>\n",
       "    </tr>\n",
       "    <tr>\n",
       "      <th>25%</th>\n",
       "      <td>NaN</td>\n",
       "      <td>NaN</td>\n",
       "      <td>NaN</td>\n",
       "      <td>NaN</td>\n",
       "      <td>NaN</td>\n",
       "      <td>149.750000</td>\n",
       "      <td>NaN</td>\n",
       "    </tr>\n",
       "    <tr>\n",
       "      <th>50%</th>\n",
       "      <td>NaN</td>\n",
       "      <td>NaN</td>\n",
       "      <td>NaN</td>\n",
       "      <td>NaN</td>\n",
       "      <td>NaN</td>\n",
       "      <td>225.000000</td>\n",
       "      <td>NaN</td>\n",
       "    </tr>\n",
       "    <tr>\n",
       "      <th>75%</th>\n",
       "      <td>NaN</td>\n",
       "      <td>NaN</td>\n",
       "      <td>NaN</td>\n",
       "      <td>NaN</td>\n",
       "      <td>NaN</td>\n",
       "      <td>395.500000</td>\n",
       "      <td>NaN</td>\n",
       "    </tr>\n",
       "    <tr>\n",
       "      <th>max</th>\n",
       "      <td>NaN</td>\n",
       "      <td>NaN</td>\n",
       "      <td>NaN</td>\n",
       "      <td>NaN</td>\n",
       "      <td>NaN</td>\n",
       "      <td>9119.000000</td>\n",
       "      <td>NaN</td>\n",
       "    </tr>\n",
       "  </tbody>\n",
       "</table>\n",
       "</div>"
      ],
      "text/plain": [
       "              Order         Family      Subfamily      Genus  \\\n",
       "count          1000           1000            632       1000   \n",
       "unique           29            135            101        454   \n",
       "top     Perciformes  Pomacentridae  Pomacentrinae  Chaetodon   \n",
       "freq            609             67             57         33   \n",
       "mean            NaN            NaN            NaN        NaN   \n",
       "std             NaN            NaN            NaN        NaN   \n",
       "min             NaN            NaN            NaN        NaN   \n",
       "25%             NaN            NaN            NaN        NaN   \n",
       "50%             NaN            NaN            NaN        NaN   \n",
       "75%             NaN            NaN            NaN        NaN   \n",
       "max             NaN            NaN            NaN        NaN   \n",
       "\n",
       "                           Specie  Observations  \\\n",
       "count                        1000   1000.000000   \n",
       "unique                       1000           NaN   \n",
       "top     Hemitaurichthys polylepis           NaN   \n",
       "freq                            1           NaN   \n",
       "mean                          NaN    362.427000   \n",
       "std                           NaN    565.202911   \n",
       "min                           NaN    107.000000   \n",
       "25%                           NaN    149.750000   \n",
       "50%                           NaN    225.000000   \n",
       "75%                           NaN    395.500000   \n",
       "max                           NaN   9119.000000   \n",
       "\n",
       "                                                      url  \n",
       "count                                                1000  \n",
       "unique                                               1000  \n",
       "top     https://www.inaturalist.org/taxa/52956-Chaetod...  \n",
       "freq                                                    1  \n",
       "mean                                                  NaN  \n",
       "std                                                   NaN  \n",
       "min                                                   NaN  \n",
       "25%                                                   NaN  \n",
       "50%                                                   NaN  \n",
       "75%                                                   NaN  \n",
       "max                                                   NaN  "
      ]
     },
     "execution_count": 12,
     "metadata": {},
     "output_type": "execute_result"
    }
   ],
   "source": [
    "df_1000.describe(include='all')"
   ]
  },
  {
   "cell_type": "code",
   "execution_count": 13,
   "metadata": {},
   "outputs": [
    {
     "data": {
      "text/plain": [
       "['Centrarchidae', 'Cyprinidae', 'Pomacentridae']"
      ]
     },
     "execution_count": 13,
     "metadata": {},
     "output_type": "execute_result"
    }
   ],
   "source": [
    "limit = 3\n",
    "selected_families = list(families[:limit].index)\n",
    "selected_families"
   ]
  },
  {
   "cell_type": "code",
   "execution_count": 14,
   "metadata": {},
   "outputs": [
    {
     "data": {
      "text/html": [
       "<div>\n",
       "<style scoped>\n",
       "    .dataframe tbody tr th:only-of-type {\n",
       "        vertical-align: middle;\n",
       "    }\n",
       "\n",
       "    .dataframe tbody tr th {\n",
       "        vertical-align: top;\n",
       "    }\n",
       "\n",
       "    .dataframe thead th {\n",
       "        text-align: right;\n",
       "    }\n",
       "</style>\n",
       "<table border=\"1\" class=\"dataframe\">\n",
       "  <thead>\n",
       "    <tr style=\"text-align: right;\">\n",
       "      <th></th>\n",
       "      <th>Order</th>\n",
       "      <th>Family</th>\n",
       "      <th>Subfamily</th>\n",
       "      <th>Genus</th>\n",
       "      <th>Specie</th>\n",
       "      <th>Observations</th>\n",
       "      <th>url</th>\n",
       "    </tr>\n",
       "  </thead>\n",
       "  <tbody>\n",
       "    <tr>\n",
       "      <th>13670</th>\n",
       "      <td>Perciformes</td>\n",
       "      <td>Centrarchidae</td>\n",
       "      <td>NaN</td>\n",
       "      <td>Lepomis</td>\n",
       "      <td>Lepomis macrochirus</td>\n",
       "      <td>9119</td>\n",
       "      <td>https://www.inaturalist.org/taxa/49591-Lepomis...</td>\n",
       "    </tr>\n",
       "    <tr>\n",
       "      <th>13688</th>\n",
       "      <td>Perciformes</td>\n",
       "      <td>Centrarchidae</td>\n",
       "      <td>NaN</td>\n",
       "      <td>Micropterus</td>\n",
       "      <td>Micropterus salmoides</td>\n",
       "      <td>8615</td>\n",
       "      <td>https://www.inaturalist.org/taxa/49587-Micropt...</td>\n",
       "    </tr>\n",
       "    <tr>\n",
       "      <th>5433</th>\n",
       "      <td>Cypriniformes</td>\n",
       "      <td>Cyprinidae</td>\n",
       "      <td>Cyprininae</td>\n",
       "      <td>Cyprinus</td>\n",
       "      <td>Cyprinus carpio</td>\n",
       "      <td>5299</td>\n",
       "      <td>https://www.inaturalist.org/taxa/53911-Cyprinu...</td>\n",
       "    </tr>\n",
       "    <tr>\n",
       "      <th>5452</th>\n",
       "      <td>Cypriniformes</td>\n",
       "      <td>Cyprinidae</td>\n",
       "      <td>Cyprininae</td>\n",
       "      <td>Cyprinus</td>\n",
       "      <td>Cyprinus rubrofuscus</td>\n",
       "      <td>3511</td>\n",
       "      <td>https://www.inaturalist.org/taxa/187316-Cyprin...</td>\n",
       "    </tr>\n",
       "    <tr>\n",
       "      <th>13666</th>\n",
       "      <td>Perciformes</td>\n",
       "      <td>Centrarchidae</td>\n",
       "      <td>NaN</td>\n",
       "      <td>Lepomis</td>\n",
       "      <td>Lepomis cyanellus</td>\n",
       "      <td>3375</td>\n",
       "      <td>https://www.inaturalist.org/taxa/58636-Lepomis...</td>\n",
       "    </tr>\n",
       "    <tr>\n",
       "      <th>...</th>\n",
       "      <td>...</td>\n",
       "      <td>...</td>\n",
       "      <td>...</td>\n",
       "      <td>...</td>\n",
       "      <td>...</td>\n",
       "      <td>...</td>\n",
       "      <td>...</td>\n",
       "    </tr>\n",
       "    <tr>\n",
       "      <th>20574</th>\n",
       "      <td>Perciformes</td>\n",
       "      <td>Pomacentridae</td>\n",
       "      <td>Pomacentrinae</td>\n",
       "      <td>Chrysiptera</td>\n",
       "      <td>Chrysiptera taupou</td>\n",
       "      <td>111</td>\n",
       "      <td>https://www.inaturalist.org/taxa/181017-Chrysi...</td>\n",
       "    </tr>\n",
       "    <tr>\n",
       "      <th>20759</th>\n",
       "      <td>Perciformes</td>\n",
       "      <td>Pomacentridae</td>\n",
       "      <td>Pomacentrinae</td>\n",
       "      <td>Stegastes</td>\n",
       "      <td>Stegastes marginatus</td>\n",
       "      <td>111</td>\n",
       "      <td>https://www.inaturalist.org/taxa/154336-Stegas...</td>\n",
       "    </tr>\n",
       "    <tr>\n",
       "      <th>20720</th>\n",
       "      <td>Perciformes</td>\n",
       "      <td>Pomacentridae</td>\n",
       "      <td>Pomacentrinae</td>\n",
       "      <td>Pomacentrus</td>\n",
       "      <td>Pomacentrus sulfureus</td>\n",
       "      <td>108</td>\n",
       "      <td>https://www.inaturalist.org/taxa/119310-Pomace...</td>\n",
       "    </tr>\n",
       "    <tr>\n",
       "      <th>20428</th>\n",
       "      <td>Perciformes</td>\n",
       "      <td>Pomacentridae</td>\n",
       "      <td>Pomacentrinae</td>\n",
       "      <td>Amblyglyphidodon</td>\n",
       "      <td>Amblyglyphidodon leucogaster</td>\n",
       "      <td>108</td>\n",
       "      <td>https://www.inaturalist.org/taxa/181015-Amblyg...</td>\n",
       "    </tr>\n",
       "    <tr>\n",
       "      <th>4911</th>\n",
       "      <td>Cypriniformes</td>\n",
       "      <td>Cyprinidae</td>\n",
       "      <td>Barbinae</td>\n",
       "      <td>Barbus</td>\n",
       "      <td>Barbus barbus</td>\n",
       "      <td>107</td>\n",
       "      <td>https://www.inaturalist.org/taxa/95147-Barbus-...</td>\n",
       "    </tr>\n",
       "  </tbody>\n",
       "</table>\n",
       "<p>144 rows × 7 columns</p>\n",
       "</div>"
      ],
      "text/plain": [
       "               Order         Family      Subfamily             Genus  \\\n",
       "13670    Perciformes  Centrarchidae            NaN           Lepomis   \n",
       "13688    Perciformes  Centrarchidae            NaN       Micropterus   \n",
       "5433   Cypriniformes     Cyprinidae     Cyprininae          Cyprinus   \n",
       "5452   Cypriniformes     Cyprinidae     Cyprininae          Cyprinus   \n",
       "13666    Perciformes  Centrarchidae            NaN           Lepomis   \n",
       "...              ...            ...            ...               ...   \n",
       "20574    Perciformes  Pomacentridae  Pomacentrinae       Chrysiptera   \n",
       "20759    Perciformes  Pomacentridae  Pomacentrinae         Stegastes   \n",
       "20720    Perciformes  Pomacentridae  Pomacentrinae       Pomacentrus   \n",
       "20428    Perciformes  Pomacentridae  Pomacentrinae  Amblyglyphidodon   \n",
       "4911   Cypriniformes     Cyprinidae       Barbinae            Barbus   \n",
       "\n",
       "                             Specie  Observations  \\\n",
       "13670           Lepomis macrochirus          9119   \n",
       "13688         Micropterus salmoides          8615   \n",
       "5433                Cyprinus carpio          5299   \n",
       "5452           Cyprinus rubrofuscus          3511   \n",
       "13666             Lepomis cyanellus          3375   \n",
       "...                             ...           ...   \n",
       "20574            Chrysiptera taupou           111   \n",
       "20759          Stegastes marginatus           111   \n",
       "20720         Pomacentrus sulfureus           108   \n",
       "20428  Amblyglyphidodon leucogaster           108   \n",
       "4911                  Barbus barbus           107   \n",
       "\n",
       "                                                     url  \n",
       "13670  https://www.inaturalist.org/taxa/49591-Lepomis...  \n",
       "13688  https://www.inaturalist.org/taxa/49587-Micropt...  \n",
       "5433   https://www.inaturalist.org/taxa/53911-Cyprinu...  \n",
       "5452   https://www.inaturalist.org/taxa/187316-Cyprin...  \n",
       "13666  https://www.inaturalist.org/taxa/58636-Lepomis...  \n",
       "...                                                  ...  \n",
       "20574  https://www.inaturalist.org/taxa/181017-Chrysi...  \n",
       "20759  https://www.inaturalist.org/taxa/154336-Stegas...  \n",
       "20720  https://www.inaturalist.org/taxa/119310-Pomace...  \n",
       "20428  https://www.inaturalist.org/taxa/181015-Amblyg...  \n",
       "4911   https://www.inaturalist.org/taxa/95147-Barbus-...  \n",
       "\n",
       "[144 rows x 7 columns]"
      ]
     },
     "execution_count": 14,
     "metadata": {},
     "output_type": "execute_result"
    }
   ],
   "source": [
    "df_selected = df_1000[df_1000['Family'].isin(selected_families)]\n",
    "df_selected"
   ]
  },
  {
   "cell_type": "code",
   "execution_count": 15,
   "metadata": {},
   "outputs": [
    {
     "data": {
      "text/html": [
       "<div>\n",
       "<style scoped>\n",
       "    .dataframe tbody tr th:only-of-type {\n",
       "        vertical-align: middle;\n",
       "    }\n",
       "\n",
       "    .dataframe tbody tr th {\n",
       "        vertical-align: top;\n",
       "    }\n",
       "\n",
       "    .dataframe thead th {\n",
       "        text-align: right;\n",
       "    }\n",
       "</style>\n",
       "<table border=\"1\" class=\"dataframe\">\n",
       "  <thead>\n",
       "    <tr style=\"text-align: right;\">\n",
       "      <th></th>\n",
       "      <th>Order</th>\n",
       "      <th>Family</th>\n",
       "      <th>Subfamily</th>\n",
       "      <th>Genus</th>\n",
       "      <th>Specie</th>\n",
       "      <th>Observations</th>\n",
       "      <th>url</th>\n",
       "    </tr>\n",
       "  </thead>\n",
       "  <tbody>\n",
       "    <tr>\n",
       "      <th>count</th>\n",
       "      <td>144</td>\n",
       "      <td>144</td>\n",
       "      <td>121</td>\n",
       "      <td>144</td>\n",
       "      <td>144</td>\n",
       "      <td>144.000000</td>\n",
       "      <td>144</td>\n",
       "    </tr>\n",
       "    <tr>\n",
       "      <th>unique</th>\n",
       "      <td>2</td>\n",
       "      <td>3</td>\n",
       "      <td>11</td>\n",
       "      <td>56</td>\n",
       "      <td>144</td>\n",
       "      <td>NaN</td>\n",
       "      <td>144</td>\n",
       "    </tr>\n",
       "    <tr>\n",
       "      <th>top</th>\n",
       "      <td>Perciformes</td>\n",
       "      <td>Pomacentridae</td>\n",
       "      <td>Pomacentrinae</td>\n",
       "      <td>Lepomis</td>\n",
       "      <td>Rhinichthys cataractae</td>\n",
       "      <td>NaN</td>\n",
       "      <td>https://www.inaturalist.org/taxa/48558-Plectro...</td>\n",
       "    </tr>\n",
       "    <tr>\n",
       "      <th>freq</th>\n",
       "      <td>90</td>\n",
       "      <td>67</td>\n",
       "      <td>57</td>\n",
       "      <td>12</td>\n",
       "      <td>1</td>\n",
       "      <td>NaN</td>\n",
       "      <td>1</td>\n",
       "    </tr>\n",
       "    <tr>\n",
       "      <th>mean</th>\n",
       "      <td>NaN</td>\n",
       "      <td>NaN</td>\n",
       "      <td>NaN</td>\n",
       "      <td>NaN</td>\n",
       "      <td>NaN</td>\n",
       "      <td>621.333333</td>\n",
       "      <td>NaN</td>\n",
       "    </tr>\n",
       "    <tr>\n",
       "      <th>std</th>\n",
       "      <td>NaN</td>\n",
       "      <td>NaN</td>\n",
       "      <td>NaN</td>\n",
       "      <td>NaN</td>\n",
       "      <td>NaN</td>\n",
       "      <td>1229.371304</td>\n",
       "      <td>NaN</td>\n",
       "    </tr>\n",
       "    <tr>\n",
       "      <th>min</th>\n",
       "      <td>NaN</td>\n",
       "      <td>NaN</td>\n",
       "      <td>NaN</td>\n",
       "      <td>NaN</td>\n",
       "      <td>NaN</td>\n",
       "      <td>107.000000</td>\n",
       "      <td>NaN</td>\n",
       "    </tr>\n",
       "    <tr>\n",
       "      <th>25%</th>\n",
       "      <td>NaN</td>\n",
       "      <td>NaN</td>\n",
       "      <td>NaN</td>\n",
       "      <td>NaN</td>\n",
       "      <td>NaN</td>\n",
       "      <td>161.000000</td>\n",
       "      <td>NaN</td>\n",
       "    </tr>\n",
       "    <tr>\n",
       "      <th>50%</th>\n",
       "      <td>NaN</td>\n",
       "      <td>NaN</td>\n",
       "      <td>NaN</td>\n",
       "      <td>NaN</td>\n",
       "      <td>NaN</td>\n",
       "      <td>268.500000</td>\n",
       "      <td>NaN</td>\n",
       "    </tr>\n",
       "    <tr>\n",
       "      <th>75%</th>\n",
       "      <td>NaN</td>\n",
       "      <td>NaN</td>\n",
       "      <td>NaN</td>\n",
       "      <td>NaN</td>\n",
       "      <td>NaN</td>\n",
       "      <td>478.250000</td>\n",
       "      <td>NaN</td>\n",
       "    </tr>\n",
       "    <tr>\n",
       "      <th>max</th>\n",
       "      <td>NaN</td>\n",
       "      <td>NaN</td>\n",
       "      <td>NaN</td>\n",
       "      <td>NaN</td>\n",
       "      <td>NaN</td>\n",
       "      <td>9119.000000</td>\n",
       "      <td>NaN</td>\n",
       "    </tr>\n",
       "  </tbody>\n",
       "</table>\n",
       "</div>"
      ],
      "text/plain": [
       "              Order         Family      Subfamily    Genus  \\\n",
       "count           144            144            121      144   \n",
       "unique            2              3             11       56   \n",
       "top     Perciformes  Pomacentridae  Pomacentrinae  Lepomis   \n",
       "freq             90             67             57       12   \n",
       "mean            NaN            NaN            NaN      NaN   \n",
       "std             NaN            NaN            NaN      NaN   \n",
       "min             NaN            NaN            NaN      NaN   \n",
       "25%             NaN            NaN            NaN      NaN   \n",
       "50%             NaN            NaN            NaN      NaN   \n",
       "75%             NaN            NaN            NaN      NaN   \n",
       "max             NaN            NaN            NaN      NaN   \n",
       "\n",
       "                        Specie  Observations  \\\n",
       "count                      144    144.000000   \n",
       "unique                     144           NaN   \n",
       "top     Rhinichthys cataractae           NaN   \n",
       "freq                         1           NaN   \n",
       "mean                       NaN    621.333333   \n",
       "std                        NaN   1229.371304   \n",
       "min                        NaN    107.000000   \n",
       "25%                        NaN    161.000000   \n",
       "50%                        NaN    268.500000   \n",
       "75%                        NaN    478.250000   \n",
       "max                        NaN   9119.000000   \n",
       "\n",
       "                                                      url  \n",
       "count                                                 144  \n",
       "unique                                                144  \n",
       "top     https://www.inaturalist.org/taxa/48558-Plectro...  \n",
       "freq                                                    1  \n",
       "mean                                                  NaN  \n",
       "std                                                   NaN  \n",
       "min                                                   NaN  \n",
       "25%                                                   NaN  \n",
       "50%                                                   NaN  \n",
       "75%                                                   NaN  \n",
       "max                                                   NaN  "
      ]
     },
     "execution_count": 15,
     "metadata": {},
     "output_type": "execute_result"
    }
   ],
   "source": [
    "df_selected.describe(include='all')"
   ]
  },
  {
   "cell_type": "code",
   "execution_count": 16,
   "metadata": {},
   "outputs": [
    {
     "data": {
      "text/plain": [
       "<matplotlib.axes._subplots.AxesSubplot at 0x7fcb8a9cf290>"
      ]
     },
     "execution_count": 16,
     "metadata": {},
     "output_type": "execute_result"
    },
    {
     "data": {
      "image/png": "[encoded data removed]",
      "text/plain": [
       "<Figure size 2160x360 with 1 Axes>"
      ]
     },
     "metadata": {
      "needs_background": "light"
     },
     "output_type": "display_data"
    }
   ],
   "source": [
    "df_selected.plot(x='Family', y='Observations', kind='bar', figsize=(30,5))"
   ]
  },
  {
   "cell_type": "code",
   "execution_count": 17,
   "metadata": {},
   "outputs": [
    {
     "data": {
      "text/html": [
       "<div>\n",
       "<style scoped>\n",
       "    .dataframe tbody tr th:only-of-type {\n",
       "        vertical-align: middle;\n",
       "    }\n",
       "\n",
       "    .dataframe tbody tr th {\n",
       "        vertical-align: top;\n",
       "    }\n",
       "\n",
       "    .dataframe thead th {\n",
       "        text-align: right;\n",
       "    }\n",
       "</style>\n",
       "<table border=\"1\" class=\"dataframe\">\n",
       "  <thead>\n",
       "    <tr style=\"text-align: right;\">\n",
       "      <th></th>\n",
       "      <th>Order</th>\n",
       "      <th>Family</th>\n",
       "      <th>Subfamily</th>\n",
       "      <th>Genus</th>\n",
       "      <th>Specie</th>\n",
       "      <th>url</th>\n",
       "    </tr>\n",
       "  </thead>\n",
       "  <tbody>\n",
       "    <tr>\n",
       "      <th>count</th>\n",
       "      <td>144</td>\n",
       "      <td>144</td>\n",
       "      <td>121</td>\n",
       "      <td>144</td>\n",
       "      <td>144</td>\n",
       "      <td>144</td>\n",
       "    </tr>\n",
       "    <tr>\n",
       "      <th>unique</th>\n",
       "      <td>2</td>\n",
       "      <td>3</td>\n",
       "      <td>11</td>\n",
       "      <td>56</td>\n",
       "      <td>144</td>\n",
       "      <td>144</td>\n",
       "    </tr>\n",
       "    <tr>\n",
       "      <th>top</th>\n",
       "      <td>Perciformes</td>\n",
       "      <td>Pomacentridae</td>\n",
       "      <td>Pomacentrinae</td>\n",
       "      <td>Lepomis</td>\n",
       "      <td>Rhinichthys cataractae</td>\n",
       "      <td>https://www.inaturalist.org/taxa/48558-Plectro...</td>\n",
       "    </tr>\n",
       "    <tr>\n",
       "      <th>freq</th>\n",
       "      <td>90</td>\n",
       "      <td>67</td>\n",
       "      <td>57</td>\n",
       "      <td>12</td>\n",
       "      <td>1</td>\n",
       "      <td>1</td>\n",
       "    </tr>\n",
       "  </tbody>\n",
       "</table>\n",
       "</div>"
      ],
      "text/plain": [
       "              Order         Family      Subfamily    Genus  \\\n",
       "count           144            144            121      144   \n",
       "unique            2              3             11       56   \n",
       "top     Perciformes  Pomacentridae  Pomacentrinae  Lepomis   \n",
       "freq             90             67             57       12   \n",
       "\n",
       "                        Specie  \\\n",
       "count                      144   \n",
       "unique                     144   \n",
       "top     Rhinichthys cataractae   \n",
       "freq                         1   \n",
       "\n",
       "                                                      url  \n",
       "count                                                 144  \n",
       "unique                                                144  \n",
       "top     https://www.inaturalist.org/taxa/48558-Plectro...  \n",
       "freq                                                    1  "
      ]
     },
     "execution_count": 17,
     "metadata": {},
     "output_type": "execute_result"
    }
   ],
   "source": [
    "df_selected.describe(include = 'object')"
   ]
  },
  {
   "cell_type": "code",
   "execution_count": 18,
   "metadata": {},
   "outputs": [],
   "source": [
    "def count_nulls(df, column):\n",
    "    return df[column].isnull().sum()"
   ]
  },
  {
   "cell_type": "code",
   "execution_count": 19,
   "metadata": {},
   "outputs": [
    {
     "name": "stdout",
     "output_type": "stream",
     "text": [
      "Order contains 0 nan values.\n",
      "Family contains 0 nan values.\n",
      "Subfamily contains 23 nan values.\n",
      "Genus contains 0 nan values.\n",
      "Specie contains 0 nan values.\n"
     ]
    }
   ],
   "source": [
    "print(f\"Order contains {count_nulls(df_selected, 'Order')} nan values.\")\n",
    "print(f\"Family contains {count_nulls(df_selected, 'Family')} nan values.\")\n",
    "print(f\"Subfamily contains {count_nulls(df_selected, 'Subfamily')} nan values.\")\n",
    "print(f\"Genus contains {count_nulls(df_selected, 'Genus')} nan values.\")\n",
    "print(f\"Specie contains {count_nulls(df_selected, 'Specie')} nan values.\")"
   ]
  },
  {
   "cell_type": "code",
   "execution_count": 20,
   "metadata": {
    "scrolled": false
   },
   "outputs": [
    {
     "data": {
      "text/html": [
       "<div>\n",
       "<style scoped>\n",
       "    .dataframe tbody tr th:only-of-type {\n",
       "        vertical-align: middle;\n",
       "    }\n",
       "\n",
       "    .dataframe tbody tr th {\n",
       "        vertical-align: top;\n",
       "    }\n",
       "\n",
       "    .dataframe thead th {\n",
       "        text-align: right;\n",
       "    }\n",
       "</style>\n",
       "<table border=\"1\" class=\"dataframe\">\n",
       "  <thead>\n",
       "    <tr style=\"text-align: right;\">\n",
       "      <th></th>\n",
       "      <th>Order</th>\n",
       "      <th>Family</th>\n",
       "      <th>Subfamily</th>\n",
       "      <th>Genus</th>\n",
       "      <th>Specie</th>\n",
       "      <th>Observations</th>\n",
       "      <th>url</th>\n",
       "    </tr>\n",
       "  </thead>\n",
       "  <tbody>\n",
       "    <tr>\n",
       "      <th>13670</th>\n",
       "      <td>Perciformes</td>\n",
       "      <td>Centrarchidae</td>\n",
       "      <td>NaN</td>\n",
       "      <td>Lepomis</td>\n",
       "      <td>Lepomis macrochirus</td>\n",
       "      <td>9119</td>\n",
       "      <td>https://www.inaturalist.org/taxa/49591-Lepomis...</td>\n",
       "    </tr>\n",
       "    <tr>\n",
       "      <th>13688</th>\n",
       "      <td>Perciformes</td>\n",
       "      <td>Centrarchidae</td>\n",
       "      <td>NaN</td>\n",
       "      <td>Micropterus</td>\n",
       "      <td>Micropterus salmoides</td>\n",
       "      <td>8615</td>\n",
       "      <td>https://www.inaturalist.org/taxa/49587-Micropt...</td>\n",
       "    </tr>\n",
       "    <tr>\n",
       "      <th>13666</th>\n",
       "      <td>Perciformes</td>\n",
       "      <td>Centrarchidae</td>\n",
       "      <td>NaN</td>\n",
       "      <td>Lepomis</td>\n",
       "      <td>Lepomis cyanellus</td>\n",
       "      <td>3375</td>\n",
       "      <td>https://www.inaturalist.org/taxa/58636-Lepomis...</td>\n",
       "    </tr>\n",
       "    <tr>\n",
       "      <th>13667</th>\n",
       "      <td>Perciformes</td>\n",
       "      <td>Centrarchidae</td>\n",
       "      <td>NaN</td>\n",
       "      <td>Lepomis</td>\n",
       "      <td>Lepomis gibbosus</td>\n",
       "      <td>2969</td>\n",
       "      <td>https://www.inaturalist.org/taxa/49614-Lepomis...</td>\n",
       "    </tr>\n",
       "    <tr>\n",
       "      <th>13682</th>\n",
       "      <td>Perciformes</td>\n",
       "      <td>Centrarchidae</td>\n",
       "      <td>NaN</td>\n",
       "      <td>Micropterus</td>\n",
       "      <td>Micropterus dolomieu</td>\n",
       "      <td>2933</td>\n",
       "      <td>https://www.inaturalist.org/taxa/49590-Micropt...</td>\n",
       "    </tr>\n",
       "    <tr>\n",
       "      <th>13672</th>\n",
       "      <td>Perciformes</td>\n",
       "      <td>Centrarchidae</td>\n",
       "      <td>NaN</td>\n",
       "      <td>Lepomis</td>\n",
       "      <td>Lepomis megalotis</td>\n",
       "      <td>2045</td>\n",
       "      <td>https://www.inaturalist.org/taxa/58635-Lepomis...</td>\n",
       "    </tr>\n",
       "    <tr>\n",
       "      <th>13665</th>\n",
       "      <td>Perciformes</td>\n",
       "      <td>Centrarchidae</td>\n",
       "      <td>NaN</td>\n",
       "      <td>Lepomis</td>\n",
       "      <td>Lepomis auritus</td>\n",
       "      <td>1628</td>\n",
       "      <td>https://www.inaturalist.org/taxa/85365-Lepomis...</td>\n",
       "    </tr>\n",
       "    <tr>\n",
       "      <th>13693</th>\n",
       "      <td>Perciformes</td>\n",
       "      <td>Centrarchidae</td>\n",
       "      <td>NaN</td>\n",
       "      <td>Pomoxis</td>\n",
       "      <td>Pomoxis nigromaculatus</td>\n",
       "      <td>1521</td>\n",
       "      <td>https://www.inaturalist.org/taxa/49594-Pomoxis...</td>\n",
       "    </tr>\n",
       "    <tr>\n",
       "      <th>13659</th>\n",
       "      <td>Perciformes</td>\n",
       "      <td>Centrarchidae</td>\n",
       "      <td>NaN</td>\n",
       "      <td>Ambloplites</td>\n",
       "      <td>Ambloplites rupestris</td>\n",
       "      <td>1475</td>\n",
       "      <td>https://www.inaturalist.org/taxa/58637-Amblopl...</td>\n",
       "    </tr>\n",
       "    <tr>\n",
       "      <th>13668</th>\n",
       "      <td>Perciformes</td>\n",
       "      <td>Centrarchidae</td>\n",
       "      <td>NaN</td>\n",
       "      <td>Lepomis</td>\n",
       "      <td>Lepomis gulosus</td>\n",
       "      <td>922</td>\n",
       "      <td>https://www.inaturalist.org/taxa/104252-Lepomi...</td>\n",
       "    </tr>\n",
       "    <tr>\n",
       "      <th>13673</th>\n",
       "      <td>Perciformes</td>\n",
       "      <td>Centrarchidae</td>\n",
       "      <td>NaN</td>\n",
       "      <td>Lepomis</td>\n",
       "      <td>Lepomis microlophus</td>\n",
       "      <td>898</td>\n",
       "      <td>https://www.inaturalist.org/taxa/85127-Lepomis...</td>\n",
       "    </tr>\n",
       "    <tr>\n",
       "      <th>13692</th>\n",
       "      <td>Perciformes</td>\n",
       "      <td>Centrarchidae</td>\n",
       "      <td>NaN</td>\n",
       "      <td>Pomoxis</td>\n",
       "      <td>Pomoxis annularis</td>\n",
       "      <td>600</td>\n",
       "      <td>https://www.inaturalist.org/taxa/49593-Pomoxis...</td>\n",
       "    </tr>\n",
       "    <tr>\n",
       "      <th>13687</th>\n",
       "      <td>Perciformes</td>\n",
       "      <td>Centrarchidae</td>\n",
       "      <td>NaN</td>\n",
       "      <td>Micropterus</td>\n",
       "      <td>Micropterus punctulatus</td>\n",
       "      <td>390</td>\n",
       "      <td>https://www.inaturalist.org/taxa/105821-Microp...</td>\n",
       "    </tr>\n",
       "    <tr>\n",
       "      <th>13683</th>\n",
       "      <td>Perciformes</td>\n",
       "      <td>Centrarchidae</td>\n",
       "      <td>NaN</td>\n",
       "      <td>Micropterus</td>\n",
       "      <td>Micropterus floridanus</td>\n",
       "      <td>311</td>\n",
       "      <td>https://www.inaturalist.org/taxa/355459-Microp...</td>\n",
       "    </tr>\n",
       "    <tr>\n",
       "      <th>13690</th>\n",
       "      <td>Perciformes</td>\n",
       "      <td>Centrarchidae</td>\n",
       "      <td>NaN</td>\n",
       "      <td>Micropterus</td>\n",
       "      <td>Micropterus treculii</td>\n",
       "      <td>271</td>\n",
       "      <td>https://www.inaturalist.org/taxa/105822-Microp...</td>\n",
       "    </tr>\n",
       "    <tr>\n",
       "      <th>13671</th>\n",
       "      <td>Perciformes</td>\n",
       "      <td>Centrarchidae</td>\n",
       "      <td>NaN</td>\n",
       "      <td>Lepomis</td>\n",
       "      <td>Lepomis marginatus</td>\n",
       "      <td>260</td>\n",
       "      <td>https://www.inaturalist.org/taxa/104254-Lepomi...</td>\n",
       "    </tr>\n",
       "    <tr>\n",
       "      <th>13661</th>\n",
       "      <td>Perciformes</td>\n",
       "      <td>Centrarchidae</td>\n",
       "      <td>NaN</td>\n",
       "      <td>Centrarchus</td>\n",
       "      <td>Centrarchus macropterus</td>\n",
       "      <td>258</td>\n",
       "      <td>https://www.inaturalist.org/taxa/96911-Centrar...</td>\n",
       "    </tr>\n",
       "    <tr>\n",
       "      <th>13676</th>\n",
       "      <td>Perciformes</td>\n",
       "      <td>Centrarchidae</td>\n",
       "      <td>NaN</td>\n",
       "      <td>Lepomis</td>\n",
       "      <td>Lepomis punctatus</td>\n",
       "      <td>251</td>\n",
       "      <td>https://www.inaturalist.org/taxa/104256-Lepomi...</td>\n",
       "    </tr>\n",
       "    <tr>\n",
       "      <th>13669</th>\n",
       "      <td>Perciformes</td>\n",
       "      <td>Centrarchidae</td>\n",
       "      <td>NaN</td>\n",
       "      <td>Lepomis</td>\n",
       "      <td>Lepomis humilis</td>\n",
       "      <td>201</td>\n",
       "      <td>https://www.inaturalist.org/taxa/104253-Lepomi...</td>\n",
       "    </tr>\n",
       "    <tr>\n",
       "      <th>13674</th>\n",
       "      <td>Perciformes</td>\n",
       "      <td>Centrarchidae</td>\n",
       "      <td>NaN</td>\n",
       "      <td>Lepomis</td>\n",
       "      <td>Lepomis miniatus</td>\n",
       "      <td>198</td>\n",
       "      <td>https://www.inaturalist.org/taxa/104255-Lepomi...</td>\n",
       "    </tr>\n",
       "    <tr>\n",
       "      <th>13663</th>\n",
       "      <td>Perciformes</td>\n",
       "      <td>Centrarchidae</td>\n",
       "      <td>NaN</td>\n",
       "      <td>Enneacanthus</td>\n",
       "      <td>Enneacanthus gloriosus</td>\n",
       "      <td>119</td>\n",
       "      <td>https://www.inaturalist.org/taxa/99992-Enneaca...</td>\n",
       "    </tr>\n",
       "    <tr>\n",
       "      <th>13675</th>\n",
       "      <td>Perciformes</td>\n",
       "      <td>Centrarchidae</td>\n",
       "      <td>NaN</td>\n",
       "      <td>Lepomis</td>\n",
       "      <td>Lepomis peltastes</td>\n",
       "      <td>118</td>\n",
       "      <td>https://www.inaturalist.org/taxa/358056-Lepomi...</td>\n",
       "    </tr>\n",
       "    <tr>\n",
       "      <th>13685</th>\n",
       "      <td>Perciformes</td>\n",
       "      <td>Centrarchidae</td>\n",
       "      <td>NaN</td>\n",
       "      <td>Micropterus</td>\n",
       "      <td>Micropterus henshalli</td>\n",
       "      <td>115</td>\n",
       "      <td>https://www.inaturalist.org/taxa/225143-Microp...</td>\n",
       "    </tr>\n",
       "  </tbody>\n",
       "</table>\n",
       "</div>"
      ],
      "text/plain": [
       "             Order         Family Subfamily         Genus  \\\n",
       "13670  Perciformes  Centrarchidae       NaN       Lepomis   \n",
       "13688  Perciformes  Centrarchidae       NaN   Micropterus   \n",
       "13666  Perciformes  Centrarchidae       NaN       Lepomis   \n",
       "13667  Perciformes  Centrarchidae       NaN       Lepomis   \n",
       "13682  Perciformes  Centrarchidae       NaN   Micropterus   \n",
       "13672  Perciformes  Centrarchidae       NaN       Lepomis   \n",
       "13665  Perciformes  Centrarchidae       NaN       Lepomis   \n",
       "13693  Perciformes  Centrarchidae       NaN       Pomoxis   \n",
       "13659  Perciformes  Centrarchidae       NaN   Ambloplites   \n",
       "13668  Perciformes  Centrarchidae       NaN       Lepomis   \n",
       "13673  Perciformes  Centrarchidae       NaN       Lepomis   \n",
       "13692  Perciformes  Centrarchidae       NaN       Pomoxis   \n",
       "13687  Perciformes  Centrarchidae       NaN   Micropterus   \n",
       "13683  Perciformes  Centrarchidae       NaN   Micropterus   \n",
       "13690  Perciformes  Centrarchidae       NaN   Micropterus   \n",
       "13671  Perciformes  Centrarchidae       NaN       Lepomis   \n",
       "13661  Perciformes  Centrarchidae       NaN   Centrarchus   \n",
       "13676  Perciformes  Centrarchidae       NaN       Lepomis   \n",
       "13669  Perciformes  Centrarchidae       NaN       Lepomis   \n",
       "13674  Perciformes  Centrarchidae       NaN       Lepomis   \n",
       "13663  Perciformes  Centrarchidae       NaN  Enneacanthus   \n",
       "13675  Perciformes  Centrarchidae       NaN       Lepomis   \n",
       "13685  Perciformes  Centrarchidae       NaN   Micropterus   \n",
       "\n",
       "                        Specie  Observations  \\\n",
       "13670      Lepomis macrochirus          9119   \n",
       "13688    Micropterus salmoides          8615   \n",
       "13666        Lepomis cyanellus          3375   \n",
       "13667         Lepomis gibbosus          2969   \n",
       "13682     Micropterus dolomieu          2933   \n",
       "13672        Lepomis megalotis          2045   \n",
       "13665          Lepomis auritus          1628   \n",
       "13693   Pomoxis nigromaculatus          1521   \n",
       "13659    Ambloplites rupestris          1475   \n",
       "13668          Lepomis gulosus           922   \n",
       "13673      Lepomis microlophus           898   \n",
       "13692        Pomoxis annularis           600   \n",
       "13687  Micropterus punctulatus           390   \n",
       "13683   Micropterus floridanus           311   \n",
       "13690     Micropterus treculii           271   \n",
       "13671       Lepomis marginatus           260   \n",
       "13661  Centrarchus macropterus           258   \n",
       "13676        Lepomis punctatus           251   \n",
       "13669          Lepomis humilis           201   \n",
       "13674         Lepomis miniatus           198   \n",
       "13663   Enneacanthus gloriosus           119   \n",
       "13675        Lepomis peltastes           118   \n",
       "13685    Micropterus henshalli           115   \n",
       "\n",
       "                                                     url  \n",
       "13670  https://www.inaturalist.org/taxa/49591-Lepomis...  \n",
       "13688  https://www.inaturalist.org/taxa/49587-Micropt...  \n",
       "13666  https://www.inaturalist.org/taxa/58636-Lepomis...  \n",
       "13667  https://www.inaturalist.org/taxa/49614-Lepomis...  \n",
       "13682  https://www.inaturalist.org/taxa/49590-Micropt...  \n",
       "13672  https://www.inaturalist.org/taxa/58635-Lepomis...  \n",
       "13665  https://www.inaturalist.org/taxa/85365-Lepomis...  \n",
       "13693  https://www.inaturalist.org/taxa/49594-Pomoxis...  \n",
       "13659  https://www.inaturalist.org/taxa/58637-Amblopl...  \n",
       "13668  https://www.inaturalist.org/taxa/104252-Lepomi...  \n",
       "13673  https://www.inaturalist.org/taxa/85127-Lepomis...  \n",
       "13692  https://www.inaturalist.org/taxa/49593-Pomoxis...  \n",
       "13687  https://www.inaturalist.org/taxa/105821-Microp...  \n",
       "13683  https://www.inaturalist.org/taxa/355459-Microp...  \n",
       "13690  https://www.inaturalist.org/taxa/105822-Microp...  \n",
       "13671  https://www.inaturalist.org/taxa/104254-Lepomi...  \n",
       "13661  https://www.inaturalist.org/taxa/96911-Centrar...  \n",
       "13676  https://www.inaturalist.org/taxa/104256-Lepomi...  \n",
       "13669  https://www.inaturalist.org/taxa/104253-Lepomi...  \n",
       "13674  https://www.inaturalist.org/taxa/104255-Lepomi...  \n",
       "13663  https://www.inaturalist.org/taxa/99992-Enneaca...  \n",
       "13675  https://www.inaturalist.org/taxa/358056-Lepomi...  \n",
       "13685  https://www.inaturalist.org/taxa/225143-Microp...  "
      ]
     },
     "execution_count": 20,
     "metadata": {},
     "output_type": "execute_result"
    }
   ],
   "source": [
    "df_nan_selected = df_selected[df_selected['Subfamily'].isnull()]\n",
    "df_nan_selected"
   ]
  },
  {
   "cell_type": "code",
   "execution_count": 21,
   "metadata": {},
   "outputs": [],
   "source": [
    "# df_selected.to_csv(CSV_PATH, index=False)"
   ]
  },
  {
   "cell_type": "code",
   "execution_count": 22,
   "metadata": {},
   "outputs": [],
   "source": [
    "# df_1000.to_csv(ALL_CSV_PATH, index=False)"
   ]
  },
  {
   "cell_type": "markdown",
   "metadata": {},
   "source": [
    "# Cleaning dataset"
   ]
  },
  {
   "cell_type": "code",
   "execution_count": null,
   "metadata": {},
   "outputs": [],
   "source": [
    "# from fastai.vision.all import *\n",
    "\n",
    "# df_path = Path('/root/Documents/')\n",
    "# df = pd.read_csv(df_path/\"species1000-df.csv\")\n",
    "# path = Path('/root/Documents/images')\n",
    "# fns = get_image_files(path)\n",
    "# failed = verify_images(fns)\n",
    "# failed2 = [str(f).replace(str(path)+'/', '') for f in failed]\n",
    "# filtered_df = df[~df['fname'].isin(failed2)]\n",
    "# filtered_df.to_csv(df_path/'species1000-df-filtered.csv', index=False)"
   ]
  },
  {
   "cell_type": "markdown",
   "metadata": {},
   "source": [
    "# Handling Class Imbalance"
   ]
  },
  {
   "cell_type": "markdown",
   "metadata": {},
   "source": [
    "## 1000 Species (Full dataset)"
   ]
  },
  {
   "cell_type": "code",
   "execution_count": 96,
   "metadata": {},
   "outputs": [],
   "source": [
    "df_images_1000 = pd.read_csv(CLEAN_CSV_PATH)"
   ]
  },
  {
   "cell_type": "code",
   "execution_count": 97,
   "metadata": {},
   "outputs": [],
   "source": [
    "train, test, _, _ = train_test_split(df_images_1000, df_images_1000['Specie'],\n",
    "                                                    stratify=df_images_1000['Specie'], \n",
    "                                                    test_size=0.2, random_state=42)"
   ]
  },
  {
   "cell_type": "code",
   "execution_count": 98,
   "metadata": {
    "scrolled": true
   },
   "outputs": [
    {
     "name": "stderr",
     "output_type": "stream",
     "text": [
      "/home/jossalgon/anaconda3/lib/python3.7/site-packages/ipykernel_launcher.py:1: SettingWithCopyWarning: \n",
      "A value is trying to be set on a copy of a slice from a DataFrame.\n",
      "Try using .loc[row_indexer,col_indexer] = value instead\n",
      "\n",
      "See the caveats in the documentation: https://pandas.pydata.org/pandas-docs/stable/user_guide/indexing.html#returning-a-view-versus-a-copy\n",
      "  \"\"\"Entry point for launching an IPython kernel.\n",
      "/home/jossalgon/anaconda3/lib/python3.7/site-packages/ipykernel_launcher.py:2: SettingWithCopyWarning: \n",
      "A value is trying to be set on a copy of a slice from a DataFrame.\n",
      "Try using .loc[row_indexer,col_indexer] = value instead\n",
      "\n",
      "See the caveats in the documentation: https://pandas.pydata.org/pandas-docs/stable/user_guide/indexing.html#returning-a-view-versus-a-copy\n",
      "  \n"
     ]
    }
   ],
   "source": [
    "train['is_valid'] = False\n",
    "test['is_valid'] = True"
   ]
  },
  {
   "cell_type": "code",
   "execution_count": 99,
   "metadata": {},
   "outputs": [],
   "source": [
    "df_1000_stratified = pd.concat([train, test])"
   ]
  },
  {
   "cell_type": "code",
   "execution_count": 107,
   "metadata": {},
   "outputs": [],
   "source": [
    "df_1000_stratified.to_csv(STRATIFIED_CSV_PATH, index=False)"
   ]
  },
  {
   "cell_type": "code",
   "execution_count": 21,
   "metadata": {},
   "outputs": [],
   "source": [
    "df_1000_stratified = pd.read_csv(STRATIFIED_CSV_PATH)"
   ]
  },
  {
   "cell_type": "code",
   "execution_count": 22,
   "metadata": {},
   "outputs": [
    {
     "data": {
      "text/html": [
       "<div>\n",
       "<style scoped>\n",
       "    .dataframe tbody tr th:only-of-type {\n",
       "        vertical-align: middle;\n",
       "    }\n",
       "\n",
       "    .dataframe tbody tr th {\n",
       "        vertical-align: top;\n",
       "    }\n",
       "\n",
       "    .dataframe thead th {\n",
       "        text-align: right;\n",
       "    }\n",
       "</style>\n",
       "<table border=\"1\" class=\"dataframe\">\n",
       "  <thead>\n",
       "    <tr style=\"text-align: right;\">\n",
       "      <th></th>\n",
       "      <th>Order</th>\n",
       "      <th>Family</th>\n",
       "      <th>Subfamily</th>\n",
       "      <th>Genus</th>\n",
       "      <th>Specie</th>\n",
       "      <th>fname</th>\n",
       "      <th>is_valid</th>\n",
       "    </tr>\n",
       "  </thead>\n",
       "  <tbody>\n",
       "    <tr>\n",
       "      <th>0</th>\n",
       "      <td>Perciformes</td>\n",
       "      <td>Centrarchidae</td>\n",
       "      <td>NaN</td>\n",
       "      <td>Lepomis</td>\n",
       "      <td>Lepomis gibbosus</td>\n",
       "      <td>Lepomis gibbosus/1879321.jpg</td>\n",
       "      <td>False</td>\n",
       "    </tr>\n",
       "    <tr>\n",
       "      <th>1</th>\n",
       "      <td>Perciformes</td>\n",
       "      <td>Centrarchidae</td>\n",
       "      <td>NaN</td>\n",
       "      <td>Pomoxis</td>\n",
       "      <td>Pomoxis nigromaculatus</td>\n",
       "      <td>Pomoxis nigromaculatus/61056925.jpg</td>\n",
       "      <td>False</td>\n",
       "    </tr>\n",
       "    <tr>\n",
       "      <th>2</th>\n",
       "      <td>Perciformes</td>\n",
       "      <td>Centrarchidae</td>\n",
       "      <td>NaN</td>\n",
       "      <td>Lepomis</td>\n",
       "      <td>Lepomis miniatus</td>\n",
       "      <td>Lepomis miniatus/36578909.jpg</td>\n",
       "      <td>False</td>\n",
       "    </tr>\n",
       "    <tr>\n",
       "      <th>3</th>\n",
       "      <td>Cypriniformes</td>\n",
       "      <td>Cyprinidae</td>\n",
       "      <td>Leuciscinae</td>\n",
       "      <td>Scardinius</td>\n",
       "      <td>Scardinius erythrophthalmus</td>\n",
       "      <td>Scardinius erythrophthalmus/77068790.jpg</td>\n",
       "      <td>False</td>\n",
       "    </tr>\n",
       "    <tr>\n",
       "      <th>4</th>\n",
       "      <td>Perciformes</td>\n",
       "      <td>Acanthuridae</td>\n",
       "      <td>Acanthurinae</td>\n",
       "      <td>Acanthurus</td>\n",
       "      <td>Acanthurus olivaceus</td>\n",
       "      <td>Acanthurus olivaceus/14646458.jpg</td>\n",
       "      <td>False</td>\n",
       "    </tr>\n",
       "    <tr>\n",
       "      <th>...</th>\n",
       "      <td>...</td>\n",
       "      <td>...</td>\n",
       "      <td>...</td>\n",
       "      <td>...</td>\n",
       "      <td>...</td>\n",
       "      <td>...</td>\n",
       "      <td>...</td>\n",
       "    </tr>\n",
       "    <tr>\n",
       "      <th>422172</th>\n",
       "      <td>Perciformes</td>\n",
       "      <td>Acanthuridae</td>\n",
       "      <td>Acanthurinae</td>\n",
       "      <td>Acanthurus</td>\n",
       "      <td>Acanthurus coeruleus</td>\n",
       "      <td>Acanthurus coeruleus/33472582.jpg</td>\n",
       "      <td>True</td>\n",
       "    </tr>\n",
       "    <tr>\n",
       "      <th>422173</th>\n",
       "      <td>Perciformes</td>\n",
       "      <td>Gobiidae</td>\n",
       "      <td>Gobiinae</td>\n",
       "      <td>Amblyeleotris</td>\n",
       "      <td>Amblyeleotris steinitzi</td>\n",
       "      <td>Amblyeleotris steinitzi/3789141.jpg</td>\n",
       "      <td>True</td>\n",
       "    </tr>\n",
       "    <tr>\n",
       "      <th>422174</th>\n",
       "      <td>Perciformes</td>\n",
       "      <td>Percidae</td>\n",
       "      <td>Etheostomatinae</td>\n",
       "      <td>Etheostoma</td>\n",
       "      <td>Etheostoma caeruleum</td>\n",
       "      <td>Etheostoma caeruleum/40879890.jpg</td>\n",
       "      <td>True</td>\n",
       "    </tr>\n",
       "    <tr>\n",
       "      <th>422175</th>\n",
       "      <td>Perciformes</td>\n",
       "      <td>Kyphosidae</td>\n",
       "      <td>Microcanthinae</td>\n",
       "      <td>Tilodon</td>\n",
       "      <td>Tilodon sexfasciatus</td>\n",
       "      <td>Tilodon sexfasciatus/26825770.jpg</td>\n",
       "      <td>True</td>\n",
       "    </tr>\n",
       "    <tr>\n",
       "      <th>422176</th>\n",
       "      <td>Perciformes</td>\n",
       "      <td>Scaridae</td>\n",
       "      <td>Sparisomatinae</td>\n",
       "      <td>Sparisoma</td>\n",
       "      <td>Sparisoma viride</td>\n",
       "      <td>Sparisoma viride/48286026.jpg</td>\n",
       "      <td>True</td>\n",
       "    </tr>\n",
       "  </tbody>\n",
       "</table>\n",
       "<p>422177 rows × 7 columns</p>\n",
       "</div>"
      ],
      "text/plain": [
       "                Order         Family        Subfamily          Genus  \\\n",
       "0         Perciformes  Centrarchidae              NaN        Lepomis   \n",
       "1         Perciformes  Centrarchidae              NaN        Pomoxis   \n",
       "2         Perciformes  Centrarchidae              NaN        Lepomis   \n",
       "3       Cypriniformes     Cyprinidae      Leuciscinae     Scardinius   \n",
       "4         Perciformes   Acanthuridae     Acanthurinae     Acanthurus   \n",
       "...               ...            ...              ...            ...   \n",
       "422172    Perciformes   Acanthuridae     Acanthurinae     Acanthurus   \n",
       "422173    Perciformes       Gobiidae         Gobiinae  Amblyeleotris   \n",
       "422174    Perciformes       Percidae  Etheostomatinae     Etheostoma   \n",
       "422175    Perciformes     Kyphosidae   Microcanthinae        Tilodon   \n",
       "422176    Perciformes       Scaridae   Sparisomatinae      Sparisoma   \n",
       "\n",
       "                             Specie                                     fname  \\\n",
       "0                  Lepomis gibbosus              Lepomis gibbosus/1879321.jpg   \n",
       "1            Pomoxis nigromaculatus       Pomoxis nigromaculatus/61056925.jpg   \n",
       "2                  Lepomis miniatus             Lepomis miniatus/36578909.jpg   \n",
       "3       Scardinius erythrophthalmus  Scardinius erythrophthalmus/77068790.jpg   \n",
       "4              Acanthurus olivaceus         Acanthurus olivaceus/14646458.jpg   \n",
       "...                             ...                                       ...   \n",
       "422172         Acanthurus coeruleus         Acanthurus coeruleus/33472582.jpg   \n",
       "422173      Amblyeleotris steinitzi       Amblyeleotris steinitzi/3789141.jpg   \n",
       "422174         Etheostoma caeruleum         Etheostoma caeruleum/40879890.jpg   \n",
       "422175         Tilodon sexfasciatus         Tilodon sexfasciatus/26825770.jpg   \n",
       "422176             Sparisoma viride             Sparisoma viride/48286026.jpg   \n",
       "\n",
       "        is_valid  \n",
       "0          False  \n",
       "1          False  \n",
       "2          False  \n",
       "3          False  \n",
       "4          False  \n",
       "...          ...  \n",
       "422172      True  \n",
       "422173      True  \n",
       "422174      True  \n",
       "422175      True  \n",
       "422176      True  \n",
       "\n",
       "[422177 rows x 7 columns]"
      ]
     },
     "execution_count": 22,
     "metadata": {},
     "output_type": "execute_result"
    }
   ],
   "source": [
    "df_1000_stratified"
   ]
  },
  {
   "cell_type": "code",
   "execution_count": 91,
   "metadata": {},
   "outputs": [
    {
     "data": {
      "application/vnd.plotly.v1+json": {
       "config": {
        "plotlyServerURL": "https://plot.ly"
       },
       "data": [
        {
         "hovertemplate": "variable=Número de imágenes<br>Especie=%{x}<br>value=%{y}<extra></extra>",
         "legendgroup": "Número de imágenes",
         "line": {
          "color": "#636efa"
         },
         "mode": "lines",
         "name": "Número de imágenes",
         "orientation": "v",
         "showlegend": true,
         "stackgroup": "1",
         "type": "scatter",
         "x": [
          "Lepomis macrochirus",
          "Micropterus salmoides",
          "Cyprinus carpio",
          "Oncorhynchus mykiss",
          "Lepomis cyanellus",
          "Gambusia affinis",
          "Lepomis gibbosus",
          "Micropterus dolomieu",
          "Salmo trutta",
          "Salvelinus fontinalis",
          "Hippocampus abdominalis",
          "Ictalurus punctatus",
          "Semotilus atromaculatus",
          "Esox lucius",
          "Lepomis megalotis",
          "Perca flavescens",
          "Zanclus cornutus",
          "Lepomis auritus",
          "Gambusia holbrooki",
          "Cyprinus rubrofuscus",
          "Gasterosteus aculeatus",
          "Pomoxis nigromaculatus",
          "Abudefduf saxatilis",
          "Ambloplites rupestris",
          "Pterois volitans",
          "Catostomus commersonii",
          "Carassius auratus",
          "Diodon nicthemerus",
          "Sphyraena barracuda",
          "Fistularia commersonii",
          "Lagodon rhomboides",
          "Lepisosteus osseus",
          "Phycodurus eques",
          "Acanthurus triostegus",
          "Mola mola",
          "Acanthurus coeruleus",
          "Abudefduf vaigiensis",
          "Perca fluviatilis",
          "Chaetodon auriga",
          "Amphiprion clarkii",
          "Diodon hystrix",
          "Oncorhynchus tshawytscha",
          "Dorosoma cepedianum",
          "Diodon holocanthus",
          "Morone saxatilis",
          "Chrysophrys auratus",
          "Lepisosteus oculatus",
          "Lepomis gulosus",
          "Scorpaena jacksoniensis",
          "Enoplosus armatus",
          "Ameiurus natalis",
          "Anguilla rostrata",
          "Ameiurus nebulosus",
          "Notemigonus crysoleucas",
          "Oreochromis mossambicus",
          "Chilomycterus schoepfii",
          "Arothron hispidus",
          "Lepomis microlophus",
          "Aplodinotus grunniens",
          "Etheostoma caeruleum",
          "Oncorhynchus clarkii",
          "Brachaluteres jacksonianus",
          "Luxilus cornutus",
          "Sarpa salpa",
          "Neogobius melanostomus",
          "Rhinichthys atratulus",
          "Lutjanus griseus",
          "Aulostomus chinensis",
          "Oreochromis niloticus",
          "Thalassoma bifasciatum",
          "Tetractenos glaber",
          "Upeneichthys lineatus",
          "Sciaenops ocellatus",
          "Cheilodactylus fuscus",
          "Ariopsis felis",
          "Fundulus heteroclitus",
          "Ameiurus melas",
          "Sparisoma viride",
          "Ostracion meleagris",
          "Pomacanthus paru",
          "Lepisosteus platyrhincus",
          "Microcanthus strigatus",
          "Sander vitreus",
          "Oncorhynchus nerka",
          "Monacanthus chinensis",
          "Thalassoma pavo",
          "Pimephales notatus",
          "Oncorhynchus kisutch",
          "Platycephalus fuscus",
          "Thalassoma lunare",
          "Ostracion cubicus",
          "Diplodus sargus",
          "Squalius cephalus",
          "Mayaheros urophthalmus",
          "Megalops atlanticus",
          "Meuschenia freycineti",
          "Campostoma anomalum",
          "Amia calva",
          "Culaea inconstans",
          "Hippocampus whitei",
          "Acanthopagrus australis",
          "Phyllopteryx taeniolatus",
          "Abudefduf sexfasciatus",
          "Chaetodon lunula",
          "Trachurus novaezelandiae",
          "Dascyllus trimaculatus",
          "Hypsypops rubicundus",
          "Scarus ghobban",
          "Parma microlepis",
          "Herichthys cyanoguttatus",
          "Haemulon flavolineatum",
          "Diplodus vulgaris",
          "Arothron meleagris",
          "Lutjanus apodus",
          "Gymnothorax prasinus",
          "Fundulus notatus",
          "Poecilia latipinna",
          "Paracirrhites forsteri",
          "Oligocottus maculosus",
          "Atypichthys strigatus",
          "Semotilus corporalis",
          "Coris julis",
          "Arothron nigropunctatus",
          "Luxilus chrysocephalus",
          "Oncorhynchus keta",
          "Aulostomus maculatus",
          "Meuschenia trachylepis",
          "Scarus rubroviolaceus",
          "Gymnothorax javanicus",
          "Morone americana",
          "Naso lituratus",
          "Caranx melampygus",
          "Pimephales promelas",
          "Plotosus lineatus",
          "Tilodon sexfasciatus",
          "Lactophrys triqueter",
          "Xiphophorus hellerii",
          "Girella tricuspidata",
          "Aluterus scriptus",
          "Naso unicornis",
          "Cynoscion nebulosus",
          "Systomus rubripinnis",
          "Hippocampus reidi",
          "Cyprinodon variegatus",
          "Chromis chromis",
          "Girella zebra",
          "Pterois miles",
          "Pomoxis annularis",
          "Girella nigricans",
          "Echidna nebulosa",
          "Thalassoma lucasanum",
          "Anguilla dieffenbachii",
          "Scardinius erythrophthalmus",
          "Parupeneus spilurus",
          "Haemulon sciurus",
          "Rhinecanthus rectangulus",
          "Esox niger",
          "Chlorurus spilurus",
          "Porichthys notatus",
          "Serranus scriba",
          "Pseudanthias squamipinnis",
          "Mulloidichthys flavolineatus",
          "Rhinecanthus aculeatus",
          "Cyprinella venusta",
          "Balistoides viridescens",
          "Mullus surmuletus",
          "Fundulus diaphanus",
          "Holacanthus passer",
          "Pomatomus saltatrix",
          "Archosargus probatocephalus",
          "Rutilus rutilus",
          "Dicotylichthys punctulatus",
          "Umbra limi",
          "Anoplocapros inermis",
          "Chrosomus eos",
          "Dactylophora nigricans",
          "Clinocottus analis",
          "Cottus bairdii",
          "Cheilodactylus nigripes",
          "Abudefduf sordidus",
          "Esox americanus",
          "Acanthurus olivaceus",
          "Etheostoma flabellare",
          "Scorpaenichthys marmoratus",
          "Chaetodon capistratus",
          "Ocyurus chrysurus",
          "Echeneis naucrates",
          "Etheostoma spectabile",
          "Cephalopholis argus",
          "Zebrasoma flavescens",
          "Gobiesox maeandricus",
          "Abudefduf troschelii",
          "Hippocampus histrix",
          "Amphiprion ocellaris",
          "Hippocampus kuda",
          "Opsariichthys pachycephalus",
          "Acanthurus lineatus",
          "Latropiscis purpurissatus",
          "Thalassoma hardwicke",
          "Pomacanthus arcuatus",
          "Ctenopharyngodon idella",
          "Microspathodon chrysurus",
          "Hypentelium nigricans",
          "Halichoeres hortulanus",
          "Chaetodon ornatissimus",
          "Mulloidichthys vanicolensis",
          "Canthigaster valentini",
          "Pseudocaranx georgianus",
          "Meuschenia hippocrepis",
          "Platax teira",
          "Oblada melanura",
          "Gymnothorax meleagris",
          "Hypoplectrodes maccullochi",
          "Halichoeres bivittatus",
          "Hippocampus bargibanti",
          "Pholis gunnellus",
          "Coris gaimard",
          "Forcipiger flavissimus",
          "Schuettea scalaripinnis",
          "Caranx sexfasciatus",
          "Acanthurus nigrofuscus",
          "Pogonias cromis",
          "Parma victoriae",
          "Melichthys niger",
          "Bodianus diplotaenia",
          "Taenianotus triacanthus",
          "Gymnothorax funebris",
          "Rhinichthys cataractae",
          "Paralabrax clathratus",
          "Upeneichthys vlamingii",
          "Chaetodon lunulatus",
          "Scorpis aequipinnis",
          "Ostorhinchus limenus",
          "Etheostoma nigrum",
          "Chaetodon kleinii",
          "Zebrasoma velifer",
          "Pomacanthus imperator",
          "Caranx ruber",
          "Thalassoma duperrey",
          "Balistapus undulatus",
          "Hippocampus breviceps",
          "Acrossocheilus paradoxus",
          "Brevoortia tyrannus",
          "Gymnothorax moringa",
          "Scorpis lineolata",
          "Ictalurus furcatus",
          "Phoxinus phoxinus",
          "Syngnathus leptorhynchus",
          "Pylodictis olivaris",
          "Parupeneus multifasciatus",
          "Muraena helena",
          "Sphoeroides testudineus",
          "Idiotropiscis lumnitzeri",
          "Chaetodon vagabundus",
          "Anisotremus virginicus",
          "Cyprinella lutrensis",
          "Ophiodon elongatus",
          "Anguilla anguilla",
          "Holacanthus ciliaris",
          "Gymnothorax flavimarginatus",
          "Scorpaena plumieri",
          "Scobinichthys granulatus",
          "Amphiprion perideraion",
          "Oncorhynchus gorbuscha",
          "Anguilla australis",
          "Antennarius striatus",
          "Menticirrhus americanus",
          "Leptocottus armatus",
          "Nocomis biguttatus",
          "Cephalopholis miniata",
          "Scarus iseri",
          "Cymatogaster aggregata",
          "Chaetodipterus faber",
          "Caranx hippos",
          "Hippocampus guttulatus",
          "Monotaxis grandoculis",
          "Micropogonias undulatus",
          "Chromis viridis",
          "Trachinops taeniatus",
          "Lutjanus kasmira",
          "Periophthalmus modestus",
          "Centropristis striata",
          "Cheilinus undulatus",
          "Etheostoma blennioides",
          "Microspathodon dorsalis",
          "Micropterus punctulatus",
          "Dinolestes lewini",
          "Pomacentrus coelestis",
          "Allomycterus pilatus",
          "Cheilodactylus vestitus",
          "Anoplarchus purpurescens",
          "Chaetodon unimaculatus",
          "Fundulus majalis",
          "Rhinogobius duospilus",
          "Epinephelus marginatus",
          "Galaxias fasciatus",
          "Leiostomus xanthurus",
          "Strongylura marina",
          "Pygoplites diacanthus",
          "Centropomus undecimalis",
          "Chaetodon striatus",
          "Trachinotus carolinus",
          "Cnidoglanis macrocephalus",
          "Monodactylus argenteus",
          "Percina caprodes",
          "Mecaenichthys immaculatus",
          "Seriola lalandi",
          "Micropterus floridanus",
          "Hemigymnus melapterus",
          "Opsanus tau",
          "Acanthurus xanthopterus",
          "Pachymetopon blochii",
          "Sparisoma aurofrenatum",
          "Anguilla reinhardtii",
          "Bagre marinus",
          "Pterois antennata",
          "Scolopsis bilineata",
          "Plectorhinchus chaetodonoides",
          "Arripis trutta",
          "Pseudogastromyzon myersi",
          "Centropogon australis",
          "Chaetodon trifascialis",
          "Solenostomus paradoxus",
          "Oreochromis aureus",
          "Kyphosus vaigiensis",
          "Morone chrysops",
          "Menidia menidia",
          "Antennarius commerson",
          "Paracirrhites arcatus",
          "Novaculichthys taeniourus",
          "Chaetodon citrinellus",
          "Cottus carolinae",
          "Poecilia reticulata",
          "Acanthostracion quadricornis",
          "Ctenochaetus striatus",
          "Rhinogobius candidianus",
          "Dascyllus aruanus",
          "Dendrochirus zebra",
          "Pomacanthus semicirculatus",
          "Dicentrarchus labrax",
          "Cirrhitichthys aprinus",
          "Stegastes leucostictus",
          "Chaetodon melannotus",
          "Fundulus chrysotus",
          "Melichthys vidua",
          "Micropterus treculii",
          "Dascyllus reticulatus",
          "Serranus cabrilla",
          "Sufflamen bursa",
          "Gobius niger",
          "Scarus psittacus",
          "Pempheris compressa",
          "Epibulus insidiator",
          "Halichoeres garnoti",
          "Holocentrus rufus",
          "Canthigaster jactator",
          "Synodus intermedius",
          "Squalius squalus",
          "Salvelinus namaycush",
          "Lepomis marginatus",
          "Scarus guacamaia",
          "Haemulon plumierii",
          "Kyphosus sydneyanus",
          "Gobius cobitis",
          "Parma unifasciata",
          "Clupea pallasii",
          "Nocomis micropogon",
          "Bodianus rufus",
          "Channa argus",
          "Bothus lunatus",
          "Acanthurus tractus",
          "Balistes capriscus",
          "Parazacco spilurus",
          "Sillago ciliata",
          "Cyprinella spiloptera",
          "Scarus frenatus",
          "Chromis hypsilepis",
          "Chaetodon quadrimaculatus",
          "Chaetodon ephippium",
          "Chironemus marmoratus",
          "Pomacentrus moluccensis",
          "Prionurus microlepidotus",
          "Heniochus acuminatus",
          "Arothron stellatus",
          "Channa striata",
          "Acanthurus dussumieri",
          "Elops saurus",
          "Aphredoderus sayanus",
          "Canthigaster rostrata",
          "Chaetodon ocellatus",
          "Synodus foetens",
          "Thalassoma trilobatum",
          "Sufflamen chrysopterum",
          "Rhabdosargus sarba",
          "Eubalichthys mosaicus",
          "Orthopristis chrysoptera",
          "Amphiprion melanopus",
          "Lutjanus fulvus",
          "Epinephelus merra",
          "Abudefduf bengalensis",
          "Stigmatopora nigra",
          "Boleophthalmus pectinirostris",
          "Gobius incognitus",
          "Misgurnus anguillicaudatus",
          "Prionurus laticlavius",
          "Abramis brama",
          "Sparisoma cretense",
          "Meuschenia scaber",
          "Paralichthys dentatus",
          "Rhinichthys obtusus",
          "Epinephelus fasciatus",
          "Scarus vetula",
          "Coryphaena hippurus",
          "Premnas biaculeatus",
          "Clarias gariepinus",
          "Gerres cinereus",
          "Acanthopagrus butcheri",
          "Eocallionymus papilio",
          "Acanthurus chirurgus",
          "Chlorurus microrhinos",
          "Carassius gibelio",
          "Cantherhines macrocerus",
          "Tetractenos hamiltoni",
          "Nocomis leptocephalus",
          "Acanthurus nigricans",
          "Heniochus diphreutes",
          "Thalassoma lutescens",
          "Lithognathus mormyrus",
          "Amblygobius phalaena",
          "Balistoides conspicillum",
          "Naso brevirostris",
          "Sphoeroides maculatus",
          "Dendrochirus brachypterus",
          "Sicyopterus japonicus",
          "Terapon jarbua",
          "Cyprinodon nevadensis",
          "Centrarchus macropterus",
          "Etheostoma olmstedi",
          "Odonus niger",
          "Sphoeroides annulatus",
          "Antennarius pictus",
          "Istigobius hoesei",
          "Neoodax balteatus",
          "Olisthops cyanomelas",
          "Chromis cyanea",
          "Pimephales vigilax",
          "Hippocampus erectus",
          "Enophrys bison",
          "Solenostomus cyanopterus",
          "Caranx latus",
          "Rhinomuraena quaesita",
          "Lepomis punctatus",
          "Plectorhinchus vittatus",
          "Fundulus grandis",
          "Alburnus alburnus",
          "Lactoria fornasini",
          "Scarus niger",
          "Hippocampus ingens",
          "Paralichthys californicus",
          "Torquigener pleurogramma",
          "Coris aygula",
          "Hippocampus hippocampus",
          "Chelmonops truncatus",
          "Caranx crysos",
          "Acanthoclinus fuscus",
          "Aplodactylus lophodon",
          "Gymnothorax eurostus",
          "Notropis hudsonius",
          "Amphiprion bicinctus",
          "Dactylopterus volitans",
          "Argyrosomus japonicus",
          "Dorosoma petenense",
          "Cantherhines dumerilii",
          "Opsanus beta",
          "Balistes polylepis",
          "Chrysoblephus laticeps",
          "Halichoeres radiatus",
          "Zebrasoma scopas",
          "Synodus variegatus",
          "Acanthostracion polygonius",
          "Platichthys stellatus",
          "Stegastes acapulcoensis",
          "Cochleoceps orientalis",
          "Lutjanus bohar",
          "Filicampus tigris",
          "Amblyglyphidodon curacao",
          "Gymnothorax thyrsoideus",
          "Ammodytes personatus",
          "Bairdiella chrysoura",
          "Johnrandallia nigrirostris",
          "Clinostomus funduloides",
          "Neoniphon sammara",
          "Cirrhitichthys oxycephalus",
          "Noturus flavus",
          "Lobotes surinamensis",
          "Hippocampus subelongatus",
          "Lutjanus synagris",
          "Caranx ignobilis",
          "Mulloidichthys martinicus",
          "Bothus podas",
          "Cheilinus chlorourus",
          "Liniparhomaloptera disparis",
          "Tinca tinca",
          "Stegastes planifrons",
          "Cleidopus gloriamaris",
          "Pempheris affinis",
          "Fundulus olivaceus",
          "Macolor macularis",
          "Cetoscarus ocellatus",
          "Lota lota",
          "Gadus morhua",
          "Chaetodon lineolatus",
          "Stenotomus chrysops",
          "Menidia beryllina",
          "Coris picta",
          "Cobitis sinensis",
          "Pomacanthus sexstriatus",
          "Chaetodon baronessa",
          "Scorpaena porcus",
          "Sparus aurata",
          "Chaetodon humeralis",
          "Meuschenia flavolineata",
          "Sparisoma rubripinne",
          "Oxycheilinus digramma",
          "Epinephelus labriformis",
          "Tilapia sparrmanii",
          "Prionotus evolans",
          "Diagramma pictum",
          "Arothron mappa",
          "Hexagrammos decagrammus",
          "Heniochus chrysostomus",
          "Stegastes partitus",
          "Atractosteus spatula",
          "Menticirrhus littoralis",
          "Thalassoma amblycephalum",
          "Lutjanus analis",
          "Canthigaster callisterna",
          "Lactophrys bicaudalis",
          "Pholis laeta",
          "Salmo salar",
          "Plectropomus leopardus",
          "Chaetodon ulietensis",
          "Rhinogobiops nicholsii",
          "Acanthaluteres vittiger",
          "Parupeneus cyclostomus",
          "Cheilinus fasciatus",
          "Holacanthus tricolor",
          "Nemateleotris magnifica",
          "Lethrinus nebulosus",
          "Seriola dumerili",
          "Heteroscarus acroptilus",
          "Lepomis miniatus",
          "Tylosurus crocodilus",
          "Amphiprion chrysopterus",
          "Esox masquinongy",
          "Chlorurus sordidus",
          "Aracana aurita",
          "Cephalopholis cruentata",
          "Myoxocephalus scorpius",
          "Gymnothorax favagineus",
          "Cyprinodon salinus",
          "Lutjanus argentimaculatus",
          "Chaetodon trifasciatus",
          "Sebastes caurinus",
          "Upeneus tragula",
          "Plectroglyphidodon lacrymatus",
          "Clarias batrachus",
          "Platax orbicularis",
          "Syngnathus fuscus",
          "Ctenochaetus strigosus",
          "Cirrhitus rivulatus",
          "Haemulon chrysargyreum",
          "Chromis multilineata",
          "Pomacanthus zonipectus",
          "Gymnothorax miliaris",
          "Scarus rivulatus",
          "Galaxias maculatus",
          "Engraulis mordax",
          "Pungitius pungitius",
          "Taurulus bubalis",
          "Diplodus puntazzo",
          "Scorpaena scrofa",
          "Oxylebius pictus",
          "Cirrhitus pinnulatus",
          "Apodichthys flavidus",
          "Equetus punctatus",
          "Dascyllus albisella",
          "Astronotus ocellatus",
          "Chaetodon flavirostris",
          "Halichoeres trimaculatus",
          "Hemitaurichthys polylepis",
          "Amblyglyphidodon aureus",
          "Labidesthes sicculus",
          "Monopterus albus",
          "Moxostoma erythrurum",
          "Kyphosus sectatrix",
          "Acanthurus leucosternon",
          "Siganus fuscescens",
          "Alosa pseudoharengus",
          "Hoplias malabaricus",
          "Abudefduf abdominalis",
          "Amphiprion frenatus",
          "Pelmatolapia mariae",
          "Coptodon zillii",
          "Chelmonops curiosus",
          "Gymnothorax pictus",
          "Cheilio inermis",
          "Hippocampus comes",
          "Diodon liturosus",
          "Chlorurus bleekeri",
          "Scomber scombrus",
          "Parupeneus barberinus",
          "Etheostoma exile",
          "Sphyraena obtusata",
          "Notropis rubellus",
          "Conger conger",
          "Eubalichthys bucephalus",
          "Mycteroperca bonaci",
          "Minytrema melanops",
          "Apogon imberbis",
          "Lepomis humilis",
          "Scomber japonicus",
          "Trichiurus lepturus",
          "Centropyge bicolor",
          "Gnathodentex aureolineatus",
          "Paralabrax maculatofasciatus",
          "Epinephelus striatus",
          "Cephalopholis fulva",
          "Pholis ornata",
          "Priacanthus hamrur",
          "Noturus gyrinus",
          "Scomberomorus maculatus",
          "Prionurus punctatus",
          "Scorpaena maderensis",
          "Holocentrus adscensionis",
          "Cichla ocellaris",
          "Kyphosus cinerascens",
          "Scarus taeniopterus",
          "Trachelochismus pinnulatus",
          "Pseudopleuronectes americanus",
          "Cheilodactylus spectabilis",
          "Gobius paganellus",
          "Sebastes melanops",
          "Notropis atherinoides",
          "Stegastes arcifrons",
          "Dactyloptena orientalis",
          "Arothron manilensis",
          "Periophthalmodon schlosseri",
          "Paralichthys lethostigma",
          "Cheilodactylus fasciatus",
          "Oxymonacanthus longirostris",
          "Cebidichthys violaceus",
          "Scarus schlegeli",
          "Ostorhinchus aureus",
          "Kyphosus azureus",
          "Gymnothorax mordax",
          "Oxycheilinus bimaculatus",
          "Chromis atripectoralis",
          "Gerres subfasciatus",
          "Silurus glanis",
          "Stethojulis bandanensis",
          "Gymnomuraena zebra",
          "Scorpaenopsis diabolus",
          "Etheostoma zonale",
          "Cottus gobio",
          "Sphoeroides nephelus",
          "Cheilinus trilobatus",
          "Chaetodon guentheri",
          "Stethojulis interrupta",
          "Diplodus capensis",
          "Hippocampus spinosissimus",
          "Elassoma zonatum",
          "Chaetodon plebeius",
          "Lutjanus gibbus",
          "Belone belone",
          "Embiotoca lateralis",
          "Percina nigrofasciata",
          "Cirrhitichthys falco",
          "Variola louti",
          "Acanthurus leucopareius",
          "Notropis stramineus",
          "Platax pinnatus",
          "Sargocentron spiniferum",
          "Ictiobus bubalus",
          "Myrichthys breviceps",
          "Heniochus varius",
          "Pseudorasbora parva",
          "Hemigymnus fasciatus",
          "Pseudupeneus maculatus",
          "Moxostoma macrolepidotum",
          "Ameiurus catus",
          "Caesio caerulaurea",
          "Heterandria formosa",
          "Gobio gobio",
          "Hypoplectrodes nigroruber",
          "Plectorhinchus lineatus",
          "Lepomis peltastes",
          "Scorpaena guttata",
          "Naso vlamingii",
          "Chaetodon rafflesii",
          "Chrosomus erythrogaster",
          "Sander lucioperca",
          "Acanthurus blochii",
          "Sebastes atrovirens",
          "Myripristis jacobus",
          "Hippocampus denise",
          "Lutjanus argentiventris",
          "Antennarius maculatus",
          "Heniochus intermedius",
          "Lutjanus russellii",
          "Scorpaena notata",
          "Acanthistius ocellatus",
          "Fundulus similis",
          "Lutjanus fulviflamma",
          "Chelidonichthys kumu",
          "Gymnothorax undulatus",
          "Acanthogobius flavimanus",
          "Chromis punctipinnis",
          "Balistes vetula",
          "Aracana ornata",
          "Bathygobius krefftii",
          "Sphoeroides spengleri",
          "Chelmon rostratus",
          "Myripristis kuntee",
          "Rhinichthys osculus",
          "Lutjanus mahogoni",
          "Scatophagus argus",
          "Halichoeres scapularis",
          "Pempheris multiradiata",
          "Parapercis colias",
          "Xiphister atropurpureus",
          "Coris sandeyeri",
          "Acanthurus pyroferus",
          "Chaetodon meyeri",
          "Cheilodipterus macrodon",
          "Paraluteres prionurus",
          "Macolor niger",
          "Acanthurus mata",
          "Macropharyngodon meleagris",
          "Synanceia verrucosa",
          "Chaetodon speculum",
          "Valenciennea strigata",
          "Cantherhines pullus",
          "Gobius cruentatus",
          "Iniistius pavo",
          "Halichoeres nicholsi",
          "Syngnathus acus",
          "Bolbometopon muricatum",
          "Muraena lentiginosa",
          "Zebrasoma desjardinii",
          "Cyclopterus lumpus",
          "Ptychocheilus oregonensis",
          "Boops boops",
          "Caesio cuning",
          "Trachinotus falcatus",
          "Ptereleotris evides",
          "Pseudanthias pleurotaenia",
          "Chaetodon octofasciatus",
          "Gnathanodon speciosus",
          "Nemadactylus douglasii",
          "Lutjanus campechanus",
          "Stegastes nigricans",
          "Serranus tigrinus",
          "Pomacentrus pavo",
          "Sebastes auriculatus",
          "Hippocampus pontohi",
          "Anampses caeruleopunctatus",
          "Siganus virgatus",
          "Percina maculata",
          "Pseudobalistes fuscus",
          "Echidna catenata",
          "Plectorhinchus flavomaculatus",
          "Sargocentron diadema",
          "Stegastes adustus",
          "Dascyllus abudafur",
          "Omegophora armilla",
          "Telestes muticellus",
          "Lutjanus monostigma",
          "Atherinops affinis",
          "Halichoeres marginatus",
          "Sargocentron caudimaculatum",
          "Morone mississippiensis",
          "Heteroconger hassi",
          "Anchoa mitchilli",
          "Pempheris klunzingeri",
          "Paraplesiops bleekeri",
          "Osmerus mordax",
          "Diplodus annularis",
          "Eurypegasus draconis",
          "Paraplesiops meleagris",
          "Acipenser transmontanus",
          "Neoglyphidodon melas",
          "Halichoeres semicinctus",
          "Pseudobalistes flavimarginatus",
          "Oxycirrhites typus",
          "Chromis margaritifer",
          "Epinephelus undulatostriatus",
          "Embiotoca jacksoni",
          "Diploprion bifasciatum",
          "Chirodactylus brachydactylus",
          "Epinephelus lanceolatus",
          "Trinectes maculatus",
          "Cromileptes altivelis",
          "Moxostoma anisurum",
          "Calotomus carolinus",
          "Selene vomer",
          "Abudefduf septemfasciatus",
          "Siganus vulpinus",
          "Rachycentron canadum",
          "Thalassoma purpureum",
          "Trachyrhamphus bicoarctatus",
          "Scarus coeruleus",
          "Atherinopsis californiensis",
          "Cottus asper",
          "Padogobius bonelli",
          "Mulloidichthys dentatus",
          "Carangoides bartholomaei",
          "Sarotherodon melanotheron",
          "Parapercis ramsayi",
          "Siganus guttatus",
          "Gymnothorax griseus",
          "Pareques acuminatus",
          "Oligocottus snyderi",
          "Heniochus monoceros",
          "Scorpis georgiana",
          "Acipenser fulvescens",
          "Neoglyphidodon nigroris",
          "Thunnus albacares",
          "Bothus mancus",
          "Sebastes miniatus",
          "Siganus corallinus",
          "Acanthurus guttatus",
          "Plectroglyphidodon dickii",
          "Pterois radiata",
          "Geophagus brasiliensis",
          "Amphiprion polymnus",
          "Acanthochromis polyacanthus",
          "Paralabrax nebulifer",
          "Stethojulis balteata",
          "Apolemichthys trimaculatus",
          "Coris batuensis",
          "Caesio teres",
          "Dunckerocampus dactyliophorus",
          "Chrysiptera taupou",
          "Naso hexacanthus",
          "Gymnocephalus cernua",
          "Amatitlania nigrofasciata",
          "Parachromis managuensis",
          "Bodianus axillaris",
          "Cymbacephalus beauforti",
          "Haemulon aurolineatum",
          "Parapercis hexophtalma",
          "Thymallus arcticus",
          "Holacanthus bermudensis",
          "Scolopsis lineata",
          "Gramma loreto",
          "Thalassoma nigrofasciatum",
          "Moxostoma congestum",
          "Sebastes mystinus",
          "Chaetodon semilarvatus",
          "Pterocaesio tile",
          "Paranthias colonus",
          "Pseudanthias huchtii",
          "Micropterus henshalli",
          "Notropis volucellus",
          "Hypoplectrus puella",
          "Acanthurus nigricauda",
          "Monotaxis heterodon",
          "Hemiramphus brasiliensis",
          "Enneacanthus gloriosus",
          "Pomacentrus sulfureus",
          "Siganus doliatus",
          "Naso elegans",
          "Synodus dermatogenys",
          "Candidia barbata",
          "Thalassoma quinquevittatum",
          "Myripristis murdjan",
          "Acanthurus achilles",
          "Lethrinus harak",
          "Lactoria cornuta",
          "Pomacentrus bankanensis",
          "Hypophthalmichthys molitrix",
          "Caffrogobius nudiceps",
          "Ostorhinchus cyanosoma",
          "Pomacentrus vaiuli",
          "Cheilodipterus quinquelineatus",
          "Stegastes marginatus",
          "Epinephelus coioides",
          "Chrysiptera brownriggii",
          "Lagocephalus sceleratus",
          "Scarus coelestinus",
          "Stegastes diencaeus",
          "Epinephelus fuscoguttatus",
          "Chaetodon adiergastos",
          "Parapriacanthus ransonneti",
          "Bodianus dictynna",
          "Aeoliscus strigatus",
          "Plectorhinchus polytaenia",
          "Myripristis berndti",
          "Elagatis bipinnulata",
          "Siganus puellus",
          "Epinephelus tukula",
          "Canthigaster bennetti",
          "Epinephelus quoyanus",
          "Parapercis clathrata",
          "Chaetodon bennetti",
          "Lepisosteus platostomus",
          "Forcipiger longirostris",
          "Chromis ternatensis",
          "Canthigaster papua",
          "Artedius harringtoni",
          "Bothus pantherinus",
          "Sphyraena jello",
          "Stephanolepis hispidus",
          "Centropyge bispinosa",
          "Cirrhilabrus temminckii",
          "Pseudoxiphophorus bimaculatus",
          "Haemulon parra",
          "Amphiprion percula",
          "Bodianus mesothorax",
          "Cephalopholis cyanostigma",
          "Amblyeleotris guttata",
          "Sphyraena qenie",
          "Barbus barbus",
          "Cephalopholis urodeta",
          "Scarus dimidiatus",
          "Taeniamia fucata",
          "Chaetodon multicinctus",
          "Valenciennea puellaris",
          "Rhinecanthus assasi",
          "Grammistes sexlineatus",
          "Haemulon carbonarium",
          "Paracanthurus hepatus",
          "Pomacanthus xanthometopon",
          "Amblyeleotris steinitzi",
          "Sebastiscus marmoratus",
          "Halichoeres nebulosus",
          "Myripristis violacea",
          "Amblyglyphidodon leucogaster",
          "Sargocentron rubrum",
          "Chloroscombrus chrysurus",
          "Pristiapogon kallopterus",
          "Ctenochaetus binotatus",
          "Gymnosarda unicolor",
          "Ostorhinchus nigrofasciatus",
          "Thymallus thymallus",
          "Catostomus occidentalis",
          "Alosa sapidissima",
          "Acanthocybium solandri",
          "Cephalopholis boenak",
          "Parapercis snyderi",
          "Takifugu alboplumbeus",
          "Trichopodus trichopterus",
          "Bryaninops yongei",
          "Brevoortia patronus",
          "Hesperoleucus symmetricus",
          "Pygocentrus nattereri",
          "Parupeneus indicus",
          "Poecilia mexicana",
          "Diplodus hottentotus",
          "Pterapogon kauderni",
          "Istigobius decoratus",
          "Neopomacentrus bankieri",
          "Cobitis bilineata",
          "Ostorhinchus fleurieu",
          "Ostorhinchus fasciatus",
          "Valenciennea immaculata",
          "Chromis notata",
          "Scorpaenopsis oxycephala",
          "Cobitis taenia",
          "Neopomacentrus cyanomos",
          "Chaetodon wiebeli",
          "Pteragogus enneacanthus",
          "Salmo marmoratus",
          "Chaetodon auripes",
          "Ostorhinchus doederleini",
          "Corythoichthys flavofasciatus",
          "Chelonodon patoca",
          "Gerres oyena",
          "Halichoeres nigrescens",
          "Parupeneus biaculeatus",
          "Alburnus arborella",
          "Scolopsis vosmeri",
          "Amblyeleotris gymnocephala",
          "Pempheris oualensis",
          "Epinephelus fasciatomaculosus",
          "Barbus plebejus",
          "Stephanolepis cirrhifer",
          "Gymnothorax reevesii",
          "Epinephelus awoara",
          "Pagrus major",
          "Cryptocentrus sericus",
          "Selaroides leptolepis",
          "Istigobius diadema",
          "Scorpaenopsis cirrosa",
          "Halichoeres tenuispinis",
          "Apogonichthyoides sialis",
          "Pterophyllum scalare",
          "Betta splendens",
          "Gerres oblongus"
         ],
         "xaxis": "x",
         "y": [
          10662,
          9886,
          6473,
          4330,
          4002,
          3871,
          3440,
          3423,
          3115,
          2838,
          2758,
          2721,
          2699,
          2536,
          2453,
          2121,
          1966,
          1853,
          1829,
          1798,
          1777,
          1716,
          1692,
          1661,
          1612,
          1518,
          1509,
          1509,
          1447,
          1423,
          1396,
          1381,
          1360,
          1341,
          1296,
          1267,
          1255,
          1250,
          1244,
          1240,
          1236,
          1229,
          1225,
          1162,
          1156,
          1153,
          1140,
          1124,
          1120,
          1113,
          1104,
          1102,
          1098,
          1097,
          1072,
          1067,
          1065,
          1045,
          1035,
          1031,
          1031,
          1016,
          1014,
          995,
          985,
          984,
          979,
          977,
          971,
          962,
          954,
          936,
          933,
          924,
          908,
          900,
          895,
          877,
          877,
          874,
          869,
          851,
          846,
          846,
          841,
          840,
          826,
          823,
          823,
          822,
          819,
          818,
          816,
          814,
          814,
          805,
          800,
          796,
          791,
          782,
          779,
          779,
          777,
          776,
          771,
          770,
          759,
          759,
          758,
          755,
          754,
          742,
          738,
          738,
          738,
          731,
          730,
          728,
          715,
          713,
          712,
          711,
          706,
          706,
          704,
          699,
          691,
          689,
          689,
          688,
          686,
          684,
          679,
          673,
          670,
          670,
          668,
          665,
          658,
          653,
          652,
          649,
          648,
          647,
          646,
          645,
          645,
          644,
          643,
          638,
          634,
          631,
          627,
          626,
          624,
          618,
          610,
          610,
          610,
          609,
          607,
          602,
          599,
          597,
          596,
          594,
          593,
          593,
          593,
          593,
          590,
          590,
          586,
          584,
          583,
          578,
          578,
          574,
          573,
          571,
          569,
          569,
          568,
          567,
          567,
          565,
          564,
          563,
          562,
          561,
          560,
          559,
          558,
          555,
          555,
          554,
          552,
          552,
          550,
          548,
          548,
          547,
          547,
          546,
          541,
          541,
          541,
          540,
          539,
          536,
          536,
          535,
          535,
          534,
          532,
          531,
          529,
          525,
          524,
          523,
          522,
          522,
          522,
          521,
          518,
          518,
          516,
          516,
          515,
          515,
          514,
          509,
          508,
          507,
          502,
          500,
          494,
          491,
          483,
          483,
          481,
          480,
          479,
          478,
          478,
          477,
          476,
          473,
          473,
          472,
          472,
          469,
          469,
          466,
          464,
          464,
          464,
          462,
          461,
          460,
          460,
          459,
          459,
          457,
          456,
          454,
          452,
          451,
          451,
          449,
          448,
          448,
          448,
          447,
          446,
          445,
          445,
          445,
          444,
          443,
          441,
          440,
          439,
          439,
          438,
          436,
          436,
          436,
          435,
          435,
          432,
          431,
          428,
          425,
          424,
          422,
          420,
          420,
          419,
          418,
          418,
          418,
          417,
          416,
          415,
          415,
          414,
          412,
          412,
          410,
          408,
          407,
          406,
          406,
          404,
          400,
          399,
          396,
          390,
          389,
          389,
          388,
          387,
          387,
          382,
          381,
          378,
          376,
          376,
          375,
          375,
          374,
          373,
          373,
          371,
          370,
          367,
          364,
          364,
          364,
          363,
          362,
          361,
          360,
          359,
          358,
          357,
          357,
          356,
          356,
          355,
          355,
          355,
          354,
          353,
          352,
          352,
          350,
          348,
          345,
          344,
          344,
          344,
          344,
          343,
          343,
          342,
          341,
          341,
          340,
          339,
          339,
          338,
          338,
          338,
          337,
          336,
          336,
          336,
          335,
          335,
          335,
          335,
          334,
          333,
          333,
          333,
          331,
          331,
          330,
          330,
          328,
          327,
          326,
          325,
          324,
          324,
          324,
          323,
          323,
          323,
          323,
          321,
          320,
          320,
          319,
          319,
          318,
          317,
          317,
          317,
          316,
          316,
          315,
          314,
          314,
          313,
          312,
          312,
          311,
          311,
          310,
          309,
          309,
          308,
          308,
          307,
          306,
          305,
          305,
          304,
          304,
          303,
          303,
          302,
          301,
          301,
          301,
          301,
          300,
          299,
          299,
          298,
          298,
          297,
          297,
          296,
          295,
          295,
          294,
          293,
          292,
          291,
          289,
          288,
          287,
          286,
          286,
          284,
          284,
          284,
          284,
          283,
          282,
          282,
          282,
          282,
          281,
          281,
          280,
          278,
          278,
          278,
          277,
          277,
          277,
          276,
          276,
          276,
          275,
          274,
          273,
          273,
          272,
          272,
          271,
          271,
          271,
          270,
          270,
          269,
          269,
          269,
          268,
          265,
          265,
          265,
          265,
          264,
          264,
          263,
          263,
          262,
          262,
          262,
          262,
          261,
          261,
          261,
          260,
          259,
          258,
          258,
          258,
          258,
          256,
          254,
          253,
          253,
          253,
          253,
          253,
          253,
          253,
          252,
          252,
          251,
          251,
          251,
          250,
          250,
          249,
          249,
          249,
          249,
          248,
          248,
          248,
          248,
          248,
          247,
          247,
          246,
          246,
          246,
          245,
          244,
          242,
          242,
          242,
          242,
          241,
          241,
          241,
          239,
          238,
          238,
          238,
          236,
          236,
          235,
          234,
          234,
          234,
          234,
          233,
          233,
          233,
          233,
          233,
          233,
          232,
          232,
          231,
          231,
          230,
          230,
          230,
          229,
          229,
          229,
          229,
          228,
          227,
          226,
          226,
          226,
          226,
          226,
          226,
          226,
          225,
          225,
          225,
          224,
          224,
          224,
          222,
          222,
          222,
          221,
          220,
          219,
          219,
          219,
          218,
          218,
          218,
          218,
          217,
          217,
          217,
          217,
          215,
          215,
          215,
          214,
          214,
          213,
          213,
          213,
          212,
          212,
          212,
          211,
          211,
          211,
          210,
          210,
          210,
          209,
          209,
          209,
          209,
          208,
          208,
          208,
          207,
          207,
          207,
          205,
          205,
          205,
          204,
          204,
          203,
          202,
          202,
          202,
          202,
          201,
          200,
          200,
          200,
          199,
          198,
          197,
          196,
          196,
          196,
          195,
          194,
          194,
          193,
          193,
          193,
          192,
          192,
          192,
          191,
          191,
          191,
          191,
          190,
          190,
          190,
          190,
          189,
          189,
          189,
          189,
          188,
          188,
          187,
          187,
          187,
          186,
          186,
          186,
          186,
          185,
          184,
          184,
          184,
          184,
          183,
          183,
          183,
          183,
          182,
          182,
          182,
          181,
          181,
          181,
          180,
          180,
          180,
          180,
          180,
          179,
          179,
          179,
          179,
          178,
          178,
          178,
          177,
          177,
          176,
          175,
          175,
          175,
          175,
          174,
          174,
          174,
          174,
          174,
          174,
          173,
          173,
          172,
          172,
          172,
          172,
          170,
          170,
          168,
          168,
          167,
          167,
          167,
          167,
          167,
          167,
          166,
          166,
          166,
          166,
          166,
          166,
          165,
          165,
          165,
          164,
          164,
          164,
          164,
          164,
          164,
          164,
          163,
          163,
          162,
          162,
          161,
          161,
          161,
          161,
          160,
          159,
          159,
          159,
          158,
          158,
          157,
          157,
          157,
          157,
          157,
          156,
          156,
          156,
          156,
          156,
          156,
          156,
          155,
          155,
          155,
          155,
          154,
          154,
          154,
          154,
          154,
          154,
          154,
          153,
          152,
          152,
          151,
          150,
          150,
          150,
          149,
          149,
          149,
          149,
          149,
          148,
          148,
          148,
          147,
          147,
          147,
          147,
          147,
          146,
          146,
          146,
          146,
          145,
          145,
          145,
          145,
          145,
          145,
          144,
          144,
          143,
          143,
          143,
          143,
          143,
          142,
          142,
          141,
          141,
          141,
          141,
          140,
          140,
          140,
          140,
          140,
          139,
          139,
          139,
          139,
          139,
          139,
          139,
          138,
          138,
          138,
          138,
          137,
          137,
          136,
          136,
          136,
          136,
          136,
          135,
          135,
          135,
          135,
          134,
          134,
          134,
          134,
          134,
          133,
          133,
          133,
          133,
          133,
          132,
          132,
          132,
          130,
          130,
          129,
          129,
          128,
          128,
          128,
          128,
          128,
          128,
          127,
          127,
          127,
          127,
          126,
          126,
          126,
          126,
          126,
          125,
          125,
          125,
          124,
          124,
          124,
          123,
          123,
          123,
          123,
          122,
          122,
          122,
          121,
          121,
          120,
          120,
          120,
          120,
          120,
          120,
          119,
          119,
          119,
          118,
          117,
          117,
          117,
          117,
          116,
          115,
          114,
          114,
          113,
          113,
          112,
          112,
          109,
          108,
          108,
          106,
          104,
          102,
          102,
          100,
          99,
          98,
          98,
          94,
          94,
          92,
          91,
          90,
          89,
          88,
          88,
          86,
          84,
          81,
          74,
          70,
          70,
          67,
          63,
          62,
          62,
          60,
          60,
          59,
          56,
          54,
          52,
          50,
          50,
          50,
          48,
          47,
          43,
          43,
          40,
          39,
          38,
          36,
          33,
          32,
          31,
          29,
          24,
          23,
          18,
          18,
          17,
          10,
          9,
          9,
          6,
          5,
          4,
          2
         ],
         "yaxis": "y"
        }
       ],
       "layout": {
        "legend": {
         "title": {
          "text": "variable"
         },
         "tracegroupgap": 0
        },
        "margin": {
         "t": 60
        },
        "template": {
         "data": {
          "bar": [
           {
            "error_x": {
             "color": "#2a3f5f"
            },
            "error_y": {
             "color": "#2a3f5f"
            },
            "marker": {
             "line": {
              "color": "#E5ECF6",
              "width": 0.5
             }
            },
            "type": "bar"
           }
          ],
          "barpolar": [
           {
            "marker": {
             "line": {
              "color": "#E5ECF6",
              "width": 0.5
             }
            },
            "type": "barpolar"
           }
          ],
          "carpet": [
           {
            "aaxis": {
             "endlinecolor": "#2a3f5f",
             "gridcolor": "white",
             "linecolor": "white",
             "minorgridcolor": "white",
             "startlinecolor": "#2a3f5f"
            },
            "baxis": {
             "endlinecolor": "#2a3f5f",
             "gridcolor": "white",
             "linecolor": "white",
             "minorgridcolor": "white",
             "startlinecolor": "#2a3f5f"
            },
            "type": "carpet"
           }
          ],
          "choropleth": [
           {
            "colorbar": {
             "outlinewidth": 0,
             "ticks": ""
            },
            "type": "choropleth"
           }
          ],
          "contour": [
           {
            "colorbar": {
             "outlinewidth": 0,
             "ticks": ""
            },
            "colorscale": [
             [
              0,
              "#0d0887"
             ],
             [
              0.1111111111111111,
              "#46039f"
             ],
             [
              0.2222222222222222,
              "#7201a8"
             ],
             [
              0.3333333333333333,
              "#9c179e"
             ],
             [
              0.4444444444444444,
              "#bd3786"
             ],
             [
              0.5555555555555556,
              "#d8576b"
             ],
             [
              0.6666666666666666,
              "#ed7953"
             ],
             [
              0.7777777777777778,
              "#fb9f3a"
             ],
             [
              0.8888888888888888,
              "#fdca26"
             ],
             [
              1,
              "#f0f921"
             ]
            ],
            "type": "contour"
           }
          ],
          "contourcarpet": [
           {
            "colorbar": {
             "outlinewidth": 0,
             "ticks": ""
            },
            "type": "contourcarpet"
           }
          ],
          "heatmap": [
           {
            "colorbar": {
             "outlinewidth": 0,
             "ticks": ""
            },
            "colorscale": [
             [
              0,
              "#0d0887"
             ],
             [
              0.1111111111111111,
              "#46039f"
             ],
             [
              0.2222222222222222,
              "#7201a8"
             ],
             [
              0.3333333333333333,
              "#9c179e"
             ],
             [
              0.4444444444444444,
              "#bd3786"
             ],
             [
              0.5555555555555556,
              "#d8576b"
             ],
             [
              0.6666666666666666,
              "#ed7953"
             ],
             [
              0.7777777777777778,
              "#fb9f3a"
             ],
             [
              0.8888888888888888,
              "#fdca26"
             ],
             [
              1,
              "#f0f921"
             ]
            ],
            "type": "heatmap"
           }
          ],
          "heatmapgl": [
           {
            "colorbar": {
             "outlinewidth": 0,
             "ticks": ""
            },
            "colorscale": [
             [
              0,
              "#0d0887"
             ],
             [
              0.1111111111111111,
              "#46039f"
             ],
             [
              0.2222222222222222,
              "#7201a8"
             ],
             [
              0.3333333333333333,
              "#9c179e"
             ],
             [
              0.4444444444444444,
              "#bd3786"
             ],
             [
              0.5555555555555556,
              "#d8576b"
             ],
             [
              0.6666666666666666,
              "#ed7953"
             ],
             [
              0.7777777777777778,
              "#fb9f3a"
             ],
             [
              0.8888888888888888,
              "#fdca26"
             ],
             [
              1,
              "#f0f921"
             ]
            ],
            "type": "heatmapgl"
           }
          ],
          "histogram": [
           {
            "marker": {
             "colorbar": {
              "outlinewidth": 0,
              "ticks": ""
             }
            },
            "type": "histogram"
           }
          ],
          "histogram2d": [
           {
            "colorbar": {
             "outlinewidth": 0,
             "ticks": ""
            },
            "colorscale": [
             [
              0,
              "#0d0887"
             ],
             [
              0.1111111111111111,
              "#46039f"
             ],
             [
              0.2222222222222222,
              "#7201a8"
             ],
             [
              0.3333333333333333,
              "#9c179e"
             ],
             [
              0.4444444444444444,
              "#bd3786"
             ],
             [
              0.5555555555555556,
              "#d8576b"
             ],
             [
              0.6666666666666666,
              "#ed7953"
             ],
             [
              0.7777777777777778,
              "#fb9f3a"
             ],
             [
              0.8888888888888888,
              "#fdca26"
             ],
             [
              1,
              "#f0f921"
             ]
            ],
            "type": "histogram2d"
           }
          ],
          "histogram2dcontour": [
           {
            "colorbar": {
             "outlinewidth": 0,
             "ticks": ""
            },
            "colorscale": [
             [
              0,
              "#0d0887"
             ],
             [
              0.1111111111111111,
              "#46039f"
             ],
             [
              0.2222222222222222,
              "#7201a8"
             ],
             [
              0.3333333333333333,
              "#9c179e"
             ],
             [
              0.4444444444444444,
              "#bd3786"
             ],
             [
              0.5555555555555556,
              "#d8576b"
             ],
             [
              0.6666666666666666,
              "#ed7953"
             ],
             [
              0.7777777777777778,
              "#fb9f3a"
             ],
             [
              0.8888888888888888,
              "#fdca26"
             ],
             [
              1,
              "#f0f921"
             ]
            ],
            "type": "histogram2dcontour"
           }
          ],
          "mesh3d": [
           {
            "colorbar": {
             "outlinewidth": 0,
             "ticks": ""
            },
            "type": "mesh3d"
           }
          ],
          "parcoords": [
           {
            "line": {
             "colorbar": {
              "outlinewidth": 0,
              "ticks": ""
             }
            },
            "type": "parcoords"
           }
          ],
          "pie": [
           {
            "automargin": true,
            "type": "pie"
           }
          ],
          "scatter": [
           {
            "marker": {
             "colorbar": {
              "outlinewidth": 0,
              "ticks": ""
             }
            },
            "type": "scatter"
           }
          ],
          "scatter3d": [
           {
            "line": {
             "colorbar": {
              "outlinewidth": 0,
              "ticks": ""
             }
            },
            "marker": {
             "colorbar": {
              "outlinewidth": 0,
              "ticks": ""
             }
            },
            "type": "scatter3d"
           }
          ],
          "scattercarpet": [
           {
            "marker": {
             "colorbar": {
              "outlinewidth": 0,
              "ticks": ""
             }
            },
            "type": "scattercarpet"
           }
          ],
          "scattergeo": [
           {
            "marker": {
             "colorbar": {
              "outlinewidth": 0,
              "ticks": ""
             }
            },
            "type": "scattergeo"
           }
          ],
          "scattergl": [
           {
            "marker": {
             "colorbar": {
              "outlinewidth": 0,
              "ticks": ""
             }
            },
            "type": "scattergl"
           }
          ],
          "scattermapbox": [
           {
            "marker": {
             "colorbar": {
              "outlinewidth": 0,
              "ticks": ""
             }
            },
            "type": "scattermapbox"
           }
          ],
          "scatterpolar": [
           {
            "marker": {
             "colorbar": {
              "outlinewidth": 0,
              "ticks": ""
             }
            },
            "type": "scatterpolar"
           }
          ],
          "scatterpolargl": [
           {
            "marker": {
             "colorbar": {
              "outlinewidth": 0,
              "ticks": ""
             }
            },
            "type": "scatterpolargl"
           }
          ],
          "scatterternary": [
           {
            "marker": {
             "colorbar": {
              "outlinewidth": 0,
              "ticks": ""
             }
            },
            "type": "scatterternary"
           }
          ],
          "surface": [
           {
            "colorbar": {
             "outlinewidth": 0,
             "ticks": ""
            },
            "colorscale": [
             [
              0,
              "#0d0887"
             ],
             [
              0.1111111111111111,
              "#46039f"
             ],
             [
              0.2222222222222222,
              "#7201a8"
             ],
             [
              0.3333333333333333,
              "#9c179e"
             ],
             [
              0.4444444444444444,
              "#bd3786"
             ],
             [
              0.5555555555555556,
              "#d8576b"
             ],
             [
              0.6666666666666666,
              "#ed7953"
             ],
             [
              0.7777777777777778,
              "#fb9f3a"
             ],
             [
              0.8888888888888888,
              "#fdca26"
             ],
             [
              1,
              "#f0f921"
             ]
            ],
            "type": "surface"
           }
          ],
          "table": [
           {
            "cells": {
             "fill": {
              "color": "#EBF0F8"
             },
             "line": {
              "color": "white"
             }
            },
            "header": {
             "fill": {
              "color": "#C8D4E3"
             },
             "line": {
              "color": "white"
             }
            },
            "type": "table"
           }
          ]
         },
         "layout": {
          "annotationdefaults": {
           "arrowcolor": "#2a3f5f",
           "arrowhead": 0,
           "arrowwidth": 1
          },
          "coloraxis": {
           "colorbar": {
            "outlinewidth": 0,
            "ticks": ""
           }
          },
          "colorscale": {
           "diverging": [
            [
             0,
             "#8e0152"
            ],
            [
             0.1,
             "#c51b7d"
            ],
            [
             0.2,
             "#de77ae"
            ],
            [
             0.3,
             "#f1b6da"
            ],
            [
             0.4,
             "#fde0ef"
            ],
            [
             0.5,
             "#f7f7f7"
            ],
            [
             0.6,
             "#e6f5d0"
            ],
            [
             0.7,
             "#b8e186"
            ],
            [
             0.8,
             "#7fbc41"
            ],
            [
             0.9,
             "#4d9221"
            ],
            [
             1,
             "#276419"
            ]
           ],
           "sequential": [
            [
             0,
             "#0d0887"
            ],
            [
             0.1111111111111111,
             "#46039f"
            ],
            [
             0.2222222222222222,
             "#7201a8"
            ],
            [
             0.3333333333333333,
             "#9c179e"
            ],
            [
             0.4444444444444444,
             "#bd3786"
            ],
            [
             0.5555555555555556,
             "#d8576b"
            ],
            [
             0.6666666666666666,
             "#ed7953"
            ],
            [
             0.7777777777777778,
             "#fb9f3a"
            ],
            [
             0.8888888888888888,
             "#fdca26"
            ],
            [
             1,
             "#f0f921"
            ]
           ],
           "sequentialminus": [
            [
             0,
             "#0d0887"
            ],
            [
             0.1111111111111111,
             "#46039f"
            ],
            [
             0.2222222222222222,
             "#7201a8"
            ],
            [
             0.3333333333333333,
             "#9c179e"
            ],
            [
             0.4444444444444444,
             "#bd3786"
            ],
            [
             0.5555555555555556,
             "#d8576b"
            ],
            [
             0.6666666666666666,
             "#ed7953"
            ],
            [
             0.7777777777777778,
             "#fb9f3a"
            ],
            [
             0.8888888888888888,
             "#fdca26"
            ],
            [
             1,
             "#f0f921"
            ]
           ]
          },
          "colorway": [
           "#636efa",
           "#EF553B",
           "#00cc96",
           "#ab63fa",
           "#FFA15A",
           "#19d3f3",
           "#FF6692",
           "#B6E880",
           "#FF97FF",
           "#FECB52"
          ],
          "font": {
           "color": "#2a3f5f"
          },
          "geo": {
           "bgcolor": "white",
           "lakecolor": "white",
           "landcolor": "#E5ECF6",
           "showlakes": true,
           "showland": true,
           "subunitcolor": "white"
          },
          "hoverlabel": {
           "align": "left"
          },
          "hovermode": "closest",
          "mapbox": {
           "style": "light"
          },
          "paper_bgcolor": "white",
          "plot_bgcolor": "#E5ECF6",
          "polar": {
           "angularaxis": {
            "gridcolor": "white",
            "linecolor": "white",
            "ticks": ""
           },
           "bgcolor": "#E5ECF6",
           "radialaxis": {
            "gridcolor": "white",
            "linecolor": "white",
            "ticks": ""
           }
          },
          "scene": {
           "xaxis": {
            "backgroundcolor": "#E5ECF6",
            "gridcolor": "white",
            "gridwidth": 2,
            "linecolor": "white",
            "showbackground": true,
            "ticks": "",
            "zerolinecolor": "white"
           },
           "yaxis": {
            "backgroundcolor": "#E5ECF6",
            "gridcolor": "white",
            "gridwidth": 2,
            "linecolor": "white",
            "showbackground": true,
            "ticks": "",
            "zerolinecolor": "white"
           },
           "zaxis": {
            "backgroundcolor": "#E5ECF6",
            "gridcolor": "white",
            "gridwidth": 2,
            "linecolor": "white",
            "showbackground": true,
            "ticks": "",
            "zerolinecolor": "white"
           }
          },
          "shapedefaults": {
           "line": {
            "color": "#2a3f5f"
           }
          },
          "ternary": {
           "aaxis": {
            "gridcolor": "white",
            "linecolor": "white",
            "ticks": ""
           },
           "baxis": {
            "gridcolor": "white",
            "linecolor": "white",
            "ticks": ""
           },
           "bgcolor": "#E5ECF6",
           "caxis": {
            "gridcolor": "white",
            "linecolor": "white",
            "ticks": ""
           }
          },
          "title": {
           "x": 0.05
          },
          "xaxis": {
           "automargin": true,
           "gridcolor": "white",
           "linecolor": "white",
           "ticks": "",
           "title": {
            "standoff": 15
           },
           "zerolinecolor": "white",
           "zerolinewidth": 2
          },
          "yaxis": {
           "automargin": true,
           "gridcolor": "white",
           "linecolor": "white",
           "ticks": "",
           "title": {
            "standoff": 15
           },
           "zerolinecolor": "white",
           "zerolinewidth": 2
          }
         }
        },
        "xaxis": {
         "anchor": "y",
         "domain": [
          0,
          1
         ],
         "title": {
          "text": "Especie"
         }
        },
        "yaxis": {
         "anchor": "x",
         "domain": [
          0,
          1
         ],
         "title": {
          "text": "value"
         }
        }
       }
      },
      "text/html": [
       "<div>                            <div id=\"2be9c565-dfb9-4ea2-b672-ac16e7aae236\" class=\"plotly-graph-div\" style=\"height:525px; width:100%;\"></div>            <script type=\"text/javascript\">                require([\"plotly\"], function(Plotly) {                    window.PLOTLYENV=window.PLOTLYENV || {};                                    if (document.getElementById(\"2be9c565-dfb9-4ea2-b672-ac16e7aae236\")) {                    Plotly.newPlot(                        \"2be9c565-dfb9-4ea2-b672-ac16e7aae236\",                        [{\"hovertemplate\": \"variable=N\\u00famero de im\\u00e1genes<br>Especie=%{x}<br>value=%{y}<extra></extra>\", \"legendgroup\": \"N\\u00famero de im\\u00e1genes\", \"line\": {\"color\": \"#636efa\"}, \"mode\": \"lines\", \"name\": \"N\\u00famero de im\\u00e1genes\", \"orientation\": \"v\", \"showlegend\": true, \"stackgroup\": \"1\", \"type\": \"scatter\", \"x\": [\"Lepomis macrochirus\", \"Micropterus salmoides\", \"Cyprinus carpio\", \"Oncorhynchus mykiss\", \"Lepomis cyanellus\", \"Gambusia affinis\", \"Lepomis gibbosus\", \"Micropterus dolomieu\", \"Salmo trutta\", \"Salvelinus fontinalis\", \"Hippocampus abdominalis\", \"Ictalurus punctatus\", \"Semotilus atromaculatus\", \"Esox lucius\", \"Lepomis megalotis\", \"Perca flavescens\", \"Zanclus cornutus\", \"Lepomis auritus\", \"Gambusia holbrooki\", \"Cyprinus rubrofuscus\", \"Gasterosteus aculeatus\", \"Pomoxis nigromaculatus\", \"Abudefduf saxatilis\", \"Ambloplites rupestris\", \"Pterois volitans\", \"Catostomus commersonii\", \"Carassius auratus\", \"Diodon nicthemerus\", \"Sphyraena barracuda\", \"Fistularia commersonii\", \"Lagodon rhomboides\", \"Lepisosteus osseus\", \"Phycodurus eques\", \"Acanthurus triostegus\", \"Mola mola\", \"Acanthurus coeruleus\", \"Abudefduf vaigiensis\", \"Perca fluviatilis\", \"Chaetodon auriga\", \"Amphiprion clarkii\", \"Diodon hystrix\", \"Oncorhynchus tshawytscha\", \"Dorosoma cepedianum\", \"Diodon holocanthus\", \"Morone saxatilis\", \"Chrysophrys auratus\", \"Lepisosteus oculatus\", \"Lepomis gulosus\", \"Scorpaena jacksoniensis\", \"Enoplosus armatus\", \"Ameiurus natalis\", \"Anguilla rostrata\", \"Ameiurus nebulosus\", \"Notemigonus crysoleucas\", \"Oreochromis mossambicus\", \"Chilomycterus schoepfii\", \"Arothron hispidus\", \"Lepomis microlophus\", \"Aplodinotus grunniens\", \"Etheostoma caeruleum\", \"Oncorhynchus clarkii\", \"Brachaluteres jacksonianus\", \"Luxilus cornutus\", \"Sarpa salpa\", \"Neogobius melanostomus\", \"Rhinichthys atratulus\", \"Lutjanus griseus\", \"Aulostomus chinensis\", \"Oreochromis niloticus\", \"Thalassoma bifasciatum\", \"Tetractenos glaber\", \"Upeneichthys lineatus\", \"Sciaenops ocellatus\", \"Cheilodactylus fuscus\", \"Ariopsis felis\", \"Fundulus heteroclitus\", \"Ameiurus melas\", \"Sparisoma viride\", \"Ostracion meleagris\", \"Pomacanthus paru\", \"Lepisosteus platyrhincus\", \"Microcanthus strigatus\", \"Sander vitreus\", \"Oncorhynchus nerka\", \"Monacanthus chinensis\", \"Thalassoma pavo\", \"Pimephales notatus\", \"Oncorhynchus kisutch\", \"Platycephalus fuscus\", \"Thalassoma lunare\", \"Ostracion cubicus\", \"Diplodus sargus\", \"Squalius cephalus\", \"Mayaheros urophthalmus\", \"Megalops atlanticus\", \"Meuschenia freycineti\", \"Campostoma anomalum\", \"Amia calva\", \"Culaea inconstans\", \"Hippocampus whitei\", \"Acanthopagrus australis\", \"Phyllopteryx taeniolatus\", \"Abudefduf sexfasciatus\", \"Chaetodon lunula\", \"Trachurus novaezelandiae\", \"Dascyllus trimaculatus\", \"Hypsypops rubicundus\", \"Scarus ghobban\", \"Parma microlepis\", \"Herichthys cyanoguttatus\", \"Haemulon flavolineatum\", \"Diplodus vulgaris\", \"Arothron meleagris\", \"Lutjanus apodus\", \"Gymnothorax prasinus\", \"Fundulus notatus\", \"Poecilia latipinna\", \"Paracirrhites forsteri\", \"Oligocottus maculosus\", \"Atypichthys strigatus\", \"Semotilus corporalis\", \"Coris julis\", \"Arothron nigropunctatus\", \"Luxilus chrysocephalus\", \"Oncorhynchus keta\", \"Aulostomus maculatus\", \"Meuschenia trachylepis\", \"Scarus rubroviolaceus\", \"Gymnothorax javanicus\", \"Morone americana\", \"Naso lituratus\", \"Caranx melampygus\", \"Pimephales promelas\", \"Plotosus lineatus\", \"Tilodon sexfasciatus\", \"Lactophrys triqueter\", \"Xiphophorus hellerii\", \"Girella tricuspidata\", \"Aluterus scriptus\", \"Naso unicornis\", \"Cynoscion nebulosus\", \"Systomus rubripinnis\", \"Hippocampus reidi\", \"Cyprinodon variegatus\", \"Chromis chromis\", \"Girella zebra\", \"Pterois miles\", \"Pomoxis annularis\", \"Girella nigricans\", \"Echidna nebulosa\", \"Thalassoma lucasanum\", \"Anguilla dieffenbachii\", \"Scardinius erythrophthalmus\", \"Parupeneus spilurus\", \"Haemulon sciurus\", \"Rhinecanthus rectangulus\", \"Esox niger\", \"Chlorurus spilurus\", \"Porichthys notatus\", \"Serranus scriba\", \"Pseudanthias squamipinnis\", \"Mulloidichthys flavolineatus\", \"Rhinecanthus aculeatus\", \"Cyprinella venusta\", \"Balistoides viridescens\", \"Mullus surmuletus\", \"Fundulus diaphanus\", \"Holacanthus passer\", \"Pomatomus saltatrix\", \"Archosargus probatocephalus\", \"Rutilus rutilus\", \"Dicotylichthys punctulatus\", \"Umbra limi\", \"Anoplocapros inermis\", \"Chrosomus eos\", \"Dactylophora nigricans\", \"Clinocottus analis\", \"Cottus bairdii\", \"Cheilodactylus nigripes\", \"Abudefduf sordidus\", \"Esox americanus\", \"Acanthurus olivaceus\", \"Etheostoma flabellare\", \"Scorpaenichthys marmoratus\", \"Chaetodon capistratus\", \"Ocyurus chrysurus\", \"Echeneis naucrates\", \"Etheostoma spectabile\", \"Cephalopholis argus\", \"Zebrasoma flavescens\", \"Gobiesox maeandricus\", \"Abudefduf troschelii\", \"Hippocampus histrix\", \"Amphiprion ocellaris\", \"Hippocampus kuda\", \"Opsariichthys pachycephalus\", \"Acanthurus lineatus\", \"Latropiscis purpurissatus\", \"Thalassoma hardwicke\", \"Pomacanthus arcuatus\", \"Ctenopharyngodon idella\", \"Microspathodon chrysurus\", \"Hypentelium nigricans\", \"Halichoeres hortulanus\", \"Chaetodon ornatissimus\", \"Mulloidichthys vanicolensis\", \"Canthigaster valentini\", \"Pseudocaranx georgianus\", \"Meuschenia hippocrepis\", \"Platax teira\", \"Oblada melanura\", \"Gymnothorax meleagris\", \"Hypoplectrodes maccullochi\", \"Halichoeres bivittatus\", \"Hippocampus bargibanti\", \"Pholis gunnellus\", \"Coris gaimard\", \"Forcipiger flavissimus\", \"Schuettea scalaripinnis\", \"Caranx sexfasciatus\", \"Acanthurus nigrofuscus\", \"Pogonias cromis\", \"Parma victoriae\", \"Melichthys niger\", \"Bodianus diplotaenia\", \"Taenianotus triacanthus\", \"Gymnothorax funebris\", \"Rhinichthys cataractae\", \"Paralabrax clathratus\", \"Upeneichthys vlamingii\", \"Chaetodon lunulatus\", \"Scorpis aequipinnis\", \"Ostorhinchus limenus\", \"Etheostoma nigrum\", \"Chaetodon kleinii\", \"Zebrasoma velifer\", \"Pomacanthus imperator\", \"Caranx ruber\", \"Thalassoma duperrey\", \"Balistapus undulatus\", \"Hippocampus breviceps\", \"Acrossocheilus paradoxus\", \"Brevoortia tyrannus\", \"Gymnothorax moringa\", \"Scorpis lineolata\", \"Ictalurus furcatus\", \"Phoxinus phoxinus\", \"Syngnathus leptorhynchus\", \"Pylodictis olivaris\", \"Parupeneus multifasciatus\", \"Muraena helena\", \"Sphoeroides testudineus\", \"Idiotropiscis lumnitzeri\", \"Chaetodon vagabundus\", \"Anisotremus virginicus\", \"Cyprinella lutrensis\", \"Ophiodon elongatus\", \"Anguilla anguilla\", \"Holacanthus ciliaris\", \"Gymnothorax flavimarginatus\", \"Scorpaena plumieri\", \"Scobinichthys granulatus\", \"Amphiprion perideraion\", \"Oncorhynchus gorbuscha\", \"Anguilla australis\", \"Antennarius striatus\", \"Menticirrhus americanus\", \"Leptocottus armatus\", \"Nocomis biguttatus\", \"Cephalopholis miniata\", \"Scarus iseri\", \"Cymatogaster aggregata\", \"Chaetodipterus faber\", \"Caranx hippos\", \"Hippocampus guttulatus\", \"Monotaxis grandoculis\", \"Micropogonias undulatus\", \"Chromis viridis\", \"Trachinops taeniatus\", \"Lutjanus kasmira\", \"Periophthalmus modestus\", \"Centropristis striata\", \"Cheilinus undulatus\", \"Etheostoma blennioides\", \"Microspathodon dorsalis\", \"Micropterus punctulatus\", \"Dinolestes lewini\", \"Pomacentrus coelestis\", \"Allomycterus pilatus\", \"Cheilodactylus vestitus\", \"Anoplarchus purpurescens\", \"Chaetodon unimaculatus\", \"Fundulus majalis\", \"Rhinogobius duospilus\", \"Epinephelus marginatus\", \"Galaxias fasciatus\", \"Leiostomus xanthurus\", \"Strongylura marina\", \"Pygoplites diacanthus\", \"Centropomus undecimalis\", \"Chaetodon striatus\", \"Trachinotus carolinus\", \"Cnidoglanis macrocephalus\", \"Monodactylus argenteus\", \"Percina caprodes\", \"Mecaenichthys immaculatus\", \"Seriola lalandi\", \"Micropterus floridanus\", \"Hemigymnus melapterus\", \"Opsanus tau\", \"Acanthurus xanthopterus\", \"Pachymetopon blochii\", \"Sparisoma aurofrenatum\", \"Anguilla reinhardtii\", \"Bagre marinus\", \"Pterois antennata\", \"Scolopsis bilineata\", \"Plectorhinchus chaetodonoides\", \"Arripis trutta\", \"Pseudogastromyzon myersi\", \"Centropogon australis\", \"Chaetodon trifascialis\", \"Solenostomus paradoxus\", \"Oreochromis aureus\", \"Kyphosus vaigiensis\", \"Morone chrysops\", \"Menidia menidia\", \"Antennarius commerson\", \"Paracirrhites arcatus\", \"Novaculichthys taeniourus\", \"Chaetodon citrinellus\", \"Cottus carolinae\", \"Poecilia reticulata\", \"Acanthostracion quadricornis\", \"Ctenochaetus striatus\", \"Rhinogobius candidianus\", \"Dascyllus aruanus\", \"Dendrochirus zebra\", \"Pomacanthus semicirculatus\", \"Dicentrarchus labrax\", \"Cirrhitichthys aprinus\", \"Stegastes leucostictus\", \"Chaetodon melannotus\", \"Fundulus chrysotus\", \"Melichthys vidua\", \"Micropterus treculii\", \"Dascyllus reticulatus\", \"Serranus cabrilla\", \"Sufflamen bursa\", \"Gobius niger\", \"Scarus psittacus\", \"Pempheris compressa\", \"Epibulus insidiator\", \"Halichoeres garnoti\", \"Holocentrus rufus\", \"Canthigaster jactator\", \"Synodus intermedius\", \"Squalius squalus\", \"Salvelinus namaycush\", \"Lepomis marginatus\", \"Scarus guacamaia\", \"Haemulon plumierii\", \"Kyphosus sydneyanus\", \"Gobius cobitis\", \"Parma unifasciata\", \"Clupea pallasii\", \"Nocomis micropogon\", \"Bodianus rufus\", \"Channa argus\", \"Bothus lunatus\", \"Acanthurus tractus\", \"Balistes capriscus\", \"Parazacco spilurus\", \"Sillago ciliata\", \"Cyprinella spiloptera\", \"Scarus frenatus\", \"Chromis hypsilepis\", \"Chaetodon quadrimaculatus\", \"Chaetodon ephippium\", \"Chironemus marmoratus\", \"Pomacentrus moluccensis\", \"Prionurus microlepidotus\", \"Heniochus acuminatus\", \"Arothron stellatus\", \"Channa striata\", \"Acanthurus dussumieri\", \"Elops saurus\", \"Aphredoderus sayanus\", \"Canthigaster rostrata\", \"Chaetodon ocellatus\", \"Synodus foetens\", \"Thalassoma trilobatum\", \"Sufflamen chrysopterum\", \"Rhabdosargus sarba\", \"Eubalichthys mosaicus\", \"Orthopristis chrysoptera\", \"Amphiprion melanopus\", \"Lutjanus fulvus\", \"Epinephelus merra\", \"Abudefduf bengalensis\", \"Stigmatopora nigra\", \"Boleophthalmus pectinirostris\", \"Gobius incognitus\", \"Misgurnus anguillicaudatus\", \"Prionurus laticlavius\", \"Abramis brama\", \"Sparisoma cretense\", \"Meuschenia scaber\", \"Paralichthys dentatus\", \"Rhinichthys obtusus\", \"Epinephelus fasciatus\", \"Scarus vetula\", \"Coryphaena hippurus\", \"Premnas biaculeatus\", \"Clarias gariepinus\", \"Gerres cinereus\", \"Acanthopagrus butcheri\", \"Eocallionymus papilio\", \"Acanthurus chirurgus\", \"Chlorurus microrhinos\", \"Carassius gibelio\", \"Cantherhines macrocerus\", \"Tetractenos hamiltoni\", \"Nocomis leptocephalus\", \"Acanthurus nigricans\", \"Heniochus diphreutes\", \"Thalassoma lutescens\", \"Lithognathus mormyrus\", \"Amblygobius phalaena\", \"Balistoides conspicillum\", \"Naso brevirostris\", \"Sphoeroides maculatus\", \"Dendrochirus brachypterus\", \"Sicyopterus japonicus\", \"Terapon jarbua\", \"Cyprinodon nevadensis\", \"Centrarchus macropterus\", \"Etheostoma olmstedi\", \"Odonus niger\", \"Sphoeroides annulatus\", \"Antennarius pictus\", \"Istigobius hoesei\", \"Neoodax balteatus\", \"Olisthops cyanomelas\", \"Chromis cyanea\", \"Pimephales vigilax\", \"Hippocampus erectus\", \"Enophrys bison\", \"Solenostomus cyanopterus\", \"Caranx latus\", \"Rhinomuraena quaesita\", \"Lepomis punctatus\", \"Plectorhinchus vittatus\", \"Fundulus grandis\", \"Alburnus alburnus\", \"Lactoria fornasini\", \"Scarus niger\", \"Hippocampus ingens\", \"Paralichthys californicus\", \"Torquigener pleurogramma\", \"Coris aygula\", \"Hippocampus hippocampus\", \"Chelmonops truncatus\", \"Caranx crysos\", \"Acanthoclinus fuscus\", \"Aplodactylus lophodon\", \"Gymnothorax eurostus\", \"Notropis hudsonius\", \"Amphiprion bicinctus\", \"Dactylopterus volitans\", \"Argyrosomus japonicus\", \"Dorosoma petenense\", \"Cantherhines dumerilii\", \"Opsanus beta\", \"Balistes polylepis\", \"Chrysoblephus laticeps\", \"Halichoeres radiatus\", \"Zebrasoma scopas\", \"Synodus variegatus\", \"Acanthostracion polygonius\", \"Platichthys stellatus\", \"Stegastes acapulcoensis\", \"Cochleoceps orientalis\", \"Lutjanus bohar\", \"Filicampus tigris\", \"Amblyglyphidodon curacao\", \"Gymnothorax thyrsoideus\", \"Ammodytes personatus\", \"Bairdiella chrysoura\", \"Johnrandallia nigrirostris\", \"Clinostomus funduloides\", \"Neoniphon sammara\", \"Cirrhitichthys oxycephalus\", \"Noturus flavus\", \"Lobotes surinamensis\", \"Hippocampus subelongatus\", \"Lutjanus synagris\", \"Caranx ignobilis\", \"Mulloidichthys martinicus\", \"Bothus podas\", \"Cheilinus chlorourus\", \"Liniparhomaloptera disparis\", \"Tinca tinca\", \"Stegastes planifrons\", \"Cleidopus gloriamaris\", \"Pempheris affinis\", \"Fundulus olivaceus\", \"Macolor macularis\", \"Cetoscarus ocellatus\", \"Lota lota\", \"Gadus morhua\", \"Chaetodon lineolatus\", \"Stenotomus chrysops\", \"Menidia beryllina\", \"Coris picta\", \"Cobitis sinensis\", \"Pomacanthus sexstriatus\", \"Chaetodon baronessa\", \"Scorpaena porcus\", \"Sparus aurata\", \"Chaetodon humeralis\", \"Meuschenia flavolineata\", \"Sparisoma rubripinne\", \"Oxycheilinus digramma\", \"Epinephelus labriformis\", \"Tilapia sparrmanii\", \"Prionotus evolans\", \"Diagramma pictum\", \"Arothron mappa\", \"Hexagrammos decagrammus\", \"Heniochus chrysostomus\", \"Stegastes partitus\", \"Atractosteus spatula\", \"Menticirrhus littoralis\", \"Thalassoma amblycephalum\", \"Lutjanus analis\", \"Canthigaster callisterna\", \"Lactophrys bicaudalis\", \"Pholis laeta\", \"Salmo salar\", \"Plectropomus leopardus\", \"Chaetodon ulietensis\", \"Rhinogobiops nicholsii\", \"Acanthaluteres vittiger\", \"Parupeneus cyclostomus\", \"Cheilinus fasciatus\", \"Holacanthus tricolor\", \"Nemateleotris magnifica\", \"Lethrinus nebulosus\", \"Seriola dumerili\", \"Heteroscarus acroptilus\", \"Lepomis miniatus\", \"Tylosurus crocodilus\", \"Amphiprion chrysopterus\", \"Esox masquinongy\", \"Chlorurus sordidus\", \"Aracana aurita\", \"Cephalopholis cruentata\", \"Myoxocephalus scorpius\", \"Gymnothorax favagineus\", \"Cyprinodon salinus\", \"Lutjanus argentimaculatus\", \"Chaetodon trifasciatus\", \"Sebastes caurinus\", \"Upeneus tragula\", \"Plectroglyphidodon lacrymatus\", \"Clarias batrachus\", \"Platax orbicularis\", \"Syngnathus fuscus\", \"Ctenochaetus strigosus\", \"Cirrhitus rivulatus\", \"Haemulon chrysargyreum\", \"Chromis multilineata\", \"Pomacanthus zonipectus\", \"Gymnothorax miliaris\", \"Scarus rivulatus\", \"Galaxias maculatus\", \"Engraulis mordax\", \"Pungitius pungitius\", \"Taurulus bubalis\", \"Diplodus puntazzo\", \"Scorpaena scrofa\", \"Oxylebius pictus\", \"Cirrhitus pinnulatus\", \"Apodichthys flavidus\", \"Equetus punctatus\", \"Dascyllus albisella\", \"Astronotus ocellatus\", \"Chaetodon flavirostris\", \"Halichoeres trimaculatus\", \"Hemitaurichthys polylepis\", \"Amblyglyphidodon aureus\", \"Labidesthes sicculus\", \"Monopterus albus\", \"Moxostoma erythrurum\", \"Kyphosus sectatrix\", \"Acanthurus leucosternon\", \"Siganus fuscescens\", \"Alosa pseudoharengus\", \"Hoplias malabaricus\", \"Abudefduf abdominalis\", \"Amphiprion frenatus\", \"Pelmatolapia mariae\", \"Coptodon zillii\", \"Chelmonops curiosus\", \"Gymnothorax pictus\", \"Cheilio inermis\", \"Hippocampus comes\", \"Diodon liturosus\", \"Chlorurus bleekeri\", \"Scomber scombrus\", \"Parupeneus barberinus\", \"Etheostoma exile\", \"Sphyraena obtusata\", \"Notropis rubellus\", \"Conger conger\", \"Eubalichthys bucephalus\", \"Mycteroperca bonaci\", \"Minytrema melanops\", \"Apogon imberbis\", \"Lepomis humilis\", \"Scomber japonicus\", \"Trichiurus lepturus\", \"Centropyge bicolor\", \"Gnathodentex aureolineatus\", \"Paralabrax maculatofasciatus\", \"Epinephelus striatus\", \"Cephalopholis fulva\", \"Pholis ornata\", \"Priacanthus hamrur\", \"Noturus gyrinus\", \"Scomberomorus maculatus\", \"Prionurus punctatus\", \"Scorpaena maderensis\", \"Holocentrus adscensionis\", \"Cichla ocellaris\", \"Kyphosus cinerascens\", \"Scarus taeniopterus\", \"Trachelochismus pinnulatus\", \"Pseudopleuronectes americanus\", \"Cheilodactylus spectabilis\", \"Gobius paganellus\", \"Sebastes melanops\", \"Notropis atherinoides\", \"Stegastes arcifrons\", \"Dactyloptena orientalis\", \"Arothron manilensis\", \"Periophthalmodon schlosseri\", \"Paralichthys lethostigma\", \"Cheilodactylus fasciatus\", \"Oxymonacanthus longirostris\", \"Cebidichthys violaceus\", \"Scarus schlegeli\", \"Ostorhinchus aureus\", \"Kyphosus azureus\", \"Gymnothorax mordax\", \"Oxycheilinus bimaculatus\", \"Chromis atripectoralis\", \"Gerres subfasciatus\", \"Silurus glanis\", \"Stethojulis bandanensis\", \"Gymnomuraena zebra\", \"Scorpaenopsis diabolus\", \"Etheostoma zonale\", \"Cottus gobio\", \"Sphoeroides nephelus\", \"Cheilinus trilobatus\", \"Chaetodon guentheri\", \"Stethojulis interrupta\", \"Diplodus capensis\", \"Hippocampus spinosissimus\", \"Elassoma zonatum\", \"Chaetodon plebeius\", \"Lutjanus gibbus\", \"Belone belone\", \"Embiotoca lateralis\", \"Percina nigrofasciata\", \"Cirrhitichthys falco\", \"Variola louti\", \"Acanthurus leucopareius\", \"Notropis stramineus\", \"Platax pinnatus\", \"Sargocentron spiniferum\", \"Ictiobus bubalus\", \"Myrichthys breviceps\", \"Heniochus varius\", \"Pseudorasbora parva\", \"Hemigymnus fasciatus\", \"Pseudupeneus maculatus\", \"Moxostoma macrolepidotum\", \"Ameiurus catus\", \"Caesio caerulaurea\", \"Heterandria formosa\", \"Gobio gobio\", \"Hypoplectrodes nigroruber\", \"Plectorhinchus lineatus\", \"Lepomis peltastes\", \"Scorpaena guttata\", \"Naso vlamingii\", \"Chaetodon rafflesii\", \"Chrosomus erythrogaster\", \"Sander lucioperca\", \"Acanthurus blochii\", \"Sebastes atrovirens\", \"Myripristis jacobus\", \"Hippocampus denise\", \"Lutjanus argentiventris\", \"Antennarius maculatus\", \"Heniochus intermedius\", \"Lutjanus russellii\", \"Scorpaena notata\", \"Acanthistius ocellatus\", \"Fundulus similis\", \"Lutjanus fulviflamma\", \"Chelidonichthys kumu\", \"Gymnothorax undulatus\", \"Acanthogobius flavimanus\", \"Chromis punctipinnis\", \"Balistes vetula\", \"Aracana ornata\", \"Bathygobius krefftii\", \"Sphoeroides spengleri\", \"Chelmon rostratus\", \"Myripristis kuntee\", \"Rhinichthys osculus\", \"Lutjanus mahogoni\", \"Scatophagus argus\", \"Halichoeres scapularis\", \"Pempheris multiradiata\", \"Parapercis colias\", \"Xiphister atropurpureus\", \"Coris sandeyeri\", \"Acanthurus pyroferus\", \"Chaetodon meyeri\", \"Cheilodipterus macrodon\", \"Paraluteres prionurus\", \"Macolor niger\", \"Acanthurus mata\", \"Macropharyngodon meleagris\", \"Synanceia verrucosa\", \"Chaetodon speculum\", \"Valenciennea strigata\", \"Cantherhines pullus\", \"Gobius cruentatus\", \"Iniistius pavo\", \"Halichoeres nicholsi\", \"Syngnathus acus\", \"Bolbometopon muricatum\", \"Muraena lentiginosa\", \"Zebrasoma desjardinii\", \"Cyclopterus lumpus\", \"Ptychocheilus oregonensis\", \"Boops boops\", \"Caesio cuning\", \"Trachinotus falcatus\", \"Ptereleotris evides\", \"Pseudanthias pleurotaenia\", \"Chaetodon octofasciatus\", \"Gnathanodon speciosus\", \"Nemadactylus douglasii\", \"Lutjanus campechanus\", \"Stegastes nigricans\", \"Serranus tigrinus\", \"Pomacentrus pavo\", \"Sebastes auriculatus\", \"Hippocampus pontohi\", \"Anampses caeruleopunctatus\", \"Siganus virgatus\", \"Percina maculata\", \"Pseudobalistes fuscus\", \"Echidna catenata\", \"Plectorhinchus flavomaculatus\", \"Sargocentron diadema\", \"Stegastes adustus\", \"Dascyllus abudafur\", \"Omegophora armilla\", \"Telestes muticellus\", \"Lutjanus monostigma\", \"Atherinops affinis\", \"Halichoeres marginatus\", \"Sargocentron caudimaculatum\", \"Morone mississippiensis\", \"Heteroconger hassi\", \"Anchoa mitchilli\", \"Pempheris klunzingeri\", \"Paraplesiops bleekeri\", \"Osmerus mordax\", \"Diplodus annularis\", \"Eurypegasus draconis\", \"Paraplesiops meleagris\", \"Acipenser transmontanus\", \"Neoglyphidodon melas\", \"Halichoeres semicinctus\", \"Pseudobalistes flavimarginatus\", \"Oxycirrhites typus\", \"Chromis margaritifer\", \"Epinephelus undulatostriatus\", \"Embiotoca jacksoni\", \"Diploprion bifasciatum\", \"Chirodactylus brachydactylus\", \"Epinephelus lanceolatus\", \"Trinectes maculatus\", \"Cromileptes altivelis\", \"Moxostoma anisurum\", \"Calotomus carolinus\", \"Selene vomer\", \"Abudefduf septemfasciatus\", \"Siganus vulpinus\", \"Rachycentron canadum\", \"Thalassoma purpureum\", \"Trachyrhamphus bicoarctatus\", \"Scarus coeruleus\", \"Atherinopsis californiensis\", \"Cottus asper\", \"Padogobius bonelli\", \"Mulloidichthys dentatus\", \"Carangoides bartholomaei\", \"Sarotherodon melanotheron\", \"Parapercis ramsayi\", \"Siganus guttatus\", \"Gymnothorax griseus\", \"Pareques acuminatus\", \"Oligocottus snyderi\", \"Heniochus monoceros\", \"Scorpis georgiana\", \"Acipenser fulvescens\", \"Neoglyphidodon nigroris\", \"Thunnus albacares\", \"Bothus mancus\", \"Sebastes miniatus\", \"Siganus corallinus\", \"Acanthurus guttatus\", \"Plectroglyphidodon dickii\", \"Pterois radiata\", \"Geophagus brasiliensis\", \"Amphiprion polymnus\", \"Acanthochromis polyacanthus\", \"Paralabrax nebulifer\", \"Stethojulis balteata\", \"Apolemichthys trimaculatus\", \"Coris batuensis\", \"Caesio teres\", \"Dunckerocampus dactyliophorus\", \"Chrysiptera taupou\", \"Naso hexacanthus\", \"Gymnocephalus cernua\", \"Amatitlania nigrofasciata\", \"Parachromis managuensis\", \"Bodianus axillaris\", \"Cymbacephalus beauforti\", \"Haemulon aurolineatum\", \"Parapercis hexophtalma\", \"Thymallus arcticus\", \"Holacanthus bermudensis\", \"Scolopsis lineata\", \"Gramma loreto\", \"Thalassoma nigrofasciatum\", \"Moxostoma congestum\", \"Sebastes mystinus\", \"Chaetodon semilarvatus\", \"Pterocaesio tile\", \"Paranthias colonus\", \"Pseudanthias huchtii\", \"Micropterus henshalli\", \"Notropis volucellus\", \"Hypoplectrus puella\", \"Acanthurus nigricauda\", \"Monotaxis heterodon\", \"Hemiramphus brasiliensis\", \"Enneacanthus gloriosus\", \"Pomacentrus sulfureus\", \"Siganus doliatus\", \"Naso elegans\", \"Synodus dermatogenys\", \"Candidia barbata\", \"Thalassoma quinquevittatum\", \"Myripristis murdjan\", \"Acanthurus achilles\", \"Lethrinus harak\", \"Lactoria cornuta\", \"Pomacentrus bankanensis\", \"Hypophthalmichthys molitrix\", \"Caffrogobius nudiceps\", \"Ostorhinchus cyanosoma\", \"Pomacentrus vaiuli\", \"Cheilodipterus quinquelineatus\", \"Stegastes marginatus\", \"Epinephelus coioides\", \"Chrysiptera brownriggii\", \"Lagocephalus sceleratus\", \"Scarus coelestinus\", \"Stegastes diencaeus\", \"Epinephelus fuscoguttatus\", \"Chaetodon adiergastos\", \"Parapriacanthus ransonneti\", \"Bodianus dictynna\", \"Aeoliscus strigatus\", \"Plectorhinchus polytaenia\", \"Myripristis berndti\", \"Elagatis bipinnulata\", \"Siganus puellus\", \"Epinephelus tukula\", \"Canthigaster bennetti\", \"Epinephelus quoyanus\", \"Parapercis clathrata\", \"Chaetodon bennetti\", \"Lepisosteus platostomus\", \"Forcipiger longirostris\", \"Chromis ternatensis\", \"Canthigaster papua\", \"Artedius harringtoni\", \"Bothus pantherinus\", \"Sphyraena jello\", \"Stephanolepis hispidus\", \"Centropyge bispinosa\", \"Cirrhilabrus temminckii\", \"Pseudoxiphophorus bimaculatus\", \"Haemulon parra\", \"Amphiprion percula\", \"Bodianus mesothorax\", \"Cephalopholis cyanostigma\", \"Amblyeleotris guttata\", \"Sphyraena qenie\", \"Barbus barbus\", \"Cephalopholis urodeta\", \"Scarus dimidiatus\", \"Taeniamia fucata\", \"Chaetodon multicinctus\", \"Valenciennea puellaris\", \"Rhinecanthus assasi\", \"Grammistes sexlineatus\", \"Haemulon carbonarium\", \"Paracanthurus hepatus\", \"Pomacanthus xanthometopon\", \"Amblyeleotris steinitzi\", \"Sebastiscus marmoratus\", \"Halichoeres nebulosus\", \"Myripristis violacea\", \"Amblyglyphidodon leucogaster\", \"Sargocentron rubrum\", \"Chloroscombrus chrysurus\", \"Pristiapogon kallopterus\", \"Ctenochaetus binotatus\", \"Gymnosarda unicolor\", \"Ostorhinchus nigrofasciatus\", \"Thymallus thymallus\", \"Catostomus occidentalis\", \"Alosa sapidissima\", \"Acanthocybium solandri\", \"Cephalopholis boenak\", \"Parapercis snyderi\", \"Takifugu alboplumbeus\", \"Trichopodus trichopterus\", \"Bryaninops yongei\", \"Brevoortia patronus\", \"Hesperoleucus symmetricus\", \"Pygocentrus nattereri\", \"Parupeneus indicus\", \"Poecilia mexicana\", \"Diplodus hottentotus\", \"Pterapogon kauderni\", \"Istigobius decoratus\", \"Neopomacentrus bankieri\", \"Cobitis bilineata\", \"Ostorhinchus fleurieu\", \"Ostorhinchus fasciatus\", \"Valenciennea immaculata\", \"Chromis notata\", \"Scorpaenopsis oxycephala\", \"Cobitis taenia\", \"Neopomacentrus cyanomos\", \"Chaetodon wiebeli\", \"Pteragogus enneacanthus\", \"Salmo marmoratus\", \"Chaetodon auripes\", \"Ostorhinchus doederleini\", \"Corythoichthys flavofasciatus\", \"Chelonodon patoca\", \"Gerres oyena\", \"Halichoeres nigrescens\", \"Parupeneus biaculeatus\", \"Alburnus arborella\", \"Scolopsis vosmeri\", \"Amblyeleotris gymnocephala\", \"Pempheris oualensis\", \"Epinephelus fasciatomaculosus\", \"Barbus plebejus\", \"Stephanolepis cirrhifer\", \"Gymnothorax reevesii\", \"Epinephelus awoara\", \"Pagrus major\", \"Cryptocentrus sericus\", \"Selaroides leptolepis\", \"Istigobius diadema\", \"Scorpaenopsis cirrosa\", \"Halichoeres tenuispinis\", \"Apogonichthyoides sialis\", \"Pterophyllum scalare\", \"Betta splendens\", \"Gerres oblongus\"], \"xaxis\": \"x\", \"y\": [10662, 9886, 6473, 4330, 4002, 3871, 3440, 3423, 3115, 2838, 2758, 2721, 2699, 2536, 2453, 2121, 1966, 1853, 1829, 1798, 1777, 1716, 1692, 1661, 1612, 1518, 1509, 1509, 1447, 1423, 1396, 1381, 1360, 1341, 1296, 1267, 1255, 1250, 1244, 1240, 1236, 1229, 1225, 1162, 1156, 1153, 1140, 1124, 1120, 1113, 1104, 1102, 1098, 1097, 1072, 1067, 1065, 1045, 1035, 1031, 1031, 1016, 1014, 995, 985, 984, 979, 977, 971, 962, 954, 936, 933, 924, 908, 900, 895, 877, 877, 874, 869, 851, 846, 846, 841, 840, 826, 823, 823, 822, 819, 818, 816, 814, 814, 805, 800, 796, 791, 782, 779, 779, 777, 776, 771, 770, 759, 759, 758, 755, 754, 742, 738, 738, 738, 731, 730, 728, 715, 713, 712, 711, 706, 706, 704, 699, 691, 689, 689, 688, 686, 684, 679, 673, 670, 670, 668, 665, 658, 653, 652, 649, 648, 647, 646, 645, 645, 644, 643, 638, 634, 631, 627, 626, 624, 618, 610, 610, 610, 609, 607, 602, 599, 597, 596, 594, 593, 593, 593, 593, 590, 590, 586, 584, 583, 578, 578, 574, 573, 571, 569, 569, 568, 567, 567, 565, 564, 563, 562, 561, 560, 559, 558, 555, 555, 554, 552, 552, 550, 548, 548, 547, 547, 546, 541, 541, 541, 540, 539, 536, 536, 535, 535, 534, 532, 531, 529, 525, 524, 523, 522, 522, 522, 521, 518, 518, 516, 516, 515, 515, 514, 509, 508, 507, 502, 500, 494, 491, 483, 483, 481, 480, 479, 478, 478, 477, 476, 473, 473, 472, 472, 469, 469, 466, 464, 464, 464, 462, 461, 460, 460, 459, 459, 457, 456, 454, 452, 451, 451, 449, 448, 448, 448, 447, 446, 445, 445, 445, 444, 443, 441, 440, 439, 439, 438, 436, 436, 436, 435, 435, 432, 431, 428, 425, 424, 422, 420, 420, 419, 418, 418, 418, 417, 416, 415, 415, 414, 412, 412, 410, 408, 407, 406, 406, 404, 400, 399, 396, 390, 389, 389, 388, 387, 387, 382, 381, 378, 376, 376, 375, 375, 374, 373, 373, 371, 370, 367, 364, 364, 364, 363, 362, 361, 360, 359, 358, 357, 357, 356, 356, 355, 355, 355, 354, 353, 352, 352, 350, 348, 345, 344, 344, 344, 344, 343, 343, 342, 341, 341, 340, 339, 339, 338, 338, 338, 337, 336, 336, 336, 335, 335, 335, 335, 334, 333, 333, 333, 331, 331, 330, 330, 328, 327, 326, 325, 324, 324, 324, 323, 323, 323, 323, 321, 320, 320, 319, 319, 318, 317, 317, 317, 316, 316, 315, 314, 314, 313, 312, 312, 311, 311, 310, 309, 309, 308, 308, 307, 306, 305, 305, 304, 304, 303, 303, 302, 301, 301, 301, 301, 300, 299, 299, 298, 298, 297, 297, 296, 295, 295, 294, 293, 292, 291, 289, 288, 287, 286, 286, 284, 284, 284, 284, 283, 282, 282, 282, 282, 281, 281, 280, 278, 278, 278, 277, 277, 277, 276, 276, 276, 275, 274, 273, 273, 272, 272, 271, 271, 271, 270, 270, 269, 269, 269, 268, 265, 265, 265, 265, 264, 264, 263, 263, 262, 262, 262, 262, 261, 261, 261, 260, 259, 258, 258, 258, 258, 256, 254, 253, 253, 253, 253, 253, 253, 253, 252, 252, 251, 251, 251, 250, 250, 249, 249, 249, 249, 248, 248, 248, 248, 248, 247, 247, 246, 246, 246, 245, 244, 242, 242, 242, 242, 241, 241, 241, 239, 238, 238, 238, 236, 236, 235, 234, 234, 234, 234, 233, 233, 233, 233, 233, 233, 232, 232, 231, 231, 230, 230, 230, 229, 229, 229, 229, 228, 227, 226, 226, 226, 226, 226, 226, 226, 225, 225, 225, 224, 224, 224, 222, 222, 222, 221, 220, 219, 219, 219, 218, 218, 218, 218, 217, 217, 217, 217, 215, 215, 215, 214, 214, 213, 213, 213, 212, 212, 212, 211, 211, 211, 210, 210, 210, 209, 209, 209, 209, 208, 208, 208, 207, 207, 207, 205, 205, 205, 204, 204, 203, 202, 202, 202, 202, 201, 200, 200, 200, 199, 198, 197, 196, 196, 196, 195, 194, 194, 193, 193, 193, 192, 192, 192, 191, 191, 191, 191, 190, 190, 190, 190, 189, 189, 189, 189, 188, 188, 187, 187, 187, 186, 186, 186, 186, 185, 184, 184, 184, 184, 183, 183, 183, 183, 182, 182, 182, 181, 181, 181, 180, 180, 180, 180, 180, 179, 179, 179, 179, 178, 178, 178, 177, 177, 176, 175, 175, 175, 175, 174, 174, 174, 174, 174, 174, 173, 173, 172, 172, 172, 172, 170, 170, 168, 168, 167, 167, 167, 167, 167, 167, 166, 166, 166, 166, 166, 166, 165, 165, 165, 164, 164, 164, 164, 164, 164, 164, 163, 163, 162, 162, 161, 161, 161, 161, 160, 159, 159, 159, 158, 158, 157, 157, 157, 157, 157, 156, 156, 156, 156, 156, 156, 156, 155, 155, 155, 155, 154, 154, 154, 154, 154, 154, 154, 153, 152, 152, 151, 150, 150, 150, 149, 149, 149, 149, 149, 148, 148, 148, 147, 147, 147, 147, 147, 146, 146, 146, 146, 145, 145, 145, 145, 145, 145, 144, 144, 143, 143, 143, 143, 143, 142, 142, 141, 141, 141, 141, 140, 140, 140, 140, 140, 139, 139, 139, 139, 139, 139, 139, 138, 138, 138, 138, 137, 137, 136, 136, 136, 136, 136, 135, 135, 135, 135, 134, 134, 134, 134, 134, 133, 133, 133, 133, 133, 132, 132, 132, 130, 130, 129, 129, 128, 128, 128, 128, 128, 128, 127, 127, 127, 127, 126, 126, 126, 126, 126, 125, 125, 125, 124, 124, 124, 123, 123, 123, 123, 122, 122, 122, 121, 121, 120, 120, 120, 120, 120, 120, 119, 119, 119, 118, 117, 117, 117, 117, 116, 115, 114, 114, 113, 113, 112, 112, 109, 108, 108, 106, 104, 102, 102, 100, 99, 98, 98, 94, 94, 92, 91, 90, 89, 88, 88, 86, 84, 81, 74, 70, 70, 67, 63, 62, 62, 60, 60, 59, 56, 54, 52, 50, 50, 50, 48, 47, 43, 43, 40, 39, 38, 36, 33, 32, 31, 29, 24, 23, 18, 18, 17, 10, 9, 9, 6, 5, 4, 2], \"yaxis\": \"y\"}],                        {\"legend\": {\"title\": {\"text\": \"variable\"}, \"tracegroupgap\": 0}, \"margin\": {\"t\": 60}, \"template\": {\"data\": {\"bar\": [{\"error_x\": {\"color\": \"#2a3f5f\"}, \"error_y\": {\"color\": \"#2a3f5f\"}, \"marker\": {\"line\": {\"color\": \"#E5ECF6\", \"width\": 0.5}}, \"type\": \"bar\"}], \"barpolar\": [{\"marker\": {\"line\": {\"color\": \"#E5ECF6\", \"width\": 0.5}}, \"type\": \"barpolar\"}], \"carpet\": [{\"aaxis\": {\"endlinecolor\": \"#2a3f5f\", \"gridcolor\": \"white\", \"linecolor\": \"white\", \"minorgridcolor\": \"white\", \"startlinecolor\": \"#2a3f5f\"}, \"baxis\": {\"endlinecolor\": \"#2a3f5f\", \"gridcolor\": \"white\", \"linecolor\": \"white\", \"minorgridcolor\": \"white\", \"startlinecolor\": \"#2a3f5f\"}, \"type\": \"carpet\"}], \"choropleth\": [{\"colorbar\": {\"outlinewidth\": 0, \"ticks\": \"\"}, \"type\": \"choropleth\"}], \"contour\": [{\"colorbar\": {\"outlinewidth\": 0, \"ticks\": \"\"}, \"colorscale\": [[0.0, \"#0d0887\"], [0.1111111111111111, \"#46039f\"], [0.2222222222222222, \"#7201a8\"], [0.3333333333333333, \"#9c179e\"], [0.4444444444444444, \"#bd3786\"], [0.5555555555555556, \"#d8576b\"], [0.6666666666666666, \"#ed7953\"], [0.7777777777777778, \"#fb9f3a\"], [0.8888888888888888, \"#fdca26\"], [1.0, \"#f0f921\"]], \"type\": \"contour\"}], \"contourcarpet\": [{\"colorbar\": {\"outlinewidth\": 0, \"ticks\": \"\"}, \"type\": \"contourcarpet\"}], \"heatmap\": [{\"colorbar\": {\"outlinewidth\": 0, \"ticks\": \"\"}, \"colorscale\": [[0.0, \"#0d0887\"], [0.1111111111111111, \"#46039f\"], [0.2222222222222222, \"#7201a8\"], [0.3333333333333333, \"#9c179e\"], [0.4444444444444444, \"#bd3786\"], [0.5555555555555556, \"#d8576b\"], [0.6666666666666666, \"#ed7953\"], [0.7777777777777778, \"#fb9f3a\"], [0.8888888888888888, \"#fdca26\"], [1.0, \"#f0f921\"]], \"type\": \"heatmap\"}], \"heatmapgl\": [{\"colorbar\": {\"outlinewidth\": 0, \"ticks\": \"\"}, \"colorscale\": [[0.0, \"#0d0887\"], [0.1111111111111111, \"#46039f\"], [0.2222222222222222, \"#7201a8\"], [0.3333333333333333, \"#9c179e\"], [0.4444444444444444, \"#bd3786\"], [0.5555555555555556, \"#d8576b\"], [0.6666666666666666, \"#ed7953\"], [0.7777777777777778, \"#fb9f3a\"], [0.8888888888888888, \"#fdca26\"], [1.0, \"#f0f921\"]], \"type\": \"heatmapgl\"}], \"histogram\": [{\"marker\": {\"colorbar\": {\"outlinewidth\": 0, \"ticks\": \"\"}}, \"type\": \"histogram\"}], \"histogram2d\": [{\"colorbar\": {\"outlinewidth\": 0, \"ticks\": \"\"}, \"colorscale\": [[0.0, \"#0d0887\"], [0.1111111111111111, \"#46039f\"], [0.2222222222222222, \"#7201a8\"], [0.3333333333333333, \"#9c179e\"], [0.4444444444444444, \"#bd3786\"], [0.5555555555555556, \"#d8576b\"], [0.6666666666666666, \"#ed7953\"], [0.7777777777777778, \"#fb9f3a\"], [0.8888888888888888, \"#fdca26\"], [1.0, \"#f0f921\"]], \"type\": \"histogram2d\"}], \"histogram2dcontour\": [{\"colorbar\": {\"outlinewidth\": 0, \"ticks\": \"\"}, \"colorscale\": [[0.0, \"#0d0887\"], [0.1111111111111111, \"#46039f\"], [0.2222222222222222, \"#7201a8\"], [0.3333333333333333, \"#9c179e\"], [0.4444444444444444, \"#bd3786\"], [0.5555555555555556, \"#d8576b\"], [0.6666666666666666, \"#ed7953\"], [0.7777777777777778, \"#fb9f3a\"], [0.8888888888888888, \"#fdca26\"], [1.0, \"#f0f921\"]], \"type\": \"histogram2dcontour\"}], \"mesh3d\": [{\"colorbar\": {\"outlinewidth\": 0, \"ticks\": \"\"}, \"type\": \"mesh3d\"}], \"parcoords\": [{\"line\": {\"colorbar\": {\"outlinewidth\": 0, \"ticks\": \"\"}}, \"type\": \"parcoords\"}], \"pie\": [{\"automargin\": true, \"type\": \"pie\"}], \"scatter\": [{\"marker\": {\"colorbar\": {\"outlinewidth\": 0, \"ticks\": \"\"}}, \"type\": \"scatter\"}], \"scatter3d\": [{\"line\": {\"colorbar\": {\"outlinewidth\": 0, \"ticks\": \"\"}}, \"marker\": {\"colorbar\": {\"outlinewidth\": 0, \"ticks\": \"\"}}, \"type\": \"scatter3d\"}], \"scattercarpet\": [{\"marker\": {\"colorbar\": {\"outlinewidth\": 0, \"ticks\": \"\"}}, \"type\": \"scattercarpet\"}], \"scattergeo\": [{\"marker\": {\"colorbar\": {\"outlinewidth\": 0, \"ticks\": \"\"}}, \"type\": \"scattergeo\"}], \"scattergl\": [{\"marker\": {\"colorbar\": {\"outlinewidth\": 0, \"ticks\": \"\"}}, \"type\": \"scattergl\"}], \"scattermapbox\": [{\"marker\": {\"colorbar\": {\"outlinewidth\": 0, \"ticks\": \"\"}}, \"type\": \"scattermapbox\"}], \"scatterpolar\": [{\"marker\": {\"colorbar\": {\"outlinewidth\": 0, \"ticks\": \"\"}}, \"type\": \"scatterpolar\"}], \"scatterpolargl\": [{\"marker\": {\"colorbar\": {\"outlinewidth\": 0, \"ticks\": \"\"}}, \"type\": \"scatterpolargl\"}], \"scatterternary\": [{\"marker\": {\"colorbar\": {\"outlinewidth\": 0, \"ticks\": \"\"}}, \"type\": \"scatterternary\"}], \"surface\": [{\"colorbar\": {\"outlinewidth\": 0, \"ticks\": \"\"}, \"colorscale\": [[0.0, \"#0d0887\"], [0.1111111111111111, \"#46039f\"], [0.2222222222222222, \"#7201a8\"], [0.3333333333333333, \"#9c179e\"], [0.4444444444444444, \"#bd3786\"], [0.5555555555555556, \"#d8576b\"], [0.6666666666666666, \"#ed7953\"], [0.7777777777777778, \"#fb9f3a\"], [0.8888888888888888, \"#fdca26\"], [1.0, \"#f0f921\"]], \"type\": \"surface\"}], \"table\": [{\"cells\": {\"fill\": {\"color\": \"#EBF0F8\"}, \"line\": {\"color\": \"white\"}}, \"header\": {\"fill\": {\"color\": \"#C8D4E3\"}, \"line\": {\"color\": \"white\"}}, \"type\": \"table\"}]}, \"layout\": {\"annotationdefaults\": {\"arrowcolor\": \"#2a3f5f\", \"arrowhead\": 0, \"arrowwidth\": 1}, \"coloraxis\": {\"colorbar\": {\"outlinewidth\": 0, \"ticks\": \"\"}}, \"colorscale\": {\"diverging\": [[0, \"#8e0152\"], [0.1, \"#c51b7d\"], [0.2, \"#de77ae\"], [0.3, \"#f1b6da\"], [0.4, \"#fde0ef\"], [0.5, \"#f7f7f7\"], [0.6, \"#e6f5d0\"], [0.7, \"#b8e186\"], [0.8, \"#7fbc41\"], [0.9, \"#4d9221\"], [1, \"#276419\"]], \"sequential\": [[0.0, \"#0d0887\"], [0.1111111111111111, \"#46039f\"], [0.2222222222222222, \"#7201a8\"], [0.3333333333333333, \"#9c179e\"], [0.4444444444444444, \"#bd3786\"], [0.5555555555555556, \"#d8576b\"], [0.6666666666666666, \"#ed7953\"], [0.7777777777777778, \"#fb9f3a\"], [0.8888888888888888, \"#fdca26\"], [1.0, \"#f0f921\"]], \"sequentialminus\": [[0.0, \"#0d0887\"], [0.1111111111111111, \"#46039f\"], [0.2222222222222222, \"#7201a8\"], [0.3333333333333333, \"#9c179e\"], [0.4444444444444444, \"#bd3786\"], [0.5555555555555556, \"#d8576b\"], [0.6666666666666666, \"#ed7953\"], [0.7777777777777778, \"#fb9f3a\"], [0.8888888888888888, \"#fdca26\"], [1.0, \"#f0f921\"]]}, \"colorway\": [\"#636efa\", \"#EF553B\", \"#00cc96\", \"#ab63fa\", \"#FFA15A\", \"#19d3f3\", \"#FF6692\", \"#B6E880\", \"#FF97FF\", \"#FECB52\"], \"font\": {\"color\": \"#2a3f5f\"}, \"geo\": {\"bgcolor\": \"white\", \"lakecolor\": \"white\", \"landcolor\": \"#E5ECF6\", \"showlakes\": true, \"showland\": true, \"subunitcolor\": \"white\"}, \"hoverlabel\": {\"align\": \"left\"}, \"hovermode\": \"closest\", \"mapbox\": {\"style\": \"light\"}, \"paper_bgcolor\": \"white\", \"plot_bgcolor\": \"#E5ECF6\", \"polar\": {\"angularaxis\": {\"gridcolor\": \"white\", \"linecolor\": \"white\", \"ticks\": \"\"}, \"bgcolor\": \"#E5ECF6\", \"radialaxis\": {\"gridcolor\": \"white\", \"linecolor\": \"white\", \"ticks\": \"\"}}, \"scene\": {\"xaxis\": {\"backgroundcolor\": \"#E5ECF6\", \"gridcolor\": \"white\", \"gridwidth\": 2, \"linecolor\": \"white\", \"showbackground\": true, \"ticks\": \"\", \"zerolinecolor\": \"white\"}, \"yaxis\": {\"backgroundcolor\": \"#E5ECF6\", \"gridcolor\": \"white\", \"gridwidth\": 2, \"linecolor\": \"white\", \"showbackground\": true, \"ticks\": \"\", \"zerolinecolor\": \"white\"}, \"zaxis\": {\"backgroundcolor\": \"#E5ECF6\", \"gridcolor\": \"white\", \"gridwidth\": 2, \"linecolor\": \"white\", \"showbackground\": true, \"ticks\": \"\", \"zerolinecolor\": \"white\"}}, \"shapedefaults\": {\"line\": {\"color\": \"#2a3f5f\"}}, \"ternary\": {\"aaxis\": {\"gridcolor\": \"white\", \"linecolor\": \"white\", \"ticks\": \"\"}, \"baxis\": {\"gridcolor\": \"white\", \"linecolor\": \"white\", \"ticks\": \"\"}, \"bgcolor\": \"#E5ECF6\", \"caxis\": {\"gridcolor\": \"white\", \"linecolor\": \"white\", \"ticks\": \"\"}}, \"title\": {\"x\": 0.05}, \"xaxis\": {\"automargin\": true, \"gridcolor\": \"white\", \"linecolor\": \"white\", \"ticks\": \"\", \"title\": {\"standoff\": 15}, \"zerolinecolor\": \"white\", \"zerolinewidth\": 2}, \"yaxis\": {\"automargin\": true, \"gridcolor\": \"white\", \"linecolor\": \"white\", \"ticks\": \"\", \"title\": {\"standoff\": 15}, \"zerolinecolor\": \"white\", \"zerolinewidth\": 2}}}, \"xaxis\": {\"anchor\": \"y\", \"domain\": [0.0, 1.0], \"title\": {\"text\": \"Especie\"}}, \"yaxis\": {\"anchor\": \"x\", \"domain\": [0.0, 1.0], \"title\": {\"text\": \"value\"}}},                        {\"responsive\": true}                    ).then(function(){\n",
       "                            \n",
       "var gd = document.getElementById('2be9c565-dfb9-4ea2-b672-ac16e7aae236');\n",
       "var x = new MutationObserver(function (mutations, observer) {{\n",
       "        var display = window.getComputedStyle(gd).display;\n",
       "        if (!display || display === 'none') {{\n",
       "            console.log([gd, 'removed!']);\n",
       "            Plotly.purge(gd);\n",
       "            observer.disconnect();\n",
       "        }}\n",
       "}});\n",
       "\n",
       "// Listen for the removal of the full notebook cells\n",
       "var notebookContainer = gd.closest('#notebook-container');\n",
       "if (notebookContainer) {{\n",
       "    x.observe(notebookContainer, {childList: true});\n",
       "}}\n",
       "\n",
       "// Listen for the clearing of the current output cell\n",
       "var outputEl = gd.closest('.output');\n",
       "if (outputEl) {{\n",
       "    x.observe(outputEl, {childList: true});\n",
       "}}\n",
       "\n",
       "                        })                };                });            </script>        </div>"
      ]
     },
     "metadata": {},
     "output_type": "display_data"
    }
   ],
   "source": [
    "df_value_counts = df_1000_stratified['Specie'].value_counts()\n",
    "df_value_counts = df_value_counts.reset_index()\n",
    "df_value_counts.columns = ['Especie', 'Número de imágenes']\n",
    "df_value_counts.set_index('Especie').plot(backend='plotly', kind='area')"
   ]
  },
  {
   "cell_type": "code",
   "execution_count": 98,
   "metadata": {},
   "outputs": [
    {
     "data": {
      "application/vnd.plotly.v1+json": {
       "config": {
        "plotlyServerURL": "https://plot.ly"
       },
       "data": [
        {
         "hovertemplate": "variable=Número de imágenes<br>Orden=%{x}<br>value=%{y}<extra></extra>",
         "legendgroup": "Número de imágenes",
         "line": {
          "color": "#636efa"
         },
         "mode": "lines",
         "name": "Número de imágenes",
         "orientation": "v",
         "showlegend": true,
         "stackgroup": "1",
         "type": "scatter",
         "x": [
          "Perciformes",
          "Cypriniformes",
          "Tetraodontiformes",
          "Syngnathiformes",
          "Salmoniformes",
          "Scorpaeniformes",
          "Cyprinodontiformes",
          "Anguilliformes",
          "Siluriformes",
          "Esociformes",
          "Lepisosteiformes",
          "Clupeiformes",
          "Gasterosteiformes",
          "Beryciformes",
          "Pleuronectiformes",
          "Aulopiformes",
          "Lophiiformes",
          "Batrachoidiformes",
          "Atheriniformes",
          "Elopiformes",
          "Gobiesociformes",
          "Beloniformes",
          "Osmeriformes",
          "Amiiformes",
          "Gadiformes",
          "Percopsiformes",
          "Characiformes",
          "Acipenseriformes",
          "Synbranchiformes"
         ],
         "xaxis": "x",
         "y": [
          236071,
          37620,
          33955,
          16961,
          16258,
          16225,
          12783,
          10738,
          10575,
          4540,
          3763,
          3120,
          2952,
          2431,
          2307,
          1644,
          1309,
          1297,
          1166,
          1147,
          1040,
          986,
          808,
          796,
          519,
          331,
          310,
          300,
          225
         ],
         "yaxis": "y"
        }
       ],
       "layout": {
        "legend": {
         "title": {
          "text": "variable"
         },
         "tracegroupgap": 0
        },
        "margin": {
         "t": 60
        },
        "template": {
         "data": {
          "bar": [
           {
            "error_x": {
             "color": "#2a3f5f"
            },
            "error_y": {
             "color": "#2a3f5f"
            },
            "marker": {
             "line": {
              "color": "#E5ECF6",
              "width": 0.5
             }
            },
            "type": "bar"
           }
          ],
          "barpolar": [
           {
            "marker": {
             "line": {
              "color": "#E5ECF6",
              "width": 0.5
             }
            },
            "type": "barpolar"
           }
          ],
          "carpet": [
           {
            "aaxis": {
             "endlinecolor": "#2a3f5f",
             "gridcolor": "white",
             "linecolor": "white",
             "minorgridcolor": "white",
             "startlinecolor": "#2a3f5f"
            },
            "baxis": {
             "endlinecolor": "#2a3f5f",
             "gridcolor": "white",
             "linecolor": "white",
             "minorgridcolor": "white",
             "startlinecolor": "#2a3f5f"
            },
            "type": "carpet"
           }
          ],
          "choropleth": [
           {
            "colorbar": {
             "outlinewidth": 0,
             "ticks": ""
            },
            "type": "choropleth"
           }
          ],
          "contour": [
           {
            "colorbar": {
             "outlinewidth": 0,
             "ticks": ""
            },
            "colorscale": [
             [
              0,
              "#0d0887"
             ],
             [
              0.1111111111111111,
              "#46039f"
             ],
             [
              0.2222222222222222,
              "#7201a8"
             ],
             [
              0.3333333333333333,
              "#9c179e"
             ],
             [
              0.4444444444444444,
              "#bd3786"
             ],
             [
              0.5555555555555556,
              "#d8576b"
             ],
             [
              0.6666666666666666,
              "#ed7953"
             ],
             [
              0.7777777777777778,
              "#fb9f3a"
             ],
             [
              0.8888888888888888,
              "#fdca26"
             ],
             [
              1,
              "#f0f921"
             ]
            ],
            "type": "contour"
           }
          ],
          "contourcarpet": [
           {
            "colorbar": {
             "outlinewidth": 0,
             "ticks": ""
            },
            "type": "contourcarpet"
           }
          ],
          "heatmap": [
           {
            "colorbar": {
             "outlinewidth": 0,
             "ticks": ""
            },
            "colorscale": [
             [
              0,
              "#0d0887"
             ],
             [
              0.1111111111111111,
              "#46039f"
             ],
             [
              0.2222222222222222,
              "#7201a8"
             ],
             [
              0.3333333333333333,
              "#9c179e"
             ],
             [
              0.4444444444444444,
              "#bd3786"
             ],
             [
              0.5555555555555556,
              "#d8576b"
             ],
             [
              0.6666666666666666,
              "#ed7953"
             ],
             [
              0.7777777777777778,
              "#fb9f3a"
             ],
             [
              0.8888888888888888,
              "#fdca26"
             ],
             [
              1,
              "#f0f921"
             ]
            ],
            "type": "heatmap"
           }
          ],
          "heatmapgl": [
           {
            "colorbar": {
             "outlinewidth": 0,
             "ticks": ""
            },
            "colorscale": [
             [
              0,
              "#0d0887"
             ],
             [
              0.1111111111111111,
              "#46039f"
             ],
             [
              0.2222222222222222,
              "#7201a8"
             ],
             [
              0.3333333333333333,
              "#9c179e"
             ],
             [
              0.4444444444444444,
              "#bd3786"
             ],
             [
              0.5555555555555556,
              "#d8576b"
             ],
             [
              0.6666666666666666,
              "#ed7953"
             ],
             [
              0.7777777777777778,
              "#fb9f3a"
             ],
             [
              0.8888888888888888,
              "#fdca26"
             ],
             [
              1,
              "#f0f921"
             ]
            ],
            "type": "heatmapgl"
           }
          ],
          "histogram": [
           {
            "marker": {
             "colorbar": {
              "outlinewidth": 0,
              "ticks": ""
             }
            },
            "type": "histogram"
           }
          ],
          "histogram2d": [
           {
            "colorbar": {
             "outlinewidth": 0,
             "ticks": ""
            },
            "colorscale": [
             [
              0,
              "#0d0887"
             ],
             [
              0.1111111111111111,
              "#46039f"
             ],
             [
              0.2222222222222222,
              "#7201a8"
             ],
             [
              0.3333333333333333,
              "#9c179e"
             ],
             [
              0.4444444444444444,
              "#bd3786"
             ],
             [
              0.5555555555555556,
              "#d8576b"
             ],
             [
              0.6666666666666666,
              "#ed7953"
             ],
             [
              0.7777777777777778,
              "#fb9f3a"
             ],
             [
              0.8888888888888888,
              "#fdca26"
             ],
             [
              1,
              "#f0f921"
             ]
            ],
            "type": "histogram2d"
           }
          ],
          "histogram2dcontour": [
           {
            "colorbar": {
             "outlinewidth": 0,
             "ticks": ""
            },
            "colorscale": [
             [
              0,
              "#0d0887"
             ],
             [
              0.1111111111111111,
              "#46039f"
             ],
             [
              0.2222222222222222,
              "#7201a8"
             ],
             [
              0.3333333333333333,
              "#9c179e"
             ],
             [
              0.4444444444444444,
              "#bd3786"
             ],
             [
              0.5555555555555556,
              "#d8576b"
             ],
             [
              0.6666666666666666,
              "#ed7953"
             ],
             [
              0.7777777777777778,
              "#fb9f3a"
             ],
             [
              0.8888888888888888,
              "#fdca26"
             ],
             [
              1,
              "#f0f921"
             ]
            ],
            "type": "histogram2dcontour"
           }
          ],
          "mesh3d": [
           {
            "colorbar": {
             "outlinewidth": 0,
             "ticks": ""
            },
            "type": "mesh3d"
           }
          ],
          "parcoords": [
           {
            "line": {
             "colorbar": {
              "outlinewidth": 0,
              "ticks": ""
             }
            },
            "type": "parcoords"
           }
          ],
          "pie": [
           {
            "automargin": true,
            "type": "pie"
           }
          ],
          "scatter": [
           {
            "marker": {
             "colorbar": {
              "outlinewidth": 0,
              "ticks": ""
             }
            },
            "type": "scatter"
           }
          ],
          "scatter3d": [
           {
            "line": {
             "colorbar": {
              "outlinewidth": 0,
              "ticks": ""
             }
            },
            "marker": {
             "colorbar": {
              "outlinewidth": 0,
              "ticks": ""
             }
            },
            "type": "scatter3d"
           }
          ],
          "scattercarpet": [
           {
            "marker": {
             "colorbar": {
              "outlinewidth": 0,
              "ticks": ""
             }
            },
            "type": "scattercarpet"
           }
          ],
          "scattergeo": [
           {
            "marker": {
             "colorbar": {
              "outlinewidth": 0,
              "ticks": ""
             }
            },
            "type": "scattergeo"
           }
          ],
          "scattergl": [
           {
            "marker": {
             "colorbar": {
              "outlinewidth": 0,
              "ticks": ""
             }
            },
            "type": "scattergl"
           }
          ],
          "scattermapbox": [
           {
            "marker": {
             "colorbar": {
              "outlinewidth": 0,
              "ticks": ""
             }
            },
            "type": "scattermapbox"
           }
          ],
          "scatterpolar": [
           {
            "marker": {
             "colorbar": {
              "outlinewidth": 0,
              "ticks": ""
             }
            },
            "type": "scatterpolar"
           }
          ],
          "scatterpolargl": [
           {
            "marker": {
             "colorbar": {
              "outlinewidth": 0,
              "ticks": ""
             }
            },
            "type": "scatterpolargl"
           }
          ],
          "scatterternary": [
           {
            "marker": {
             "colorbar": {
              "outlinewidth": 0,
              "ticks": ""
             }
            },
            "type": "scatterternary"
           }
          ],
          "surface": [
           {
            "colorbar": {
             "outlinewidth": 0,
             "ticks": ""
            },
            "colorscale": [
             [
              0,
              "#0d0887"
             ],
             [
              0.1111111111111111,
              "#46039f"
             ],
             [
              0.2222222222222222,
              "#7201a8"
             ],
             [
              0.3333333333333333,
              "#9c179e"
             ],
             [
              0.4444444444444444,
              "#bd3786"
             ],
             [
              0.5555555555555556,
              "#d8576b"
             ],
             [
              0.6666666666666666,
              "#ed7953"
             ],
             [
              0.7777777777777778,
              "#fb9f3a"
             ],
             [
              0.8888888888888888,
              "#fdca26"
             ],
             [
              1,
              "#f0f921"
             ]
            ],
            "type": "surface"
           }
          ],
          "table": [
           {
            "cells": {
             "fill": {
              "color": "#EBF0F8"
             },
             "line": {
              "color": "white"
             }
            },
            "header": {
             "fill": {
              "color": "#C8D4E3"
             },
             "line": {
              "color": "white"
             }
            },
            "type": "table"
           }
          ]
         },
         "layout": {
          "annotationdefaults": {
           "arrowcolor": "#2a3f5f",
           "arrowhead": 0,
           "arrowwidth": 1
          },
          "coloraxis": {
           "colorbar": {
            "outlinewidth": 0,
            "ticks": ""
           }
          },
          "colorscale": {
           "diverging": [
            [
             0,
             "#8e0152"
            ],
            [
             0.1,
             "#c51b7d"
            ],
            [
             0.2,
             "#de77ae"
            ],
            [
             0.3,
             "#f1b6da"
            ],
            [
             0.4,
             "#fde0ef"
            ],
            [
             0.5,
             "#f7f7f7"
            ],
            [
             0.6,
             "#e6f5d0"
            ],
            [
             0.7,
             "#b8e186"
            ],
            [
             0.8,
             "#7fbc41"
            ],
            [
             0.9,
             "#4d9221"
            ],
            [
             1,
             "#276419"
            ]
           ],
           "sequential": [
            [
             0,
             "#0d0887"
            ],
            [
             0.1111111111111111,
             "#46039f"
            ],
            [
             0.2222222222222222,
             "#7201a8"
            ],
            [
             0.3333333333333333,
             "#9c179e"
            ],
            [
             0.4444444444444444,
             "#bd3786"
            ],
            [
             0.5555555555555556,
             "#d8576b"
            ],
            [
             0.6666666666666666,
             "#ed7953"
            ],
            [
             0.7777777777777778,
             "#fb9f3a"
            ],
            [
             0.8888888888888888,
             "#fdca26"
            ],
            [
             1,
             "#f0f921"
            ]
           ],
           "sequentialminus": [
            [
             0,
             "#0d0887"
            ],
            [
             0.1111111111111111,
             "#46039f"
            ],
            [
             0.2222222222222222,
             "#7201a8"
            ],
            [
             0.3333333333333333,
             "#9c179e"
            ],
            [
             0.4444444444444444,
             "#bd3786"
            ],
            [
             0.5555555555555556,
             "#d8576b"
            ],
            [
             0.6666666666666666,
             "#ed7953"
            ],
            [
             0.7777777777777778,
             "#fb9f3a"
            ],
            [
             0.8888888888888888,
             "#fdca26"
            ],
            [
             1,
             "#f0f921"
            ]
           ]
          },
          "colorway": [
           "#636efa",
           "#EF553B",
           "#00cc96",
           "#ab63fa",
           "#FFA15A",
           "#19d3f3",
           "#FF6692",
           "#B6E880",
           "#FF97FF",
           "#FECB52"
          ],
          "font": {
           "color": "#2a3f5f"
          },
          "geo": {
           "bgcolor": "white",
           "lakecolor": "white",
           "landcolor": "#E5ECF6",
           "showlakes": true,
           "showland": true,
           "subunitcolor": "white"
          },
          "hoverlabel": {
           "align": "left"
          },
          "hovermode": "closest",
          "mapbox": {
           "style": "light"
          },
          "paper_bgcolor": "white",
          "plot_bgcolor": "#E5ECF6",
          "polar": {
           "angularaxis": {
            "gridcolor": "white",
            "linecolor": "white",
            "ticks": ""
           },
           "bgcolor": "#E5ECF6",
           "radialaxis": {
            "gridcolor": "white",
            "linecolor": "white",
            "ticks": ""
           }
          },
          "scene": {
           "xaxis": {
            "backgroundcolor": "#E5ECF6",
            "gridcolor": "white",
            "gridwidth": 2,
            "linecolor": "white",
            "showbackground": true,
            "ticks": "",
            "zerolinecolor": "white"
           },
           "yaxis": {
            "backgroundcolor": "#E5ECF6",
            "gridcolor": "white",
            "gridwidth": 2,
            "linecolor": "white",
            "showbackground": true,
            "ticks": "",
            "zerolinecolor": "white"
           },
           "zaxis": {
            "backgroundcolor": "#E5ECF6",
            "gridcolor": "white",
            "gridwidth": 2,
            "linecolor": "white",
            "showbackground": true,
            "ticks": "",
            "zerolinecolor": "white"
           }
          },
          "shapedefaults": {
           "line": {
            "color": "#2a3f5f"
           }
          },
          "ternary": {
           "aaxis": {
            "gridcolor": "white",
            "linecolor": "white",
            "ticks": ""
           },
           "baxis": {
            "gridcolor": "white",
            "linecolor": "white",
            "ticks": ""
           },
           "bgcolor": "#E5ECF6",
           "caxis": {
            "gridcolor": "white",
            "linecolor": "white",
            "ticks": ""
           }
          },
          "title": {
           "x": 0.05
          },
          "xaxis": {
           "automargin": true,
           "gridcolor": "white",
           "linecolor": "white",
           "ticks": "",
           "title": {
            "standoff": 15
           },
           "zerolinecolor": "white",
           "zerolinewidth": 2
          },
          "yaxis": {
           "automargin": true,
           "gridcolor": "white",
           "linecolor": "white",
           "ticks": "",
           "title": {
            "standoff": 15
           },
           "zerolinecolor": "white",
           "zerolinewidth": 2
          }
         }
        },
        "xaxis": {
         "anchor": "y",
         "domain": [
          0,
          1
         ],
         "title": {
          "text": "Orden"
         }
        },
        "yaxis": {
         "anchor": "x",
         "domain": [
          0,
          1
         ],
         "title": {
          "text": "value"
         }
        }
       }
      },
      "text/html": [
       "<div>                            <div id=\"721b7bb6-fd6b-481b-99af-3f1a633ee855\" class=\"plotly-graph-div\" style=\"height:525px; width:100%;\"></div>            <script type=\"text/javascript\">                require([\"plotly\"], function(Plotly) {                    window.PLOTLYENV=window.PLOTLYENV || {};                                    if (document.getElementById(\"721b7bb6-fd6b-481b-99af-3f1a633ee855\")) {                    Plotly.newPlot(                        \"721b7bb6-fd6b-481b-99af-3f1a633ee855\",                        [{\"hovertemplate\": \"variable=N\\u00famero de im\\u00e1genes<br>Orden=%{x}<br>value=%{y}<extra></extra>\", \"legendgroup\": \"N\\u00famero de im\\u00e1genes\", \"line\": {\"color\": \"#636efa\"}, \"mode\": \"lines\", \"name\": \"N\\u00famero de im\\u00e1genes\", \"orientation\": \"v\", \"showlegend\": true, \"stackgroup\": \"1\", \"type\": \"scatter\", \"x\": [\"Perciformes\", \"Cypriniformes\", \"Tetraodontiformes\", \"Syngnathiformes\", \"Salmoniformes\", \"Scorpaeniformes\", \"Cyprinodontiformes\", \"Anguilliformes\", \"Siluriformes\", \"Esociformes\", \"Lepisosteiformes\", \"Clupeiformes\", \"Gasterosteiformes\", \"Beryciformes\", \"Pleuronectiformes\", \"Aulopiformes\", \"Lophiiformes\", \"Batrachoidiformes\", \"Atheriniformes\", \"Elopiformes\", \"Gobiesociformes\", \"Beloniformes\", \"Osmeriformes\", \"Amiiformes\", \"Gadiformes\", \"Percopsiformes\", \"Characiformes\", \"Acipenseriformes\", \"Synbranchiformes\"], \"xaxis\": \"x\", \"y\": [236071, 37620, 33955, 16961, 16258, 16225, 12783, 10738, 10575, 4540, 3763, 3120, 2952, 2431, 2307, 1644, 1309, 1297, 1166, 1147, 1040, 986, 808, 796, 519, 331, 310, 300, 225], \"yaxis\": \"y\"}],                        {\"legend\": {\"title\": {\"text\": \"variable\"}, \"tracegroupgap\": 0}, \"margin\": {\"t\": 60}, \"template\": {\"data\": {\"bar\": [{\"error_x\": {\"color\": \"#2a3f5f\"}, \"error_y\": {\"color\": \"#2a3f5f\"}, \"marker\": {\"line\": {\"color\": \"#E5ECF6\", \"width\": 0.5}}, \"type\": \"bar\"}], \"barpolar\": [{\"marker\": {\"line\": {\"color\": \"#E5ECF6\", \"width\": 0.5}}, \"type\": \"barpolar\"}], \"carpet\": [{\"aaxis\": {\"endlinecolor\": \"#2a3f5f\", \"gridcolor\": \"white\", \"linecolor\": \"white\", \"minorgridcolor\": \"white\", \"startlinecolor\": \"#2a3f5f\"}, \"baxis\": {\"endlinecolor\": \"#2a3f5f\", \"gridcolor\": \"white\", \"linecolor\": \"white\", \"minorgridcolor\": \"white\", \"startlinecolor\": \"#2a3f5f\"}, \"type\": \"carpet\"}], \"choropleth\": [{\"colorbar\": {\"outlinewidth\": 0, \"ticks\": \"\"}, \"type\": \"choropleth\"}], \"contour\": [{\"colorbar\": {\"outlinewidth\": 0, \"ticks\": \"\"}, \"colorscale\": [[0.0, \"#0d0887\"], [0.1111111111111111, \"#46039f\"], [0.2222222222222222, \"#7201a8\"], [0.3333333333333333, \"#9c179e\"], [0.4444444444444444, \"#bd3786\"], [0.5555555555555556, \"#d8576b\"], [0.6666666666666666, \"#ed7953\"], [0.7777777777777778, \"#fb9f3a\"], [0.8888888888888888, \"#fdca26\"], [1.0, \"#f0f921\"]], \"type\": \"contour\"}], \"contourcarpet\": [{\"colorbar\": {\"outlinewidth\": 0, \"ticks\": \"\"}, \"type\": \"contourcarpet\"}], \"heatmap\": [{\"colorbar\": {\"outlinewidth\": 0, \"ticks\": \"\"}, \"colorscale\": [[0.0, \"#0d0887\"], [0.1111111111111111, \"#46039f\"], [0.2222222222222222, \"#7201a8\"], [0.3333333333333333, \"#9c179e\"], [0.4444444444444444, \"#bd3786\"], [0.5555555555555556, \"#d8576b\"], [0.6666666666666666, \"#ed7953\"], [0.7777777777777778, \"#fb9f3a\"], [0.8888888888888888, \"#fdca26\"], [1.0, \"#f0f921\"]], \"type\": \"heatmap\"}], \"heatmapgl\": [{\"colorbar\": {\"outlinewidth\": 0, \"ticks\": \"\"}, \"colorscale\": [[0.0, \"#0d0887\"], [0.1111111111111111, \"#46039f\"], [0.2222222222222222, \"#7201a8\"], [0.3333333333333333, \"#9c179e\"], [0.4444444444444444, \"#bd3786\"], [0.5555555555555556, \"#d8576b\"], [0.6666666666666666, \"#ed7953\"], [0.7777777777777778, \"#fb9f3a\"], [0.8888888888888888, \"#fdca26\"], [1.0, \"#f0f921\"]], \"type\": \"heatmapgl\"}], \"histogram\": [{\"marker\": {\"colorbar\": {\"outlinewidth\": 0, \"ticks\": \"\"}}, \"type\": \"histogram\"}], \"histogram2d\": [{\"colorbar\": {\"outlinewidth\": 0, \"ticks\": \"\"}, \"colorscale\": [[0.0, \"#0d0887\"], [0.1111111111111111, \"#46039f\"], [0.2222222222222222, \"#7201a8\"], [0.3333333333333333, \"#9c179e\"], [0.4444444444444444, \"#bd3786\"], [0.5555555555555556, \"#d8576b\"], [0.6666666666666666, \"#ed7953\"], [0.7777777777777778, \"#fb9f3a\"], [0.8888888888888888, \"#fdca26\"], [1.0, \"#f0f921\"]], \"type\": \"histogram2d\"}], \"histogram2dcontour\": [{\"colorbar\": {\"outlinewidth\": 0, \"ticks\": \"\"}, \"colorscale\": [[0.0, \"#0d0887\"], [0.1111111111111111, \"#46039f\"], [0.2222222222222222, \"#7201a8\"], [0.3333333333333333, \"#9c179e\"], [0.4444444444444444, \"#bd3786\"], [0.5555555555555556, \"#d8576b\"], [0.6666666666666666, \"#ed7953\"], [0.7777777777777778, \"#fb9f3a\"], [0.8888888888888888, \"#fdca26\"], [1.0, \"#f0f921\"]], \"type\": \"histogram2dcontour\"}], \"mesh3d\": [{\"colorbar\": {\"outlinewidth\": 0, \"ticks\": \"\"}, \"type\": \"mesh3d\"}], \"parcoords\": [{\"line\": {\"colorbar\": {\"outlinewidth\": 0, \"ticks\": \"\"}}, \"type\": \"parcoords\"}], \"pie\": [{\"automargin\": true, \"type\": \"pie\"}], \"scatter\": [{\"marker\": {\"colorbar\": {\"outlinewidth\": 0, \"ticks\": \"\"}}, \"type\": \"scatter\"}], \"scatter3d\": [{\"line\": {\"colorbar\": {\"outlinewidth\": 0, \"ticks\": \"\"}}, \"marker\": {\"colorbar\": {\"outlinewidth\": 0, \"ticks\": \"\"}}, \"type\": \"scatter3d\"}], \"scattercarpet\": [{\"marker\": {\"colorbar\": {\"outlinewidth\": 0, \"ticks\": \"\"}}, \"type\": \"scattercarpet\"}], \"scattergeo\": [{\"marker\": {\"colorbar\": {\"outlinewidth\": 0, \"ticks\": \"\"}}, \"type\": \"scattergeo\"}], \"scattergl\": [{\"marker\": {\"colorbar\": {\"outlinewidth\": 0, \"ticks\": \"\"}}, \"type\": \"scattergl\"}], \"scattermapbox\": [{\"marker\": {\"colorbar\": {\"outlinewidth\": 0, \"ticks\": \"\"}}, \"type\": \"scattermapbox\"}], \"scatterpolar\": [{\"marker\": {\"colorbar\": {\"outlinewidth\": 0, \"ticks\": \"\"}}, \"type\": \"scatterpolar\"}], \"scatterpolargl\": [{\"marker\": {\"colorbar\": {\"outlinewidth\": 0, \"ticks\": \"\"}}, \"type\": \"scatterpolargl\"}], \"scatterternary\": [{\"marker\": {\"colorbar\": {\"outlinewidth\": 0, \"ticks\": \"\"}}, \"type\": \"scatterternary\"}], \"surface\": [{\"colorbar\": {\"outlinewidth\": 0, \"ticks\": \"\"}, \"colorscale\": [[0.0, \"#0d0887\"], [0.1111111111111111, \"#46039f\"], [0.2222222222222222, \"#7201a8\"], [0.3333333333333333, \"#9c179e\"], [0.4444444444444444, \"#bd3786\"], [0.5555555555555556, \"#d8576b\"], [0.6666666666666666, \"#ed7953\"], [0.7777777777777778, \"#fb9f3a\"], [0.8888888888888888, \"#fdca26\"], [1.0, \"#f0f921\"]], \"type\": \"surface\"}], \"table\": [{\"cells\": {\"fill\": {\"color\": \"#EBF0F8\"}, \"line\": {\"color\": \"white\"}}, \"header\": {\"fill\": {\"color\": \"#C8D4E3\"}, \"line\": {\"color\": \"white\"}}, \"type\": \"table\"}]}, \"layout\": {\"annotationdefaults\": {\"arrowcolor\": \"#2a3f5f\", \"arrowhead\": 0, \"arrowwidth\": 1}, \"coloraxis\": {\"colorbar\": {\"outlinewidth\": 0, \"ticks\": \"\"}}, \"colorscale\": {\"diverging\": [[0, \"#8e0152\"], [0.1, \"#c51b7d\"], [0.2, \"#de77ae\"], [0.3, \"#f1b6da\"], [0.4, \"#fde0ef\"], [0.5, \"#f7f7f7\"], [0.6, \"#e6f5d0\"], [0.7, \"#b8e186\"], [0.8, \"#7fbc41\"], [0.9, \"#4d9221\"], [1, \"#276419\"]], \"sequential\": [[0.0, \"#0d0887\"], [0.1111111111111111, \"#46039f\"], [0.2222222222222222, \"#7201a8\"], [0.3333333333333333, \"#9c179e\"], [0.4444444444444444, \"#bd3786\"], [0.5555555555555556, \"#d8576b\"], [0.6666666666666666, \"#ed7953\"], [0.7777777777777778, \"#fb9f3a\"], [0.8888888888888888, \"#fdca26\"], [1.0, \"#f0f921\"]], \"sequentialminus\": [[0.0, \"#0d0887\"], [0.1111111111111111, \"#46039f\"], [0.2222222222222222, \"#7201a8\"], [0.3333333333333333, \"#9c179e\"], [0.4444444444444444, \"#bd3786\"], [0.5555555555555556, \"#d8576b\"], [0.6666666666666666, \"#ed7953\"], [0.7777777777777778, \"#fb9f3a\"], [0.8888888888888888, \"#fdca26\"], [1.0, \"#f0f921\"]]}, \"colorway\": [\"#636efa\", \"#EF553B\", \"#00cc96\", \"#ab63fa\", \"#FFA15A\", \"#19d3f3\", \"#FF6692\", \"#B6E880\", \"#FF97FF\", \"#FECB52\"], \"font\": {\"color\": \"#2a3f5f\"}, \"geo\": {\"bgcolor\": \"white\", \"lakecolor\": \"white\", \"landcolor\": \"#E5ECF6\", \"showlakes\": true, \"showland\": true, \"subunitcolor\": \"white\"}, \"hoverlabel\": {\"align\": \"left\"}, \"hovermode\": \"closest\", \"mapbox\": {\"style\": \"light\"}, \"paper_bgcolor\": \"white\", \"plot_bgcolor\": \"#E5ECF6\", \"polar\": {\"angularaxis\": {\"gridcolor\": \"white\", \"linecolor\": \"white\", \"ticks\": \"\"}, \"bgcolor\": \"#E5ECF6\", \"radialaxis\": {\"gridcolor\": \"white\", \"linecolor\": \"white\", \"ticks\": \"\"}}, \"scene\": {\"xaxis\": {\"backgroundcolor\": \"#E5ECF6\", \"gridcolor\": \"white\", \"gridwidth\": 2, \"linecolor\": \"white\", \"showbackground\": true, \"ticks\": \"\", \"zerolinecolor\": \"white\"}, \"yaxis\": {\"backgroundcolor\": \"#E5ECF6\", \"gridcolor\": \"white\", \"gridwidth\": 2, \"linecolor\": \"white\", \"showbackground\": true, \"ticks\": \"\", \"zerolinecolor\": \"white\"}, \"zaxis\": {\"backgroundcolor\": \"#E5ECF6\", \"gridcolor\": \"white\", \"gridwidth\": 2, \"linecolor\": \"white\", \"showbackground\": true, \"ticks\": \"\", \"zerolinecolor\": \"white\"}}, \"shapedefaults\": {\"line\": {\"color\": \"#2a3f5f\"}}, \"ternary\": {\"aaxis\": {\"gridcolor\": \"white\", \"linecolor\": \"white\", \"ticks\": \"\"}, \"baxis\": {\"gridcolor\": \"white\", \"linecolor\": \"white\", \"ticks\": \"\"}, \"bgcolor\": \"#E5ECF6\", \"caxis\": {\"gridcolor\": \"white\", \"linecolor\": \"white\", \"ticks\": \"\"}}, \"title\": {\"x\": 0.05}, \"xaxis\": {\"automargin\": true, \"gridcolor\": \"white\", \"linecolor\": \"white\", \"ticks\": \"\", \"title\": {\"standoff\": 15}, \"zerolinecolor\": \"white\", \"zerolinewidth\": 2}, \"yaxis\": {\"automargin\": true, \"gridcolor\": \"white\", \"linecolor\": \"white\", \"ticks\": \"\", \"title\": {\"standoff\": 15}, \"zerolinecolor\": \"white\", \"zerolinewidth\": 2}}}, \"xaxis\": {\"anchor\": \"y\", \"domain\": [0.0, 1.0], \"title\": {\"text\": \"Orden\"}}, \"yaxis\": {\"anchor\": \"x\", \"domain\": [0.0, 1.0], \"title\": {\"text\": \"value\"}}},                        {\"responsive\": true}                    ).then(function(){\n",
       "                            \n",
       "var gd = document.getElementById('721b7bb6-fd6b-481b-99af-3f1a633ee855');\n",
       "var x = new MutationObserver(function (mutations, observer) {{\n",
       "        var display = window.getComputedStyle(gd).display;\n",
       "        if (!display || display === 'none') {{\n",
       "            console.log([gd, 'removed!']);\n",
       "            Plotly.purge(gd);\n",
       "            observer.disconnect();\n",
       "        }}\n",
       "}});\n",
       "\n",
       "// Listen for the removal of the full notebook cells\n",
       "var notebookContainer = gd.closest('#notebook-container');\n",
       "if (notebookContainer) {{\n",
       "    x.observe(notebookContainer, {childList: true});\n",
       "}}\n",
       "\n",
       "// Listen for the clearing of the current output cell\n",
       "var outputEl = gd.closest('.output');\n",
       "if (outputEl) {{\n",
       "    x.observe(outputEl, {childList: true});\n",
       "}}\n",
       "\n",
       "                        })                };                });            </script>        </div>"
      ]
     },
     "metadata": {},
     "output_type": "display_data"
    }
   ],
   "source": [
    "df_value_counts = df_1000_stratified['Order'].value_counts()\n",
    "df_value_counts = df_value_counts.reset_index()\n",
    "df_value_counts.columns = ['Orden', 'Número de imágenes']\n",
    "df_value_counts.set_index('Orden').plot(backend='plotly', kind='area')"
   ]
  },
  {
   "cell_type": "code",
   "execution_count": 86,
   "metadata": {},
   "outputs": [
    {
     "data": {
      "application/vnd.plotly.v1+json": {
       "config": {
        "plotlyServerURL": "https://plot.ly"
       },
       "data": [
        {
         "hovertemplate": "variable=Número de imágenes<br>Familia=%{x}<br>value=%{y}<extra></extra>",
         "legendgroup": "Número de imágenes",
         "line": {
          "color": "#636efa"
         },
         "mode": "lines",
         "name": "Número de imágenes",
         "orientation": "v",
         "showlegend": true,
         "stackgroup": "1",
         "type": "scatter",
         "x": [
          "Centrarchidae",
          "Cyprinidae",
          "Pomacentridae",
          "Salmonidae",
          "Labridae",
          "Chaetodontidae",
          "Syngnathidae",
          "Acanthuridae",
          "Sparidae",
          "Serranidae",
          "Percidae",
          "Tetraodontidae",
          "Scaridae",
          "Poeciliidae",
          "Monacanthidae",
          "Ictaluridae",
          "Muraenidae",
          "Scorpaenidae",
          "Gobiidae",
          "Carangidae",
          "Diodontidae",
          "Lutjanidae",
          "Mullidae",
          "Cichlidae",
          "Balistidae",
          "Sciaenidae",
          "Pomacanthidae",
          "Kyphosidae",
          "Cottidae",
          "Haemulidae",
          "Esocidae",
          "Lepisosteidae",
          "Fundulidae",
          "Ostraciidae",
          "Catostomidae",
          "Cheilodactylidae",
          "Anguillidae",
          "Gasterosteidae",
          "Moronidae",
          "Clupeidae",
          "Cirrhitidae",
          "Holocentridae",
          "Zanclidae",
          "Girellidae",
          "Apogonidae",
          "Sphyraenidae",
          "Aulostomidae",
          "Fistulariidae",
          "Ephippidae",
          "Ariidae",
          "Antennariidae",
          "Batrachoididae",
          "Molidae",
          "Pholidae",
          "Cyprinodontidae",
          "Sebastidae",
          "Atherinopsidae",
          "Lethrinidae",
          "Enoplosidae",
          "Pempheridae",
          "Synodontidae",
          "Plotosidae",
          "Siganidae",
          "Gobiesocidae",
          "Plesiopidae",
          "Aracanidae",
          "Scombridae",
          "Platycephalidae",
          "Hexagrammidae",
          "Monodactylidae",
          "Bothidae",
          "Belonidae",
          "Odacidae",
          "Megalopidae",
          "Stichaeidae",
          "Paralichthyidae",
          "Amiidae",
          "Embiotocidae",
          "Cobitidae",
          "Solenostomidae",
          "Pinguipedidae",
          "Channidae",
          "Balitoridae",
          "Galaxiidae",
          "Caesionidae",
          "Pomatomidae",
          "Umbridae",
          "Nemipteridae",
          "Echeneidae",
          "Gerreidae",
          "Aulopidae",
          "Clariidae",
          "Dactylopteridae",
          "Pleuronectidae",
          "Dinolestidae",
          "Triglidae",
          "Centropomidae",
          "Microdesmidae",
          "Arripidae",
          "Tetrarogidae",
          "Engraulidae",
          "Congridae",
          "Sillaginidae",
          "Chironemidae",
          "Elopidae",
          "Aphredoderidae",
          "Coryphaenidae",
          "Callionymidae",
          "Terapontidae",
          "Acipenseridae",
          "Aplodactylidae",
          "Ammodytidae",
          "Lobotidae",
          "Monocentridae",
          "Lotidae",
          "Gadidae",
          "Synbranchidae",
          "Erythrinidae",
          "Trichiuridae",
          "Priacanthidae",
          "Siluridae",
          "Elassomatidae",
          "Ophichthidae",
          "Scatophagidae",
          "Synanceiidae",
          "Cyclopteridae",
          "Osmeridae",
          "Pegasidae",
          "Achiridae",
          "Rachycentridae",
          "Grammatidae",
          "Hemiramphidae",
          "Centriscidae",
          "Osphronemidae",
          "Serrasalmidae"
         ],
         "xaxis": "x",
         "y": [
          44960,
          33004,
          22846,
          16258,
          16020,
          13959,
          13054,
          12587,
          9992,
          9769,
          9124,
          8429,
          8373,
          7859,
          7644,
          7430,
          7123,
          6881,
          6725,
          6248,
          6217,
          5723,
          5706,
          5697,
          5690,
          5628,
          5209,
          4723,
          4629,
          4522,
          3954,
          3763,
          3741,
          3681,
          3262,
          3234,
          3057,
          2797,
          2745,
          2734,
          2539,
          2169,
          1966,
          1953,
          1932,
          1903,
          1676,
          1423,
          1405,
          1312,
          1309,
          1297,
          1296,
          1215,
          1183,
          1176,
          1166,
          1166,
          1113,
          1107,
          1092,
          1090,
          1082,
          1040,
          1037,
          998,
          983,
          962,
          942,
          940,
          871,
          851,
          838,
          814,
          805,
          803,
          796,
          792,
          702,
          682,
          678,
          674,
          652,
          652,
          626,
          593,
          586,
          575,
          564,
          555,
          552,
          547,
          483,
          481,
          436,
          429,
          418,
          406,
          390,
          389,
          386,
          371,
          338,
          335,
          333,
          331,
          316,
          312,
          302,
          300,
          282,
          271,
          265,
          262,
          260,
          259,
          225,
          222,
          212,
          210,
          196,
          191,
          187,
          174,
          168,
          166,
          156,
          155,
          152,
          149,
          138,
          135,
          126,
          95,
          88
         ],
         "yaxis": "y"
        }
       ],
       "layout": {
        "legend": {
         "title": {
          "text": "variable"
         },
         "tracegroupgap": 0
        },
        "margin": {
         "t": 60
        },
        "template": {
         "data": {
          "bar": [
           {
            "error_x": {
             "color": "#2a3f5f"
            },
            "error_y": {
             "color": "#2a3f5f"
            },
            "marker": {
             "line": {
              "color": "#E5ECF6",
              "width": 0.5
             }
            },
            "type": "bar"
           }
          ],
          "barpolar": [
           {
            "marker": {
             "line": {
              "color": "#E5ECF6",
              "width": 0.5
             }
            },
            "type": "barpolar"
           }
          ],
          "carpet": [
           {
            "aaxis": {
             "endlinecolor": "#2a3f5f",
             "gridcolor": "white",
             "linecolor": "white",
             "minorgridcolor": "white",
             "startlinecolor": "#2a3f5f"
            },
            "baxis": {
             "endlinecolor": "#2a3f5f",
             "gridcolor": "white",
             "linecolor": "white",
             "minorgridcolor": "white",
             "startlinecolor": "#2a3f5f"
            },
            "type": "carpet"
           }
          ],
          "choropleth": [
           {
            "colorbar": {
             "outlinewidth": 0,
             "ticks": ""
            },
            "type": "choropleth"
           }
          ],
          "contour": [
           {
            "colorbar": {
             "outlinewidth": 0,
             "ticks": ""
            },
            "colorscale": [
             [
              0,
              "#0d0887"
             ],
             [
              0.1111111111111111,
              "#46039f"
             ],
             [
              0.2222222222222222,
              "#7201a8"
             ],
             [
              0.3333333333333333,
              "#9c179e"
             ],
             [
              0.4444444444444444,
              "#bd3786"
             ],
             [
              0.5555555555555556,
              "#d8576b"
             ],
             [
              0.6666666666666666,
              "#ed7953"
             ],
             [
              0.7777777777777778,
              "#fb9f3a"
             ],
             [
              0.8888888888888888,
              "#fdca26"
             ],
             [
              1,
              "#f0f921"
             ]
            ],
            "type": "contour"
           }
          ],
          "contourcarpet": [
           {
            "colorbar": {
             "outlinewidth": 0,
             "ticks": ""
            },
            "type": "contourcarpet"
           }
          ],
          "heatmap": [
           {
            "colorbar": {
             "outlinewidth": 0,
             "ticks": ""
            },
            "colorscale": [
             [
              0,
              "#0d0887"
             ],
             [
              0.1111111111111111,
              "#46039f"
             ],
             [
              0.2222222222222222,
              "#7201a8"
             ],
             [
              0.3333333333333333,
              "#9c179e"
             ],
             [
              0.4444444444444444,
              "#bd3786"
             ],
             [
              0.5555555555555556,
              "#d8576b"
             ],
             [
              0.6666666666666666,
              "#ed7953"
             ],
             [
              0.7777777777777778,
              "#fb9f3a"
             ],
             [
              0.8888888888888888,
              "#fdca26"
             ],
             [
              1,
              "#f0f921"
             ]
            ],
            "type": "heatmap"
           }
          ],
          "heatmapgl": [
           {
            "colorbar": {
             "outlinewidth": 0,
             "ticks": ""
            },
            "colorscale": [
             [
              0,
              "#0d0887"
             ],
             [
              0.1111111111111111,
              "#46039f"
             ],
             [
              0.2222222222222222,
              "#7201a8"
             ],
             [
              0.3333333333333333,
              "#9c179e"
             ],
             [
              0.4444444444444444,
              "#bd3786"
             ],
             [
              0.5555555555555556,
              "#d8576b"
             ],
             [
              0.6666666666666666,
              "#ed7953"
             ],
             [
              0.7777777777777778,
              "#fb9f3a"
             ],
             [
              0.8888888888888888,
              "#fdca26"
             ],
             [
              1,
              "#f0f921"
             ]
            ],
            "type": "heatmapgl"
           }
          ],
          "histogram": [
           {
            "marker": {
             "colorbar": {
              "outlinewidth": 0,
              "ticks": ""
             }
            },
            "type": "histogram"
           }
          ],
          "histogram2d": [
           {
            "colorbar": {
             "outlinewidth": 0,
             "ticks": ""
            },
            "colorscale": [
             [
              0,
              "#0d0887"
             ],
             [
              0.1111111111111111,
              "#46039f"
             ],
             [
              0.2222222222222222,
              "#7201a8"
             ],
             [
              0.3333333333333333,
              "#9c179e"
             ],
             [
              0.4444444444444444,
              "#bd3786"
             ],
             [
              0.5555555555555556,
              "#d8576b"
             ],
             [
              0.6666666666666666,
              "#ed7953"
             ],
             [
              0.7777777777777778,
              "#fb9f3a"
             ],
             [
              0.8888888888888888,
              "#fdca26"
             ],
             [
              1,
              "#f0f921"
             ]
            ],
            "type": "histogram2d"
           }
          ],
          "histogram2dcontour": [
           {
            "colorbar": {
             "outlinewidth": 0,
             "ticks": ""
            },
            "colorscale": [
             [
              0,
              "#0d0887"
             ],
             [
              0.1111111111111111,
              "#46039f"
             ],
             [
              0.2222222222222222,
              "#7201a8"
             ],
             [
              0.3333333333333333,
              "#9c179e"
             ],
             [
              0.4444444444444444,
              "#bd3786"
             ],
             [
              0.5555555555555556,
              "#d8576b"
             ],
             [
              0.6666666666666666,
              "#ed7953"
             ],
             [
              0.7777777777777778,
              "#fb9f3a"
             ],
             [
              0.8888888888888888,
              "#fdca26"
             ],
             [
              1,
              "#f0f921"
             ]
            ],
            "type": "histogram2dcontour"
           }
          ],
          "mesh3d": [
           {
            "colorbar": {
             "outlinewidth": 0,
             "ticks": ""
            },
            "type": "mesh3d"
           }
          ],
          "parcoords": [
           {
            "line": {
             "colorbar": {
              "outlinewidth": 0,
              "ticks": ""
             }
            },
            "type": "parcoords"
           }
          ],
          "pie": [
           {
            "automargin": true,
            "type": "pie"
           }
          ],
          "scatter": [
           {
            "marker": {
             "colorbar": {
              "outlinewidth": 0,
              "ticks": ""
             }
            },
            "type": "scatter"
           }
          ],
          "scatter3d": [
           {
            "line": {
             "colorbar": {
              "outlinewidth": 0,
              "ticks": ""
             }
            },
            "marker": {
             "colorbar": {
              "outlinewidth": 0,
              "ticks": ""
             }
            },
            "type": "scatter3d"
           }
          ],
          "scattercarpet": [
           {
            "marker": {
             "colorbar": {
              "outlinewidth": 0,
              "ticks": ""
             }
            },
            "type": "scattercarpet"
           }
          ],
          "scattergeo": [
           {
            "marker": {
             "colorbar": {
              "outlinewidth": 0,
              "ticks": ""
             }
            },
            "type": "scattergeo"
           }
          ],
          "scattergl": [
           {
            "marker": {
             "colorbar": {
              "outlinewidth": 0,
              "ticks": ""
             }
            },
            "type": "scattergl"
           }
          ],
          "scattermapbox": [
           {
            "marker": {
             "colorbar": {
              "outlinewidth": 0,
              "ticks": ""
             }
            },
            "type": "scattermapbox"
           }
          ],
          "scatterpolar": [
           {
            "marker": {
             "colorbar": {
              "outlinewidth": 0,
              "ticks": ""
             }
            },
            "type": "scatterpolar"
           }
          ],
          "scatterpolargl": [
           {
            "marker": {
             "colorbar": {
              "outlinewidth": 0,
              "ticks": ""
             }
            },
            "type": "scatterpolargl"
           }
          ],
          "scatterternary": [
           {
            "marker": {
             "colorbar": {
              "outlinewidth": 0,
              "ticks": ""
             }
            },
            "type": "scatterternary"
           }
          ],
          "surface": [
           {
            "colorbar": {
             "outlinewidth": 0,
             "ticks": ""
            },
            "colorscale": [
             [
              0,
              "#0d0887"
             ],
             [
              0.1111111111111111,
              "#46039f"
             ],
             [
              0.2222222222222222,
              "#7201a8"
             ],
             [
              0.3333333333333333,
              "#9c179e"
             ],
             [
              0.4444444444444444,
              "#bd3786"
             ],
             [
              0.5555555555555556,
              "#d8576b"
             ],
             [
              0.6666666666666666,
              "#ed7953"
             ],
             [
              0.7777777777777778,
              "#fb9f3a"
             ],
             [
              0.8888888888888888,
              "#fdca26"
             ],
             [
              1,
              "#f0f921"
             ]
            ],
            "type": "surface"
           }
          ],
          "table": [
           {
            "cells": {
             "fill": {
              "color": "#EBF0F8"
             },
             "line": {
              "color": "white"
             }
            },
            "header": {
             "fill": {
              "color": "#C8D4E3"
             },
             "line": {
              "color": "white"
             }
            },
            "type": "table"
           }
          ]
         },
         "layout": {
          "annotationdefaults": {
           "arrowcolor": "#2a3f5f",
           "arrowhead": 0,
           "arrowwidth": 1
          },
          "coloraxis": {
           "colorbar": {
            "outlinewidth": 0,
            "ticks": ""
           }
          },
          "colorscale": {
           "diverging": [
            [
             0,
             "#8e0152"
            ],
            [
             0.1,
             "#c51b7d"
            ],
            [
             0.2,
             "#de77ae"
            ],
            [
             0.3,
             "#f1b6da"
            ],
            [
             0.4,
             "#fde0ef"
            ],
            [
             0.5,
             "#f7f7f7"
            ],
            [
             0.6,
             "#e6f5d0"
            ],
            [
             0.7,
             "#b8e186"
            ],
            [
             0.8,
             "#7fbc41"
            ],
            [
             0.9,
             "#4d9221"
            ],
            [
             1,
             "#276419"
            ]
           ],
           "sequential": [
            [
             0,
             "#0d0887"
            ],
            [
             0.1111111111111111,
             "#46039f"
            ],
            [
             0.2222222222222222,
             "#7201a8"
            ],
            [
             0.3333333333333333,
             "#9c179e"
            ],
            [
             0.4444444444444444,
             "#bd3786"
            ],
            [
             0.5555555555555556,
             "#d8576b"
            ],
            [
             0.6666666666666666,
             "#ed7953"
            ],
            [
             0.7777777777777778,
             "#fb9f3a"
            ],
            [
             0.8888888888888888,
             "#fdca26"
            ],
            [
             1,
             "#f0f921"
            ]
           ],
           "sequentialminus": [
            [
             0,
             "#0d0887"
            ],
            [
             0.1111111111111111,
             "#46039f"
            ],
            [
             0.2222222222222222,
             "#7201a8"
            ],
            [
             0.3333333333333333,
             "#9c179e"
            ],
            [
             0.4444444444444444,
             "#bd3786"
            ],
            [
             0.5555555555555556,
             "#d8576b"
            ],
            [
             0.6666666666666666,
             "#ed7953"
            ],
            [
             0.7777777777777778,
             "#fb9f3a"
            ],
            [
             0.8888888888888888,
             "#fdca26"
            ],
            [
             1,
             "#f0f921"
            ]
           ]
          },
          "colorway": [
           "#636efa",
           "#EF553B",
           "#00cc96",
           "#ab63fa",
           "#FFA15A",
           "#19d3f3",
           "#FF6692",
           "#B6E880",
           "#FF97FF",
           "#FECB52"
          ],
          "font": {
           "color": "#2a3f5f"
          },
          "geo": {
           "bgcolor": "white",
           "lakecolor": "white",
           "landcolor": "#E5ECF6",
           "showlakes": true,
           "showland": true,
           "subunitcolor": "white"
          },
          "hoverlabel": {
           "align": "left"
          },
          "hovermode": "closest",
          "mapbox": {
           "style": "light"
          },
          "paper_bgcolor": "white",
          "plot_bgcolor": "#E5ECF6",
          "polar": {
           "angularaxis": {
            "gridcolor": "white",
            "linecolor": "white",
            "ticks": ""
           },
           "bgcolor": "#E5ECF6",
           "radialaxis": {
            "gridcolor": "white",
            "linecolor": "white",
            "ticks": ""
           }
          },
          "scene": {
           "xaxis": {
            "backgroundcolor": "#E5ECF6",
            "gridcolor": "white",
            "gridwidth": 2,
            "linecolor": "white",
            "showbackground": true,
            "ticks": "",
            "zerolinecolor": "white"
           },
           "yaxis": {
            "backgroundcolor": "#E5ECF6",
            "gridcolor": "white",
            "gridwidth": 2,
            "linecolor": "white",
            "showbackground": true,
            "ticks": "",
            "zerolinecolor": "white"
           },
           "zaxis": {
            "backgroundcolor": "#E5ECF6",
            "gridcolor": "white",
            "gridwidth": 2,
            "linecolor": "white",
            "showbackground": true,
            "ticks": "",
            "zerolinecolor": "white"
           }
          },
          "shapedefaults": {
           "line": {
            "color": "#2a3f5f"
           }
          },
          "ternary": {
           "aaxis": {
            "gridcolor": "white",
            "linecolor": "white",
            "ticks": ""
           },
           "baxis": {
            "gridcolor": "white",
            "linecolor": "white",
            "ticks": ""
           },
           "bgcolor": "#E5ECF6",
           "caxis": {
            "gridcolor": "white",
            "linecolor": "white",
            "ticks": ""
           }
          },
          "title": {
           "x": 0.05
          },
          "xaxis": {
           "automargin": true,
           "gridcolor": "white",
           "linecolor": "white",
           "ticks": "",
           "title": {
            "standoff": 15
           },
           "zerolinecolor": "white",
           "zerolinewidth": 2
          },
          "yaxis": {
           "automargin": true,
           "gridcolor": "white",
           "linecolor": "white",
           "ticks": "",
           "title": {
            "standoff": 15
           },
           "zerolinecolor": "white",
           "zerolinewidth": 2
          }
         }
        },
        "xaxis": {
         "anchor": "y",
         "domain": [
          0,
          1
         ],
         "title": {
          "text": "Familia"
         }
        },
        "yaxis": {
         "anchor": "x",
         "domain": [
          0,
          1
         ],
         "title": {
          "text": "value"
         }
        }
       }
      },
      "text/html": [
       "<div>                            <div id=\"08c25170-d326-4cb5-bf2b-5cc833d7e187\" class=\"plotly-graph-div\" style=\"height:525px; width:100%;\"></div>            <script type=\"text/javascript\">                require([\"plotly\"], function(Plotly) {                    window.PLOTLYENV=window.PLOTLYENV || {};                                    if (document.getElementById(\"08c25170-d326-4cb5-bf2b-5cc833d7e187\")) {                    Plotly.newPlot(                        \"08c25170-d326-4cb5-bf2b-5cc833d7e187\",                        [{\"hovertemplate\": \"variable=N\\u00famero de im\\u00e1genes<br>Familia=%{x}<br>value=%{y}<extra></extra>\", \"legendgroup\": \"N\\u00famero de im\\u00e1genes\", \"line\": {\"color\": \"#636efa\"}, \"mode\": \"lines\", \"name\": \"N\\u00famero de im\\u00e1genes\", \"orientation\": \"v\", \"showlegend\": true, \"stackgroup\": \"1\", \"type\": \"scatter\", \"x\": [\"Centrarchidae\", \"Cyprinidae\", \"Pomacentridae\", \"Salmonidae\", \"Labridae\", \"Chaetodontidae\", \"Syngnathidae\", \"Acanthuridae\", \"Sparidae\", \"Serranidae\", \"Percidae\", \"Tetraodontidae\", \"Scaridae\", \"Poeciliidae\", \"Monacanthidae\", \"Ictaluridae\", \"Muraenidae\", \"Scorpaenidae\", \"Gobiidae\", \"Carangidae\", \"Diodontidae\", \"Lutjanidae\", \"Mullidae\", \"Cichlidae\", \"Balistidae\", \"Sciaenidae\", \"Pomacanthidae\", \"Kyphosidae\", \"Cottidae\", \"Haemulidae\", \"Esocidae\", \"Lepisosteidae\", \"Fundulidae\", \"Ostraciidae\", \"Catostomidae\", \"Cheilodactylidae\", \"Anguillidae\", \"Gasterosteidae\", \"Moronidae\", \"Clupeidae\", \"Cirrhitidae\", \"Holocentridae\", \"Zanclidae\", \"Girellidae\", \"Apogonidae\", \"Sphyraenidae\", \"Aulostomidae\", \"Fistulariidae\", \"Ephippidae\", \"Ariidae\", \"Antennariidae\", \"Batrachoididae\", \"Molidae\", \"Pholidae\", \"Cyprinodontidae\", \"Sebastidae\", \"Atherinopsidae\", \"Lethrinidae\", \"Enoplosidae\", \"Pempheridae\", \"Synodontidae\", \"Plotosidae\", \"Siganidae\", \"Gobiesocidae\", \"Plesiopidae\", \"Aracanidae\", \"Scombridae\", \"Platycephalidae\", \"Hexagrammidae\", \"Monodactylidae\", \"Bothidae\", \"Belonidae\", \"Odacidae\", \"Megalopidae\", \"Stichaeidae\", \"Paralichthyidae\", \"Amiidae\", \"Embiotocidae\", \"Cobitidae\", \"Solenostomidae\", \"Pinguipedidae\", \"Channidae\", \"Balitoridae\", \"Galaxiidae\", \"Caesionidae\", \"Pomatomidae\", \"Umbridae\", \"Nemipteridae\", \"Echeneidae\", \"Gerreidae\", \"Aulopidae\", \"Clariidae\", \"Dactylopteridae\", \"Pleuronectidae\", \"Dinolestidae\", \"Triglidae\", \"Centropomidae\", \"Microdesmidae\", \"Arripidae\", \"Tetrarogidae\", \"Engraulidae\", \"Congridae\", \"Sillaginidae\", \"Chironemidae\", \"Elopidae\", \"Aphredoderidae\", \"Coryphaenidae\", \"Callionymidae\", \"Terapontidae\", \"Acipenseridae\", \"Aplodactylidae\", \"Ammodytidae\", \"Lobotidae\", \"Monocentridae\", \"Lotidae\", \"Gadidae\", \"Synbranchidae\", \"Erythrinidae\", \"Trichiuridae\", \"Priacanthidae\", \"Siluridae\", \"Elassomatidae\", \"Ophichthidae\", \"Scatophagidae\", \"Synanceiidae\", \"Cyclopteridae\", \"Osmeridae\", \"Pegasidae\", \"Achiridae\", \"Rachycentridae\", \"Grammatidae\", \"Hemiramphidae\", \"Centriscidae\", \"Osphronemidae\", \"Serrasalmidae\"], \"xaxis\": \"x\", \"y\": [44960, 33004, 22846, 16258, 16020, 13959, 13054, 12587, 9992, 9769, 9124, 8429, 8373, 7859, 7644, 7430, 7123, 6881, 6725, 6248, 6217, 5723, 5706, 5697, 5690, 5628, 5209, 4723, 4629, 4522, 3954, 3763, 3741, 3681, 3262, 3234, 3057, 2797, 2745, 2734, 2539, 2169, 1966, 1953, 1932, 1903, 1676, 1423, 1405, 1312, 1309, 1297, 1296, 1215, 1183, 1176, 1166, 1166, 1113, 1107, 1092, 1090, 1082, 1040, 1037, 998, 983, 962, 942, 940, 871, 851, 838, 814, 805, 803, 796, 792, 702, 682, 678, 674, 652, 652, 626, 593, 586, 575, 564, 555, 552, 547, 483, 481, 436, 429, 418, 406, 390, 389, 386, 371, 338, 335, 333, 331, 316, 312, 302, 300, 282, 271, 265, 262, 260, 259, 225, 222, 212, 210, 196, 191, 187, 174, 168, 166, 156, 155, 152, 149, 138, 135, 126, 95, 88], \"yaxis\": \"y\"}],                        {\"legend\": {\"title\": {\"text\": \"variable\"}, \"tracegroupgap\": 0}, \"margin\": {\"t\": 60}, \"template\": {\"data\": {\"bar\": [{\"error_x\": {\"color\": \"#2a3f5f\"}, \"error_y\": {\"color\": \"#2a3f5f\"}, \"marker\": {\"line\": {\"color\": \"#E5ECF6\", \"width\": 0.5}}, \"type\": \"bar\"}], \"barpolar\": [{\"marker\": {\"line\": {\"color\": \"#E5ECF6\", \"width\": 0.5}}, \"type\": \"barpolar\"}], \"carpet\": [{\"aaxis\": {\"endlinecolor\": \"#2a3f5f\", \"gridcolor\": \"white\", \"linecolor\": \"white\", \"minorgridcolor\": \"white\", \"startlinecolor\": \"#2a3f5f\"}, \"baxis\": {\"endlinecolor\": \"#2a3f5f\", \"gridcolor\": \"white\", \"linecolor\": \"white\", \"minorgridcolor\": \"white\", \"startlinecolor\": \"#2a3f5f\"}, \"type\": \"carpet\"}], \"choropleth\": [{\"colorbar\": {\"outlinewidth\": 0, \"ticks\": \"\"}, \"type\": \"choropleth\"}], \"contour\": [{\"colorbar\": {\"outlinewidth\": 0, \"ticks\": \"\"}, \"colorscale\": [[0.0, \"#0d0887\"], [0.1111111111111111, \"#46039f\"], [0.2222222222222222, \"#7201a8\"], [0.3333333333333333, \"#9c179e\"], [0.4444444444444444, \"#bd3786\"], [0.5555555555555556, \"#d8576b\"], [0.6666666666666666, \"#ed7953\"], [0.7777777777777778, \"#fb9f3a\"], [0.8888888888888888, \"#fdca26\"], [1.0, \"#f0f921\"]], \"type\": \"contour\"}], \"contourcarpet\": [{\"colorbar\": {\"outlinewidth\": 0, \"ticks\": \"\"}, \"type\": \"contourcarpet\"}], \"heatmap\": [{\"colorbar\": {\"outlinewidth\": 0, \"ticks\": \"\"}, \"colorscale\": [[0.0, \"#0d0887\"], [0.1111111111111111, \"#46039f\"], [0.2222222222222222, \"#7201a8\"], [0.3333333333333333, \"#9c179e\"], [0.4444444444444444, \"#bd3786\"], [0.5555555555555556, \"#d8576b\"], [0.6666666666666666, \"#ed7953\"], [0.7777777777777778, \"#fb9f3a\"], [0.8888888888888888, \"#fdca26\"], [1.0, \"#f0f921\"]], \"type\": \"heatmap\"}], \"heatmapgl\": [{\"colorbar\": {\"outlinewidth\": 0, \"ticks\": \"\"}, \"colorscale\": [[0.0, \"#0d0887\"], [0.1111111111111111, \"#46039f\"], [0.2222222222222222, \"#7201a8\"], [0.3333333333333333, \"#9c179e\"], [0.4444444444444444, \"#bd3786\"], [0.5555555555555556, \"#d8576b\"], [0.6666666666666666, \"#ed7953\"], [0.7777777777777778, \"#fb9f3a\"], [0.8888888888888888, \"#fdca26\"], [1.0, \"#f0f921\"]], \"type\": \"heatmapgl\"}], \"histogram\": [{\"marker\": {\"colorbar\": {\"outlinewidth\": 0, \"ticks\": \"\"}}, \"type\": \"histogram\"}], \"histogram2d\": [{\"colorbar\": {\"outlinewidth\": 0, \"ticks\": \"\"}, \"colorscale\": [[0.0, \"#0d0887\"], [0.1111111111111111, \"#46039f\"], [0.2222222222222222, \"#7201a8\"], [0.3333333333333333, \"#9c179e\"], [0.4444444444444444, \"#bd3786\"], [0.5555555555555556, \"#d8576b\"], [0.6666666666666666, \"#ed7953\"], [0.7777777777777778, \"#fb9f3a\"], [0.8888888888888888, \"#fdca26\"], [1.0, \"#f0f921\"]], \"type\": \"histogram2d\"}], \"histogram2dcontour\": [{\"colorbar\": {\"outlinewidth\": 0, \"ticks\": \"\"}, \"colorscale\": [[0.0, \"#0d0887\"], [0.1111111111111111, \"#46039f\"], [0.2222222222222222, \"#7201a8\"], [0.3333333333333333, \"#9c179e\"], [0.4444444444444444, \"#bd3786\"], [0.5555555555555556, \"#d8576b\"], [0.6666666666666666, \"#ed7953\"], [0.7777777777777778, \"#fb9f3a\"], [0.8888888888888888, \"#fdca26\"], [1.0, \"#f0f921\"]], \"type\": \"histogram2dcontour\"}], \"mesh3d\": [{\"colorbar\": {\"outlinewidth\": 0, \"ticks\": \"\"}, \"type\": \"mesh3d\"}], \"parcoords\": [{\"line\": {\"colorbar\": {\"outlinewidth\": 0, \"ticks\": \"\"}}, \"type\": \"parcoords\"}], \"pie\": [{\"automargin\": true, \"type\": \"pie\"}], \"scatter\": [{\"marker\": {\"colorbar\": {\"outlinewidth\": 0, \"ticks\": \"\"}}, \"type\": \"scatter\"}], \"scatter3d\": [{\"line\": {\"colorbar\": {\"outlinewidth\": 0, \"ticks\": \"\"}}, \"marker\": {\"colorbar\": {\"outlinewidth\": 0, \"ticks\": \"\"}}, \"type\": \"scatter3d\"}], \"scattercarpet\": [{\"marker\": {\"colorbar\": {\"outlinewidth\": 0, \"ticks\": \"\"}}, \"type\": \"scattercarpet\"}], \"scattergeo\": [{\"marker\": {\"colorbar\": {\"outlinewidth\": 0, \"ticks\": \"\"}}, \"type\": \"scattergeo\"}], \"scattergl\": [{\"marker\": {\"colorbar\": {\"outlinewidth\": 0, \"ticks\": \"\"}}, \"type\": \"scattergl\"}], \"scattermapbox\": [{\"marker\": {\"colorbar\": {\"outlinewidth\": 0, \"ticks\": \"\"}}, \"type\": \"scattermapbox\"}], \"scatterpolar\": [{\"marker\": {\"colorbar\": {\"outlinewidth\": 0, \"ticks\": \"\"}}, \"type\": \"scatterpolar\"}], \"scatterpolargl\": [{\"marker\": {\"colorbar\": {\"outlinewidth\": 0, \"ticks\": \"\"}}, \"type\": \"scatterpolargl\"}], \"scatterternary\": [{\"marker\": {\"colorbar\": {\"outlinewidth\": 0, \"ticks\": \"\"}}, \"type\": \"scatterternary\"}], \"surface\": [{\"colorbar\": {\"outlinewidth\": 0, \"ticks\": \"\"}, \"colorscale\": [[0.0, \"#0d0887\"], [0.1111111111111111, \"#46039f\"], [0.2222222222222222, \"#7201a8\"], [0.3333333333333333, \"#9c179e\"], [0.4444444444444444, \"#bd3786\"], [0.5555555555555556, \"#d8576b\"], [0.6666666666666666, \"#ed7953\"], [0.7777777777777778, \"#fb9f3a\"], [0.8888888888888888, \"#fdca26\"], [1.0, \"#f0f921\"]], \"type\": \"surface\"}], \"table\": [{\"cells\": {\"fill\": {\"color\": \"#EBF0F8\"}, \"line\": {\"color\": \"white\"}}, \"header\": {\"fill\": {\"color\": \"#C8D4E3\"}, \"line\": {\"color\": \"white\"}}, \"type\": \"table\"}]}, \"layout\": {\"annotationdefaults\": {\"arrowcolor\": \"#2a3f5f\", \"arrowhead\": 0, \"arrowwidth\": 1}, \"coloraxis\": {\"colorbar\": {\"outlinewidth\": 0, \"ticks\": \"\"}}, \"colorscale\": {\"diverging\": [[0, \"#8e0152\"], [0.1, \"#c51b7d\"], [0.2, \"#de77ae\"], [0.3, \"#f1b6da\"], [0.4, \"#fde0ef\"], [0.5, \"#f7f7f7\"], [0.6, \"#e6f5d0\"], [0.7, \"#b8e186\"], [0.8, \"#7fbc41\"], [0.9, \"#4d9221\"], [1, \"#276419\"]], \"sequential\": [[0.0, \"#0d0887\"], [0.1111111111111111, \"#46039f\"], [0.2222222222222222, \"#7201a8\"], [0.3333333333333333, \"#9c179e\"], [0.4444444444444444, \"#bd3786\"], [0.5555555555555556, \"#d8576b\"], [0.6666666666666666, \"#ed7953\"], [0.7777777777777778, \"#fb9f3a\"], [0.8888888888888888, \"#fdca26\"], [1.0, \"#f0f921\"]], \"sequentialminus\": [[0.0, \"#0d0887\"], [0.1111111111111111, \"#46039f\"], [0.2222222222222222, \"#7201a8\"], [0.3333333333333333, \"#9c179e\"], [0.4444444444444444, \"#bd3786\"], [0.5555555555555556, \"#d8576b\"], [0.6666666666666666, \"#ed7953\"], [0.7777777777777778, \"#fb9f3a\"], [0.8888888888888888, \"#fdca26\"], [1.0, \"#f0f921\"]]}, \"colorway\": [\"#636efa\", \"#EF553B\", \"#00cc96\", \"#ab63fa\", \"#FFA15A\", \"#19d3f3\", \"#FF6692\", \"#B6E880\", \"#FF97FF\", \"#FECB52\"], \"font\": {\"color\": \"#2a3f5f\"}, \"geo\": {\"bgcolor\": \"white\", \"lakecolor\": \"white\", \"landcolor\": \"#E5ECF6\", \"showlakes\": true, \"showland\": true, \"subunitcolor\": \"white\"}, \"hoverlabel\": {\"align\": \"left\"}, \"hovermode\": \"closest\", \"mapbox\": {\"style\": \"light\"}, \"paper_bgcolor\": \"white\", \"plot_bgcolor\": \"#E5ECF6\", \"polar\": {\"angularaxis\": {\"gridcolor\": \"white\", \"linecolor\": \"white\", \"ticks\": \"\"}, \"bgcolor\": \"#E5ECF6\", \"radialaxis\": {\"gridcolor\": \"white\", \"linecolor\": \"white\", \"ticks\": \"\"}}, \"scene\": {\"xaxis\": {\"backgroundcolor\": \"#E5ECF6\", \"gridcolor\": \"white\", \"gridwidth\": 2, \"linecolor\": \"white\", \"showbackground\": true, \"ticks\": \"\", \"zerolinecolor\": \"white\"}, \"yaxis\": {\"backgroundcolor\": \"#E5ECF6\", \"gridcolor\": \"white\", \"gridwidth\": 2, \"linecolor\": \"white\", \"showbackground\": true, \"ticks\": \"\", \"zerolinecolor\": \"white\"}, \"zaxis\": {\"backgroundcolor\": \"#E5ECF6\", \"gridcolor\": \"white\", \"gridwidth\": 2, \"linecolor\": \"white\", \"showbackground\": true, \"ticks\": \"\", \"zerolinecolor\": \"white\"}}, \"shapedefaults\": {\"line\": {\"color\": \"#2a3f5f\"}}, \"ternary\": {\"aaxis\": {\"gridcolor\": \"white\", \"linecolor\": \"white\", \"ticks\": \"\"}, \"baxis\": {\"gridcolor\": \"white\", \"linecolor\": \"white\", \"ticks\": \"\"}, \"bgcolor\": \"#E5ECF6\", \"caxis\": {\"gridcolor\": \"white\", \"linecolor\": \"white\", \"ticks\": \"\"}}, \"title\": {\"x\": 0.05}, \"xaxis\": {\"automargin\": true, \"gridcolor\": \"white\", \"linecolor\": \"white\", \"ticks\": \"\", \"title\": {\"standoff\": 15}, \"zerolinecolor\": \"white\", \"zerolinewidth\": 2}, \"yaxis\": {\"automargin\": true, \"gridcolor\": \"white\", \"linecolor\": \"white\", \"ticks\": \"\", \"title\": {\"standoff\": 15}, \"zerolinecolor\": \"white\", \"zerolinewidth\": 2}}}, \"xaxis\": {\"anchor\": \"y\", \"domain\": [0.0, 1.0], \"title\": {\"text\": \"Familia\"}}, \"yaxis\": {\"anchor\": \"x\", \"domain\": [0.0, 1.0], \"title\": {\"text\": \"value\"}}},                        {\"responsive\": true}                    ).then(function(){\n",
       "                            \n",
       "var gd = document.getElementById('08c25170-d326-4cb5-bf2b-5cc833d7e187');\n",
       "var x = new MutationObserver(function (mutations, observer) {{\n",
       "        var display = window.getComputedStyle(gd).display;\n",
       "        if (!display || display === 'none') {{\n",
       "            console.log([gd, 'removed!']);\n",
       "            Plotly.purge(gd);\n",
       "            observer.disconnect();\n",
       "        }}\n",
       "}});\n",
       "\n",
       "// Listen for the removal of the full notebook cells\n",
       "var notebookContainer = gd.closest('#notebook-container');\n",
       "if (notebookContainer) {{\n",
       "    x.observe(notebookContainer, {childList: true});\n",
       "}}\n",
       "\n",
       "// Listen for the clearing of the current output cell\n",
       "var outputEl = gd.closest('.output');\n",
       "if (outputEl) {{\n",
       "    x.observe(outputEl, {childList: true});\n",
       "}}\n",
       "\n",
       "                        })                };                });            </script>        </div>"
      ]
     },
     "metadata": {},
     "output_type": "display_data"
    }
   ],
   "source": [
    "df_value_counts = df_1000_stratified['Family'].value_counts()\n",
    "df_value_counts = df_value_counts.reset_index()\n",
    "df_value_counts.columns = ['Familia', 'Número de imágenes']\n",
    "df_value_counts.set_index('Familia').plot(backend='plotly', kind='area')"
   ]
  },
  {
   "cell_type": "code",
   "execution_count": 87,
   "metadata": {},
   "outputs": [
    {
     "data": {
      "application/vnd.plotly.v1+json": {
       "config": {
        "plotlyServerURL": "https://plot.ly"
       },
       "data": [
        {
         "hovertemplate": "variable=Número de imágenes<br>Género=%{x}<br>value=%{y}<extra></extra>",
         "legendgroup": "Número de imágenes",
         "line": {
          "color": "#636efa"
         },
         "mode": "lines",
         "name": "Número de imágenes",
         "orientation": "v",
         "showlegend": true,
         "stackgroup": "1",
         "type": "scatter",
         "x": [
          "Lepomis",
          "Micropterus",
          "Chaetodon",
          "Oncorhynchus",
          "Hippocampus",
          "Cyprinus",
          "Acanthurus",
          "Gambusia",
          "Thalassoma",
          "Abudefduf",
          "Gymnothorax",
          "Lutjanus",
          "Scarus",
          "Diodon",
          "Esox",
          "Etheostoma",
          "Fundulus",
          "Amphiprion",
          "Lepisosteus",
          "Salmo",
          "Semotilus",
          "Perca",
          "Arothron",
          "Ameiurus",
          "Ictalurus",
          "Salvelinus",
          "Anguilla",
          "Caranx",
          "Pomacanthus",
          "Pterois",
          "Halichoeres",
          "Chromis",
          "Scorpaena",
          "Meuschenia",
          "Oreochromis",
          "Epinephelus",
          "Morone",
          "Pomoxis",
          "Cheilodactylus",
          "Haemulon",
          "Diplodus",
          "Naso",
          "Coris",
          "Rhinichthys",
          "Zanclus",
          "Girella",
          "Stegastes",
          "Sphyraena",
          "Dascyllus",
          "Sparisoma",
          "Carassius",
          "Pimephales",
          "Cephalopholis",
          "Gasterosteus",
          "Luxilus",
          "Canthigaster",
          "Ostracion",
          "Parupeneus",
          "Aulostomus",
          "Ambloplites",
          "Parma",
          "Catostomus",
          "Mulloidichthys",
          "Dorosoma",
          "Zebrasoma",
          "Upeneichthys",
          "Sphoeroides",
          "Holacanthus",
          "Fistularia",
          "Heniochus",
          "Cyprinella",
          "Lagodon",
          "Gobius",
          "Chlorurus",
          "Phycodurus",
          "Kyphosus",
          "Rhinecanthus",
          "Pomacentrus",
          "Antennarius",
          "Mola",
          "Cottus",
          "Tetractenos",
          "Bodianus",
          "Poecilia",
          "Cyprinodon",
          "Squalius",
          "Plectorhinchus",
          "Chrysophrys",
          "Cheilinus",
          "Scorpis",
          "Serranus",
          "Ostorhinchus",
          "Enoplosus",
          "Paracirrhites",
          "Nocomis",
          "Notemigonus",
          "Acanthopagrus",
          "Synodus",
          "Siganus",
          "Chilomycterus",
          "Sebastes",
          "Aplodinotus",
          "Sander",
          "Notropis",
          "Brachaluteres",
          "Sarpa",
          "Pholis",
          "Microspathodon",
          "Neogobius",
          "Pempheris",
          "Platax",
          "Sciaenops",
          "Lactophrys",
          "Ariopsis",
          "Pseudanthias",
          "Balistoides",
          "Melichthys",
          "Syngnathus",
          "Bothus",
          "Paralabrax",
          "Prionurus",
          "Oligocottus",
          "Microcanthus",
          "Monacanthus",
          "Platycephalus",
          "Cirrhitichthys",
          "Mayaheros",
          "Megalops",
          "Paralichthys",
          "Campostoma",
          "Echidna",
          "Amia",
          "Rhinogobius",
          "Balistes",
          "Culaea",
          "Phyllopteryx",
          "Trachurus",
          "Percina",
          "Chrosomus",
          "Hypsypops",
          "Cantherhines",
          "Herichthys",
          "Myripristis",
          "Hypoplectrodes",
          "Atypichthys",
          "Ctenochaetus",
          "Menticirrhus",
          "Moxostoma",
          "Opsanus",
          "Sufflamen",
          "Solenostomus",
          "Parapercis",
          "Channa",
          "Plotosus",
          "Tilodon",
          "Xiphophorus",
          "Dendrochirus",
          "Aluterus",
          "Seriola",
          "Cynoscion",
          "Galaxias",
          "Systomus",
          "Forcipiger",
          "Acanthostracion",
          "Muraena",
          "Menidia",
          "Scardinius",
          "Sargocentron",
          "Porichthys",
          "Amblyglyphidodon",
          "Hemigymnus",
          "Mullus",
          "Archosargus",
          "Pomatomus",
          "Dicotylichthys",
          "Rutilus",
          "Umbra",
          "Anoplocapros",
          "Trachinotus",
          "Monotaxis",
          "Dactylophora",
          "Clinocottus",
          "Scolopsis",
          "Brevoortia",
          "Scorpaenichthys",
          "Ocyurus",
          "Echeneis",
          "Holocentrus",
          "Gobiesox",
          "Gerres",
          "Opsariichthys",
          "Latropiscis",
          "Ctenopharyngodon",
          "Hypentelium",
          "Clarias",
          "Pseudocaranx",
          "Eubalichthys",
          "Oblada",
          "Stethojulis",
          "Schuettea",
          "Pogonias",
          "Taenianotus",
          "Chelmonops",
          "Caesio",
          "Balistapus",
          "Acrossocheilus",
          "Noturus",
          "Phoxinus",
          "Pylodictis",
          "Idiotropiscis",
          "Ophiodon",
          "Anisotremus",
          "Cirrhitus",
          "Scobinichthys",
          "Leptocottus",
          "Oxycheilinus",
          "Cymatogaster",
          "Chaetodipterus",
          "Micropogonias",
          "Trachinops",
          "Periophthalmus",
          "Centropristis",
          "Dinolestes",
          "Allomycterus",
          "Anoplarchus",
          "Macolor",
          "Scomber",
          "Leiostomus",
          "Strongylura",
          "Pygoplites",
          "Lactoria",
          "Centropomus",
          "Cnidoglanis",
          "Monodactylus",
          "Mecaenichthys",
          "Aracana",
          "Pachymetopon",
          "Bagre",
          "Arripis",
          "Pseudogastromyzon",
          "Centropogon",
          "Cobitis",
          "Istigobius",
          "Plectroglyphidodon",
          "Lethrinus",
          "Novaculichthys",
          "Dicentrarchus",
          "Epibulus",
          "Valenciennea",
          "Embiotoca",
          "Clupea",
          "Sillago",
          "Parazacco",
          "Chironemus",
          "Elops",
          "Centropyge",
          "Aphredoderus",
          "Alburnus",
          "Rhabdosargus",
          "Orthopristis",
          "Boleophthalmus",
          "Stigmatopora",
          "Misgurnus",
          "Alosa",
          "Abramis",
          "Coryphaena",
          "Premnas",
          "Pseudobalistes",
          "Eocallionymus",
          "Paraplesiops",
          "Lithognathus",
          "Amblygobius",
          "Sicyopterus",
          "Terapon",
          "Odonus",
          "Centrarchus",
          "Cheilodipterus",
          "Acipenser",
          "Neoglyphidodon",
          "Olisthops",
          "Neoodax",
          "Enophrys",
          "Rhinomuraena",
          "Torquigener",
          "Aplodactylus",
          "Acanthoclinus",
          "Dactylopterus",
          "Argyrosomus",
          "Chrysoblephus",
          "Platichthys",
          "Cochleoceps",
          "Filicampus",
          "Ammodytes",
          "Bairdiella",
          "Johnrandallia",
          "Neoniphon",
          "Clinostomus",
          "Amblyeleotris",
          "Chrysiptera",
          "Lobotes",
          "Scorpaenopsis",
          "Liniparhomaloptera",
          "Cleidopus",
          "Tinca",
          "Cetoscarus",
          "Lota",
          "Gadus",
          "Stenotomus",
          "Sparus",
          "Tilapia",
          "Prionotus",
          "Diagramma",
          "Hexagrammos",
          "Atractosteus",
          "Plectropomus",
          "Rhinogobiops",
          "Acanthaluteres",
          "Heteroscarus",
          "Nemateleotris",
          "Tylosurus",
          "Thymallus",
          "Myoxocephalus",
          "Upeneus",
          "Engraulis",
          "Taurulus",
          "Pungitius",
          "Oxylebius",
          "Astronotus",
          "Equetus",
          "Hemitaurichthys",
          "Apodichthys",
          "Labidesthes",
          "Monopterus",
          "Hoplias",
          "Coptodon",
          "Pelmatolapia",
          "Cheilio",
          "Conger",
          "Mycteroperca",
          "Apogon",
          "Minytrema",
          "Trichiurus",
          "Gnathodentex",
          "Priacanthus",
          "Scomberomorus",
          "Cichla",
          "Trachelochismus",
          "Pseudopleuronectes",
          "Dactyloptena",
          "Periophthalmodon",
          "Oxymonacanthus",
          "Cebidichthys",
          "Silurus",
          "Gymnomuraena",
          "Elassoma",
          "Belone",
          "Variola",
          "Ictiobus",
          "Myrichthys",
          "Pseudorasbora",
          "Pseudupeneus",
          "Heterandria",
          "Gobio",
          "Acanthistius",
          "Chelidonichthys",
          "Acanthogobius",
          "Bathygobius",
          "Chelmon",
          "Scatophagus",
          "Xiphister",
          "Paraluteres",
          "Macropharyngodon",
          "Synanceia",
          "Iniistius",
          "Cyclopterus",
          "Bolbometopon",
          "Ptychocheilus",
          "Boops",
          "Gnathanodon",
          "Nemadactylus",
          "Ptereleotris",
          "Anampses",
          "Omegophora",
          "Telestes",
          "Atherinops",
          "Anchoa",
          "Heteroconger",
          "Osmerus",
          "Eurypegasus",
          "Diploprion",
          "Oxycirrhites",
          "Chirodactylus",
          "Trinectes",
          "Cromileptes",
          "Stephanolepis",
          "Calotomus",
          "Selene",
          "Barbus",
          "Trachyrhamphus",
          "Rachycentron",
          "Atherinopsis",
          "Sarotherodon",
          "Padogobius",
          "Carangoides",
          "Pareques",
          "Thunnus",
          "Geophagus",
          "Acanthochromis",
          "Apolemichthys",
          "Dunckerocampus",
          "Amatitlania",
          "Gymnocephalus",
          "Parachromis",
          "Cymbacephalus",
          "Gramma",
          "Paranthias",
          "Pterocaesio",
          "Hemiramphus",
          "Hypoplectrus",
          "Enneacanthus",
          "Candidia",
          "Hypophthalmichthys",
          "Caffrogobius",
          "Lagocephalus",
          "Parapriacanthus",
          "Aeoliscus",
          "Neopomacentrus",
          "Elagatis",
          "Artedius",
          "Cirrhilabrus",
          "Pseudoxiphophorus",
          "Taeniamia",
          "Grammistes",
          "Paracanthurus",
          "Sebastiscus",
          "Chloroscombrus",
          "Pristiapogon",
          "Gymnosarda",
          "Acanthocybium",
          "Takifugu",
          "Trichopodus",
          "Bryaninops",
          "Hesperoleucus",
          "Pygocentrus",
          "Pterapogon",
          "Pteragogus",
          "Corythoichthys",
          "Chelonodon",
          "Cryptocentrus",
          "Pagrus",
          "Selaroides",
          "Apogonichthyoides",
          "Pterophyllum",
          "Betta"
         ],
         "xaxis": "x",
         "y": [
          25853,
          14651,
          10733,
          9420,
          8642,
          8271,
          7298,
          5700,
          5595,
          5547,
          5200,
          4727,
          4565,
          4125,
          3954,
          3819,
          3741,
          3583,
          3514,
          3413,
          3411,
          3371,
          3296,
          3282,
          3198,
          3186,
          3057,
          2986,
          2879,
          2800,
          2752,
          2666,
          2633,
          2606,
          2430,
          2393,
          2381,
          2360,
          2339,
          2328,
          2217,
          2100,
          2096,
          1991,
          1966,
          1953,
          1929,
          1903,
          1878,
          1855,
          1820,
          1802,
          1792,
          1777,
          1720,
          1720,
          1696,
          1687,
          1676,
          1661,
          1623,
          1617,
          1554,
          1503,
          1503,
          1451,
          1441,
          1437,
          1423,
          1405,
          1399,
          1396,
          1393,
          1376,
          1360,
          1357,
          1334,
          1329,
          1309,
          1296,
          1289,
          1263,
          1245,
          1187,
          1183,
          1166,
          1155,
          1153,
          1139,
          1132,
          1129,
          1115,
          1113,
          1104,
          1102,
          1097,
          1092,
          1092,
          1082,
          1067,
          1063,
          1035,
          1028,
          1025,
          1016,
          995,
          989,
          985,
          985,
          980,
          957,
          933,
          918,
          908,
          907,
          901,
          880,
          872,
          871,
          868,
          864,
          861,
          851,
          841,
          823,
          821,
          814,
          814,
          803,
          800,
          798,
          796,
          795,
          793,
          791,
          779,
          771,
          766,
          765,
          759,
          755,
          755,
          727,
          719,
          713,
          708,
          701,
          698,
          687,
          683,
          682,
          678,
          674,
          673,
          670,
          668,
          667,
          658,
          656,
          652,
          652,
          649,
          648,
          648,
          638,
          636,
          627,
          612,
          610,
          605,
          598,
          594,
          593,
          593,
          590,
          590,
          586,
          584,
          583,
          580,
          578,
          578,
          575,
          568,
          567,
          565,
          564,
          561,
          560,
          555,
          554,
          552,
          548,
          547,
          547,
          540,
          539,
          536,
          528,
          524,
          522,
          518,
          502,
          490,
          483,
          480,
          477,
          476,
          473,
          469,
          464,
          464,
          460,
          459,
          451,
          450,
          448,
          448,
          445,
          444,
          441,
          440,
          436,
          435,
          432,
          431,
          429,
          420,
          420,
          419,
          419,
          418,
          417,
          416,
          415,
          414,
          407,
          404,
          390,
          389,
          389,
          382,
          379,
          376,
          375,
          375,
          364,
          355,
          346,
          344,
          343,
          338,
          338,
          335,
          333,
          333,
          331,
          327,
          326,
          324,
          323,
          323,
          320,
          320,
          319,
          316,
          315,
          315,
          312,
          311,
          306,
          305,
          303,
          302,
          301,
          301,
          301,
          300,
          300,
          298,
          298,
          295,
          293,
          284,
          282,
          282,
          280,
          278,
          277,
          274,
          273,
          272,
          271,
          270,
          270,
          269,
          269,
          269,
          268,
          265,
          263,
          263,
          262,
          262,
          261,
          260,
          259,
          258,
          253,
          252,
          251,
          251,
          250,
          249,
          247,
          246,
          246,
          242,
          242,
          241,
          239,
          236,
          234,
          230,
          229,
          229,
          228,
          226,
          226,
          226,
          226,
          225,
          225,
          222,
          219,
          219,
          218,
          215,
          214,
          213,
          213,
          212,
          211,
          210,
          209,
          208,
          207,
          207,
          203,
          202,
          201,
          200,
          196,
          194,
          191,
          190,
          189,
          187,
          187,
          186,
          186,
          184,
          184,
          179,
          178,
          178,
          175,
          175,
          174,
          173,
          172,
          168,
          168,
          167,
          166,
          166,
          166,
          165,
          164,
          164,
          164,
          161,
          158,
          157,
          157,
          156,
          156,
          156,
          155,
          154,
          154,
          153,
          152,
          151,
          151,
          150,
          150,
          150,
          149,
          149,
          148,
          147,
          147,
          147,
          146,
          145,
          143,
          142,
          141,
          140,
          140,
          140,
          139,
          139,
          138,
          136,
          136,
          135,
          135,
          134,
          133,
          132,
          130,
          128,
          127,
          126,
          126,
          126,
          123,
          121,
          120,
          117,
          116,
          114,
          113,
          108,
          106,
          102,
          98,
          92,
          91,
          90,
          88,
          88,
          74,
          52,
          48,
          47,
          18,
          18,
          17,
          6,
          5,
          4
         ],
         "yaxis": "y"
        }
       ],
       "layout": {
        "legend": {
         "title": {
          "text": "variable"
         },
         "tracegroupgap": 0
        },
        "margin": {
         "t": 60
        },
        "template": {
         "data": {
          "bar": [
           {
            "error_x": {
             "color": "#2a3f5f"
            },
            "error_y": {
             "color": "#2a3f5f"
            },
            "marker": {
             "line": {
              "color": "#E5ECF6",
              "width": 0.5
             }
            },
            "type": "bar"
           }
          ],
          "barpolar": [
           {
            "marker": {
             "line": {
              "color": "#E5ECF6",
              "width": 0.5
             }
            },
            "type": "barpolar"
           }
          ],
          "carpet": [
           {
            "aaxis": {
             "endlinecolor": "#2a3f5f",
             "gridcolor": "white",
             "linecolor": "white",
             "minorgridcolor": "white",
             "startlinecolor": "#2a3f5f"
            },
            "baxis": {
             "endlinecolor": "#2a3f5f",
             "gridcolor": "white",
             "linecolor": "white",
             "minorgridcolor": "white",
             "startlinecolor": "#2a3f5f"
            },
            "type": "carpet"
           }
          ],
          "choropleth": [
           {
            "colorbar": {
             "outlinewidth": 0,
             "ticks": ""
            },
            "type": "choropleth"
           }
          ],
          "contour": [
           {
            "colorbar": {
             "outlinewidth": 0,
             "ticks": ""
            },
            "colorscale": [
             [
              0,
              "#0d0887"
             ],
             [
              0.1111111111111111,
              "#46039f"
             ],
             [
              0.2222222222222222,
              "#7201a8"
             ],
             [
              0.3333333333333333,
              "#9c179e"
             ],
             [
              0.4444444444444444,
              "#bd3786"
             ],
             [
              0.5555555555555556,
              "#d8576b"
             ],
             [
              0.6666666666666666,
              "#ed7953"
             ],
             [
              0.7777777777777778,
              "#fb9f3a"
             ],
             [
              0.8888888888888888,
              "#fdca26"
             ],
             [
              1,
              "#f0f921"
             ]
            ],
            "type": "contour"
           }
          ],
          "contourcarpet": [
           {
            "colorbar": {
             "outlinewidth": 0,
             "ticks": ""
            },
            "type": "contourcarpet"
           }
          ],
          "heatmap": [
           {
            "colorbar": {
             "outlinewidth": 0,
             "ticks": ""
            },
            "colorscale": [
             [
              0,
              "#0d0887"
             ],
             [
              0.1111111111111111,
              "#46039f"
             ],
             [
              0.2222222222222222,
              "#7201a8"
             ],
             [
              0.3333333333333333,
              "#9c179e"
             ],
             [
              0.4444444444444444,
              "#bd3786"
             ],
             [
              0.5555555555555556,
              "#d8576b"
             ],
             [
              0.6666666666666666,
              "#ed7953"
             ],
             [
              0.7777777777777778,
              "#fb9f3a"
             ],
             [
              0.8888888888888888,
              "#fdca26"
             ],
             [
              1,
              "#f0f921"
             ]
            ],
            "type": "heatmap"
           }
          ],
          "heatmapgl": [
           {
            "colorbar": {
             "outlinewidth": 0,
             "ticks": ""
            },
            "colorscale": [
             [
              0,
              "#0d0887"
             ],
             [
              0.1111111111111111,
              "#46039f"
             ],
             [
              0.2222222222222222,
              "#7201a8"
             ],
             [
              0.3333333333333333,
              "#9c179e"
             ],
             [
              0.4444444444444444,
              "#bd3786"
             ],
             [
              0.5555555555555556,
              "#d8576b"
             ],
             [
              0.6666666666666666,
              "#ed7953"
             ],
             [
              0.7777777777777778,
              "#fb9f3a"
             ],
             [
              0.8888888888888888,
              "#fdca26"
             ],
             [
              1,
              "#f0f921"
             ]
            ],
            "type": "heatmapgl"
           }
          ],
          "histogram": [
           {
            "marker": {
             "colorbar": {
              "outlinewidth": 0,
              "ticks": ""
             }
            },
            "type": "histogram"
           }
          ],
          "histogram2d": [
           {
            "colorbar": {
             "outlinewidth": 0,
             "ticks": ""
            },
            "colorscale": [
             [
              0,
              "#0d0887"
             ],
             [
              0.1111111111111111,
              "#46039f"
             ],
             [
              0.2222222222222222,
              "#7201a8"
             ],
             [
              0.3333333333333333,
              "#9c179e"
             ],
             [
              0.4444444444444444,
              "#bd3786"
             ],
             [
              0.5555555555555556,
              "#d8576b"
             ],
             [
              0.6666666666666666,
              "#ed7953"
             ],
             [
              0.7777777777777778,
              "#fb9f3a"
             ],
             [
              0.8888888888888888,
              "#fdca26"
             ],
             [
              1,
              "#f0f921"
             ]
            ],
            "type": "histogram2d"
           }
          ],
          "histogram2dcontour": [
           {
            "colorbar": {
             "outlinewidth": 0,
             "ticks": ""
            },
            "colorscale": [
             [
              0,
              "#0d0887"
             ],
             [
              0.1111111111111111,
              "#46039f"
             ],
             [
              0.2222222222222222,
              "#7201a8"
             ],
             [
              0.3333333333333333,
              "#9c179e"
             ],
             [
              0.4444444444444444,
              "#bd3786"
             ],
             [
              0.5555555555555556,
              "#d8576b"
             ],
             [
              0.6666666666666666,
              "#ed7953"
             ],
             [
              0.7777777777777778,
              "#fb9f3a"
             ],
             [
              0.8888888888888888,
              "#fdca26"
             ],
             [
              1,
              "#f0f921"
             ]
            ],
            "type": "histogram2dcontour"
           }
          ],
          "mesh3d": [
           {
            "colorbar": {
             "outlinewidth": 0,
             "ticks": ""
            },
            "type": "mesh3d"
           }
          ],
          "parcoords": [
           {
            "line": {
             "colorbar": {
              "outlinewidth": 0,
              "ticks": ""
             }
            },
            "type": "parcoords"
           }
          ],
          "pie": [
           {
            "automargin": true,
            "type": "pie"
           }
          ],
          "scatter": [
           {
            "marker": {
             "colorbar": {
              "outlinewidth": 0,
              "ticks": ""
             }
            },
            "type": "scatter"
           }
          ],
          "scatter3d": [
           {
            "line": {
             "colorbar": {
              "outlinewidth": 0,
              "ticks": ""
             }
            },
            "marker": {
             "colorbar": {
              "outlinewidth": 0,
              "ticks": ""
             }
            },
            "type": "scatter3d"
           }
          ],
          "scattercarpet": [
           {
            "marker": {
             "colorbar": {
              "outlinewidth": 0,
              "ticks": ""
             }
            },
            "type": "scattercarpet"
           }
          ],
          "scattergeo": [
           {
            "marker": {
             "colorbar": {
              "outlinewidth": 0,
              "ticks": ""
             }
            },
            "type": "scattergeo"
           }
          ],
          "scattergl": [
           {
            "marker": {
             "colorbar": {
              "outlinewidth": 0,
              "ticks": ""
             }
            },
            "type": "scattergl"
           }
          ],
          "scattermapbox": [
           {
            "marker": {
             "colorbar": {
              "outlinewidth": 0,
              "ticks": ""
             }
            },
            "type": "scattermapbox"
           }
          ],
          "scatterpolar": [
           {
            "marker": {
             "colorbar": {
              "outlinewidth": 0,
              "ticks": ""
             }
            },
            "type": "scatterpolar"
           }
          ],
          "scatterpolargl": [
           {
            "marker": {
             "colorbar": {
              "outlinewidth": 0,
              "ticks": ""
             }
            },
            "type": "scatterpolargl"
           }
          ],
          "scatterternary": [
           {
            "marker": {
             "colorbar": {
              "outlinewidth": 0,
              "ticks": ""
             }
            },
            "type": "scatterternary"
           }
          ],
          "surface": [
           {
            "colorbar": {
             "outlinewidth": 0,
             "ticks": ""
            },
            "colorscale": [
             [
              0,
              "#0d0887"
             ],
             [
              0.1111111111111111,
              "#46039f"
             ],
             [
              0.2222222222222222,
              "#7201a8"
             ],
             [
              0.3333333333333333,
              "#9c179e"
             ],
             [
              0.4444444444444444,
              "#bd3786"
             ],
             [
              0.5555555555555556,
              "#d8576b"
             ],
             [
              0.6666666666666666,
              "#ed7953"
             ],
             [
              0.7777777777777778,
              "#fb9f3a"
             ],
             [
              0.8888888888888888,
              "#fdca26"
             ],
             [
              1,
              "#f0f921"
             ]
            ],
            "type": "surface"
           }
          ],
          "table": [
           {
            "cells": {
             "fill": {
              "color": "#EBF0F8"
             },
             "line": {
              "color": "white"
             }
            },
            "header": {
             "fill": {
              "color": "#C8D4E3"
             },
             "line": {
              "color": "white"
             }
            },
            "type": "table"
           }
          ]
         },
         "layout": {
          "annotationdefaults": {
           "arrowcolor": "#2a3f5f",
           "arrowhead": 0,
           "arrowwidth": 1
          },
          "coloraxis": {
           "colorbar": {
            "outlinewidth": 0,
            "ticks": ""
           }
          },
          "colorscale": {
           "diverging": [
            [
             0,
             "#8e0152"
            ],
            [
             0.1,
             "#c51b7d"
            ],
            [
             0.2,
             "#de77ae"
            ],
            [
             0.3,
             "#f1b6da"
            ],
            [
             0.4,
             "#fde0ef"
            ],
            [
             0.5,
             "#f7f7f7"
            ],
            [
             0.6,
             "#e6f5d0"
            ],
            [
             0.7,
             "#b8e186"
            ],
            [
             0.8,
             "#7fbc41"
            ],
            [
             0.9,
             "#4d9221"
            ],
            [
             1,
             "#276419"
            ]
           ],
           "sequential": [
            [
             0,
             "#0d0887"
            ],
            [
             0.1111111111111111,
             "#46039f"
            ],
            [
             0.2222222222222222,
             "#7201a8"
            ],
            [
             0.3333333333333333,
             "#9c179e"
            ],
            [
             0.4444444444444444,
             "#bd3786"
            ],
            [
             0.5555555555555556,
             "#d8576b"
            ],
            [
             0.6666666666666666,
             "#ed7953"
            ],
            [
             0.7777777777777778,
             "#fb9f3a"
            ],
            [
             0.8888888888888888,
             "#fdca26"
            ],
            [
             1,
             "#f0f921"
            ]
           ],
           "sequentialminus": [
            [
             0,
             "#0d0887"
            ],
            [
             0.1111111111111111,
             "#46039f"
            ],
            [
             0.2222222222222222,
             "#7201a8"
            ],
            [
             0.3333333333333333,
             "#9c179e"
            ],
            [
             0.4444444444444444,
             "#bd3786"
            ],
            [
             0.5555555555555556,
             "#d8576b"
            ],
            [
             0.6666666666666666,
             "#ed7953"
            ],
            [
             0.7777777777777778,
             "#fb9f3a"
            ],
            [
             0.8888888888888888,
             "#fdca26"
            ],
            [
             1,
             "#f0f921"
            ]
           ]
          },
          "colorway": [
           "#636efa",
           "#EF553B",
           "#00cc96",
           "#ab63fa",
           "#FFA15A",
           "#19d3f3",
           "#FF6692",
           "#B6E880",
           "#FF97FF",
           "#FECB52"
          ],
          "font": {
           "color": "#2a3f5f"
          },
          "geo": {
           "bgcolor": "white",
           "lakecolor": "white",
           "landcolor": "#E5ECF6",
           "showlakes": true,
           "showland": true,
           "subunitcolor": "white"
          },
          "hoverlabel": {
           "align": "left"
          },
          "hovermode": "closest",
          "mapbox": {
           "style": "light"
          },
          "paper_bgcolor": "white",
          "plot_bgcolor": "#E5ECF6",
          "polar": {
           "angularaxis": {
            "gridcolor": "white",
            "linecolor": "white",
            "ticks": ""
           },
           "bgcolor": "#E5ECF6",
           "radialaxis": {
            "gridcolor": "white",
            "linecolor": "white",
            "ticks": ""
           }
          },
          "scene": {
           "xaxis": {
            "backgroundcolor": "#E5ECF6",
            "gridcolor": "white",
            "gridwidth": 2,
            "linecolor": "white",
            "showbackground": true,
            "ticks": "",
            "zerolinecolor": "white"
           },
           "yaxis": {
            "backgroundcolor": "#E5ECF6",
            "gridcolor": "white",
            "gridwidth": 2,
            "linecolor": "white",
            "showbackground": true,
            "ticks": "",
            "zerolinecolor": "white"
           },
           "zaxis": {
            "backgroundcolor": "#E5ECF6",
            "gridcolor": "white",
            "gridwidth": 2,
            "linecolor": "white",
            "showbackground": true,
            "ticks": "",
            "zerolinecolor": "white"
           }
          },
          "shapedefaults": {
           "line": {
            "color": "#2a3f5f"
           }
          },
          "ternary": {
           "aaxis": {
            "gridcolor": "white",
            "linecolor": "white",
            "ticks": ""
           },
           "baxis": {
            "gridcolor": "white",
            "linecolor": "white",
            "ticks": ""
           },
           "bgcolor": "#E5ECF6",
           "caxis": {
            "gridcolor": "white",
            "linecolor": "white",
            "ticks": ""
           }
          },
          "title": {
           "x": 0.05
          },
          "xaxis": {
           "automargin": true,
           "gridcolor": "white",
           "linecolor": "white",
           "ticks": "",
           "title": {
            "standoff": 15
           },
           "zerolinecolor": "white",
           "zerolinewidth": 2
          },
          "yaxis": {
           "automargin": true,
           "gridcolor": "white",
           "linecolor": "white",
           "ticks": "",
           "title": {
            "standoff": 15
           },
           "zerolinecolor": "white",
           "zerolinewidth": 2
          }
         }
        },
        "xaxis": {
         "anchor": "y",
         "domain": [
          0,
          1
         ],
         "title": {
          "text": "Género"
         }
        },
        "yaxis": {
         "anchor": "x",
         "domain": [
          0,
          1
         ],
         "title": {
          "text": "value"
         }
        }
       }
      },
      "text/html": [
       "<div>                            <div id=\"208fc8fd-6921-47ca-88d2-0ae86203a0e7\" class=\"plotly-graph-div\" style=\"height:525px; width:100%;\"></div>            <script type=\"text/javascript\">                require([\"plotly\"], function(Plotly) {                    window.PLOTLYENV=window.PLOTLYENV || {};                                    if (document.getElementById(\"208fc8fd-6921-47ca-88d2-0ae86203a0e7\")) {                    Plotly.newPlot(                        \"208fc8fd-6921-47ca-88d2-0ae86203a0e7\",                        [{\"hovertemplate\": \"variable=N\\u00famero de im\\u00e1genes<br>G\\u00e9nero=%{x}<br>value=%{y}<extra></extra>\", \"legendgroup\": \"N\\u00famero de im\\u00e1genes\", \"line\": {\"color\": \"#636efa\"}, \"mode\": \"lines\", \"name\": \"N\\u00famero de im\\u00e1genes\", \"orientation\": \"v\", \"showlegend\": true, \"stackgroup\": \"1\", \"type\": \"scatter\", \"x\": [\"Lepomis\", \"Micropterus\", \"Chaetodon\", \"Oncorhynchus\", \"Hippocampus\", \"Cyprinus\", \"Acanthurus\", \"Gambusia\", \"Thalassoma\", \"Abudefduf\", \"Gymnothorax\", \"Lutjanus\", \"Scarus\", \"Diodon\", \"Esox\", \"Etheostoma\", \"Fundulus\", \"Amphiprion\", \"Lepisosteus\", \"Salmo\", \"Semotilus\", \"Perca\", \"Arothron\", \"Ameiurus\", \"Ictalurus\", \"Salvelinus\", \"Anguilla\", \"Caranx\", \"Pomacanthus\", \"Pterois\", \"Halichoeres\", \"Chromis\", \"Scorpaena\", \"Meuschenia\", \"Oreochromis\", \"Epinephelus\", \"Morone\", \"Pomoxis\", \"Cheilodactylus\", \"Haemulon\", \"Diplodus\", \"Naso\", \"Coris\", \"Rhinichthys\", \"Zanclus\", \"Girella\", \"Stegastes\", \"Sphyraena\", \"Dascyllus\", \"Sparisoma\", \"Carassius\", \"Pimephales\", \"Cephalopholis\", \"Gasterosteus\", \"Luxilus\", \"Canthigaster\", \"Ostracion\", \"Parupeneus\", \"Aulostomus\", \"Ambloplites\", \"Parma\", \"Catostomus\", \"Mulloidichthys\", \"Dorosoma\", \"Zebrasoma\", \"Upeneichthys\", \"Sphoeroides\", \"Holacanthus\", \"Fistularia\", \"Heniochus\", \"Cyprinella\", \"Lagodon\", \"Gobius\", \"Chlorurus\", \"Phycodurus\", \"Kyphosus\", \"Rhinecanthus\", \"Pomacentrus\", \"Antennarius\", \"Mola\", \"Cottus\", \"Tetractenos\", \"Bodianus\", \"Poecilia\", \"Cyprinodon\", \"Squalius\", \"Plectorhinchus\", \"Chrysophrys\", \"Cheilinus\", \"Scorpis\", \"Serranus\", \"Ostorhinchus\", \"Enoplosus\", \"Paracirrhites\", \"Nocomis\", \"Notemigonus\", \"Acanthopagrus\", \"Synodus\", \"Siganus\", \"Chilomycterus\", \"Sebastes\", \"Aplodinotus\", \"Sander\", \"Notropis\", \"Brachaluteres\", \"Sarpa\", \"Pholis\", \"Microspathodon\", \"Neogobius\", \"Pempheris\", \"Platax\", \"Sciaenops\", \"Lactophrys\", \"Ariopsis\", \"Pseudanthias\", \"Balistoides\", \"Melichthys\", \"Syngnathus\", \"Bothus\", \"Paralabrax\", \"Prionurus\", \"Oligocottus\", \"Microcanthus\", \"Monacanthus\", \"Platycephalus\", \"Cirrhitichthys\", \"Mayaheros\", \"Megalops\", \"Paralichthys\", \"Campostoma\", \"Echidna\", \"Amia\", \"Rhinogobius\", \"Balistes\", \"Culaea\", \"Phyllopteryx\", \"Trachurus\", \"Percina\", \"Chrosomus\", \"Hypsypops\", \"Cantherhines\", \"Herichthys\", \"Myripristis\", \"Hypoplectrodes\", \"Atypichthys\", \"Ctenochaetus\", \"Menticirrhus\", \"Moxostoma\", \"Opsanus\", \"Sufflamen\", \"Solenostomus\", \"Parapercis\", \"Channa\", \"Plotosus\", \"Tilodon\", \"Xiphophorus\", \"Dendrochirus\", \"Aluterus\", \"Seriola\", \"Cynoscion\", \"Galaxias\", \"Systomus\", \"Forcipiger\", \"Acanthostracion\", \"Muraena\", \"Menidia\", \"Scardinius\", \"Sargocentron\", \"Porichthys\", \"Amblyglyphidodon\", \"Hemigymnus\", \"Mullus\", \"Archosargus\", \"Pomatomus\", \"Dicotylichthys\", \"Rutilus\", \"Umbra\", \"Anoplocapros\", \"Trachinotus\", \"Monotaxis\", \"Dactylophora\", \"Clinocottus\", \"Scolopsis\", \"Brevoortia\", \"Scorpaenichthys\", \"Ocyurus\", \"Echeneis\", \"Holocentrus\", \"Gobiesox\", \"Gerres\", \"Opsariichthys\", \"Latropiscis\", \"Ctenopharyngodon\", \"Hypentelium\", \"Clarias\", \"Pseudocaranx\", \"Eubalichthys\", \"Oblada\", \"Stethojulis\", \"Schuettea\", \"Pogonias\", \"Taenianotus\", \"Chelmonops\", \"Caesio\", \"Balistapus\", \"Acrossocheilus\", \"Noturus\", \"Phoxinus\", \"Pylodictis\", \"Idiotropiscis\", \"Ophiodon\", \"Anisotremus\", \"Cirrhitus\", \"Scobinichthys\", \"Leptocottus\", \"Oxycheilinus\", \"Cymatogaster\", \"Chaetodipterus\", \"Micropogonias\", \"Trachinops\", \"Periophthalmus\", \"Centropristis\", \"Dinolestes\", \"Allomycterus\", \"Anoplarchus\", \"Macolor\", \"Scomber\", \"Leiostomus\", \"Strongylura\", \"Pygoplites\", \"Lactoria\", \"Centropomus\", \"Cnidoglanis\", \"Monodactylus\", \"Mecaenichthys\", \"Aracana\", \"Pachymetopon\", \"Bagre\", \"Arripis\", \"Pseudogastromyzon\", \"Centropogon\", \"Cobitis\", \"Istigobius\", \"Plectroglyphidodon\", \"Lethrinus\", \"Novaculichthys\", \"Dicentrarchus\", \"Epibulus\", \"Valenciennea\", \"Embiotoca\", \"Clupea\", \"Sillago\", \"Parazacco\", \"Chironemus\", \"Elops\", \"Centropyge\", \"Aphredoderus\", \"Alburnus\", \"Rhabdosargus\", \"Orthopristis\", \"Boleophthalmus\", \"Stigmatopora\", \"Misgurnus\", \"Alosa\", \"Abramis\", \"Coryphaena\", \"Premnas\", \"Pseudobalistes\", \"Eocallionymus\", \"Paraplesiops\", \"Lithognathus\", \"Amblygobius\", \"Sicyopterus\", \"Terapon\", \"Odonus\", \"Centrarchus\", \"Cheilodipterus\", \"Acipenser\", \"Neoglyphidodon\", \"Olisthops\", \"Neoodax\", \"Enophrys\", \"Rhinomuraena\", \"Torquigener\", \"Aplodactylus\", \"Acanthoclinus\", \"Dactylopterus\", \"Argyrosomus\", \"Chrysoblephus\", \"Platichthys\", \"Cochleoceps\", \"Filicampus\", \"Ammodytes\", \"Bairdiella\", \"Johnrandallia\", \"Neoniphon\", \"Clinostomus\", \"Amblyeleotris\", \"Chrysiptera\", \"Lobotes\", \"Scorpaenopsis\", \"Liniparhomaloptera\", \"Cleidopus\", \"Tinca\", \"Cetoscarus\", \"Lota\", \"Gadus\", \"Stenotomus\", \"Sparus\", \"Tilapia\", \"Prionotus\", \"Diagramma\", \"Hexagrammos\", \"Atractosteus\", \"Plectropomus\", \"Rhinogobiops\", \"Acanthaluteres\", \"Heteroscarus\", \"Nemateleotris\", \"Tylosurus\", \"Thymallus\", \"Myoxocephalus\", \"Upeneus\", \"Engraulis\", \"Taurulus\", \"Pungitius\", \"Oxylebius\", \"Astronotus\", \"Equetus\", \"Hemitaurichthys\", \"Apodichthys\", \"Labidesthes\", \"Monopterus\", \"Hoplias\", \"Coptodon\", \"Pelmatolapia\", \"Cheilio\", \"Conger\", \"Mycteroperca\", \"Apogon\", \"Minytrema\", \"Trichiurus\", \"Gnathodentex\", \"Priacanthus\", \"Scomberomorus\", \"Cichla\", \"Trachelochismus\", \"Pseudopleuronectes\", \"Dactyloptena\", \"Periophthalmodon\", \"Oxymonacanthus\", \"Cebidichthys\", \"Silurus\", \"Gymnomuraena\", \"Elassoma\", \"Belone\", \"Variola\", \"Ictiobus\", \"Myrichthys\", \"Pseudorasbora\", \"Pseudupeneus\", \"Heterandria\", \"Gobio\", \"Acanthistius\", \"Chelidonichthys\", \"Acanthogobius\", \"Bathygobius\", \"Chelmon\", \"Scatophagus\", \"Xiphister\", \"Paraluteres\", \"Macropharyngodon\", \"Synanceia\", \"Iniistius\", \"Cyclopterus\", \"Bolbometopon\", \"Ptychocheilus\", \"Boops\", \"Gnathanodon\", \"Nemadactylus\", \"Ptereleotris\", \"Anampses\", \"Omegophora\", \"Telestes\", \"Atherinops\", \"Anchoa\", \"Heteroconger\", \"Osmerus\", \"Eurypegasus\", \"Diploprion\", \"Oxycirrhites\", \"Chirodactylus\", \"Trinectes\", \"Cromileptes\", \"Stephanolepis\", \"Calotomus\", \"Selene\", \"Barbus\", \"Trachyrhamphus\", \"Rachycentron\", \"Atherinopsis\", \"Sarotherodon\", \"Padogobius\", \"Carangoides\", \"Pareques\", \"Thunnus\", \"Geophagus\", \"Acanthochromis\", \"Apolemichthys\", \"Dunckerocampus\", \"Amatitlania\", \"Gymnocephalus\", \"Parachromis\", \"Cymbacephalus\", \"Gramma\", \"Paranthias\", \"Pterocaesio\", \"Hemiramphus\", \"Hypoplectrus\", \"Enneacanthus\", \"Candidia\", \"Hypophthalmichthys\", \"Caffrogobius\", \"Lagocephalus\", \"Parapriacanthus\", \"Aeoliscus\", \"Neopomacentrus\", \"Elagatis\", \"Artedius\", \"Cirrhilabrus\", \"Pseudoxiphophorus\", \"Taeniamia\", \"Grammistes\", \"Paracanthurus\", \"Sebastiscus\", \"Chloroscombrus\", \"Pristiapogon\", \"Gymnosarda\", \"Acanthocybium\", \"Takifugu\", \"Trichopodus\", \"Bryaninops\", \"Hesperoleucus\", \"Pygocentrus\", \"Pterapogon\", \"Pteragogus\", \"Corythoichthys\", \"Chelonodon\", \"Cryptocentrus\", \"Pagrus\", \"Selaroides\", \"Apogonichthyoides\", \"Pterophyllum\", \"Betta\"], \"xaxis\": \"x\", \"y\": [25853, 14651, 10733, 9420, 8642, 8271, 7298, 5700, 5595, 5547, 5200, 4727, 4565, 4125, 3954, 3819, 3741, 3583, 3514, 3413, 3411, 3371, 3296, 3282, 3198, 3186, 3057, 2986, 2879, 2800, 2752, 2666, 2633, 2606, 2430, 2393, 2381, 2360, 2339, 2328, 2217, 2100, 2096, 1991, 1966, 1953, 1929, 1903, 1878, 1855, 1820, 1802, 1792, 1777, 1720, 1720, 1696, 1687, 1676, 1661, 1623, 1617, 1554, 1503, 1503, 1451, 1441, 1437, 1423, 1405, 1399, 1396, 1393, 1376, 1360, 1357, 1334, 1329, 1309, 1296, 1289, 1263, 1245, 1187, 1183, 1166, 1155, 1153, 1139, 1132, 1129, 1115, 1113, 1104, 1102, 1097, 1092, 1092, 1082, 1067, 1063, 1035, 1028, 1025, 1016, 995, 989, 985, 985, 980, 957, 933, 918, 908, 907, 901, 880, 872, 871, 868, 864, 861, 851, 841, 823, 821, 814, 814, 803, 800, 798, 796, 795, 793, 791, 779, 771, 766, 765, 759, 755, 755, 727, 719, 713, 708, 701, 698, 687, 683, 682, 678, 674, 673, 670, 668, 667, 658, 656, 652, 652, 649, 648, 648, 638, 636, 627, 612, 610, 605, 598, 594, 593, 593, 590, 590, 586, 584, 583, 580, 578, 578, 575, 568, 567, 565, 564, 561, 560, 555, 554, 552, 548, 547, 547, 540, 539, 536, 528, 524, 522, 518, 502, 490, 483, 480, 477, 476, 473, 469, 464, 464, 460, 459, 451, 450, 448, 448, 445, 444, 441, 440, 436, 435, 432, 431, 429, 420, 420, 419, 419, 418, 417, 416, 415, 414, 407, 404, 390, 389, 389, 382, 379, 376, 375, 375, 364, 355, 346, 344, 343, 338, 338, 335, 333, 333, 331, 327, 326, 324, 323, 323, 320, 320, 319, 316, 315, 315, 312, 311, 306, 305, 303, 302, 301, 301, 301, 300, 300, 298, 298, 295, 293, 284, 282, 282, 280, 278, 277, 274, 273, 272, 271, 270, 270, 269, 269, 269, 268, 265, 263, 263, 262, 262, 261, 260, 259, 258, 253, 252, 251, 251, 250, 249, 247, 246, 246, 242, 242, 241, 239, 236, 234, 230, 229, 229, 228, 226, 226, 226, 226, 225, 225, 222, 219, 219, 218, 215, 214, 213, 213, 212, 211, 210, 209, 208, 207, 207, 203, 202, 201, 200, 196, 194, 191, 190, 189, 187, 187, 186, 186, 184, 184, 179, 178, 178, 175, 175, 174, 173, 172, 168, 168, 167, 166, 166, 166, 165, 164, 164, 164, 161, 158, 157, 157, 156, 156, 156, 155, 154, 154, 153, 152, 151, 151, 150, 150, 150, 149, 149, 148, 147, 147, 147, 146, 145, 143, 142, 141, 140, 140, 140, 139, 139, 138, 136, 136, 135, 135, 134, 133, 132, 130, 128, 127, 126, 126, 126, 123, 121, 120, 117, 116, 114, 113, 108, 106, 102, 98, 92, 91, 90, 88, 88, 74, 52, 48, 47, 18, 18, 17, 6, 5, 4], \"yaxis\": \"y\"}],                        {\"legend\": {\"title\": {\"text\": \"variable\"}, \"tracegroupgap\": 0}, \"margin\": {\"t\": 60}, \"template\": {\"data\": {\"bar\": [{\"error_x\": {\"color\": \"#2a3f5f\"}, \"error_y\": {\"color\": \"#2a3f5f\"}, \"marker\": {\"line\": {\"color\": \"#E5ECF6\", \"width\": 0.5}}, \"type\": \"bar\"}], \"barpolar\": [{\"marker\": {\"line\": {\"color\": \"#E5ECF6\", \"width\": 0.5}}, \"type\": \"barpolar\"}], \"carpet\": [{\"aaxis\": {\"endlinecolor\": \"#2a3f5f\", \"gridcolor\": \"white\", \"linecolor\": \"white\", \"minorgridcolor\": \"white\", \"startlinecolor\": \"#2a3f5f\"}, \"baxis\": {\"endlinecolor\": \"#2a3f5f\", \"gridcolor\": \"white\", \"linecolor\": \"white\", \"minorgridcolor\": \"white\", \"startlinecolor\": \"#2a3f5f\"}, \"type\": \"carpet\"}], \"choropleth\": [{\"colorbar\": {\"outlinewidth\": 0, \"ticks\": \"\"}, \"type\": \"choropleth\"}], \"contour\": [{\"colorbar\": {\"outlinewidth\": 0, \"ticks\": \"\"}, \"colorscale\": [[0.0, \"#0d0887\"], [0.1111111111111111, \"#46039f\"], [0.2222222222222222, \"#7201a8\"], [0.3333333333333333, \"#9c179e\"], [0.4444444444444444, \"#bd3786\"], [0.5555555555555556, \"#d8576b\"], [0.6666666666666666, \"#ed7953\"], [0.7777777777777778, \"#fb9f3a\"], [0.8888888888888888, \"#fdca26\"], [1.0, \"#f0f921\"]], \"type\": \"contour\"}], \"contourcarpet\": [{\"colorbar\": {\"outlinewidth\": 0, \"ticks\": \"\"}, \"type\": \"contourcarpet\"}], \"heatmap\": [{\"colorbar\": {\"outlinewidth\": 0, \"ticks\": \"\"}, \"colorscale\": [[0.0, \"#0d0887\"], [0.1111111111111111, \"#46039f\"], [0.2222222222222222, \"#7201a8\"], [0.3333333333333333, \"#9c179e\"], [0.4444444444444444, \"#bd3786\"], [0.5555555555555556, \"#d8576b\"], [0.6666666666666666, \"#ed7953\"], [0.7777777777777778, \"#fb9f3a\"], [0.8888888888888888, \"#fdca26\"], [1.0, \"#f0f921\"]], \"type\": \"heatmap\"}], \"heatmapgl\": [{\"colorbar\": {\"outlinewidth\": 0, \"ticks\": \"\"}, \"colorscale\": [[0.0, \"#0d0887\"], [0.1111111111111111, \"#46039f\"], [0.2222222222222222, \"#7201a8\"], [0.3333333333333333, \"#9c179e\"], [0.4444444444444444, \"#bd3786\"], [0.5555555555555556, \"#d8576b\"], [0.6666666666666666, \"#ed7953\"], [0.7777777777777778, \"#fb9f3a\"], [0.8888888888888888, \"#fdca26\"], [1.0, \"#f0f921\"]], \"type\": \"heatmapgl\"}], \"histogram\": [{\"marker\": {\"colorbar\": {\"outlinewidth\": 0, \"ticks\": \"\"}}, \"type\": \"histogram\"}], \"histogram2d\": [{\"colorbar\": {\"outlinewidth\": 0, \"ticks\": \"\"}, \"colorscale\": [[0.0, \"#0d0887\"], [0.1111111111111111, \"#46039f\"], [0.2222222222222222, \"#7201a8\"], [0.3333333333333333, \"#9c179e\"], [0.4444444444444444, \"#bd3786\"], [0.5555555555555556, \"#d8576b\"], [0.6666666666666666, \"#ed7953\"], [0.7777777777777778, \"#fb9f3a\"], [0.8888888888888888, \"#fdca26\"], [1.0, \"#f0f921\"]], \"type\": \"histogram2d\"}], \"histogram2dcontour\": [{\"colorbar\": {\"outlinewidth\": 0, \"ticks\": \"\"}, \"colorscale\": [[0.0, \"#0d0887\"], [0.1111111111111111, \"#46039f\"], [0.2222222222222222, \"#7201a8\"], [0.3333333333333333, \"#9c179e\"], [0.4444444444444444, \"#bd3786\"], [0.5555555555555556, \"#d8576b\"], [0.6666666666666666, \"#ed7953\"], [0.7777777777777778, \"#fb9f3a\"], [0.8888888888888888, \"#fdca26\"], [1.0, \"#f0f921\"]], \"type\": \"histogram2dcontour\"}], \"mesh3d\": [{\"colorbar\": {\"outlinewidth\": 0, \"ticks\": \"\"}, \"type\": \"mesh3d\"}], \"parcoords\": [{\"line\": {\"colorbar\": {\"outlinewidth\": 0, \"ticks\": \"\"}}, \"type\": \"parcoords\"}], \"pie\": [{\"automargin\": true, \"type\": \"pie\"}], \"scatter\": [{\"marker\": {\"colorbar\": {\"outlinewidth\": 0, \"ticks\": \"\"}}, \"type\": \"scatter\"}], \"scatter3d\": [{\"line\": {\"colorbar\": {\"outlinewidth\": 0, \"ticks\": \"\"}}, \"marker\": {\"colorbar\": {\"outlinewidth\": 0, \"ticks\": \"\"}}, \"type\": \"scatter3d\"}], \"scattercarpet\": [{\"marker\": {\"colorbar\": {\"outlinewidth\": 0, \"ticks\": \"\"}}, \"type\": \"scattercarpet\"}], \"scattergeo\": [{\"marker\": {\"colorbar\": {\"outlinewidth\": 0, \"ticks\": \"\"}}, \"type\": \"scattergeo\"}], \"scattergl\": [{\"marker\": {\"colorbar\": {\"outlinewidth\": 0, \"ticks\": \"\"}}, \"type\": \"scattergl\"}], \"scattermapbox\": [{\"marker\": {\"colorbar\": {\"outlinewidth\": 0, \"ticks\": \"\"}}, \"type\": \"scattermapbox\"}], \"scatterpolar\": [{\"marker\": {\"colorbar\": {\"outlinewidth\": 0, \"ticks\": \"\"}}, \"type\": \"scatterpolar\"}], \"scatterpolargl\": [{\"marker\": {\"colorbar\": {\"outlinewidth\": 0, \"ticks\": \"\"}}, \"type\": \"scatterpolargl\"}], \"scatterternary\": [{\"marker\": {\"colorbar\": {\"outlinewidth\": 0, \"ticks\": \"\"}}, \"type\": \"scatterternary\"}], \"surface\": [{\"colorbar\": {\"outlinewidth\": 0, \"ticks\": \"\"}, \"colorscale\": [[0.0, \"#0d0887\"], [0.1111111111111111, \"#46039f\"], [0.2222222222222222, \"#7201a8\"], [0.3333333333333333, \"#9c179e\"], [0.4444444444444444, \"#bd3786\"], [0.5555555555555556, \"#d8576b\"], [0.6666666666666666, \"#ed7953\"], [0.7777777777777778, \"#fb9f3a\"], [0.8888888888888888, \"#fdca26\"], [1.0, \"#f0f921\"]], \"type\": \"surface\"}], \"table\": [{\"cells\": {\"fill\": {\"color\": \"#EBF0F8\"}, \"line\": {\"color\": \"white\"}}, \"header\": {\"fill\": {\"color\": \"#C8D4E3\"}, \"line\": {\"color\": \"white\"}}, \"type\": \"table\"}]}, \"layout\": {\"annotationdefaults\": {\"arrowcolor\": \"#2a3f5f\", \"arrowhead\": 0, \"arrowwidth\": 1}, \"coloraxis\": {\"colorbar\": {\"outlinewidth\": 0, \"ticks\": \"\"}}, \"colorscale\": {\"diverging\": [[0, \"#8e0152\"], [0.1, \"#c51b7d\"], [0.2, \"#de77ae\"], [0.3, \"#f1b6da\"], [0.4, \"#fde0ef\"], [0.5, \"#f7f7f7\"], [0.6, \"#e6f5d0\"], [0.7, \"#b8e186\"], [0.8, \"#7fbc41\"], [0.9, \"#4d9221\"], [1, \"#276419\"]], \"sequential\": [[0.0, \"#0d0887\"], [0.1111111111111111, \"#46039f\"], [0.2222222222222222, \"#7201a8\"], [0.3333333333333333, \"#9c179e\"], [0.4444444444444444, \"#bd3786\"], [0.5555555555555556, \"#d8576b\"], [0.6666666666666666, \"#ed7953\"], [0.7777777777777778, \"#fb9f3a\"], [0.8888888888888888, \"#fdca26\"], [1.0, \"#f0f921\"]], \"sequentialminus\": [[0.0, \"#0d0887\"], [0.1111111111111111, \"#46039f\"], [0.2222222222222222, \"#7201a8\"], [0.3333333333333333, \"#9c179e\"], [0.4444444444444444, \"#bd3786\"], [0.5555555555555556, \"#d8576b\"], [0.6666666666666666, \"#ed7953\"], [0.7777777777777778, \"#fb9f3a\"], [0.8888888888888888, \"#fdca26\"], [1.0, \"#f0f921\"]]}, \"colorway\": [\"#636efa\", \"#EF553B\", \"#00cc96\", \"#ab63fa\", \"#FFA15A\", \"#19d3f3\", \"#FF6692\", \"#B6E880\", \"#FF97FF\", \"#FECB52\"], \"font\": {\"color\": \"#2a3f5f\"}, \"geo\": {\"bgcolor\": \"white\", \"lakecolor\": \"white\", \"landcolor\": \"#E5ECF6\", \"showlakes\": true, \"showland\": true, \"subunitcolor\": \"white\"}, \"hoverlabel\": {\"align\": \"left\"}, \"hovermode\": \"closest\", \"mapbox\": {\"style\": \"light\"}, \"paper_bgcolor\": \"white\", \"plot_bgcolor\": \"#E5ECF6\", \"polar\": {\"angularaxis\": {\"gridcolor\": \"white\", \"linecolor\": \"white\", \"ticks\": \"\"}, \"bgcolor\": \"#E5ECF6\", \"radialaxis\": {\"gridcolor\": \"white\", \"linecolor\": \"white\", \"ticks\": \"\"}}, \"scene\": {\"xaxis\": {\"backgroundcolor\": \"#E5ECF6\", \"gridcolor\": \"white\", \"gridwidth\": 2, \"linecolor\": \"white\", \"showbackground\": true, \"ticks\": \"\", \"zerolinecolor\": \"white\"}, \"yaxis\": {\"backgroundcolor\": \"#E5ECF6\", \"gridcolor\": \"white\", \"gridwidth\": 2, \"linecolor\": \"white\", \"showbackground\": true, \"ticks\": \"\", \"zerolinecolor\": \"white\"}, \"zaxis\": {\"backgroundcolor\": \"#E5ECF6\", \"gridcolor\": \"white\", \"gridwidth\": 2, \"linecolor\": \"white\", \"showbackground\": true, \"ticks\": \"\", \"zerolinecolor\": \"white\"}}, \"shapedefaults\": {\"line\": {\"color\": \"#2a3f5f\"}}, \"ternary\": {\"aaxis\": {\"gridcolor\": \"white\", \"linecolor\": \"white\", \"ticks\": \"\"}, \"baxis\": {\"gridcolor\": \"white\", \"linecolor\": \"white\", \"ticks\": \"\"}, \"bgcolor\": \"#E5ECF6\", \"caxis\": {\"gridcolor\": \"white\", \"linecolor\": \"white\", \"ticks\": \"\"}}, \"title\": {\"x\": 0.05}, \"xaxis\": {\"automargin\": true, \"gridcolor\": \"white\", \"linecolor\": \"white\", \"ticks\": \"\", \"title\": {\"standoff\": 15}, \"zerolinecolor\": \"white\", \"zerolinewidth\": 2}, \"yaxis\": {\"automargin\": true, \"gridcolor\": \"white\", \"linecolor\": \"white\", \"ticks\": \"\", \"title\": {\"standoff\": 15}, \"zerolinecolor\": \"white\", \"zerolinewidth\": 2}}}, \"xaxis\": {\"anchor\": \"y\", \"domain\": [0.0, 1.0], \"title\": {\"text\": \"G\\u00e9nero\"}}, \"yaxis\": {\"anchor\": \"x\", \"domain\": [0.0, 1.0], \"title\": {\"text\": \"value\"}}},                        {\"responsive\": true}                    ).then(function(){\n",
       "                            \n",
       "var gd = document.getElementById('208fc8fd-6921-47ca-88d2-0ae86203a0e7');\n",
       "var x = new MutationObserver(function (mutations, observer) {{\n",
       "        var display = window.getComputedStyle(gd).display;\n",
       "        if (!display || display === 'none') {{\n",
       "            console.log([gd, 'removed!']);\n",
       "            Plotly.purge(gd);\n",
       "            observer.disconnect();\n",
       "        }}\n",
       "}});\n",
       "\n",
       "// Listen for the removal of the full notebook cells\n",
       "var notebookContainer = gd.closest('#notebook-container');\n",
       "if (notebookContainer) {{\n",
       "    x.observe(notebookContainer, {childList: true});\n",
       "}}\n",
       "\n",
       "// Listen for the clearing of the current output cell\n",
       "var outputEl = gd.closest('.output');\n",
       "if (outputEl) {{\n",
       "    x.observe(outputEl, {childList: true});\n",
       "}}\n",
       "\n",
       "                        })                };                });            </script>        </div>"
      ]
     },
     "metadata": {},
     "output_type": "display_data"
    }
   ],
   "source": [
    "df_value_counts = df_1000_stratified['Genus'].value_counts()\n",
    "df_value_counts = df_value_counts.reset_index()\n",
    "df_value_counts.columns = ['Género', 'Número de imágenes']\n",
    "df_value_counts.set_index('Género').plot(backend='plotly', kind='area')"
   ]
  },
  {
   "cell_type": "code",
   "execution_count": 23,
   "metadata": {},
   "outputs": [],
   "source": [
    "species_count = df_1000_stratified.groupby('Specie')['Specie'].count()\n",
    "species, count_values = species_count.keys(), species_count.values\n",
    "weights = compute_class_weight('balanced', classes=species, y=df_1000_stratified['Specie'])"
   ]
  },
  {
   "cell_type": "code",
   "execution_count": 104,
   "metadata": {},
   "outputs": [
    {
     "data": {
      "text/html": [
       "<div>\n",
       "<style scoped>\n",
       "    .dataframe tbody tr th:only-of-type {\n",
       "        vertical-align: middle;\n",
       "    }\n",
       "\n",
       "    .dataframe tbody tr th {\n",
       "        vertical-align: top;\n",
       "    }\n",
       "\n",
       "    .dataframe thead th {\n",
       "        text-align: right;\n",
       "    }\n",
       "</style>\n",
       "<table border=\"1\" class=\"dataframe\">\n",
       "  <thead>\n",
       "    <tr style=\"text-align: right;\">\n",
       "      <th></th>\n",
       "      <th>Specie</th>\n",
       "      <th>Count</th>\n",
       "      <th>Weight</th>\n",
       "    </tr>\n",
       "  </thead>\n",
       "  <tbody>\n",
       "    <tr>\n",
       "      <th>0</th>\n",
       "      <td>Abramis brama</td>\n",
       "      <td>319</td>\n",
       "      <td>1.323439</td>\n",
       "    </tr>\n",
       "    <tr>\n",
       "      <th>1</th>\n",
       "      <td>Abudefduf abdominalis</td>\n",
       "      <td>221</td>\n",
       "      <td>1.910303</td>\n",
       "    </tr>\n",
       "    <tr>\n",
       "      <th>2</th>\n",
       "      <td>Abudefduf bengalensis</td>\n",
       "      <td>323</td>\n",
       "      <td>1.307050</td>\n",
       "    </tr>\n",
       "    <tr>\n",
       "      <th>3</th>\n",
       "      <td>Abudefduf saxatilis</td>\n",
       "      <td>1692</td>\n",
       "      <td>0.249514</td>\n",
       "    </tr>\n",
       "    <tr>\n",
       "      <th>4</th>\n",
       "      <td>Abudefduf septemfasciatus</td>\n",
       "      <td>149</td>\n",
       "      <td>2.833403</td>\n",
       "    </tr>\n",
       "    <tr>\n",
       "      <th>...</th>\n",
       "      <td>...</td>\n",
       "      <td>...</td>\n",
       "      <td>...</td>\n",
       "    </tr>\n",
       "    <tr>\n",
       "      <th>995</th>\n",
       "      <td>Zanclus cornutus</td>\n",
       "      <td>1966</td>\n",
       "      <td>0.214739</td>\n",
       "    </tr>\n",
       "    <tr>\n",
       "      <th>996</th>\n",
       "      <td>Zebrasoma desjardinii</td>\n",
       "      <td>166</td>\n",
       "      <td>2.543235</td>\n",
       "    </tr>\n",
       "    <tr>\n",
       "      <th>997</th>\n",
       "      <td>Zebrasoma flavescens</td>\n",
       "      <td>561</td>\n",
       "      <td>0.752544</td>\n",
       "    </tr>\n",
       "    <tr>\n",
       "      <th>998</th>\n",
       "      <td>Zebrasoma scopas</td>\n",
       "      <td>276</td>\n",
       "      <td>1.529627</td>\n",
       "    </tr>\n",
       "    <tr>\n",
       "      <th>999</th>\n",
       "      <td>Zebrasoma velifer</td>\n",
       "      <td>500</td>\n",
       "      <td>0.844354</td>\n",
       "    </tr>\n",
       "  </tbody>\n",
       "</table>\n",
       "<p>1000 rows × 3 columns</p>\n",
       "</div>"
      ],
      "text/plain": [
       "                        Specie  Count    Weight\n",
       "0                Abramis brama    319  1.323439\n",
       "1        Abudefduf abdominalis    221  1.910303\n",
       "2        Abudefduf bengalensis    323  1.307050\n",
       "3          Abudefduf saxatilis   1692  0.249514\n",
       "4    Abudefduf septemfasciatus    149  2.833403\n",
       "..                         ...    ...       ...\n",
       "995           Zanclus cornutus   1966  0.214739\n",
       "996      Zebrasoma desjardinii    166  2.543235\n",
       "997       Zebrasoma flavescens    561  0.752544\n",
       "998           Zebrasoma scopas    276  1.529627\n",
       "999          Zebrasoma velifer    500  0.844354\n",
       "\n",
       "[1000 rows x 3 columns]"
      ]
     },
     "execution_count": 104,
     "metadata": {},
     "output_type": "execute_result"
    }
   ],
   "source": [
    "weights_df = pd.DataFrame.from_dict({'Specie': species, 'Count': count_values, 'Weight': weights})\n",
    "weights_df"
   ]
  },
  {
   "cell_type": "code",
   "execution_count": 109,
   "metadata": {},
   "outputs": [],
   "source": [
    "weights_df.to_csv(WEIGHTS_CSV_PATH, index=False)"
   ]
  },
  {
   "cell_type": "code",
   "execution_count": 110,
   "metadata": {},
   "outputs": [],
   "source": [
    "families_count = df_1000_stratified.groupby('Family')['Family'].count()\n",
    "families, count_values = families_count.keys(), families_count.values\n",
    "weights = compute_class_weight('balanced', classes=families, y=df_1000_stratified['Family'])"
   ]
  },
  {
   "cell_type": "code",
   "execution_count": 111,
   "metadata": {},
   "outputs": [
    {
     "data": {
      "text/html": [
       "<div>\n",
       "<style scoped>\n",
       "    .dataframe tbody tr th:only-of-type {\n",
       "        vertical-align: middle;\n",
       "    }\n",
       "\n",
       "    .dataframe tbody tr th {\n",
       "        vertical-align: top;\n",
       "    }\n",
       "\n",
       "    .dataframe thead th {\n",
       "        text-align: right;\n",
       "    }\n",
       "</style>\n",
       "<table border=\"1\" class=\"dataframe\">\n",
       "  <thead>\n",
       "    <tr style=\"text-align: right;\">\n",
       "      <th></th>\n",
       "      <th>Family</th>\n",
       "      <th>Count</th>\n",
       "      <th>Weight</th>\n",
       "    </tr>\n",
       "  </thead>\n",
       "  <tbody>\n",
       "    <tr>\n",
       "      <th>0</th>\n",
       "      <td>Acanthuridae</td>\n",
       "      <td>12587</td>\n",
       "      <td>0.248450</td>\n",
       "    </tr>\n",
       "    <tr>\n",
       "      <th>1</th>\n",
       "      <td>Achiridae</td>\n",
       "      <td>152</td>\n",
       "      <td>20.573928</td>\n",
       "    </tr>\n",
       "    <tr>\n",
       "      <th>2</th>\n",
       "      <td>Acipenseridae</td>\n",
       "      <td>300</td>\n",
       "      <td>10.424123</td>\n",
       "    </tr>\n",
       "    <tr>\n",
       "      <th>3</th>\n",
       "      <td>Amiidae</td>\n",
       "      <td>796</td>\n",
       "      <td>3.928690</td>\n",
       "    </tr>\n",
       "    <tr>\n",
       "      <th>4</th>\n",
       "      <td>Ammodytidae</td>\n",
       "      <td>271</td>\n",
       "      <td>11.539620</td>\n",
       "    </tr>\n",
       "    <tr>\n",
       "      <th>...</th>\n",
       "      <td>...</td>\n",
       "      <td>...</td>\n",
       "      <td>...</td>\n",
       "    </tr>\n",
       "    <tr>\n",
       "      <th>130</th>\n",
       "      <td>Tetrarogidae</td>\n",
       "      <td>389</td>\n",
       "      <td>8.039170</td>\n",
       "    </tr>\n",
       "    <tr>\n",
       "      <th>131</th>\n",
       "      <td>Trichiuridae</td>\n",
       "      <td>212</td>\n",
       "      <td>14.751118</td>\n",
       "    </tr>\n",
       "    <tr>\n",
       "      <th>132</th>\n",
       "      <td>Triglidae</td>\n",
       "      <td>429</td>\n",
       "      <td>7.289597</td>\n",
       "    </tr>\n",
       "    <tr>\n",
       "      <th>133</th>\n",
       "      <td>Umbridae</td>\n",
       "      <td>586</td>\n",
       "      <td>5.336582</td>\n",
       "    </tr>\n",
       "    <tr>\n",
       "      <th>134</th>\n",
       "      <td>Zanclidae</td>\n",
       "      <td>1966</td>\n",
       "      <td>1.590660</td>\n",
       "    </tr>\n",
       "  </tbody>\n",
       "</table>\n",
       "<p>135 rows × 3 columns</p>\n",
       "</div>"
      ],
      "text/plain": [
       "            Family  Count     Weight\n",
       "0     Acanthuridae  12587   0.248450\n",
       "1        Achiridae    152  20.573928\n",
       "2    Acipenseridae    300  10.424123\n",
       "3          Amiidae    796   3.928690\n",
       "4      Ammodytidae    271  11.539620\n",
       "..             ...    ...        ...\n",
       "130   Tetrarogidae    389   8.039170\n",
       "131   Trichiuridae    212  14.751118\n",
       "132      Triglidae    429   7.289597\n",
       "133       Umbridae    586   5.336582\n",
       "134      Zanclidae   1966   1.590660\n",
       "\n",
       "[135 rows x 3 columns]"
      ]
     },
     "execution_count": 111,
     "metadata": {},
     "output_type": "execute_result"
    }
   ],
   "source": [
    "weights_df = pd.DataFrame.from_dict({'Family': families, 'Count': count_values, 'Weight': weights})\n",
    "weights_df"
   ]
  },
  {
   "cell_type": "code",
   "execution_count": 114,
   "metadata": {},
   "outputs": [],
   "source": [
    "weights_df.to_csv(WEIGHTS_FAMILIES_CSV_PATH, index=False)"
   ]
  },
  {
   "cell_type": "code",
   "execution_count": 123,
   "metadata": {},
   "outputs": [],
   "source": [
    "genus_count = df_1000_stratified.groupby('Genus')['Genus'].count()\n",
    "genus, count_values = genus_count.keys(), genus_count.values\n",
    "weights = compute_class_weight('balanced', classes=genus, y=df_1000_stratified['Genus'])"
   ]
  },
  {
   "cell_type": "code",
   "execution_count": 124,
   "metadata": {},
   "outputs": [
    {
     "data": {
      "text/html": [
       "<div>\n",
       "<style scoped>\n",
       "    .dataframe tbody tr th:only-of-type {\n",
       "        vertical-align: middle;\n",
       "    }\n",
       "\n",
       "    .dataframe tbody tr th {\n",
       "        vertical-align: top;\n",
       "    }\n",
       "\n",
       "    .dataframe thead th {\n",
       "        text-align: right;\n",
       "    }\n",
       "</style>\n",
       "<table border=\"1\" class=\"dataframe\">\n",
       "  <thead>\n",
       "    <tr style=\"text-align: right;\">\n",
       "      <th></th>\n",
       "      <th>Genus</th>\n",
       "      <th>Count</th>\n",
       "      <th>Weight</th>\n",
       "    </tr>\n",
       "  </thead>\n",
       "  <tbody>\n",
       "    <tr>\n",
       "      <th>0</th>\n",
       "      <td>Abramis</td>\n",
       "      <td>319</td>\n",
       "      <td>2.915064</td>\n",
       "    </tr>\n",
       "    <tr>\n",
       "      <th>1</th>\n",
       "      <td>Abudefduf</td>\n",
       "      <td>5547</td>\n",
       "      <td>0.167641</td>\n",
       "    </tr>\n",
       "    <tr>\n",
       "      <th>2</th>\n",
       "      <td>Acanthaluteres</td>\n",
       "      <td>246</td>\n",
       "      <td>3.780103</td>\n",
       "    </tr>\n",
       "    <tr>\n",
       "      <th>3</th>\n",
       "      <td>Acanthistius</td>\n",
       "      <td>179</td>\n",
       "      <td>5.195002</td>\n",
       "    </tr>\n",
       "    <tr>\n",
       "      <th>4</th>\n",
       "      <td>Acanthochromis</td>\n",
       "      <td>142</td>\n",
       "      <td>6.548629</td>\n",
       "    </tr>\n",
       "    <tr>\n",
       "      <th>...</th>\n",
       "      <td>...</td>\n",
       "      <td>...</td>\n",
       "      <td>...</td>\n",
       "    </tr>\n",
       "    <tr>\n",
       "      <th>449</th>\n",
       "      <td>Variola</td>\n",
       "      <td>189</td>\n",
       "      <td>4.920134</td>\n",
       "    </tr>\n",
       "    <tr>\n",
       "      <th>450</th>\n",
       "      <td>Xiphister</td>\n",
       "      <td>173</td>\n",
       "      <td>5.375175</td>\n",
       "    </tr>\n",
       "    <tr>\n",
       "      <th>451</th>\n",
       "      <td>Xiphophorus</td>\n",
       "      <td>668</td>\n",
       "      <td>1.392074</td>\n",
       "    </tr>\n",
       "    <tr>\n",
       "      <th>452</th>\n",
       "      <td>Zanclus</td>\n",
       "      <td>1966</td>\n",
       "      <td>0.472994</td>\n",
       "    </tr>\n",
       "    <tr>\n",
       "      <th>453</th>\n",
       "      <td>Zebrasoma</td>\n",
       "      <td>1503</td>\n",
       "      <td>0.618699</td>\n",
       "    </tr>\n",
       "  </tbody>\n",
       "</table>\n",
       "<p>454 rows × 3 columns</p>\n",
       "</div>"
      ],
      "text/plain": [
       "              Genus  Count    Weight\n",
       "0           Abramis    319  2.915064\n",
       "1         Abudefduf   5547  0.167641\n",
       "2    Acanthaluteres    246  3.780103\n",
       "3      Acanthistius    179  5.195002\n",
       "4    Acanthochromis    142  6.548629\n",
       "..              ...    ...       ...\n",
       "449         Variola    189  4.920134\n",
       "450       Xiphister    173  5.375175\n",
       "451     Xiphophorus    668  1.392074\n",
       "452         Zanclus   1966  0.472994\n",
       "453       Zebrasoma   1503  0.618699\n",
       "\n",
       "[454 rows x 3 columns]"
      ]
     },
     "execution_count": 124,
     "metadata": {},
     "output_type": "execute_result"
    }
   ],
   "source": [
    "weights_df = pd.DataFrame.from_dict({'Genus': genus, 'Count': count_values, 'Weight': weights})\n",
    "weights_df"
   ]
  },
  {
   "cell_type": "code",
   "execution_count": 125,
   "metadata": {},
   "outputs": [],
   "source": [
    "weights_df.to_csv(WEIGHTS_GENUS_CSV_PATH, index=False)"
   ]
  },
  {
   "cell_type": "code",
   "execution_count": 126,
   "metadata": {},
   "outputs": [],
   "source": [
    "order_count = df_1000_stratified.groupby('Order')['Order'].count()\n",
    "order, count_values = order_count.keys(), order_count.values\n",
    "weights = compute_class_weight('balanced', classes=order, y=df_1000_stratified['Order'])"
   ]
  },
  {
   "cell_type": "code",
   "execution_count": 127,
   "metadata": {},
   "outputs": [
    {
     "data": {
      "text/html": [
       "<div>\n",
       "<style scoped>\n",
       "    .dataframe tbody tr th:only-of-type {\n",
       "        vertical-align: middle;\n",
       "    }\n",
       "\n",
       "    .dataframe tbody tr th {\n",
       "        vertical-align: top;\n",
       "    }\n",
       "\n",
       "    .dataframe thead th {\n",
       "        text-align: right;\n",
       "    }\n",
       "</style>\n",
       "<table border=\"1\" class=\"dataframe\">\n",
       "  <thead>\n",
       "    <tr style=\"text-align: right;\">\n",
       "      <th></th>\n",
       "      <th>Order</th>\n",
       "      <th>Count</th>\n",
       "      <th>Weight</th>\n",
       "    </tr>\n",
       "  </thead>\n",
       "  <tbody>\n",
       "    <tr>\n",
       "      <th>0</th>\n",
       "      <td>Acipenseriformes</td>\n",
       "      <td>300</td>\n",
       "      <td>48.526092</td>\n",
       "    </tr>\n",
       "    <tr>\n",
       "      <th>1</th>\n",
       "      <td>Amiiformes</td>\n",
       "      <td>796</td>\n",
       "      <td>18.288728</td>\n",
       "    </tr>\n",
       "    <tr>\n",
       "      <th>2</th>\n",
       "      <td>Anguilliformes</td>\n",
       "      <td>10738</td>\n",
       "      <td>1.355730</td>\n",
       "    </tr>\n",
       "    <tr>\n",
       "      <th>3</th>\n",
       "      <td>Atheriniformes</td>\n",
       "      <td>1166</td>\n",
       "      <td>12.485272</td>\n",
       "    </tr>\n",
       "    <tr>\n",
       "      <th>4</th>\n",
       "      <td>Aulopiformes</td>\n",
       "      <td>1644</td>\n",
       "      <td>8.855126</td>\n",
       "    </tr>\n",
       "    <tr>\n",
       "      <th>5</th>\n",
       "      <td>Batrachoidiformes</td>\n",
       "      <td>1297</td>\n",
       "      <td>11.224231</td>\n",
       "    </tr>\n",
       "    <tr>\n",
       "      <th>6</th>\n",
       "      <td>Beloniformes</td>\n",
       "      <td>986</td>\n",
       "      <td>14.764531</td>\n",
       "    </tr>\n",
       "    <tr>\n",
       "      <th>7</th>\n",
       "      <td>Beryciformes</td>\n",
       "      <td>2431</td>\n",
       "      <td>5.988411</td>\n",
       "    </tr>\n",
       "    <tr>\n",
       "      <th>8</th>\n",
       "      <td>Characiformes</td>\n",
       "      <td>310</td>\n",
       "      <td>46.960734</td>\n",
       "    </tr>\n",
       "    <tr>\n",
       "      <th>9</th>\n",
       "      <td>Clupeiformes</td>\n",
       "      <td>3120</td>\n",
       "      <td>4.665970</td>\n",
       "    </tr>\n",
       "    <tr>\n",
       "      <th>10</th>\n",
       "      <td>Cypriniformes</td>\n",
       "      <td>37620</td>\n",
       "      <td>0.386970</td>\n",
       "    </tr>\n",
       "    <tr>\n",
       "      <th>11</th>\n",
       "      <td>Cyprinodontiformes</td>\n",
       "      <td>12783</td>\n",
       "      <td>1.138843</td>\n",
       "    </tr>\n",
       "    <tr>\n",
       "      <th>12</th>\n",
       "      <td>Elopiformes</td>\n",
       "      <td>1147</td>\n",
       "      <td>12.692090</td>\n",
       "    </tr>\n",
       "    <tr>\n",
       "      <th>13</th>\n",
       "      <td>Esociformes</td>\n",
       "      <td>4540</td>\n",
       "      <td>3.206570</td>\n",
       "    </tr>\n",
       "    <tr>\n",
       "      <th>14</th>\n",
       "      <td>Gadiformes</td>\n",
       "      <td>519</td>\n",
       "      <td>28.049764</td>\n",
       "    </tr>\n",
       "    <tr>\n",
       "      <th>15</th>\n",
       "      <td>Gasterosteiformes</td>\n",
       "      <td>2952</td>\n",
       "      <td>4.931513</td>\n",
       "    </tr>\n",
       "    <tr>\n",
       "      <th>16</th>\n",
       "      <td>Gobiesociformes</td>\n",
       "      <td>1040</td>\n",
       "      <td>13.997911</td>\n",
       "    </tr>\n",
       "    <tr>\n",
       "      <th>17</th>\n",
       "      <td>Lepisosteiformes</td>\n",
       "      <td>3763</td>\n",
       "      <td>3.868676</td>\n",
       "    </tr>\n",
       "    <tr>\n",
       "      <th>18</th>\n",
       "      <td>Lophiiformes</td>\n",
       "      <td>1309</td>\n",
       "      <td>11.121335</td>\n",
       "    </tr>\n",
       "    <tr>\n",
       "      <th>19</th>\n",
       "      <td>Osmeriformes</td>\n",
       "      <td>808</td>\n",
       "      <td>18.017113</td>\n",
       "    </tr>\n",
       "    <tr>\n",
       "      <th>20</th>\n",
       "      <td>Perciformes</td>\n",
       "      <td>236071</td>\n",
       "      <td>0.061667</td>\n",
       "    </tr>\n",
       "    <tr>\n",
       "      <th>21</th>\n",
       "      <td>Percopsiformes</td>\n",
       "      <td>331</td>\n",
       "      <td>43.981352</td>\n",
       "    </tr>\n",
       "    <tr>\n",
       "      <th>22</th>\n",
       "      <td>Pleuronectiformes</td>\n",
       "      <td>2307</td>\n",
       "      <td>6.310285</td>\n",
       "    </tr>\n",
       "    <tr>\n",
       "      <th>23</th>\n",
       "      <td>Salmoniformes</td>\n",
       "      <td>16258</td>\n",
       "      <td>0.895425</td>\n",
       "    </tr>\n",
       "    <tr>\n",
       "      <th>24</th>\n",
       "      <td>Scorpaeniformes</td>\n",
       "      <td>16225</td>\n",
       "      <td>0.897247</td>\n",
       "    </tr>\n",
       "    <tr>\n",
       "      <th>25</th>\n",
       "      <td>Siluriformes</td>\n",
       "      <td>10575</td>\n",
       "      <td>1.376627</td>\n",
       "    </tr>\n",
       "    <tr>\n",
       "      <th>26</th>\n",
       "      <td>Synbranchiformes</td>\n",
       "      <td>225</td>\n",
       "      <td>64.701456</td>\n",
       "    </tr>\n",
       "    <tr>\n",
       "      <th>27</th>\n",
       "      <td>Syngnathiformes</td>\n",
       "      <td>16961</td>\n",
       "      <td>0.858312</td>\n",
       "    </tr>\n",
       "    <tr>\n",
       "      <th>28</th>\n",
       "      <td>Tetraodontiformes</td>\n",
       "      <td>33955</td>\n",
       "      <td>0.428739</td>\n",
       "    </tr>\n",
       "  </tbody>\n",
       "</table>\n",
       "</div>"
      ],
      "text/plain": [
       "                 Order   Count     Weight\n",
       "0     Acipenseriformes     300  48.526092\n",
       "1           Amiiformes     796  18.288728\n",
       "2       Anguilliformes   10738   1.355730\n",
       "3       Atheriniformes    1166  12.485272\n",
       "4         Aulopiformes    1644   8.855126\n",
       "5    Batrachoidiformes    1297  11.224231\n",
       "6         Beloniformes     986  14.764531\n",
       "7         Beryciformes    2431   5.988411\n",
       "8        Characiformes     310  46.960734\n",
       "9         Clupeiformes    3120   4.665970\n",
       "10       Cypriniformes   37620   0.386970\n",
       "11  Cyprinodontiformes   12783   1.138843\n",
       "12         Elopiformes    1147  12.692090\n",
       "13         Esociformes    4540   3.206570\n",
       "14          Gadiformes     519  28.049764\n",
       "15   Gasterosteiformes    2952   4.931513\n",
       "16     Gobiesociformes    1040  13.997911\n",
       "17    Lepisosteiformes    3763   3.868676\n",
       "18        Lophiiformes    1309  11.121335\n",
       "19        Osmeriformes     808  18.017113\n",
       "20         Perciformes  236071   0.061667\n",
       "21      Percopsiformes     331  43.981352\n",
       "22   Pleuronectiformes    2307   6.310285\n",
       "23       Salmoniformes   16258   0.895425\n",
       "24     Scorpaeniformes   16225   0.897247\n",
       "25        Siluriformes   10575   1.376627\n",
       "26    Synbranchiformes     225  64.701456\n",
       "27     Syngnathiformes   16961   0.858312\n",
       "28   Tetraodontiformes   33955   0.428739"
      ]
     },
     "execution_count": 127,
     "metadata": {},
     "output_type": "execute_result"
    }
   ],
   "source": [
    "weights_df = pd.DataFrame.from_dict({'Order': order, 'Count': count_values, 'Weight': weights})\n",
    "weights_df"
   ]
  },
  {
   "cell_type": "code",
   "execution_count": 128,
   "metadata": {},
   "outputs": [],
   "source": [
    "weights_df.to_csv(WEIGHTS_ORDER_CSV_PATH, index=False)"
   ]
  },
  {
   "cell_type": "markdown",
   "metadata": {},
   "source": [
    "## Families 3 (Sample)"
   ]
  },
  {
   "cell_type": "code",
   "execution_count": 23,
   "metadata": {},
   "outputs": [],
   "source": [
    "df_images_families3 = pd.read_csv(CLEAN_SAMPLE_CSV_PATH)"
   ]
  },
  {
   "cell_type": "code",
   "execution_count": 38,
   "metadata": {},
   "outputs": [],
   "source": [
    "train, test, _, _ = train_test_split(df_images_families3, df_images_families3['Specie'],\n",
    "                                                    stratify=df_images_families3['Specie'], \n",
    "                                                    test_size=0.2, random_state=42)"
   ]
  },
  {
   "cell_type": "code",
   "execution_count": 39,
   "metadata": {
    "scrolled": true
   },
   "outputs": [
    {
     "name": "stderr",
     "output_type": "stream",
     "text": [
      "/home/jossalgon/anaconda3/lib/python3.7/site-packages/ipykernel_launcher.py:1: SettingWithCopyWarning: \n",
      "A value is trying to be set on a copy of a slice from a DataFrame.\n",
      "Try using .loc[row_indexer,col_indexer] = value instead\n",
      "\n",
      "See the caveats in the documentation: https://pandas.pydata.org/pandas-docs/stable/user_guide/indexing.html#returning-a-view-versus-a-copy\n",
      "  \"\"\"Entry point for launching an IPython kernel.\n",
      "/home/jossalgon/anaconda3/lib/python3.7/site-packages/ipykernel_launcher.py:2: SettingWithCopyWarning: \n",
      "A value is trying to be set on a copy of a slice from a DataFrame.\n",
      "Try using .loc[row_indexer,col_indexer] = value instead\n",
      "\n",
      "See the caveats in the documentation: https://pandas.pydata.org/pandas-docs/stable/user_guide/indexing.html#returning-a-view-versus-a-copy\n",
      "  \n"
     ]
    }
   ],
   "source": [
    "train['is_valid'] = False\n",
    "test['is_valid'] = True"
   ]
  },
  {
   "cell_type": "code",
   "execution_count": 40,
   "metadata": {},
   "outputs": [],
   "source": [
    "df_families3_stratified = pd.concat([train, test])"
   ]
  },
  {
   "cell_type": "code",
   "execution_count": 41,
   "metadata": {},
   "outputs": [],
   "source": [
    "df_families3_stratified.to_csv(STRATIFIED_SAMPLE_CSV_PATH, index=False)"
   ]
  },
  {
   "cell_type": "code",
   "execution_count": 24,
   "metadata": {},
   "outputs": [],
   "source": [
    "df_families3_stratified = pd.read_csv(STRATIFIED_SAMPLE_CSV_PATH)"
   ]
  },
  {
   "cell_type": "code",
   "execution_count": 42,
   "metadata": {},
   "outputs": [
    {
     "data": {
      "text/html": [
       "<div>\n",
       "<style scoped>\n",
       "    .dataframe tbody tr th:only-of-type {\n",
       "        vertical-align: middle;\n",
       "    }\n",
       "\n",
       "    .dataframe tbody tr th {\n",
       "        vertical-align: top;\n",
       "    }\n",
       "\n",
       "    .dataframe thead th {\n",
       "        text-align: right;\n",
       "    }\n",
       "</style>\n",
       "<table border=\"1\" class=\"dataframe\">\n",
       "  <thead>\n",
       "    <tr style=\"text-align: right;\">\n",
       "      <th></th>\n",
       "      <th>Order</th>\n",
       "      <th>Family</th>\n",
       "      <th>Subfamily</th>\n",
       "      <th>Genus</th>\n",
       "      <th>Specie</th>\n",
       "      <th>fname</th>\n",
       "      <th>is_valid</th>\n",
       "    </tr>\n",
       "  </thead>\n",
       "  <tbody>\n",
       "    <tr>\n",
       "      <th>73824</th>\n",
       "      <td>Perciformes</td>\n",
       "      <td>Centrarchidae</td>\n",
       "      <td>NaN</td>\n",
       "      <td>Ambloplites</td>\n",
       "      <td>Ambloplites rupestris</td>\n",
       "      <td>Ambloplites rupestris/25240275.jpg</td>\n",
       "      <td>False</td>\n",
       "    </tr>\n",
       "    <tr>\n",
       "      <th>72719</th>\n",
       "      <td>Perciformes</td>\n",
       "      <td>Centrarchidae</td>\n",
       "      <td>NaN</td>\n",
       "      <td>Micropterus</td>\n",
       "      <td>Micropterus salmoides</td>\n",
       "      <td>Micropterus salmoides/65295609.jpg</td>\n",
       "      <td>False</td>\n",
       "    </tr>\n",
       "    <tr>\n",
       "      <th>34808</th>\n",
       "      <td>Perciformes</td>\n",
       "      <td>Centrarchidae</td>\n",
       "      <td>NaN</td>\n",
       "      <td>Micropterus</td>\n",
       "      <td>Micropterus salmoides</td>\n",
       "      <td>Micropterus salmoides/47839127.jpg</td>\n",
       "      <td>False</td>\n",
       "    </tr>\n",
       "    <tr>\n",
       "      <th>52192</th>\n",
       "      <td>Perciformes</td>\n",
       "      <td>Pomacentridae</td>\n",
       "      <td>Pomacentrinae</td>\n",
       "      <td>Abudefduf</td>\n",
       "      <td>Abudefduf abdominalis</td>\n",
       "      <td>Abudefduf abdominalis/14442685.jpg</td>\n",
       "      <td>False</td>\n",
       "    </tr>\n",
       "    <tr>\n",
       "      <th>67390</th>\n",
       "      <td>Perciformes</td>\n",
       "      <td>Pomacentridae</td>\n",
       "      <td>Pomacentrinae</td>\n",
       "      <td>Chromis</td>\n",
       "      <td>Chromis multilineata</td>\n",
       "      <td>Chromis multilineata/49300790.jpg</td>\n",
       "      <td>False</td>\n",
       "    </tr>\n",
       "    <tr>\n",
       "      <th>...</th>\n",
       "      <td>...</td>\n",
       "      <td>...</td>\n",
       "      <td>...</td>\n",
       "      <td>...</td>\n",
       "      <td>...</td>\n",
       "      <td>...</td>\n",
       "      <td>...</td>\n",
       "    </tr>\n",
       "    <tr>\n",
       "      <th>6795</th>\n",
       "      <td>Perciformes</td>\n",
       "      <td>Pomacentridae</td>\n",
       "      <td>Pomacentrinae</td>\n",
       "      <td>Mecaenichthys</td>\n",
       "      <td>Mecaenichthys immaculatus</td>\n",
       "      <td>Mecaenichthys immaculatus/26249475.jpg</td>\n",
       "      <td>True</td>\n",
       "    </tr>\n",
       "    <tr>\n",
       "      <th>46466</th>\n",
       "      <td>Cypriniformes</td>\n",
       "      <td>Cyprinidae</td>\n",
       "      <td>Leuciscinae</td>\n",
       "      <td>Chrosomus</td>\n",
       "      <td>Chrosomus eos</td>\n",
       "      <td>Chrosomus eos/89045981.jpg</td>\n",
       "      <td>True</td>\n",
       "    </tr>\n",
       "    <tr>\n",
       "      <th>42928</th>\n",
       "      <td>Perciformes</td>\n",
       "      <td>Pomacentridae</td>\n",
       "      <td>Pomacentrinae</td>\n",
       "      <td>Pomacentrus</td>\n",
       "      <td>Pomacentrus coelestis</td>\n",
       "      <td>Pomacentrus coelestis/5496001.jpg</td>\n",
       "      <td>True</td>\n",
       "    </tr>\n",
       "    <tr>\n",
       "      <th>82166</th>\n",
       "      <td>Cypriniformes</td>\n",
       "      <td>Cyprinidae</td>\n",
       "      <td>Cyprininae</td>\n",
       "      <td>Cyprinus</td>\n",
       "      <td>Cyprinus carpio</td>\n",
       "      <td>Cyprinus carpio/41270267.jpg</td>\n",
       "      <td>True</td>\n",
       "    </tr>\n",
       "    <tr>\n",
       "      <th>42190</th>\n",
       "      <td>Perciformes</td>\n",
       "      <td>Centrarchidae</td>\n",
       "      <td>NaN</td>\n",
       "      <td>Lepomis</td>\n",
       "      <td>Lepomis cyanellus</td>\n",
       "      <td>Lepomis cyanellus/91535553.jpg</td>\n",
       "      <td>True</td>\n",
       "    </tr>\n",
       "  </tbody>\n",
       "</table>\n",
       "<p>86388 rows × 7 columns</p>\n",
       "</div>"
      ],
      "text/plain": [
       "               Order         Family      Subfamily          Genus  \\\n",
       "73824    Perciformes  Centrarchidae            NaN    Ambloplites   \n",
       "72719    Perciformes  Centrarchidae            NaN    Micropterus   \n",
       "34808    Perciformes  Centrarchidae            NaN    Micropterus   \n",
       "52192    Perciformes  Pomacentridae  Pomacentrinae      Abudefduf   \n",
       "67390    Perciformes  Pomacentridae  Pomacentrinae        Chromis   \n",
       "...              ...            ...            ...            ...   \n",
       "6795     Perciformes  Pomacentridae  Pomacentrinae  Mecaenichthys   \n",
       "46466  Cypriniformes     Cyprinidae    Leuciscinae      Chrosomus   \n",
       "42928    Perciformes  Pomacentridae  Pomacentrinae    Pomacentrus   \n",
       "82166  Cypriniformes     Cyprinidae     Cyprininae       Cyprinus   \n",
       "42190    Perciformes  Centrarchidae            NaN        Lepomis   \n",
       "\n",
       "                          Specie                                   fname  \\\n",
       "73824      Ambloplites rupestris      Ambloplites rupestris/25240275.jpg   \n",
       "72719      Micropterus salmoides      Micropterus salmoides/65295609.jpg   \n",
       "34808      Micropterus salmoides      Micropterus salmoides/47839127.jpg   \n",
       "52192      Abudefduf abdominalis      Abudefduf abdominalis/14442685.jpg   \n",
       "67390       Chromis multilineata       Chromis multilineata/49300790.jpg   \n",
       "...                          ...                                     ...   \n",
       "6795   Mecaenichthys immaculatus  Mecaenichthys immaculatus/26249475.jpg   \n",
       "46466              Chrosomus eos              Chrosomus eos/89045981.jpg   \n",
       "42928      Pomacentrus coelestis       Pomacentrus coelestis/5496001.jpg   \n",
       "82166            Cyprinus carpio            Cyprinus carpio/41270267.jpg   \n",
       "42190          Lepomis cyanellus          Lepomis cyanellus/91535553.jpg   \n",
       "\n",
       "       is_valid  \n",
       "73824     False  \n",
       "72719     False  \n",
       "34808     False  \n",
       "52192     False  \n",
       "67390     False  \n",
       "...         ...  \n",
       "6795       True  \n",
       "46466      True  \n",
       "42928      True  \n",
       "82166      True  \n",
       "42190      True  \n",
       "\n",
       "[86388 rows x 7 columns]"
      ]
     },
     "execution_count": 42,
     "metadata": {},
     "output_type": "execute_result"
    }
   ],
   "source": [
    "df_families3_stratified"
   ]
  },
  {
   "cell_type": "code",
   "execution_count": 43,
   "metadata": {},
   "outputs": [],
   "source": [
    "species_count = df_families3_stratified.groupby('Specie')['Specie'].count()\n",
    "species, count_values = species_count.keys(), species_count.values\n",
    "weights = compute_class_weight('balanced', classes=species, y=df_families3_stratified['Specie'])"
   ]
  },
  {
   "cell_type": "code",
   "execution_count": 44,
   "metadata": {},
   "outputs": [
    {
     "data": {
      "text/html": [
       "<div>\n",
       "<style scoped>\n",
       "    .dataframe tbody tr th:only-of-type {\n",
       "        vertical-align: middle;\n",
       "    }\n",
       "\n",
       "    .dataframe tbody tr th {\n",
       "        vertical-align: top;\n",
       "    }\n",
       "\n",
       "    .dataframe thead th {\n",
       "        text-align: right;\n",
       "    }\n",
       "</style>\n",
       "<table border=\"1\" class=\"dataframe\">\n",
       "  <thead>\n",
       "    <tr style=\"text-align: right;\">\n",
       "      <th></th>\n",
       "      <th>Specie</th>\n",
       "      <th>Count</th>\n",
       "      <th>Weight</th>\n",
       "    </tr>\n",
       "  </thead>\n",
       "  <tbody>\n",
       "    <tr>\n",
       "      <th>0</th>\n",
       "      <td>Abramis brama</td>\n",
       "      <td>300</td>\n",
       "      <td>1.999722</td>\n",
       "    </tr>\n",
       "    <tr>\n",
       "      <th>1</th>\n",
       "      <td>Abudefduf abdominalis</td>\n",
       "      <td>177</td>\n",
       "      <td>3.389360</td>\n",
       "    </tr>\n",
       "    <tr>\n",
       "      <th>2</th>\n",
       "      <td>Abudefduf bengalensis</td>\n",
       "      <td>299</td>\n",
       "      <td>2.006410</td>\n",
       "    </tr>\n",
       "    <tr>\n",
       "      <th>3</th>\n",
       "      <td>Abudefduf saxatilis</td>\n",
       "      <td>1423</td>\n",
       "      <td>0.421586</td>\n",
       "    </tr>\n",
       "    <tr>\n",
       "      <th>4</th>\n",
       "      <td>Abudefduf septemfasciatus</td>\n",
       "      <td>128</td>\n",
       "      <td>4.686849</td>\n",
       "    </tr>\n",
       "    <tr>\n",
       "      <th>...</th>\n",
       "      <td>...</td>\n",
       "      <td>...</td>\n",
       "      <td>...</td>\n",
       "    </tr>\n",
       "    <tr>\n",
       "      <th>139</th>\n",
       "      <td>Stegastes partitus</td>\n",
       "      <td>174</td>\n",
       "      <td>3.447797</td>\n",
       "    </tr>\n",
       "    <tr>\n",
       "      <th>140</th>\n",
       "      <td>Stegastes planifrons</td>\n",
       "      <td>178</td>\n",
       "      <td>3.370318</td>\n",
       "    </tr>\n",
       "    <tr>\n",
       "      <th>141</th>\n",
       "      <td>Systomus rubripinnis</td>\n",
       "      <td>587</td>\n",
       "      <td>1.022005</td>\n",
       "    </tr>\n",
       "    <tr>\n",
       "      <th>142</th>\n",
       "      <td>Telestes muticellus</td>\n",
       "      <td>144</td>\n",
       "      <td>4.166088</td>\n",
       "    </tr>\n",
       "    <tr>\n",
       "      <th>143</th>\n",
       "      <td>Tinca tinca</td>\n",
       "      <td>246</td>\n",
       "      <td>2.438686</td>\n",
       "    </tr>\n",
       "  </tbody>\n",
       "</table>\n",
       "<p>144 rows × 3 columns</p>\n",
       "</div>"
      ],
      "text/plain": [
       "                        Specie  Count    Weight\n",
       "0                Abramis brama    300  1.999722\n",
       "1        Abudefduf abdominalis    177  3.389360\n",
       "2        Abudefduf bengalensis    299  2.006410\n",
       "3          Abudefduf saxatilis   1423  0.421586\n",
       "4    Abudefduf septemfasciatus    128  4.686849\n",
       "..                         ...    ...       ...\n",
       "139         Stegastes partitus    174  3.447797\n",
       "140       Stegastes planifrons    178  3.370318\n",
       "141       Systomus rubripinnis    587  1.022005\n",
       "142        Telestes muticellus    144  4.166088\n",
       "143                Tinca tinca    246  2.438686\n",
       "\n",
       "[144 rows x 3 columns]"
      ]
     },
     "execution_count": 44,
     "metadata": {},
     "output_type": "execute_result"
    }
   ],
   "source": [
    "weights_df = pd.DataFrame.from_dict({'Specie': species, 'Count': count_values, 'Weight': weights})\n",
    "weights_df"
   ]
  },
  {
   "cell_type": "code",
   "execution_count": 45,
   "metadata": {},
   "outputs": [],
   "source": [
    "weights_df.to_csv(WEIGHTS_SAMPLE_CSV_PATH, index=False)"
   ]
  },
  {
   "cell_type": "code",
   "execution_count": 46,
   "metadata": {},
   "outputs": [],
   "source": [
    "families_count = df_families3_stratified.groupby('Family')['Family'].count()\n",
    "families, count_values = families_count.keys(), families_count.values\n",
    "weights = compute_class_weight('balanced', classes=families, y=df_families3_stratified['Family'])"
   ]
  },
  {
   "cell_type": "code",
   "execution_count": 47,
   "metadata": {},
   "outputs": [
    {
     "data": {
      "text/html": [
       "<div>\n",
       "<style scoped>\n",
       "    .dataframe tbody tr th:only-of-type {\n",
       "        vertical-align: middle;\n",
       "    }\n",
       "\n",
       "    .dataframe tbody tr th {\n",
       "        vertical-align: top;\n",
       "    }\n",
       "\n",
       "    .dataframe thead th {\n",
       "        text-align: right;\n",
       "    }\n",
       "</style>\n",
       "<table border=\"1\" class=\"dataframe\">\n",
       "  <thead>\n",
       "    <tr style=\"text-align: right;\">\n",
       "      <th></th>\n",
       "      <th>Family</th>\n",
       "      <th>Count</th>\n",
       "      <th>Weight</th>\n",
       "    </tr>\n",
       "  </thead>\n",
       "  <tbody>\n",
       "    <tr>\n",
       "      <th>0</th>\n",
       "      <td>Centrarchidae</td>\n",
       "      <td>38554</td>\n",
       "      <td>0.746900</td>\n",
       "    </tr>\n",
       "    <tr>\n",
       "      <th>1</th>\n",
       "      <td>Cyprinidae</td>\n",
       "      <td>28196</td>\n",
       "      <td>1.021280</td>\n",
       "    </tr>\n",
       "    <tr>\n",
       "      <th>2</th>\n",
       "      <td>Pomacentridae</td>\n",
       "      <td>19638</td>\n",
       "      <td>1.466341</td>\n",
       "    </tr>\n",
       "  </tbody>\n",
       "</table>\n",
       "</div>"
      ],
      "text/plain": [
       "          Family  Count    Weight\n",
       "0  Centrarchidae  38554  0.746900\n",
       "1     Cyprinidae  28196  1.021280\n",
       "2  Pomacentridae  19638  1.466341"
      ]
     },
     "execution_count": 47,
     "metadata": {},
     "output_type": "execute_result"
    }
   ],
   "source": [
    "weights_df = pd.DataFrame.from_dict({'Family': families, 'Count': count_values, 'Weight': weights})\n",
    "weights_df"
   ]
  },
  {
   "cell_type": "code",
   "execution_count": 48,
   "metadata": {},
   "outputs": [],
   "source": [
    "weights_df.to_csv(WEIGHTS_SAMPLE_FAMILIES_CSV_PATH, index=False)"
   ]
  },
  {
   "cell_type": "code",
   "execution_count": 27,
   "metadata": {},
   "outputs": [],
   "source": [
    "genus_count = df_families3_stratified.groupby('Genus')['Genus'].count()\n",
    "genus, count_values = genus_count.keys(), genus_count.values\n",
    "weights = compute_class_weight('balanced', classes=genus, y=df_families3_stratified['Genus'])"
   ]
  },
  {
   "cell_type": "code",
   "execution_count": 28,
   "metadata": {},
   "outputs": [
    {
     "data": {
      "text/html": [
       "<div>\n",
       "<style scoped>\n",
       "    .dataframe tbody tr th:only-of-type {\n",
       "        vertical-align: middle;\n",
       "    }\n",
       "\n",
       "    .dataframe tbody tr th {\n",
       "        vertical-align: top;\n",
       "    }\n",
       "\n",
       "    .dataframe thead th {\n",
       "        text-align: right;\n",
       "    }\n",
       "</style>\n",
       "<table border=\"1\" class=\"dataframe\">\n",
       "  <thead>\n",
       "    <tr style=\"text-align: right;\">\n",
       "      <th></th>\n",
       "      <th>Genus</th>\n",
       "      <th>Count</th>\n",
       "      <th>Weight</th>\n",
       "    </tr>\n",
       "  </thead>\n",
       "  <tbody>\n",
       "    <tr>\n",
       "      <th>0</th>\n",
       "      <td>Abramis</td>\n",
       "      <td>300</td>\n",
       "      <td>5.142143</td>\n",
       "    </tr>\n",
       "    <tr>\n",
       "      <th>1</th>\n",
       "      <td>Abudefduf</td>\n",
       "      <td>4924</td>\n",
       "      <td>0.313291</td>\n",
       "    </tr>\n",
       "    <tr>\n",
       "      <th>2</th>\n",
       "      <td>Acanthochromis</td>\n",
       "      <td>107</td>\n",
       "      <td>14.417223</td>\n",
       "    </tr>\n",
       "    <tr>\n",
       "      <th>3</th>\n",
       "      <td>Acrossocheilus</td>\n",
       "      <td>454</td>\n",
       "      <td>3.397892</td>\n",
       "    </tr>\n",
       "    <tr>\n",
       "      <th>4</th>\n",
       "      <td>Alburnus</td>\n",
       "      <td>252</td>\n",
       "      <td>6.121599</td>\n",
       "    </tr>\n",
       "    <tr>\n",
       "      <th>5</th>\n",
       "      <td>Ambloplites</td>\n",
       "      <td>1448</td>\n",
       "      <td>1.065361</td>\n",
       "    </tr>\n",
       "    <tr>\n",
       "      <th>6</th>\n",
       "      <td>Amblyglyphidodon</td>\n",
       "      <td>506</td>\n",
       "      <td>3.048701</td>\n",
       "    </tr>\n",
       "    <tr>\n",
       "      <th>7</th>\n",
       "      <td>Amphiprion</td>\n",
       "      <td>3102</td>\n",
       "      <td>0.497306</td>\n",
       "    </tr>\n",
       "    <tr>\n",
       "      <th>8</th>\n",
       "      <td>Barbus</td>\n",
       "      <td>120</td>\n",
       "      <td>12.855357</td>\n",
       "    </tr>\n",
       "    <tr>\n",
       "      <th>9</th>\n",
       "      <td>Campostoma</td>\n",
       "      <td>725</td>\n",
       "      <td>2.127783</td>\n",
       "    </tr>\n",
       "    <tr>\n",
       "      <th>10</th>\n",
       "      <td>Candidia</td>\n",
       "      <td>122</td>\n",
       "      <td>12.644614</td>\n",
       "    </tr>\n",
       "    <tr>\n",
       "      <th>11</th>\n",
       "      <td>Carassius</td>\n",
       "      <td>1502</td>\n",
       "      <td>1.027059</td>\n",
       "    </tr>\n",
       "    <tr>\n",
       "      <th>12</th>\n",
       "      <td>Centrarchus</td>\n",
       "      <td>282</td>\n",
       "      <td>5.470365</td>\n",
       "    </tr>\n",
       "    <tr>\n",
       "      <th>13</th>\n",
       "      <td>Chromis</td>\n",
       "      <td>2263</td>\n",
       "      <td>0.681680</td>\n",
       "    </tr>\n",
       "    <tr>\n",
       "      <th>14</th>\n",
       "      <td>Chrosomus</td>\n",
       "      <td>689</td>\n",
       "      <td>2.238959</td>\n",
       "    </tr>\n",
       "    <tr>\n",
       "      <th>15</th>\n",
       "      <td>Chrysiptera</td>\n",
       "      <td>206</td>\n",
       "      <td>7.488558</td>\n",
       "    </tr>\n",
       "    <tr>\n",
       "      <th>16</th>\n",
       "      <td>Clinostomus</td>\n",
       "      <td>229</td>\n",
       "      <td>6.736432</td>\n",
       "    </tr>\n",
       "    <tr>\n",
       "      <th>17</th>\n",
       "      <td>Ctenopharyngodon</td>\n",
       "      <td>494</td>\n",
       "      <td>3.122759</td>\n",
       "    </tr>\n",
       "    <tr>\n",
       "      <th>18</th>\n",
       "      <td>Cyprinella</td>\n",
       "      <td>1218</td>\n",
       "      <td>1.266538</td>\n",
       "    </tr>\n",
       "    <tr>\n",
       "      <th>19</th>\n",
       "      <td>Cyprinus</td>\n",
       "      <td>6954</td>\n",
       "      <td>0.221835</td>\n",
       "    </tr>\n",
       "    <tr>\n",
       "      <th>20</th>\n",
       "      <td>Dascyllus</td>\n",
       "      <td>1593</td>\n",
       "      <td>0.968388</td>\n",
       "    </tr>\n",
       "    <tr>\n",
       "      <th>21</th>\n",
       "      <td>Enneacanthus</td>\n",
       "      <td>109</td>\n",
       "      <td>14.152687</td>\n",
       "    </tr>\n",
       "    <tr>\n",
       "      <th>22</th>\n",
       "      <td>Gobio</td>\n",
       "      <td>157</td>\n",
       "      <td>9.825751</td>\n",
       "    </tr>\n",
       "    <tr>\n",
       "      <th>23</th>\n",
       "      <td>Hesperoleucus</td>\n",
       "      <td>74</td>\n",
       "      <td>20.846525</td>\n",
       "    </tr>\n",
       "    <tr>\n",
       "      <th>24</th>\n",
       "      <td>Hypophthalmichthys</td>\n",
       "      <td>106</td>\n",
       "      <td>14.553235</td>\n",
       "    </tr>\n",
       "    <tr>\n",
       "      <th>25</th>\n",
       "      <td>Hypsypops</td>\n",
       "      <td>676</td>\n",
       "      <td>2.282016</td>\n",
       "    </tr>\n",
       "    <tr>\n",
       "      <th>26</th>\n",
       "      <td>Lepomis</td>\n",
       "      <td>22205</td>\n",
       "      <td>0.069473</td>\n",
       "    </tr>\n",
       "    <tr>\n",
       "      <th>27</th>\n",
       "      <td>Luxilus</td>\n",
       "      <td>1411</td>\n",
       "      <td>1.093298</td>\n",
       "    </tr>\n",
       "    <tr>\n",
       "      <th>28</th>\n",
       "      <td>Mecaenichthys</td>\n",
       "      <td>360</td>\n",
       "      <td>4.285119</td>\n",
       "    </tr>\n",
       "    <tr>\n",
       "      <th>29</th>\n",
       "      <td>Micropterus</td>\n",
       "      <td>12481</td>\n",
       "      <td>0.123599</td>\n",
       "    </tr>\n",
       "    <tr>\n",
       "      <th>30</th>\n",
       "      <td>Microspathodon</td>\n",
       "      <td>903</td>\n",
       "      <td>1.708353</td>\n",
       "    </tr>\n",
       "    <tr>\n",
       "      <th>31</th>\n",
       "      <td>Neoglyphidodon</td>\n",
       "      <td>245</td>\n",
       "      <td>6.296501</td>\n",
       "    </tr>\n",
       "    <tr>\n",
       "      <th>32</th>\n",
       "      <td>Neopomacentrus</td>\n",
       "      <td>111</td>\n",
       "      <td>13.897683</td>\n",
       "    </tr>\n",
       "    <tr>\n",
       "      <th>33</th>\n",
       "      <td>Nocomis</td>\n",
       "      <td>992</td>\n",
       "      <td>1.555084</td>\n",
       "    </tr>\n",
       "    <tr>\n",
       "      <th>34</th>\n",
       "      <td>Notemigonus</td>\n",
       "      <td>925</td>\n",
       "      <td>1.667722</td>\n",
       "    </tr>\n",
       "    <tr>\n",
       "      <th>35</th>\n",
       "      <td>Notropis</td>\n",
       "      <td>816</td>\n",
       "      <td>1.890494</td>\n",
       "    </tr>\n",
       "    <tr>\n",
       "      <th>36</th>\n",
       "      <td>Opsariichthys</td>\n",
       "      <td>526</td>\n",
       "      <td>2.932781</td>\n",
       "    </tr>\n",
       "    <tr>\n",
       "      <th>37</th>\n",
       "      <td>Parazacco</td>\n",
       "      <td>210</td>\n",
       "      <td>7.345918</td>\n",
       "    </tr>\n",
       "    <tr>\n",
       "      <th>38</th>\n",
       "      <td>Parma</td>\n",
       "      <td>1376</td>\n",
       "      <td>1.121107</td>\n",
       "    </tr>\n",
       "    <tr>\n",
       "      <th>39</th>\n",
       "      <td>Phoxinus</td>\n",
       "      <td>374</td>\n",
       "      <td>4.124714</td>\n",
       "    </tr>\n",
       "    <tr>\n",
       "      <th>40</th>\n",
       "      <td>Pimephales</td>\n",
       "      <td>1509</td>\n",
       "      <td>1.022295</td>\n",
       "    </tr>\n",
       "    <tr>\n",
       "      <th>41</th>\n",
       "      <td>Plectroglyphidodon</td>\n",
       "      <td>312</td>\n",
       "      <td>4.944368</td>\n",
       "    </tr>\n",
       "    <tr>\n",
       "      <th>42</th>\n",
       "      <td>Pomacentrus</td>\n",
       "      <td>1141</td>\n",
       "      <td>1.352010</td>\n",
       "    </tr>\n",
       "    <tr>\n",
       "      <th>43</th>\n",
       "      <td>Pomoxis</td>\n",
       "      <td>2029</td>\n",
       "      <td>0.760297</td>\n",
       "    </tr>\n",
       "    <tr>\n",
       "      <th>44</th>\n",
       "      <td>Premnas</td>\n",
       "      <td>274</td>\n",
       "      <td>5.630083</td>\n",
       "    </tr>\n",
       "    <tr>\n",
       "      <th>45</th>\n",
       "      <td>Pseudorasbora</td>\n",
       "      <td>174</td>\n",
       "      <td>8.865764</td>\n",
       "    </tr>\n",
       "    <tr>\n",
       "      <th>46</th>\n",
       "      <td>Ptychocheilus</td>\n",
       "      <td>144</td>\n",
       "      <td>10.712798</td>\n",
       "    </tr>\n",
       "    <tr>\n",
       "      <th>47</th>\n",
       "      <td>Rhinichthys</td>\n",
       "      <td>1693</td>\n",
       "      <td>0.911189</td>\n",
       "    </tr>\n",
       "    <tr>\n",
       "      <th>48</th>\n",
       "      <td>Rutilus</td>\n",
       "      <td>541</td>\n",
       "      <td>2.851466</td>\n",
       "    </tr>\n",
       "    <tr>\n",
       "      <th>49</th>\n",
       "      <td>Scardinius</td>\n",
       "      <td>569</td>\n",
       "      <td>2.711147</td>\n",
       "    </tr>\n",
       "    <tr>\n",
       "      <th>50</th>\n",
       "      <td>Semotilus</td>\n",
       "      <td>2892</td>\n",
       "      <td>0.533417</td>\n",
       "    </tr>\n",
       "    <tr>\n",
       "      <th>51</th>\n",
       "      <td>Squalius</td>\n",
       "      <td>1047</td>\n",
       "      <td>1.473393</td>\n",
       "    </tr>\n",
       "    <tr>\n",
       "      <th>52</th>\n",
       "      <td>Stegastes</td>\n",
       "      <td>1539</td>\n",
       "      <td>1.002367</td>\n",
       "    </tr>\n",
       "    <tr>\n",
       "      <th>53</th>\n",
       "      <td>Systomus</td>\n",
       "      <td>587</td>\n",
       "      <td>2.628012</td>\n",
       "    </tr>\n",
       "    <tr>\n",
       "      <th>54</th>\n",
       "      <td>Telestes</td>\n",
       "      <td>144</td>\n",
       "      <td>10.712798</td>\n",
       "    </tr>\n",
       "    <tr>\n",
       "      <th>55</th>\n",
       "      <td>Tinca</td>\n",
       "      <td>246</td>\n",
       "      <td>6.270906</td>\n",
       "    </tr>\n",
       "  </tbody>\n",
       "</table>\n",
       "</div>"
      ],
      "text/plain": [
       "                 Genus  Count     Weight\n",
       "0              Abramis    300   5.142143\n",
       "1            Abudefduf   4924   0.313291\n",
       "2       Acanthochromis    107  14.417223\n",
       "3       Acrossocheilus    454   3.397892\n",
       "4             Alburnus    252   6.121599\n",
       "5          Ambloplites   1448   1.065361\n",
       "6     Amblyglyphidodon    506   3.048701\n",
       "7           Amphiprion   3102   0.497306\n",
       "8               Barbus    120  12.855357\n",
       "9           Campostoma    725   2.127783\n",
       "10            Candidia    122  12.644614\n",
       "11           Carassius   1502   1.027059\n",
       "12         Centrarchus    282   5.470365\n",
       "13             Chromis   2263   0.681680\n",
       "14           Chrosomus    689   2.238959\n",
       "15         Chrysiptera    206   7.488558\n",
       "16         Clinostomus    229   6.736432\n",
       "17    Ctenopharyngodon    494   3.122759\n",
       "18          Cyprinella   1218   1.266538\n",
       "19            Cyprinus   6954   0.221835\n",
       "20           Dascyllus   1593   0.968388\n",
       "21        Enneacanthus    109  14.152687\n",
       "22               Gobio    157   9.825751\n",
       "23       Hesperoleucus     74  20.846525\n",
       "24  Hypophthalmichthys    106  14.553235\n",
       "25           Hypsypops    676   2.282016\n",
       "26             Lepomis  22205   0.069473\n",
       "27             Luxilus   1411   1.093298\n",
       "28       Mecaenichthys    360   4.285119\n",
       "29         Micropterus  12481   0.123599\n",
       "30      Microspathodon    903   1.708353\n",
       "31      Neoglyphidodon    245   6.296501\n",
       "32      Neopomacentrus    111  13.897683\n",
       "33             Nocomis    992   1.555084\n",
       "34         Notemigonus    925   1.667722\n",
       "35            Notropis    816   1.890494\n",
       "36       Opsariichthys    526   2.932781\n",
       "37           Parazacco    210   7.345918\n",
       "38               Parma   1376   1.121107\n",
       "39            Phoxinus    374   4.124714\n",
       "40          Pimephales   1509   1.022295\n",
       "41  Plectroglyphidodon    312   4.944368\n",
       "42         Pomacentrus   1141   1.352010\n",
       "43             Pomoxis   2029   0.760297\n",
       "44             Premnas    274   5.630083\n",
       "45       Pseudorasbora    174   8.865764\n",
       "46       Ptychocheilus    144  10.712798\n",
       "47         Rhinichthys   1693   0.911189\n",
       "48             Rutilus    541   2.851466\n",
       "49          Scardinius    569   2.711147\n",
       "50           Semotilus   2892   0.533417\n",
       "51            Squalius   1047   1.473393\n",
       "52           Stegastes   1539   1.002367\n",
       "53            Systomus    587   2.628012\n",
       "54            Telestes    144  10.712798\n",
       "55               Tinca    246   6.270906"
      ]
     },
     "execution_count": 28,
     "metadata": {},
     "output_type": "execute_result"
    }
   ],
   "source": [
    "weights_df = pd.DataFrame.from_dict({'Genus': genus, 'Count': count_values, 'Weight': weights})\n",
    "weights_df"
   ]
  },
  {
   "cell_type": "code",
   "execution_count": 30,
   "metadata": {},
   "outputs": [],
   "source": [
    "weights_df.to_csv(WEIGHTS_SAMPLE_GENUS_CSV_PATH, index=False)"
   ]
  },
  {
   "cell_type": "code",
   "execution_count": 31,
   "metadata": {},
   "outputs": [],
   "source": [
    "order_count = df_families3_stratified.groupby('Order')['Order'].count()\n",
    "order, count_values = order_count.keys(), order_count.values\n",
    "weights = compute_class_weight('balanced', classes=order, y=df_families3_stratified['Order'])"
   ]
  },
  {
   "cell_type": "code",
   "execution_count": 32,
   "metadata": {},
   "outputs": [
    {
     "data": {
      "text/html": [
       "<div>\n",
       "<style scoped>\n",
       "    .dataframe tbody tr th:only-of-type {\n",
       "        vertical-align: middle;\n",
       "    }\n",
       "\n",
       "    .dataframe tbody tr th {\n",
       "        vertical-align: top;\n",
       "    }\n",
       "\n",
       "    .dataframe thead th {\n",
       "        text-align: right;\n",
       "    }\n",
       "</style>\n",
       "<table border=\"1\" class=\"dataframe\">\n",
       "  <thead>\n",
       "    <tr style=\"text-align: right;\">\n",
       "      <th></th>\n",
       "      <th>Order</th>\n",
       "      <th>Count</th>\n",
       "      <th>Weight</th>\n",
       "    </tr>\n",
       "  </thead>\n",
       "  <tbody>\n",
       "    <tr>\n",
       "      <th>0</th>\n",
       "      <td>Cypriniformes</td>\n",
       "      <td>28196</td>\n",
       "      <td>1.531919</td>\n",
       "    </tr>\n",
       "    <tr>\n",
       "      <th>1</th>\n",
       "      <td>Perciformes</td>\n",
       "      <td>58192</td>\n",
       "      <td>0.742267</td>\n",
       "    </tr>\n",
       "  </tbody>\n",
       "</table>\n",
       "</div>"
      ],
      "text/plain": [
       "           Order  Count    Weight\n",
       "0  Cypriniformes  28196  1.531919\n",
       "1    Perciformes  58192  0.742267"
      ]
     },
     "execution_count": 32,
     "metadata": {},
     "output_type": "execute_result"
    }
   ],
   "source": [
    "weights_df = pd.DataFrame.from_dict({'Order': order, 'Count': count_values, 'Weight': weights})\n",
    "weights_df"
   ]
  },
  {
   "cell_type": "code",
   "execution_count": 33,
   "metadata": {},
   "outputs": [],
   "source": [
    "weights_df.to_csv(WEIGHTS_SAMPLE_ORDER_CSV_PATH, index=False)"
   ]
  }
 ],
 "metadata": {
  "kernelspec": {
   "display_name": "Python 3",
   "language": "python",
   "name": "python3"
  },
  "language_info": {
   "codemirror_mode": {
    "name": "ipython",
    "version": 3
   },
   "file_extension": ".py",
   "mimetype": "text/x-python",
   "name": "python",
   "nbconvert_exporter": "python",
   "pygments_lexer": "ipython3",
   "version": "3.7.6"
  }
 },
 "nbformat": 4,
 "nbformat_minor": 4
}
